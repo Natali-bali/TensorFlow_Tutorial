{
  "nbformat": 4,
  "nbformat_minor": 0,
  "metadata": {
    "colab": {
      "name": "09_SkimLit_project.ipynb",
      "provenance": [],
      "collapsed_sections": [],
      "mount_file_id": "1_clat8_GRTX86fCCynrq4yKGBPQKpib4",
      "authorship_tag": "ABX9TyNb7uHRyDMfzcrLvTWIWXdb",
      "include_colab_link": true
    },
    "kernelspec": {
      "name": "python3",
      "display_name": "Python 3"
    },
    "language_info": {
      "name": "python"
    },
    "accelerator": "GPU"
  },
  "cells": [
    {
      "cell_type": "markdown",
      "metadata": {
        "id": "view-in-github",
        "colab_type": "text"
      },
      "source": [
        "<a href=\"https://colab.research.google.com/github/Natali-bali/TensorFlow_Tutorial/blob/master/09_SkimLit_project.ipynb\" target=\"_parent\"><img src=\"https://colab.research.google.com/assets/colab-badge.svg\" alt=\"Open In Colab\"/></a>"
      ]
    },
    {
      "cell_type": "markdown",
      "metadata": {
        "id": "TEfiMcoJAZ6C"
      },
      "source": [
        "#SkimLit Project\n",
        "We're going to be replicating the deep learning model behind the 2017 paper PubMed 200k RCT: a Dataset for Sequenctial Sentence Classification in Medical Abstracts. https://arxiv.org/abs/1710.06071\n",
        "\n",
        "When it was released, the paper presented a new dataset called PubMed 200k RCT which consists of ~200,000 labelled Randomized Controlled Trial (RCT) abstracts.\n",
        "\n",
        "The goal of the dataset was to explore the ability for NLP models to classify sentences which appear in sequential order.\n",
        "In other words, given the abstract of a RCT, what role does each sentence serve in the abstract?\n",
        "\n",
        "*About DataSet:*\n",
        "\n",
        "We present PubMed 200k RCT, a new dataset based on PubMed for sequential sentence classification. The dataset consists of approximately 200,000 abstracts of randomized controlled trials, totaling 2.3 million sentences. Each sentence of each abstract is labeled with their role in the abstract using one of the following classes: background, objective, method, result, or conclusion. \n",
        "\n",
        "https://arxiv.org/pdf/1710.06071.pdf\n",
        "\n",
        "There are 2 datasets, 20k and 200k\n",
        "\n",
        "DataSet from Github https://github.com/Franck-Dernoncourt/pubmed-rct"
      ]
    },
    {
      "cell_type": "markdown",
      "metadata": {
        "id": "QqqegIMA0sD2"
      },
      "source": [
        "## Prepare and explore Data"
      ]
    },
    {
      "cell_type": "markdown",
      "metadata": {
        "id": "min8PTpH1heJ"
      },
      "source": [
        "### Get helper functions"
      ]
    },
    {
      "cell_type": "code",
      "metadata": {
        "id": "zXaGOTvJiqno",
        "colab": {
          "base_uri": "https://localhost:8080/"
        },
        "outputId": "e2f827cf-ee24-46a2-e08c-fc5dcbfc8036"
      },
      "source": [
        "!wget 'https://raw.githubusercontent.com/Natali-bali/TensorFlow_Tutorial/master/helper_functions.py'"
      ],
      "execution_count": null,
      "outputs": [
        {
          "output_type": "stream",
          "text": [
            "--2021-07-22 08:04:45--  https://raw.githubusercontent.com/Natali-bali/TensorFlow_Tutorial/master/helper_functions.py\n",
            "Resolving raw.githubusercontent.com (raw.githubusercontent.com)... 185.199.110.133, 185.199.109.133, 185.199.111.133, ...\n",
            "Connecting to raw.githubusercontent.com (raw.githubusercontent.com)|185.199.110.133|:443... connected.\n",
            "HTTP request sent, awaiting response... 200 OK\n",
            "Length: 11016 (11K) [text/plain]\n",
            "Saving to: ‘helper_functions.py’\n",
            "\n",
            "\rhelper_functions.py   0%[                    ]       0  --.-KB/s               \rhelper_functions.py 100%[===================>]  10.76K  --.-KB/s    in 0s      \n",
            "\n",
            "2021-07-22 08:04:45 (70.3 MB/s) - ‘helper_functions.py’ saved [11016/11016]\n",
            "\n"
          ],
          "name": "stdout"
        }
      ]
    },
    {
      "cell_type": "code",
      "metadata": {
        "id": "z7f1GYdge1ou"
      },
      "source": [
        "import numpy as np\n",
        "import re\n",
        "import os\n",
        "import pandas as pd\n",
        "import spacy\n",
        "import pickle\n",
        "import matplotlib.pyplot as plt\n",
        "import seaborn as sns\n",
        "from helper_functions import plot_confusion_matrix, plot_loss_curves, classes_names, plot_pictures, create_tf_board_callback, unzip_file, compare_historys, walk_through_dir\n",
        "\n",
        "from sklearn.feature_extraction.text import TfidfVectorizer\n",
        "from sklearn.linear_model import LogisticRegression\n",
        "from sklearn.naive_bayes import  MultinomialNB\n",
        "from sklearn.preprocessing import OneHotEncoder\n",
        "from sklearn.metrics import classification_report, accuracy_score, precision_score, f1_score, recall_score\n",
        "\n",
        "from tensorflow.keras.layers import Embedding\n",
        "from tensorflow.keras.layers.experimental.preprocessing import TextVectorization\n",
        "import tensorflow as tf\n",
        "from tensorflow.keras import backend as K\n",
        "from tensorflow.keras import Model, Sequential\n",
        "from tensorflow.keras.layers import Dense, Input, Dropout, Activation, GlobalAveragePooling1D, Flatten, LSTM, GRU, Bidirectional, Conv1D"
      ],
      "execution_count": null,
      "outputs": []
    },
    {
      "cell_type": "markdown",
      "metadata": {
        "id": "B8E4Nk2SaAep"
      },
      "source": [
        "### Imports"
      ]
    },
    {
      "cell_type": "markdown",
      "metadata": {
        "id": "hP4GeNBJ0__j"
      },
      "source": [
        "### Check GPU"
      ]
    },
    {
      "cell_type": "code",
      "metadata": {
        "id": "UQu0evR9xI94",
        "colab": {
          "base_uri": "https://localhost:8080/"
        },
        "outputId": "125eeef8-2f99-4391-dc79-011b0daec39e"
      },
      "source": [
        "# Check for GPU\n",
        "!nvidia-smi -L"
      ],
      "execution_count": null,
      "outputs": [
        {
          "output_type": "stream",
          "text": [
            "GPU 0: Tesla T4 (UUID: GPU-44fa5bc6-4af3-1b44-3df9-d337794774f8)\n"
          ],
          "name": "stdout"
        }
      ]
    },
    {
      "cell_type": "markdown",
      "metadata": {
        "id": "v0921-zWYKcc"
      },
      "source": [
        "### Download Data\n",
        "We are going to use 20k dataset for first experiments"
      ]
    },
    {
      "cell_type": "code",
      "metadata": {
        "id": "NpZ-9exXYUh9",
        "colab": {
          "base_uri": "https://localhost:8080/"
        },
        "outputId": "dad67475-86ef-46b9-8107-1347bc8a3e0e"
      },
      "source": [
        "!git clone https://github.com/Franck-Dernoncourt/pubmed-rct.git"
      ],
      "execution_count": null,
      "outputs": [
        {
          "output_type": "stream",
          "text": [
            "Cloning into 'pubmed-rct'...\n",
            "remote: Enumerating objects: 33, done.\u001b[K\n",
            "remote: Counting objects: 100% (3/3), done.\u001b[K\n",
            "remote: Compressing objects: 100% (3/3), done.\u001b[K\n",
            "remote: Total 33 (delta 0), reused 0 (delta 0), pack-reused 30\u001b[K\n",
            "Unpacking objects: 100% (33/33), done.\n"
          ],
          "name": "stdout"
        }
      ]
    },
    {
      "cell_type": "code",
      "metadata": {
        "id": "VC4SiXjEbmSf",
        "colab": {
          "base_uri": "https://localhost:8080/"
        },
        "outputId": "e345c779-1b96-4214-bde0-c24aae834634"
      },
      "source": [
        "!ls pubmed-rct"
      ],
      "execution_count": null,
      "outputs": [
        {
          "output_type": "stream",
          "text": [
            "PubMed_200k_RCT\n",
            "PubMed_200k_RCT_numbers_replaced_with_at_sign\n",
            "PubMed_20k_RCT\n",
            "PubMed_20k_RCT_numbers_replaced_with_at_sign\n",
            "README.md\n"
          ],
          "name": "stdout"
        }
      ]
    },
    {
      "cell_type": "code",
      "metadata": {
        "id": "HOHZ-AHJzxAJ"
      },
      "source": [
        "data_dir = '/content/pubmed-rct/PubMed_20k_RCT_numbers_replaced_with_at_sign'"
      ],
      "execution_count": null,
      "outputs": []
    },
    {
      "cell_type": "markdown",
      "metadata": {
        "id": "vp9TDerucRZr"
      },
      "source": [
        "### Create DataBases"
      ]
    },
    {
      "cell_type": "code",
      "metadata": {
        "id": "RqkEh0UFxfAt"
      },
      "source": [
        "#Function to get a list of dataset name and links to files\n",
        "def get_links(data_dir):\n",
        "  links = [[link.replace('.txt', ''), data_dir + '/' + link] for link in os.listdir(data_dir)]\n",
        "  return links"
      ],
      "execution_count": null,
      "outputs": []
    },
    {
      "cell_type": "code",
      "metadata": {
        "id": "fQsxc5ibyWoR"
      },
      "source": [
        "#Function to read data from file and return list of strings\n",
        "def read_data(link):\n",
        "  data_list = []\n",
        "  with open(link, \"r\") as file:\n",
        "    line = file.readlines()\n",
        "    data_list.append(line)\n",
        "  return data_list[0]"
      ],
      "execution_count": null,
      "outputs": []
    },
    {
      "cell_type": "code",
      "metadata": {
        "id": "0KmyX4J5yPxx"
      },
      "source": [
        "# Function to write data to DataFrame\n",
        "def prepare_data(data_list):\n",
        "  final_list = []\n",
        "  lines_list = []\n",
        "  n = 0\n",
        "  for line in data_list:\n",
        "    if line.startswith('###'):\n",
        "      id = line.replace('\\n', '').replace('###', '')\n",
        "    elif line.startswith('\\n'):\n",
        "      for line in lines_list:\n",
        "        #Add number of total lines\n",
        "        line.append(len(lines_list))\n",
        "        #Add number of total tokens in line\n",
        "        line.append(len(line[1].split(' ')))\n",
        "        #Add number of total characters in line\n",
        "        line.append(len(line[1]))\n",
        "        final_list.append(line)\n",
        "      lines_list = []\n",
        "      n = 0\n",
        "    else:\n",
        "      line = line.replace('\\n', '')\n",
        "      splited_line = line.split('\\t')\n",
        "      splited_line.append(id)\n",
        "      splited_line.append(n)\n",
        "      lines_list.append(splited_line)\n",
        "      n += 1\n",
        "  df = pd.DataFrame(final_list, columns = ['target', 'text', 'id', 'line_num', 'total_lines', 'tokens', 'characters'])\n",
        "  return df"
      ],
      "execution_count": null,
      "outputs": []
    },
    {
      "cell_type": "code",
      "metadata": {
        "id": "U1lykYjBIYNX"
      },
      "source": [
        "for item in get_links(data_dir):\n",
        "  name = item[0]\n",
        "  link = item[1]\n",
        "  data_list = read_data(link)\n",
        "  df = prepare_data(data_list)\n",
        "  locals()['df_{0}'.format(name)] = df"
      ],
      "execution_count": null,
      "outputs": []
    },
    {
      "cell_type": "code",
      "metadata": {
        "id": "ZFqqRJfpIwdj",
        "colab": {
          "base_uri": "https://localhost:8080/",
          "height": 221
        },
        "outputId": "bfb86d72-8dae-466f-8edc-4a9c0247f01d"
      },
      "source": [
        "df_test.head()"
      ],
      "execution_count": null,
      "outputs": [
        {
          "output_type": "execute_result",
          "data": {
            "text/html": [
              "<div>\n",
              "<style scoped>\n",
              "    .dataframe tbody tr th:only-of-type {\n",
              "        vertical-align: middle;\n",
              "    }\n",
              "\n",
              "    .dataframe tbody tr th {\n",
              "        vertical-align: top;\n",
              "    }\n",
              "\n",
              "    .dataframe thead th {\n",
              "        text-align: right;\n",
              "    }\n",
              "</style>\n",
              "<table border=\"1\" class=\"dataframe\">\n",
              "  <thead>\n",
              "    <tr style=\"text-align: right;\">\n",
              "      <th></th>\n",
              "      <th>target</th>\n",
              "      <th>text</th>\n",
              "      <th>id</th>\n",
              "      <th>line_num</th>\n",
              "      <th>total_lines</th>\n",
              "      <th>tokens</th>\n",
              "      <th>characters</th>\n",
              "    </tr>\n",
              "  </thead>\n",
              "  <tbody>\n",
              "    <tr>\n",
              "      <th>0</th>\n",
              "      <td>BACKGROUND</td>\n",
              "      <td>This study analyzed liver function abnormaliti...</td>\n",
              "      <td>24845963</td>\n",
              "      <td>0</td>\n",
              "      <td>9</td>\n",
              "      <td>21</td>\n",
              "      <td>140</td>\n",
              "    </tr>\n",
              "    <tr>\n",
              "      <th>1</th>\n",
              "      <td>RESULTS</td>\n",
              "      <td>A post hoc analysis was conducted with the use...</td>\n",
              "      <td>24845963</td>\n",
              "      <td>1</td>\n",
              "      <td>9</td>\n",
              "      <td>28</td>\n",
              "      <td>172</td>\n",
              "    </tr>\n",
              "    <tr>\n",
              "      <th>2</th>\n",
              "      <td>RESULTS</td>\n",
              "      <td>Liver function tests ( LFTs ) were measured at...</td>\n",
              "      <td>24845963</td>\n",
              "      <td>2</td>\n",
              "      <td>9</td>\n",
              "      <td>25</td>\n",
              "      <td>122</td>\n",
              "    </tr>\n",
              "    <tr>\n",
              "      <th>3</th>\n",
              "      <td>RESULTS</td>\n",
              "      <td>Survival analyses were used to assess the asso...</td>\n",
              "      <td>24845963</td>\n",
              "      <td>3</td>\n",
              "      <td>9</td>\n",
              "      <td>59</td>\n",
              "      <td>352</td>\n",
              "    </tr>\n",
              "    <tr>\n",
              "      <th>4</th>\n",
              "      <td>RESULTS</td>\n",
              "      <td>The percentage of patients with abnormal LFTs ...</td>\n",
              "      <td>24845963</td>\n",
              "      <td>4</td>\n",
              "      <td>9</td>\n",
              "      <td>16</td>\n",
              "      <td>109</td>\n",
              "    </tr>\n",
              "  </tbody>\n",
              "</table>\n",
              "</div>"
            ],
            "text/plain": [
              "       target  ... characters\n",
              "0  BACKGROUND  ...        140\n",
              "1     RESULTS  ...        172\n",
              "2     RESULTS  ...        122\n",
              "3     RESULTS  ...        352\n",
              "4     RESULTS  ...        109\n",
              "\n",
              "[5 rows x 7 columns]"
            ]
          },
          "metadata": {
            "tags": []
          },
          "execution_count": 11
        }
      ]
    },
    {
      "cell_type": "code",
      "metadata": {
        "id": "Hwf9BJxCI0cM",
        "colab": {
          "base_uri": "https://localhost:8080/",
          "height": 221
        },
        "outputId": "c647e569-8360-4d5f-c21b-c955f9e97fbc"
      },
      "source": [
        "df_dev.head()"
      ],
      "execution_count": null,
      "outputs": [
        {
          "output_type": "execute_result",
          "data": {
            "text/html": [
              "<div>\n",
              "<style scoped>\n",
              "    .dataframe tbody tr th:only-of-type {\n",
              "        vertical-align: middle;\n",
              "    }\n",
              "\n",
              "    .dataframe tbody tr th {\n",
              "        vertical-align: top;\n",
              "    }\n",
              "\n",
              "    .dataframe thead th {\n",
              "        text-align: right;\n",
              "    }\n",
              "</style>\n",
              "<table border=\"1\" class=\"dataframe\">\n",
              "  <thead>\n",
              "    <tr style=\"text-align: right;\">\n",
              "      <th></th>\n",
              "      <th>target</th>\n",
              "      <th>text</th>\n",
              "      <th>id</th>\n",
              "      <th>line_num</th>\n",
              "      <th>total_lines</th>\n",
              "      <th>tokens</th>\n",
              "      <th>characters</th>\n",
              "    </tr>\n",
              "  </thead>\n",
              "  <tbody>\n",
              "    <tr>\n",
              "      <th>0</th>\n",
              "      <td>BACKGROUND</td>\n",
              "      <td>IgE sensitization to Aspergillus fumigatus and...</td>\n",
              "      <td>24290286</td>\n",
              "      <td>0</td>\n",
              "      <td>10</td>\n",
              "      <td>20</td>\n",
              "      <td>134</td>\n",
              "    </tr>\n",
              "    <tr>\n",
              "      <th>1</th>\n",
              "      <td>BACKGROUND</td>\n",
              "      <td>It is not clear whether these patients would b...</td>\n",
              "      <td>24290286</td>\n",
              "      <td>1</td>\n",
              "      <td>10</td>\n",
              "      <td>13</td>\n",
              "      <td>80</td>\n",
              "    </tr>\n",
              "    <tr>\n",
              "      <th>2</th>\n",
              "      <td>OBJECTIVE</td>\n",
              "      <td>We sought to determine whether a @-month cours...</td>\n",
              "      <td>24290286</td>\n",
              "      <td>2</td>\n",
              "      <td>10</td>\n",
              "      <td>25</td>\n",
              "      <td>160</td>\n",
              "    </tr>\n",
              "    <tr>\n",
              "      <th>3</th>\n",
              "      <td>METHODS</td>\n",
              "      <td>Asthmatic patients who were IgE sensitized to ...</td>\n",
              "      <td>24290286</td>\n",
              "      <td>3</td>\n",
              "      <td>10</td>\n",
              "      <td>52</td>\n",
              "      <td>298</td>\n",
              "    </tr>\n",
              "    <tr>\n",
              "      <th>4</th>\n",
              "      <td>METHODS</td>\n",
              "      <td>Primary outcomes were improvement in quality o...</td>\n",
              "      <td>24290286</td>\n",
              "      <td>4</td>\n",
              "      <td>10</td>\n",
              "      <td>32</td>\n",
              "      <td>174</td>\n",
              "    </tr>\n",
              "  </tbody>\n",
              "</table>\n",
              "</div>"
            ],
            "text/plain": [
              "       target  ... characters\n",
              "0  BACKGROUND  ...        134\n",
              "1  BACKGROUND  ...         80\n",
              "2   OBJECTIVE  ...        160\n",
              "3     METHODS  ...        298\n",
              "4     METHODS  ...        174\n",
              "\n",
              "[5 rows x 7 columns]"
            ]
          },
          "metadata": {
            "tags": []
          },
          "execution_count": 12
        }
      ]
    },
    {
      "cell_type": "code",
      "metadata": {
        "id": "F6AJ-9B_I3Uv",
        "colab": {
          "base_uri": "https://localhost:8080/",
          "height": 221
        },
        "outputId": "6a4b3fcc-e1be-407d-87ad-036ef017ffc6"
      },
      "source": [
        "df_train.head()"
      ],
      "execution_count": null,
      "outputs": [
        {
          "output_type": "execute_result",
          "data": {
            "text/html": [
              "<div>\n",
              "<style scoped>\n",
              "    .dataframe tbody tr th:only-of-type {\n",
              "        vertical-align: middle;\n",
              "    }\n",
              "\n",
              "    .dataframe tbody tr th {\n",
              "        vertical-align: top;\n",
              "    }\n",
              "\n",
              "    .dataframe thead th {\n",
              "        text-align: right;\n",
              "    }\n",
              "</style>\n",
              "<table border=\"1\" class=\"dataframe\">\n",
              "  <thead>\n",
              "    <tr style=\"text-align: right;\">\n",
              "      <th></th>\n",
              "      <th>target</th>\n",
              "      <th>text</th>\n",
              "      <th>id</th>\n",
              "      <th>line_num</th>\n",
              "      <th>total_lines</th>\n",
              "      <th>tokens</th>\n",
              "      <th>characters</th>\n",
              "    </tr>\n",
              "  </thead>\n",
              "  <tbody>\n",
              "    <tr>\n",
              "      <th>0</th>\n",
              "      <td>OBJECTIVE</td>\n",
              "      <td>To investigate the efficacy of @ weeks of dail...</td>\n",
              "      <td>24293578</td>\n",
              "      <td>0</td>\n",
              "      <td>12</td>\n",
              "      <td>49</td>\n",
              "      <td>281</td>\n",
              "    </tr>\n",
              "    <tr>\n",
              "      <th>1</th>\n",
              "      <td>METHODS</td>\n",
              "      <td>A total of @ patients with primary knee OA wer...</td>\n",
              "      <td>24293578</td>\n",
              "      <td>1</td>\n",
              "      <td>12</td>\n",
              "      <td>27</td>\n",
              "      <td>137</td>\n",
              "    </tr>\n",
              "    <tr>\n",
              "      <th>2</th>\n",
              "      <td>METHODS</td>\n",
              "      <td>Outcome measures included pain reduction and i...</td>\n",
              "      <td>24293578</td>\n",
              "      <td>2</td>\n",
              "      <td>12</td>\n",
              "      <td>15</td>\n",
              "      <td>111</td>\n",
              "    </tr>\n",
              "    <tr>\n",
              "      <th>3</th>\n",
              "      <td>METHODS</td>\n",
              "      <td>Pain was assessed using the visual analog pain...</td>\n",
              "      <td>24293578</td>\n",
              "      <td>3</td>\n",
              "      <td>12</td>\n",
              "      <td>14</td>\n",
              "      <td>65</td>\n",
              "    </tr>\n",
              "    <tr>\n",
              "      <th>4</th>\n",
              "      <td>METHODS</td>\n",
              "      <td>Secondary outcome measures included the Wester...</td>\n",
              "      <td>24293578</td>\n",
              "      <td>4</td>\n",
              "      <td>12</td>\n",
              "      <td>35</td>\n",
              "      <td>209</td>\n",
              "    </tr>\n",
              "  </tbody>\n",
              "</table>\n",
              "</div>"
            ],
            "text/plain": [
              "      target  ... characters\n",
              "0  OBJECTIVE  ...        281\n",
              "1    METHODS  ...        137\n",
              "2    METHODS  ...        111\n",
              "3    METHODS  ...         65\n",
              "4    METHODS  ...        209\n",
              "\n",
              "[5 rows x 7 columns]"
            ]
          },
          "metadata": {
            "tags": []
          },
          "execution_count": 13
        }
      ]
    },
    {
      "cell_type": "markdown",
      "metadata": {
        "id": "KDcOMnz_LZSM"
      },
      "source": [
        "### Explore our Dataset"
      ]
    },
    {
      "cell_type": "code",
      "metadata": {
        "id": "7pZZ8LNV37QZ"
      },
      "source": [
        "df_total = df_dev.append(df_train, ignore_index=True).append(df_test, ignore_index = True)"
      ],
      "execution_count": null,
      "outputs": []
    },
    {
      "cell_type": "code",
      "metadata": {
        "id": "ACTnkT_kLb5Q",
        "colab": {
          "base_uri": "https://localhost:8080/",
          "height": 333
        },
        "outputId": "061559ad-9637-4b5e-d551-e1658513327d"
      },
      "source": [
        "#Distribution of total lines in each article\n",
        "sns.histplot(data=df_total, x=\"total_lines\", binwidth=3).set(title='Distribution of total lines in each article')"
      ],
      "execution_count": null,
      "outputs": [
        {
          "output_type": "execute_result",
          "data": {
            "text/plain": [
              "[Text(0.5, 1.0, 'Distribution of total lines in each article')]"
            ]
          },
          "metadata": {
            "tags": []
          },
          "execution_count": 15
        },
        {
          "output_type": "display_data",
          "data": {
            "image/png": "[encoded data removed]",
            "text/plain": [
              "<Figure size 432x288 with 1 Axes>"
            ]
          },
          "metadata": {
            "tags": [],
            "needs_background": "light"
          }
        }
      ]
    },
    {
      "cell_type": "code",
      "metadata": {
        "colab": {
          "base_uri": "https://localhost:8080/"
        },
        "id": "3S5G51YNA1bw",
        "outputId": "6620d15a-92e3-4ed4-c50f-1f25c760cae6"
      },
      "source": [
        "# Number of lines of a sequence (article) covers 95% of all data?\n",
        "output_line_len = int(np.percentile(df_total.total_lines.to_list(), 95))\n",
        "output_line_len"
      ],
      "execution_count": null,
      "outputs": [
        {
          "output_type": "execute_result",
          "data": {
            "text/plain": [
              "19"
            ]
          },
          "metadata": {
            "tags": []
          },
          "execution_count": 16
        }
      ]
    },
    {
      "cell_type": "code",
      "metadata": {
        "colab": {
          "base_uri": "https://localhost:8080/",
          "height": 333
        },
        "id": "herV909M7XeX",
        "outputId": "dacfeec6-66be-4d47-8fb2-ce51c7aded00"
      },
      "source": [
        "#Distribution of line numbers\n",
        "sns.histplot(data = df_total, x=\"line_num\", binwidth=3).set(title='Distribution of number of sentance position')"
      ],
      "execution_count": null,
      "outputs": [
        {
          "output_type": "execute_result",
          "data": {
            "text/plain": [
              "[Text(0.5, 1.0, 'Distribution of number of sentance position')]"
            ]
          },
          "metadata": {
            "tags": []
          },
          "execution_count": 173
        },
        {
          "output_type": "display_data",
          "data": {
            "image/png": "[encoded data removed]",
            "text/plain": [
              "<Figure size 432x288 with 1 Axes>"
            ]
          },
          "metadata": {
            "tags": [],
            "needs_background": "light"
          }
        }
      ]
    },
    {
      "cell_type": "code",
      "metadata": {
        "colab": {
          "base_uri": "https://localhost:8080/"
        },
        "id": "2u8ojbu176QC",
        "outputId": "51dbeddd-1b78-4505-ef5d-2fb93f6f465c"
      },
      "source": [
        "# Number of line position of a sentence covers 95% of all data?\n",
        "output_pos_len = int(np.percentile(df_total.line_num.to_list(), 95))\n",
        "output_pos_len"
      ],
      "execution_count": null,
      "outputs": [
        {
          "output_type": "execute_result",
          "data": {
            "text/plain": [
              "13"
            ]
          },
          "metadata": {
            "tags": []
          },
          "execution_count": 174
        }
      ]
    },
    {
      "cell_type": "code",
      "metadata": {
        "id": "nbxecIdQaPeD",
        "colab": {
          "base_uri": "https://localhost:8080/",
          "height": 332
        },
        "outputId": "f798c576-1113-4bf5-fbf7-f76263f8ef14"
      },
      "source": [
        "#Distribution of count of tokens in each line\n",
        "sns.histplot(data = df_total, x=\"tokens\", binwidth=3).set(title='Distribution of number of tokens in each article')"
      ],
      "execution_count": null,
      "outputs": [
        {
          "output_type": "execute_result",
          "data": {
            "text/plain": [
              "[Text(0.5, 1.0, 'Distribution of number of tokens in each article')]"
            ]
          },
          "metadata": {
            "tags": []
          },
          "execution_count": 17
        },
        {
          "output_type": "display_data",
          "data": {
            "image/png": "[encoded data removed]",
            "text/plain": [
              "<Figure size 432x288 with 1 Axes>"
            ]
          },
          "metadata": {
            "tags": [],
            "needs_background": "light"
          }
        }
      ]
    },
    {
      "cell_type": "code",
      "metadata": {
        "colab": {
          "base_uri": "https://localhost:8080/"
        },
        "id": "g61PaYKE_txs",
        "outputId": "9dc21d09-8e20-4fd3-8048-d0c02e47e129"
      },
      "source": [
        "# Number of tokens of a sentence covers 95% of all data?\n",
        "output_seq_len = int(np.percentile(df_total.tokens.to_list(), 95))\n",
        "output_seq_len"
      ],
      "execution_count": null,
      "outputs": [
        {
          "output_type": "execute_result",
          "data": {
            "text/plain": [
              "55"
            ]
          },
          "metadata": {
            "tags": []
          },
          "execution_count": 18
        }
      ]
    },
    {
      "cell_type": "code",
      "metadata": {
        "id": "1HPIrKKhafn4",
        "colab": {
          "base_uri": "https://localhost:8080/",
          "height": 332
        },
        "outputId": "4eae1a45-e52d-4960-f666-e69b30c75ef2"
      },
      "source": [
        "#Number of charcters in each line\n",
        "sns.histplot(data=df_total, x=\"characters\", bins=30).set(title='Distribution of number of characters in each article')"
      ],
      "execution_count": null,
      "outputs": [
        {
          "output_type": "execute_result",
          "data": {
            "text/plain": [
              "[Text(0.5, 1.0, 'Distribution of number of characters in each article')]"
            ]
          },
          "metadata": {
            "tags": []
          },
          "execution_count": 19
        },
        {
          "output_type": "display_data",
          "data": {
            "image/png": "[encoded data removed]",
            "text/plain": [
              "<Figure size 432x288 with 1 Axes>"
            ]
          },
          "metadata": {
            "tags": [],
            "needs_background": "light"
          }
        }
      ]
    },
    {
      "cell_type": "code",
      "metadata": {
        "colab": {
          "base_uri": "https://localhost:8080/"
        },
        "id": "2NdZe2aEAlQC",
        "outputId": "96741423-60ad-4f0c-d0da-5533e637b2ab"
      },
      "source": [
        "# Number of characters of a sentence covers 95% of all data?\n",
        "output_char_len = int(np.percentile(df_total.characters.to_list(), 95))\n",
        "output_char_len"
      ],
      "execution_count": null,
      "outputs": [
        {
          "output_type": "execute_result",
          "data": {
            "text/plain": [
              "290"
            ]
          },
          "metadata": {
            "tags": []
          },
          "execution_count": 20
        }
      ]
    },
    {
      "cell_type": "code",
      "metadata": {
        "id": "RdPKf3fWLvMp",
        "colab": {
          "base_uri": "https://localhost:8080/"
        },
        "outputId": "e97a9e4f-5203-4cdc-ad53-f466a1963d42"
      },
      "source": [
        "df_train.target.value_counts()"
      ],
      "execution_count": null,
      "outputs": [
        {
          "output_type": "execute_result",
          "data": {
            "text/plain": [
              "METHODS        59353\n",
              "RESULTS        57953\n",
              "CONCLUSIONS    27168\n",
              "BACKGROUND     21727\n",
              "OBJECTIVE      13839\n",
              "Name: target, dtype: int64"
            ]
          },
          "metadata": {
            "tags": []
          },
          "execution_count": 21
        }
      ]
    },
    {
      "cell_type": "markdown",
      "metadata": {
        "id": "nhVRGMm3BJ6_"
      },
      "source": [
        "### Conclusion:\n",
        "We can see that our dataset is pretty balanced. We have some outliers, so we will use in our experiments maximum number which covers 95% of our data."
      ]
    },
    {
      "cell_type": "markdown",
      "metadata": {
        "id": "ibWhU7HObVIT"
      },
      "source": [
        "### Assign numerical labels"
      ]
    },
    {
      "cell_type": "code",
      "metadata": {
        "id": "dSn7JlR0L58N",
        "colab": {
          "base_uri": "https://localhost:8080/"
        },
        "outputId": "e2f2f595-1043-4560-ef95-09249883b778"
      },
      "source": [
        "classes = df_train.target.unique()\n",
        "classes"
      ],
      "execution_count": null,
      "outputs": [
        {
          "output_type": "execute_result",
          "data": {
            "text/plain": [
              "array(['OBJECTIVE', 'METHODS', 'RESULTS', 'CONCLUSIONS', 'BACKGROUND'],\n",
              "      dtype=object)"
            ]
          },
          "metadata": {
            "tags": []
          },
          "execution_count": 22
        }
      ]
    },
    {
      "cell_type": "code",
      "metadata": {
        "id": "MfztgT6ubhYa"
      },
      "source": [
        "def num_classes(df):\n",
        "  df['label'] = ['']*len(df)\n",
        "  for cl, i in zip(classes, range(len(classes))):\n",
        "    df.loc[df.target == cl, 'label'] = i\n",
        "  df['label'] = df['label'].astype(int)  \n",
        "  return df"
      ],
      "execution_count": null,
      "outputs": []
    },
    {
      "cell_type": "code",
      "metadata": {
        "id": "39JauMCIdeoH"
      },
      "source": [
        "df_dev = num_classes(df_dev)\n",
        "df_test = num_classes(df_test)\n",
        "df_train = num_classes(df_train)"
      ],
      "execution_count": null,
      "outputs": []
    },
    {
      "cell_type": "code",
      "metadata": {
        "id": "ccOqHrfrdoKp",
        "colab": {
          "base_uri": "https://localhost:8080/",
          "height": 221
        },
        "outputId": "7e66f07e-57e3-4a3f-b0c2-16e6e66533f9"
      },
      "source": [
        "df_train.head()"
      ],
      "execution_count": null,
      "outputs": [
        {
          "output_type": "execute_result",
          "data": {
            "text/html": [
              "<div>\n",
              "<style scoped>\n",
              "    .dataframe tbody tr th:only-of-type {\n",
              "        vertical-align: middle;\n",
              "    }\n",
              "\n",
              "    .dataframe tbody tr th {\n",
              "        vertical-align: top;\n",
              "    }\n",
              "\n",
              "    .dataframe thead th {\n",
              "        text-align: right;\n",
              "    }\n",
              "</style>\n",
              "<table border=\"1\" class=\"dataframe\">\n",
              "  <thead>\n",
              "    <tr style=\"text-align: right;\">\n",
              "      <th></th>\n",
              "      <th>target</th>\n",
              "      <th>text</th>\n",
              "      <th>id</th>\n",
              "      <th>line_num</th>\n",
              "      <th>total_lines</th>\n",
              "      <th>tokens</th>\n",
              "      <th>characters</th>\n",
              "      <th>label</th>\n",
              "    </tr>\n",
              "  </thead>\n",
              "  <tbody>\n",
              "    <tr>\n",
              "      <th>0</th>\n",
              "      <td>OBJECTIVE</td>\n",
              "      <td>To investigate the efficacy of @ weeks of dail...</td>\n",
              "      <td>24293578</td>\n",
              "      <td>0</td>\n",
              "      <td>12</td>\n",
              "      <td>49</td>\n",
              "      <td>281</td>\n",
              "      <td>0</td>\n",
              "    </tr>\n",
              "    <tr>\n",
              "      <th>1</th>\n",
              "      <td>METHODS</td>\n",
              "      <td>A total of @ patients with primary knee OA wer...</td>\n",
              "      <td>24293578</td>\n",
              "      <td>1</td>\n",
              "      <td>12</td>\n",
              "      <td>27</td>\n",
              "      <td>137</td>\n",
              "      <td>1</td>\n",
              "    </tr>\n",
              "    <tr>\n",
              "      <th>2</th>\n",
              "      <td>METHODS</td>\n",
              "      <td>Outcome measures included pain reduction and i...</td>\n",
              "      <td>24293578</td>\n",
              "      <td>2</td>\n",
              "      <td>12</td>\n",
              "      <td>15</td>\n",
              "      <td>111</td>\n",
              "      <td>1</td>\n",
              "    </tr>\n",
              "    <tr>\n",
              "      <th>3</th>\n",
              "      <td>METHODS</td>\n",
              "      <td>Pain was assessed using the visual analog pain...</td>\n",
              "      <td>24293578</td>\n",
              "      <td>3</td>\n",
              "      <td>12</td>\n",
              "      <td>14</td>\n",
              "      <td>65</td>\n",
              "      <td>1</td>\n",
              "    </tr>\n",
              "    <tr>\n",
              "      <th>4</th>\n",
              "      <td>METHODS</td>\n",
              "      <td>Secondary outcome measures included the Wester...</td>\n",
              "      <td>24293578</td>\n",
              "      <td>4</td>\n",
              "      <td>12</td>\n",
              "      <td>35</td>\n",
              "      <td>209</td>\n",
              "      <td>1</td>\n",
              "    </tr>\n",
              "  </tbody>\n",
              "</table>\n",
              "</div>"
            ],
            "text/plain": [
              "      target  ... label\n",
              "0  OBJECTIVE  ...     0\n",
              "1    METHODS  ...     1\n",
              "2    METHODS  ...     1\n",
              "3    METHODS  ...     1\n",
              "4    METHODS  ...     1\n",
              "\n",
              "[5 rows x 8 columns]"
            ]
          },
          "metadata": {
            "tags": []
          },
          "execution_count": 25
        }
      ]
    },
    {
      "cell_type": "code",
      "metadata": {
        "id": "qcObGoebqTuA",
        "colab": {
          "base_uri": "https://localhost:8080/"
        },
        "outputId": "71cfc20b-2a78-4ec5-e0ae-a1d040265a8b"
      },
      "source": [
        "df_train.dtypes"
      ],
      "execution_count": null,
      "outputs": [
        {
          "output_type": "execute_result",
          "data": {
            "text/plain": [
              "target         object\n",
              "text           object\n",
              "id             object\n",
              "line_num        int64\n",
              "total_lines     int64\n",
              "tokens          int64\n",
              "characters      int64\n",
              "label           int64\n",
              "dtype: object"
            ]
          },
          "metadata": {
            "tags": []
          },
          "execution_count": 26
        }
      ]
    },
    {
      "cell_type": "markdown",
      "metadata": {
        "id": "Yy4KLFEtepxI"
      },
      "source": [
        "### Set up train, test and validation datasets"
      ]
    },
    {
      "cell_type": "code",
      "metadata": {
        "id": "ZeHhxQq_dqvr"
      },
      "source": [
        "X_train = df_train['text'].tolist()\n",
        "y_train = df_train['label']\n",
        "X_test = df_test['text'].tolist()\n",
        "y_test = df_test['label']\n",
        "X_val = df_dev['text'].tolist()\n",
        "y_val = df_dev['label']"
      ],
      "execution_count": null,
      "outputs": []
    },
    {
      "cell_type": "markdown",
      "metadata": {
        "id": "Z5YF8JSR75L4"
      },
      "source": [
        "### Set up One Hot Encoded labels"
      ]
    },
    {
      "cell_type": "code",
      "metadata": {
        "id": "jowVTKQGxd8f"
      },
      "source": [
        "enc = OneHotEncoder(sparse=False)\n",
        "y_train_one_hot =  enc.fit_transform(y_train.to_numpy().reshape(-1, 1))\n",
        "y_val_one_hot =  enc.transform(y_val.to_numpy().reshape(-1, 1))\n",
        "y_test_one_hot =  enc.transform(y_test.to_numpy().reshape(-1, 1))"
      ],
      "execution_count": null,
      "outputs": []
    },
    {
      "cell_type": "code",
      "metadata": {
        "id": "8n1v52mXlpT8",
        "colab": {
          "base_uri": "https://localhost:8080/"
        },
        "outputId": "90fea119-bd28-4b47-935f-89194bfd3a8c"
      },
      "source": [
        "y_train_one_hot"
      ],
      "execution_count": null,
      "outputs": [
        {
          "output_type": "execute_result",
          "data": {
            "text/plain": [
              "array([[1., 0., 0., 0., 0.],\n",
              "       [0., 1., 0., 0., 0.],\n",
              "       [0., 1., 0., 0., 0.],\n",
              "       ...,\n",
              "       [0., 0., 1., 0., 0.],\n",
              "       [0., 0., 0., 1., 0.],\n",
              "       [0., 0., 0., 1., 0.]])"
            ]
          },
          "metadata": {
            "tags": []
          },
          "execution_count": 29
        }
      ]
    },
    {
      "cell_type": "code",
      "metadata": {
        "id": "H_Y-f1GAm--N"
      },
      "source": [
        "y_train = df_train['label'].tolist()\n",
        "y_test = df_test['label'].tolist()\n",
        "y_val = df_dev['label'].tolist()"
      ],
      "execution_count": null,
      "outputs": []
    },
    {
      "cell_type": "code",
      "metadata": {
        "id": "hW1riC0ynKVj",
        "colab": {
          "base_uri": "https://localhost:8080/"
        },
        "outputId": "939dda35-e65d-4af1-e9be-c88112657dcb"
      },
      "source": [
        "y_test[:4]"
      ],
      "execution_count": null,
      "outputs": [
        {
          "output_type": "execute_result",
          "data": {
            "text/plain": [
              "[4, 2, 2, 2]"
            ]
          },
          "metadata": {
            "tags": []
          },
          "execution_count": 31
        }
      ]
    },
    {
      "cell_type": "markdown",
      "metadata": {
        "id": "JzPHDp1J8G6L"
      },
      "source": [
        "## Build Base models (LR and NB)"
      ]
    },
    {
      "cell_type": "markdown",
      "metadata": {
        "id": "REZFYNUPe_mK"
      },
      "source": [
        "### Base Line Model Logistic Regression (LR)"
      ]
    },
    {
      "cell_type": "code",
      "metadata": {
        "id": "HwsQFOciiiMu",
        "colab": {
          "base_uri": "https://localhost:8080/"
        },
        "outputId": "40012cd6-23c1-4e25-d69d-6ae75aed3564"
      },
      "source": [
        "X_train[:5]"
      ],
      "execution_count": null,
      "outputs": [
        {
          "output_type": "execute_result",
          "data": {
            "text/plain": [
              "['To investigate the efficacy of @ weeks of daily low-dose oral prednisolone in improving pain , mobility , and systemic low-grade inflammation in the short term and whether the effect would be sustained at @ weeks in older adults with moderate to severe knee osteoarthritis ( OA ) .',\n",
              " 'A total of @ patients with primary knee OA were randomized @:@ ; @ received @ mg/day of prednisolone and @ received placebo for @ weeks .',\n",
              " 'Outcome measures included pain reduction and improvement in function scores and systemic inflammation markers .',\n",
              " 'Pain was assessed using the visual analog pain scale ( @-@ mm ) .',\n",
              " 'Secondary outcome measures included the Western Ontario and McMaster Universities Osteoarthritis Index scores , patient global assessment ( PGA ) of the severity of knee OA , and @-min walk distance ( @MWD ) .']"
            ]
          },
          "metadata": {
            "tags": []
          },
          "execution_count": 32
        }
      ]
    },
    {
      "cell_type": "code",
      "metadata": {
        "id": "vFEugUUrfach"
      },
      "source": [
        "X = X_test + X_train"
      ],
      "execution_count": null,
      "outputs": []
    },
    {
      "cell_type": "code",
      "metadata": {
        "id": "HMESpTowfn94",
        "colab": {
          "base_uri": "https://localhost:8080/"
        },
        "outputId": "9213c3c7-a184-4651-9db2-338dc29f13b4"
      },
      "source": [
        "len(X), len(X_train), len(X_test), len(y_train)"
      ],
      "execution_count": null,
      "outputs": [
        {
          "output_type": "execute_result",
          "data": {
            "text/plain": [
              "(210175, 180040, 30135, 180040)"
            ]
          },
          "metadata": {
            "tags": []
          },
          "execution_count": 34
        }
      ]
    },
    {
      "cell_type": "code",
      "metadata": {
        "id": "3jZN94RunCrC",
        "colab": {
          "base_uri": "https://localhost:8080/"
        },
        "outputId": "f1cb2708-4b63-4017-a8b1-aed279d18fc8"
      },
      "source": [
        "y_train[:5]"
      ],
      "execution_count": null,
      "outputs": [
        {
          "output_type": "execute_result",
          "data": {
            "text/plain": [
              "[0, 1, 1, 1, 1]"
            ]
          },
          "metadata": {
            "tags": []
          },
          "execution_count": 35
        }
      ]
    },
    {
      "cell_type": "code",
      "metadata": {
        "id": "bvXznDk-Vy2N"
      },
      "source": [
        "tfid_vect = TfidfVectorizer()\n",
        "X_train_tfid = tfid_vect.fit_transform(X_train)\n",
        "X_test_tfid = tfid_vect.transform(X_test)"
      ],
      "execution_count": null,
      "outputs": []
    },
    {
      "cell_type": "code",
      "metadata": {
        "id": "WMVDsf-igcYN"
      },
      "source": [
        "base_model = LogisticRegression(multi_class='multinomial', solver='lbfgs', max_iter=1000)"
      ],
      "execution_count": null,
      "outputs": []
    },
    {
      "cell_type": "code",
      "metadata": {
        "id": "G8ToBDD-jrLy",
        "colab": {
          "base_uri": "https://localhost:8080/"
        },
        "outputId": "e76683eb-f9f6-4308-e1df-4cdeee44269d"
      },
      "source": [
        "base_model.fit(X_train_tfid, y_train)"
      ],
      "execution_count": null,
      "outputs": [
        {
          "output_type": "execute_result",
          "data": {
            "text/plain": [
              "LogisticRegression(C=1.0, class_weight=None, dual=False, fit_intercept=True,\n",
              "                   intercept_scaling=1, l1_ratio=None, max_iter=1000,\n",
              "                   multi_class='multinomial', n_jobs=None, penalty='l2',\n",
              "                   random_state=None, solver='lbfgs', tol=0.0001, verbose=0,\n",
              "                   warm_start=False)"
            ]
          },
          "metadata": {
            "tags": []
          },
          "execution_count": 67
        }
      ]
    },
    {
      "cell_type": "markdown",
      "metadata": {
        "id": "d1hExsQfBmzT"
      },
      "source": [
        "#### Save Base Model to GoggleDrive"
      ]
    },
    {
      "cell_type": "code",
      "metadata": {
        "id": "buj-HM-w8q_V"
      },
      "source": [
        "filename = '/content/drive/MyDrive/projects/SPICED/models/SkimLit_base_model.sav'"
      ],
      "execution_count": null,
      "outputs": []
    },
    {
      "cell_type": "code",
      "metadata": {
        "id": "TYwPUjO2aJSy"
      },
      "source": [
        "# save the model to disk\n",
        "pickle.dump(base_model, open(filename, 'wb')) "
      ],
      "execution_count": null,
      "outputs": []
    },
    {
      "cell_type": "markdown",
      "metadata": {
        "id": "nYvmyhhjaPlT"
      },
      "source": [
        "#### Load Base Model"
      ]
    },
    {
      "cell_type": "code",
      "metadata": {
        "id": "S-pyw6oaBUjO"
      },
      "source": [
        "# load the model from disk\n",
        "loaded_base_model = pickle.load(open(filename, 'rb'))"
      ],
      "execution_count": null,
      "outputs": []
    },
    {
      "cell_type": "markdown",
      "metadata": {
        "id": "AxJJv_0WCWKD"
      },
      "source": [
        "#### Make predictions"
      ]
    },
    {
      "cell_type": "code",
      "metadata": {
        "id": "3SMeaX-vj4kv"
      },
      "source": [
        "base_pred = loaded_base_model.predict(X_test_tfid)"
      ],
      "execution_count": null,
      "outputs": []
    },
    {
      "cell_type": "code",
      "metadata": {
        "id": "TdmkdOP1nY2R",
        "colab": {
          "base_uri": "https://localhost:8080/"
        },
        "outputId": "4d745cc1-9196-40b6-b099-298bcf5a0684"
      },
      "source": [
        "base_pred[:5], y_test[:5]"
      ],
      "execution_count": null,
      "outputs": [
        {
          "output_type": "execute_result",
          "data": {
            "text/plain": [
              "(array([4, 1, 1, 1, 2]), [4, 2, 2, 2, 2])"
            ]
          },
          "metadata": {
            "tags": []
          },
          "execution_count": 47
        }
      ]
    },
    {
      "cell_type": "markdown",
      "metadata": {
        "id": "sQNbAI3iuVNV"
      },
      "source": [
        "#### Save results in DataFrame"
      ]
    },
    {
      "cell_type": "code",
      "metadata": {
        "id": "TEvAEa2GuT82"
      },
      "source": [
        "df_results = pd.DataFrame(columns = ['model', 'accuracy'])"
      ],
      "execution_count": null,
      "outputs": []
    },
    {
      "cell_type": "code",
      "metadata": {
        "id": "4q61h5ACu92R"
      },
      "source": [
        "def save_results(model, y_test, y_pred):\n",
        "  global df_results\n",
        "  scores = [model, accuracy_score(y_test, y_pred)]\n",
        "  df_results.loc[len(df_results)] = scores\n",
        "  #79713"
      ],
      "execution_count": null,
      "outputs": []
    },
    {
      "cell_type": "code",
      "metadata": {
        "id": "46GCktzuPplE",
        "colab": {
          "base_uri": "https://localhost:8080/",
          "height": 191
        },
        "outputId": "c3f03827-50a2-467f-d8e4-802274b00fa4"
      },
      "source": [
        "pd.DataFrame(classification_report(y_test, base_pred, output_dict = True))"
      ],
      "execution_count": null,
      "outputs": [
        {
          "output_type": "execute_result",
          "data": {
            "text/html": [
              "<div>\n",
              "<style scoped>\n",
              "    .dataframe tbody tr th:only-of-type {\n",
              "        vertical-align: middle;\n",
              "    }\n",
              "\n",
              "    .dataframe tbody tr th {\n",
              "        vertical-align: top;\n",
              "    }\n",
              "\n",
              "    .dataframe thead th {\n",
              "        text-align: right;\n",
              "    }\n",
              "</style>\n",
              "<table border=\"1\" class=\"dataframe\">\n",
              "  <thead>\n",
              "    <tr style=\"text-align: right;\">\n",
              "      <th></th>\n",
              "      <th>0</th>\n",
              "      <th>1</th>\n",
              "      <th>2</th>\n",
              "      <th>3</th>\n",
              "      <th>4</th>\n",
              "      <th>accuracy</th>\n",
              "      <th>macro avg</th>\n",
              "      <th>weighted avg</th>\n",
              "    </tr>\n",
              "  </thead>\n",
              "  <tbody>\n",
              "    <tr>\n",
              "      <th>precision</th>\n",
              "      <td>0.673088</td>\n",
              "      <td>0.847249</td>\n",
              "      <td>0.853384</td>\n",
              "      <td>0.727646</td>\n",
              "      <td>0.643231</td>\n",
              "      <td>0.796781</td>\n",
              "      <td>0.748919</td>\n",
              "      <td>0.793086</td>\n",
              "    </tr>\n",
              "    <tr>\n",
              "      <th>recall</th>\n",
              "      <td>0.524218</td>\n",
              "      <td>0.902294</td>\n",
              "      <td>0.858128</td>\n",
              "      <td>0.697878</td>\n",
              "      <td>0.644297</td>\n",
              "      <td>0.796781</td>\n",
              "      <td>0.725363</td>\n",
              "      <td>0.796781</td>\n",
              "    </tr>\n",
              "    <tr>\n",
              "      <th>f1-score</th>\n",
              "      <td>0.589398</td>\n",
              "      <td>0.873905</td>\n",
              "      <td>0.855749</td>\n",
              "      <td>0.712451</td>\n",
              "      <td>0.643764</td>\n",
              "      <td>0.796781</td>\n",
              "      <td>0.735053</td>\n",
              "      <td>0.793884</td>\n",
              "    </tr>\n",
              "    <tr>\n",
              "      <th>support</th>\n",
              "      <td>2333.000000</td>\n",
              "      <td>9897.000000</td>\n",
              "      <td>9713.000000</td>\n",
              "      <td>4571.000000</td>\n",
              "      <td>3621.000000</td>\n",
              "      <td>0.796781</td>\n",
              "      <td>30135.000000</td>\n",
              "      <td>30135.000000</td>\n",
              "    </tr>\n",
              "  </tbody>\n",
              "</table>\n",
              "</div>"
            ],
            "text/plain": [
              "                     0            1  ...     macro avg  weighted avg\n",
              "precision     0.673088     0.847249  ...      0.748919      0.793086\n",
              "recall        0.524218     0.902294  ...      0.725363      0.796781\n",
              "f1-score      0.589398     0.873905  ...      0.735053      0.793884\n",
              "support    2333.000000  9897.000000  ...  30135.000000  30135.000000\n",
              "\n",
              "[4 rows x 8 columns]"
            ]
          },
          "metadata": {
            "tags": []
          },
          "execution_count": 50
        }
      ]
    },
    {
      "cell_type": "code",
      "metadata": {
        "id": "5zU5JaWctYG6",
        "colab": {
          "base_uri": "https://localhost:8080/",
          "height": 100
        },
        "outputId": "5a9a61f2-1298-42d3-abee-8cbc3c7b7456"
      },
      "source": [
        "save_results('LR_base', y_test, base_pred)\n",
        "df_results"
      ],
      "execution_count": null,
      "outputs": [
        {
          "output_type": "execute_result",
          "data": {
            "text/html": [
              "<div>\n",
              "<style scoped>\n",
              "    .dataframe tbody tr th:only-of-type {\n",
              "        vertical-align: middle;\n",
              "    }\n",
              "\n",
              "    .dataframe tbody tr th {\n",
              "        vertical-align: top;\n",
              "    }\n",
              "\n",
              "    .dataframe thead th {\n",
              "        text-align: right;\n",
              "    }\n",
              "</style>\n",
              "<table border=\"1\" class=\"dataframe\">\n",
              "  <thead>\n",
              "    <tr style=\"text-align: right;\">\n",
              "      <th></th>\n",
              "      <th>model</th>\n",
              "      <th>accuracy</th>\n",
              "    </tr>\n",
              "  </thead>\n",
              "  <tbody>\n",
              "    <tr>\n",
              "      <th>0</th>\n",
              "      <td>LR_base</td>\n",
              "      <td>0.796781</td>\n",
              "    </tr>\n",
              "  </tbody>\n",
              "</table>\n",
              "</div>"
            ],
            "text/plain": [
              "     model  accuracy\n",
              "0  LR_base  0.796781"
            ]
          },
          "metadata": {
            "tags": []
          },
          "execution_count": 51
        }
      ]
    },
    {
      "cell_type": "markdown",
      "metadata": {
        "id": "AhiU1rO8O9dS"
      },
      "source": [
        "### Naive Bayes Model"
      ]
    },
    {
      "cell_type": "code",
      "metadata": {
        "id": "Xgi5omPrwyPr"
      },
      "source": [
        "nb_model = MultinomialNB()"
      ],
      "execution_count": null,
      "outputs": []
    },
    {
      "cell_type": "code",
      "metadata": {
        "id": "RuLz2nD0QUv7",
        "colab": {
          "base_uri": "https://localhost:8080/"
        },
        "outputId": "99dff95d-0673-4bfc-c992-19bf4dc5dadc"
      },
      "source": [
        "nb_model.fit(X_train_tfid, y_train)"
      ],
      "execution_count": null,
      "outputs": [
        {
          "output_type": "execute_result",
          "data": {
            "text/plain": [
              "MultinomialNB(alpha=1.0, class_prior=None, fit_prior=True)"
            ]
          },
          "metadata": {
            "tags": []
          },
          "execution_count": 59
        }
      ]
    },
    {
      "cell_type": "code",
      "metadata": {
        "id": "HbQFjCopQbdk"
      },
      "source": [
        "nb_pred = nb_model.predict(X_test_tfid)"
      ],
      "execution_count": null,
      "outputs": []
    },
    {
      "cell_type": "code",
      "metadata": {
        "id": "5vAe0S8gQikV",
        "colab": {
          "base_uri": "https://localhost:8080/",
          "height": 191
        },
        "outputId": "af6d2047-8a7d-4b90-a5d6-fbd5e4bdd715"
      },
      "source": [
        "pd.DataFrame(classification_report(y_test, nb_pred, output_dict=True))"
      ],
      "execution_count": null,
      "outputs": [
        {
          "output_type": "execute_result",
          "data": {
            "text/html": [
              "<div>\n",
              "<style scoped>\n",
              "    .dataframe tbody tr th:only-of-type {\n",
              "        vertical-align: middle;\n",
              "    }\n",
              "\n",
              "    .dataframe tbody tr th {\n",
              "        vertical-align: top;\n",
              "    }\n",
              "\n",
              "    .dataframe thead th {\n",
              "        text-align: right;\n",
              "    }\n",
              "</style>\n",
              "<table border=\"1\" class=\"dataframe\">\n",
              "  <thead>\n",
              "    <tr style=\"text-align: right;\">\n",
              "      <th></th>\n",
              "      <th>0</th>\n",
              "      <th>1</th>\n",
              "      <th>2</th>\n",
              "      <th>3</th>\n",
              "      <th>4</th>\n",
              "      <th>accuracy</th>\n",
              "      <th>macro avg</th>\n",
              "      <th>weighted avg</th>\n",
              "    </tr>\n",
              "  </thead>\n",
              "  <tbody>\n",
              "    <tr>\n",
              "      <th>precision</th>\n",
              "      <td>0.742389</td>\n",
              "      <td>0.725920</td>\n",
              "      <td>0.759524</td>\n",
              "      <td>0.632556</td>\n",
              "      <td>0.645088</td>\n",
              "      <td>0.718268</td>\n",
              "      <td>0.701095</td>\n",
              "      <td>0.714151</td>\n",
              "    </tr>\n",
              "    <tr>\n",
              "      <th>recall</th>\n",
              "      <td>0.135877</td>\n",
              "      <td>0.877236</td>\n",
              "      <td>0.853907</td>\n",
              "      <td>0.581492</td>\n",
              "      <td>0.467827</td>\n",
              "      <td>0.718268</td>\n",
              "      <td>0.583268</td>\n",
              "      <td>0.718268</td>\n",
              "    </tr>\n",
              "    <tr>\n",
              "      <th>f1-score</th>\n",
              "      <td>0.229710</td>\n",
              "      <td>0.794437</td>\n",
              "      <td>0.803955</td>\n",
              "      <td>0.605950</td>\n",
              "      <td>0.542340</td>\n",
              "      <td>0.718268</td>\n",
              "      <td>0.595278</td>\n",
              "      <td>0.694902</td>\n",
              "    </tr>\n",
              "    <tr>\n",
              "      <th>support</th>\n",
              "      <td>2333.000000</td>\n",
              "      <td>9897.000000</td>\n",
              "      <td>9713.000000</td>\n",
              "      <td>4571.000000</td>\n",
              "      <td>3621.000000</td>\n",
              "      <td>0.718268</td>\n",
              "      <td>30135.000000</td>\n",
              "      <td>30135.000000</td>\n",
              "    </tr>\n",
              "  </tbody>\n",
              "</table>\n",
              "</div>"
            ],
            "text/plain": [
              "                     0            1  ...     macro avg  weighted avg\n",
              "precision     0.742389     0.725920  ...      0.701095      0.714151\n",
              "recall        0.135877     0.877236  ...      0.583268      0.718268\n",
              "f1-score      0.229710     0.794437  ...      0.595278      0.694902\n",
              "support    2333.000000  9897.000000  ...  30135.000000  30135.000000\n",
              "\n",
              "[4 rows x 8 columns]"
            ]
          },
          "metadata": {
            "tags": []
          },
          "execution_count": 61
        }
      ]
    },
    {
      "cell_type": "code",
      "metadata": {
        "id": "kz4I8M_eRBg-",
        "colab": {
          "base_uri": "https://localhost:8080/",
          "height": 130
        },
        "outputId": "e7821164-a10e-4d99-b7a6-0feea4510b5f"
      },
      "source": [
        "save_results('Naive_Bayers', y_test, nb_pred)\n",
        "df_results"
      ],
      "execution_count": null,
      "outputs": [
        {
          "output_type": "execute_result",
          "data": {
            "text/html": [
              "<div>\n",
              "<style scoped>\n",
              "    .dataframe tbody tr th:only-of-type {\n",
              "        vertical-align: middle;\n",
              "    }\n",
              "\n",
              "    .dataframe tbody tr th {\n",
              "        vertical-align: top;\n",
              "    }\n",
              "\n",
              "    .dataframe thead th {\n",
              "        text-align: right;\n",
              "    }\n",
              "</style>\n",
              "<table border=\"1\" class=\"dataframe\">\n",
              "  <thead>\n",
              "    <tr style=\"text-align: right;\">\n",
              "      <th></th>\n",
              "      <th>model</th>\n",
              "      <th>accuracy</th>\n",
              "    </tr>\n",
              "  </thead>\n",
              "  <tbody>\n",
              "    <tr>\n",
              "      <th>0</th>\n",
              "      <td>LR_base</td>\n",
              "      <td>0.797113</td>\n",
              "    </tr>\n",
              "    <tr>\n",
              "      <th>1</th>\n",
              "      <td>Naive_Bayers</td>\n",
              "      <td>0.718268</td>\n",
              "    </tr>\n",
              "  </tbody>\n",
              "</table>\n",
              "</div>"
            ],
            "text/plain": [
              "          model  accuracy\n",
              "0       LR_base  0.797113\n",
              "1  Naive_Bayers  0.718268"
            ]
          },
          "metadata": {
            "tags": []
          },
          "execution_count": 62
        }
      ]
    },
    {
      "cell_type": "markdown",
      "metadata": {
        "id": "iekbm3pt9zuj"
      },
      "source": [
        "## Deep Learning Models"
      ]
    },
    {
      "cell_type": "markdown",
      "metadata": {
        "id": "_SQRtXhBaglw"
      },
      "source": [
        "### 1 Model Feed-forward neural network with custom eembedding"
      ]
    },
    {
      "cell_type": "markdown",
      "metadata": {
        "id": "yaxeLihyCmpb"
      },
      "source": [
        "#### Custom text vectorization and embedding"
      ]
    },
    {
      "cell_type": "code",
      "metadata": {
        "id": "hh1hyzhMiaUY"
      },
      "source": [
        "DIR = 'model_logs'"
      ],
      "execution_count": null,
      "outputs": []
    },
    {
      "cell_type": "code",
      "metadata": {
        "id": "L8K4qs9UbZBp"
      },
      "source": [
        "tokens = 55 #From data analyses\n",
        "vocab_length = 68000 #From paper we are recreating"
      ],
      "execution_count": null,
      "outputs": []
    },
    {
      "cell_type": "code",
      "metadata": {
        "id": "MG0cD_2sb-1b"
      },
      "source": [
        "# Create TextVectorization Layer\n",
        "text_vect = TextVectorization(max_tokens=vocab_length,\n",
        "                              output_sequence_length = tokens)"
      ],
      "execution_count": null,
      "outputs": []
    },
    {
      "cell_type": "code",
      "metadata": {
        "id": "fYzb8GOkwfsE"
      },
      "source": [
        "text_vect.adapt(X_train)\n",
        "#Try to adapt to all data X"
      ],
      "execution_count": null,
      "outputs": []
    },
    {
      "cell_type": "code",
      "metadata": {
        "id": "JYIYOa0OcgiZ"
      },
      "source": [
        "# Create Embedding Layer\n",
        "embedding = Embedding(input_dim = vocab_length,\n",
        "                      output_dim = 128,\n",
        "                      input_length = tokens)"
      ],
      "execution_count": null,
      "outputs": []
    },
    {
      "cell_type": "code",
      "metadata": {
        "id": "rwSENVddpuJu",
        "colab": {
          "base_uri": "https://localhost:8080/",
          "height": 74
        },
        "outputId": "55ba73a5-293b-4cd6-c042-14a6e7e6116a"
      },
      "source": [
        "X_train[1]"
      ],
      "execution_count": null,
      "outputs": [
        {
          "output_type": "execute_result",
          "data": {
            "application/vnd.google.colaboratory.intrinsic+json": {
              "type": "string"
            },
            "text/plain": [
              "'A total of @ patients with primary knee OA were randomized @:@ ; @ received @ mg/day of prednisolone and @ received placebo for @ weeks .'"
            ]
          },
          "metadata": {
            "tags": []
          },
          "execution_count": 83
        }
      ]
    },
    {
      "cell_type": "code",
      "metadata": {
        "id": "HxZByjx-p0Kt",
        "colab": {
          "base_uri": "https://localhost:8080/"
        },
        "outputId": "1a086fa5-e65c-4550-ae76-520afc096926"
      },
      "source": [
        "text_vect([X_train[1]])"
      ],
      "execution_count": null,
      "outputs": [
        {
          "output_type": "execute_result",
          "data": {
            "text/plain": [
              "<tf.Tensor: shape=(1, 55), dtype=int64, numpy=\n",
              "array([[   8,   76,    4,   12,    7,   56,  517, 1743,    9,   29,   80,\n",
              "         744,    4, 2535,    3,   80,   48,   11,   53,    0,    0,    0,\n",
              "           0,    0,    0,    0,    0,    0,    0,    0,    0,    0,    0,\n",
              "           0,    0,    0,    0,    0,    0,    0,    0,    0,    0,    0,\n",
              "           0,    0,    0,    0,    0,    0,    0,    0,    0,    0,    0]])>"
            ]
          },
          "metadata": {
            "tags": []
          },
          "execution_count": 84
        }
      ]
    },
    {
      "cell_type": "code",
      "metadata": {
        "id": "CcXPcNSLqC82",
        "colab": {
          "base_uri": "https://localhost:8080/"
        },
        "outputId": "c1ab30ef-bba2-4a21-c00b-f5fc886a150f"
      },
      "source": [
        "embedding(text_vect([X_train[1]]))"
      ],
      "execution_count": null,
      "outputs": [
        {
          "output_type": "execute_result",
          "data": {
            "text/plain": [
              "<tf.Tensor: shape=(1, 55, 128), dtype=float32, numpy=\n",
              "array([[[ 0.01250659, -0.04116249, -0.04211224, ...,  0.0336303 ,\n",
              "          0.00846244, -0.01484295],\n",
              "        [-0.00895075, -0.02208411,  0.01682368, ..., -0.01749743,\n",
              "         -0.01715349, -0.00787419],\n",
              "        [-0.04974806, -0.00958822, -0.04901708, ..., -0.04968099,\n",
              "          0.01375442,  0.02206609],\n",
              "        ...,\n",
              "        [ 0.0254378 , -0.04685613,  0.02029986, ..., -0.0453117 ,\n",
              "          0.03429068,  0.01931227],\n",
              "        [ 0.0254378 , -0.04685613,  0.02029986, ..., -0.0453117 ,\n",
              "          0.03429068,  0.01931227],\n",
              "        [ 0.0254378 , -0.04685613,  0.02029986, ..., -0.0453117 ,\n",
              "          0.03429068,  0.01931227]]], dtype=float32)>"
            ]
          },
          "metadata": {
            "tags": []
          },
          "execution_count": 85
        }
      ]
    },
    {
      "cell_type": "markdown",
      "metadata": {
        "id": "sJbOPhse08IH"
      },
      "source": [
        "#### Creating Datasets\n",
        "https://www.tensorflow.org/guide/data\n",
        "\n",
        "https://www.tensorflow.org/guide/data_performance"
      ]
    },
    {
      "cell_type": "code",
      "metadata": {
        "id": "4MlCVmLT0cjc"
      },
      "source": [
        "# Turn our data into TensorFlow Datasets\n",
        "ds_train = tf.data.Dataset.from_tensor_slices((X_train, y_train_one_hot))\n",
        "ds_val = tf.data.Dataset.from_tensor_slices((X_val, y_val_one_hot))\n",
        "ds_test = tf.data.Dataset.from_tensor_slices((X_test, y_test_one_hot))"
      ],
      "execution_count": null,
      "outputs": []
    },
    {
      "cell_type": "code",
      "metadata": {
        "id": "C6bJwuDcs74D",
        "colab": {
          "base_uri": "https://localhost:8080/"
        },
        "outputId": "0eb8d113-8877-4b5d-a08c-eeceb254ed0d"
      },
      "source": [
        "# Take the TensorSliceDataset's and turn them into prefetched batches\n",
        "ds_train = ds_train.batch(32).prefetch(tf.data.AUTOTUNE)\n",
        "ds_val = ds_val.batch(32).prefetch(tf.data.AUTOTUNE)\n",
        "ds_test = ds_test.batch(32).prefetch(tf.data.AUTOTUNE)\n",
        "\n",
        "ds_train"
      ],
      "execution_count": null,
      "outputs": [
        {
          "output_type": "execute_result",
          "data": {
            "text/plain": [
              "<PrefetchDataset shapes: ((None,), (None, 5)), types: (tf.string, tf.float64)>"
            ]
          },
          "metadata": {
            "tags": []
          },
          "execution_count": 58
        }
      ]
    },
    {
      "cell_type": "markdown",
      "metadata": {
        "id": "hMWDi3CjDex9"
      },
      "source": [
        "####Build compile fit and save model\n",
        "\n",
        "> Indented block\n",
        "\n"
      ]
    },
    {
      "cell_type": "code",
      "metadata": {
        "id": "lYlU20lc0uYS"
      },
      "source": [
        "K.clear_session()"
      ],
      "execution_count": null,
      "outputs": []
    },
    {
      "cell_type": "code",
      "metadata": {
        "id": "kos629abdCPv"
      },
      "source": [
        "inputs = Input(shape = (1,), dtype = 'string')\n",
        "x = text_vect(inputs)\n",
        "x = embedding(x)\n",
        "x = GlobalAveragePooling1D()(x)\n",
        "x = Dense(128, activation='relu')(x)\n",
        "outputs = Dense(len(classes), activation='softmax')(x)"
      ],
      "execution_count": null,
      "outputs": []
    },
    {
      "cell_type": "code",
      "metadata": {
        "id": "BgGfGr_4eKyZ"
      },
      "source": [
        "model_1 = Model(inputs, outputs)"
      ],
      "execution_count": null,
      "outputs": []
    },
    {
      "cell_type": "code",
      "metadata": {
        "id": "g6MXggwKePly"
      },
      "source": [
        "model_1.compile(optimizer='adam', metrics='accuracy', loss = 'categorical_crossentropy')"
      ],
      "execution_count": null,
      "outputs": []
    },
    {
      "cell_type": "code",
      "metadata": {
        "id": "Ki8dI75FjIRD"
      },
      "source": [
        "model_1.summary()"
      ],
      "execution_count": null,
      "outputs": []
    },
    {
      "cell_type": "code",
      "metadata": {
        "id": "m5RoNyyRfMjL"
      },
      "source": [
        "history_1 = model_1.fit(ds_train, epochs = 5,\n",
        "                        validation_data = ds_val,\n",
        "                        callbacks = create_tf_board_callback(DIR, 'model_1_base_dense'))"
      ],
      "execution_count": null,
      "outputs": []
    },
    {
      "cell_type": "code",
      "metadata": {
        "id": "pv4r1BTkzjZg"
      },
      "source": [
        "plot_loss_curves(history_1)"
      ],
      "execution_count": null,
      "outputs": []
    },
    {
      "cell_type": "code",
      "metadata": {
        "id": "mpdX7t0IkvDC"
      },
      "source": [
        "model_1.save('/content/drive/MyDrive/projects/SPICED/models/SkimLit_model_1')"
      ],
      "execution_count": null,
      "outputs": []
    },
    {
      "cell_type": "markdown",
      "metadata": {
        "id": "FVH8Y_f8DtK5"
      },
      "source": [
        "#### Load model and make predictions\n",
        "\n"
      ]
    },
    {
      "cell_type": "code",
      "metadata": {
        "id": "-kemwtXg9VK3"
      },
      "source": [
        "load_model_1 = tf.keras.models.load_model('/content/drive/MyDrive/projects/SPICED/models/SkimLit_model_1')"
      ],
      "execution_count": null,
      "outputs": []
    },
    {
      "cell_type": "code",
      "metadata": {
        "id": "1LomDzWy6-9m",
        "colab": {
          "base_uri": "https://localhost:8080/"
        },
        "outputId": "61ea14ea-da4c-4685-cc8b-f65ca0dc71b5"
      },
      "source": [
        "load_model_1.evaluate(ds_val)"
      ],
      "execution_count": null,
      "outputs": [
        {
          "output_type": "stream",
          "text": [
            "945/945 [==============================] - 6s 3ms/step - loss: 0.7175 - accuracy: 0.7838\n"
          ],
          "name": "stdout"
        },
        {
          "output_type": "execute_result",
          "data": {
            "text/plain": [
              "[0.7175487875938416, 0.7837614417076111]"
            ]
          },
          "metadata": {
            "tags": []
          },
          "execution_count": 60
        }
      ]
    },
    {
      "cell_type": "code",
      "metadata": {
        "id": "CZafICsCfnr8"
      },
      "source": [
        "prob_1 = load_model_1.predict(X_test)"
      ],
      "execution_count": null,
      "outputs": []
    },
    {
      "cell_type": "code",
      "metadata": {
        "id": "J4Bq-s3CkYsg",
        "colab": {
          "base_uri": "https://localhost:8080/"
        },
        "outputId": "7b68ee86-97a3-4e51-dfec-62a0a5c033be"
      },
      "source": [
        "prob_1.shape"
      ],
      "execution_count": null,
      "outputs": [
        {
          "output_type": "execute_result",
          "data": {
            "text/plain": [
              "(30135, 5)"
            ]
          },
          "metadata": {
            "tags": []
          },
          "execution_count": 62
        }
      ]
    },
    {
      "cell_type": "code",
      "metadata": {
        "id": "_f_97tBokbRz"
      },
      "source": [
        "pred_1 = tf.argmax(prob_1, axis = 1)"
      ],
      "execution_count": null,
      "outputs": []
    },
    {
      "cell_type": "code",
      "metadata": {
        "id": "t_wbFuIc7qfc",
        "colab": {
          "base_uri": "https://localhost:8080/"
        },
        "outputId": "b08afa98-b5b0-42d5-8e72-05fa6fa4de0a"
      },
      "source": [
        "pred_1[:10], y_test[:10]"
      ],
      "execution_count": null,
      "outputs": [
        {
          "output_type": "execute_result",
          "data": {
            "text/plain": [
              "(<tf.Tensor: shape=(10,), dtype=int64, numpy=array([4, 2, 1, 1, 2, 2, 2, 4, 3, 0])>,\n",
              " [4, 2, 2, 2, 2, 2, 2, 3, 3, 4])"
            ]
          },
          "metadata": {
            "tags": []
          },
          "execution_count": 64
        }
      ]
    },
    {
      "cell_type": "code",
      "metadata": {
        "id": "A0faoKu9kdW1"
      },
      "source": [
        "save_results('model_1_128_dense',y_test, pred_1)"
      ],
      "execution_count": null,
      "outputs": []
    },
    {
      "cell_type": "code",
      "metadata": {
        "id": "UIHyvWqHkk7t",
        "colab": {
          "base_uri": "https://localhost:8080/",
          "height": 130
        },
        "outputId": "1ae27dc3-635f-4a3e-9852-a8a85865766b"
      },
      "source": [
        "df_results"
      ],
      "execution_count": null,
      "outputs": [
        {
          "output_type": "execute_result",
          "data": {
            "text/html": [
              "<div>\n",
              "<style scoped>\n",
              "    .dataframe tbody tr th:only-of-type {\n",
              "        vertical-align: middle;\n",
              "    }\n",
              "\n",
              "    .dataframe tbody tr th {\n",
              "        vertical-align: top;\n",
              "    }\n",
              "\n",
              "    .dataframe thead th {\n",
              "        text-align: right;\n",
              "    }\n",
              "</style>\n",
              "<table border=\"1\" class=\"dataframe\">\n",
              "  <thead>\n",
              "    <tr style=\"text-align: right;\">\n",
              "      <th></th>\n",
              "      <th>model</th>\n",
              "      <th>accuracy</th>\n",
              "    </tr>\n",
              "  </thead>\n",
              "  <tbody>\n",
              "    <tr>\n",
              "      <th>0</th>\n",
              "      <td>LR_base</td>\n",
              "      <td>0.796781</td>\n",
              "    </tr>\n",
              "    <tr>\n",
              "      <th>1</th>\n",
              "      <td>model_1_128_dense</td>\n",
              "      <td>0.776572</td>\n",
              "    </tr>\n",
              "  </tbody>\n",
              "</table>\n",
              "</div>"
            ],
            "text/plain": [
              "               model  accuracy\n",
              "0            LR_base  0.796781\n",
              "1  model_1_128_dense  0.776572"
            ]
          },
          "metadata": {
            "tags": []
          },
          "execution_count": 66
        }
      ]
    },
    {
      "cell_type": "markdown",
      "metadata": {
        "id": "AZnHXGUd9zeB"
      },
      "source": [
        "### 2 Model Conv1D with custom sequence embedding"
      ]
    },
    {
      "cell_type": "markdown",
      "metadata": {
        "id": "2VT_DVBUE0cO"
      },
      "source": [
        "#### Build, compile, fit and save model"
      ]
    },
    {
      "cell_type": "code",
      "metadata": {
        "id": "jgp74hngthYw"
      },
      "source": [
        "inputs = Input(shape = (1,), dtype='string')\n",
        "x = text_vect(inputs)\n",
        "x = embedding(x)\n",
        "x = Conv1D(64, 5, padding='same', activation='relu')(x)\n",
        "x = GlobalAveragePooling1D()(x)\n",
        "outputs = Dense(len(classes), activation='softmax')(x)\n",
        "model_2 = Model(inputs, outputs)"
      ],
      "execution_count": null,
      "outputs": []
    },
    {
      "cell_type": "code",
      "metadata": {
        "id": "2m9PnKPn-pfB"
      },
      "source": [
        "model_2.compile(optimizer='adam', loss = 'categorical_crossentropy', metrics = 'accuracy')"
      ],
      "execution_count": null,
      "outputs": []
    },
    {
      "cell_type": "code",
      "metadata": {
        "id": "PVst5xIu_xs6"
      },
      "source": [
        "model_2.summary()"
      ],
      "execution_count": null,
      "outputs": []
    },
    {
      "cell_type": "code",
      "metadata": {
        "id": "uxhR6JY4-6nA"
      },
      "source": [
        "history_2 = model_2.fit(ds_train, epochs = 3,\n",
        "                        steps_per_epoch = int(0.1*len(ds_train)),\n",
        "                        validation_data = ds_val,\n",
        "                        validation_steps = int(0.1*len(ds_val)),\n",
        "                        callbacks = create_tf_board_callback(DIR, 'model_2_conv1d'))"
      ],
      "execution_count": null,
      "outputs": []
    },
    {
      "cell_type": "code",
      "metadata": {
        "id": "0M7cqvp1_kGR"
      },
      "source": [
        "plot_loss_curves(history_2)"
      ],
      "execution_count": null,
      "outputs": []
    },
    {
      "cell_type": "code",
      "metadata": {
        "id": "H0L5BCRjATrJ"
      },
      "source": [
        "model_2.save('/content/drive/MyDrive/projects/SPICED/models/SkimLit_model_2')"
      ],
      "execution_count": null,
      "outputs": []
    },
    {
      "cell_type": "markdown",
      "metadata": {
        "id": "YLWEnL-kE9Tp"
      },
      "source": [
        "#### Load model and make predictions"
      ]
    },
    {
      "cell_type": "code",
      "metadata": {
        "id": "K75TW3u3AZnN"
      },
      "source": [
        "load_model_2 = tf.keras.models.load_model('/content/drive/MyDrive/projects/SPICED/models/SkimLit_model_2')"
      ],
      "execution_count": null,
      "outputs": []
    },
    {
      "cell_type": "code",
      "metadata": {
        "id": "9QjJIa2SAkQM",
        "colab": {
          "base_uri": "https://localhost:8080/"
        },
        "outputId": "609edc65-8daa-4533-b871-4d01ae1dd4ac"
      },
      "source": [
        "load_model_2.evaluate(ds_val)"
      ],
      "execution_count": null,
      "outputs": [
        {
          "output_type": "stream",
          "text": [
            "945/945 [==============================] - 30s 4ms/step - loss: 0.6350 - accuracy: 0.7864\n"
          ],
          "name": "stdout"
        },
        {
          "output_type": "execute_result",
          "data": {
            "text/plain": [
              "[0.6349807977676392, 0.7863762974739075]"
            ]
          },
          "metadata": {
            "tags": []
          },
          "execution_count": 68
        }
      ]
    },
    {
      "cell_type": "code",
      "metadata": {
        "id": "kU47zJ7TAkQT"
      },
      "source": [
        "prob_2 = load_model_2.predict(X_test)"
      ],
      "execution_count": null,
      "outputs": []
    },
    {
      "cell_type": "code",
      "metadata": {
        "id": "409qV3WPAkQV"
      },
      "source": [
        "pred_2 = tf.argmax(prob_2, axis = 1)"
      ],
      "execution_count": null,
      "outputs": []
    },
    {
      "cell_type": "code",
      "metadata": {
        "id": "rxiRdoJ7AkQV",
        "colab": {
          "base_uri": "https://localhost:8080/"
        },
        "outputId": "6d62c0e1-61cc-4706-97b0-f67052152e5a"
      },
      "source": [
        "pred_2[10:20], y_test[10:20]"
      ],
      "execution_count": null,
      "outputs": [
        {
          "output_type": "execute_result",
          "data": {
            "text/plain": [
              "(<tf.Tensor: shape=(10,), dtype=int64, numpy=array([0, 1, 1, 1, 2, 2, 2, 2, 2, 2])>,\n",
              " [4, 1, 1, 1, 2, 2, 2, 2, 2, 2])"
            ]
          },
          "metadata": {
            "tags": []
          },
          "execution_count": 101
        }
      ]
    },
    {
      "cell_type": "code",
      "metadata": {
        "id": "zf-XK0o-AkQW"
      },
      "source": [
        "save_results('model_2_64_conv1d',y_test, pred_2)"
      ],
      "execution_count": null,
      "outputs": []
    },
    {
      "cell_type": "code",
      "metadata": {
        "id": "BXzG2AZUAkQX",
        "colab": {
          "base_uri": "https://localhost:8080/",
          "height": 160
        },
        "outputId": "f984f385-0bc7-44d9-af8e-2a6528e0bd69"
      },
      "source": [
        "df_results"
      ],
      "execution_count": null,
      "outputs": [
        {
          "output_type": "execute_result",
          "data": {
            "text/html": [
              "<div>\n",
              "<style scoped>\n",
              "    .dataframe tbody tr th:only-of-type {\n",
              "        vertical-align: middle;\n",
              "    }\n",
              "\n",
              "    .dataframe tbody tr th {\n",
              "        vertical-align: top;\n",
              "    }\n",
              "\n",
              "    .dataframe thead th {\n",
              "        text-align: right;\n",
              "    }\n",
              "</style>\n",
              "<table border=\"1\" class=\"dataframe\">\n",
              "  <thead>\n",
              "    <tr style=\"text-align: right;\">\n",
              "      <th></th>\n",
              "      <th>model</th>\n",
              "      <th>accuracy</th>\n",
              "    </tr>\n",
              "  </thead>\n",
              "  <tbody>\n",
              "    <tr>\n",
              "      <th>0</th>\n",
              "      <td>LR_base</td>\n",
              "      <td>0.796781</td>\n",
              "    </tr>\n",
              "    <tr>\n",
              "      <th>1</th>\n",
              "      <td>model_1_128_dense</td>\n",
              "      <td>0.776572</td>\n",
              "    </tr>\n",
              "    <tr>\n",
              "      <th>2</th>\n",
              "      <td>model_2_64_conv1d</td>\n",
              "      <td>0.778264</td>\n",
              "    </tr>\n",
              "  </tbody>\n",
              "</table>\n",
              "</div>"
            ],
            "text/plain": [
              "               model  accuracy\n",
              "0            LR_base  0.796781\n",
              "1  model_1_128_dense  0.776572\n",
              "2  model_2_64_conv1d  0.778264"
            ]
          },
          "metadata": {
            "tags": []
          },
          "execution_count": 72
        }
      ]
    },
    {
      "cell_type": "markdown",
      "metadata": {
        "id": "2qD38UIED3zS"
      },
      "source": [
        "### 3 Model USE pretrained embedding dense 128 \n",
        "We will use universal-sentence-encoder\n"
      ]
    },
    {
      "cell_type": "markdown",
      "metadata": {
        "id": "iKRY2XZWFpnB"
      },
      "source": [
        "#### Build, compile, fit and save model"
      ]
    },
    {
      "cell_type": "code",
      "metadata": {
        "id": "XoWPntN3BGw3",
        "colab": {
          "base_uri": "https://localhost:8080/"
        },
        "outputId": "c0648819-2899-494c-cd80-8253dc028766"
      },
      "source": [
        "import tensorflow_hub as hub\n",
        "\n",
        "embed = hub.load(\"https://tfhub.dev/google/universal-sentence-encoder/4\")\n",
        "embeddings = embed([\n",
        "    \"The quick brown fox jumps over the lazy dog.\",\n",
        "    \"I am a sentence for which I would like to get its embedding\"])\n",
        "\n",
        "print(embeddings)"
      ],
      "execution_count": null,
      "outputs": [
        {
          "output_type": "stream",
          "text": [
            "tf.Tensor(\n",
            "[[-0.03133019 -0.06338634 -0.016075   ... -0.0324278  -0.0457574\n",
            "   0.05370456]\n",
            " [ 0.0508086  -0.01652432  0.01573776 ...  0.0097666   0.0317012\n",
            "   0.01788118]], shape=(2, 512), dtype=float32)\n"
          ],
          "name": "stdout"
        }
      ]
    },
    {
      "cell_type": "code",
      "metadata": {
        "id": "QJUgLJorEpM_"
      },
      "source": [
        "use_layer = hub.KerasLayer('https://tfhub.dev/google/universal-sentence-encoder/4',\n",
        "                           input_shape = [],\n",
        "                           dtype = tf.string,\n",
        "                           trainable = False)"
      ],
      "execution_count": null,
      "outputs": []
    },
    {
      "cell_type": "code",
      "metadata": {
        "id": "2gih-osqFIPY"
      },
      "source": [
        "inputs = Input(shape = [], dtype = tf.string)\n",
        "x = use_layer(inputs)\n",
        "x = Dense(128, activation = 'relu')(x)\n",
        "outputs = Dense(len(classes), activation='softmax')(x)"
      ],
      "execution_count": null,
      "outputs": []
    },
    {
      "cell_type": "code",
      "metadata": {
        "id": "D_lT9y5CFobu"
      },
      "source": [
        "model_3 = Model(inputs, outputs)"
      ],
      "execution_count": null,
      "outputs": []
    },
    {
      "cell_type": "code",
      "metadata": {
        "id": "R-ql1BDoGzTV"
      },
      "source": [
        "model_3.compile(optimizer='adam', metrics = 'accuracy', loss = 'categorical_crossentropy')"
      ],
      "execution_count": null,
      "outputs": []
    },
    {
      "cell_type": "code",
      "metadata": {
        "id": "fLV6R-2lHCfA"
      },
      "source": [
        "model_3.summary()"
      ],
      "execution_count": null,
      "outputs": []
    },
    {
      "cell_type": "code",
      "metadata": {
        "id": "N8TWrPN1HEky"
      },
      "source": [
        "history_3 = model_3.fit(ds_train, epochs = 5, \n",
        "                        validation_data = ds_val,\n",
        "                        validation_steps = int(0.1*len(ds_val)),\n",
        "                        callbacks = create_tf_board_callback(DIR, 'model_3_use_128'))"
      ],
      "execution_count": null,
      "outputs": []
    },
    {
      "cell_type": "code",
      "metadata": {
        "id": "Z0pBLglXIPtj"
      },
      "source": [
        "plot_loss_curves(history_3)"
      ],
      "execution_count": null,
      "outputs": []
    },
    {
      "cell_type": "code",
      "metadata": {
        "id": "0bEOwSuoHppo"
      },
      "source": [
        "model_3.save('/content/drive/MyDrive/projects/SPICED/models/SkimLit_model_3')"
      ],
      "execution_count": null,
      "outputs": []
    },
    {
      "cell_type": "markdown",
      "metadata": {
        "id": "zNCKl2r0FyuC"
      },
      "source": [
        "#### Load model and make predictions"
      ]
    },
    {
      "cell_type": "code",
      "metadata": {
        "id": "CXojUz_9H_X2"
      },
      "source": [
        "load_model_3 = tf.keras.models.load_model('/content/drive/MyDrive/projects/SPICED/models/SkimLit_model_3')"
      ],
      "execution_count": null,
      "outputs": []
    },
    {
      "cell_type": "code",
      "metadata": {
        "id": "YmZ90Dh5IY32"
      },
      "source": [
        "prob_3 = load_model_3.predict(X_test)"
      ],
      "execution_count": null,
      "outputs": []
    },
    {
      "cell_type": "code",
      "metadata": {
        "id": "391Ua4ZjIfp4"
      },
      "source": [
        "pred_3 = tf.argmax(prob_3, axis = 1)"
      ],
      "execution_count": null,
      "outputs": []
    },
    {
      "cell_type": "code",
      "metadata": {
        "id": "WU-Ejsb_IlZI"
      },
      "source": [
        "save_results('model_3_use_128',y_test, pred_3)"
      ],
      "execution_count": null,
      "outputs": []
    },
    {
      "cell_type": "code",
      "metadata": {
        "id": "Pq3z7o_4LKLI",
        "colab": {
          "base_uri": "https://localhost:8080/",
          "height": 191
        },
        "outputId": "3e8a1646-f831-48c9-939f-a0625b404ecc"
      },
      "source": [
        "df_results"
      ],
      "execution_count": null,
      "outputs": [
        {
          "output_type": "execute_result",
          "data": {
            "text/html": [
              "<div>\n",
              "<style scoped>\n",
              "    .dataframe tbody tr th:only-of-type {\n",
              "        vertical-align: middle;\n",
              "    }\n",
              "\n",
              "    .dataframe tbody tr th {\n",
              "        vertical-align: top;\n",
              "    }\n",
              "\n",
              "    .dataframe thead th {\n",
              "        text-align: right;\n",
              "    }\n",
              "</style>\n",
              "<table border=\"1\" class=\"dataframe\">\n",
              "  <thead>\n",
              "    <tr style=\"text-align: right;\">\n",
              "      <th></th>\n",
              "      <th>model</th>\n",
              "      <th>accuracy</th>\n",
              "    </tr>\n",
              "  </thead>\n",
              "  <tbody>\n",
              "    <tr>\n",
              "      <th>0</th>\n",
              "      <td>LR_base</td>\n",
              "      <td>0.796781</td>\n",
              "    </tr>\n",
              "    <tr>\n",
              "      <th>1</th>\n",
              "      <td>model_1_128_dense</td>\n",
              "      <td>0.776572</td>\n",
              "    </tr>\n",
              "    <tr>\n",
              "      <th>2</th>\n",
              "      <td>model_2_64_conv1d</td>\n",
              "      <td>0.778264</td>\n",
              "    </tr>\n",
              "    <tr>\n",
              "      <th>3</th>\n",
              "      <td>model_3_use_128</td>\n",
              "      <td>0.766517</td>\n",
              "    </tr>\n",
              "  </tbody>\n",
              "</table>\n",
              "</div>"
            ],
            "text/plain": [
              "               model  accuracy\n",
              "0            LR_base  0.796781\n",
              "1  model_1_128_dense  0.776572\n",
              "2  model_2_64_conv1d  0.778264\n",
              "3    model_3_use_128  0.766517"
            ]
          },
          "metadata": {
            "tags": []
          },
          "execution_count": 79
        }
      ]
    },
    {
      "cell_type": "markdown",
      "metadata": {
        "id": "pky9WiJ-PDzI"
      },
      "source": [
        "###4 Model Conv1D with custom character embeddings"
      ]
    },
    {
      "cell_type": "markdown",
      "metadata": {
        "id": "K4o-jn3IGVfD"
      },
      "source": [
        "#### Prepare data\n",
        "Split sentenses to characters"
      ]
    },
    {
      "cell_type": "code",
      "metadata": {
        "id": "9_e_2jCqQbN5"
      },
      "source": [
        "text = 'Model 4 Conv1D'"
      ],
      "execution_count": null,
      "outputs": []
    },
    {
      "cell_type": "code",
      "metadata": {
        "id": "MiGKwARjQf8W",
        "colab": {
          "base_uri": "https://localhost:8080/"
        },
        "outputId": "778eb598-1af6-4bf3-88f6-df56d3a933e6"
      },
      "source": [
        "list(text)"
      ],
      "execution_count": null,
      "outputs": [
        {
          "output_type": "execute_result",
          "data": {
            "text/plain": [
              "['M', 'o', 'd', 'e', 'l', ' ', '4', ' ', 'C', 'o', 'n', 'v', '1', 'D']"
            ]
          },
          "metadata": {
            "tags": []
          },
          "execution_count": 81
        }
      ]
    },
    {
      "cell_type": "code",
      "metadata": {
        "id": "pCA_2rDzP5HG"
      },
      "source": [
        "# Split our text to characters\n",
        "def split_to_char(text):\n",
        "  return ' '.join(list(text))"
      ],
      "execution_count": null,
      "outputs": []
    },
    {
      "cell_type": "code",
      "metadata": {
        "id": "zprWhnqSSB4J",
        "colab": {
          "base_uri": "https://localhost:8080/",
          "height": 58
        },
        "outputId": "9123e35b-85ff-47fb-aa70-f61f997ac91c"
      },
      "source": [
        "split_to_char(text)"
      ],
      "execution_count": null,
      "outputs": [
        {
          "output_type": "execute_result",
          "data": {
            "application/vnd.google.colaboratory.intrinsic+json": {
              "type": "string"
            },
            "text/plain": [
              "'M o d e l   4   C o n v 1 D'"
            ]
          },
          "metadata": {
            "tags": []
          },
          "execution_count": 83
        }
      ]
    },
    {
      "cell_type": "code",
      "metadata": {
        "id": "BVutGq9ZSn29"
      },
      "source": [
        "X_train_char = [split_to_char(sentence) for sentence in X_train]\n",
        "X_val_char = [split_to_char(sentence) for sentence in X_val]\n",
        "X_test_char = [split_to_char(sentence) for sentence in X_test]"
      ],
      "execution_count": null,
      "outputs": []
    },
    {
      "cell_type": "code",
      "metadata": {
        "id": "9KNtbcujSzvH",
        "colab": {
          "base_uri": "https://localhost:8080/"
        },
        "outputId": "da428b66-037f-42c9-e858-356d440b8c4f"
      },
      "source": [
        "X_train_char[:1]"
      ],
      "execution_count": null,
      "outputs": [
        {
          "output_type": "execute_result",
          "data": {
            "text/plain": [
              "['T o   i n v e s t i g a t e   t h e   e f f i c a c y   o f   @   w e e k s   o f   d a i l y   l o w - d o s e   o r a l   p r e d n i s o l o n e   i n   i m p r o v i n g   p a i n   ,   m o b i l i t y   ,   a n d   s y s t e m i c   l o w - g r a d e   i n f l a m m a t i o n   i n   t h e   s h o r t   t e r m   a n d   w h e t h e r   t h e   e f f e c t   w o u l d   b e   s u s t a i n e d   a t   @   w e e k s   i n   o l d e r   a d u l t s   w i t h   m o d e r a t e   t o   s e v e r e   k n e e   o s t e o a r t h r i t i s   (   O A   )   .']"
            ]
          },
          "metadata": {
            "tags": []
          },
          "execution_count": 85
        }
      ]
    },
    {
      "cell_type": "code",
      "metadata": {
        "id": "vGuv4odVX9km",
        "colab": {
          "base_uri": "https://localhost:8080/"
        },
        "outputId": "dc5bb539-96c8-4d77-e879-659dedef6cf5"
      },
      "source": [
        "#Get all keyboard characters\n",
        "import string\n",
        "alphabet = string.ascii_lowercase + string.punctuation + string.digits\n",
        "print(alphabet)\n",
        "len(alphabet)"
      ],
      "execution_count": null,
      "outputs": [
        {
          "output_type": "stream",
          "text": [
            "abcdefghijklmnopqrstuvwxyz!\"#$%&'()*+,-./:;<=>?@[\\]^_`{|}~0123456789\n"
          ],
          "name": "stdout"
        },
        {
          "output_type": "execute_result",
          "data": {
            "text/plain": [
              "68"
            ]
          },
          "metadata": {
            "tags": []
          },
          "execution_count": 86
        }
      ]
    },
    {
      "cell_type": "code",
      "metadata": {
        "id": "cK9d8zOPQ2tD"
      },
      "source": [
        "char_num = len(alphabet)+2"
      ],
      "execution_count": null,
      "outputs": []
    },
    {
      "cell_type": "markdown",
      "metadata": {
        "id": "VnH8QHVmG6BV"
      },
      "source": [
        "#### Custom characters vectorization and embedding"
      ]
    },
    {
      "cell_type": "code",
      "metadata": {
        "id": "MsLPCP6lOUk5"
      },
      "source": [
        "char_vect = TextVectorization(max_tokens = char_num, \n",
        "                              output_sequence_length = 290, #From previous analysis 95%\n",
        "                              standardize = None)"
      ],
      "execution_count": null,
      "outputs": []
    },
    {
      "cell_type": "code",
      "metadata": {
        "id": "q9WR98F4Q00r"
      },
      "source": [
        "char_vect.adapt(X_train_char)"
      ],
      "execution_count": null,
      "outputs": []
    },
    {
      "cell_type": "code",
      "metadata": {
        "id": "wQr94QIZglcQ"
      },
      "source": [
        "char_vocab = char_vect.get_vocabulary()"
      ],
      "execution_count": null,
      "outputs": []
    },
    {
      "cell_type": "code",
      "metadata": {
        "colab": {
          "base_uri": "https://localhost:8080/"
        },
        "id": "XTTuhwJFg8Fe",
        "outputId": "570eb719-0016-412d-d144-9630ea761862"
      },
      "source": [
        "len(char_vocab)"
      ],
      "execution_count": null,
      "outputs": [
        {
          "output_type": "execute_result",
          "data": {
            "text/plain": [
              "70"
            ]
          },
          "metadata": {
            "tags": []
          },
          "execution_count": 91
        }
      ]
    },
    {
      "cell_type": "code",
      "metadata": {
        "colab": {
          "base_uri": "https://localhost:8080/",
          "height": 124
        },
        "id": "4_kiqgKQjfVV",
        "outputId": "4bc1d728-3cd1-4cd0-f252-9f4e03d9c35d"
      },
      "source": [
        "X_train_char[0]"
      ],
      "execution_count": null,
      "outputs": [
        {
          "output_type": "execute_result",
          "data": {
            "application/vnd.google.colaboratory.intrinsic+json": {
              "type": "string"
            },
            "text/plain": [
              "'T o   i n v e s t i g a t e   t h e   e f f i c a c y   o f   @   w e e k s   o f   d a i l y   l o w - d o s e   o r a l   p r e d n i s o l o n e   i n   i m p r o v i n g   p a i n   ,   m o b i l i t y   ,   a n d   s y s t e m i c   l o w - g r a d e   i n f l a m m a t i o n   i n   t h e   s h o r t   t e r m   a n d   w h e t h e r   t h e   e f f e c t   w o u l d   b e   s u s t a i n e d   a t   @   w e e k s   i n   o l d e r   a d u l t s   w i t h   m o d e r a t e   t o   s e v e r e   k n e e   o s t e o a r t h r i t i s   (   O A   )   .'"
            ]
          },
          "metadata": {
            "tags": []
          },
          "execution_count": 92
        }
      ]
    },
    {
      "cell_type": "code",
      "metadata": {
        "colab": {
          "base_uri": "https://localhost:8080/"
        },
        "id": "qOZ-B_PGjVkw",
        "outputId": "08b68e45-9296-4b2d-88b9-15b4051cec08"
      },
      "source": [
        "char_vect([X_train_char[1]])"
      ],
      "execution_count": null,
      "outputs": [
        {
          "output_type": "execute_result",
          "data": {
            "text/plain": [
              "<tf.Tensor: shape=(1, 290), dtype=int64, numpy=\n",
              "array([[33,  3,  7,  3,  5, 11,  7, 17, 19, 14,  5,  3,  4,  2,  6,  3,\n",
              "         9, 21,  4,  3, 13, 14,  8,  4, 15,  5,  8, 20, 35,  6,  2,  2,\n",
              "        49, 33, 21,  2,  8,  2,  8,  5,  6, 10,  7, 15,  4, 43,  2, 10,\n",
              "        19, 57, 19, 51, 19,  8,  2, 12,  2,  4, 22,  2, 10, 19, 15, 18,\n",
              "        50, 10,  5, 20,  7, 17, 14,  8,  2, 10,  6,  4,  9,  7, 11,  7,\n",
              "         6,  2,  5,  6, 10, 19,  8,  2, 12,  2,  4, 22,  2, 10, 14, 11,\n",
              "         5, 12,  2, 23,  7, 17,  7,  8, 19, 21,  2,  2, 35,  9, 25,  0,\n",
              "         0,  0,  0,  0,  0,  0,  0,  0,  0,  0,  0,  0,  0,  0,  0,  0,\n",
              "         0,  0,  0,  0,  0,  0,  0,  0,  0,  0,  0,  0,  0,  0,  0,  0,\n",
              "         0,  0,  0,  0,  0,  0,  0,  0,  0,  0,  0,  0,  0,  0,  0,  0,\n",
              "         0,  0,  0,  0,  0,  0,  0,  0,  0,  0,  0,  0,  0,  0,  0,  0,\n",
              "         0,  0,  0,  0,  0,  0,  0,  0,  0,  0,  0,  0,  0,  0,  0,  0,\n",
              "         0,  0,  0,  0,  0,  0,  0,  0,  0,  0,  0,  0,  0,  0,  0,  0,\n",
              "         0,  0,  0,  0,  0,  0,  0,  0,  0,  0,  0,  0,  0,  0,  0,  0,\n",
              "         0,  0,  0,  0,  0,  0,  0,  0,  0,  0,  0,  0,  0,  0,  0,  0,\n",
              "         0,  0,  0,  0,  0,  0,  0,  0,  0,  0,  0,  0,  0,  0,  0,  0,\n",
              "         0,  0,  0,  0,  0,  0,  0,  0,  0,  0,  0,  0,  0,  0,  0,  0,\n",
              "         0,  0,  0,  0,  0,  0,  0,  0,  0,  0,  0,  0,  0,  0,  0,  0,\n",
              "         0,  0]])>"
            ]
          },
          "metadata": {
            "tags": []
          },
          "execution_count": 93
        }
      ]
    },
    {
      "cell_type": "code",
      "metadata": {
        "id": "adUfT74kg-mx"
      },
      "source": [
        "char_embedding = Embedding(input_dim = len(char_vocab),\n",
        "                           output_dim = 25)"
      ],
      "execution_count": null,
      "outputs": []
    },
    {
      "cell_type": "code",
      "metadata": {
        "colab": {
          "base_uri": "https://localhost:8080/"
        },
        "id": "rL3jd1PyjL61",
        "outputId": "51952f0d-cd65-49bd-efd2-fcd2ab7a45b0"
      },
      "source": [
        "char_embedding(char_vect([X_train_char[1]]))"
      ],
      "execution_count": null,
      "outputs": [
        {
          "output_type": "execute_result",
          "data": {
            "text/plain": [
              "<tf.Tensor: shape=(1, 290, 25), dtype=float32, numpy=\n",
              "array([[[ 4.6612095e-02,  4.6899926e-02,  1.9555520e-02, ...,\n",
              "          3.7848949e-05,  2.9834285e-03,  2.0509113e-02],\n",
              "        [ 1.2557689e-02,  2.7835343e-02,  1.1143077e-02, ...,\n",
              "         -2.0304024e-02,  5.4673441e-03,  3.4783278e-02],\n",
              "        [-1.4256321e-02, -4.6135068e-02,  3.6678936e-02, ...,\n",
              "         -4.4733919e-02, -1.5246354e-02, -2.4422467e-02],\n",
              "        ...,\n",
              "        [-1.0780655e-02, -4.6866536e-02,  4.4518400e-02, ...,\n",
              "          3.0776635e-03,  4.8200820e-02, -1.9326283e-02],\n",
              "        [-1.0780655e-02, -4.6866536e-02,  4.4518400e-02, ...,\n",
              "          3.0776635e-03,  4.8200820e-02, -1.9326283e-02],\n",
              "        [-1.0780655e-02, -4.6866536e-02,  4.4518400e-02, ...,\n",
              "          3.0776635e-03,  4.8200820e-02, -1.9326283e-02]]], dtype=float32)>"
            ]
          },
          "metadata": {
            "tags": []
          },
          "execution_count": 95
        }
      ]
    },
    {
      "cell_type": "markdown",
      "metadata": {
        "id": "h5xHcBTwnSFi"
      },
      "source": [
        "#### Prepare Datasets"
      ]
    },
    {
      "cell_type": "code",
      "metadata": {
        "id": "IA8qCWM4muak"
      },
      "source": [
        "ds_train_char = tf.data.Dataset.from_tensor_slices((X_train_char, y_train_one_hot))\n",
        "ds_test_char = tf.data.Dataset.from_tensor_slices((X_test_char, y_test_one_hot))\n",
        "ds_val_char = tf.data.Dataset.from_tensor_slices((X_val_char, y_val_one_hot))"
      ],
      "execution_count": null,
      "outputs": []
    },
    {
      "cell_type": "code",
      "metadata": {
        "colab": {
          "base_uri": "https://localhost:8080/"
        },
        "id": "27Al8GrcnQ5P",
        "outputId": "43c6c70a-3af8-4a6c-9775-814e8e2f8696"
      },
      "source": [
        "# Take the TensorSliceDataset's and turn them into prefetched batches\n",
        "ds_train_char = ds_train_char.batch(32).prefetch(tf.data.AUTOTUNE)\n",
        "ds_val_char = ds_val_char.batch(32).prefetch(tf.data.AUTOTUNE)\n",
        "ds_test_char = ds_test_char.batch(32).prefetch(tf.data.AUTOTUNE)\n",
        "\n",
        "ds_train_char"
      ],
      "execution_count": null,
      "outputs": [
        {
          "output_type": "execute_result",
          "data": {
            "text/plain": [
              "<PrefetchDataset shapes: ((None,), (None, 5)), types: (tf.string, tf.float64)>"
            ]
          },
          "metadata": {
            "tags": []
          },
          "execution_count": 97
        }
      ]
    },
    {
      "cell_type": "markdown",
      "metadata": {
        "id": "s4GocDKSHhpQ"
      },
      "source": [
        "#### Build, compile, fit and save model"
      ]
    },
    {
      "cell_type": "code",
      "metadata": {
        "id": "_nwpal5gkFAg"
      },
      "source": [
        "inputs = Input(shape = (1,), dtype = 'string')\n",
        "x = char_vect(inputs)\n",
        "x = char_embedding(x)\n",
        "x = Conv1D(64, 5, padding = 'same', activation='relu')(x)\n",
        "x = GlobalAveragePooling1D()(x)\n",
        "x = Dense(128, activation = 'relu')(x)\n",
        "outputs = Dense(len(classes), activation='softmax')(x)"
      ],
      "execution_count": null,
      "outputs": []
    },
    {
      "cell_type": "code",
      "metadata": {
        "id": "A0dyoTV6mTww"
      },
      "source": [
        "model_4 = Model(inputs, outputs)"
      ],
      "execution_count": null,
      "outputs": []
    },
    {
      "cell_type": "code",
      "metadata": {
        "id": "IhCm8uGdmXar"
      },
      "source": [
        "model_4.compile(optimizer='adam', metrics='accuracy', loss = 'categorical_crossentropy')"
      ],
      "execution_count": null,
      "outputs": []
    },
    {
      "cell_type": "code",
      "metadata": {
        "colab": {
          "base_uri": "https://localhost:8080/"
        },
        "id": "Yt5egpUcmjNg",
        "outputId": "4ef45dc0-6c67-4280-9bec-d261cd27cb60"
      },
      "source": [
        "model_4.summary()"
      ],
      "execution_count": null,
      "outputs": [
        {
          "output_type": "stream",
          "text": [
            "Model: \"model_2\"\n",
            "_________________________________________________________________\n",
            "Layer (type)                 Output Shape              Param #   \n",
            "=================================================================\n",
            "input_3 (InputLayer)         [(None, 1)]               0         \n",
            "_________________________________________________________________\n",
            "text_vectorization_4 (TextVe (None, 290)               0         \n",
            "_________________________________________________________________\n",
            "embedding_4 (Embedding)      (None, 290, 25)           1750      \n",
            "_________________________________________________________________\n",
            "conv1d_2 (Conv1D)            (None, 290, 64)           8064      \n",
            "_________________________________________________________________\n",
            "global_average_pooling1d_2 ( (None, 64)                0         \n",
            "_________________________________________________________________\n",
            "dense_2 (Dense)              (None, 128)               8320      \n",
            "_________________________________________________________________\n",
            "dense_3 (Dense)              (None, 5)                 645       \n",
            "=================================================================\n",
            "Total params: 18,779\n",
            "Trainable params: 18,779\n",
            "Non-trainable params: 0\n",
            "_________________________________________________________________\n"
          ],
          "name": "stdout"
        }
      ]
    },
    {
      "cell_type": "code",
      "metadata": {
        "colab": {
          "base_uri": "https://localhost:8080/"
        },
        "id": "2YZ_Zphamk_4",
        "outputId": "539fd56d-4bfb-41a5-fe0d-e3072f4f1160"
      },
      "source": [
        "history_4 = model_4.fit(ds_train_char, epochs = 5,\n",
        "                        validation_data = ds_val_char,\n",
        "                        validation_steps = int(0.1*len(ds_val_char)),\n",
        "                        callbacks = create_tf_board_callback(DIR, 'model_4_conv1d_char'))"
      ],
      "execution_count": null,
      "outputs": [
        {
          "output_type": "stream",
          "text": [
            "Saving TensorBoard log files to model_logs/model_4_conv1d_char/20210721-104230\n",
            "Epoch 1/5\n",
            "5627/5627 [==============================] - 133s 24ms/step - loss: 1.0563 - accuracy: 0.5690 - val_loss: 0.9607 - val_accuracy: 0.6097\n",
            "Epoch 2/5\n",
            "5627/5627 [==============================] - 136s 24ms/step - loss: 0.9053 - accuracy: 0.6349 - val_loss: 0.8389 - val_accuracy: 0.6582\n",
            "Epoch 3/5\n",
            "5627/5627 [==============================] - 133s 24ms/step - loss: 0.8024 - accuracy: 0.6791 - val_loss: 0.7808 - val_accuracy: 0.6878\n",
            "Epoch 4/5\n",
            "5627/5627 [==============================] - 133s 24ms/step - loss: 0.7386 - accuracy: 0.7072 - val_loss: 0.7342 - val_accuracy: 0.7111\n",
            "Epoch 5/5\n",
            "5627/5627 [==============================] - 133s 24ms/step - loss: 0.6961 - accuracy: 0.7283 - val_loss: 0.6942 - val_accuracy: 0.7257\n"
          ],
          "name": "stdout"
        }
      ]
    },
    {
      "cell_type": "code",
      "metadata": {
        "colab": {
          "base_uri": "https://localhost:8080/",
          "height": 593
        },
        "id": "XdUEgBQ2oBGK",
        "outputId": "1a359f4e-6dff-44fe-ad5e-4e4f8a3d4aa4"
      },
      "source": [
        "plot_loss_curves(history_4)"
      ],
      "execution_count": null,
      "outputs": [
        {
          "output_type": "display_data",
          "data": {
            "image/png": "[encoded data removed]",
            "text/plain": [
              "<Figure size 432x288 with 1 Axes>"
            ]
          },
          "metadata": {
            "tags": [],
            "needs_background": "light"
          }
        },
        {
          "output_type": "display_data",
          "data": {
            "image/png": "[encoded data removed]",
            "text/plain": [
              "<Figure size 432x288 with 1 Axes>"
            ]
          },
          "metadata": {
            "tags": [],
            "needs_background": "light"
          }
        }
      ]
    },
    {
      "cell_type": "code",
      "metadata": {
        "colab": {
          "base_uri": "https://localhost:8080/"
        },
        "id": "4HlUazOdpALC",
        "outputId": "8e8fa5cd-4ba4-4616-ce7a-0d4ac1a537b5"
      },
      "source": [
        "model_4.save('/content/drive/MyDrive/projects/SPICED/models/SkimLit_model_4')"
      ],
      "execution_count": null,
      "outputs": [
        {
          "output_type": "stream",
          "text": [
            "INFO:tensorflow:Assets written to: /content/drive/MyDrive/projects/SPICED/models/SkimLit_model_4/assets\n"
          ],
          "name": "stdout"
        },
        {
          "output_type": "stream",
          "text": [
            "INFO:tensorflow:Assets written to: /content/drive/MyDrive/projects/SPICED/models/SkimLit_model_4/assets\n"
          ],
          "name": "stderr"
        }
      ]
    },
    {
      "cell_type": "markdown",
      "metadata": {
        "id": "MDKWaafhHsiT"
      },
      "source": [
        "#### Load model and make predictions"
      ]
    },
    {
      "cell_type": "code",
      "metadata": {
        "id": "OTvRwdBApALP"
      },
      "source": [
        "load_model_4 = tf.keras.models.load_model('/content/drive/MyDrive/projects/SPICED/models/SkimLit_model_4')"
      ],
      "execution_count": null,
      "outputs": []
    },
    {
      "cell_type": "code",
      "metadata": {
        "id": "fUp2mYzrpALQ"
      },
      "source": [
        "prob_4 = load_model_4.predict(X_test_char)"
      ],
      "execution_count": null,
      "outputs": []
    },
    {
      "cell_type": "code",
      "metadata": {
        "id": "s_DUhjvZpALR"
      },
      "source": [
        "pred_4 = tf.argmax(prob_4, axis = 1)"
      ],
      "execution_count": null,
      "outputs": []
    },
    {
      "cell_type": "code",
      "metadata": {
        "id": "KAsBZk9RpALS"
      },
      "source": [
        "save_results('model_4_char_conv1d',y_test, pred_4)"
      ],
      "execution_count": null,
      "outputs": []
    },
    {
      "cell_type": "code",
      "metadata": {
        "colab": {
          "base_uri": "https://localhost:8080/",
          "height": 252
        },
        "id": "4LtNvTympALT",
        "outputId": "11d8dcf2-d951-4280-ccd4-c6633e84bf56"
      },
      "source": [
        "df_results"
      ],
      "execution_count": null,
      "outputs": [
        {
          "output_type": "execute_result",
          "data": {
            "text/html": [
              "<div>\n",
              "<style scoped>\n",
              "    .dataframe tbody tr th:only-of-type {\n",
              "        vertical-align: middle;\n",
              "    }\n",
              "\n",
              "    .dataframe tbody tr th {\n",
              "        vertical-align: top;\n",
              "    }\n",
              "\n",
              "    .dataframe thead th {\n",
              "        text-align: right;\n",
              "    }\n",
              "</style>\n",
              "<table border=\"1\" class=\"dataframe\">\n",
              "  <thead>\n",
              "    <tr style=\"text-align: right;\">\n",
              "      <th></th>\n",
              "      <th>model</th>\n",
              "      <th>accuracy</th>\n",
              "    </tr>\n",
              "  </thead>\n",
              "  <tbody>\n",
              "    <tr>\n",
              "      <th>0</th>\n",
              "      <td>LR_base</td>\n",
              "      <td>0.797113</td>\n",
              "    </tr>\n",
              "    <tr>\n",
              "      <th>1</th>\n",
              "      <td>Naive_Bayers</td>\n",
              "      <td>0.718268</td>\n",
              "    </tr>\n",
              "    <tr>\n",
              "      <th>2</th>\n",
              "      <td>model_1_128_dense</td>\n",
              "      <td>0.776572</td>\n",
              "    </tr>\n",
              "    <tr>\n",
              "      <th>3</th>\n",
              "      <td>model_2_64_conv1d</td>\n",
              "      <td>0.778264</td>\n",
              "    </tr>\n",
              "    <tr>\n",
              "      <th>4</th>\n",
              "      <td>model_3_use_128</td>\n",
              "      <td>0.766517</td>\n",
              "    </tr>\n",
              "    <tr>\n",
              "      <th>5</th>\n",
              "      <td>model_4_char_conv1d</td>\n",
              "      <td>0.730977</td>\n",
              "    </tr>\n",
              "  </tbody>\n",
              "</table>\n",
              "</div>"
            ],
            "text/plain": [
              "                 model  accuracy\n",
              "0              LR_base  0.797113\n",
              "1         Naive_Bayers  0.718268\n",
              "2    model_1_128_dense  0.776572\n",
              "3    model_2_64_conv1d  0.778264\n",
              "4      model_3_use_128  0.766517\n",
              "5  model_4_char_conv1d  0.730977"
            ]
          },
          "metadata": {
            "tags": []
          },
          "execution_count": 134
        }
      ]
    },
    {
      "cell_type": "markdown",
      "metadata": {
        "id": "yR7MRtpIrI0B"
      },
      "source": [
        "### 5 Model Bi-LSTM for characters embedding"
      ]
    },
    {
      "cell_type": "markdown",
      "metadata": {
        "id": "01Ndyl90H-sm"
      },
      "source": [
        "#### Build, compile , fit and save model"
      ]
    },
    {
      "cell_type": "code",
      "metadata": {
        "id": "udNQokmSpQrg"
      },
      "source": [
        "inputs = Input(shape = (1,), dtype = 'string')\n",
        "x = char_vect(inputs)\n",
        "x = char_embedding(x)\n",
        "x = Bidirectional(LSTM(24))(x)\n",
        "outputs = Dense(len(classes), activation='softmax')(x)"
      ],
      "execution_count": null,
      "outputs": []
    },
    {
      "cell_type": "code",
      "metadata": {
        "id": "yoOcyASKriuQ"
      },
      "source": [
        "model_5 = Model(inputs, outputs)"
      ],
      "execution_count": null,
      "outputs": []
    },
    {
      "cell_type": "code",
      "metadata": {
        "id": "XZWCRJqnrnuk"
      },
      "source": [
        "model_5.compile(optimizer=tf.keras.optimizers.SGD(), metrics='accuracy', loss = 'categorical_crossentropy')"
      ],
      "execution_count": null,
      "outputs": []
    },
    {
      "cell_type": "code",
      "metadata": {
        "colab": {
          "base_uri": "https://localhost:8080/"
        },
        "id": "FyIS8ImWryCE",
        "outputId": "07c80935-35f4-47cc-ac3a-dc6ebff583dc"
      },
      "source": [
        "model_5.summary()"
      ],
      "execution_count": null,
      "outputs": [
        {
          "output_type": "stream",
          "text": [
            "Model: \"model\"\n",
            "_________________________________________________________________\n",
            "Layer (type)                 Output Shape              Param #   \n",
            "=================================================================\n",
            "input_1 (InputLayer)         [(None, 1)]               0         \n",
            "_________________________________________________________________\n",
            "text_vectorization_2 (TextVe (None, 290)               0         \n",
            "_________________________________________________________________\n",
            "embedding_1 (Embedding)      (None, 290, 25)           1750      \n",
            "_________________________________________________________________\n",
            "bidirectional (Bidirectional (None, 48)                9600      \n",
            "_________________________________________________________________\n",
            "dense (Dense)                (None, 5)                 245       \n",
            "=================================================================\n",
            "Total params: 11,595\n",
            "Trainable params: 11,595\n",
            "Non-trainable params: 0\n",
            "_________________________________________________________________\n"
          ],
          "name": "stdout"
        }
      ]
    },
    {
      "cell_type": "code",
      "metadata": {
        "colab": {
          "base_uri": "https://localhost:8080/"
        },
        "id": "IWyjSFQgrtOE",
        "outputId": "b38708ba-8669-42af-ada2-bfface8a6373"
      },
      "source": [
        "history_5 = model_5.fit(ds_train_char, epochs = 3,\n",
        "                        steps_per_epoch = int(0.1*len(ds_train_char)),\n",
        "                        validation_data = ds_val_char,\n",
        "                        validation_steps = int(0.1*len(ds_val_char)),\n",
        "                        callbacks = create_tf_board_callback(DIR, 'model_5_BI-LSTM_char'))"
      ],
      "execution_count": null,
      "outputs": [
        {
          "output_type": "stream",
          "text": [
            "Saving TensorBoard log files to model_logs/model_5_BI-LSTM_char/20210722-073257\n",
            "Epoch 1/3\n",
            "562/562 [==============================] - 113s 193ms/step - loss: 1.4958 - accuracy: 0.3288 - val_loss: 1.4731 - val_accuracy: 0.3298\n",
            "Epoch 2/3\n",
            "562/562 [==============================] - 106s 188ms/step - loss: 1.4678 - accuracy: 0.3285 - val_loss: 1.4721 - val_accuracy: 0.3215\n",
            "Epoch 3/3\n",
            "562/562 [==============================] - 108s 192ms/step - loss: 1.4698 - accuracy: 0.3329 - val_loss: 1.4715 - val_accuracy: 0.3580\n"
          ],
          "name": "stdout"
        }
      ]
    },
    {
      "cell_type": "code",
      "metadata": {
        "colab": {
          "base_uri": "https://localhost:8080/",
          "height": 593
        },
        "id": "fvoFpY2HuMlM",
        "outputId": "95f1a8ee-9924-44b1-a79a-9a4c4fba7d06"
      },
      "source": [
        "plot_loss_curves(history_5)"
      ],
      "execution_count": null,
      "outputs": [
        {
          "output_type": "display_data",
          "data": {
            "image/png": "[encoded data removed]",
            "text/plain": [
              "<Figure size 432x288 with 1 Axes>"
            ]
          },
          "metadata": {
            "tags": [],
            "needs_background": "light"
          }
        },
        {
          "output_type": "display_data",
          "data": {
            "image/png": "[encoded data removed]",
            "text/plain": [
              "<Figure size 432x288 with 1 Axes>"
            ]
          },
          "metadata": {
            "tags": [],
            "needs_background": "light"
          }
        }
      ]
    },
    {
      "cell_type": "code",
      "metadata": {
        "colab": {
          "base_uri": "https://localhost:8080/"
        },
        "id": "Qg31NUSguMlR",
        "outputId": "564fa178-10a1-4aec-d608-d2ea4983e322"
      },
      "source": [
        "model_5.save('/content/drive/MyDrive/projects/SPICED/models/SkimLit_model_5')"
      ],
      "execution_count": null,
      "outputs": [
        {
          "output_type": "stream",
          "text": [
            "WARNING:absl:Found untraced functions such as lstm_cell_1_layer_call_and_return_conditional_losses, lstm_cell_1_layer_call_fn, lstm_cell_2_layer_call_and_return_conditional_losses, lstm_cell_2_layer_call_fn, lstm_cell_1_layer_call_fn while saving (showing 5 of 10). These functions will not be directly callable after loading.\n"
          ],
          "name": "stderr"
        },
        {
          "output_type": "stream",
          "text": [
            "INFO:tensorflow:Assets written to: /content/drive/MyDrive/projects/SPICED/models/SkimLit_model_5/assets\n"
          ],
          "name": "stdout"
        },
        {
          "output_type": "stream",
          "text": [
            "INFO:tensorflow:Assets written to: /content/drive/MyDrive/projects/SPICED/models/SkimLit_model_5/assets\n"
          ],
          "name": "stderr"
        }
      ]
    },
    {
      "cell_type": "markdown",
      "metadata": {
        "id": "P97VtEpUJBXx"
      },
      "source": [
        "#### Load model and make predictions"
      ]
    },
    {
      "cell_type": "code",
      "metadata": {
        "id": "ZbSlP2WpuMlS"
      },
      "source": [
        "load_model_5 = tf.keras.models.load_model('/content/drive/MyDrive/projects/SPICED/models/SkimLit_model_5')"
      ],
      "execution_count": null,
      "outputs": []
    },
    {
      "cell_type": "code",
      "metadata": {
        "id": "Aq74-iF4uMlT"
      },
      "source": [
        "prob_5 = load_model_5.predict(X_test_char)"
      ],
      "execution_count": null,
      "outputs": []
    },
    {
      "cell_type": "code",
      "metadata": {
        "id": "bOP_JekLuMlU"
      },
      "source": [
        "pred_5 = tf.argmax(prob_5, axis = 1)"
      ],
      "execution_count": null,
      "outputs": []
    },
    {
      "cell_type": "code",
      "metadata": {
        "id": "71Dgy1wHuMlV"
      },
      "source": [
        "save_results('model_5_char_bi_LSTM',y_test, pred_5)"
      ],
      "execution_count": null,
      "outputs": []
    },
    {
      "cell_type": "code",
      "metadata": {
        "colab": {
          "base_uri": "https://localhost:8080/",
          "height": 282
        },
        "id": "jE4kqDC-uMlV",
        "outputId": "f726d2ef-2e13-41a1-8319-31f6ba8d7558"
      },
      "source": [
        "df_results"
      ],
      "execution_count": null,
      "outputs": [
        {
          "output_type": "execute_result",
          "data": {
            "text/html": [
              "<div>\n",
              "<style scoped>\n",
              "    .dataframe tbody tr th:only-of-type {\n",
              "        vertical-align: middle;\n",
              "    }\n",
              "\n",
              "    .dataframe tbody tr th {\n",
              "        vertical-align: top;\n",
              "    }\n",
              "\n",
              "    .dataframe thead th {\n",
              "        text-align: right;\n",
              "    }\n",
              "</style>\n",
              "<table border=\"1\" class=\"dataframe\">\n",
              "  <thead>\n",
              "    <tr style=\"text-align: right;\">\n",
              "      <th></th>\n",
              "      <th>model</th>\n",
              "      <th>accuracy</th>\n",
              "    </tr>\n",
              "  </thead>\n",
              "  <tbody>\n",
              "    <tr>\n",
              "      <th>0</th>\n",
              "      <td>LR_base</td>\n",
              "      <td>0.797113</td>\n",
              "    </tr>\n",
              "    <tr>\n",
              "      <th>1</th>\n",
              "      <td>Naive_Bayers</td>\n",
              "      <td>0.718268</td>\n",
              "    </tr>\n",
              "    <tr>\n",
              "      <th>2</th>\n",
              "      <td>model_1_128_dense</td>\n",
              "      <td>0.776572</td>\n",
              "    </tr>\n",
              "    <tr>\n",
              "      <th>3</th>\n",
              "      <td>model_2_64_conv1d</td>\n",
              "      <td>0.778264</td>\n",
              "    </tr>\n",
              "    <tr>\n",
              "      <th>4</th>\n",
              "      <td>model_3_use_128</td>\n",
              "      <td>0.766517</td>\n",
              "    </tr>\n",
              "    <tr>\n",
              "      <th>5</th>\n",
              "      <td>model_4_char_conv1d</td>\n",
              "      <td>0.730977</td>\n",
              "    </tr>\n",
              "    <tr>\n",
              "      <th>6</th>\n",
              "      <td>model_5_char_bi_LSTM</td>\n",
              "      <td>0.363066</td>\n",
              "    </tr>\n",
              "  </tbody>\n",
              "</table>\n",
              "</div>"
            ],
            "text/plain": [
              "                  model  accuracy\n",
              "0               LR_base  0.797113\n",
              "1          Naive_Bayers  0.718268\n",
              "2     model_1_128_dense  0.776572\n",
              "3     model_2_64_conv1d  0.778264\n",
              "4       model_3_use_128  0.766517\n",
              "5   model_4_char_conv1d  0.730977\n",
              "6  model_5_char_bi_LSTM  0.363066"
            ]
          },
          "metadata": {
            "tags": []
          },
          "execution_count": 146
        }
      ]
    },
    {
      "cell_type": "markdown",
      "metadata": {
        "id": "l0jjNEdTszB3"
      },
      "source": [
        "### 6 Model Combining pretrained token embeddings Dense 128 + custom character embeddings Bi-LSTM (hybrid embedding layer)\n",
        "\n",
        "This hybrid token embedding layer is a combination of token embeddings and character embeddings. In other words, they create a stacked embedding to represent sequences before passing them to the sequence label prediction layer.\n",
        "\n",
        "We're going to go through the following steps:\n",
        "- Create a token-level model (similar to model_2)\n",
        "- Create a character-level model (similar to model_4 with a slight modification to reflect the paper) https://arxiv.org/pdf/1612.05251.pdf\n",
        "- Combine (using layers.Concatenate) the outputs of 1 and 2\n",
        "- Build a series of output layers on top of 3 similar to Figure 1 and section 4.2 of Neural Networks for Joint Sentence Classification in Medical Paper Abstracts\n",
        "- Construct a model which takes token and character-level sequences as input and produces sequence label probabilities as output"
      ]
    },
    {
      "cell_type": "markdown",
      "metadata": {
        "id": "774TE8O-Kemq"
      },
      "source": [
        "#### Set up tokens inputs/model"
      ]
    },
    {
      "cell_type": "code",
      "metadata": {
        "id": "7rILttmQtV0G"
      },
      "source": [
        "token_inputs = Input(shape = [], dtype = 'string', name = 'token_inputs')\n",
        "x = use_layer(token_inputs)\n",
        "token_outputs = Dense(128, activation = 'relu', name = 'token_outputs')(x)\n",
        "token_model = Model(inputs = token_inputs, outputs = token_outputs)"
      ],
      "execution_count": null,
      "outputs": []
    },
    {
      "cell_type": "code",
      "metadata": {
        "colab": {
          "base_uri": "https://localhost:8080/"
        },
        "id": "Mc8j0PTN0hZP",
        "outputId": "5fc72e25-8faa-40e6-ef72-61566ba82a05"
      },
      "source": [
        "token_model.output"
      ],
      "execution_count": null,
      "outputs": [
        {
          "output_type": "execute_result",
          "data": {
            "text/plain": [
              "<KerasTensor: shape=(None, 128) dtype=float32 (created by layer 'token_outputs')>"
            ]
          },
          "metadata": {
            "tags": []
          },
          "execution_count": 263
        }
      ]
    },
    {
      "cell_type": "markdown",
      "metadata": {
        "id": "E5ZZEdWtKnF6"
      },
      "source": [
        "#### Set up characters inputs/model"
      ]
    },
    {
      "cell_type": "code",
      "metadata": {
        "id": "-MAU6mkBw2ts"
      },
      "source": [
        "char_inputs = Input(shape = (1,), dtype = 'string', name = 'char_inputs')\n",
        "x = char_vect(char_inputs)\n",
        "x = char_embedding(x)\n",
        "char_outputs = Bidirectional(LSTM(24), name = 'char_outputs')(x)\n",
        "char_model = Model(inputs = char_inputs, outputs = char_outputs)"
      ],
      "execution_count": null,
      "outputs": []
    },
    {
      "cell_type": "code",
      "metadata": {
        "colab": {
          "base_uri": "https://localhost:8080/"
        },
        "id": "z2TiHT0K0sFN",
        "outputId": "308552ae-fd03-4d92-ed4a-e327c53520bc"
      },
      "source": [
        "char_model.output"
      ],
      "execution_count": null,
      "outputs": [
        {
          "output_type": "execute_result",
          "data": {
            "text/plain": [
              "<KerasTensor: shape=(None, 48) dtype=float32 (created by layer 'char_outputs')>"
            ]
          },
          "metadata": {
            "tags": []
          },
          "execution_count": 265
        }
      ]
    },
    {
      "cell_type": "markdown",
      "metadata": {
        "id": "SzGL4FhUK4UH"
      },
      "source": [
        "#### Concatinate both models as input"
      ]
    },
    {
      "cell_type": "code",
      "metadata": {
        "id": "Cd2DCyFIxVEe"
      },
      "source": [
        "token_char_concat = tf.keras.layers.Concatenate(name = 'token_char_concat')([token_model.output, char_model.output])"
      ],
      "execution_count": null,
      "outputs": []
    },
    {
      "cell_type": "markdown",
      "metadata": {
        "id": "Zt_1Y9snLBzw"
      },
      "source": [
        "#### Create last layers and output"
      ]
    },
    {
      "cell_type": "code",
      "metadata": {
        "id": "mWjGrPJSzJsY"
      },
      "source": [
        "# Create dropout layer (50% as in paper)\n",
        "dropout = tf.keras.layers.Dropout(0.5, name = 'combined_dropout')(token_char_concat)\n",
        "# Create Dense layer\n",
        "dense = Dense(200, activation='relu', name = 'hidden_dense_layer')(dropout)\n",
        "# Final Dropout\n",
        "final_dropout = tf.keras.layers.Dropout(0.5, name = 'final_dropout')(dense)\n",
        "# Final output\n",
        "final_output = Dense(len(classes), activation='softmax', name = 'final_output')(final_dropout)"
      ],
      "execution_count": null,
      "outputs": []
    },
    {
      "cell_type": "markdown",
      "metadata": {
        "id": "D6zL6bK0LZ7S"
      },
      "source": [
        "#### Build, compile and explore model"
      ]
    },
    {
      "cell_type": "code",
      "metadata": {
        "id": "XYOdqCnL3CBC"
      },
      "source": [
        "model_6 = Model(inputs = [token_model.input, char_model.input], outputs = final_output,\n",
        "                name=\"model_6_token_and_char_embeddings\")"
      ],
      "execution_count": null,
      "outputs": []
    },
    {
      "cell_type": "code",
      "metadata": {
        "id": "2OoqQKiD3VAI"
      },
      "source": [
        "model_6.compile(optimizer='adam', metrics = 'accuracy', loss = 'categorical_crossentropy')"
      ],
      "execution_count": null,
      "outputs": []
    },
    {
      "cell_type": "code",
      "metadata": {
        "colab": {
          "base_uri": "https://localhost:8080/"
        },
        "id": "mYe--CMj30_5",
        "outputId": "dd41a85f-d7b6-4408-9f6d-9ed94bcfb15c"
      },
      "source": [
        "model_6.summary()"
      ],
      "execution_count": null,
      "outputs": [
        {
          "output_type": "stream",
          "text": [
            "Model: \"model_6_token_and_char_embeddings\"\n",
            "__________________________________________________________________________________________________\n",
            "Layer (type)                    Output Shape         Param #     Connected to                     \n",
            "==================================================================================================\n",
            "char_inputs (InputLayer)        [(None, 1)]          0                                            \n",
            "__________________________________________________________________________________________________\n",
            "token_inputs (InputLayer)       [(None,)]            0                                            \n",
            "__________________________________________________________________________________________________\n",
            "text_vectorization_4 (TextVecto (None, 290)          0           char_inputs[0][0]                \n",
            "__________________________________________________________________________________________________\n",
            "keras_layer (KerasLayer)        (None, 512)          256797824   token_inputs[0][0]               \n",
            "__________________________________________________________________________________________________\n",
            "embedding_4 (Embedding)         (None, 290, 25)      1750        text_vectorization_4[10][0]      \n",
            "__________________________________________________________________________________________________\n",
            "token_outputs (Dense)           (None, 128)          65664       keras_layer[1][0]                \n",
            "__________________________________________________________________________________________________\n",
            "char_outputs (Bidirectional)    (None, 48)           9600        embedding_4[10][0]               \n",
            "__________________________________________________________________________________________________\n",
            "token_char_concat (Concatenate) (None, 176)          0           token_outputs[0][0]              \n",
            "                                                                 char_outputs[0][0]               \n",
            "__________________________________________________________________________________________________\n",
            "combined_dropout (Dropout)      (None, 176)          0           token_char_concat[0][0]          \n",
            "__________________________________________________________________________________________________\n",
            "hidden_dense_layer (Dense)      (None, 200)          35400       combined_dropout[0][0]           \n",
            "__________________________________________________________________________________________________\n",
            "final_dropout (Dropout)         (None, 200)          0           hidden_dense_layer[0][0]         \n",
            "__________________________________________________________________________________________________\n",
            "final_output (Dense)            (None, 5)            1005        final_dropout[0][0]              \n",
            "==================================================================================================\n",
            "Total params: 256,911,243\n",
            "Trainable params: 113,419\n",
            "Non-trainable params: 256,797,824\n",
            "__________________________________________________________________________________________________\n"
          ],
          "name": "stdout"
        }
      ]
    },
    {
      "cell_type": "code",
      "metadata": {
        "colab": {
          "base_uri": "https://localhost:8080/",
          "height": 996
        },
        "id": "1aF-igBv33ye",
        "outputId": "7a3db751-e5b3-43a2-81dc-702462bfe170"
      },
      "source": [
        "from tensorflow.keras.utils import plot_model\n",
        "plot_model(model_6, show_shapes=True)\n"
      ],
      "execution_count": null,
      "outputs": [
        {
          "output_type": "execute_result",
          "data": {
            "image/png": "[encoded data removed]",
            "text/plain": [
              "<IPython.core.display.Image object>"
            ]
          },
          "metadata": {
            "tags": []
          },
          "execution_count": 274
        }
      ]
    },
    {
      "cell_type": "markdown",
      "metadata": {
        "id": "gg-yIhG4JmfS"
      },
      "source": [
        "#### Create combined DataSets\n",
        "This is important part, i need to learn it more"
      ]
    },
    {
      "cell_type": "code",
      "metadata": {
        "id": "KU54VEfG4Gga"
      },
      "source": [
        "ds_train_sent_char = tf.data.Dataset.from_tensor_slices((X_train, X_train_char))\n",
        "ds_train_labels = tf.data.Dataset.from_tensor_slices(y_train_one_hot)\n",
        "ds_train_comb = tf.data.Dataset.zip((ds_train_sent_char, ds_train_labels))\n",
        "\n",
        "ds_val_sent_char = tf.data.Dataset.from_tensor_slices((X_val, X_val_char))\n",
        "ds_val_labels = tf.data.Dataset.from_tensor_slices(y_val_one_hot)\n",
        "ds_val_comb = tf.data.Dataset.zip((ds_val_sent_char, ds_val_labels))\n",
        "\n",
        "ds_test_sent_char = tf.data.Dataset.from_tensor_slices((X_test, X_test_char))\n",
        "ds_test_labels = tf.data.Dataset.from_tensor_slices(y_test_one_hot)\n",
        "ds_test_comb = tf.data.Dataset.zip((ds_test_sent_char, ds_test_labels))\n",
        "\n",
        "ds_train_comb = ds_train_comb.batch(32).prefetch(tf.data.AUTOTUNE)\n",
        "ds_val_comb = ds_val_comb.batch(32).prefetch(tf.data.AUTOTUNE)\n",
        "ds_test_comb = ds_test_comb.batch(32).prefetch(tf.data.AUTOTUNE)"
      ],
      "execution_count": null,
      "outputs": []
    },
    {
      "cell_type": "code",
      "metadata": {
        "colab": {
          "base_uri": "https://localhost:8080/"
        },
        "id": "Z-t4ZE01LvRT",
        "outputId": "f6ba631a-b1fd-468a-bd41-5e6a46a95b4e"
      },
      "source": [
        "ds_train_comb"
      ],
      "execution_count": null,
      "outputs": [
        {
          "output_type": "execute_result",
          "data": {
            "text/plain": [
              "<PrefetchDataset shapes: (((None,), (None,)), (None, 5)), types: ((tf.string, tf.string), tf.float64)>"
            ]
          },
          "metadata": {
            "tags": []
          },
          "execution_count": 99
        }
      ]
    },
    {
      "cell_type": "markdown",
      "metadata": {
        "id": "Iijgl7q3L4E7"
      },
      "source": [
        "#### Fit and save model"
      ]
    },
    {
      "cell_type": "code",
      "metadata": {
        "colab": {
          "base_uri": "https://localhost:8080/"
        },
        "id": "2j3OFK8cKF0D",
        "outputId": "8db1a917-5d26-401b-faac-165d044a8f5a"
      },
      "source": [
        "history_6 = model_6.fit(ds_train_comb,\n",
        "                        epochs = 5,\n",
        "                        steps_per_epoch = int(0.1*len(ds_train_comb)),\n",
        "                        validation_data = ds_val_comb,\n",
        "                        validation_steps = int(0.1*len(ds_val_comb)),\n",
        "                        callbacks = create_tf_board_callback(DIR, 'model_6_char_tokens'))"
      ],
      "execution_count": null,
      "outputs": [
        {
          "output_type": "stream",
          "text": [
            "Saving TensorBoard log files to model_logs/model_6_char_tokens/20210721-131337\n",
            "Epoch 1/5\n",
            "562/562 [==============================] - 111s 198ms/step - loss: 0.9081 - accuracy: 0.6454 - val_loss: 0.7721 - val_accuracy: 0.7031\n",
            "Epoch 2/5\n",
            "562/562 [==============================] - 110s 196ms/step - loss: 0.7902 - accuracy: 0.6945 - val_loss: 0.7098 - val_accuracy: 0.7370\n",
            "Epoch 3/5\n",
            "562/562 [==============================] - 110s 196ms/step - loss: 0.7607 - accuracy: 0.7090 - val_loss: 0.6743 - val_accuracy: 0.7490\n",
            "Epoch 4/5\n",
            "562/562 [==============================] - 110s 195ms/step - loss: 0.7264 - accuracy: 0.7286 - val_loss: 0.6531 - val_accuracy: 0.7543\n",
            "Epoch 5/5\n",
            "562/562 [==============================] - 108s 192ms/step - loss: 0.7286 - accuracy: 0.7249 - val_loss: 0.6440 - val_accuracy: 0.7550\n"
          ],
          "name": "stdout"
        }
      ]
    },
    {
      "cell_type": "code",
      "metadata": {
        "colab": {
          "base_uri": "https://localhost:8080/",
          "height": 593
        },
        "id": "QIK9rIqPM97h",
        "outputId": "bba344d3-05f5-4f97-e0db-ad0698478213"
      },
      "source": [
        "plot_loss_curves(history_6)"
      ],
      "execution_count": null,
      "outputs": [
        {
          "output_type": "display_data",
          "data": {
            "image/png": "[encoded data removed]",
            "text/plain": [
              "<Figure size 432x288 with 1 Axes>"
            ]
          },
          "metadata": {
            "tags": [],
            "needs_background": "light"
          }
        },
        {
          "output_type": "display_data",
          "data": {
            "image/png": "[encoded data removed]",
            "text/plain": [
              "<Figure size 432x288 with 1 Axes>"
            ]
          },
          "metadata": {
            "tags": [],
            "needs_background": "light"
          }
        }
      ]
    },
    {
      "cell_type": "code",
      "metadata": {
        "colab": {
          "base_uri": "https://localhost:8080/"
        },
        "id": "22K-KARCM97u",
        "outputId": "aa393aac-63d0-4258-f28e-c84521a7a9e4"
      },
      "source": [
        "model_6.save('/content/drive/MyDrive/projects/SPICED/models/SkimLit_model_6')"
      ],
      "execution_count": null,
      "outputs": [
        {
          "output_type": "stream",
          "text": [
            "WARNING:absl:Found untraced functions such as lstm_cell_25_layer_call_fn, lstm_cell_25_layer_call_and_return_conditional_losses, lstm_cell_26_layer_call_fn, lstm_cell_26_layer_call_and_return_conditional_losses, lstm_cell_25_layer_call_fn while saving (showing 5 of 10). These functions will not be directly callable after loading.\n"
          ],
          "name": "stderr"
        },
        {
          "output_type": "stream",
          "text": [
            "INFO:tensorflow:Assets written to: /content/drive/MyDrive/projects/SPICED/models/SkimLit_model_6/assets\n"
          ],
          "name": "stdout"
        },
        {
          "output_type": "stream",
          "text": [
            "INFO:tensorflow:Assets written to: /content/drive/MyDrive/projects/SPICED/models/SkimLit_model_6/assets\n"
          ],
          "name": "stderr"
        }
      ]
    },
    {
      "cell_type": "markdown",
      "metadata": {
        "id": "V6AxzCbEMJQI"
      },
      "source": [
        "#### Load model and make predictions"
      ]
    },
    {
      "cell_type": "code",
      "metadata": {
        "id": "5UCrWovWM97v"
      },
      "source": [
        "load_model_6 = tf.keras.models.load_model('/content/drive/MyDrive/projects/SPICED/models/SkimLit_model_6')"
      ],
      "execution_count": null,
      "outputs": []
    },
    {
      "cell_type": "code",
      "metadata": {
        "id": "ZtVSxtyCM97w"
      },
      "source": [
        "prob_6 = load_model_6.predict(ds_test_comb)"
      ],
      "execution_count": null,
      "outputs": []
    },
    {
      "cell_type": "code",
      "metadata": {
        "id": "Y_aWuV3OM97x"
      },
      "source": [
        "pred_6 = tf.argmax(prob_6, axis = 1)"
      ],
      "execution_count": null,
      "outputs": []
    },
    {
      "cell_type": "code",
      "metadata": {
        "id": "_UgOzCw8M97x"
      },
      "source": [
        "save_results('model_6_char_token',y_test, pred_6)"
      ],
      "execution_count": null,
      "outputs": []
    },
    {
      "cell_type": "code",
      "metadata": {
        "colab": {
          "base_uri": "https://localhost:8080/",
          "height": 252
        },
        "id": "MZL8nv5rM97y",
        "outputId": "6782e475-6c9d-49c8-9ac4-231cf1e927fa"
      },
      "source": [
        "df_results"
      ],
      "execution_count": null,
      "outputs": [
        {
          "output_type": "execute_result",
          "data": {
            "text/html": [
              "<div>\n",
              "<style scoped>\n",
              "    .dataframe tbody tr th:only-of-type {\n",
              "        vertical-align: middle;\n",
              "    }\n",
              "\n",
              "    .dataframe tbody tr th {\n",
              "        vertical-align: top;\n",
              "    }\n",
              "\n",
              "    .dataframe thead th {\n",
              "        text-align: right;\n",
              "    }\n",
              "</style>\n",
              "<table border=\"1\" class=\"dataframe\">\n",
              "  <thead>\n",
              "    <tr style=\"text-align: right;\">\n",
              "      <th></th>\n",
              "      <th>model</th>\n",
              "      <th>accuracy</th>\n",
              "    </tr>\n",
              "  </thead>\n",
              "  <tbody>\n",
              "    <tr>\n",
              "      <th>0</th>\n",
              "      <td>LR_base</td>\n",
              "      <td>0.796781</td>\n",
              "    </tr>\n",
              "    <tr>\n",
              "      <th>1</th>\n",
              "      <td>model_1_128_dense</td>\n",
              "      <td>0.776572</td>\n",
              "    </tr>\n",
              "    <tr>\n",
              "      <th>2</th>\n",
              "      <td>model_2_64_conv1d</td>\n",
              "      <td>0.778264</td>\n",
              "    </tr>\n",
              "    <tr>\n",
              "      <th>3</th>\n",
              "      <td>model_3_use_128</td>\n",
              "      <td>0.766517</td>\n",
              "    </tr>\n",
              "    <tr>\n",
              "      <th>4</th>\n",
              "      <td>model_7_char_token</td>\n",
              "      <td>0.797578</td>\n",
              "    </tr>\n",
              "    <tr>\n",
              "      <th>5</th>\n",
              "      <td>model_6_char_token</td>\n",
              "      <td>0.747536</td>\n",
              "    </tr>\n",
              "  </tbody>\n",
              "</table>\n",
              "</div>"
            ],
            "text/plain": [
              "                model  accuracy\n",
              "0             LR_base  0.796781\n",
              "1   model_1_128_dense  0.776572\n",
              "2   model_2_64_conv1d  0.778264\n",
              "3     model_3_use_128  0.766517\n",
              "4  model_7_char_token  0.797578\n",
              "5  model_6_char_token  0.747536"
            ]
          },
          "metadata": {
            "tags": []
          },
          "execution_count": 125
        }
      ]
    },
    {
      "cell_type": "markdown",
      "metadata": {
        "id": "uc3NEAXlO1SU"
      },
      "source": [
        "### 7 Model Combining custom token embeddings Conv1D (model 2) + character embeddings Conv1D (model 4)"
      ]
    },
    {
      "cell_type": "markdown",
      "metadata": {
        "id": "sMHUwTIrNBiP"
      },
      "source": [
        "##### Set up tokens inputs/model"
      ]
    },
    {
      "cell_type": "code",
      "metadata": {
        "id": "pklM7VcBhwj_"
      },
      "source": [
        "K.clear_session()"
      ],
      "execution_count": null,
      "outputs": []
    },
    {
      "cell_type": "code",
      "metadata": {
        "id": "7LA2sJMmO1Se"
      },
      "source": [
        "token_inputs = Input(shape = (1,), dtype = 'string', name = 'token_inputs')\n",
        "x = text_vect(token_inputs)\n",
        "x = embedding(x)\n",
        "x = Conv1D(64, 5, padding='same', activation='relu')(x)\n",
        "x = GlobalAveragePooling1D()(x)\n",
        "token_outputs = Dense(128, activation = 'relu', name = 'token_outputs')(x)\n",
        "token_model = Model(inputs = token_inputs, outputs = token_outputs)"
      ],
      "execution_count": null,
      "outputs": []
    },
    {
      "cell_type": "code",
      "metadata": {
        "colab": {
          "base_uri": "https://localhost:8080/"
        },
        "id": "3zNFSUnBO1Sf",
        "outputId": "6e8bc6c3-c8b9-4f84-9907-bd2659925b5a"
      },
      "source": [
        "token_model.output"
      ],
      "execution_count": null,
      "outputs": [
        {
          "output_type": "execute_result",
          "data": {
            "text/plain": [
              "<KerasTensor: shape=(None, 128) dtype=float32 (created by layer 'token_outputs')>"
            ]
          },
          "metadata": {
            "tags": []
          },
          "execution_count": 159
        }
      ]
    },
    {
      "cell_type": "markdown",
      "metadata": {
        "id": "tuM2M1gFOAKE"
      },
      "source": [
        "#### Set up characters inputs/model"
      ]
    },
    {
      "cell_type": "code",
      "metadata": {
        "id": "az2oq_HTO1Sh"
      },
      "source": [
        "char_inputs = Input(shape = (1,), dtype = 'string', name = 'char_inputs')\n",
        "x = char_vect(char_inputs)\n",
        "x = char_embedding(x)\n",
        "x = Conv1D(64, 5, padding = 'same', activation='relu')(x)\n",
        "x = GlobalAveragePooling1D()(x)\n",
        "char_outputs = Dense(128, activation = 'relu')(x)\n",
        "char_model = Model(inputs = char_inputs, outputs = char_outputs)"
      ],
      "execution_count": null,
      "outputs": []
    },
    {
      "cell_type": "code",
      "metadata": {
        "colab": {
          "base_uri": "https://localhost:8080/"
        },
        "id": "_Mu8PU-hO1Si",
        "outputId": "d1dc6170-801d-4038-f0cb-5d090752b927"
      },
      "source": [
        "char_model.output"
      ],
      "execution_count": null,
      "outputs": [
        {
          "output_type": "execute_result",
          "data": {
            "text/plain": [
              "<KerasTensor: shape=(None, 128) dtype=float32 (created by layer 'dense')>"
            ]
          },
          "metadata": {
            "tags": []
          },
          "execution_count": 161
        }
      ]
    },
    {
      "cell_type": "markdown",
      "metadata": {
        "id": "nPv5_s_BOpjx"
      },
      "source": [
        "#### Concatinate both models as input"
      ]
    },
    {
      "cell_type": "code",
      "metadata": {
        "id": "S-kynNLBO1Sj"
      },
      "source": [
        "token_char_concat = tf.keras.layers.Concatenate(name = 'token_char_concat')([token_model.output, char_model.output])"
      ],
      "execution_count": null,
      "outputs": []
    },
    {
      "cell_type": "markdown",
      "metadata": {
        "id": "do6hd19cOzXR"
      },
      "source": [
        "#### Create last layers"
      ]
    },
    {
      "cell_type": "code",
      "metadata": {
        "id": "FR9brY0XO1Sk"
      },
      "source": [
        "# Create dropout layer (50% as in paper)\n",
        "dropout = tf.keras.layers.Dropout(0.5, name = 'combined_dropout')(token_char_concat)\n",
        "# Create Dense layer\n",
        "dense = Dense(200, activation='relu', name = 'hidden_dense_layer')(dropout)\n",
        "# Final Dropout\n",
        "final_dropout = tf.keras.layers.Dropout(0.5, name = 'final_dropout')(dense)\n",
        "# Final output\n",
        "final_output = Dense(len(classes), activation='softmax', name = 'final_output')(final_dropout)"
      ],
      "execution_count": null,
      "outputs": []
    },
    {
      "cell_type": "markdown",
      "metadata": {
        "id": "PGOV1rZfPSIr"
      },
      "source": [
        "#### Build, compile and explore model"
      ]
    },
    {
      "cell_type": "code",
      "metadata": {
        "id": "LS7FPwp1O1Sm"
      },
      "source": [
        "model_7 = Model(inputs = [token_model.input, char_model.input], outputs = final_output,\n",
        "                name=\"model_7_token_and_char_embeddings\")"
      ],
      "execution_count": null,
      "outputs": []
    },
    {
      "cell_type": "code",
      "metadata": {
        "id": "Z1ADYEgmO1Sn"
      },
      "source": [
        "model_7.compile(optimizer='adam', metrics = 'accuracy', loss = 'categorical_crossentropy')"
      ],
      "execution_count": null,
      "outputs": []
    },
    {
      "cell_type": "code",
      "metadata": {
        "colab": {
          "base_uri": "https://localhost:8080/"
        },
        "id": "gg83duNMO1Sn",
        "outputId": "40880116-1c46-4973-cd80-ab973cb0140f"
      },
      "source": [
        "model_7.summary()"
      ],
      "execution_count": null,
      "outputs": [
        {
          "output_type": "stream",
          "text": [
            "Model: \"model_7_token_and_char_embeddings\"\n",
            "__________________________________________________________________________________________________\n",
            "Layer (type)                    Output Shape         Param #     Connected to                     \n",
            "==================================================================================================\n",
            "token_inputs (InputLayer)       [(None, 1)]          0                                            \n",
            "__________________________________________________________________________________________________\n",
            "char_inputs (InputLayer)        [(None, 1)]          0                                            \n",
            "__________________________________________________________________________________________________\n",
            "text_vectorization (TextVectori (None, 55)           0           token_inputs[0][0]               \n",
            "__________________________________________________________________________________________________\n",
            "text_vectorization_1 (TextVecto (None, 290)          0           char_inputs[0][0]                \n",
            "__________________________________________________________________________________________________\n",
            "embedding (Embedding)           (None, 55, 128)      8704000     text_vectorization[3][0]         \n",
            "__________________________________________________________________________________________________\n",
            "embedding_1 (Embedding)         (None, 290, 25)      1750        text_vectorization_1[3][0]       \n",
            "__________________________________________________________________________________________________\n",
            "conv1d (Conv1D)                 (None, 55, 64)       41024       embedding[3][0]                  \n",
            "__________________________________________________________________________________________________\n",
            "conv1d_1 (Conv1D)               (None, 290, 64)      8064        embedding_1[3][0]                \n",
            "__________________________________________________________________________________________________\n",
            "global_average_pooling1d (Globa (None, 64)           0           conv1d[0][0]                     \n",
            "__________________________________________________________________________________________________\n",
            "global_average_pooling1d_1 (Glo (None, 64)           0           conv1d_1[0][0]                   \n",
            "__________________________________________________________________________________________________\n",
            "token_outputs (Dense)           (None, 128)          8320        global_average_pooling1d[0][0]   \n",
            "__________________________________________________________________________________________________\n",
            "dense (Dense)                   (None, 128)          8320        global_average_pooling1d_1[0][0] \n",
            "__________________________________________________________________________________________________\n",
            "token_char_concat (Concatenate) (None, 256)          0           token_outputs[0][0]              \n",
            "                                                                 dense[0][0]                      \n",
            "__________________________________________________________________________________________________\n",
            "combined_dropout (Dropout)      (None, 256)          0           token_char_concat[0][0]          \n",
            "__________________________________________________________________________________________________\n",
            "hidden_dense_layer (Dense)      (None, 200)          51400       combined_dropout[0][0]           \n",
            "__________________________________________________________________________________________________\n",
            "final_dropout (Dropout)         (None, 200)          0           hidden_dense_layer[0][0]         \n",
            "__________________________________________________________________________________________________\n",
            "final_output (Dense)            (None, 5)            1005        final_dropout[0][0]              \n",
            "==================================================================================================\n",
            "Total params: 8,823,883\n",
            "Trainable params: 8,823,883\n",
            "Non-trainable params: 0\n",
            "__________________________________________________________________________________________________\n"
          ],
          "name": "stdout"
        }
      ]
    },
    {
      "cell_type": "code",
      "metadata": {
        "colab": {
          "base_uri": "https://localhost:8080/",
          "height": 1000
        },
        "id": "QUqy48EkO1So",
        "outputId": "2267ad44-e154-430b-b182-e63258ab1640"
      },
      "source": [
        "from tensorflow.keras.utils import plot_model\n",
        "plot_model(model_7, show_shapes=True)\n"
      ],
      "execution_count": null,
      "outputs": [
        {
          "output_type": "execute_result",
          "data": {
            "image/png": "[encoded data removed]",
            "text/plain": [
              "<IPython.core.display.Image object>"
            ]
          },
          "metadata": {
            "tags": []
          },
          "execution_count": 147
        }
      ]
    },
    {
      "cell_type": "markdown",
      "metadata": {
        "id": "0mf_CTegb5m3"
      },
      "source": [
        "#### Fit and save model"
      ]
    },
    {
      "cell_type": "code",
      "metadata": {
        "colab": {
          "base_uri": "https://localhost:8080/"
        },
        "id": "E25TEMNbSF4s",
        "outputId": "b3300579-1058-4d34-bdf0-be25febeb146"
      },
      "source": [
        "history_7 = model_7.fit(ds_train_comb,\n",
        "                        epochs = 5,\n",
        "                        validation_data = ds_val_comb,\n",
        "                        validation_steps = int(0.1*len(ds_val_comb)),\n",
        "                        callbacks = create_tf_board_callback(DIR, 'model_7_char_tokens'))"
      ],
      "execution_count": null,
      "outputs": [
        {
          "output_type": "stream",
          "text": [
            "Saving TensorBoard log files to model_logs/model_7_char_tokens/20210722-095326\n",
            "Epoch 1/5\n",
            "5627/5627 [==============================] - 489s 87ms/step - loss: 0.2011 - accuracy: 0.9323 - val_loss: 1.0849 - val_accuracy: 0.7656\n",
            "Epoch 2/5\n",
            "5627/5627 [==============================] - 486s 86ms/step - loss: 0.1119 - accuracy: 0.9650 - val_loss: 1.3565 - val_accuracy: 0.7689\n",
            "Epoch 3/5\n",
            "5627/5627 [==============================] - 488s 87ms/step - loss: 0.0982 - accuracy: 0.9697 - val_loss: 1.4187 - val_accuracy: 0.7726\n",
            "Epoch 4/5\n",
            "5627/5627 [==============================] - 490s 87ms/step - loss: 0.0860 - accuracy: 0.9728 - val_loss: 1.4741 - val_accuracy: 0.7763\n",
            "Epoch 5/5\n",
            "5627/5627 [==============================] - 487s 87ms/step - loss: 0.0771 - accuracy: 0.9757 - val_loss: 1.6697 - val_accuracy: 0.7663\n"
          ],
          "name": "stdout"
        }
      ]
    },
    {
      "cell_type": "code",
      "metadata": {
        "colab": {
          "base_uri": "https://localhost:8080/",
          "height": 593
        },
        "id": "ydRj12fwZgQq",
        "outputId": "55c8058d-0233-4f48-8119-d7e7732a098f"
      },
      "source": [
        "plot_loss_curves(history_7)"
      ],
      "execution_count": null,
      "outputs": [
        {
          "output_type": "display_data",
          "data": {
            "image/png": "[encoded data removed]",
            "text/plain": [
              "<Figure size 432x288 with 1 Axes>"
            ]
          },
          "metadata": {
            "tags": [],
            "needs_background": "light"
          }
        },
        {
          "output_type": "display_data",
          "data": {
            "image/png": "[encoded data removed]",
            "text/plain": [
              "<Figure size 432x288 with 1 Axes>"
            ]
          },
          "metadata": {
            "tags": [],
            "needs_background": "light"
          }
        }
      ]
    },
    {
      "cell_type": "code",
      "metadata": {
        "colab": {
          "base_uri": "https://localhost:8080/"
        },
        "id": "gQSFAX7uZgQ5",
        "outputId": "4a6de8cd-947d-4a7e-d3da-cb57a1c5e808"
      },
      "source": [
        "model_7.save('/content/drive/MyDrive/projects/SPICED/models/SkimLit_model_7_5')"
      ],
      "execution_count": null,
      "outputs": [
        {
          "output_type": "stream",
          "text": [
            "INFO:tensorflow:Assets written to: /content/drive/MyDrive/projects/SPICED/models/SkimLit_model_7_5/assets\n"
          ],
          "name": "stdout"
        },
        {
          "output_type": "stream",
          "text": [
            "INFO:tensorflow:Assets written to: /content/drive/MyDrive/projects/SPICED/models/SkimLit_model_7_5/assets\n"
          ],
          "name": "stderr"
        }
      ]
    },
    {
      "cell_type": "markdown",
      "metadata": {
        "id": "5ljX74Iecxmq"
      },
      "source": [
        "#### Load model and make predictions"
      ]
    },
    {
      "cell_type": "code",
      "metadata": {
        "id": "RtBHPYixZgQ6"
      },
      "source": [
        "load_model_7 = tf.keras.models.load_model('/content/drive/MyDrive/projects/SPICED/models/SkimLit_model_7_2')"
      ],
      "execution_count": null,
      "outputs": []
    },
    {
      "cell_type": "code",
      "metadata": {
        "id": "5mjcSGHWZgQ9"
      },
      "source": [
        "prob_7 = load_model_7.predict(ds_test_comb)"
      ],
      "execution_count": null,
      "outputs": []
    },
    {
      "cell_type": "code",
      "metadata": {
        "id": "77aqxhr6ZgQ-"
      },
      "source": [
        "pred_7 = tf.argmax(prob_7, axis = 1)"
      ],
      "execution_count": null,
      "outputs": []
    },
    {
      "cell_type": "code",
      "metadata": {
        "colab": {
          "base_uri": "https://localhost:8080/",
          "height": 191
        },
        "id": "aJDJx-nnZd9I",
        "outputId": "37760b86-9c44-4f3d-c729-d72d8e6c604f"
      },
      "source": [
        "pd.DataFrame(classification_report(y_test, pred_7, output_dict = True))\n"
      ],
      "execution_count": null,
      "outputs": [
        {
          "output_type": "execute_result",
          "data": {
            "text/html": [
              "<div>\n",
              "<style scoped>\n",
              "    .dataframe tbody tr th:only-of-type {\n",
              "        vertical-align: middle;\n",
              "    }\n",
              "\n",
              "    .dataframe tbody tr th {\n",
              "        vertical-align: top;\n",
              "    }\n",
              "\n",
              "    .dataframe thead th {\n",
              "        text-align: right;\n",
              "    }\n",
              "</style>\n",
              "<table border=\"1\" class=\"dataframe\">\n",
              "  <thead>\n",
              "    <tr style=\"text-align: right;\">\n",
              "      <th></th>\n",
              "      <th>0</th>\n",
              "      <th>1</th>\n",
              "      <th>2</th>\n",
              "      <th>3</th>\n",
              "      <th>4</th>\n",
              "      <th>accuracy</th>\n",
              "      <th>macro avg</th>\n",
              "      <th>weighted avg</th>\n",
              "    </tr>\n",
              "  </thead>\n",
              "  <tbody>\n",
              "    <tr>\n",
              "      <th>precision</th>\n",
              "      <td>0.604706</td>\n",
              "      <td>0.865206</td>\n",
              "      <td>0.861649</td>\n",
              "      <td>0.750646</td>\n",
              "      <td>0.609769</td>\n",
              "      <td>0.797578</td>\n",
              "      <td>0.738395</td>\n",
              "      <td>0.795822</td>\n",
              "    </tr>\n",
              "    <tr>\n",
              "      <th>recall</th>\n",
              "      <td>0.550793</td>\n",
              "      <td>0.893705</td>\n",
              "      <td>0.866262</td>\n",
              "      <td>0.698753</td>\n",
              "      <td>0.634355</td>\n",
              "      <td>0.797578</td>\n",
              "      <td>0.728774</td>\n",
              "      <td>0.797578</td>\n",
              "    </tr>\n",
              "    <tr>\n",
              "      <th>f1-score</th>\n",
              "      <td>0.576492</td>\n",
              "      <td>0.879225</td>\n",
              "      <td>0.863949</td>\n",
              "      <td>0.723771</td>\n",
              "      <td>0.621819</td>\n",
              "      <td>0.797578</td>\n",
              "      <td>0.733051</td>\n",
              "      <td>0.796354</td>\n",
              "    </tr>\n",
              "    <tr>\n",
              "      <th>support</th>\n",
              "      <td>2333.000000</td>\n",
              "      <td>9897.000000</td>\n",
              "      <td>9713.000000</td>\n",
              "      <td>4571.000000</td>\n",
              "      <td>3621.000000</td>\n",
              "      <td>0.797578</td>\n",
              "      <td>30135.000000</td>\n",
              "      <td>30135.000000</td>\n",
              "    </tr>\n",
              "  </tbody>\n",
              "</table>\n",
              "</div>"
            ],
            "text/plain": [
              "                     0            1  ...     macro avg  weighted avg\n",
              "precision     0.604706     0.865206  ...      0.738395      0.795822\n",
              "recall        0.550793     0.893705  ...      0.728774      0.797578\n",
              "f1-score      0.576492     0.879225  ...      0.733051      0.796354\n",
              "support    2333.000000  9897.000000  ...  30135.000000  30135.000000\n",
              "\n",
              "[4 rows x 8 columns]"
            ]
          },
          "metadata": {
            "tags": []
          },
          "execution_count": 172
        }
      ]
    },
    {
      "cell_type": "code",
      "metadata": {
        "id": "8wVmLZu5ZgQ-"
      },
      "source": [
        "save_results('model_7_char_token',y_test, pred_7)"
      ],
      "execution_count": null,
      "outputs": []
    },
    {
      "cell_type": "code",
      "metadata": {
        "colab": {
          "base_uri": "https://localhost:8080/",
          "height": 282
        },
        "id": "tHa_SC_YZgQ_",
        "outputId": "d82d4e65-7531-49e1-fe44-6af19eed297b"
      },
      "source": [
        "df_results"
      ],
      "execution_count": null,
      "outputs": [
        {
          "output_type": "execute_result",
          "data": {
            "text/html": [
              "<div>\n",
              "<style scoped>\n",
              "    .dataframe tbody tr th:only-of-type {\n",
              "        vertical-align: middle;\n",
              "    }\n",
              "\n",
              "    .dataframe tbody tr th {\n",
              "        vertical-align: top;\n",
              "    }\n",
              "\n",
              "    .dataframe thead th {\n",
              "        text-align: right;\n",
              "    }\n",
              "</style>\n",
              "<table border=\"1\" class=\"dataframe\">\n",
              "  <thead>\n",
              "    <tr style=\"text-align: right;\">\n",
              "      <th></th>\n",
              "      <th>model</th>\n",
              "      <th>accuracy</th>\n",
              "    </tr>\n",
              "  </thead>\n",
              "  <tbody>\n",
              "    <tr>\n",
              "      <th>0</th>\n",
              "      <td>LR_base</td>\n",
              "      <td>0.796781</td>\n",
              "    </tr>\n",
              "    <tr>\n",
              "      <th>1</th>\n",
              "      <td>model_1_128_dense</td>\n",
              "      <td>0.776572</td>\n",
              "    </tr>\n",
              "    <tr>\n",
              "      <th>2</th>\n",
              "      <td>model_2_64_conv1d</td>\n",
              "      <td>0.778264</td>\n",
              "    </tr>\n",
              "    <tr>\n",
              "      <th>3</th>\n",
              "      <td>model_3_use_128</td>\n",
              "      <td>0.766517</td>\n",
              "    </tr>\n",
              "    <tr>\n",
              "      <th>4</th>\n",
              "      <td>model_7_char_token</td>\n",
              "      <td>0.797578</td>\n",
              "    </tr>\n",
              "    <tr>\n",
              "      <th>5</th>\n",
              "      <td>model_6_char_token</td>\n",
              "      <td>0.747536</td>\n",
              "    </tr>\n",
              "    <tr>\n",
              "      <th>6</th>\n",
              "      <td>model_7_char_token</td>\n",
              "      <td>0.775875</td>\n",
              "    </tr>\n",
              "  </tbody>\n",
              "</table>\n",
              "</div>"
            ],
            "text/plain": [
              "                model  accuracy\n",
              "0             LR_base  0.796781\n",
              "1   model_1_128_dense  0.776572\n",
              "2   model_2_64_conv1d  0.778264\n",
              "3     model_3_use_128  0.766517\n",
              "4  model_7_char_token  0.797578\n",
              "5  model_6_char_token  0.747536\n",
              "6  model_7_char_token  0.775875"
            ]
          },
          "metadata": {
            "tags": []
          },
          "execution_count": 156
        }
      ]
    },
    {
      "cell_type": "markdown",
      "metadata": {
        "id": "JLgWQReS7My3"
      },
      "source": [
        "### 8 Model Positional embedding"
      ]
    },
    {
      "cell_type": "code",
      "metadata": {
        "colab": {
          "base_uri": "https://localhost:8080/",
          "height": 221
        },
        "id": "K2o38N_9Z2uE",
        "outputId": "09dfa234-790e-496f-e149-9c2d77e7e38e"
      },
      "source": [
        "df_train.head()"
      ],
      "execution_count": null,
      "outputs": [
        {
          "output_type": "execute_result",
          "data": {
            "text/html": [
              "<div>\n",
              "<style scoped>\n",
              "    .dataframe tbody tr th:only-of-type {\n",
              "        vertical-align: middle;\n",
              "    }\n",
              "\n",
              "    .dataframe tbody tr th {\n",
              "        vertical-align: top;\n",
              "    }\n",
              "\n",
              "    .dataframe thead th {\n",
              "        text-align: right;\n",
              "    }\n",
              "</style>\n",
              "<table border=\"1\" class=\"dataframe\">\n",
              "  <thead>\n",
              "    <tr style=\"text-align: right;\">\n",
              "      <th></th>\n",
              "      <th>target</th>\n",
              "      <th>text</th>\n",
              "      <th>id</th>\n",
              "      <th>line_num</th>\n",
              "      <th>total_lines</th>\n",
              "      <th>tokens</th>\n",
              "      <th>characters</th>\n",
              "      <th>label</th>\n",
              "    </tr>\n",
              "  </thead>\n",
              "  <tbody>\n",
              "    <tr>\n",
              "      <th>0</th>\n",
              "      <td>OBJECTIVE</td>\n",
              "      <td>To investigate the efficacy of @ weeks of dail...</td>\n",
              "      <td>24293578</td>\n",
              "      <td>0</td>\n",
              "      <td>12</td>\n",
              "      <td>49</td>\n",
              "      <td>281</td>\n",
              "      <td>0</td>\n",
              "    </tr>\n",
              "    <tr>\n",
              "      <th>1</th>\n",
              "      <td>METHODS</td>\n",
              "      <td>A total of @ patients with primary knee OA wer...</td>\n",
              "      <td>24293578</td>\n",
              "      <td>1</td>\n",
              "      <td>12</td>\n",
              "      <td>27</td>\n",
              "      <td>137</td>\n",
              "      <td>1</td>\n",
              "    </tr>\n",
              "    <tr>\n",
              "      <th>2</th>\n",
              "      <td>METHODS</td>\n",
              "      <td>Outcome measures included pain reduction and i...</td>\n",
              "      <td>24293578</td>\n",
              "      <td>2</td>\n",
              "      <td>12</td>\n",
              "      <td>15</td>\n",
              "      <td>111</td>\n",
              "      <td>1</td>\n",
              "    </tr>\n",
              "    <tr>\n",
              "      <th>3</th>\n",
              "      <td>METHODS</td>\n",
              "      <td>Pain was assessed using the visual analog pain...</td>\n",
              "      <td>24293578</td>\n",
              "      <td>3</td>\n",
              "      <td>12</td>\n",
              "      <td>14</td>\n",
              "      <td>65</td>\n",
              "      <td>1</td>\n",
              "    </tr>\n",
              "    <tr>\n",
              "      <th>4</th>\n",
              "      <td>METHODS</td>\n",
              "      <td>Secondary outcome measures included the Wester...</td>\n",
              "      <td>24293578</td>\n",
              "      <td>4</td>\n",
              "      <td>12</td>\n",
              "      <td>35</td>\n",
              "      <td>209</td>\n",
              "      <td>1</td>\n",
              "    </tr>\n",
              "  </tbody>\n",
              "</table>\n",
              "</div>"
            ],
            "text/plain": [
              "      target  ... label\n",
              "0  OBJECTIVE  ...     0\n",
              "1    METHODS  ...     1\n",
              "2    METHODS  ...     1\n",
              "3    METHODS  ...     1\n",
              "4    METHODS  ...     1\n",
              "\n",
              "[5 rows x 8 columns]"
            ]
          },
          "metadata": {
            "tags": []
          },
          "execution_count": 175
        }
      ]
    },
    {
      "cell_type": "markdown",
      "metadata": {
        "id": "aY-K8t1382T9"
      },
      "source": [
        "#### Prepare Data"
      ]
    },
    {
      "cell_type": "code",
      "metadata": {
        "id": "W5g3jMTg8mod"
      },
      "source": [
        "#One hot encode line_num to add another features to our model\n",
        "X_train_line_num = tf.one_hot(df_train['line_num'].to_numpy(), depth = 13)\n",
        "X_val_line_num = tf.one_hot(df_dev['line_num'].to_numpy(), depth = 13)\n",
        "X_test_line_num = tf.one_hot(df_test['line_num'].to_numpy(), depth = 13)"
      ],
      "execution_count": null,
      "outputs": []
    },
    {
      "cell_type": "code",
      "metadata": {
        "colab": {
          "base_uri": "https://localhost:8080/"
        },
        "id": "jx5gZHPE9mui",
        "outputId": "39b6650b-45ad-4a3c-b02c-6f6fb79bd128"
      },
      "source": [
        "X_train_line_num[:2], X_train_line_num.shape"
      ],
      "execution_count": null,
      "outputs": [
        {
          "output_type": "execute_result",
          "data": {
            "text/plain": [
              "(<tf.Tensor: shape=(2, 13), dtype=float32, numpy=\n",
              " array([[1., 0., 0., 0., 0., 0., 0., 0., 0., 0., 0., 0., 0.],\n",
              "        [0., 1., 0., 0., 0., 0., 0., 0., 0., 0., 0., 0., 0.]],\n",
              "       dtype=float32)>, TensorShape([180040, 13]))"
            ]
          },
          "metadata": {
            "tags": []
          },
          "execution_count": 184
        }
      ]
    },
    {
      "cell_type": "code",
      "metadata": {
        "id": "lk7NBrLa9teg"
      },
      "source": [
        "#One hot encode total_lines to add another features to our model\n",
        "X_train_total_lines = tf.one_hot(df_train['total_lines'].to_numpy(), depth = 19)\n",
        "X_val_total_lines = tf.one_hot(df_dev['total_lines'].to_numpy(), depth = 19)\n",
        "X_test_total_lines = tf.one_hot(df_test['total_lines'].to_numpy(), depth = 19)"
      ],
      "execution_count": null,
      "outputs": []
    },
    {
      "cell_type": "code",
      "metadata": {
        "colab": {
          "base_uri": "https://localhost:8080/"
        },
        "id": "anRPyzJ8_Hu2",
        "outputId": "183fd616-7432-4281-98c5-9f80910413ea"
      },
      "source": [
        "X_train_total_lines[:2], X_train_total_lines.shape"
      ],
      "execution_count": null,
      "outputs": [
        {
          "output_type": "execute_result",
          "data": {
            "text/plain": [
              "(<tf.Tensor: shape=(2, 19), dtype=float32, numpy=\n",
              " array([[0., 0., 0., 0., 0., 0., 0., 0., 0., 0., 0., 0., 1., 0., 0., 0.,\n",
              "         0., 0., 0.],\n",
              "        [0., 0., 0., 0., 0., 0., 0., 0., 0., 0., 0., 0., 1., 0., 0., 0.,\n",
              "         0., 0., 0.]], dtype=float32)>, TensorShape([180040, 19]))"
            ]
          },
          "metadata": {
            "tags": []
          },
          "execution_count": 185
        }
      ]
    },
    {
      "cell_type": "code",
      "metadata": {
        "id": "TkaN1lO8-XNV"
      },
      "source": [
        "#Prepare dataset\n",
        "X_train_line = tf.concat([X_train_line_num, X_train_total_lines], axis = 1)\n",
        "X_test_line = tf.concat([X_test_line_num, X_test_total_lines], axis = 1)\n",
        "X_val_line = tf.concat([X_val_line_num, X_val_total_lines], axis = 1)"
      ],
      "execution_count": null,
      "outputs": []
    },
    {
      "cell_type": "code",
      "metadata": {
        "colab": {
          "base_uri": "https://localhost:8080/"
        },
        "id": "xnLRKsGC-urL",
        "outputId": "da8889d9-b8cd-4475-def5-0d4a4542582e"
      },
      "source": [
        "X_train_line[:2], X_train_line.shape"
      ],
      "execution_count": null,
      "outputs": [
        {
          "output_type": "execute_result",
          "data": {
            "text/plain": [
              "(<tf.Tensor: shape=(2, 32), dtype=float32, numpy=\n",
              " array([[1., 0., 0., 0., 0., 0., 0., 0., 0., 0., 0., 0., 0., 0., 0., 0.,\n",
              "         0., 0., 0., 0., 0., 0., 0., 0., 0., 1., 0., 0., 0., 0., 0., 0.],\n",
              "        [0., 1., 0., 0., 0., 0., 0., 0., 0., 0., 0., 0., 0., 0., 0., 0.,\n",
              "         0., 0., 0., 0., 0., 0., 0., 0., 0., 1., 0., 0., 0., 0., 0., 0.]],\n",
              "       dtype=float32)>, TensorShape([180040, 32]))"
            ]
          },
          "metadata": {
            "tags": []
          },
          "execution_count": 193
        }
      ]
    },
    {
      "cell_type": "markdown",
      "metadata": {
        "id": "TeJJgF3lA5WE"
      },
      "source": [
        "#### Prepare Datasets"
      ]
    },
    {
      "cell_type": "code",
      "metadata": {
        "id": "POUB469vAYvC"
      },
      "source": [
        "ds_train_line = tf.data.Dataset.from_tensor_slices((X_train_line, y_train_one_hot))\n",
        "ds_test_line = tf.data.Dataset.from_tensor_slices((X_test_line, y_test_one_hot))\n",
        "ds_val_line = tf.data.Dataset.from_tensor_slices((X_val_line, y_val_one_hot))"
      ],
      "execution_count": null,
      "outputs": []
    },
    {
      "cell_type": "code",
      "metadata": {
        "id": "eoXYUs0XAwZM"
      },
      "source": [
        "ds_train_line = ds_train_line.batch(32).prefetch(tf.data.AUTOTUNE)\n",
        "ds_test_line = ds_test_line.batch(32).prefetch(tf.data.AUTOTUNE)\n",
        "ds_val_line = ds_val_line.batch(32).prefetch(tf.data.AUTOTUNE)"
      ],
      "execution_count": null,
      "outputs": []
    },
    {
      "cell_type": "code",
      "metadata": {
        "colab": {
          "base_uri": "https://localhost:8080/"
        },
        "id": "BsNisLRBBzRT",
        "outputId": "bf06f21d-c888-4347-c591-a086ed45357b"
      },
      "source": [
        "ds_train_line"
      ],
      "execution_count": null,
      "outputs": [
        {
          "output_type": "execute_result",
          "data": {
            "text/plain": [
              "<PrefetchDataset shapes: ((None, 32), (None, 5)), types: (tf.float32, tf.float64)>"
            ]
          },
          "metadata": {
            "tags": []
          },
          "execution_count": 198
        }
      ]
    },
    {
      "cell_type": "markdown",
      "metadata": {
        "id": "vIJVt-T9BgZ4"
      },
      "source": [
        "#### Build, compile and explore model"
      ]
    },
    {
      "cell_type": "code",
      "metadata": {
        "id": "3hzv_n94BeJT"
      },
      "source": [
        "inputs = Input(shape = (32,))\n",
        "x = Dense(128, activation = 'relu')(inputs)\n",
        "x = Dense(128, activation = 'relu')(x)\n",
        "outputs = Dense(5, activation = 'softmax')(x)\n"
      ],
      "execution_count": null,
      "outputs": []
    },
    {
      "cell_type": "code",
      "metadata": {
        "id": "Zp5S7iVsCYQb"
      },
      "source": [
        "model_8 = Model(inputs, outputs)"
      ],
      "execution_count": null,
      "outputs": []
    },
    {
      "cell_type": "code",
      "metadata": {
        "id": "1bcSUx3aCdXn"
      },
      "source": [
        "model_8.compile(loss = 'categorical_crossentropy', metrics= 'accuracy', optimizer='adam')"
      ],
      "execution_count": null,
      "outputs": []
    },
    {
      "cell_type": "code",
      "metadata": {
        "colab": {
          "base_uri": "https://localhost:8080/"
        },
        "id": "O7QdKEA0CrP8",
        "outputId": "16479de1-c2bd-4499-f659-c0b1784cd77c"
      },
      "source": [
        "model_8.summary()"
      ],
      "execution_count": null,
      "outputs": [
        {
          "output_type": "stream",
          "text": [
            "Model: \"model_2\"\n",
            "_________________________________________________________________\n",
            "Layer (type)                 Output Shape              Param #   \n",
            "=================================================================\n",
            "input_1 (InputLayer)         [(None, 32)]              0         \n",
            "_________________________________________________________________\n",
            "dense_1 (Dense)              (None, 128)               4224      \n",
            "_________________________________________________________________\n",
            "dense_2 (Dense)              (None, 128)               16512     \n",
            "_________________________________________________________________\n",
            "dense_3 (Dense)              (None, 5)                 645       \n",
            "=================================================================\n",
            "Total params: 21,381\n",
            "Trainable params: 21,381\n",
            "Non-trainable params: 0\n",
            "_________________________________________________________________\n"
          ],
          "name": "stdout"
        }
      ]
    },
    {
      "cell_type": "code",
      "metadata": {
        "colab": {
          "base_uri": "https://localhost:8080/"
        },
        "id": "5s93lyI7Cthn",
        "outputId": "c92ad819-c101-4721-a7cb-3992782e3bfa"
      },
      "source": [
        "history_8 = model_8.fit(ds_train_line, epochs = 5,\n",
        "                        validation_data = ds_val_line,\n",
        "                        callbacks = create_tf_board_callback(DIR, 'model_8'))"
      ],
      "execution_count": null,
      "outputs": [
        {
          "output_type": "stream",
          "text": [
            "Saving TensorBoard log files to model_logs/model_8/20210722-114932\n",
            "Epoch 1/5\n",
            "5627/5627 [==============================] - 15s 3ms/step - loss: 0.7654 - accuracy: 0.6726 - val_loss: 0.7254 - val_accuracy: 0.6894\n",
            "Epoch 2/5\n",
            "5627/5627 [==============================] - 14s 2ms/step - loss: 0.7365 - accuracy: 0.6832 - val_loss: 0.7234 - val_accuracy: 0.6902\n",
            "Epoch 3/5\n",
            "5627/5627 [==============================] - 16s 3ms/step - loss: 0.7332 - accuracy: 0.6847 - val_loss: 0.7226 - val_accuracy: 0.6916\n",
            "Epoch 4/5\n",
            "5627/5627 [==============================] - 14s 3ms/step - loss: 0.7316 - accuracy: 0.6851 - val_loss: 0.7220 - val_accuracy: 0.6916\n",
            "Epoch 5/5\n",
            "5627/5627 [==============================] - 14s 2ms/step - loss: 0.7306 - accuracy: 0.6855 - val_loss: 0.7215 - val_accuracy: 0.6922\n"
          ],
          "name": "stdout"
        }
      ]
    },
    {
      "cell_type": "code",
      "metadata": {
        "colab": {
          "base_uri": "https://localhost:8080/",
          "height": 593
        },
        "id": "_lPmG3pcDeSD",
        "outputId": "fcd63f9a-9dee-4db6-f21c-2b30abec2502"
      },
      "source": [
        "plot_loss_curves(history_8)"
      ],
      "execution_count": null,
      "outputs": [
        {
          "output_type": "display_data",
          "data": {
            "image/png": "[encoded data removed]",
            "text/plain": [
              "<Figure size 432x288 with 1 Axes>"
            ]
          },
          "metadata": {
            "tags": [],
            "needs_background": "light"
          }
        },
        {
          "output_type": "display_data",
          "data": {
            "image/png": "[encoded data removed]",
            "text/plain": [
              "<Figure size 432x288 with 1 Axes>"
            ]
          },
          "metadata": {
            "tags": [],
            "needs_background": "light"
          }
        }
      ]
    },
    {
      "cell_type": "code",
      "metadata": {
        "colab": {
          "base_uri": "https://localhost:8080/"
        },
        "id": "UVpGK3lTDeSM",
        "outputId": "73648ba7-568f-4198-bba3-28a3e187bfb1"
      },
      "source": [
        "model_8.save('/content/drive/MyDrive/projects/SPICED/models/SkimLit_model_8')"
      ],
      "execution_count": null,
      "outputs": [
        {
          "output_type": "stream",
          "text": [
            "INFO:tensorflow:Assets written to: /content/drive/MyDrive/projects/SPICED/models/SkimLit_model_8/assets\n"
          ],
          "name": "stdout"
        },
        {
          "output_type": "stream",
          "text": [
            "INFO:tensorflow:Assets written to: /content/drive/MyDrive/projects/SPICED/models/SkimLit_model_8/assets\n"
          ],
          "name": "stderr"
        }
      ]
    },
    {
      "cell_type": "markdown",
      "metadata": {
        "id": "DSkXkl58DeSO"
      },
      "source": [
        "#### Load model and make predictions"
      ]
    },
    {
      "cell_type": "code",
      "metadata": {
        "id": "ABchutK6DeSP"
      },
      "source": [
        "load_model_8 = tf.keras.models.load_model('/content/drive/MyDrive/projects/SPICED/models/SkimLit_model_8')"
      ],
      "execution_count": null,
      "outputs": []
    },
    {
      "cell_type": "code",
      "metadata": {
        "id": "m4ngBwrlDeSQ"
      },
      "source": [
        "prob_8 = load_model_8.predict(ds_test_line)"
      ],
      "execution_count": null,
      "outputs": []
    },
    {
      "cell_type": "code",
      "metadata": {
        "id": "-q-mbqfLDeSQ"
      },
      "source": [
        "pred_8 = tf.argmax(prob_8, axis = 1)"
      ],
      "execution_count": null,
      "outputs": []
    },
    {
      "cell_type": "code",
      "metadata": {
        "colab": {
          "base_uri": "https://localhost:8080/",
          "height": 191
        },
        "id": "E3Juzdo8DeSR",
        "outputId": "e467c1c6-54bb-4f6a-d8d6-8b307578d956"
      },
      "source": [
        "pd.DataFrame(classification_report(y_test, pred_8, output_dict = True))\n"
      ],
      "execution_count": null,
      "outputs": [
        {
          "output_type": "execute_result",
          "data": {
            "text/html": [
              "<div>\n",
              "<style scoped>\n",
              "    .dataframe tbody tr th:only-of-type {\n",
              "        vertical-align: middle;\n",
              "    }\n",
              "\n",
              "    .dataframe tbody tr th {\n",
              "        vertical-align: top;\n",
              "    }\n",
              "\n",
              "    .dataframe thead th {\n",
              "        text-align: right;\n",
              "    }\n",
              "</style>\n",
              "<table border=\"1\" class=\"dataframe\">\n",
              "  <thead>\n",
              "    <tr style=\"text-align: right;\">\n",
              "      <th></th>\n",
              "      <th>0</th>\n",
              "      <th>1</th>\n",
              "      <th>2</th>\n",
              "      <th>3</th>\n",
              "      <th>4</th>\n",
              "      <th>accuracy</th>\n",
              "      <th>macro avg</th>\n",
              "      <th>weighted avg</th>\n",
              "    </tr>\n",
              "  </thead>\n",
              "  <tbody>\n",
              "    <tr>\n",
              "      <th>precision</th>\n",
              "      <td>0.598051</td>\n",
              "      <td>0.694541</td>\n",
              "      <td>0.729419</td>\n",
              "      <td>0.729422</td>\n",
              "      <td>0.499139</td>\n",
              "      <td>0.686179</td>\n",
              "      <td>0.650114</td>\n",
              "      <td>0.680124</td>\n",
              "    </tr>\n",
              "    <tr>\n",
              "      <th>recall</th>\n",
              "      <td>0.210459</td>\n",
              "      <td>0.790543</td>\n",
              "      <td>0.737980</td>\n",
              "      <td>0.756071</td>\n",
              "      <td>0.480254</td>\n",
              "      <td>0.686179</td>\n",
              "      <td>0.595061</td>\n",
              "      <td>0.686179</td>\n",
              "    </tr>\n",
              "    <tr>\n",
              "      <th>f1-score</th>\n",
              "      <td>0.311351</td>\n",
              "      <td>0.739439</td>\n",
              "      <td>0.733675</td>\n",
              "      <td>0.742507</td>\n",
              "      <td>0.489514</td>\n",
              "      <td>0.686179</td>\n",
              "      <td>0.603297</td>\n",
              "      <td>0.674874</td>\n",
              "    </tr>\n",
              "    <tr>\n",
              "      <th>support</th>\n",
              "      <td>2333.000000</td>\n",
              "      <td>9897.000000</td>\n",
              "      <td>9713.000000</td>\n",
              "      <td>4571.000000</td>\n",
              "      <td>3621.000000</td>\n",
              "      <td>0.686179</td>\n",
              "      <td>30135.000000</td>\n",
              "      <td>30135.000000</td>\n",
              "    </tr>\n",
              "  </tbody>\n",
              "</table>\n",
              "</div>"
            ],
            "text/plain": [
              "                     0            1  ...     macro avg  weighted avg\n",
              "precision     0.598051     0.694541  ...      0.650114      0.680124\n",
              "recall        0.210459     0.790543  ...      0.595061      0.686179\n",
              "f1-score      0.311351     0.739439  ...      0.603297      0.674874\n",
              "support    2333.000000  9897.000000  ...  30135.000000  30135.000000\n",
              "\n",
              "[4 rows x 8 columns]"
            ]
          },
          "metadata": {
            "tags": []
          },
          "execution_count": 211
        }
      ]
    },
    {
      "cell_type": "code",
      "metadata": {
        "id": "_0gNHoW9DeSS"
      },
      "source": [
        "save_results('model_8_lines',y_test, pred_8)"
      ],
      "execution_count": null,
      "outputs": []
    },
    {
      "cell_type": "code",
      "metadata": {
        "colab": {
          "base_uri": "https://localhost:8080/",
          "height": 313
        },
        "id": "d8r8-1UpDeST",
        "outputId": "2e848ff3-6645-493a-86a8-4982cc33d49b"
      },
      "source": [
        "df_results"
      ],
      "execution_count": null,
      "outputs": [
        {
          "output_type": "execute_result",
          "data": {
            "text/html": [
              "<div>\n",
              "<style scoped>\n",
              "    .dataframe tbody tr th:only-of-type {\n",
              "        vertical-align: middle;\n",
              "    }\n",
              "\n",
              "    .dataframe tbody tr th {\n",
              "        vertical-align: top;\n",
              "    }\n",
              "\n",
              "    .dataframe thead th {\n",
              "        text-align: right;\n",
              "    }\n",
              "</style>\n",
              "<table border=\"1\" class=\"dataframe\">\n",
              "  <thead>\n",
              "    <tr style=\"text-align: right;\">\n",
              "      <th></th>\n",
              "      <th>model</th>\n",
              "      <th>accuracy</th>\n",
              "    </tr>\n",
              "  </thead>\n",
              "  <tbody>\n",
              "    <tr>\n",
              "      <th>0</th>\n",
              "      <td>LR_base</td>\n",
              "      <td>0.796781</td>\n",
              "    </tr>\n",
              "    <tr>\n",
              "      <th>1</th>\n",
              "      <td>model_1_128_dense</td>\n",
              "      <td>0.776572</td>\n",
              "    </tr>\n",
              "    <tr>\n",
              "      <th>2</th>\n",
              "      <td>model_2_64_conv1d</td>\n",
              "      <td>0.778264</td>\n",
              "    </tr>\n",
              "    <tr>\n",
              "      <th>3</th>\n",
              "      <td>model_3_use_128</td>\n",
              "      <td>0.766517</td>\n",
              "    </tr>\n",
              "    <tr>\n",
              "      <th>4</th>\n",
              "      <td>model_7_char_token</td>\n",
              "      <td>0.797578</td>\n",
              "    </tr>\n",
              "    <tr>\n",
              "      <th>5</th>\n",
              "      <td>model_6_char_token</td>\n",
              "      <td>0.747536</td>\n",
              "    </tr>\n",
              "    <tr>\n",
              "      <th>6</th>\n",
              "      <td>model_7_char_token</td>\n",
              "      <td>0.775875</td>\n",
              "    </tr>\n",
              "    <tr>\n",
              "      <th>7</th>\n",
              "      <td>model_8_lines</td>\n",
              "      <td>0.686179</td>\n",
              "    </tr>\n",
              "  </tbody>\n",
              "</table>\n",
              "</div>"
            ],
            "text/plain": [
              "                model  accuracy\n",
              "0             LR_base  0.796781\n",
              "1   model_1_128_dense  0.776572\n",
              "2   model_2_64_conv1d  0.778264\n",
              "3     model_3_use_128  0.766517\n",
              "4  model_7_char_token  0.797578\n",
              "5  model_6_char_token  0.747536\n",
              "6  model_7_char_token  0.775875\n",
              "7       model_8_lines  0.686179"
            ]
          },
          "metadata": {
            "tags": []
          },
          "execution_count": 213
        }
      ]
    },
    {
      "cell_type": "markdown",
      "metadata": {
        "id": "NRjUBjA5EUd-"
      },
      "source": [
        "### Model 9 comined token, characters and line embeddings"
      ]
    },
    {
      "cell_type": "markdown",
      "metadata": {
        "id": "nVNTrQlFEg1i"
      },
      "source": [
        "#### Token embeddings layer and model"
      ]
    },
    {
      "cell_type": "code",
      "metadata": {
        "id": "xhP_NzEpERIn"
      },
      "source": [
        "token_inputs = Input(shape = (1,), dtype = 'string', name = 'token_inputs')\n",
        "token_vect = text_vect(token_inputs)\n",
        "token_emb = embedding(token_vect)\n",
        "x = Conv1D(64, 5, padding = 'same', activation='relu')(token_emb)\n",
        "x = GlobalAveragePooling1D()(x)\n",
        "token_outputs = Dense(128, activation = 'relu')(x)\n",
        "token_model = Model(inputs = token_inputs, outputs = token_outputs)\n"
      ],
      "execution_count": null,
      "outputs": []
    },
    {
      "cell_type": "markdown",
      "metadata": {
        "id": "xk4TKDEGF31z"
      },
      "source": [
        "#### Character embedding layers and model"
      ]
    },
    {
      "cell_type": "code",
      "metadata": {
        "id": "CcirLPe7F22v"
      },
      "source": [
        "char_inputs = Input(shape = (1,), dtype = 'string', name = 'char_inputs')\n",
        "x = char_vect(char_inputs)\n",
        "x = char_embedding(x)\n",
        "x = Conv1D(64, 5, padding = 'same', activation='relu')(x)\n",
        "x = GlobalAveragePooling1D()(x)\n",
        "char_outputs = Dense(128, activation = 'relu')(x)\n",
        "char_model = Model(inputs = char_inputs, outputs = char_outputs)"
      ],
      "execution_count": null,
      "outputs": []
    },
    {
      "cell_type": "markdown",
      "metadata": {
        "id": "JaCpVnk5G7OF"
      },
      "source": [
        "#### Positional Embedding layers and model"
      ]
    },
    {
      "cell_type": "code",
      "metadata": {
        "id": "_nF6y6H1G6CL"
      },
      "source": [
        "positional_inputs = Input(shape = (32,), name = 'positional_inputs')\n",
        "positional_outputs = Dense(128, activation = 'relu')(positional_inputs)\n",
        "positional_model = Model(positional_inputs, positional_outputs)"
      ],
      "execution_count": null,
      "outputs": []
    },
    {
      "cell_type": "markdown",
      "metadata": {
        "id": "iN0AilXtHaUi"
      },
      "source": [
        "#### Concatenate all 3 models as input"
      ]
    },
    {
      "cell_type": "code",
      "metadata": {
        "id": "lB0l7vQRHdW0"
      },
      "source": [
        "token_char_pos_concat = tf.keras.layers.Concatenate(name = 'token_char_pos_concat')\\\n",
        "([token_model.output, char_model.output, positional_model.output])"
      ],
      "execution_count": null,
      "outputs": []
    },
    {
      "cell_type": "markdown",
      "metadata": {
        "id": "eor2ttPPI8Rf"
      },
      "source": [
        "#### Create last layers"
      ]
    },
    {
      "cell_type": "code",
      "metadata": {
        "id": "xzpdx02lIZi_"
      },
      "source": [
        "# Create dropout layer (50% as in paper)\n",
        "dropout = Dropout(0.5, name = 'combined_dropout')(token_char_pos_concat)\n",
        "# Create Dense layer\n",
        "dense = Dense(200, activation='relu', name = 'hidden_dense_layer')(dropout)\n",
        "# Final Dropout\n",
        "final_dropout = tf.keras.layers.Dropout(0.5, name = 'final_dropout')(dense)\n",
        "# Final output\n",
        "final_output = Dense(len(classes), activation='softmax', name = 'final_output')(final_dropout)"
      ],
      "execution_count": null,
      "outputs": []
    },
    {
      "cell_type": "markdown",
      "metadata": {
        "id": "OKLfha-TJv3U"
      },
      "source": [
        "#### Build, compile and explore model"
      ]
    },
    {
      "cell_type": "code",
      "metadata": {
        "id": "ZxCAs6O6Jjh1"
      },
      "source": [
        "model_9 = Model(inputs = [token_model.input, char_model.input, positional_model.input], outputs = final_output)"
      ],
      "execution_count": null,
      "outputs": []
    },
    {
      "cell_type": "code",
      "metadata": {
        "id": "3hXu1I5hKRnh"
      },
      "source": [
        "model_9.compile(optimizer='adam', loss='categorical_crossentropy', metrics = 'accuracy')"
      ],
      "execution_count": null,
      "outputs": []
    },
    {
      "cell_type": "code",
      "metadata": {
        "colab": {
          "base_uri": "https://localhost:8080/"
        },
        "id": "LvOnAvCEK7JH",
        "outputId": "10817400-0306-43e4-d788-0cbf5eaa251f"
      },
      "source": [
        "model_9.summary()"
      ],
      "execution_count": null,
      "outputs": [
        {
          "output_type": "stream",
          "text": [
            "Model: \"model_13\"\n",
            "__________________________________________________________________________________________________\n",
            "Layer (type)                    Output Shape         Param #     Connected to                     \n",
            "==================================================================================================\n",
            "token_inputs (InputLayer)       [(None, 1)]          0                                            \n",
            "__________________________________________________________________________________________________\n",
            "char_inputs (InputLayer)        [(None, 1)]          0                                            \n",
            "__________________________________________________________________________________________________\n",
            "text_vectorization (TextVectori (None, 55)           0           token_inputs[0][0]               \n",
            "__________________________________________________________________________________________________\n",
            "text_vectorization_1 (TextVecto (None, 290)          0           char_inputs[0][0]                \n",
            "__________________________________________________________________________________________________\n",
            "embedding (Embedding)           (None, 55, 128)      8704000     text_vectorization[6][0]         \n",
            "__________________________________________________________________________________________________\n",
            "embedding_1 (Embedding)         (None, 290, 25)      1750        text_vectorization_1[5][0]       \n",
            "__________________________________________________________________________________________________\n",
            "conv1d_4 (Conv1D)               (None, 55, 64)       41024       embedding[6][0]                  \n",
            "__________________________________________________________________________________________________\n",
            "conv1d_5 (Conv1D)               (None, 290, 64)      8064        embedding_1[5][0]                \n",
            "__________________________________________________________________________________________________\n",
            "global_average_pooling1d_4 (Glo (None, 64)           0           conv1d_4[0][0]                   \n",
            "__________________________________________________________________________________________________\n",
            "global_average_pooling1d_5 (Glo (None, 64)           0           conv1d_5[0][0]                   \n",
            "__________________________________________________________________________________________________\n",
            "positional_inputs (InputLayer)  [(None, 32)]         0                                            \n",
            "__________________________________________________________________________________________________\n",
            "dense_10 (Dense)                (None, 128)          8320        global_average_pooling1d_4[0][0] \n",
            "__________________________________________________________________________________________________\n",
            "dense_11 (Dense)                (None, 128)          8320        global_average_pooling1d_5[0][0] \n",
            "__________________________________________________________________________________________________\n",
            "dense_12 (Dense)                (None, 128)          4224        positional_inputs[0][0]          \n",
            "__________________________________________________________________________________________________\n",
            "token_char_pos_concat (Concaten (None, 384)          0           dense_10[0][0]                   \n",
            "                                                                 dense_11[0][0]                   \n",
            "                                                                 dense_12[0][0]                   \n",
            "__________________________________________________________________________________________________\n",
            "combined_dropout (Dropout)      (None, 384)          0           token_char_pos_concat[0][0]      \n",
            "__________________________________________________________________________________________________\n",
            "hidden_dense_layer (Dense)      (None, 200)          77000       combined_dropout[0][0]           \n",
            "__________________________________________________________________________________________________\n",
            "final_dropout (Dropout)         (None, 200)          0           hidden_dense_layer[0][0]         \n",
            "__________________________________________________________________________________________________\n",
            "final_output (Dense)            (None, 5)            1005        final_dropout[0][0]              \n",
            "==================================================================================================\n",
            "Total params: 8,853,707\n",
            "Trainable params: 8,853,707\n",
            "Non-trainable params: 0\n",
            "__________________________________________________________________________________________________\n"
          ],
          "name": "stdout"
        }
      ]
    },
    {
      "cell_type": "code",
      "metadata": {
        "colab": {
          "base_uri": "https://localhost:8080/",
          "height": 755
        },
        "id": "aPcqjXMfK9zh",
        "outputId": "1d9400b9-f65f-4f7c-e1a8-345c3106bb97"
      },
      "source": [
        "plot_model(model_9, show_shapes=True)"
      ],
      "execution_count": null,
      "outputs": [
        {
          "output_type": "execute_result",
          "data": {
            "image/png": "[encoded data removed]",
            "text/plain": [
              "<IPython.core.display.Image object>"
            ]
          },
          "metadata": {
            "tags": []
          },
          "execution_count": 246
        }
      ]
    },
    {
      "cell_type": "markdown",
      "metadata": {
        "id": "duOTAwTOLeea"
      },
      "source": [
        "#### Prepare datasets"
      ]
    },
    {
      "cell_type": "code",
      "metadata": {
        "id": "m5PLzYbKLj-y"
      },
      "source": [
        "ds_train_tok_char_pos = tf.data.Dataset.from_tensor_slices((X_train, X_train_char, X_train_line))\n",
        "ds_train_labels = tf.data.Dataset.from_tensor_slices(y_train_one_hot)\n",
        "ds_train_comb_all = tf.data.Dataset.zip((ds_train_tok_char_pos, ds_train_labels))\n",
        "\n",
        "ds_test_tok_char_pos = tf.data.Dataset.from_tensor_slices((X_test, X_test_char, X_test_line))\n",
        "ds_test_labels = tf.data.Dataset.from_tensor_slices(y_test_one_hot)\n",
        "ds_test_comb_all = tf.data.Dataset.zip((ds_test_tok_char_pos, ds_test_labels))\n",
        "\n",
        "ds_val_tok_char_pos = tf.data.Dataset.from_tensor_slices((X_val, X_val_char, X_val_line))\n",
        "ds_val_labels = tf.data.Dataset.from_tensor_slices(y_val_one_hot)\n",
        "ds_val_comb_all = tf.data.Dataset.zip((ds_val_tok_char_pos, ds_val_labels))\n",
        "\n",
        "\n",
        "ds_train_comb_all = ds_train_comb_all.batch(32).prefetch(tf.data.AUTOTUNE)\n",
        "ds_val_comb_all = ds_val_comb_all.batch(32).prefetch(tf.data.AUTOTUNE)\n",
        "ds_test_comb_all = ds_test_comb_all.batch(32).prefetch(tf.data.AUTOTUNE)"
      ],
      "execution_count": null,
      "outputs": []
    },
    {
      "cell_type": "markdown",
      "metadata": {
        "id": "pZ6FTT8fLTlO"
      },
      "source": [
        "#### Fit and save model"
      ]
    },
    {
      "cell_type": "code",
      "metadata": {
        "colab": {
          "base_uri": "https://localhost:8080/"
        },
        "id": "avvk7EmsLLWv",
        "outputId": "6d501c61-0c60-474e-ec90-fc1f937a6d56"
      },
      "source": [
        "history_9 = model_9.fit(ds_train_comb_all, epochs = 5,\n",
        "                        validation_data = ds_val_comb_all,\n",
        "                        validation_steps = int(0.1*len(ds_val_comb_all)),\n",
        "                        callbacks = create_tf_board_callback(DIR,'model_9_token_char_position'))"
      ],
      "execution_count": 248,
      "outputs": [
        {
          "output_type": "stream",
          "text": [
            "Saving TensorBoard log files to model_logs/model_9_token_char_position/20210722-124621\n",
            "Epoch 1/5\n",
            "5627/5627 [==============================] - 499s 89ms/step - loss: 0.0976 - accuracy: 0.9682 - val_loss: 0.9627 - val_accuracy: 0.7995\n",
            "Epoch 2/5\n",
            "5627/5627 [==============================] - 496s 88ms/step - loss: 0.0631 - accuracy: 0.9802 - val_loss: 1.0406 - val_accuracy: 0.8165\n",
            "Epoch 3/5\n",
            "5627/5627 [==============================] - 498s 88ms/step - loss: 0.0546 - accuracy: 0.9831 - val_loss: 1.2911 - val_accuracy: 0.8182\n",
            "Epoch 4/5\n",
            "5627/5627 [==============================] - 493s 88ms/step - loss: 0.0494 - accuracy: 0.9848 - val_loss: 1.3568 - val_accuracy: 0.8195\n",
            "Epoch 5/5\n",
            "5627/5627 [==============================] - 492s 87ms/step - loss: 0.0450 - accuracy: 0.9861 - val_loss: 1.3311 - val_accuracy: 0.8172\n"
          ],
          "name": "stdout"
        }
      ]
    },
    {
      "cell_type": "code",
      "metadata": {
        "id": "D93G27j1N-4x"
      },
      "source": [
        ""
      ],
      "execution_count": 248,
      "outputs": []
    },
    {
      "cell_type": "code",
      "metadata": {
        "id": "32ahrvj5Pc_t",
        "colab": {
          "base_uri": "https://localhost:8080/",
          "height": 593
        },
        "outputId": "764288d9-a1a8-4981-d1cb-a5af0135fbd3"
      },
      "source": [
        "plot_loss_curves(history_9)"
      ],
      "execution_count": 249,
      "outputs": [
        {
          "output_type": "display_data",
          "data": {
            "image/png": "[encoded data removed]",
            "text/plain": [
              "<Figure size 432x288 with 1 Axes>"
            ]
          },
          "metadata": {
            "tags": [],
            "needs_background": "light"
          }
        },
        {
          "output_type": "display_data",
          "data": {
            "image/png": "[encoded data removed]",
            "text/plain": [
              "<Figure size 432x288 with 1 Axes>"
            ]
          },
          "metadata": {
            "tags": [],
            "needs_background": "light"
          }
        }
      ]
    },
    {
      "cell_type": "code",
      "metadata": {
        "id": "h4tb370pPc_5",
        "colab": {
          "base_uri": "https://localhost:8080/"
        },
        "outputId": "7c69d7e7-63be-42f5-b5a8-ea635d8eebb3"
      },
      "source": [
        "model_9.save('/content/drive/MyDrive/projects/SPICED/models/SkimLit_model_9_2')"
      ],
      "execution_count": 250,
      "outputs": [
        {
          "output_type": "stream",
          "text": [
            "INFO:tensorflow:Assets written to: /content/drive/MyDrive/projects/SPICED/models/SkimLit_model_9_2/assets\n"
          ],
          "name": "stdout"
        },
        {
          "output_type": "stream",
          "text": [
            "INFO:tensorflow:Assets written to: /content/drive/MyDrive/projects/SPICED/models/SkimLit_model_9_2/assets\n"
          ],
          "name": "stderr"
        }
      ]
    },
    {
      "cell_type": "markdown",
      "metadata": {
        "id": "AFW7ZckUPc_7"
      },
      "source": [
        "#### Load model and make predictions"
      ]
    },
    {
      "cell_type": "code",
      "metadata": {
        "id": "mbFZOG9APc_8"
      },
      "source": [
        "load_model_9 = tf.keras.models.load_model('/content/drive/MyDrive/projects/SPICED/models/SkimLit_model_9_2')"
      ],
      "execution_count": 251,
      "outputs": []
    },
    {
      "cell_type": "code",
      "metadata": {
        "id": "cqabYWK4Pc_9"
      },
      "source": [
        "prob_9 = load_model_9.predict(ds_test_comb_all)"
      ],
      "execution_count": 252,
      "outputs": []
    },
    {
      "cell_type": "code",
      "metadata": {
        "id": "PDbdYNDEPc_-"
      },
      "source": [
        "pred_9 = tf.argmax(prob_9, axis = 1)"
      ],
      "execution_count": 253,
      "outputs": []
    },
    {
      "cell_type": "code",
      "metadata": {
        "id": "FjBEDY-yPc__",
        "colab": {
          "base_uri": "https://localhost:8080/",
          "height": 191
        },
        "outputId": "2f315a11-e039-4de4-c34d-5584666f56cf"
      },
      "source": [
        "pd.DataFrame(classification_report(y_test, pred_9, output_dict = True))\n"
      ],
      "execution_count": 254,
      "outputs": [
        {
          "output_type": "execute_result",
          "data": {
            "text/html": [
              "<div>\n",
              "<style scoped>\n",
              "    .dataframe tbody tr th:only-of-type {\n",
              "        vertical-align: middle;\n",
              "    }\n",
              "\n",
              "    .dataframe tbody tr th {\n",
              "        vertical-align: top;\n",
              "    }\n",
              "\n",
              "    .dataframe thead th {\n",
              "        text-align: right;\n",
              "    }\n",
              "</style>\n",
              "<table border=\"1\" class=\"dataframe\">\n",
              "  <thead>\n",
              "    <tr style=\"text-align: right;\">\n",
              "      <th></th>\n",
              "      <th>0</th>\n",
              "      <th>1</th>\n",
              "      <th>2</th>\n",
              "      <th>3</th>\n",
              "      <th>4</th>\n",
              "      <th>accuracy</th>\n",
              "      <th>macro avg</th>\n",
              "      <th>weighted avg</th>\n",
              "    </tr>\n",
              "  </thead>\n",
              "  <tbody>\n",
              "    <tr>\n",
              "      <th>precision</th>\n",
              "      <td>0.561328</td>\n",
              "      <td>0.870359</td>\n",
              "      <td>0.838421</td>\n",
              "      <td>0.875877</td>\n",
              "      <td>0.634053</td>\n",
              "      <td>0.806438</td>\n",
              "      <td>0.756007</td>\n",
              "      <td>0.808583</td>\n",
              "    </tr>\n",
              "    <tr>\n",
              "      <th>recall</th>\n",
              "      <td>0.500214</td>\n",
              "      <td>0.852683</td>\n",
              "      <td>0.868115</td>\n",
              "      <td>0.791949</td>\n",
              "      <td>0.730185</td>\n",
              "      <td>0.806438</td>\n",
              "      <td>0.748629</td>\n",
              "      <td>0.806438</td>\n",
              "    </tr>\n",
              "    <tr>\n",
              "      <th>f1-score</th>\n",
              "      <td>0.529012</td>\n",
              "      <td>0.861430</td>\n",
              "      <td>0.853010</td>\n",
              "      <td>0.831801</td>\n",
              "      <td>0.678732</td>\n",
              "      <td>0.806438</td>\n",
              "      <td>0.750797</td>\n",
              "      <td>0.806534</td>\n",
              "    </tr>\n",
              "    <tr>\n",
              "      <th>support</th>\n",
              "      <td>2333.000000</td>\n",
              "      <td>9897.000000</td>\n",
              "      <td>9713.000000</td>\n",
              "      <td>4571.000000</td>\n",
              "      <td>3621.000000</td>\n",
              "      <td>0.806438</td>\n",
              "      <td>30135.000000</td>\n",
              "      <td>30135.000000</td>\n",
              "    </tr>\n",
              "  </tbody>\n",
              "</table>\n",
              "</div>"
            ],
            "text/plain": [
              "                     0            1  ...     macro avg  weighted avg\n",
              "precision     0.561328     0.870359  ...      0.756007      0.808583\n",
              "recall        0.500214     0.852683  ...      0.748629      0.806438\n",
              "f1-score      0.529012     0.861430  ...      0.750797      0.806534\n",
              "support    2333.000000  9897.000000  ...  30135.000000  30135.000000\n",
              "\n",
              "[4 rows x 8 columns]"
            ]
          },
          "metadata": {
            "tags": []
          },
          "execution_count": 254
        }
      ]
    },
    {
      "cell_type": "code",
      "metadata": {
        "id": "COtV9FiqPdAA"
      },
      "source": [
        "save_results('model_9_tok_char_pos',y_test, pred_9)"
      ],
      "execution_count": 255,
      "outputs": []
    },
    {
      "cell_type": "code",
      "metadata": {
        "id": "FuY798moPdAB",
        "colab": {
          "base_uri": "https://localhost:8080/",
          "height": 374
        },
        "outputId": "eb989424-4816-4d5e-9266-6698c4819c91"
      },
      "source": [
        "df_results"
      ],
      "execution_count": 256,
      "outputs": [
        {
          "output_type": "execute_result",
          "data": {
            "text/html": [
              "<div>\n",
              "<style scoped>\n",
              "    .dataframe tbody tr th:only-of-type {\n",
              "        vertical-align: middle;\n",
              "    }\n",
              "\n",
              "    .dataframe tbody tr th {\n",
              "        vertical-align: top;\n",
              "    }\n",
              "\n",
              "    .dataframe thead th {\n",
              "        text-align: right;\n",
              "    }\n",
              "</style>\n",
              "<table border=\"1\" class=\"dataframe\">\n",
              "  <thead>\n",
              "    <tr style=\"text-align: right;\">\n",
              "      <th></th>\n",
              "      <th>model</th>\n",
              "      <th>accuracy</th>\n",
              "    </tr>\n",
              "  </thead>\n",
              "  <tbody>\n",
              "    <tr>\n",
              "      <th>0</th>\n",
              "      <td>LR_base</td>\n",
              "      <td>0.796781</td>\n",
              "    </tr>\n",
              "    <tr>\n",
              "      <th>1</th>\n",
              "      <td>model_1_128_dense</td>\n",
              "      <td>0.776572</td>\n",
              "    </tr>\n",
              "    <tr>\n",
              "      <th>2</th>\n",
              "      <td>model_2_64_conv1d</td>\n",
              "      <td>0.778264</td>\n",
              "    </tr>\n",
              "    <tr>\n",
              "      <th>3</th>\n",
              "      <td>model_3_use_128</td>\n",
              "      <td>0.766517</td>\n",
              "    </tr>\n",
              "    <tr>\n",
              "      <th>4</th>\n",
              "      <td>model_7_char_token</td>\n",
              "      <td>0.797578</td>\n",
              "    </tr>\n",
              "    <tr>\n",
              "      <th>5</th>\n",
              "      <td>model_6_char_token</td>\n",
              "      <td>0.747536</td>\n",
              "    </tr>\n",
              "    <tr>\n",
              "      <th>6</th>\n",
              "      <td>model_7_char_token</td>\n",
              "      <td>0.775875</td>\n",
              "    </tr>\n",
              "    <tr>\n",
              "      <th>7</th>\n",
              "      <td>model_8_lines</td>\n",
              "      <td>0.686179</td>\n",
              "    </tr>\n",
              "    <tr>\n",
              "      <th>8</th>\n",
              "      <td>model_9_tok_char_pos</td>\n",
              "      <td>0.812975</td>\n",
              "    </tr>\n",
              "    <tr>\n",
              "      <th>9</th>\n",
              "      <td>model_9_tok_char_pos</td>\n",
              "      <td>0.806438</td>\n",
              "    </tr>\n",
              "  </tbody>\n",
              "</table>\n",
              "</div>"
            ],
            "text/plain": [
              "                  model  accuracy\n",
              "0               LR_base  0.796781\n",
              "1     model_1_128_dense  0.776572\n",
              "2     model_2_64_conv1d  0.778264\n",
              "3       model_3_use_128  0.766517\n",
              "4    model_7_char_token  0.797578\n",
              "5    model_6_char_token  0.747536\n",
              "6    model_7_char_token  0.775875\n",
              "7         model_8_lines  0.686179\n",
              "8  model_9_tok_char_pos  0.812975\n",
              "9  model_9_tok_char_pos  0.806438"
            ]
          },
          "metadata": {
            "tags": []
          },
          "execution_count": 256
        }
      ]
    },
    {
      "cell_type": "code",
      "metadata": {
        "id": "lbnb7TqiP-_3"
      },
      "source": [
        ""
      ],
      "execution_count": 256,
      "outputs": []
    }
  ]
}