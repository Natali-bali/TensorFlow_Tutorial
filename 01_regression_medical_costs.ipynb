{
  "nbformat": 4,
  "nbformat_minor": 0,
  "metadata": {
    "colab": {
      "name": "01_regression_medical_costs.ipynb",
      "provenance": [],
      "authorship_tag": "ABX9TyN3zBglTODdkUROANmb7453",
      "include_colab_link": true
    },
    "kernelspec": {
      "name": "python3",
      "display_name": "Python 3"
    },
    "language_info": {
      "name": "python"
    }
  },
  "cells": [
    {
      "cell_type": "markdown",
      "metadata": {
        "id": "view-in-github",
        "colab_type": "text"
      },
      "source": [
        "<a href=\"https://colab.research.google.com/github/Natali-bali/TensorFlow_Tutorial/blob/master/01_regression_medical_costs.ipynb\" target=\"_parent\"><img src=\"https://colab.research.google.com/assets/colab-badge.svg\" alt=\"Open In Colab\"/></a>"
      ]
    },
    {
      "cell_type": "code",
      "metadata": {
        "id": "Y_OmkvLDbmqq"
      },
      "source": [
        "import tensorflow as tf\n",
        "import pandas as pd\n",
        "import numpy as np\n",
        "import matplotlib.pyplot as plt\n",
        "from sklearn.model_selection import train_test_split\n",
        "from tensorflow.keras.utils import plot_model\n",
        "from keras import backend as K \n",
        "from sklearn.preprocessing import MinMaxScaler\n",
        "from sklearn.compose import make_column_transformer"
      ],
      "execution_count": null,
      "outputs": []
    },
    {
      "cell_type": "code",
      "metadata": {
        "id": "d_axKJGJj7CX"
      },
      "source": [
        "#Helper functions\n",
        "def mse(y_test, y_pred):\n",
        "  y_pred = tf.squeeze(tf.constant(y_pred))\n",
        "  print(tf.metrics.mean_squared_error(y_test, y_pred))\n",
        "  return tf.metrics.mean_squared_error(y_test, y_pred)\n",
        "def mae(y_test, y_pred):\n",
        "  y_pred = tf.squeeze(tf.constant(y_pred))\n",
        "  print(tf.metrics.mean_absolute_error(y_test, y_pred))\n",
        "  return tf.metrics.mean_absolute_error(y_test, y_pred)"
      ],
      "execution_count": null,
      "outputs": []
    },
    {
      "cell_type": "code",
      "metadata": {
        "id": "q0ubNV9kbyA7"
      },
      "source": [
        "#To download data from Github open csv file in github, click raw, copy link\n",
        "df = pd.read_csv('https://raw.githubusercontent.com/stedy/Machine-Learning-with-R-datasets/master/insurance.csv')"
      ],
      "execution_count": null,
      "outputs": []
    },
    {
      "cell_type": "code",
      "metadata": {
        "colab": {
          "base_uri": "https://localhost:8080/",
          "height": 221
        },
        "id": "2cTr_TYadCY6",
        "outputId": "44099988-9b19-4a4a-b832-7f8c04f73a21"
      },
      "source": [
        "df.head()"
      ],
      "execution_count": null,
      "outputs": [
        {
          "output_type": "execute_result",
          "data": {
            "text/html": [
              "<div>\n",
              "<style scoped>\n",
              "    .dataframe tbody tr th:only-of-type {\n",
              "        vertical-align: middle;\n",
              "    }\n",
              "\n",
              "    .dataframe tbody tr th {\n",
              "        vertical-align: top;\n",
              "    }\n",
              "\n",
              "    .dataframe thead th {\n",
              "        text-align: right;\n",
              "    }\n",
              "</style>\n",
              "<table border=\"1\" class=\"dataframe\">\n",
              "  <thead>\n",
              "    <tr style=\"text-align: right;\">\n",
              "      <th></th>\n",
              "      <th>age</th>\n",
              "      <th>sex</th>\n",
              "      <th>bmi</th>\n",
              "      <th>children</th>\n",
              "      <th>smoker</th>\n",
              "      <th>region</th>\n",
              "      <th>charges</th>\n",
              "    </tr>\n",
              "  </thead>\n",
              "  <tbody>\n",
              "    <tr>\n",
              "      <th>0</th>\n",
              "      <td>19</td>\n",
              "      <td>female</td>\n",
              "      <td>27.900</td>\n",
              "      <td>0</td>\n",
              "      <td>yes</td>\n",
              "      <td>southwest</td>\n",
              "      <td>16884.92400</td>\n",
              "    </tr>\n",
              "    <tr>\n",
              "      <th>1</th>\n",
              "      <td>18</td>\n",
              "      <td>male</td>\n",
              "      <td>33.770</td>\n",
              "      <td>1</td>\n",
              "      <td>no</td>\n",
              "      <td>southeast</td>\n",
              "      <td>1725.55230</td>\n",
              "    </tr>\n",
              "    <tr>\n",
              "      <th>2</th>\n",
              "      <td>28</td>\n",
              "      <td>male</td>\n",
              "      <td>33.000</td>\n",
              "      <td>3</td>\n",
              "      <td>no</td>\n",
              "      <td>southeast</td>\n",
              "      <td>4449.46200</td>\n",
              "    </tr>\n",
              "    <tr>\n",
              "      <th>3</th>\n",
              "      <td>33</td>\n",
              "      <td>male</td>\n",
              "      <td>22.705</td>\n",
              "      <td>0</td>\n",
              "      <td>no</td>\n",
              "      <td>northwest</td>\n",
              "      <td>21984.47061</td>\n",
              "    </tr>\n",
              "    <tr>\n",
              "      <th>4</th>\n",
              "      <td>32</td>\n",
              "      <td>male</td>\n",
              "      <td>28.880</td>\n",
              "      <td>0</td>\n",
              "      <td>no</td>\n",
              "      <td>northwest</td>\n",
              "      <td>3866.85520</td>\n",
              "    </tr>\n",
              "  </tbody>\n",
              "</table>\n",
              "</div>"
            ],
            "text/plain": [
              "   age     sex     bmi  children smoker     region      charges\n",
              "0   19  female  27.900         0    yes  southwest  16884.92400\n",
              "1   18    male  33.770         1     no  southeast   1725.55230\n",
              "2   28    male  33.000         3     no  southeast   4449.46200\n",
              "3   33    male  22.705         0     no  northwest  21984.47061\n",
              "4   32    male  28.880         0     no  northwest   3866.85520"
            ]
          },
          "metadata": {
            "tags": []
          },
          "execution_count": 5
        }
      ]
    },
    {
      "cell_type": "code",
      "metadata": {
        "colab": {
          "base_uri": "https://localhost:8080/",
          "height": 313
        },
        "id": "0KmBCDE0dNy1",
        "outputId": "0f4a86c6-ffbf-4f19-d5f3-0dbab6fe133b"
      },
      "source": [
        "df.describe()"
      ],
      "execution_count": null,
      "outputs": [
        {
          "output_type": "execute_result",
          "data": {
            "text/html": [
              "<div>\n",
              "<style scoped>\n",
              "    .dataframe tbody tr th:only-of-type {\n",
              "        vertical-align: middle;\n",
              "    }\n",
              "\n",
              "    .dataframe tbody tr th {\n",
              "        vertical-align: top;\n",
              "    }\n",
              "\n",
              "    .dataframe thead th {\n",
              "        text-align: right;\n",
              "    }\n",
              "</style>\n",
              "<table border=\"1\" class=\"dataframe\">\n",
              "  <thead>\n",
              "    <tr style=\"text-align: right;\">\n",
              "      <th></th>\n",
              "      <th>age</th>\n",
              "      <th>bmi</th>\n",
              "      <th>children</th>\n",
              "      <th>charges</th>\n",
              "    </tr>\n",
              "  </thead>\n",
              "  <tbody>\n",
              "    <tr>\n",
              "      <th>count</th>\n",
              "      <td>1338.000000</td>\n",
              "      <td>1338.000000</td>\n",
              "      <td>1338.000000</td>\n",
              "      <td>1338.000000</td>\n",
              "    </tr>\n",
              "    <tr>\n",
              "      <th>mean</th>\n",
              "      <td>39.207025</td>\n",
              "      <td>30.663397</td>\n",
              "      <td>1.094918</td>\n",
              "      <td>13270.422265</td>\n",
              "    </tr>\n",
              "    <tr>\n",
              "      <th>std</th>\n",
              "      <td>14.049960</td>\n",
              "      <td>6.098187</td>\n",
              "      <td>1.205493</td>\n",
              "      <td>12110.011237</td>\n",
              "    </tr>\n",
              "    <tr>\n",
              "      <th>min</th>\n",
              "      <td>18.000000</td>\n",
              "      <td>15.960000</td>\n",
              "      <td>0.000000</td>\n",
              "      <td>1121.873900</td>\n",
              "    </tr>\n",
              "    <tr>\n",
              "      <th>25%</th>\n",
              "      <td>27.000000</td>\n",
              "      <td>26.296250</td>\n",
              "      <td>0.000000</td>\n",
              "      <td>4740.287150</td>\n",
              "    </tr>\n",
              "    <tr>\n",
              "      <th>50%</th>\n",
              "      <td>39.000000</td>\n",
              "      <td>30.400000</td>\n",
              "      <td>1.000000</td>\n",
              "      <td>9382.033000</td>\n",
              "    </tr>\n",
              "    <tr>\n",
              "      <th>75%</th>\n",
              "      <td>51.000000</td>\n",
              "      <td>34.693750</td>\n",
              "      <td>2.000000</td>\n",
              "      <td>16639.912515</td>\n",
              "    </tr>\n",
              "    <tr>\n",
              "      <th>max</th>\n",
              "      <td>64.000000</td>\n",
              "      <td>53.130000</td>\n",
              "      <td>5.000000</td>\n",
              "      <td>63770.428010</td>\n",
              "    </tr>\n",
              "  </tbody>\n",
              "</table>\n",
              "</div>"
            ],
            "text/plain": [
              "               age          bmi     children       charges\n",
              "count  1338.000000  1338.000000  1338.000000   1338.000000\n",
              "mean     39.207025    30.663397     1.094918  13270.422265\n",
              "std      14.049960     6.098187     1.205493  12110.011237\n",
              "min      18.000000    15.960000     0.000000   1121.873900\n",
              "25%      27.000000    26.296250     0.000000   4740.287150\n",
              "50%      39.000000    30.400000     1.000000   9382.033000\n",
              "75%      51.000000    34.693750     2.000000  16639.912515\n",
              "max      64.000000    53.130000     5.000000  63770.428010"
            ]
          },
          "metadata": {
            "tags": []
          },
          "execution_count": 8
        }
      ]
    },
    {
      "cell_type": "code",
      "metadata": {
        "colab": {
          "base_uri": "https://localhost:8080/"
        },
        "id": "OFgKCMjbdVtd",
        "outputId": "56a3fbf1-c1c3-48d0-fd12-5e1f1903b161"
      },
      "source": [
        "df.info()"
      ],
      "execution_count": null,
      "outputs": [
        {
          "output_type": "stream",
          "text": [
            "<class 'pandas.core.frame.DataFrame'>\n",
            "RangeIndex: 1338 entries, 0 to 1337\n",
            "Data columns (total 7 columns):\n",
            " #   Column    Non-Null Count  Dtype  \n",
            "---  ------    --------------  -----  \n",
            " 0   age       1338 non-null   int64  \n",
            " 1   sex       1338 non-null   object \n",
            " 2   bmi       1338 non-null   float64\n",
            " 3   children  1338 non-null   int64  \n",
            " 4   smoker    1338 non-null   object \n",
            " 5   region    1338 non-null   object \n",
            " 6   charges   1338 non-null   float64\n",
            "dtypes: float64(2), int64(2), object(3)\n",
            "memory usage: 73.3+ KB\n"
          ],
          "name": "stdout"
        }
      ]
    },
    {
      "cell_type": "code",
      "metadata": {
        "colab": {
          "base_uri": "https://localhost:8080/"
        },
        "id": "fS5juaO4db5N",
        "outputId": "26e2d0f7-9048-4465-a478-7313aa1e7ae4"
      },
      "source": [
        "df.sex.unique(), df.smoker.unique(), df.region.unique()"
      ],
      "execution_count": null,
      "outputs": [
        {
          "output_type": "execute_result",
          "data": {
            "text/plain": [
              "(array(['female', 'male'], dtype=object),\n",
              " array(['yes', 'no'], dtype=object),\n",
              " array(['southwest', 'southeast', 'northwest', 'northeast'], dtype=object))"
            ]
          },
          "metadata": {
            "tags": []
          },
          "execution_count": 11
        }
      ]
    },
    {
      "cell_type": "code",
      "metadata": {
        "id": "gZY-66_7eJ6E"
      },
      "source": [
        "df = pd.get_dummies(df, drop_first=True)"
      ],
      "execution_count": null,
      "outputs": []
    },
    {
      "cell_type": "code",
      "metadata": {
        "colab": {
          "base_uri": "https://localhost:8080/",
          "height": 433
        },
        "id": "eV1Yfjuue78z",
        "outputId": "be6af986-3f82-4690-b694-0806d7152cfa"
      },
      "source": [
        "df"
      ],
      "execution_count": null,
      "outputs": [
        {
          "output_type": "execute_result",
          "data": {
            "text/html": [
              "<div>\n",
              "<style scoped>\n",
              "    .dataframe tbody tr th:only-of-type {\n",
              "        vertical-align: middle;\n",
              "    }\n",
              "\n",
              "    .dataframe tbody tr th {\n",
              "        vertical-align: top;\n",
              "    }\n",
              "\n",
              "    .dataframe thead th {\n",
              "        text-align: right;\n",
              "    }\n",
              "</style>\n",
              "<table border=\"1\" class=\"dataframe\">\n",
              "  <thead>\n",
              "    <tr style=\"text-align: right;\">\n",
              "      <th></th>\n",
              "      <th>age</th>\n",
              "      <th>bmi</th>\n",
              "      <th>children</th>\n",
              "      <th>charges</th>\n",
              "      <th>sex_male</th>\n",
              "      <th>smoker_yes</th>\n",
              "      <th>region_northwest</th>\n",
              "      <th>region_southeast</th>\n",
              "      <th>region_southwest</th>\n",
              "    </tr>\n",
              "  </thead>\n",
              "  <tbody>\n",
              "    <tr>\n",
              "      <th>0</th>\n",
              "      <td>19</td>\n",
              "      <td>27.900</td>\n",
              "      <td>0</td>\n",
              "      <td>16884.92400</td>\n",
              "      <td>0</td>\n",
              "      <td>1</td>\n",
              "      <td>0</td>\n",
              "      <td>0</td>\n",
              "      <td>1</td>\n",
              "    </tr>\n",
              "    <tr>\n",
              "      <th>1</th>\n",
              "      <td>18</td>\n",
              "      <td>33.770</td>\n",
              "      <td>1</td>\n",
              "      <td>1725.55230</td>\n",
              "      <td>1</td>\n",
              "      <td>0</td>\n",
              "      <td>0</td>\n",
              "      <td>1</td>\n",
              "      <td>0</td>\n",
              "    </tr>\n",
              "    <tr>\n",
              "      <th>2</th>\n",
              "      <td>28</td>\n",
              "      <td>33.000</td>\n",
              "      <td>3</td>\n",
              "      <td>4449.46200</td>\n",
              "      <td>1</td>\n",
              "      <td>0</td>\n",
              "      <td>0</td>\n",
              "      <td>1</td>\n",
              "      <td>0</td>\n",
              "    </tr>\n",
              "    <tr>\n",
              "      <th>3</th>\n",
              "      <td>33</td>\n",
              "      <td>22.705</td>\n",
              "      <td>0</td>\n",
              "      <td>21984.47061</td>\n",
              "      <td>1</td>\n",
              "      <td>0</td>\n",
              "      <td>1</td>\n",
              "      <td>0</td>\n",
              "      <td>0</td>\n",
              "    </tr>\n",
              "    <tr>\n",
              "      <th>4</th>\n",
              "      <td>32</td>\n",
              "      <td>28.880</td>\n",
              "      <td>0</td>\n",
              "      <td>3866.85520</td>\n",
              "      <td>1</td>\n",
              "      <td>0</td>\n",
              "      <td>1</td>\n",
              "      <td>0</td>\n",
              "      <td>0</td>\n",
              "    </tr>\n",
              "    <tr>\n",
              "      <th>...</th>\n",
              "      <td>...</td>\n",
              "      <td>...</td>\n",
              "      <td>...</td>\n",
              "      <td>...</td>\n",
              "      <td>...</td>\n",
              "      <td>...</td>\n",
              "      <td>...</td>\n",
              "      <td>...</td>\n",
              "      <td>...</td>\n",
              "    </tr>\n",
              "    <tr>\n",
              "      <th>1333</th>\n",
              "      <td>50</td>\n",
              "      <td>30.970</td>\n",
              "      <td>3</td>\n",
              "      <td>10600.54830</td>\n",
              "      <td>1</td>\n",
              "      <td>0</td>\n",
              "      <td>1</td>\n",
              "      <td>0</td>\n",
              "      <td>0</td>\n",
              "    </tr>\n",
              "    <tr>\n",
              "      <th>1334</th>\n",
              "      <td>18</td>\n",
              "      <td>31.920</td>\n",
              "      <td>0</td>\n",
              "      <td>2205.98080</td>\n",
              "      <td>0</td>\n",
              "      <td>0</td>\n",
              "      <td>0</td>\n",
              "      <td>0</td>\n",
              "      <td>0</td>\n",
              "    </tr>\n",
              "    <tr>\n",
              "      <th>1335</th>\n",
              "      <td>18</td>\n",
              "      <td>36.850</td>\n",
              "      <td>0</td>\n",
              "      <td>1629.83350</td>\n",
              "      <td>0</td>\n",
              "      <td>0</td>\n",
              "      <td>0</td>\n",
              "      <td>1</td>\n",
              "      <td>0</td>\n",
              "    </tr>\n",
              "    <tr>\n",
              "      <th>1336</th>\n",
              "      <td>21</td>\n",
              "      <td>25.800</td>\n",
              "      <td>0</td>\n",
              "      <td>2007.94500</td>\n",
              "      <td>0</td>\n",
              "      <td>0</td>\n",
              "      <td>0</td>\n",
              "      <td>0</td>\n",
              "      <td>1</td>\n",
              "    </tr>\n",
              "    <tr>\n",
              "      <th>1337</th>\n",
              "      <td>61</td>\n",
              "      <td>29.070</td>\n",
              "      <td>0</td>\n",
              "      <td>29141.36030</td>\n",
              "      <td>0</td>\n",
              "      <td>1</td>\n",
              "      <td>1</td>\n",
              "      <td>0</td>\n",
              "      <td>0</td>\n",
              "    </tr>\n",
              "  </tbody>\n",
              "</table>\n",
              "<p>1338 rows × 9 columns</p>\n",
              "</div>"
            ],
            "text/plain": [
              "      age     bmi  ...  region_southeast  region_southwest\n",
              "0      19  27.900  ...                 0                 1\n",
              "1      18  33.770  ...                 1                 0\n",
              "2      28  33.000  ...                 1                 0\n",
              "3      33  22.705  ...                 0                 0\n",
              "4      32  28.880  ...                 0                 0\n",
              "...   ...     ...  ...               ...               ...\n",
              "1333   50  30.970  ...                 0                 0\n",
              "1334   18  31.920  ...                 0                 0\n",
              "1335   18  36.850  ...                 1                 0\n",
              "1336   21  25.800  ...                 0                 1\n",
              "1337   61  29.070  ...                 0                 0\n",
              "\n",
              "[1338 rows x 9 columns]"
            ]
          },
          "metadata": {
            "tags": []
          },
          "execution_count": 15
        }
      ]
    },
    {
      "cell_type": "code",
      "metadata": {
        "id": "ZxVsAVwdg2Q1"
      },
      "source": [
        "#Define X and y\n",
        "X = df.drop('charges', axis = 1)"
      ],
      "execution_count": null,
      "outputs": []
    },
    {
      "cell_type": "code",
      "metadata": {
        "id": "Amrfe2cOhAKU"
      },
      "source": [
        "y = df.charges"
      ],
      "execution_count": null,
      "outputs": []
    },
    {
      "cell_type": "code",
      "metadata": {
        "id": "3_f6aui1f10t"
      },
      "source": [
        "#Split to train and test data\n",
        "X_train, X_test, y_train, y_test = train_test_split(X, y, test_size=0.2, random_state=42)"
      ],
      "execution_count": null,
      "outputs": []
    },
    {
      "cell_type": "code",
      "metadata": {
        "id": "GTTrnLKxhL0R"
      },
      "source": [
        "#!!!! we dont need to reformat them to tensors! pd built on top of numpy/so changed to tensors automatically!!!\n",
        "# X_train = tf.constant(X_train)\n",
        "# X_test = tf.constant(X_test)\n",
        "# y_train = tf.constant(y_train)\n",
        "# y_test = tf.constant(y_test)"
      ],
      "execution_count": null,
      "outputs": []
    },
    {
      "cell_type": "code",
      "metadata": {
        "id": "t4hpEqB5sFV3"
      },
      "source": [
        "results = []"
      ],
      "execution_count": null,
      "outputs": []
    },
    {
      "cell_type": "code",
      "metadata": {
        "id": "fPiJAil6hqlo"
      },
      "source": [
        "K.clear_session()"
      ],
      "execution_count": null,
      "outputs": []
    },
    {
      "cell_type": "code",
      "metadata": {
        "id": "rJ1C7oLDp0h2"
      },
      "source": [
        "tf.random.set_seed(42)"
      ],
      "execution_count": null,
      "outputs": []
    },
    {
      "cell_type": "code",
      "metadata": {
        "id": "PpBV1785ibsb"
      },
      "source": [
        "model1 = tf.keras.Sequential([\n",
        "                             tf.keras.layers.Dense(10, input_shape = [8], name='input_layer'),\n",
        "                             tf.keras.layers.Dense(1, name = 'output_layer')\n",
        "])"
      ],
      "execution_count": null,
      "outputs": []
    },
    {
      "cell_type": "code",
      "metadata": {
        "id": "bpRtzKSJjINa"
      },
      "source": [
        "model1.compile(optimizer=tf.keras.optimizers.Adam(learning_rate=0.01), loss = 'mae', metrics = ['mae'])"
      ],
      "execution_count": null,
      "outputs": []
    },
    {
      "cell_type": "code",
      "metadata": {
        "colab": {
          "base_uri": "https://localhost:8080/"
        },
        "id": "fS5gWFcCjYYz",
        "outputId": "a5bf407c-f694-4271-87aa-1dcf40215f9f"
      },
      "source": [
        "model1.summary()"
      ],
      "execution_count": null,
      "outputs": [
        {
          "output_type": "stream",
          "text": [
            "Model: \"sequential\"\n",
            "_________________________________________________________________\n",
            "Layer (type)                 Output Shape              Param #   \n",
            "=================================================================\n",
            "input_layer (Dense)          (None, 10)                90        \n",
            "_________________________________________________________________\n",
            "output_layer (Dense)         (None, 1)                 11        \n",
            "=================================================================\n",
            "Total params: 101\n",
            "Trainable params: 101\n",
            "Non-trainable params: 0\n",
            "_________________________________________________________________\n"
          ],
          "name": "stdout"
        }
      ]
    },
    {
      "cell_type": "code",
      "metadata": {
        "colab": {
          "base_uri": "https://localhost:8080/"
        },
        "id": "h665PZ4hjanB",
        "outputId": "9a49ba53-37d0-4507-ba56-25860ac8db8b"
      },
      "source": [
        "model1.fit(X_train, y_train, epochs = 10)"
      ],
      "execution_count": null,
      "outputs": [
        {
          "output_type": "stream",
          "text": [
            "Epoch 1/10\n",
            "34/34 [==============================] - 0s 1ms/step - loss: 13279.4590 - mae: 13279.4590\n",
            "Epoch 2/10\n",
            "34/34 [==============================] - 0s 1ms/step - loss: 13006.0547 - mae: 13006.0547\n",
            "Epoch 3/10\n",
            "34/34 [==============================] - 0s 1ms/step - loss: 12393.1895 - mae: 12393.1895\n",
            "Epoch 4/10\n",
            "34/34 [==============================] - 0s 1ms/step - loss: 11334.0469 - mae: 11334.0469\n",
            "Epoch 5/10\n",
            "34/34 [==============================] - 0s 1ms/step - loss: 9972.4170 - mae: 9972.4170\n",
            "Epoch 6/10\n",
            "34/34 [==============================] - 0s 1ms/step - loss: 8676.1260 - mae: 8676.1260\n",
            "Epoch 7/10\n",
            "34/34 [==============================] - 0s 1ms/step - loss: 7783.6230 - mae: 7783.6230\n",
            "Epoch 8/10\n",
            "34/34 [==============================] - 0s 1ms/step - loss: 7467.2021 - mae: 7467.2021\n",
            "Epoch 9/10\n",
            "34/34 [==============================] - 0s 1ms/step - loss: 7401.5576 - mae: 7401.5576\n",
            "Epoch 10/10\n",
            "34/34 [==============================] - 0s 1ms/step - loss: 7380.3911 - mae: 7380.3911\n"
          ],
          "name": "stdout"
        },
        {
          "output_type": "execute_result",
          "data": {
            "text/plain": [
              "<tensorflow.python.keras.callbacks.History at 0x7f5911b07890>"
            ]
          },
          "metadata": {
            "tags": []
          },
          "execution_count": 152
        }
      ]
    },
    {
      "cell_type": "code",
      "metadata": {
        "colab": {
          "base_uri": "https://localhost:8080/"
        },
        "id": "Kag7y3qGj5LB",
        "outputId": "51c4bb8b-43a9-47ca-b3e6-9f7ec910880a"
      },
      "source": [
        "y_pred_1 = model1.predict(X_test)\n",
        "mae1 = mae(y_test, y_pred_1)\n",
        "mse1 = mse(y_test, y_pred_1)"
      ],
      "execution_count": null,
      "outputs": [
        {
          "output_type": "stream",
          "text": [
            "tf.Tensor(7511.8306, shape=(), dtype=float32)\n",
            "tf.Tensor(155861940.0, shape=(), dtype=float32)\n"
          ],
          "name": "stdout"
        }
      ]
    },
    {
      "cell_type": "code",
      "metadata": {
        "id": "PWKx1y-Sjitp"
      },
      "source": [
        "# Results array\n",
        "results = [['Model1', mae1, mse1]]"
      ],
      "execution_count": null,
      "outputs": []
    },
    {
      "cell_type": "code",
      "metadata": {
        "id": "oqxx-EgglUDw"
      },
      "source": [
        "# Model2 increase number of neurons, act function RELU, epochs = 100\n",
        "tf.random.set_seed(42)\n",
        "model2 = tf.keras.Sequential([\n",
        "                             tf.keras.layers.Dense(100, input_shape = [8], name='input_layer', activation='relu'),\n",
        "                             tf.keras.layers.Dense(1, name = 'output_layer')\n",
        "])\n",
        "model2.compile(optimizer=tf.keras.optimizers.Adam(learning_rate=0.01), loss = 'mae', metrics = ['mae'])"
      ],
      "execution_count": null,
      "outputs": []
    },
    {
      "cell_type": "code",
      "metadata": {
        "colab": {
          "base_uri": "https://localhost:8080/"
        },
        "id": "iqiaCzIgl748",
        "outputId": "8085268a-67d2-4dff-ab4d-660a6ddfccce"
      },
      "source": [
        "model2.fit(X_train, y_train, epochs = 100, verbose = 0)"
      ],
      "execution_count": null,
      "outputs": [
        {
          "output_type": "execute_result",
          "data": {
            "text/plain": [
              "<tensorflow.python.keras.callbacks.History at 0x7f5912d931d0>"
            ]
          },
          "metadata": {
            "tags": []
          },
          "execution_count": 95
        }
      ]
    },
    {
      "cell_type": "code",
      "metadata": {
        "colab": {
          "base_uri": "https://localhost:8080/"
        },
        "id": "lPUC_2qimCFq",
        "outputId": "d430189e-6b0c-4314-e5f1-a971c84faaf7"
      },
      "source": [
        "y_pred_2 = model2.predict(X_test)\n",
        "mae2 = mae(y_test, y_pred_2)\n",
        "mse2 = mse(y_test, y_pred_2)"
      ],
      "execution_count": null,
      "outputs": [
        {
          "output_type": "stream",
          "text": [
            "tf.Tensor(3437.305, shape=(), dtype=float32)\n",
            "tf.Tensor(55725780.0, shape=(), dtype=float32)\n"
          ],
          "name": "stdout"
        }
      ]
    },
    {
      "cell_type": "code",
      "metadata": {
        "id": "0BwW8ajimIaX"
      },
      "source": [
        "results.append(['Model2', mae2, mse2])"
      ],
      "execution_count": null,
      "outputs": []
    },
    {
      "cell_type": "code",
      "metadata": {
        "id": "vniV-kgdmT9y"
      },
      "source": [
        "#Model3 add hidden layer with 200 neurons, 300 epochs\n",
        "\n",
        "model3 = tf.keras.Sequential([\n",
        "                             tf.keras.layers.Dense(100, input_shape = [8], name='input_layer', activation='relu'),\n",
        "                             tf.keras.layers.Dense(200, name='hidden_layer', activation='relu'), \n",
        "                             tf.keras.layers.Dense(1, name = 'output_layer')\n",
        "])\n",
        "model3.compile(optimizer=tf.keras.optimizers.Adam(learning_rate=0.01), loss = 'mae', metrics = ['mae'])"
      ],
      "execution_count": null,
      "outputs": []
    },
    {
      "cell_type": "code",
      "metadata": {
        "colab": {
          "base_uri": "https://localhost:8080/"
        },
        "id": "LyRg6W0omoAO",
        "outputId": "611852de-8299-40e1-95f6-931a71b7204a"
      },
      "source": [
        "model3.fit(X_train, y_train, epochs = 300, verbose = 0)"
      ],
      "execution_count": null,
      "outputs": [
        {
          "output_type": "execute_result",
          "data": {
            "text/plain": [
              "<tensorflow.python.keras.callbacks.History at 0x7f5912c9e0d0>"
            ]
          },
          "metadata": {
            "tags": []
          },
          "execution_count": 99
        }
      ]
    },
    {
      "cell_type": "code",
      "metadata": {
        "colab": {
          "base_uri": "https://localhost:8080/"
        },
        "id": "d949wlFUmvWJ",
        "outputId": "afb1908a-4a05-457d-e4fc-b6fbf7822e93"
      },
      "source": [
        "y_pred_3 = model3.predict(X_test)\n",
        "mae3 = mae(y_test, y_pred_3)\n",
        "mse3 = mse(y_test, y_pred_3)"
      ],
      "execution_count": null,
      "outputs": [
        {
          "output_type": "stream",
          "text": [
            "tf.Tensor(1599.3115, shape=(), dtype=float32)\n",
            "tf.Tensor(19797086.0, shape=(), dtype=float32)\n"
          ],
          "name": "stdout"
        }
      ]
    },
    {
      "cell_type": "code",
      "metadata": {
        "id": "Hz-Gx1s3m16f"
      },
      "source": [
        "results.append(['Model3', mae3, mse3])"
      ],
      "execution_count": null,
      "outputs": []
    },
    {
      "cell_type": "code",
      "metadata": {
        "id": "di2wQG0YoWvg"
      },
      "source": [
        ""
      ],
      "execution_count": null,
      "outputs": []
    },
    {
      "cell_type": "code",
      "metadata": {
        "id": "cZWNyGJInd_N"
      },
      "source": [
        "#Model4 epochs = 500, learning rate = 0.001\n",
        "tf.random.set_seed(42)\n",
        "model4 = tf.keras.Sequential([\n",
        "                             tf.keras.layers.Dense(100, input_shape = [8], name='input_layer', activation='relu'),\n",
        "                             tf.keras.layers.Dense(200, name='hidden_layer', activation='relu'), \n",
        "                             tf.keras.layers.Dense(1, name = 'output_layer')\n",
        "])\n",
        "model4.compile(optimizer=tf.keras.optimizers.Adam(learning_rate=0.001), loss = 'mae', metrics = ['mae'])"
      ],
      "execution_count": null,
      "outputs": []
    },
    {
      "cell_type": "code",
      "metadata": {
        "colab": {
          "base_uri": "https://localhost:8080/"
        },
        "id": "Ynst4GkLnlHe",
        "outputId": "18511d63-38b0-4326-c24b-0ecab6a9e59e"
      },
      "source": [
        "model4.fit(X_train, y_train, epochs = 500, verbose = 0)"
      ],
      "execution_count": null,
      "outputs": [
        {
          "output_type": "execute_result",
          "data": {
            "text/plain": [
              "<tensorflow.python.keras.callbacks.History at 0x7f5912b46110>"
            ]
          },
          "metadata": {
            "tags": []
          },
          "execution_count": 103
        }
      ]
    },
    {
      "cell_type": "code",
      "metadata": {
        "colab": {
          "base_uri": "https://localhost:8080/"
        },
        "id": "XYyo6jZan00N",
        "outputId": "ff0b821d-40d4-467d-da32-01640a5a3cb9"
      },
      "source": [
        "y_pred_4 = model4.predict(X_test)\n",
        "mae4 = mae(y_test, y_pred_4)\n",
        "mse4 = mse(y_test, y_pred_4)"
      ],
      "execution_count": null,
      "outputs": [
        {
          "output_type": "stream",
          "text": [
            "tf.Tensor(2185.5847, shape=(), dtype=float32)\n",
            "tf.Tensor(26286798.0, shape=(), dtype=float32)\n"
          ],
          "name": "stdout"
        }
      ]
    },
    {
      "cell_type": "code",
      "metadata": {
        "id": "vmOmg2aSn7qx"
      },
      "source": [
        "results.append(['Model4', mae4, mse4])"
      ],
      "execution_count": null,
      "outputs": []
    },
    {
      "cell_type": "code",
      "metadata": {
        "id": "eKlVBr0SozhJ"
      },
      "source": [
        "K.clear_session()"
      ],
      "execution_count": null,
      "outputs": []
    },
    {
      "cell_type": "code",
      "metadata": {
        "id": "_zrruVAGoF07"
      },
      "source": [
        "# Model5 repeat Model3 with 500 epochs\n",
        "tf.random.set_seed(42)\n",
        "model5 = tf.keras.Sequential([\n",
        "                             tf.keras.layers.Dense(300, input_shape = [8], name='input_layer', activation='relu'),\n",
        "                             tf.keras.layers.Dense(50, name='hidden_layer', activation='relu'), \n",
        "                             tf.keras.layers.Dense(1, name = 'output_layer')\n",
        "])\n",
        "model5.compile(optimizer=tf.keras.optimizers.Adam(learning_rate=0.01), loss = 'mae', metrics = ['mae'])"
      ],
      "execution_count": null,
      "outputs": []
    },
    {
      "cell_type": "code",
      "metadata": {
        "id": "qyUCUmZzoZt7"
      },
      "source": [
        "history5 = model5.fit(X_train, y_train, epochs = 500, verbose = 0)"
      ],
      "execution_count": null,
      "outputs": []
    },
    {
      "cell_type": "code",
      "metadata": {
        "colab": {
          "base_uri": "https://localhost:8080/"
        },
        "id": "z8NQhyrdoZuA",
        "outputId": "5214de28-f752-43c5-c396-08bf3f820b12"
      },
      "source": [
        "y_pred_5 = model5.predict(X_test)\n",
        "mae5 = mae(y_test, y_pred_5)\n",
        "mse5 = mse(y_test, y_pred_5)"
      ],
      "execution_count": null,
      "outputs": [
        {
          "output_type": "stream",
          "text": [
            "tf.Tensor(1473.6271, shape=(), dtype=float32)\n",
            "tf.Tensor(19288702.0, shape=(), dtype=float32)\n"
          ],
          "name": "stdout"
        }
      ]
    },
    {
      "cell_type": "code",
      "metadata": {
        "id": "FxxLvE6FoZuC"
      },
      "source": [
        "results.append(['Model5_3', mae5, mse5])"
      ],
      "execution_count": null,
      "outputs": []
    },
    {
      "cell_type": "code",
      "metadata": {
        "colab": {
          "base_uri": "https://localhost:8080/"
        },
        "id": "lAd46vLfomXt",
        "outputId": "4489ac0e-1c5b-401e-8423-2d162b9fa6be"
      },
      "source": [
        "results"
      ],
      "execution_count": null,
      "outputs": [
        {
          "output_type": "execute_result",
          "data": {
            "text/plain": [
              "[['Model1',\n",
              "  <tf.Tensor: shape=(), dtype=float32, numpy=7511.8306>,\n",
              "  <tf.Tensor: shape=(), dtype=float32, numpy=155861940.0>],\n",
              " ['Model2',\n",
              "  <tf.Tensor: shape=(), dtype=float32, numpy=3437.305>,\n",
              "  <tf.Tensor: shape=(), dtype=float32, numpy=55725780.0>],\n",
              " ['Model3',\n",
              "  <tf.Tensor: shape=(), dtype=float32, numpy=1599.3115>,\n",
              "  <tf.Tensor: shape=(), dtype=float32, numpy=19797086.0>],\n",
              " ['Model4',\n",
              "  <tf.Tensor: shape=(), dtype=float32, numpy=2185.5847>,\n",
              "  <tf.Tensor: shape=(), dtype=float32, numpy=26286798.0>],\n",
              " ['Model5_2',\n",
              "  <tf.Tensor: shape=(), dtype=float32, numpy=1498.7117>,\n",
              "  <tf.Tensor: shape=(), dtype=float32, numpy=19043574.0>],\n",
              " ['Model5',\n",
              "  <tf.Tensor: shape=(), dtype=float32, numpy=1889.2441>,\n",
              "  <tf.Tensor: shape=(), dtype=float32, numpy=21847268.0>],\n",
              " ['Model5_3',\n",
              "  <tf.Tensor: shape=(), dtype=float32, numpy=1473.6271>,\n",
              "  <tf.Tensor: shape=(), dtype=float32, numpy=19288702.0>],\n",
              " ['Model5_3',\n",
              "  <tf.Tensor: shape=(), dtype=float32, numpy=1473.6271>,\n",
              "  <tf.Tensor: shape=(), dtype=float32, numpy=19288702.0>]]"
            ]
          },
          "metadata": {
            "tags": []
          },
          "execution_count": 131
        }
      ]
    },
    {
      "cell_type": "code",
      "metadata": {
        "colab": {
          "base_uri": "https://localhost:8080/",
          "height": 302
        },
        "id": "IL8yew30sZrQ",
        "outputId": "b0aaed30-9c1e-4471-9a87-29cd5ea91aca"
      },
      "source": [
        "#Plot history (loss function)\n",
        "pd.DataFrame(history5.history).plot()"
      ],
      "execution_count": null,
      "outputs": [
        {
          "output_type": "execute_result",
          "data": {
            "text/plain": [
              "<matplotlib.axes._subplots.AxesSubplot at 0x7f5911c706d0>"
            ]
          },
          "metadata": {
            "tags": []
          },
          "execution_count": 132
        },
        {
          "output_type": "display_data",
          "data": {
            "image/png": "[encoded data removed]",
            "text/plain": [
              "<Figure size 432x288 with 1 Axes>"
            ]
          },
          "metadata": {
            "tags": [],
            "needs_background": "light"
          }
        }
      ]
    },
    {
      "cell_type": "code",
      "metadata": {
        "id": "KQE0HjrnuIM1"
      },
      "source": [
        ""
      ],
      "execution_count": null,
      "outputs": []
    },
    {
      "cell_type": "markdown",
      "metadata": {
        "id": "eJtPcH14uR1Y"
      },
      "source": [
        "### Preprocessing Data, Normalization and Standartisation"
      ]
    },
    {
      "cell_type": "code",
      "metadata": {
        "colab": {
          "base_uri": "https://localhost:8080/",
          "height": 305
        },
        "id": "7N6rbcwhpKlZ",
        "outputId": "a988bebd-82db-4690-ba97-4e5dd414ab97"
      },
      "source": [
        "df.children.plot(kind = 'hist')"
      ],
      "execution_count": null,
      "outputs": [
        {
          "output_type": "execute_result",
          "data": {
            "text/plain": [
              "<matplotlib.axes._subplots.AxesSubplot at 0x7f5911cc9350>"
            ]
          },
          "metadata": {
            "tags": []
          },
          "execution_count": 133
        },
        {
          "output_type": "display_data",
          "data": {
            "image/png": "[encoded data removed]",
            "text/plain": [
              "<Figure size 432x288 with 1 Axes>"
            ]
          },
          "metadata": {
            "tags": [],
            "needs_background": "light"
          }
        }
      ]
    },
    {
      "cell_type": "code",
      "metadata": {
        "colab": {
          "base_uri": "https://localhost:8080/",
          "height": 302
        },
        "id": "KrwmED1D7B70",
        "outputId": "a13a790d-dcc7-42f0-ab86-b9fe873d0315"
      },
      "source": [
        "df.age.plot(kind = 'hist')"
      ],
      "execution_count": null,
      "outputs": [
        {
          "output_type": "execute_result",
          "data": {
            "text/plain": [
              "<matplotlib.axes._subplots.AxesSubplot at 0x7f5911b972d0>"
            ]
          },
          "metadata": {
            "tags": []
          },
          "execution_count": 134
        },
        {
          "output_type": "display_data",
          "data": {
            "image/png": "[encoded data removed]",
            "text/plain": [
              "<Figure size 432x288 with 1 Axes>"
            ]
          },
          "metadata": {
            "tags": [],
            "needs_background": "light"
          }
        }
      ]
    },
    {
      "cell_type": "code",
      "metadata": {
        "colab": {
          "base_uri": "https://localhost:8080/",
          "height": 302
        },
        "id": "As_N8To97H5q",
        "outputId": "3dc7ba35-6885-43ed-8523-14f38f299ab6"
      },
      "source": [
        "df.bmi.plot(kind = 'hist')"
      ],
      "execution_count": null,
      "outputs": [
        {
          "output_type": "execute_result",
          "data": {
            "text/plain": [
              "<matplotlib.axes._subplots.AxesSubplot at 0x7f5911b03510>"
            ]
          },
          "metadata": {
            "tags": []
          },
          "execution_count": 135
        },
        {
          "output_type": "display_data",
          "data": {
            "image/png": "[encoded data removed]",
            "text/plain": [
              "<Figure size 432x288 with 1 Axes>"
            ]
          },
          "metadata": {
            "tags": [],
            "needs_background": "light"
          }
        }
      ]
    },
    {
      "cell_type": "code",
      "metadata": {
        "id": "dhjpxwZC7OXQ"
      },
      "source": [
        "\"\"\"We need to scale(normalize) data \n",
        "MinMaxScaler used as default for neural networks\n",
        "Neural Networks prefer normalisation\n",
        "Standard Scaler transform data to normal distribution\"\"\""
      ],
      "execution_count": null,
      "outputs": []
    },
    {
      "cell_type": "code",
      "metadata": {
        "colab": {
          "base_uri": "https://localhost:8080/",
          "height": 221
        },
        "id": "UP1KncCm8Qxr",
        "outputId": "945be4a1-1bc2-47bb-fe7a-3aa2f29a3c1a"
      },
      "source": [
        "df.head()"
      ],
      "execution_count": null,
      "outputs": [
        {
          "output_type": "execute_result",
          "data": {
            "text/html": [
              "<div>\n",
              "<style scoped>\n",
              "    .dataframe tbody tr th:only-of-type {\n",
              "        vertical-align: middle;\n",
              "    }\n",
              "\n",
              "    .dataframe tbody tr th {\n",
              "        vertical-align: top;\n",
              "    }\n",
              "\n",
              "    .dataframe thead th {\n",
              "        text-align: right;\n",
              "    }\n",
              "</style>\n",
              "<table border=\"1\" class=\"dataframe\">\n",
              "  <thead>\n",
              "    <tr style=\"text-align: right;\">\n",
              "      <th></th>\n",
              "      <th>age</th>\n",
              "      <th>bmi</th>\n",
              "      <th>children</th>\n",
              "      <th>charges</th>\n",
              "      <th>sex_male</th>\n",
              "      <th>smoker_yes</th>\n",
              "      <th>region_northwest</th>\n",
              "      <th>region_southeast</th>\n",
              "      <th>region_southwest</th>\n",
              "    </tr>\n",
              "  </thead>\n",
              "  <tbody>\n",
              "    <tr>\n",
              "      <th>0</th>\n",
              "      <td>19</td>\n",
              "      <td>27.900</td>\n",
              "      <td>0</td>\n",
              "      <td>16884.92400</td>\n",
              "      <td>0</td>\n",
              "      <td>1</td>\n",
              "      <td>0</td>\n",
              "      <td>0</td>\n",
              "      <td>1</td>\n",
              "    </tr>\n",
              "    <tr>\n",
              "      <th>1</th>\n",
              "      <td>18</td>\n",
              "      <td>33.770</td>\n",
              "      <td>1</td>\n",
              "      <td>1725.55230</td>\n",
              "      <td>1</td>\n",
              "      <td>0</td>\n",
              "      <td>0</td>\n",
              "      <td>1</td>\n",
              "      <td>0</td>\n",
              "    </tr>\n",
              "    <tr>\n",
              "      <th>2</th>\n",
              "      <td>28</td>\n",
              "      <td>33.000</td>\n",
              "      <td>3</td>\n",
              "      <td>4449.46200</td>\n",
              "      <td>1</td>\n",
              "      <td>0</td>\n",
              "      <td>0</td>\n",
              "      <td>1</td>\n",
              "      <td>0</td>\n",
              "    </tr>\n",
              "    <tr>\n",
              "      <th>3</th>\n",
              "      <td>33</td>\n",
              "      <td>22.705</td>\n",
              "      <td>0</td>\n",
              "      <td>21984.47061</td>\n",
              "      <td>1</td>\n",
              "      <td>0</td>\n",
              "      <td>1</td>\n",
              "      <td>0</td>\n",
              "      <td>0</td>\n",
              "    </tr>\n",
              "    <tr>\n",
              "      <th>4</th>\n",
              "      <td>32</td>\n",
              "      <td>28.880</td>\n",
              "      <td>0</td>\n",
              "      <td>3866.85520</td>\n",
              "      <td>1</td>\n",
              "      <td>0</td>\n",
              "      <td>1</td>\n",
              "      <td>0</td>\n",
              "      <td>0</td>\n",
              "    </tr>\n",
              "  </tbody>\n",
              "</table>\n",
              "</div>"
            ],
            "text/plain": [
              "   age     bmi  children  ...  region_northwest  region_southeast  region_southwest\n",
              "0   19  27.900         0  ...                 0                 0                 1\n",
              "1   18  33.770         1  ...                 0                 1                 0\n",
              "2   28  33.000         3  ...                 0                 1                 0\n",
              "3   33  22.705         0  ...                 1                 0                 0\n",
              "4   32  28.880         0  ...                 1                 0                 0\n",
              "\n",
              "[5 rows x 9 columns]"
            ]
          },
          "metadata": {
            "tags": []
          },
          "execution_count": 137
        }
      ]
    },
    {
      "cell_type": "code",
      "metadata": {
        "id": "cRfwXSQ08ejv"
      },
      "source": [
        "ct = make_column_transformer((MinMaxScaler(), ['age', 'bmi', 'children']),\n",
        "                             remainder='passthrough')"
      ],
      "execution_count": null,
      "outputs": []
    },
    {
      "cell_type": "code",
      "metadata": {
        "id": "uwX7xRzx9nW5"
      },
      "source": [
        "X_train_ = ct.fit_transform(X_train)"
      ],
      "execution_count": null,
      "outputs": []
    },
    {
      "cell_type": "code",
      "metadata": {
        "colab": {
          "base_uri": "https://localhost:8080/"
        },
        "id": "ZWE8Yb-m-4Q7",
        "outputId": "f92dc2db-a5b9-4fac-dd87-6cdc591478b4"
      },
      "source": [
        "X_train_"
      ],
      "execution_count": null,
      "outputs": [
        {
          "output_type": "execute_result",
          "data": {
            "text/plain": [
              "array([[0.60869565, 0.10734463, 0.4       , ..., 1.        , 0.        ,\n",
              "        0.        ],\n",
              "       [0.63043478, 0.22491256, 0.        , ..., 0.        , 0.        ,\n",
              "        0.        ],\n",
              "       [0.73913043, 0.23944041, 0.        , ..., 0.        , 1.        ,\n",
              "        0.        ],\n",
              "       ...,\n",
              "       [0.86956522, 0.24791499, 0.        , ..., 0.        , 0.        ,\n",
              "        0.        ],\n",
              "       [0.41304348, 0.85122411, 0.4       , ..., 0.        , 0.        ,\n",
              "        1.        ],\n",
              "       [0.80434783, 0.37503363, 0.        , ..., 0.        , 0.        ,\n",
              "        1.        ]])"
            ]
          },
          "metadata": {
            "tags": []
          },
          "execution_count": 161
        }
      ]
    },
    {
      "cell_type": "code",
      "metadata": {
        "colab": {
          "base_uri": "https://localhost:8080/"
        },
        "id": "rnAAL3zVAx5D",
        "outputId": "8c64040a-f534-41b5-8d61-f8cea9b7a8f2"
      },
      "source": [
        "X_train_.shape"
      ],
      "execution_count": null,
      "outputs": [
        {
          "output_type": "execute_result",
          "data": {
            "text/plain": [
              "(1070, 8)"
            ]
          },
          "metadata": {
            "tags": []
          },
          "execution_count": 164
        }
      ]
    },
    {
      "cell_type": "code",
      "metadata": {
        "id": "gpoS_gHR_JSE"
      },
      "source": [
        "X_test_ = ct.transform(X_test)"
      ],
      "execution_count": null,
      "outputs": []
    },
    {
      "cell_type": "code",
      "metadata": {
        "id": "RlePhpXiBxii"
      },
      "source": [
        "K.clear_session()"
      ],
      "execution_count": null,
      "outputs": []
    },
    {
      "cell_type": "code",
      "metadata": {
        "id": "rZgN9BDFAMkj"
      },
      "source": [
        "# Model6 repeat Model5 with normalized data\n",
        "tf.random.set_seed(42)\n",
        "model6 = tf.keras.Sequential([\n",
        "                             tf.keras.layers.Dense(8, input_shape = [8], name='input_layer', activation='relu'),\n",
        "                             tf.keras.layers.Dense(300, name='hidden_layer', activation='relu'), \n",
        "                             tf.keras.layers.Dense(1, name = 'output_layer')\n",
        "])\n",
        "model6.compile(optimizer=tf.keras.optimizers.Adam(learning_rate=0.05), loss = 'mae', metrics = ['mae'])"
      ],
      "execution_count": null,
      "outputs": []
    },
    {
      "cell_type": "code",
      "metadata": {
        "id": "zi27Yo-ZBS2E"
      },
      "source": [
        "history6 = model6.fit(X_train_, y_train, epochs = 500, verbose = 0)"
      ],
      "execution_count": null,
      "outputs": []
    },
    {
      "cell_type": "code",
      "metadata": {
        "colab": {
          "base_uri": "https://localhost:8080/"
        },
        "id": "PK1wMMTpBZOP",
        "outputId": "c8c2e749-acad-4bff-d656-f4e8edbe1bdf"
      },
      "source": [
        "y_pred_6 = model6.predict(X_test_)\n",
        "mae6 = mae(y_test, y_pred_6)\n",
        "mse6 = mse(y_test, y_pred_6)"
      ],
      "execution_count": null,
      "outputs": [
        {
          "output_type": "stream",
          "text": [
            "tf.Tensor(1369.126, shape=(), dtype=float32)\n",
            "tf.Tensor(19233040.0, shape=(), dtype=float32)\n"
          ],
          "name": "stdout"
        }
      ]
    },
    {
      "cell_type": "code",
      "metadata": {
        "id": "C1Y5pvyPBiDh"
      },
      "source": [
        "results.append(['Model6', mae6, mse6])"
      ],
      "execution_count": null,
      "outputs": []
    },
    {
      "cell_type": "code",
      "metadata": {
        "colab": {
          "base_uri": "https://localhost:8080/"
        },
        "id": "iZrEq4VACGRh",
        "outputId": "997c3ce2-674e-4e66-8b8f-1140aa2e4dce"
      },
      "source": [
        "results"
      ],
      "execution_count": null,
      "outputs": [
        {
          "output_type": "execute_result",
          "data": {
            "text/plain": [
              "[['Model1',\n",
              "  <tf.Tensor: shape=(), dtype=float32, numpy=7511.8306>,\n",
              "  <tf.Tensor: shape=(), dtype=float32, numpy=155861940.0>],\n",
              " ['Model2',\n",
              "  <tf.Tensor: shape=(), dtype=float32, numpy=3437.305>,\n",
              "  <tf.Tensor: shape=(), dtype=float32, numpy=55725780.0>],\n",
              " ['Model3',\n",
              "  <tf.Tensor: shape=(), dtype=float32, numpy=1599.3115>,\n",
              "  <tf.Tensor: shape=(), dtype=float32, numpy=19797086.0>],\n",
              " ['Model4',\n",
              "  <tf.Tensor: shape=(), dtype=float32, numpy=2185.5847>,\n",
              "  <tf.Tensor: shape=(), dtype=float32, numpy=26286798.0>],\n",
              " ['Model5_2',\n",
              "  <tf.Tensor: shape=(), dtype=float32, numpy=1498.7117>,\n",
              "  <tf.Tensor: shape=(), dtype=float32, numpy=19043574.0>],\n",
              " ['Model5',\n",
              "  <tf.Tensor: shape=(), dtype=float32, numpy=1889.2441>,\n",
              "  <tf.Tensor: shape=(), dtype=float32, numpy=21847268.0>],\n",
              " ['Model5_3',\n",
              "  <tf.Tensor: shape=(), dtype=float32, numpy=1473.6271>,\n",
              "  <tf.Tensor: shape=(), dtype=float32, numpy=19288702.0>],\n",
              " ['Model5_3',\n",
              "  <tf.Tensor: shape=(), dtype=float32, numpy=1473.6271>,\n",
              "  <tf.Tensor: shape=(), dtype=float32, numpy=19288702.0>],\n",
              " ['Model6',\n",
              "  <tf.Tensor: shape=(), dtype=float32, numpy=1839.3611>,\n",
              "  <tf.Tensor: shape=(), dtype=float32, numpy=21897690.0>],\n",
              " ['Model6_2',\n",
              "  <tf.Tensor: shape=(), dtype=float32, numpy=1411.8248>,\n",
              "  <tf.Tensor: shape=(), dtype=float32, numpy=20115306.0>],\n",
              " ['Model6_3',\n",
              "  <tf.Tensor: shape=(), dtype=float32, numpy=1369.126>,\n",
              "  <tf.Tensor: shape=(), dtype=float32, numpy=19233040.0>],\n",
              " ['Model6_4',\n",
              "  <tf.Tensor: shape=(), dtype=float32, numpy=1383.6158>,\n",
              "  <tf.Tensor: shape=(), dtype=float32, numpy=19764296.0>],\n",
              " ['Model6_4',\n",
              "  <tf.Tensor: shape=(), dtype=float32, numpy=1369.126>,\n",
              "  <tf.Tensor: shape=(), dtype=float32, numpy=19233040.0>]]"
            ]
          },
          "metadata": {
            "tags": []
          },
          "execution_count": 206
        }
      ]
    },
    {
      "cell_type": "code",
      "metadata": {
        "colab": {
          "base_uri": "https://localhost:8080/",
          "height": 302
        },
        "id": "ASAANx6sCHxq",
        "outputId": "b7275688-9e5b-4acf-915c-e243f73758be"
      },
      "source": [
        "pd.DataFrame(history6.history).plot()"
      ],
      "execution_count": null,
      "outputs": [
        {
          "output_type": "execute_result",
          "data": {
            "text/plain": [
              "<matplotlib.axes._subplots.AxesSubplot at 0x7f5911ee0c90>"
            ]
          },
          "metadata": {
            "tags": []
          },
          "execution_count": 207
        },
        {
          "output_type": "display_data",
          "data": {
            "image/png": "[encoded data removed]",
            "text/plain": [
              "<Figure size 432x288 with 1 Axes>"
            ]
          },
          "metadata": {
            "tags": [],
            "needs_background": "light"
          }
        }
      ]
    },
    {
      "cell_type": "code",
      "metadata": {
        "id": "OaSazqqaFp-v"
      },
      "source": [
        ""
      ],
      "execution_count": null,
      "outputs": []
    },
    {
      "cell_type": "markdown",
      "metadata": {
        "id": "-eyWZgZHRuUK"
      },
      "source": [
        ""
      ]
    },
    {
      "cell_type": "code",
      "metadata": {
        "id": "oDbkc1yTRvps"
      },
      "source": [
        ""
      ],
      "execution_count": null,
      "outputs": []
    }
  ]
}