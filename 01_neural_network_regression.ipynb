{
  "nbformat": 4,
  "nbformat_minor": 0,
  "metadata": {
    "colab": {
      "name": "01_neural_network_regression.ipynb",
      "provenance": [],
      "collapsed_sections": [],
      "mount_file_id": "1Vw0qJzc7waroOKjegN483_5EdQs4m0So",
      "authorship_tag": "ABX9TyO8+RSb96ogbvwOgkGiL5o3",
      "include_colab_link": true
    },
    "kernelspec": {
      "name": "python3",
      "display_name": "Python 3"
    },
    "language_info": {
      "name": "python"
    }
  },
  "cells": [
    {
      "cell_type": "markdown",
      "metadata": {
        "id": "view-in-github",
        "colab_type": "text"
      },
      "source": [
        "<a href=\"https://colab.research.google.com/github/Natali-bali/TensorFlow_Tutorial/blob/master/01_neural_network_regression.ipynb\" target=\"_parent\"><img src=\"https://colab.research.google.com/assets/colab-badge.svg\" alt=\"Open In Colab\"/></a>"
      ]
    },
    {
      "cell_type": "code",
      "metadata": {
        "id": "uDBe2XrWDAmc"
      },
      "source": [
        "import tensorflow as tf\n",
        "import numpy as np\n",
        "import matplotlib.pyplot as plt\n",
        "from tensorflow.keras.utils import plot_model\n",
        "import pandas as pd"
      ],
      "execution_count": null,
      "outputs": []
    },
    {
      "cell_type": "markdown",
      "metadata": {
        "id": "-kKWXodpDfGH"
      },
      "source": [
        "### Creating some data to view and fit\n",
        "\n",
        "\n",
        "\n"
      ]
    },
    {
      "cell_type": "code",
      "metadata": {
        "id": "UbkO3Y3UD39F"
      },
      "source": [
        "X = np.array([-7.,-4., -1., 2., 5., 8., 11., 14.])\n",
        "y = np.array([3., 6., 9., 12., 15., 18., 21., 24.])"
      ],
      "execution_count": null,
      "outputs": []
    },
    {
      "cell_type": "code",
      "metadata": {
        "colab": {
          "base_uri": "https://localhost:8080/",
          "height": 306
        },
        "id": "sBL7Nn77EeCA",
        "outputId": "24745d59-22b3-4b4f-b9ee-86d404328b84"
      },
      "source": [
        "plt.scatter(X,y)"
      ],
      "execution_count": null,
      "outputs": [
        {
          "output_type": "execute_result",
          "data": {
            "text/plain": [
              "<matplotlib.collections.PathCollection at 0x7f57427acf50>"
            ]
          },
          "metadata": {
            "tags": []
          },
          "execution_count": 3
        },
        {
          "output_type": "display_data",
          "data": {
            "image/png": "[encoded data removed]",
            "text/plain": [
              "<Figure size 432x288 with 1 Axes>"
            ]
          },
          "metadata": {
            "tags": [],
            "needs_background": "light"
          }
        }
      ]
    },
    {
      "cell_type": "markdown",
      "metadata": {
        "id": "f0Piyw-WFXCC"
      },
      "source": [
        "### Check shapes"
      ]
    },
    {
      "cell_type": "code",
      "metadata": {
        "id": "tJqSyY_GFbY3"
      },
      "source": [
        "X = tf.constant(X)\n",
        "y = tf.constant(y)"
      ],
      "execution_count": null,
      "outputs": []
    },
    {
      "cell_type": "code",
      "metadata": {
        "colab": {
          "base_uri": "https://localhost:8080/"
        },
        "id": "ptKoApomMAYq",
        "outputId": "c44dba74-9aee-4e6f-ed1f-a33ab84ba1a1"
      },
      "source": [
        "X,y"
      ],
      "execution_count": null,
      "outputs": [
        {
          "output_type": "execute_result",
          "data": {
            "text/plain": [
              "(<tf.Tensor: shape=(8,), dtype=float64, numpy=array([-7., -4., -1.,  2.,  5.,  8., 11., 14.])>,\n",
              " <tf.Tensor: shape=(8,), dtype=float64, numpy=array([ 3.,  6.,  9., 12., 15., 18., 21., 24.])>)"
            ]
          },
          "metadata": {
            "tags": []
          },
          "execution_count": 5
        }
      ]
    },
    {
      "cell_type": "code",
      "metadata": {
        "id": "joAjg4UFSxYu"
      },
      "source": [
        "from keras import backend as K "
      ],
      "execution_count": null,
      "outputs": []
    },
    {
      "cell_type": "code",
      "metadata": {
        "id": "5WsZXmXTSzl1"
      },
      "source": [
        "K.clear_session()"
      ],
      "execution_count": null,
      "outputs": []
    },
    {
      "cell_type": "code",
      "metadata": {
        "id": "WM9ljMGCMAlG"
      },
      "source": [
        "model = tf.keras.Sequential()\n",
        "model.add(tf.keras.layers.Dense(1))\n",
        "model.add(tf.keras.layers.Dense(10))\n",
        "model.add(tf.keras.layers.Dense(1))"
      ],
      "execution_count": null,
      "outputs": []
    },
    {
      "cell_type": "code",
      "metadata": {
        "id": "F9Smp0LIMAyK"
      },
      "source": [
        "model.compile(optimizer='sgd', loss = 'mae', metrics='mae')"
      ],
      "execution_count": null,
      "outputs": []
    },
    {
      "cell_type": "code",
      "metadata": {
        "colab": {
          "base_uri": "https://localhost:8080/"
        },
        "id": "jCf_BmsOMA_D",
        "outputId": "6ddb49ff-c789-438e-c9c5-eb6e20194f4b"
      },
      "source": [
        "model.fit(X,y,epochs=100)"
      ],
      "execution_count": null,
      "outputs": [
        {
          "output_type": "stream",
          "text": [
            "Epoch 1/100\n",
            "1/1 [==============================] - 1s 569ms/step - loss: 13.5142 - mae: 13.5142\n",
            "Epoch 2/100\n",
            "1/1 [==============================] - 0s 6ms/step - loss: 13.4631 - mae: 13.4631\n",
            "Epoch 3/100\n",
            "1/1 [==============================] - 0s 7ms/step - loss: 13.4120 - mae: 13.4120\n",
            "Epoch 4/100\n",
            "1/1 [==============================] - 0s 5ms/step - loss: 13.3606 - mae: 13.3606\n",
            "Epoch 5/100\n",
            "1/1 [==============================] - 0s 10ms/step - loss: 13.3085 - mae: 13.3085\n",
            "Epoch 6/100\n",
            "1/1 [==============================] - 0s 5ms/step - loss: 13.2554 - mae: 13.2554\n",
            "Epoch 7/100\n",
            "1/1 [==============================] - 0s 6ms/step - loss: 13.2008 - mae: 13.2008\n",
            "Epoch 8/100\n",
            "1/1 [==============================] - 0s 8ms/step - loss: 13.1444 - mae: 13.1444\n",
            "Epoch 9/100\n",
            "1/1 [==============================] - 0s 5ms/step - loss: 13.0857 - mae: 13.0857\n",
            "Epoch 10/100\n",
            "1/1 [==============================] - 0s 6ms/step - loss: 13.0244 - mae: 13.0244\n",
            "Epoch 11/100\n",
            "1/1 [==============================] - 0s 8ms/step - loss: 12.9598 - mae: 12.9598\n",
            "Epoch 12/100\n",
            "1/1 [==============================] - 0s 8ms/step - loss: 12.8914 - mae: 12.8914\n",
            "Epoch 13/100\n",
            "1/1 [==============================] - 0s 7ms/step - loss: 12.8186 - mae: 12.8186\n",
            "Epoch 14/100\n",
            "1/1 [==============================] - 0s 6ms/step - loss: 12.7408 - mae: 12.7408\n",
            "Epoch 15/100\n",
            "1/1 [==============================] - 0s 6ms/step - loss: 12.6571 - mae: 12.6571\n",
            "Epoch 16/100\n",
            "1/1 [==============================] - 0s 6ms/step - loss: 12.5666 - mae: 12.5666\n",
            "Epoch 17/100\n",
            "1/1 [==============================] - 0s 7ms/step - loss: 12.4684 - mae: 12.4684\n",
            "Epoch 18/100\n",
            "1/1 [==============================] - 0s 5ms/step - loss: 12.3612 - mae: 12.3612\n",
            "Epoch 19/100\n",
            "1/1 [==============================] - 0s 7ms/step - loss: 12.2439 - mae: 12.2439\n",
            "Epoch 20/100\n",
            "1/1 [==============================] - 0s 8ms/step - loss: 12.1147 - mae: 12.1147\n",
            "Epoch 21/100\n",
            "1/1 [==============================] - 0s 6ms/step - loss: 11.9720 - mae: 11.9720\n",
            "Epoch 22/100\n",
            "1/1 [==============================] - 0s 7ms/step - loss: 11.8137 - mae: 11.8137\n",
            "Epoch 23/100\n",
            "1/1 [==============================] - 0s 7ms/step - loss: 11.6373 - mae: 11.6373\n",
            "Epoch 24/100\n",
            "1/1 [==============================] - 0s 7ms/step - loss: 11.4400 - mae: 11.4400\n",
            "Epoch 25/100\n",
            "1/1 [==============================] - 0s 4ms/step - loss: 11.2185 - mae: 11.2185\n",
            "Epoch 26/100\n",
            "1/1 [==============================] - 0s 4ms/step - loss: 10.9687 - mae: 10.9687\n",
            "Epoch 27/100\n",
            "1/1 [==============================] - 0s 4ms/step - loss: 10.6859 - mae: 10.6859\n",
            "Epoch 28/100\n",
            "1/1 [==============================] - 0s 4ms/step - loss: 10.3642 - mae: 10.3642\n",
            "Epoch 29/100\n",
            "1/1 [==============================] - 0s 6ms/step - loss: 9.9969 - mae: 9.9969\n",
            "Epoch 30/100\n",
            "1/1 [==============================] - 0s 6ms/step - loss: 9.5753 - mae: 9.5753\n",
            "Epoch 31/100\n",
            "1/1 [==============================] - 0s 5ms/step - loss: 9.0894 - mae: 9.0894\n",
            "Epoch 32/100\n",
            "1/1 [==============================] - 0s 5ms/step - loss: 8.5262 - mae: 8.5262\n",
            "Epoch 33/100\n",
            "1/1 [==============================] - 0s 6ms/step - loss: 7.8699 - mae: 7.8699\n",
            "Epoch 34/100\n",
            "1/1 [==============================] - 0s 8ms/step - loss: 7.1009 - mae: 7.1009\n",
            "Epoch 35/100\n",
            "1/1 [==============================] - 0s 6ms/step - loss: 6.4187 - mae: 6.4187\n",
            "Epoch 36/100\n",
            "1/1 [==============================] - 0s 6ms/step - loss: 6.3769 - mae: 6.3769\n",
            "Epoch 37/100\n",
            "1/1 [==============================] - 0s 4ms/step - loss: 6.3345 - mae: 6.3345\n",
            "Epoch 38/100\n",
            "1/1 [==============================] - 0s 6ms/step - loss: 6.2914 - mae: 6.2914\n",
            "Epoch 39/100\n",
            "1/1 [==============================] - 0s 4ms/step - loss: 6.2477 - mae: 6.2477\n",
            "Epoch 40/100\n",
            "1/1 [==============================] - 0s 7ms/step - loss: 6.2033 - mae: 6.2033\n",
            "Epoch 41/100\n",
            "1/1 [==============================] - 0s 4ms/step - loss: 6.1582 - mae: 6.1582\n",
            "Epoch 42/100\n",
            "1/1 [==============================] - 0s 6ms/step - loss: 6.1402 - mae: 6.1402\n",
            "Epoch 43/100\n",
            "1/1 [==============================] - 0s 6ms/step - loss: 6.2024 - mae: 6.2024\n",
            "Epoch 44/100\n",
            "1/1 [==============================] - 0s 4ms/step - loss: 6.2572 - mae: 6.2572\n",
            "Epoch 45/100\n",
            "1/1 [==============================] - 0s 8ms/step - loss: 6.0218 - mae: 6.0218\n",
            "Epoch 46/100\n",
            "1/1 [==============================] - 0s 4ms/step - loss: 5.9754 - mae: 5.9754\n",
            "Epoch 47/100\n",
            "1/1 [==============================] - 0s 4ms/step - loss: 5.9282 - mae: 5.9282\n",
            "Epoch 48/100\n",
            "1/1 [==============================] - 0s 5ms/step - loss: 5.8799 - mae: 5.8799\n",
            "Epoch 49/100\n",
            "1/1 [==============================] - 0s 7ms/step - loss: 5.8307 - mae: 5.8307\n",
            "Epoch 50/100\n",
            "1/1 [==============================] - 0s 6ms/step - loss: 5.7804 - mae: 5.7804\n",
            "Epoch 51/100\n",
            "1/1 [==============================] - 0s 4ms/step - loss: 5.7658 - mae: 5.7658\n",
            "Epoch 52/100\n",
            "1/1 [==============================] - 0s 6ms/step - loss: 5.8335 - mae: 5.8335\n",
            "Epoch 53/100\n",
            "1/1 [==============================] - 0s 5ms/step - loss: 5.8968 - mae: 5.8968\n",
            "Epoch 54/100\n",
            "1/1 [==============================] - 0s 7ms/step - loss: 5.6326 - mae: 5.6326\n",
            "Epoch 55/100\n",
            "1/1 [==============================] - 0s 4ms/step - loss: 5.5796 - mae: 5.5796\n",
            "Epoch 56/100\n",
            "1/1 [==============================] - 0s 7ms/step - loss: 5.5254 - mae: 5.5254\n",
            "Epoch 57/100\n",
            "1/1 [==============================] - 0s 4ms/step - loss: 5.4698 - mae: 5.4698\n",
            "Epoch 58/100\n",
            "1/1 [==============================] - 0s 7ms/step - loss: 5.4269 - mae: 5.4269\n",
            "Epoch 59/100\n",
            "1/1 [==============================] - 0s 4ms/step - loss: 5.5637 - mae: 5.5637\n",
            "Epoch 60/100\n",
            "1/1 [==============================] - 0s 5ms/step - loss: 5.5654 - mae: 5.5654\n",
            "Epoch 61/100\n",
            "1/1 [==============================] - 0s 7ms/step - loss: 5.3076 - mae: 5.3076\n",
            "Epoch 62/100\n",
            "1/1 [==============================] - 0s 8ms/step - loss: 5.2480 - mae: 5.2480\n",
            "Epoch 63/100\n",
            "1/1 [==============================] - 0s 4ms/step - loss: 5.1868 - mae: 5.1868\n",
            "Epoch 64/100\n",
            "1/1 [==============================] - 0s 5ms/step - loss: 5.1238 - mae: 5.1238\n",
            "Epoch 65/100\n",
            "1/1 [==============================] - 0s 7ms/step - loss: 5.1233 - mae: 5.1233\n",
            "Epoch 66/100\n",
            "1/1 [==============================] - 0s 4ms/step - loss: 5.1810 - mae: 5.1810\n",
            "Epoch 67/100\n",
            "1/1 [==============================] - 0s 12ms/step - loss: 5.2697 - mae: 5.2697\n",
            "Epoch 68/100\n",
            "1/1 [==============================] - 0s 6ms/step - loss: 4.9397 - mae: 4.9397\n",
            "Epoch 69/100\n",
            "1/1 [==============================] - 0s 15ms/step - loss: 4.8711 - mae: 4.8711\n",
            "Epoch 70/100\n",
            "1/1 [==============================] - 0s 5ms/step - loss: 4.8004 - mae: 4.8004\n",
            "Epoch 71/100\n",
            "1/1 [==============================] - 0s 7ms/step - loss: 4.8145 - mae: 4.8145\n",
            "Epoch 72/100\n",
            "1/1 [==============================] - 0s 13ms/step - loss: 4.8523 - mae: 4.8523\n",
            "Epoch 73/100\n",
            "1/1 [==============================] - 0s 10ms/step - loss: 4.9650 - mae: 4.9650\n",
            "Epoch 74/100\n",
            "1/1 [==============================] - 0s 5ms/step - loss: 4.5912 - mae: 4.5912\n",
            "Epoch 75/100\n",
            "1/1 [==============================] - 0s 6ms/step - loss: 4.5131 - mae: 4.5131\n",
            "Epoch 76/100\n",
            "1/1 [==============================] - 0s 10ms/step - loss: 4.4860 - mae: 4.4860\n",
            "Epoch 77/100\n",
            "1/1 [==============================] - 0s 5ms/step - loss: 4.6227 - mae: 4.6227\n",
            "Epoch 78/100\n",
            "1/1 [==============================] - 0s 7ms/step - loss: 4.6362 - mae: 4.6362\n",
            "Epoch 79/100\n",
            "1/1 [==============================] - 0s 4ms/step - loss: 4.2781 - mae: 4.2781\n",
            "Epoch 80/100\n",
            "1/1 [==============================] - 0s 10ms/step - loss: 4.1907 - mae: 4.1907\n",
            "Epoch 81/100\n",
            "1/1 [==============================] - 0s 7ms/step - loss: 4.1515 - mae: 4.1515\n",
            "Epoch 82/100\n",
            "1/1 [==============================] - 0s 8ms/step - loss: 4.3302 - mae: 4.3302\n",
            "Epoch 83/100\n",
            "1/1 [==============================] - 0s 4ms/step - loss: 4.3012 - mae: 4.3012\n",
            "Epoch 84/100\n",
            "1/1 [==============================] - 0s 16ms/step - loss: 3.9230 - mae: 3.9230\n",
            "Epoch 85/100\n",
            "1/1 [==============================] - 0s 3ms/step - loss: 3.8242 - mae: 3.8242\n",
            "Epoch 86/100\n",
            "1/1 [==============================] - 0s 4ms/step - loss: 3.7962 - mae: 3.7962\n",
            "Epoch 87/100\n",
            "1/1 [==============================] - 0s 7ms/step - loss: 3.9741 - mae: 3.9741\n",
            "Epoch 88/100\n",
            "1/1 [==============================] - 0s 4ms/step - loss: 3.9530 - mae: 3.9530\n",
            "Epoch 89/100\n",
            "1/1 [==============================] - 0s 8ms/step - loss: 4.0857 - mae: 4.0857\n",
            "Epoch 90/100\n",
            "1/1 [==============================] - 0s 4ms/step - loss: 3.6358 - mae: 3.6358\n",
            "Epoch 91/100\n",
            "1/1 [==============================] - 0s 5ms/step - loss: 3.4705 - mae: 3.4705\n",
            "Epoch 92/100\n",
            "1/1 [==============================] - 0s 7ms/step - loss: 3.9891 - mae: 3.9891\n",
            "Epoch 93/100\n",
            "1/1 [==============================] - 0s 3ms/step - loss: 3.5832 - mae: 3.5832\n",
            "Epoch 94/100\n",
            "1/1 [==============================] - 0s 4ms/step - loss: 3.5212 - mae: 3.5212\n",
            "Epoch 95/100\n",
            "1/1 [==============================] - 0s 4ms/step - loss: 3.6813 - mae: 3.6813\n",
            "Epoch 96/100\n",
            "1/1 [==============================] - 0s 8ms/step - loss: 3.1224 - mae: 3.1224\n",
            "Epoch 97/100\n",
            "1/1 [==============================] - 0s 5ms/step - loss: 3.0054 - mae: 3.0054\n",
            "Epoch 98/100\n",
            "1/1 [==============================] - 0s 4ms/step - loss: 3.5588 - mae: 3.5588\n",
            "Epoch 99/100\n",
            "1/1 [==============================] - 0s 3ms/step - loss: 3.1086 - mae: 3.1086\n",
            "Epoch 100/100\n",
            "1/1 [==============================] - 0s 4ms/step - loss: 3.0547 - mae: 3.0547\n"
          ],
          "name": "stdout"
        },
        {
          "output_type": "execute_result",
          "data": {
            "text/plain": [
              "<tensorflow.python.keras.callbacks.History at 0x7f573ed1c810>"
            ]
          },
          "metadata": {
            "tags": []
          },
          "execution_count": 10
        }
      ]
    },
    {
      "cell_type": "code",
      "metadata": {
        "colab": {
          "base_uri": "https://localhost:8080/"
        },
        "id": "j7rFrjUbMBKv",
        "outputId": "113440ea-458e-4eb9-9938-b8ee1587fb72"
      },
      "source": [
        "model.predict([17.])"
      ],
      "execution_count": null,
      "outputs": [
        {
          "output_type": "execute_result",
          "data": {
            "text/plain": [
              "array([[24.416449]], dtype=float32)"
            ]
          },
          "metadata": {
            "tags": []
          },
          "execution_count": 11
        }
      ]
    },
    {
      "cell_type": "markdown",
      "metadata": {
        "id": "W5CXV9kmV-EM"
      },
      "source": [
        "### Improving our model\n",
        "- **Creating model** add more layers, neurons and change activation function\n",
        "- **Compiling model** change optimisation function and learning rate\n",
        "- **Fitting model** increase data and numbers of epochs"
      ]
    },
    {
      "cell_type": "code",
      "metadata": {
        "id": "8AMP_zqVX5c7"
      },
      "source": [
        "K.clear_session()"
      ],
      "execution_count": null,
      "outputs": []
    },
    {
      "cell_type": "code",
      "metadata": {
        "id": "ZwZygxsEMBlF"
      },
      "source": [
        "model2 = tf.keras.Sequential([\n",
        "            tf.keras.layers.Dense(1),\n",
        "            tf.keras.layers.Dense(100, activation='relu'),\n",
        "            tf.keras.layers.Dense(1)\n",
        "])"
      ],
      "execution_count": null,
      "outputs": []
    },
    {
      "cell_type": "code",
      "metadata": {
        "id": "aSfmyo0fYA_2"
      },
      "source": [
        "model2.compile(optimizer= tf.keras.optimizers.Adam(learning_rate=0.01), loss = 'mae', metrics='mae')"
      ],
      "execution_count": null,
      "outputs": []
    },
    {
      "cell_type": "code",
      "metadata": {
        "colab": {
          "base_uri": "https://localhost:8080/"
        },
        "id": "bQI9kvTQYCBc",
        "outputId": "1ee7c7a4-6eb7-48a4-da85-1d8c01026ea3"
      },
      "source": [
        "model2.fit(X,y,epochs=100)\n",
        " "
      ],
      "execution_count": null,
      "outputs": [
        {
          "output_type": "stream",
          "text": [
            "Epoch 1/100\n",
            "1/1 [==============================] - 0s 419ms/step - loss: 13.3249 - mae: 13.3249\n",
            "Epoch 2/100\n",
            "1/1 [==============================] - 0s 10ms/step - loss: 12.8682 - mae: 12.8682\n",
            "Epoch 3/100\n",
            "1/1 [==============================] - 0s 5ms/step - loss: 12.4012 - mae: 12.4012\n",
            "Epoch 4/100\n",
            "1/1 [==============================] - 0s 4ms/step - loss: 11.9252 - mae: 11.9252\n",
            "Epoch 5/100\n",
            "1/1 [==============================] - 0s 4ms/step - loss: 11.4332 - mae: 11.4332\n",
            "Epoch 6/100\n",
            "1/1 [==============================] - 0s 6ms/step - loss: 10.9207 - mae: 10.9207\n",
            "Epoch 7/100\n",
            "1/1 [==============================] - 0s 4ms/step - loss: 10.4855 - mae: 10.4855\n",
            "Epoch 8/100\n",
            "1/1 [==============================] - 0s 4ms/step - loss: 10.0767 - mae: 10.0767\n",
            "Epoch 9/100\n",
            "1/1 [==============================] - 0s 5ms/step - loss: 9.6389 - mae: 9.6389\n",
            "Epoch 10/100\n",
            "1/1 [==============================] - 0s 4ms/step - loss: 9.1674 - mae: 9.1674\n",
            "Epoch 11/100\n",
            "1/1 [==============================] - 0s 5ms/step - loss: 8.6589 - mae: 8.6589\n",
            "Epoch 12/100\n",
            "1/1 [==============================] - 0s 5ms/step - loss: 8.1133 - mae: 8.1133\n",
            "Epoch 13/100\n",
            "1/1 [==============================] - 0s 7ms/step - loss: 7.5272 - mae: 7.5272\n",
            "Epoch 14/100\n",
            "1/1 [==============================] - 0s 5ms/step - loss: 6.8944 - mae: 6.8944\n",
            "Epoch 15/100\n",
            "1/1 [==============================] - 0s 11ms/step - loss: 6.2110 - mae: 6.2110\n",
            "Epoch 16/100\n",
            "1/1 [==============================] - 0s 5ms/step - loss: 5.4720 - mae: 5.4720\n",
            "Epoch 17/100\n",
            "1/1 [==============================] - 0s 7ms/step - loss: 4.6740 - mae: 4.6740\n",
            "Epoch 18/100\n",
            "1/1 [==============================] - 0s 7ms/step - loss: 3.8133 - mae: 3.8133\n",
            "Epoch 19/100\n",
            "1/1 [==============================] - 0s 8ms/step - loss: 3.4392 - mae: 3.4392\n",
            "Epoch 20/100\n",
            "1/1 [==============================] - 0s 5ms/step - loss: 3.5768 - mae: 3.5768\n",
            "Epoch 21/100\n",
            "1/1 [==============================] - 0s 5ms/step - loss: 3.7952 - mae: 3.7952\n",
            "Epoch 22/100\n",
            "1/1 [==============================] - 0s 7ms/step - loss: 4.0915 - mae: 4.0915\n",
            "Epoch 23/100\n",
            "1/1 [==============================] - 0s 9ms/step - loss: 4.2739 - mae: 4.2739\n",
            "Epoch 24/100\n",
            "1/1 [==============================] - 0s 5ms/step - loss: 4.3500 - mae: 4.3500\n",
            "Epoch 25/100\n",
            "1/1 [==============================] - 0s 5ms/step - loss: 4.3332 - mae: 4.3332\n",
            "Epoch 26/100\n",
            "1/1 [==============================] - 0s 6ms/step - loss: 4.2378 - mae: 4.2378\n",
            "Epoch 27/100\n",
            "1/1 [==============================] - 0s 7ms/step - loss: 4.0726 - mae: 4.0726\n",
            "Epoch 28/100\n",
            "1/1 [==============================] - 0s 6ms/step - loss: 3.8518 - mae: 3.8518\n",
            "Epoch 29/100\n",
            "1/1 [==============================] - 0s 8ms/step - loss: 3.5922 - mae: 3.5922\n",
            "Epoch 30/100\n",
            "1/1 [==============================] - 0s 5ms/step - loss: 3.3073 - mae: 3.3073\n",
            "Epoch 31/100\n",
            "1/1 [==============================] - 0s 5ms/step - loss: 3.0107 - mae: 3.0107\n",
            "Epoch 32/100\n",
            "1/1 [==============================] - 0s 7ms/step - loss: 2.8623 - mae: 2.8623\n",
            "Epoch 33/100\n",
            "1/1 [==============================] - 0s 7ms/step - loss: 2.7132 - mae: 2.7132\n",
            "Epoch 34/100\n",
            "1/1 [==============================] - 0s 5ms/step - loss: 2.5612 - mae: 2.5612\n",
            "Epoch 35/100\n",
            "1/1 [==============================] - 0s 5ms/step - loss: 2.5776 - mae: 2.5776\n",
            "Epoch 36/100\n",
            "1/1 [==============================] - 0s 5ms/step - loss: 2.5498 - mae: 2.5498\n",
            "Epoch 37/100\n",
            "1/1 [==============================] - 0s 5ms/step - loss: 2.4764 - mae: 2.4764\n",
            "Epoch 38/100\n",
            "1/1 [==============================] - 0s 4ms/step - loss: 2.3647 - mae: 2.3647\n",
            "Epoch 39/100\n",
            "1/1 [==============================] - 0s 6ms/step - loss: 2.2148 - mae: 2.2148\n",
            "Epoch 40/100\n",
            "1/1 [==============================] - 0s 4ms/step - loss: 2.0229 - mae: 2.0229\n",
            "Epoch 41/100\n",
            "1/1 [==============================] - 0s 6ms/step - loss: 1.8610 - mae: 1.8610\n",
            "Epoch 42/100\n",
            "1/1 [==============================] - 0s 7ms/step - loss: 1.8086 - mae: 1.8086\n",
            "Epoch 43/100\n",
            "1/1 [==============================] - 0s 9ms/step - loss: 1.7174 - mae: 1.7174\n",
            "Epoch 44/100\n",
            "1/1 [==============================] - 0s 5ms/step - loss: 1.5976 - mae: 1.5976\n",
            "Epoch 45/100\n",
            "1/1 [==============================] - 0s 6ms/step - loss: 1.4838 - mae: 1.4838\n",
            "Epoch 46/100\n",
            "1/1 [==============================] - 0s 7ms/step - loss: 1.3283 - mae: 1.3283\n",
            "Epoch 47/100\n",
            "1/1 [==============================] - 0s 10ms/step - loss: 1.1845 - mae: 1.1845\n",
            "Epoch 48/100\n",
            "1/1 [==============================] - 0s 6ms/step - loss: 1.0368 - mae: 1.0368\n",
            "Epoch 49/100\n",
            "1/1 [==============================] - 0s 6ms/step - loss: 0.9104 - mae: 0.9104\n",
            "Epoch 50/100\n",
            "1/1 [==============================] - 0s 5ms/step - loss: 0.7817 - mae: 0.7817\n",
            "Epoch 51/100\n",
            "1/1 [==============================] - 0s 7ms/step - loss: 0.6053 - mae: 0.6053\n",
            "Epoch 52/100\n",
            "1/1 [==============================] - 0s 5ms/step - loss: 0.4676 - mae: 0.4676\n",
            "Epoch 53/100\n",
            "1/1 [==============================] - 0s 5ms/step - loss: 0.4514 - mae: 0.4514\n",
            "Epoch 54/100\n",
            "1/1 [==============================] - 0s 5ms/step - loss: 0.4488 - mae: 0.4488\n",
            "Epoch 55/100\n",
            "1/1 [==============================] - 0s 8ms/step - loss: 0.4073 - mae: 0.4073\n",
            "Epoch 56/100\n",
            "1/1 [==============================] - 0s 5ms/step - loss: 0.4832 - mae: 0.4832\n",
            "Epoch 57/100\n",
            "1/1 [==============================] - 0s 7ms/step - loss: 0.3261 - mae: 0.3261\n",
            "Epoch 58/100\n",
            "1/1 [==============================] - 0s 6ms/step - loss: 0.4115 - mae: 0.4115\n",
            "Epoch 59/100\n",
            "1/1 [==============================] - 0s 9ms/step - loss: 0.4549 - mae: 0.4549\n",
            "Epoch 60/100\n",
            "1/1 [==============================] - 0s 5ms/step - loss: 0.3574 - mae: 0.3574\n",
            "Epoch 61/100\n",
            "1/1 [==============================] - 0s 6ms/step - loss: 0.3334 - mae: 0.3334\n",
            "Epoch 62/100\n",
            "1/1 [==============================] - 0s 8ms/step - loss: 0.3576 - mae: 0.3576\n",
            "Epoch 63/100\n",
            "1/1 [==============================] - 0s 5ms/step - loss: 0.3963 - mae: 0.3963\n",
            "Epoch 64/100\n",
            "1/1 [==============================] - 0s 5ms/step - loss: 0.3887 - mae: 0.3887\n",
            "Epoch 65/100\n",
            "1/1 [==============================] - 0s 5ms/step - loss: 0.2349 - mae: 0.2349\n",
            "Epoch 66/100\n",
            "1/1 [==============================] - 0s 5ms/step - loss: 0.4207 - mae: 0.4207\n",
            "Epoch 67/100\n",
            "1/1 [==============================] - 0s 7ms/step - loss: 0.3605 - mae: 0.3605\n",
            "Epoch 68/100\n",
            "1/1 [==============================] - 0s 5ms/step - loss: 0.1674 - mae: 0.1674\n",
            "Epoch 69/100\n",
            "1/1 [==============================] - 0s 8ms/step - loss: 0.4508 - mae: 0.4508\n",
            "Epoch 70/100\n",
            "1/1 [==============================] - 0s 8ms/step - loss: 0.5979 - mae: 0.5979\n",
            "Epoch 71/100\n",
            "1/1 [==============================] - 0s 5ms/step - loss: 0.5585 - mae: 0.5585\n",
            "Epoch 72/100\n",
            "1/1 [==============================] - 0s 5ms/step - loss: 0.3550 - mae: 0.3550\n",
            "Epoch 73/100\n",
            "1/1 [==============================] - 0s 13ms/step - loss: 0.2627 - mae: 0.2627\n",
            "Epoch 74/100\n",
            "1/1 [==============================] - 0s 5ms/step - loss: 0.3955 - mae: 0.3955\n",
            "Epoch 75/100\n",
            "1/1 [==============================] - 0s 7ms/step - loss: 0.3259 - mae: 0.3259\n",
            "Epoch 76/100\n",
            "1/1 [==============================] - 0s 7ms/step - loss: 0.1356 - mae: 0.1356\n",
            "Epoch 77/100\n",
            "1/1 [==============================] - 0s 8ms/step - loss: 0.2541 - mae: 0.2541\n",
            "Epoch 78/100\n",
            "1/1 [==============================] - 0s 8ms/step - loss: 0.1776 - mae: 0.1776\n",
            "Epoch 79/100\n",
            "1/1 [==============================] - 0s 5ms/step - loss: 0.2411 - mae: 0.2411\n",
            "Epoch 80/100\n",
            "1/1 [==============================] - 0s 7ms/step - loss: 0.2922 - mae: 0.2922\n",
            "Epoch 81/100\n",
            "1/1 [==============================] - 0s 5ms/step - loss: 0.1707 - mae: 0.1707\n",
            "Epoch 82/100\n",
            "1/1 [==============================] - 0s 5ms/step - loss: 0.2379 - mae: 0.2379\n",
            "Epoch 83/100\n",
            "1/1 [==============================] - 0s 8ms/step - loss: 0.2930 - mae: 0.2930\n",
            "Epoch 84/100\n",
            "1/1 [==============================] - 0s 6ms/step - loss: 0.1736 - mae: 0.1736\n",
            "Epoch 85/100\n",
            "1/1 [==============================] - 0s 9ms/step - loss: 0.2079 - mae: 0.2079\n",
            "Epoch 86/100\n",
            "1/1 [==============================] - 0s 5ms/step - loss: 0.2832 - mae: 0.2832\n",
            "Epoch 87/100\n",
            "1/1 [==============================] - 0s 6ms/step - loss: 0.1830 - mae: 0.1830\n",
            "Epoch 88/100\n",
            "1/1 [==============================] - 0s 7ms/step - loss: 0.1814 - mae: 0.1814\n",
            "Epoch 89/100\n",
            "1/1 [==============================] - 0s 5ms/step - loss: 0.2425 - mae: 0.2425\n",
            "Epoch 90/100\n",
            "1/1 [==============================] - 0s 7ms/step - loss: 0.1535 - mae: 0.1535\n",
            "Epoch 91/100\n",
            "1/1 [==============================] - 0s 6ms/step - loss: 0.1471 - mae: 0.1471\n",
            "Epoch 92/100\n",
            "1/1 [==============================] - 0s 6ms/step - loss: 0.1597 - mae: 0.1597\n",
            "Epoch 93/100\n",
            "1/1 [==============================] - 0s 10ms/step - loss: 0.0982 - mae: 0.0982\n",
            "Epoch 94/100\n",
            "1/1 [==============================] - 0s 8ms/step - loss: 0.1163 - mae: 0.1163\n",
            "Epoch 95/100\n",
            "1/1 [==============================] - 0s 5ms/step - loss: 0.0536 - mae: 0.0536\n",
            "Epoch 96/100\n",
            "1/1 [==============================] - 0s 8ms/step - loss: 0.0975 - mae: 0.0975\n",
            "Epoch 97/100\n",
            "1/1 [==============================] - 0s 8ms/step - loss: 0.0360 - mae: 0.0360\n",
            "Epoch 98/100\n",
            "1/1 [==============================] - 0s 7ms/step - loss: 0.0666 - mae: 0.0666\n",
            "Epoch 99/100\n",
            "1/1 [==============================] - 0s 7ms/step - loss: 0.0532 - mae: 0.0532\n",
            "Epoch 100/100\n",
            "1/1 [==============================] - 0s 8ms/step - loss: 0.0393 - mae: 0.0393\n"
          ],
          "name": "stdout"
        },
        {
          "output_type": "execute_result",
          "data": {
            "text/plain": [
              "<tensorflow.python.keras.callbacks.History at 0x7f573c557550>"
            ]
          },
          "metadata": {
            "tags": []
          },
          "execution_count": 15
        }
      ]
    },
    {
      "cell_type": "code",
      "metadata": {
        "colab": {
          "base_uri": "https://localhost:8080/"
        },
        "id": "PjYzUsXTYsXV",
        "outputId": "5250c296-e2e5-4891-edaf-8e3a26211dcc"
      },
      "source": [
        "model2.predict([16.])"
      ],
      "execution_count": null,
      "outputs": [
        {
          "output_type": "execute_result",
          "data": {
            "text/plain": [
              "array([[26.17649]], dtype=float32)"
            ]
          },
          "metadata": {
            "tags": []
          },
          "execution_count": 16
        }
      ]
    },
    {
      "cell_type": "markdown",
      "metadata": {
        "id": "DYEvt5FK1zCP"
      },
      "source": [
        "### Evaluating model\n",
        "Visualise:\n",
        "- data\n",
        "- model itself\n",
        "- training of a model, how does it performes\n",
        "- predictions"
      ]
    },
    {
      "cell_type": "code",
      "metadata": {
        "id": "Hjmp3sj-ZEDB"
      },
      "source": [
        "X_ = tf.range(-100.,100., 4.)"
      ],
      "execution_count": null,
      "outputs": []
    },
    {
      "cell_type": "code",
      "metadata": {
        "colab": {
          "base_uri": "https://localhost:8080/"
        },
        "id": "sMZ-KcZ23SGO",
        "outputId": "b7589d6a-89ed-4c15-95c5-581b501fcbb5"
      },
      "source": [
        "X_, X_.shape"
      ],
      "execution_count": null,
      "outputs": [
        {
          "output_type": "execute_result",
          "data": {
            "text/plain": [
              "(<tf.Tensor: shape=(50,), dtype=float32, numpy=\n",
              " array([-100.,  -96.,  -92.,  -88.,  -84.,  -80.,  -76.,  -72.,  -68.,\n",
              "         -64.,  -60.,  -56.,  -52.,  -48.,  -44.,  -40.,  -36.,  -32.,\n",
              "         -28.,  -24.,  -20.,  -16.,  -12.,   -8.,   -4.,    0.,    4.,\n",
              "           8.,   12.,   16.,   20.,   24.,   28.,   32.,   36.,   40.,\n",
              "          44.,   48.,   52.,   56.,   60.,   64.,   68.,   72.,   76.,\n",
              "          80.,   84.,   88.,   92.,   96.], dtype=float32)>, TensorShape([50]))"
            ]
          },
          "metadata": {
            "tags": []
          },
          "execution_count": 18
        }
      ]
    },
    {
      "cell_type": "code",
      "metadata": {
        "colab": {
          "base_uri": "https://localhost:8080/"
        },
        "id": "r9YteuBq6bE-",
        "outputId": "7297ad19-31a5-4a91-e8e2-7bd8ef5f85a8"
      },
      "source": [
        "len(X_)"
      ],
      "execution_count": null,
      "outputs": [
        {
          "output_type": "execute_result",
          "data": {
            "text/plain": [
              "50"
            ]
          },
          "metadata": {
            "tags": []
          },
          "execution_count": 19
        }
      ]
    },
    {
      "cell_type": "code",
      "metadata": {
        "colab": {
          "base_uri": "https://localhost:8080/",
          "height": 302
        },
        "id": "fT_uzhQj5JHd",
        "outputId": "51be22dd-67c1-4150-a3eb-1ca5934741bc"
      },
      "source": [
        "y_ = X_+10\n",
        "plt.scatter(X_, y_)"
      ],
      "execution_count": null,
      "outputs": [
        {
          "output_type": "execute_result",
          "data": {
            "text/plain": [
              "<matplotlib.collections.PathCollection at 0x7f573bcc7f90>"
            ]
          },
          "metadata": {
            "tags": []
          },
          "execution_count": 20
        },
        {
          "output_type": "display_data",
          "data": {
            "image/png": "[encoded data removed]",
            "text/plain": [
              "<Figure size 432x288 with 1 Axes>"
            ]
          },
          "metadata": {
            "tags": [],
            "needs_background": "light"
          }
        }
      ]
    },
    {
      "cell_type": "code",
      "metadata": {
        "id": "3wFIN3PG8sEc"
      },
      "source": [
        "# tf.random.set_seed(52)\n",
        "# X_ = tf.random.shuffle(X_, seed = 52)\n",
        "# y_ = tf.random.shuffle(y_, seed = 52)"
      ],
      "execution_count": null,
      "outputs": []
    },
    {
      "cell_type": "markdown",
      "metadata": {
        "id": "6Cq99ezO6zIr"
      },
      "source": [
        "Ususally we split data to \n",
        "- training set 70-80%\n",
        "- validating set (model get tuned on this set) 10-15%\n",
        "- testing set 10-15%"
      ]
    },
    {
      "cell_type": "code",
      "metadata": {
        "id": "8XO0wgbt5oNx"
      },
      "source": [
        "X_train = X_[:40]\n",
        "X_test = X_[40:]\n",
        "y_train = y_[:40] \n",
        "y_test = y_[40:] "
      ],
      "execution_count": null,
      "outputs": []
    },
    {
      "cell_type": "code",
      "metadata": {
        "colab": {
          "base_uri": "https://localhost:8080/"
        },
        "id": "1wJHWfO15oY8",
        "outputId": "56c04b4c-1d6f-4e26-f121-418ba26b606a"
      },
      "source": [
        "X_train, y_train, len(X_test), len(y_test)"
      ],
      "execution_count": null,
      "outputs": [
        {
          "output_type": "execute_result",
          "data": {
            "text/plain": [
              "(<tf.Tensor: shape=(40,), dtype=float32, numpy=\n",
              " array([-100.,  -96.,  -92.,  -88.,  -84.,  -80.,  -76.,  -72.,  -68.,\n",
              "         -64.,  -60.,  -56.,  -52.,  -48.,  -44.,  -40.,  -36.,  -32.,\n",
              "         -28.,  -24.,  -20.,  -16.,  -12.,   -8.,   -4.,    0.,    4.,\n",
              "           8.,   12.,   16.,   20.,   24.,   28.,   32.,   36.,   40.,\n",
              "          44.,   48.,   52.,   56.], dtype=float32)>,\n",
              " <tf.Tensor: shape=(40,), dtype=float32, numpy=\n",
              " array([-90., -86., -82., -78., -74., -70., -66., -62., -58., -54., -50.,\n",
              "        -46., -42., -38., -34., -30., -26., -22., -18., -14., -10.,  -6.,\n",
              "         -2.,   2.,   6.,  10.,  14.,  18.,  22.,  26.,  30.,  34.,  38.,\n",
              "         42.,  46.,  50.,  54.,  58.,  62.,  66.], dtype=float32)>,\n",
              " 10,\n",
              " 10)"
            ]
          },
          "metadata": {
            "tags": []
          },
          "execution_count": 23
        }
      ]
    },
    {
      "cell_type": "code",
      "metadata": {
        "colab": {
          "base_uri": "https://localhost:8080/",
          "height": 465
        },
        "id": "mZxe2iH0-iaE",
        "outputId": "f956d43c-6fce-4a36-dc08-6fc99bd798d7"
      },
      "source": [
        "#Plotting our data sets\n",
        "plt.figure(figsize=(10,7))\n",
        "plt.scatter(X_train, y_train, c='b', label = 'Training data')\n",
        "plt.scatter(X_test, y_test, c='r', label = 'Testing data')\n",
        "plt.legend()\n"
      ],
      "execution_count": null,
      "outputs": [
        {
          "output_type": "execute_result",
          "data": {
            "text/plain": [
              "<matplotlib.legend.Legend at 0x7f573e45e2d0>"
            ]
          },
          "metadata": {
            "tags": []
          },
          "execution_count": 24
        },
        {
          "output_type": "display_data",
          "data": {
            "image/png": "[encoded data removed]",
            "text/plain": [
              "<Figure size 720x504 with 1 Axes>"
            ]
          },
          "metadata": {
            "tags": [],
            "needs_background": "light"
          }
        }
      ]
    },
    {
      "cell_type": "code",
      "metadata": {
        "id": "eDzLBhl0-inr"
      },
      "source": [
        "K.clear_session()"
      ],
      "execution_count": null,
      "outputs": []
    },
    {
      "cell_type": "code",
      "metadata": {
        "id": "_G4eP3rn-iuR"
      },
      "source": [
        "model = tf.keras.Sequential([tf.keras.layers.Dense(100, input_shape = [1], name = 'my_input_layer'),\n",
        "                             tf.keras.layers.Dense(10, activation='relu', name = 'my_hidden_layer'),\n",
        "                             tf.keras.layers.Dense(1, name = 'my_output_layer')\n",
        "                            ], name = 'my_model')\n"
      ],
      "execution_count": null,
      "outputs": []
    },
    {
      "cell_type": "code",
      "metadata": {
        "id": "w2IL4IOZ-jD8"
      },
      "source": [
        "model.compile(optimizer=tf.keras.optimizers.Adam(learning_rate=0.01), loss='mae', metrics='mae')"
      ],
      "execution_count": null,
      "outputs": []
    },
    {
      "cell_type": "code",
      "metadata": {
        "colab": {
          "base_uri": "https://localhost:8080/"
        },
        "id": "cYm0_zXdEVYx",
        "outputId": "e0234098-ab58-4670-dcab-c6900522d51d"
      },
      "source": [
        "model.summary()"
      ],
      "execution_count": null,
      "outputs": [
        {
          "output_type": "stream",
          "text": [
            "Model: \"my_model\"\n",
            "_________________________________________________________________\n",
            "Layer (type)                 Output Shape              Param #   \n",
            "=================================================================\n",
            "my_input_layer (Dense)       (None, 100)               200       \n",
            "_________________________________________________________________\n",
            "my_hidden_layer (Dense)      (None, 10)                1010      \n",
            "_________________________________________________________________\n",
            "my_output_layer (Dense)      (None, 1)                 11        \n",
            "=================================================================\n",
            "Total params: 1,221\n",
            "Trainable params: 1,221\n",
            "Non-trainable params: 0\n",
            "_________________________________________________________________\n"
          ],
          "name": "stdout"
        }
      ]
    },
    {
      "cell_type": "code",
      "metadata": {
        "colab": {
          "base_uri": "https://localhost:8080/"
        },
        "id": "hHwvFYtxCNh0",
        "outputId": "e73bafe8-12c9-4b52-c703-f5fb2c56186b"
      },
      "source": [
        "model.fit(X_train, y_train, epochs = 100, verbose = 0) #verbose=0 we dont have any output"
      ],
      "execution_count": null,
      "outputs": [
        {
          "output_type": "execute_result",
          "data": {
            "text/plain": [
              "<tensorflow.python.keras.callbacks.History at 0x7f573ab09d50>"
            ]
          },
          "metadata": {
            "tags": []
          },
          "execution_count": 29
        }
      ]
    },
    {
      "cell_type": "code",
      "metadata": {
        "colab": {
          "base_uri": "https://localhost:8080/",
          "height": 442
        },
        "id": "YxDARxkWCN9-",
        "outputId": "84a2be87-428f-43f3-ad44-701b7cb2c923"
      },
      "source": [
        "plot_model(model=model, show_shapes=True)# to_file='model.png')"
      ],
      "execution_count": null,
      "outputs": [
        {
          "output_type": "execute_result",
          "data": {
            "image/png": "[encoded data removed]",
            "text/plain": [
              "<IPython.core.display.Image object>"
            ]
          },
          "metadata": {
            "tags": []
          },
          "execution_count": 30
        }
      ]
    },
    {
      "cell_type": "code",
      "metadata": {
        "id": "HaFvEFQr3TP3"
      },
      "source": [
        "y_pred = model.predict(X_test)"
      ],
      "execution_count": null,
      "outputs": []
    },
    {
      "cell_type": "code",
      "metadata": {
        "id": "zRnnzM663Y1l"
      },
      "source": [
        "def plot_results(X_train = X_train, \n",
        "                 y_train = y_train,\n",
        "                 X_test = X_test,\n",
        "                 y_test = y_test,\n",
        "                 y_pred = y_pred):\n",
        "  plt.figure(figsize=(10,7))\n",
        "  plt.scatter(X_train, y_train, c='b', label = 'Training data')\n",
        "  plt.scatter(X_test, y_test, c='g', label = 'Testing data')\n",
        "  plt.scatter(X_test,y_pred, c='r', label = 'Predictions')\n",
        "  plt.legend()"
      ],
      "execution_count": null,
      "outputs": []
    },
    {
      "cell_type": "code",
      "metadata": {
        "colab": {
          "base_uri": "https://localhost:8080/",
          "height": 448
        },
        "id": "eV8qFIud4DVx",
        "outputId": "e10b2a47-68e2-4914-ab3e-3561d3ff7f60"
      },
      "source": [
        "  plot_results()"
      ],
      "execution_count": null,
      "outputs": [
        {
          "output_type": "display_data",
          "data": {
            "image/png": "[encoded data removed]",
            "text/plain": [
              "<Figure size 720x504 with 1 Axes>"
            ]
          },
          "metadata": {
            "tags": [],
            "needs_background": "light"
          }
        }
      ]
    },
    {
      "cell_type": "markdown",
      "metadata": {
        "id": "hOapF1RofSGw"
      },
      "source": [
        "### Evaluating our model with regression evaluation metrics\n",
        "Main metrics for regression problem:\n",
        "- MAE Mean absolute error\n",
        "- MSE Mean square error when larger errors are more significant than small errors\n",
        "- Huber combination of MSE and MAE, less sensitive to outliers"
      ]
    },
    {
      "cell_type": "code",
      "metadata": {
        "colab": {
          "base_uri": "https://localhost:8080/"
        },
        "id": "COdoE8Hcfdro",
        "outputId": "16fb522b-1096-4aba-9987-9d3171f4d822"
      },
      "source": [
        "model.evaluate(X_test, y_test)"
      ],
      "execution_count": null,
      "outputs": [
        {
          "output_type": "stream",
          "text": [
            "1/1 [==============================] - 0s 126ms/step - loss: 4.0187 - mae: 4.0187\n"
          ],
          "name": "stdout"
        },
        {
          "output_type": "execute_result",
          "data": {
            "text/plain": [
              "[4.018731594085693, 4.018731594085693]"
            ]
          },
          "metadata": {
            "tags": []
          },
          "execution_count": 34
        }
      ]
    },
    {
      "cell_type": "code",
      "metadata": {
        "colab": {
          "base_uri": "https://localhost:8080/"
        },
        "id": "hxjSZYmNhYO4",
        "outputId": "62919c6f-a747-4d70-d7bb-61270544922a"
      },
      "source": [
        "tf.metrics.mean_absolute_error(y_test, y_pred)\n",
        "#We should have one value, dimentions are wrong"
      ],
      "execution_count": null,
      "outputs": [
        {
          "output_type": "execute_result",
          "data": {
            "text/plain": [
              "<tf.Tensor: shape=(10,), dtype=float32, numpy=\n",
              "array([21.354507, 17.601685, 14.589836, 12.318927, 10.788986, 10.018507,\n",
              "       10.      , 10.722452, 12.185864, 14.390219], dtype=float32)>"
            ]
          },
          "metadata": {
            "tags": []
          },
          "execution_count": 35
        }
      ]
    },
    {
      "cell_type": "code",
      "metadata": {
        "colab": {
          "base_uri": "https://localhost:8080/"
        },
        "id": "V_9aeDACh2oM",
        "outputId": "52251e11-0181-4afc-e5b1-6ece4ec310a1"
      },
      "source": [
        "y_pred.shape, y_test.shape"
      ],
      "execution_count": null,
      "outputs": [
        {
          "output_type": "execute_result",
          "data": {
            "text/plain": [
              "((10, 1), TensorShape([10]))"
            ]
          },
          "metadata": {
            "tags": []
          },
          "execution_count": 36
        }
      ]
    },
    {
      "cell_type": "code",
      "metadata": {
        "colab": {
          "base_uri": "https://localhost:8080/"
        },
        "id": "YwIoMLJsLwb3",
        "outputId": "42c5e5e9-148f-4a47-f4c5-ac986868f448"
      },
      "source": [
        "#Change y_pred to tensor to have same shape, to be able to calculate mae\n",
        "y_pred = tf.constant(y_pred)\n",
        "y_pred"
      ],
      "execution_count": null,
      "outputs": [
        {
          "output_type": "execute_result",
          "data": {
            "text/plain": [
              "<tf.Tensor: shape=(10, 1), dtype=float32, numpy=\n",
              "array([[ 66.64549 ],\n",
              "       [ 70.497894],\n",
              "       [ 74.35027 ],\n",
              "       [ 78.20268 ],\n",
              "       [ 82.05507 ],\n",
              "       [ 85.90746 ],\n",
              "       [ 89.75986 ],\n",
              "       [ 93.61226 ],\n",
              "       [ 97.46466 ],\n",
              "       [101.31703 ]], dtype=float32)>"
            ]
          },
          "metadata": {
            "tags": []
          },
          "execution_count": 37
        }
      ]
    },
    {
      "cell_type": "code",
      "metadata": {
        "colab": {
          "base_uri": "https://localhost:8080/"
        },
        "id": "yq-XtzkDMCnf",
        "outputId": "12fcaaf2-c7fe-4c72-9dda-c0c159d28c1b"
      },
      "source": [
        "#squeeze y_pred(remove 1 dimention)\n",
        "y_pred = tf.squeeze(y_pred)\n",
        "y_pred"
      ],
      "execution_count": null,
      "outputs": [
        {
          "output_type": "execute_result",
          "data": {
            "text/plain": [
              "<tf.Tensor: shape=(10,), dtype=float32, numpy=\n",
              "array([ 66.64549 ,  70.497894,  74.35027 ,  78.20268 ,  82.05507 ,\n",
              "        85.90746 ,  89.75986 ,  93.61226 ,  97.46466 , 101.31703 ],\n",
              "      dtype=float32)>"
            ]
          },
          "metadata": {
            "tags": []
          },
          "execution_count": 38
        }
      ]
    },
    {
      "cell_type": "code",
      "metadata": {
        "colab": {
          "base_uri": "https://localhost:8080/"
        },
        "id": "ts4wm_moMM9U",
        "outputId": "33853a2c-4409-4152-a87a-223408fc3200"
      },
      "source": [
        "tf.metrics.mean_absolute_error(y_test, y_pred)"
      ],
      "execution_count": null,
      "outputs": [
        {
          "output_type": "execute_result",
          "data": {
            "text/plain": [
              "<tf.Tensor: shape=(), dtype=float32, numpy=4.0187316>"
            ]
          },
          "metadata": {
            "tags": []
          },
          "execution_count": 39
        }
      ]
    },
    {
      "cell_type": "code",
      "metadata": {
        "colab": {
          "base_uri": "https://localhost:8080/"
        },
        "id": "LtGomwuIMVZN",
        "outputId": "b1eab60c-5de3-48ab-dc7d-8d7455824730"
      },
      "source": [
        "#MSE\n",
        "tf.metrics.mean_squared_error(y_test, y_pred)"
      ],
      "execution_count": null,
      "outputs": [
        {
          "output_type": "execute_result",
          "data": {
            "text/plain": [
              "<tf.Tensor: shape=(), dtype=float32, numpy=16.32995>"
            ]
          },
          "metadata": {
            "tags": []
          },
          "execution_count": 40
        }
      ]
    },
    {
      "cell_type": "code",
      "metadata": {
        "id": "KnWh76psNEJy"
      },
      "source": [
        "def mse(y_test, y_pred):\n",
        "  y_pred = tf.squeeze(tf.constant(y_pred))\n",
        "  return tf.metrics.mean_squared_error(y_test, y_pred)\n",
        "def mae(y_test, y_pred):\n",
        "  y_pred = tf.squeeze(tf.constant(y_pred))\n",
        "  return tf.metrics.mean_absolute_error(y_test, y_pred)"
      ],
      "execution_count": null,
      "outputs": []
    },
    {
      "cell_type": "markdown",
      "metadata": {
        "id": "DsYbxgEiOaUz"
      },
      "source": [
        "### Experiments to improve our error\n",
        "- Use more data\n",
        "- more complex model\n",
        "- try longer\n",
        "\n",
        "3 experiments:\n",
        "1. Same model\n",
        "2. Lower learning rate 100 epochs\n",
        "3. Lower learning rate 500 epochs"
      ]
    },
    {
      "cell_type": "code",
      "metadata": {
        "id": "5u3H78-BOePm"
      },
      "source": [
        "#model1\n",
        "tf.random.set_seed(42)"
      ],
      "execution_count": null,
      "outputs": []
    },
    {
      "cell_type": "code",
      "metadata": {
        "id": "rKgXNT8gP4yC"
      },
      "source": [
        "K.clear_session()"
      ],
      "execution_count": null,
      "outputs": []
    },
    {
      "cell_type": "code",
      "metadata": {
        "id": "LMl9Z6R6PQ_i"
      },
      "source": [
        "model1 = tf.keras.Sequential([tf.keras.layers.Dense(100, input_shape = [1], name = 'my_input_layer'),\n",
        "                             tf.keras.layers.Dense(10, activation='relu', name = 'my_hidden_layer'),\n",
        "                             tf.keras.layers.Dense(1, name = 'my_output_layer')\n",
        "                            ], name = 'my_model1')"
      ],
      "execution_count": null,
      "outputs": []
    },
    {
      "cell_type": "code",
      "metadata": {
        "id": "aQx1DmuKP3a8"
      },
      "source": [
        "model1.compile(optimizer=tf.keras.optimizers.Adam(learning_rate=0.01), loss='mae', metrics='mae')"
      ],
      "execution_count": null,
      "outputs": []
    },
    {
      "cell_type": "code",
      "metadata": {
        "colab": {
          "base_uri": "https://localhost:8080/"
        },
        "id": "VWZ3qtbWQGXo",
        "outputId": "2ef55477-ff3b-47b9-9039-8fe9a69f683f"
      },
      "source": [
        "model1.fit(X_train, y_train, epochs = 100, verbose = 0)"
      ],
      "execution_count": null,
      "outputs": [
        {
          "output_type": "execute_result",
          "data": {
            "text/plain": [
              "<tensorflow.python.keras.callbacks.History at 0x7f573e318510>"
            ]
          },
          "metadata": {
            "tags": []
          },
          "execution_count": 46
        }
      ]
    },
    {
      "cell_type": "code",
      "metadata": {
        "colab": {
          "base_uri": "https://localhost:8080/"
        },
        "id": "YNy1XoIZQNnS",
        "outputId": "0088d7f5-ef6c-4cdd-889f-10ae9108148c"
      },
      "source": [
        "y1_pred = model1.predict(X_test)\n",
        "len(y1_pred)"
      ],
      "execution_count": null,
      "outputs": [
        {
          "output_type": "execute_result",
          "data": {
            "text/plain": [
              "10"
            ]
          },
          "metadata": {
            "tags": []
          },
          "execution_count": 47
        }
      ]
    },
    {
      "cell_type": "code",
      "metadata": {
        "colab": {
          "base_uri": "https://localhost:8080/",
          "height": 448
        },
        "id": "8UecWULqQlj2",
        "outputId": "0ef5b96a-0b56-463a-8370-8f49bbba7364"
      },
      "source": [
        "plot_results(y_pred=y1_pred)"
      ],
      "execution_count": null,
      "outputs": [
        {
          "output_type": "display_data",
          "data": {
            "image/png": "[encoded data removed]",
            "text/plain": [
              "<Figure size 720x504 with 1 Axes>"
            ]
          },
          "metadata": {
            "tags": [],
            "needs_background": "light"
          }
        }
      ]
    },
    {
      "cell_type": "code",
      "metadata": {
        "id": "iwk-ZF_hQuc8"
      },
      "source": [
        "mae_1 = mae(y_test, y1_pred)\n",
        "mse_1 = mse(y_test, y1_pred)"
      ],
      "execution_count": null,
      "outputs": []
    },
    {
      "cell_type": "code",
      "metadata": {
        "id": "Qamor2T_RVgI"
      },
      "source": [
        "model2 = tf.keras.Sequential([tf.keras.layers.Dense(100, input_shape = [1], name = 'my_input_layer'),\n",
        "                             tf.keras.layers.Dense(10, activation='relu', name = 'my_hidden_layer'),\n",
        "                             tf.keras.layers.Dense(1, name = 'my_output_layer')\n",
        "                            ], name = 'my_model2')"
      ],
      "execution_count": null,
      "outputs": []
    },
    {
      "cell_type": "code",
      "metadata": {
        "id": "gdJBgjkTSD9F"
      },
      "source": [
        "model2.compile(optimizer=tf.keras.optimizers.Adam(learning_rate=0.0001), loss='mae', metrics='mae')"
      ],
      "execution_count": null,
      "outputs": []
    },
    {
      "cell_type": "code",
      "metadata": {
        "colab": {
          "base_uri": "https://localhost:8080/"
        },
        "id": "JPNkRQ6ESIMh",
        "outputId": "f99f3dab-983a-49cf-d517-fbc4cf027ab4"
      },
      "source": [
        "model2.fit(X_train, y_train, epochs = 100, verbose = 0)"
      ],
      "execution_count": null,
      "outputs": [
        {
          "output_type": "execute_result",
          "data": {
            "text/plain": [
              "<tensorflow.python.keras.callbacks.History at 0x7f573d9eacd0>"
            ]
          },
          "metadata": {
            "tags": []
          },
          "execution_count": 52
        }
      ]
    },
    {
      "cell_type": "code",
      "metadata": {
        "colab": {
          "base_uri": "https://localhost:8080/"
        },
        "id": "rndJTrE_SMhi",
        "outputId": "9c44c4a5-3790-4e27-ebc2-7c0e1e9b9716"
      },
      "source": [
        "y2_pred = model2.predict(X_test)"
      ],
      "execution_count": null,
      "outputs": [
        {
          "output_type": "stream",
          "text": [
            "WARNING:tensorflow:5 out of the last 5 calls to <function Model.make_predict_function.<locals>.predict_function at 0x7f573e3088c0> triggered tf.function retracing. Tracing is expensive and the excessive number of tracings could be due to (1) creating @tf.function repeatedly in a loop, (2) passing tensors with different shapes, (3) passing Python objects instead of tensors. For (1), please define your @tf.function outside of the loop. For (2), @tf.function has experimental_relax_shapes=True option that relaxes argument shapes that can avoid unnecessary retracing. For (3), please refer to https://www.tensorflow.org/guide/function#controlling_retracing and https://www.tensorflow.org/api_docs/python/tf/function for  more details.\n"
          ],
          "name": "stdout"
        }
      ]
    },
    {
      "cell_type": "code",
      "metadata": {
        "colab": {
          "base_uri": "https://localhost:8080/",
          "height": 448
        },
        "id": "1NP0ze3sSfHG",
        "outputId": "6d626473-e36c-4234-e10b-dced5c8acab0"
      },
      "source": [
        "plot_results(y_pred=y2_pred)"
      ],
      "execution_count": null,
      "outputs": [
        {
          "output_type": "display_data",
          "data": {
            "image/png": "[encoded data removed]",
            "text/plain": [
              "<Figure size 720x504 with 1 Axes>"
            ]
          },
          "metadata": {
            "tags": [],
            "needs_background": "light"
          }
        }
      ]
    },
    {
      "cell_type": "code",
      "metadata": {
        "id": "zw4VTVb_SinR"
      },
      "source": [
        "mae_2 = mae(y_test, y2_pred)\n",
        "mse_2 = mse(y_test, y2_pred)"
      ],
      "execution_count": null,
      "outputs": []
    },
    {
      "cell_type": "code",
      "metadata": {
        "id": "7jU7QEYsSw-M"
      },
      "source": [
        "model3 = tf.keras.Sequential([tf.keras.layers.Dense(100, input_shape = [1], name = 'my_input_layer'),\n",
        "                             tf.keras.layers.Dense(10, activation='relu', name = 'my_hidden_layer'),\n",
        "                             tf.keras.layers.Dense(1, name = 'my_output_layer')\n",
        "                            ], name = 'my_model3')"
      ],
      "execution_count": null,
      "outputs": []
    },
    {
      "cell_type": "code",
      "metadata": {
        "id": "t5_AMzp3Sw-Q"
      },
      "source": [
        "model3.compile(optimizer=tf.keras.optimizers.Adam(learning_rate=0.001), loss='mae', metrics='mae')"
      ],
      "execution_count": null,
      "outputs": []
    },
    {
      "cell_type": "code",
      "metadata": {
        "colab": {
          "base_uri": "https://localhost:8080/"
        },
        "id": "iiK9mRrNSw-Q",
        "outputId": "35e14f27-ea38-4002-8b4e-b3d53abdab60"
      },
      "source": [
        "model3.fit(X_train, y_train, epochs = 500, verbose = 0)"
      ],
      "execution_count": null,
      "outputs": [
        {
          "output_type": "execute_result",
          "data": {
            "text/plain": [
              "<tensorflow.python.keras.callbacks.History at 0x7f573d177610>"
            ]
          },
          "metadata": {
            "tags": []
          },
          "execution_count": 58
        }
      ]
    },
    {
      "cell_type": "code",
      "metadata": {
        "colab": {
          "base_uri": "https://localhost:8080/"
        },
        "id": "_LbxLWp_Sw-R",
        "outputId": "1fb3cc39-d10b-4fc3-9976-82fce148ccb6"
      },
      "source": [
        "y3_pred = model3.predict(X_test)"
      ],
      "execution_count": null,
      "outputs": [
        {
          "output_type": "stream",
          "text": [
            "WARNING:tensorflow:6 out of the last 6 calls to <function Model.make_predict_function.<locals>.predict_function at 0x7f573d063440> triggered tf.function retracing. Tracing is expensive and the excessive number of tracings could be due to (1) creating @tf.function repeatedly in a loop, (2) passing tensors with different shapes, (3) passing Python objects instead of tensors. For (1), please define your @tf.function outside of the loop. For (2), @tf.function has experimental_relax_shapes=True option that relaxes argument shapes that can avoid unnecessary retracing. For (3), please refer to https://www.tensorflow.org/guide/function#controlling_retracing and https://www.tensorflow.org/api_docs/python/tf/function for  more details.\n"
          ],
          "name": "stdout"
        }
      ]
    },
    {
      "cell_type": "code",
      "metadata": {
        "colab": {
          "base_uri": "https://localhost:8080/",
          "height": 448
        },
        "id": "KJxgvOv0S5EX",
        "outputId": "5388034d-4b4c-4a0b-dd63-120ce114ec8f"
      },
      "source": [
        "plot_results(y_pred=y3_pred)"
      ],
      "execution_count": null,
      "outputs": [
        {
          "output_type": "display_data",
          "data": {
            "image/png": "[encoded data removed]",
            "text/plain": [
              "<Figure size 720x504 with 1 Axes>"
            ]
          },
          "metadata": {
            "tags": [],
            "needs_background": "light"
          }
        }
      ]
    },
    {
      "cell_type": "code",
      "metadata": {
        "id": "8qTjmiZvS8XY"
      },
      "source": [
        "mae_3 = mae(y_test, y3_pred)\n",
        "mse_3 = mse(y_test, y3_pred)"
      ],
      "execution_count": null,
      "outputs": []
    },
    {
      "cell_type": "code",
      "metadata": {
        "id": "PcPlY0SnTFaj"
      },
      "source": [
        "results = [['Model1', float(mae_1), float(mse_1)], ['Model2', float(mae_2), float(mse_2)], ['Model3', float(mae_3), float(mse_3)]]"
      ],
      "execution_count": null,
      "outputs": []
    },
    {
      "cell_type": "code",
      "metadata": {
        "colab": {
          "base_uri": "https://localhost:8080/",
          "height": 160
        },
        "id": "b2vbRWgRYemP",
        "outputId": "533c690f-0bc6-419d-e520-98182bd5b5ad"
      },
      "source": [
        "df = pd.DataFrame(results, columns=['Model', 'MAE', 'MSE'])\n",
        "df"
      ],
      "execution_count": null,
      "outputs": [
        {
          "output_type": "execute_result",
          "data": {
            "text/html": [
              "<div>\n",
              "<style scoped>\n",
              "    .dataframe tbody tr th:only-of-type {\n",
              "        vertical-align: middle;\n",
              "    }\n",
              "\n",
              "    .dataframe tbody tr th {\n",
              "        vertical-align: top;\n",
              "    }\n",
              "\n",
              "    .dataframe thead th {\n",
              "        text-align: right;\n",
              "    }\n",
              "</style>\n",
              "<table border=\"1\" class=\"dataframe\">\n",
              "  <thead>\n",
              "    <tr style=\"text-align: right;\">\n",
              "      <th></th>\n",
              "      <th>Model</th>\n",
              "      <th>MAE</th>\n",
              "      <th>MSE</th>\n",
              "    </tr>\n",
              "  </thead>\n",
              "  <tbody>\n",
              "    <tr>\n",
              "      <th>0</th>\n",
              "      <td>Model1</td>\n",
              "      <td>1.975776</td>\n",
              "      <td>4.040202</td>\n",
              "    </tr>\n",
              "    <tr>\n",
              "      <th>1</th>\n",
              "      <td>Model2</td>\n",
              "      <td>38.445858</td>\n",
              "      <td>1495.896362</td>\n",
              "    </tr>\n",
              "    <tr>\n",
              "      <th>2</th>\n",
              "      <td>Model3</td>\n",
              "      <td>0.430778</td>\n",
              "      <td>0.189083</td>\n",
              "    </tr>\n",
              "  </tbody>\n",
              "</table>\n",
              "</div>"
            ],
            "text/plain": [
              "    Model        MAE          MSE\n",
              "0  Model1   1.975776     4.040202\n",
              "1  Model2  38.445858  1495.896362\n",
              "2  Model3   0.430778     0.189083"
            ]
          },
          "metadata": {
            "tags": []
          },
          "execution_count": 63
        }
      ]
    },
    {
      "cell_type": "code",
      "metadata": {
        "colab": {
          "base_uri": "https://localhost:8080/"
        },
        "id": "8Ka1g5bPYi-O",
        "outputId": "e748350a-a8b5-4957-d04e-17bbdb4b9ea8"
      },
      "source": [
        "model3.summary()"
      ],
      "execution_count": null,
      "outputs": [
        {
          "output_type": "stream",
          "text": [
            "Model: \"my_model3\"\n",
            "_________________________________________________________________\n",
            "Layer (type)                 Output Shape              Param #   \n",
            "=================================================================\n",
            "my_input_layer (Dense)       (None, 100)               200       \n",
            "_________________________________________________________________\n",
            "my_hidden_layer (Dense)      (None, 10)                1010      \n",
            "_________________________________________________________________\n",
            "my_output_layer (Dense)      (None, 1)                 11        \n",
            "=================================================================\n",
            "Total params: 1,221\n",
            "Trainable params: 1,221\n",
            "Non-trainable params: 0\n",
            "_________________________________________________________________\n"
          ],
          "name": "stdout"
        }
      ]
    },
    {
      "cell_type": "markdown",
      "metadata": {
        "id": "5XJFtYRrZ74W"
      },
      "source": [
        "### Tracking experiments\n",
        "1. Tensor board (https://tensorboard.dev)\n",
        "    - TensorBoard provides the visualization and tooling needed for machine learning experimentation:\n",
        "    - Tracking and visualizing metrics such as loss and accuracy\n",
        "    - Visualizing the model graph (ops and layers)\n",
        "    - Viewing histograms of weights, biases, or other tensors as they change over time\n",
        "    - Projecting embeddings to a lower dimensional space\n",
        "    - Displaying images, text, and audio data\n",
        "    - Profiling TensorFlow programs\n",
        "    - And much more\n",
        "2. Weights and Biases (https://wandb.ai/site)\n"
      ]
    },
    {
      "cell_type": "markdown",
      "metadata": {
        "id": "OHD_6PFCT7rA"
      },
      "source": [
        "### Saving our models\n",
        "2 formats:\n",
        "- The Savedmodel format\n",
        "- HDF5 format"
      ]
    },
    {
      "cell_type": "code",
      "metadata": {
        "colab": {
          "base_uri": "https://localhost:8080/"
        },
        "id": "Z6eSVqm4T_KP",
        "outputId": "18fb57ba-4aa6-49e7-8ca6-348a6b6e0b44"
      },
      "source": [
        "model3.save('best_model_3') #Folder"
      ],
      "execution_count": null,
      "outputs": [
        {
          "output_type": "stream",
          "text": [
            "INFO:tensorflow:Assets written to: best_model_3/assets\n"
          ],
          "name": "stdout"
        }
      ]
    },
    {
      "cell_type": "code",
      "metadata": {
        "id": "hojmItKoVYDb"
      },
      "source": [
        "model3.save('best_model_3.h5') #Single file"
      ],
      "execution_count": null,
      "outputs": []
    },
    {
      "cell_type": "markdown",
      "metadata": {
        "id": "VdBdz6p-V348"
      },
      "source": [
        "### Load model"
      ]
    },
    {
      "cell_type": "code",
      "metadata": {
        "id": "JSsBQ7HxVo0z"
      },
      "source": [
        "#Load savedModel format\n",
        "loaded_model1 = tf.keras.models.load_model('best_model_3')"
      ],
      "execution_count": null,
      "outputs": []
    },
    {
      "cell_type": "code",
      "metadata": {
        "colab": {
          "base_uri": "https://localhost:8080/"
        },
        "id": "qDFdPTzJWZDo",
        "outputId": "febf3030-2241-4d8d-aefc-ada9e4063c2b"
      },
      "source": [
        "loaded_model1.summary()"
      ],
      "execution_count": null,
      "outputs": [
        {
          "output_type": "stream",
          "text": [
            "Model: \"my_model3\"\n",
            "_________________________________________________________________\n",
            "Layer (type)                 Output Shape              Param #   \n",
            "=================================================================\n",
            "my_input_layer (Dense)       (None, 100)               200       \n",
            "_________________________________________________________________\n",
            "my_hidden_layer (Dense)      (None, 10)                1010      \n",
            "_________________________________________________________________\n",
            "my_output_layer (Dense)      (None, 1)                 11        \n",
            "=================================================================\n",
            "Total params: 1,221\n",
            "Trainable params: 1,221\n",
            "Non-trainable params: 0\n",
            "_________________________________________________________________\n"
          ],
          "name": "stdout"
        }
      ]
    },
    {
      "cell_type": "code",
      "metadata": {
        "id": "eCxwwNfSWl4X"
      },
      "source": [
        "loaded_model2 = tf.keras.models.load_model('best_model_3.h5')"
      ],
      "execution_count": null,
      "outputs": []
    },
    {
      "cell_type": "code",
      "metadata": {
        "colab": {
          "base_uri": "https://localhost:8080/"
        },
        "id": "PYZGucgvWyiM",
        "outputId": "d3dc1d9a-176d-46f9-c02d-70477be5dd0b"
      },
      "source": [
        "loaded_model2.summary()"
      ],
      "execution_count": null,
      "outputs": [
        {
          "output_type": "stream",
          "text": [
            "Model: \"my_model3\"\n",
            "_________________________________________________________________\n",
            "Layer (type)                 Output Shape              Param #   \n",
            "=================================================================\n",
            "my_input_layer (Dense)       (None, 100)               200       \n",
            "_________________________________________________________________\n",
            "my_hidden_layer (Dense)      (None, 10)                1010      \n",
            "_________________________________________________________________\n",
            "my_output_layer (Dense)      (None, 1)                 11        \n",
            "=================================================================\n",
            "Total params: 1,221\n",
            "Trainable params: 1,221\n",
            "Non-trainable params: 0\n",
            "_________________________________________________________________\n"
          ],
          "name": "stdout"
        }
      ]
    },
    {
      "cell_type": "code",
      "metadata": {
        "id": "cajwwAH6W1Kh"
      },
      "source": [
        "#Compare predictions from those models to check they are same\n",
        "y_pred_1 = loaded_model1.predict(X_test)\n",
        "y_pred_2 = loaded_model2.predict(X_test)"
      ],
      "execution_count": null,
      "outputs": []
    },
    {
      "cell_type": "code",
      "metadata": {
        "colab": {
          "base_uri": "https://localhost:8080/"
        },
        "id": "9y77NiNFXNgz",
        "outputId": "efbcba5b-faaf-4e90-d32e-1bf7e05e02f0"
      },
      "source": [
        "y_pred_1==y_pred_2"
      ],
      "execution_count": null,
      "outputs": [
        {
          "output_type": "execute_result",
          "data": {
            "text/plain": [
              "array([[ True],\n",
              "       [ True],\n",
              "       [ True],\n",
              "       [ True],\n",
              "       [ True],\n",
              "       [ True],\n",
              "       [ True],\n",
              "       [ True],\n",
              "       [ True],\n",
              "       [ True]])"
            ]
          },
          "metadata": {
            "tags": []
          },
          "execution_count": 76
        }
      ]
    },
    {
      "cell_type": "code",
      "metadata": {
        "colab": {
          "base_uri": "https://localhost:8080/"
        },
        "id": "BUob3z90XQwl",
        "outputId": "3f8760f9-f8d9-4883-9a41-5026a1a03671"
      },
      "source": [
        "y3_pred == y_pred_2"
      ],
      "execution_count": null,
      "outputs": [
        {
          "output_type": "execute_result",
          "data": {
            "text/plain": [
              "array([[ True],\n",
              "       [ True],\n",
              "       [ True],\n",
              "       [ True],\n",
              "       [ True],\n",
              "       [ True],\n",
              "       [ True],\n",
              "       [ True],\n",
              "       [ True],\n",
              "       [ True]])"
            ]
          },
          "metadata": {
            "tags": []
          },
          "execution_count": 77
        }
      ]
    },
    {
      "cell_type": "markdown",
      "metadata": {
        "id": "rVV9EY2raWCh"
      },
      "source": [
        "### A Larger example"
      ]
    },
    {
      "cell_type": "code",
      "metadata": {
        "id": "oRdGxUCzXkZj"
      },
      "source": [
        ""
      ],
      "execution_count": null,
      "outputs": []
    }
  ]
}