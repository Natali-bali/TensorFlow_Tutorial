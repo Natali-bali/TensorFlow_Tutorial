{
  "nbformat": 4,
  "nbformat_minor": 0,
  "metadata": {
    "accelerator": "GPU",
    "colab": {
      "name": "08_intro _to_nlp.ipynb",
      "provenance": [],
      "collapsed_sections": [],
      "mount_file_id": "1QccHF_n9pYIgmNhR1YAHaJSa-Vjs5yvV",
      "authorship_tag": "ABX9TyM9cjNm8lrCZ9IML5V1i8sk",
      "include_colab_link": true
    },
    "kernelspec": {
      "display_name": "Python 3",
      "name": "python3"
    },
    "language_info": {
      "name": "python"
    }
  },
  "cells": [
    {
      "cell_type": "markdown",
      "metadata": {
        "id": "view-in-github",
        "colab_type": "text"
      },
      "source": [
        "<a href=\"https://colab.research.google.com/github/Natali-bali/TensorFlow_Tutorial/blob/master/08_intro__to_nlp.ipynb\" target=\"_parent\"><img src=\"https://colab.research.google.com/assets/colab-badge.svg\" alt=\"Open In Colab\"/></a>"
      ]
    },
    {
      "cell_type": "markdown",
      "metadata": {
        "id": "ZjI6PLvctrHS"
      },
      "source": [
        "# Introduction to NLP fundamentals in TensorFlow\n",
        "\n",
        "- Downloading a text dataset\n",
        "- Visualizing text data\n",
        "- Converting text into numbers using tokenization\n",
        "- Turning our tokenized text into an embedding\n",
        "- Modelling a text dataset\n",
        "- Starting with a baseline (TF-IDF)\n",
        "- Building several deep learning text models\n",
        "- Dense, LSTM, GRU, Conv1D, Transfer learning\n",
        "- Comparing the performance of each our models\n",
        "- Combining our models into an ensemble\n",
        "- Saving and loading a trained model\n",
        "- Find the most wrong predictions"
      ]
    },
    {
      "cell_type": "markdown",
      "metadata": {
        "id": "4DRqpXg6ubbH"
      },
      "source": [
        "### Download helper functions and libararies"
      ]
    },
    {
      "cell_type": "code",
      "metadata": {
        "colab": {
          "base_uri": "https://localhost:8080/"
        },
        "id": "oDPMAxEXtdYU",
        "outputId": "5bc95b69-f7ba-4603-f3fc-3e0705b8b2d3"
      },
      "source": [
        "!wget 'https://raw.githubusercontent.com/Natali-bali/TensorFlow_Tutorial/master/helper_functions.py'"
      ],
      "execution_count": 70,
      "outputs": [
        {
          "output_type": "stream",
          "text": [
            "--2021-07-18 18:19:27--  https://raw.githubusercontent.com/Natali-bali/TensorFlow_Tutorial/master/helper_functions.py\n",
            "Resolving raw.githubusercontent.com (raw.githubusercontent.com)... 185.199.108.133, 185.199.109.133, 185.199.110.133, ...\n",
            "Connecting to raw.githubusercontent.com (raw.githubusercontent.com)|185.199.108.133|:443... connected.\n",
            "HTTP request sent, awaiting response... 200 OK\n",
            "Length: 11016 (11K) [text/plain]\n",
            "Saving to: ‘helper_functions.py.1’\n",
            "\n",
            "\rhelper_functions.py   0%[                    ]       0  --.-KB/s               \rhelper_functions.py 100%[===================>]  10.76K  --.-KB/s    in 0s      \n",
            "\n",
            "2021-07-18 18:19:27 (64.9 MB/s) - ‘helper_functions.py.1’ saved [11016/11016]\n",
            "\n"
          ],
          "name": "stdout"
        }
      ]
    },
    {
      "cell_type": "code",
      "metadata": {
        "id": "JAliFO19uzaZ"
      },
      "source": [
        "import numpy as np\n",
        "import tensorflow as tf\n",
        "import matplotlib.pyplot as plt\n",
        "import pandas as pd\n",
        "import re\n",
        "import random\n",
        "import seaborn as sns\n",
        "from sklearn.model_selection import train_test_split\n",
        "from tensorflow.keras import backend as K\n",
        "from tensorflow.keras import Model, Sequential\n",
        "from tensorflow.keras.layers import Dense, Input, Activation, GlobalAveragePooling1D, Flatten, LSTM, GRU, Bidirectional, Conv1D\n",
        "from helper_functions import plot_confusion_matrix, plot_loss_curves, classes_names, plot_pictures, create_tf_board_callback, unzip_file, compare_historys, walk_through_dir"
      ],
      "execution_count": 71,
      "outputs": []
    },
    {
      "cell_type": "markdown",
      "metadata": {
        "id": "LL3kCwMtwLnt"
      },
      "source": [
        "### Download dataset from Kaggle\n",
        "\n",
        "We'll be using the Real or Not? datset from Kaggle which contains text-based Tweets about natural disasters.\n",
        "\n",
        "The Real Tweets are actually about diasters, for example:\n",
        "'Jetstar and Virgin forced to cancel Bali flights again because of ash from Mount Raung volcano'\n",
        "\n",
        "The Not Real Tweets are Tweets not about diasters (they can be on anything), for example:\n",
        "'Education is the most powerful weapon which you can use to change the world.' Nelson #Mandela #quote\n"
      ]
    },
    {
      "cell_type": "code",
      "metadata": {
        "colab": {
          "base_uri": "https://localhost:8080/"
        },
        "id": "s-YhC_2NvwFG",
        "outputId": "c1ab71a5-e270-4bae-bc3c-cc418580fdee"
      },
      "source": [
        "!wget \"https://storage.googleapis.com/ztm_tf_course/nlp_getting_started.zip\"\n",
        "\n",
        "unzip_file(\"nlp_getting_started.zip\")"
      ],
      "execution_count": 72,
      "outputs": [
        {
          "output_type": "stream",
          "text": [
            "--2021-07-18 18:19:27--  https://storage.googleapis.com/ztm_tf_course/nlp_getting_started.zip\n",
            "Resolving storage.googleapis.com (storage.googleapis.com)... 173.194.213.128, 173.194.214.128, 173.194.215.128, ...\n",
            "Connecting to storage.googleapis.com (storage.googleapis.com)|173.194.213.128|:443... connected.\n",
            "HTTP request sent, awaiting response... 200 OK\n",
            "Length: 607343 (593K) [application/zip]\n",
            "Saving to: ‘nlp_getting_started.zip.1’\n",
            "\n",
            "\r          nlp_getti   0%[                    ]       0  --.-KB/s               \rnlp_getting_started 100%[===================>] 593.11K  --.-KB/s    in 0.006s  \n",
            "\n",
            "2021-07-18 18:19:27 (97.1 MB/s) - ‘nlp_getting_started.zip.1’ saved [607343/607343]\n",
            "\n"
          ],
          "name": "stdout"
        }
      ]
    },
    {
      "cell_type": "code",
      "metadata": {
        "id": "Gz3glX6CwSDj"
      },
      "source": [
        "df_test = pd.read_csv('/content/test.csv')\n",
        "df_train = pd.read_csv('/content/train.csv')"
      ],
      "execution_count": 73,
      "outputs": []
    },
    {
      "cell_type": "code",
      "metadata": {
        "colab": {
          "base_uri": "https://localhost:8080/",
          "height": 221
        },
        "id": "OqA7VzWRxB98",
        "outputId": "a26b5348-1fe3-41e3-c5c8-1848c8dab9d8"
      },
      "source": [
        "df_test.head()"
      ],
      "execution_count": 74,
      "outputs": [
        {
          "output_type": "execute_result",
          "data": {
            "text/html": [
              "<div>\n",
              "<style scoped>\n",
              "    .dataframe tbody tr th:only-of-type {\n",
              "        vertical-align: middle;\n",
              "    }\n",
              "\n",
              "    .dataframe tbody tr th {\n",
              "        vertical-align: top;\n",
              "    }\n",
              "\n",
              "    .dataframe thead th {\n",
              "        text-align: right;\n",
              "    }\n",
              "</style>\n",
              "<table border=\"1\" class=\"dataframe\">\n",
              "  <thead>\n",
              "    <tr style=\"text-align: right;\">\n",
              "      <th></th>\n",
              "      <th>id</th>\n",
              "      <th>keyword</th>\n",
              "      <th>location</th>\n",
              "      <th>text</th>\n",
              "    </tr>\n",
              "  </thead>\n",
              "  <tbody>\n",
              "    <tr>\n",
              "      <th>0</th>\n",
              "      <td>0</td>\n",
              "      <td>NaN</td>\n",
              "      <td>NaN</td>\n",
              "      <td>Just happened a terrible car crash</td>\n",
              "    </tr>\n",
              "    <tr>\n",
              "      <th>1</th>\n",
              "      <td>2</td>\n",
              "      <td>NaN</td>\n",
              "      <td>NaN</td>\n",
              "      <td>Heard about #earthquake is different cities, s...</td>\n",
              "    </tr>\n",
              "    <tr>\n",
              "      <th>2</th>\n",
              "      <td>3</td>\n",
              "      <td>NaN</td>\n",
              "      <td>NaN</td>\n",
              "      <td>there is a forest fire at spot pond, geese are...</td>\n",
              "    </tr>\n",
              "    <tr>\n",
              "      <th>3</th>\n",
              "      <td>9</td>\n",
              "      <td>NaN</td>\n",
              "      <td>NaN</td>\n",
              "      <td>Apocalypse lighting. #Spokane #wildfires</td>\n",
              "    </tr>\n",
              "    <tr>\n",
              "      <th>4</th>\n",
              "      <td>11</td>\n",
              "      <td>NaN</td>\n",
              "      <td>NaN</td>\n",
              "      <td>Typhoon Soudelor kills 28 in China and Taiwan</td>\n",
              "    </tr>\n",
              "  </tbody>\n",
              "</table>\n",
              "</div>"
            ],
            "text/plain": [
              "   id keyword location                                               text\n",
              "0   0     NaN      NaN                 Just happened a terrible car crash\n",
              "1   2     NaN      NaN  Heard about #earthquake is different cities, s...\n",
              "2   3     NaN      NaN  there is a forest fire at spot pond, geese are...\n",
              "3   9     NaN      NaN           Apocalypse lighting. #Spokane #wildfires\n",
              "4  11     NaN      NaN      Typhoon Soudelor kills 28 in China and Taiwan"
            ]
          },
          "metadata": {
            "tags": []
          },
          "execution_count": 74
        }
      ]
    },
    {
      "cell_type": "code",
      "metadata": {
        "colab": {
          "base_uri": "https://localhost:8080/",
          "height": 984
        },
        "id": "lrp-YytWFSyt",
        "outputId": "66d6ee7b-cc39-41d4-9d77-dbc44f9fe9ae"
      },
      "source": [
        "df_train.head(30)"
      ],
      "execution_count": 75,
      "outputs": [
        {
          "output_type": "execute_result",
          "data": {
            "text/html": [
              "<div>\n",
              "<style scoped>\n",
              "    .dataframe tbody tr th:only-of-type {\n",
              "        vertical-align: middle;\n",
              "    }\n",
              "\n",
              "    .dataframe tbody tr th {\n",
              "        vertical-align: top;\n",
              "    }\n",
              "\n",
              "    .dataframe thead th {\n",
              "        text-align: right;\n",
              "    }\n",
              "</style>\n",
              "<table border=\"1\" class=\"dataframe\">\n",
              "  <thead>\n",
              "    <tr style=\"text-align: right;\">\n",
              "      <th></th>\n",
              "      <th>id</th>\n",
              "      <th>keyword</th>\n",
              "      <th>location</th>\n",
              "      <th>text</th>\n",
              "      <th>target</th>\n",
              "    </tr>\n",
              "  </thead>\n",
              "  <tbody>\n",
              "    <tr>\n",
              "      <th>0</th>\n",
              "      <td>1</td>\n",
              "      <td>NaN</td>\n",
              "      <td>NaN</td>\n",
              "      <td>Our Deeds are the Reason of this #earthquake M...</td>\n",
              "      <td>1</td>\n",
              "    </tr>\n",
              "    <tr>\n",
              "      <th>1</th>\n",
              "      <td>4</td>\n",
              "      <td>NaN</td>\n",
              "      <td>NaN</td>\n",
              "      <td>Forest fire near La Ronge Sask. Canada</td>\n",
              "      <td>1</td>\n",
              "    </tr>\n",
              "    <tr>\n",
              "      <th>2</th>\n",
              "      <td>5</td>\n",
              "      <td>NaN</td>\n",
              "      <td>NaN</td>\n",
              "      <td>All residents asked to 'shelter in place' are ...</td>\n",
              "      <td>1</td>\n",
              "    </tr>\n",
              "    <tr>\n",
              "      <th>3</th>\n",
              "      <td>6</td>\n",
              "      <td>NaN</td>\n",
              "      <td>NaN</td>\n",
              "      <td>13,000 people receive #wildfires evacuation or...</td>\n",
              "      <td>1</td>\n",
              "    </tr>\n",
              "    <tr>\n",
              "      <th>4</th>\n",
              "      <td>7</td>\n",
              "      <td>NaN</td>\n",
              "      <td>NaN</td>\n",
              "      <td>Just got sent this photo from Ruby #Alaska as ...</td>\n",
              "      <td>1</td>\n",
              "    </tr>\n",
              "    <tr>\n",
              "      <th>5</th>\n",
              "      <td>8</td>\n",
              "      <td>NaN</td>\n",
              "      <td>NaN</td>\n",
              "      <td>#RockyFire Update =&gt; California Hwy. 20 closed...</td>\n",
              "      <td>1</td>\n",
              "    </tr>\n",
              "    <tr>\n",
              "      <th>6</th>\n",
              "      <td>10</td>\n",
              "      <td>NaN</td>\n",
              "      <td>NaN</td>\n",
              "      <td>#flood #disaster Heavy rain causes flash flood...</td>\n",
              "      <td>1</td>\n",
              "    </tr>\n",
              "    <tr>\n",
              "      <th>7</th>\n",
              "      <td>13</td>\n",
              "      <td>NaN</td>\n",
              "      <td>NaN</td>\n",
              "      <td>I'm on top of the hill and I can see a fire in...</td>\n",
              "      <td>1</td>\n",
              "    </tr>\n",
              "    <tr>\n",
              "      <th>8</th>\n",
              "      <td>14</td>\n",
              "      <td>NaN</td>\n",
              "      <td>NaN</td>\n",
              "      <td>There's an emergency evacuation happening now ...</td>\n",
              "      <td>1</td>\n",
              "    </tr>\n",
              "    <tr>\n",
              "      <th>9</th>\n",
              "      <td>15</td>\n",
              "      <td>NaN</td>\n",
              "      <td>NaN</td>\n",
              "      <td>I'm afraid that the tornado is coming to our a...</td>\n",
              "      <td>1</td>\n",
              "    </tr>\n",
              "    <tr>\n",
              "      <th>10</th>\n",
              "      <td>16</td>\n",
              "      <td>NaN</td>\n",
              "      <td>NaN</td>\n",
              "      <td>Three people died from the heat wave so far</td>\n",
              "      <td>1</td>\n",
              "    </tr>\n",
              "    <tr>\n",
              "      <th>11</th>\n",
              "      <td>17</td>\n",
              "      <td>NaN</td>\n",
              "      <td>NaN</td>\n",
              "      <td>Haha South Tampa is getting flooded hah- WAIT ...</td>\n",
              "      <td>1</td>\n",
              "    </tr>\n",
              "    <tr>\n",
              "      <th>12</th>\n",
              "      <td>18</td>\n",
              "      <td>NaN</td>\n",
              "      <td>NaN</td>\n",
              "      <td>#raining #flooding #Florida #TampaBay #Tampa 1...</td>\n",
              "      <td>1</td>\n",
              "    </tr>\n",
              "    <tr>\n",
              "      <th>13</th>\n",
              "      <td>19</td>\n",
              "      <td>NaN</td>\n",
              "      <td>NaN</td>\n",
              "      <td>#Flood in Bago Myanmar #We arrived Bago</td>\n",
              "      <td>1</td>\n",
              "    </tr>\n",
              "    <tr>\n",
              "      <th>14</th>\n",
              "      <td>20</td>\n",
              "      <td>NaN</td>\n",
              "      <td>NaN</td>\n",
              "      <td>Damage to school bus on 80 in multi car crash ...</td>\n",
              "      <td>1</td>\n",
              "    </tr>\n",
              "    <tr>\n",
              "      <th>15</th>\n",
              "      <td>23</td>\n",
              "      <td>NaN</td>\n",
              "      <td>NaN</td>\n",
              "      <td>What's up man?</td>\n",
              "      <td>0</td>\n",
              "    </tr>\n",
              "    <tr>\n",
              "      <th>16</th>\n",
              "      <td>24</td>\n",
              "      <td>NaN</td>\n",
              "      <td>NaN</td>\n",
              "      <td>I love fruits</td>\n",
              "      <td>0</td>\n",
              "    </tr>\n",
              "    <tr>\n",
              "      <th>17</th>\n",
              "      <td>25</td>\n",
              "      <td>NaN</td>\n",
              "      <td>NaN</td>\n",
              "      <td>Summer is lovely</td>\n",
              "      <td>0</td>\n",
              "    </tr>\n",
              "    <tr>\n",
              "      <th>18</th>\n",
              "      <td>26</td>\n",
              "      <td>NaN</td>\n",
              "      <td>NaN</td>\n",
              "      <td>My car is so fast</td>\n",
              "      <td>0</td>\n",
              "    </tr>\n",
              "    <tr>\n",
              "      <th>19</th>\n",
              "      <td>28</td>\n",
              "      <td>NaN</td>\n",
              "      <td>NaN</td>\n",
              "      <td>What a goooooooaaaaaal!!!!!!</td>\n",
              "      <td>0</td>\n",
              "    </tr>\n",
              "    <tr>\n",
              "      <th>20</th>\n",
              "      <td>31</td>\n",
              "      <td>NaN</td>\n",
              "      <td>NaN</td>\n",
              "      <td>this is ridiculous....</td>\n",
              "      <td>0</td>\n",
              "    </tr>\n",
              "    <tr>\n",
              "      <th>21</th>\n",
              "      <td>32</td>\n",
              "      <td>NaN</td>\n",
              "      <td>NaN</td>\n",
              "      <td>London is cool ;)</td>\n",
              "      <td>0</td>\n",
              "    </tr>\n",
              "    <tr>\n",
              "      <th>22</th>\n",
              "      <td>33</td>\n",
              "      <td>NaN</td>\n",
              "      <td>NaN</td>\n",
              "      <td>Love skiing</td>\n",
              "      <td>0</td>\n",
              "    </tr>\n",
              "    <tr>\n",
              "      <th>23</th>\n",
              "      <td>34</td>\n",
              "      <td>NaN</td>\n",
              "      <td>NaN</td>\n",
              "      <td>What a wonderful day!</td>\n",
              "      <td>0</td>\n",
              "    </tr>\n",
              "    <tr>\n",
              "      <th>24</th>\n",
              "      <td>36</td>\n",
              "      <td>NaN</td>\n",
              "      <td>NaN</td>\n",
              "      <td>LOOOOOOL</td>\n",
              "      <td>0</td>\n",
              "    </tr>\n",
              "    <tr>\n",
              "      <th>25</th>\n",
              "      <td>37</td>\n",
              "      <td>NaN</td>\n",
              "      <td>NaN</td>\n",
              "      <td>No way...I can't eat that shit</td>\n",
              "      <td>0</td>\n",
              "    </tr>\n",
              "    <tr>\n",
              "      <th>26</th>\n",
              "      <td>38</td>\n",
              "      <td>NaN</td>\n",
              "      <td>NaN</td>\n",
              "      <td>Was in NYC last week!</td>\n",
              "      <td>0</td>\n",
              "    </tr>\n",
              "    <tr>\n",
              "      <th>27</th>\n",
              "      <td>39</td>\n",
              "      <td>NaN</td>\n",
              "      <td>NaN</td>\n",
              "      <td>Love my girlfriend</td>\n",
              "      <td>0</td>\n",
              "    </tr>\n",
              "    <tr>\n",
              "      <th>28</th>\n",
              "      <td>40</td>\n",
              "      <td>NaN</td>\n",
              "      <td>NaN</td>\n",
              "      <td>Cooool :)</td>\n",
              "      <td>0</td>\n",
              "    </tr>\n",
              "    <tr>\n",
              "      <th>29</th>\n",
              "      <td>41</td>\n",
              "      <td>NaN</td>\n",
              "      <td>NaN</td>\n",
              "      <td>Do you like pasta?</td>\n",
              "      <td>0</td>\n",
              "    </tr>\n",
              "  </tbody>\n",
              "</table>\n",
              "</div>"
            ],
            "text/plain": [
              "    id keyword  ...                                               text target\n",
              "0    1     NaN  ...  Our Deeds are the Reason of this #earthquake M...      1\n",
              "1    4     NaN  ...             Forest fire near La Ronge Sask. Canada      1\n",
              "2    5     NaN  ...  All residents asked to 'shelter in place' are ...      1\n",
              "3    6     NaN  ...  13,000 people receive #wildfires evacuation or...      1\n",
              "4    7     NaN  ...  Just got sent this photo from Ruby #Alaska as ...      1\n",
              "5    8     NaN  ...  #RockyFire Update => California Hwy. 20 closed...      1\n",
              "6   10     NaN  ...  #flood #disaster Heavy rain causes flash flood...      1\n",
              "7   13     NaN  ...  I'm on top of the hill and I can see a fire in...      1\n",
              "8   14     NaN  ...  There's an emergency evacuation happening now ...      1\n",
              "9   15     NaN  ...  I'm afraid that the tornado is coming to our a...      1\n",
              "10  16     NaN  ...        Three people died from the heat wave so far      1\n",
              "11  17     NaN  ...  Haha South Tampa is getting flooded hah- WAIT ...      1\n",
              "12  18     NaN  ...  #raining #flooding #Florida #TampaBay #Tampa 1...      1\n",
              "13  19     NaN  ...            #Flood in Bago Myanmar #We arrived Bago      1\n",
              "14  20     NaN  ...  Damage to school bus on 80 in multi car crash ...      1\n",
              "15  23     NaN  ...                                     What's up man?      0\n",
              "16  24     NaN  ...                                      I love fruits      0\n",
              "17  25     NaN  ...                                   Summer is lovely      0\n",
              "18  26     NaN  ...                                  My car is so fast      0\n",
              "19  28     NaN  ...                       What a goooooooaaaaaal!!!!!!      0\n",
              "20  31     NaN  ...                             this is ridiculous....      0\n",
              "21  32     NaN  ...                                  London is cool ;)      0\n",
              "22  33     NaN  ...                                        Love skiing      0\n",
              "23  34     NaN  ...                              What a wonderful day!      0\n",
              "24  36     NaN  ...                                           LOOOOOOL      0\n",
              "25  37     NaN  ...                     No way...I can't eat that shit      0\n",
              "26  38     NaN  ...                              Was in NYC last week!      0\n",
              "27  39     NaN  ...                                 Love my girlfriend      0\n",
              "28  40     NaN  ...                                          Cooool :)      0\n",
              "29  41     NaN  ...                                 Do you like pasta?      0\n",
              "\n",
              "[30 rows x 5 columns]"
            ]
          },
          "metadata": {
            "tags": []
          },
          "execution_count": 75
        }
      ]
    },
    {
      "cell_type": "code",
      "metadata": {
        "colab": {
          "base_uri": "https://localhost:8080/"
        },
        "id": "FDw_b3Z3xD9r",
        "outputId": "32ea144e-db71-495d-ee84-99b731e5c748"
      },
      "source": [
        "len(df_test), len(df_train)"
      ],
      "execution_count": 76,
      "outputs": [
        {
          "output_type": "execute_result",
          "data": {
            "text/plain": [
              "(3263, 7613)"
            ]
          },
          "metadata": {
            "tags": []
          },
          "execution_count": 76
        }
      ]
    },
    {
      "cell_type": "code",
      "metadata": {
        "colab": {
          "base_uri": "https://localhost:8080/"
        },
        "id": "2VBaRO9O8R_-",
        "outputId": "ba646459-84ce-42b3-eefd-120e79583fc1"
      },
      "source": [
        "df_train.info()"
      ],
      "execution_count": 77,
      "outputs": [
        {
          "output_type": "stream",
          "text": [
            "<class 'pandas.core.frame.DataFrame'>\n",
            "RangeIndex: 7613 entries, 0 to 7612\n",
            "Data columns (total 5 columns):\n",
            " #   Column    Non-Null Count  Dtype \n",
            "---  ------    --------------  ----- \n",
            " 0   id        7613 non-null   int64 \n",
            " 1   keyword   7552 non-null   object\n",
            " 2   location  5080 non-null   object\n",
            " 3   text      7613 non-null   object\n",
            " 4   target    7613 non-null   int64 \n",
            "dtypes: int64(2), object(3)\n",
            "memory usage: 297.5+ KB\n"
          ],
          "name": "stdout"
        }
      ]
    },
    {
      "cell_type": "markdown",
      "metadata": {
        "id": "Go1rZzdnCnCJ"
      },
      "source": [
        "### Check the length of our twits"
      ]
    },
    {
      "cell_type": "code",
      "metadata": {
        "id": "FRzF1X06a_Rr"
      },
      "source": [
        "seq_len = [[len(i.split()), k] for i, k in zip(df_train.text, df_train.target)]"
      ],
      "execution_count": 80,
      "outputs": []
    },
    {
      "cell_type": "code",
      "metadata": {
        "id": "8lWlW0UJbCJ-"
      },
      "source": [
        "df_viz = pd.DataFrame(seq_len, columns = ['number_of_tokens', 'target'])"
      ],
      "execution_count": 81,
      "outputs": []
    },
    {
      "cell_type": "code",
      "metadata": {
        "colab": {
          "base_uri": "https://localhost:8080/",
          "height": 317
        },
        "id": "acrlh4DsbiOj",
        "outputId": "24d6c931-83d6-4aa5-d85e-5afc29b93a45"
      },
      "source": [
        "sns.histplot(df_viz, x = 'number_of_tokens', hue = 'target', multiple=\"dodge\")"
      ],
      "execution_count": 82,
      "outputs": [
        {
          "output_type": "execute_result",
          "data": {
            "text/plain": [
              "<matplotlib.axes._subplots.AxesSubplot at 0x7f24f9b08450>"
            ]
          },
          "metadata": {
            "tags": []
          },
          "execution_count": 82
        },
        {
          "output_type": "display_data",
          "data": {
            "image/png": "[encoded data removed]",
            "text/plain": [
              "<Figure size 432x288 with 1 Axes>"
            ]
          },
          "metadata": {
            "tags": [],
            "needs_background": "light"
          }
        }
      ]
    },
    {
      "cell_type": "code",
      "metadata": {
        "colab": {
          "base_uri": "https://localhost:8080/",
          "height": 302
        },
        "id": "4524OB5B_hbf",
        "outputId": "cfc488cc-4154-4b29-e3f4-66938b877965"
      },
      "source": [
        "seq_len = [len(i.split()) for i in df_test.text]\n",
        "sns.histplot(pd.Series(seq_len), )"
      ],
      "execution_count": 83,
      "outputs": [
        {
          "output_type": "execute_result",
          "data": {
            "text/plain": [
              "<matplotlib.axes._subplots.AxesSubplot at 0x7f24f5e36a50>"
            ]
          },
          "metadata": {
            "tags": []
          },
          "execution_count": 83
        },
        {
          "output_type": "display_data",
          "data": {
            "image/png": "[encoded data removed]",
            "text/plain": [
              "<Figure size 432x288 with 1 Axes>"
            ]
          },
          "metadata": {
            "tags": [],
            "needs_background": "light"
          }
        }
      ]
    },
    {
      "cell_type": "markdown",
      "metadata": {
        "id": "cTsHy_P5dHA0"
      },
      "source": [
        "### Shuffle our data "
      ]
    },
    {
      "cell_type": "code",
      "metadata": {
        "id": "MGGBtaEKD0vE"
      },
      "source": [
        "df_train = df_train.sample(frac=1, random_state=42)"
      ],
      "execution_count": 84,
      "outputs": []
    },
    {
      "cell_type": "markdown",
      "metadata": {
        "id": "5fHiOBSjH_nL"
      },
      "source": [
        "### Check if dataset is balanced"
      ]
    },
    {
      "cell_type": "code",
      "metadata": {
        "colab": {
          "base_uri": "https://localhost:8080/",
          "height": 316
        },
        "id": "j9Fx4lPGHky3",
        "outputId": "ea650832-2dc4-4418-9e0b-44a8c6b7c761"
      },
      "source": [
        "sns.histplot(df_train, x = 'target', hue = 'target', discrete=True, shrink=.8)"
      ],
      "execution_count": 85,
      "outputs": [
        {
          "output_type": "execute_result",
          "data": {
            "text/plain": [
              "<matplotlib.axes._subplots.AxesSubplot at 0x7f24f5f992d0>"
            ]
          },
          "metadata": {
            "tags": []
          },
          "execution_count": 85
        },
        {
          "output_type": "display_data",
          "data": {
            "image/png": "[encoded data removed]",
            "text/plain": [
              "<Figure size 432x288 with 1 Axes>"
            ]
          },
          "metadata": {
            "tags": [],
            "needs_background": "light"
          }
        }
      ]
    },
    {
      "cell_type": "markdown",
      "metadata": {
        "id": "T2IMPYOGJeYY"
      },
      "source": [
        "### Visualize random tweets\n"
      ]
    },
    {
      "cell_type": "code",
      "metadata": {
        "colab": {
          "base_uri": "https://localhost:8080/"
        },
        "id": "kgunbjpUILay",
        "outputId": "ef6419f5-84da-4dcf-b6ed-6bf2611979d1"
      },
      "source": [
        "import random\n",
        "random_index = random.randint(0, len(df_train)-5)\n",
        "for row in df_train[[\"text\", \"target\"]][random_index:random_index+5].itertuples():\n",
        "  _, text, target = row\n",
        "  print(f\"Target: {target}\", \"(real disaster)\" if target > 0 else \"(not real disaster)\")\n",
        "  print(f\"Text:\\n{text}\\n\")\n",
        "  print(\"---\\n\")"
      ],
      "execution_count": 86,
      "outputs": [
        {
          "output_type": "stream",
          "text": [
            "Target: 1 (real disaster)\n",
            "Text:\n",
            "#KCA #VoteJKT48ID 12News: UPDATE: A family of 3 has been displaced after fired damaged housed near 90th and Osborn. Fire extinguished no iÛ_\n",
            "\n",
            "---\n",
            "\n",
            "Target: 0 (not real disaster)\n",
            "Text:\n",
            "@local_arsonist I guess u can say that it's just some shit I was thinking about\n",
            "\n",
            "---\n",
            "\n",
            "Target: 0 (not real disaster)\n",
            "Text:\n",
            "#hot  Funtenna: hijacking computers to send data as sound waves [Black Hat 2015] http://t.co/G62txymzBv #prebreak #best\n",
            "\n",
            "---\n",
            "\n",
            "Target: 1 (real disaster)\n",
            "Text:\n",
            "NEMA Ekiti distributed relief materials to affected victims of Rain/Windstorm disaster at Ode-Ekiti in Gbonyin LGA.\n",
            "\n",
            "---\n",
            "\n",
            "Target: 1 (real disaster)\n",
            "Text:\n",
            "Grace: this is not your first ' storm' you know bicycles fences trees will fly as well as idiots drowning that go by swollen rivers...\n",
            "\n",
            "---\n",
            "\n"
          ],
          "name": "stdout"
        }
      ]
    },
    {
      "cell_type": "code",
      "metadata": {
        "id": "vpVjcVQoJycc"
      },
      "source": [
        "X_train, X_val, y_train, y_val = train_test_split(df_train.text.to_numpy(), df_train.target.to_numpy(), test_size = 0.1, random_state = 42)"
      ],
      "execution_count": 87,
      "outputs": []
    },
    {
      "cell_type": "code",
      "metadata": {
        "id": "3E_g12XtfHIR"
      },
      "source": [
        "X_test = df_test.text.to_numpy()"
      ],
      "execution_count": 88,
      "outputs": []
    },
    {
      "cell_type": "code",
      "metadata": {
        "colab": {
          "base_uri": "https://localhost:8080/"
        },
        "id": "CpRQ83faOUIO",
        "outputId": "767fd99d-1bc7-4e2c-93f9-b483e56bcaeb"
      },
      "source": [
        "X_train[:10], y_train[:10]"
      ],
      "execution_count": 89,
      "outputs": [
        {
          "output_type": "execute_result",
          "data": {
            "text/plain": [
              "(array(['@mogacola @zamtriossu i screamed after hitting tweet',\n",
              "        'Imagine getting flattened by Kurt Zouma',\n",
              "        '@Gurmeetramrahim #MSGDoing111WelfareWorks Green S welfare force ke appx 65000 members har time disaster victim ki help ke liye tyar hai....',\n",
              "        \"@shakjn @C7 @Magnums im shaking in fear he's gonna hack the planet\",\n",
              "        'Somehow find you and I collide http://t.co/Ee8RpOahPk',\n",
              "        '@EvaHanderek @MarleyKnysh great times until the bus driver held us hostage in the mall parking lot lmfao',\n",
              "        'destroy the free fandom honestly',\n",
              "        'Weapons stolen from National Guard Armory in New Albany still missing #Gunsense http://t.co/lKNU8902JE',\n",
              "        '@wfaaweather Pete when will the heat wave pass? Is it really going to be mid month? Frisco Boy Scouts have a canoe trip in Okla.',\n",
              "        'Patient-reported outcomes in long-term survivors of metastatic colorectal cancer - British Journal of Surgery http://t.co/5Yl4DC1Tqt'],\n",
              "       dtype=object), array([0, 0, 1, 0, 0, 1, 1, 0, 1, 1]))"
            ]
          },
          "metadata": {
            "tags": []
          },
          "execution_count": 89
        }
      ]
    },
    {
      "cell_type": "markdown",
      "metadata": {
        "id": "4OoL-s-VbLcj"
      },
      "source": [
        "### Remove links to the accounts, html links, numbers"
      ]
    },
    {
      "cell_type": "code",
      "metadata": {
        "id": "H2Tl5DkEbToh"
      },
      "source": [
        "def remove_links(X):\n",
        "  X_ = []\n",
        "  for text in X:\n",
        "    text = re.sub(r'@\\w+', '', text)\n",
        "    text = re.sub(r'http://.+\\s*', '', text)\n",
        "    text = re.sub(r'https://.+\\s*', '', text)\n",
        "    text = re.sub(r'\\d+', '', text)\n",
        "    X_.append(text)\n",
        "  return X_"
      ],
      "execution_count": 90,
      "outputs": []
    },
    {
      "cell_type": "code",
      "metadata": {
        "id": "NuMNE4HKev57"
      },
      "source": [
        "X_train = remove_links(X_train)\n",
        "X_val = remove_links(X_val)\n",
        "X_test = remove_links(X_test)"
      ],
      "execution_count": 91,
      "outputs": []
    },
    {
      "cell_type": "code",
      "metadata": {
        "colab": {
          "base_uri": "https://localhost:8080/"
        },
        "id": "ehTeVA1pfXyZ",
        "outputId": "a6a1c861-b2d2-4b90-ec95-204b4ff5a0ff"
      },
      "source": [
        "X_train[:10]"
      ],
      "execution_count": 92,
      "outputs": [
        {
          "output_type": "execute_result",
          "data": {
            "text/plain": [
              "['  i screamed after hitting tweet',\n",
              " 'Imagine getting flattened by Kurt Zouma',\n",
              " ' #MSGDoingWelfareWorks Green S welfare force ke appx  members har time disaster victim ki help ke liye tyar hai....',\n",
              " \"   im shaking in fear he's gonna hack the planet\",\n",
              " 'Somehow find you and I collide ',\n",
              " '  great times until the bus driver held us hostage in the mall parking lot lmfao',\n",
              " 'destroy the free fandom honestly',\n",
              " 'Weapons stolen from National Guard Armory in New Albany still missing #Gunsense ',\n",
              " ' Pete when will the heat wave pass? Is it really going to be mid month? Frisco Boy Scouts have a canoe trip in Okla.',\n",
              " 'Patient-reported outcomes in long-term survivors of metastatic colorectal cancer - British Journal of Surgery ']"
            ]
          },
          "metadata": {
            "tags": []
          },
          "execution_count": 92
        }
      ]
    },
    {
      "cell_type": "code",
      "metadata": {
        "colab": {
          "base_uri": "https://localhost:8080/",
          "height": 302
        },
        "id": "mCoAwNAcUYfT",
        "outputId": "9599fb63-ceb5-4c8b-ca40-7c5ad5fcb5b1"
      },
      "source": [
        "seq_len = [len(i.split()) for i in X_test]\n",
        "sns.histplot(pd.Series(seq_len))"
      ],
      "execution_count": 93,
      "outputs": [
        {
          "output_type": "execute_result",
          "data": {
            "text/plain": [
              "<matplotlib.axes._subplots.AxesSubplot at 0x7f24f5d5e8d0>"
            ]
          },
          "metadata": {
            "tags": []
          },
          "execution_count": 93
        },
        {
          "output_type": "display_data",
          "data": {
            "image/png": "[encoded data removed]",
            "text/plain": [
              "<Figure size 432x288 with 1 Axes>"
            ]
          },
          "metadata": {
            "tags": [],
            "needs_background": "light"
          }
        }
      ]
    },
    {
      "cell_type": "markdown",
      "metadata": {
        "id": "eT3rG_nHR9UB"
      },
      "source": [
        "### Convert text to numbers"
      ]
    },
    {
      "cell_type": "code",
      "metadata": {
        "id": "X-iAkty5ObeX"
      },
      "source": [
        "from tensorflow.keras.layers.experimental.preprocessing import TextVectorization"
      ],
      "execution_count": 94,
      "outputs": []
    },
    {
      "cell_type": "code",
      "metadata": {
        "id": "v0PdQm-xSm6I"
      },
      "source": [
        "tokens = 30 # Sequence length to pad the outputs to. I choose max length\n",
        "vocab_length = 10000 # Maximum vocab size"
      ],
      "execution_count": 95,
      "outputs": []
    },
    {
      "cell_type": "code",
      "metadata": {
        "id": "MF4ofyrWSqmD"
      },
      "source": [
        "#Create vectorization layer\n",
        "text_vect = TextVectorization(max_tokens = vocab_length, \n",
        "                              standardize = 'lower_and_strip_punctuation', \n",
        "                              ngrams = None, \n",
        "                              split = 'whitespace',\n",
        "                              output_sequence_length = tokens, \n",
        "                              pad_to_max_tokens=False, \n",
        "                              vocabulary=None,\n",
        "                              output_mode = 'int')"
      ],
      "execution_count": 96,
      "outputs": []
    },
    {
      "cell_type": "code",
      "metadata": {
        "id": "9JKziCREgEyj"
      },
      "source": [
        "text_vect.adapt(X_train)"
      ],
      "execution_count": 97,
      "outputs": []
    },
    {
      "cell_type": "code",
      "metadata": {
        "colab": {
          "base_uri": "https://localhost:8080/"
        },
        "id": "oZmrd5CmVHXM",
        "outputId": "794dc17d-ef79-45e4-d91f-54edacc382c8"
      },
      "source": [
        "text_vect([' great times until the bus driver held us hostage in the mall parking lot lmfao'])"
      ],
      "execution_count": 98,
      "outputs": [
        {
          "output_type": "execute_result",
          "data": {
            "text/plain": [
              "<tf.Tensor: shape=(1, 30), dtype=int64, numpy=\n",
              "array([[ 184,  238,  290,    2,  355,  860, 1986,   67,  493,    4,    2,\n",
              "        2717, 2654,  486, 2734,    0,    0,    0,    0,    0,    0,    0,\n",
              "           0,    0,    0,    0,    0,    0,    0,    0]])>"
            ]
          },
          "metadata": {
            "tags": []
          },
          "execution_count": 98
        }
      ]
    },
    {
      "cell_type": "markdown",
      "metadata": {
        "id": "eR_l9zQmWKAI"
      },
      "source": [
        "### Get unique words in sentences (vocab)"
      ]
    },
    {
      "cell_type": "code",
      "metadata": {
        "colab": {
          "base_uri": "https://localhost:8080/"
        },
        "id": "ElwDlTpAVgwg",
        "outputId": "6e4f423e-0ec3-4eaa-eadc-e5137c2c71bb"
      },
      "source": [
        "text_vect.vocabulary_size()"
      ],
      "execution_count": 99,
      "outputs": [
        {
          "output_type": "execute_result",
          "data": {
            "text/plain": [
              "10000"
            ]
          },
          "metadata": {
            "tags": []
          },
          "execution_count": 99
        }
      ]
    },
    {
      "cell_type": "code",
      "metadata": {
        "id": "Npx5Bc9pWaqW"
      },
      "source": [
        "words_in_vocab = text_vect.get_vocabulary()"
      ],
      "execution_count": 100,
      "outputs": []
    },
    {
      "cell_type": "code",
      "metadata": {
        "colab": {
          "base_uri": "https://localhost:8080/"
        },
        "id": "yyOLWI0MWlES",
        "outputId": "f9df0ac8-9bbc-446c-92f1-1304b284eca0"
      },
      "source": [
        "words_in_vocab[:5]"
      ],
      "execution_count": 101,
      "outputs": [
        {
          "output_type": "execute_result",
          "data": {
            "text/plain": [
              "['', '[UNK]', 'the', 'a', 'in']"
            ]
          },
          "metadata": {
            "tags": []
          },
          "execution_count": 101
        }
      ]
    },
    {
      "cell_type": "code",
      "metadata": {
        "colab": {
          "base_uri": "https://localhost:8080/"
        },
        "id": "YDJlMcnXWp4D",
        "outputId": "52beca95-b530-446a-eae0-77dde99c1151"
      },
      "source": [
        "words_in_vocab[-5:]"
      ],
      "execution_count": 102,
      "outputs": [
        {
          "output_type": "execute_result",
          "data": {
            "text/plain": [
              "['kebabtahinipickles', 'kdr', 'kcrw', 'kckh', 'kc']"
            ]
          },
          "metadata": {
            "tags": []
          },
          "execution_count": 102
        }
      ]
    },
    {
      "cell_type": "markdown",
      "metadata": {
        "id": "54zuxSGCYMjs"
      },
      "source": [
        "### Create embedding\n",
        "\n",
        "Turns positive integers (indexes) into dense vectors of fixed size.\n",
        "\n",
        "https://www.tensorflow.org/api_docs/python/tf/keras/layers/Embedding\n",
        "\n",
        "`tf.keras.layers.Embedding(\n",
        "    input_dim, output_dim, embeddings_initializer='uniform',\n",
        "    embeddings_regularizer=None, activity_regularizer=None,\n",
        "    embeddings_constraint=None, mask_zero=False, input_length=None, **kwargs\n",
        ")`\n",
        "\n",
        "This layer can only be used as the first layer in a model."
      ]
    },
    {
      "cell_type": "code",
      "metadata": {
        "id": "YoKhV1AFX9mP"
      },
      "source": [
        "from tensorflow.keras.layers import Embedding"
      ],
      "execution_count": 103,
      "outputs": []
    },
    {
      "cell_type": "code",
      "metadata": {
        "id": "NvT0EsYPZIea"
      },
      "source": [
        "embedding = Embedding(input_dim = vocab_length,\n",
        "                      output_dim = 128, #better if can divide by 6\n",
        "                      embeddings_initializer='uniform', \n",
        "                      embeddings_regularizer=None, \n",
        "                      activity_regularizer=None, \n",
        "                      embeddings_constraint=None, \n",
        "                      mask_zero = False, \n",
        "                      input_length = tokens)"
      ],
      "execution_count": 104,
      "outputs": []
    },
    {
      "cell_type": "code",
      "metadata": {
        "colab": {
          "base_uri": "https://localhost:8080/"
        },
        "id": "EKj-93ueZzeE",
        "outputId": "11b02c16-06b5-4616-e64c-117de9218cd0"
      },
      "source": [
        "random_tweet = random.choice(X_train)\n",
        "print(f'Original: {random_tweet}\\n')\n",
        "print(f'Vectorized: {text_vect([random_tweet])}\\n')\n",
        "print(f'Embedded: {embedding(text_vect([random_tweet]))}')"
      ],
      "execution_count": 105,
      "outputs": [
        {
          "output_type": "stream",
          "text": [
            "Original: Cop pulls drunk driver to safety SECONDS before his car is hit by train. \n",
            "\n",
            "Vectorized: [[2042 2606 1250  860    5 1009 1526  228   75  129    9  231   18  115\n",
            "     0    0    0    0    0    0    0    0    0    0    0    0    0    0\n",
            "     0    0]]\n",
            "\n",
            "Embedded: [[[-0.00819391 -0.04944763  0.04360486 ...  0.03443612 -0.0379647\n",
            "   -0.00624881]\n",
            "  [-0.01250126 -0.04934352 -0.00232862 ...  0.04342916  0.03702369\n",
            "   -0.03390565]\n",
            "  [-0.01750424 -0.01120593  0.01293334 ... -0.03632288 -0.01328503\n",
            "   -0.01161413]\n",
            "  ...\n",
            "  [-0.04303074 -0.003202   -0.01064591 ... -0.01452629  0.01022334\n",
            "    0.00773042]\n",
            "  [-0.04303074 -0.003202   -0.01064591 ... -0.01452629  0.01022334\n",
            "    0.00773042]\n",
            "  [-0.04303074 -0.003202   -0.01064591 ... -0.01452629  0.01022334\n",
            "    0.00773042]]]\n"
          ],
          "name": "stdout"
        }
      ]
    },
    {
      "cell_type": "code",
      "metadata": {
        "colab": {
          "base_uri": "https://localhost:8080/"
        },
        "id": "E3njgIfpdRU2",
        "outputId": "729538df-c5ff-48fc-bbe3-622574e80933"
      },
      "source": [
        "embedding(text_vect([random_tweet])).shape"
      ],
      "execution_count": 106,
      "outputs": [
        {
          "output_type": "execute_result",
          "data": {
            "text/plain": [
              "TensorShape([1, 30, 128])"
            ]
          },
          "metadata": {
            "tags": []
          },
          "execution_count": 106
        }
      ]
    },
    {
      "cell_type": "markdown",
      "metadata": {
        "id": "bh-jYR_zcr0b"
      },
      "source": [
        "Now that we've got a way to turn our text data into numbers, we can start to build machine learning models to model it.\n",
        "\n",
        "\n",
        "To get plenty of practice, we're going to build a series of different models, each as its own experiment. We'll then compare the results of each model and see which one performed best.\n",
        "\n",
        "\n",
        "More specifically, we'll be building the following:\n",
        "\n",
        "\n",
        "- Model 0: Naive Bayes (baseline)\n",
        "- Model 1: Feed-forward neural network (dense model)\n",
        "- Model 2: LSTM model\n",
        "- Model 3: GRU model\n",
        "- Model 4: Bidirectional-LSTM model\n",
        "- Model 5: 1D Convolutional Neural Network\n",
        "- Model 6: TensorFlow Hub Pretrained Feature Extractor\n",
        "- Model 7: Same as model 6 with 10% of training data"
      ]
    },
    {
      "cell_type": "markdown",
      "metadata": {
        "id": "mz42AvTff0Fe"
      },
      "source": [
        "### Model 0: Naive Bayes (baseline)"
      ]
    },
    {
      "cell_type": "code",
      "metadata": {
        "id": "OYG9pddtayUf"
      },
      "source": [
        "from sklearn.feature_extraction.text import CountVectorizer, TfidfTransformer\n",
        "from sklearn.naive_bayes import MultinomialNB\n",
        "from sklearn.pipeline import Pipeline\n",
        "from sklearn.metrics import accuracy_score, precision_score, recall_score, f1_score, confusion_matrix, precision_recall_fscore_support"
      ],
      "execution_count": 107,
      "outputs": []
    },
    {
      "cell_type": "code",
      "metadata": {
        "id": "Cg9Xsu3Glmuo"
      },
      "source": [
        "model_0 = Pipeline([('vect', CountVectorizer()),\n",
        "                    ('tfidf', TfidfTransformer()),\n",
        "                    ('mnb', MultinomialNB())])"
      ],
      "execution_count": 108,
      "outputs": []
    },
    {
      "cell_type": "code",
      "metadata": {
        "colab": {
          "base_uri": "https://localhost:8080/"
        },
        "id": "WDJLQaXnguW2",
        "outputId": "1d10faf8-991c-4594-ef9a-09f787b53dd1"
      },
      "source": [
        "model_0.fit(X_train, y_train)"
      ],
      "execution_count": 109,
      "outputs": [
        {
          "output_type": "execute_result",
          "data": {
            "text/plain": [
              "Pipeline(memory=None,\n",
              "         steps=[('vect',\n",
              "                 CountVectorizer(analyzer='word', binary=False,\n",
              "                                 decode_error='strict',\n",
              "                                 dtype=<class 'numpy.int64'>, encoding='utf-8',\n",
              "                                 input='content', lowercase=True, max_df=1.0,\n",
              "                                 max_features=None, min_df=1,\n",
              "                                 ngram_range=(1, 1), preprocessor=None,\n",
              "                                 stop_words=None, strip_accents=None,\n",
              "                                 token_pattern='(?u)\\\\b\\\\w\\\\w+\\\\b',\n",
              "                                 tokenizer=None, vocabulary=None)),\n",
              "                ('tfidf',\n",
              "                 TfidfTransformer(norm='l2', smooth_idf=True,\n",
              "                                  sublinear_tf=False, use_idf=True)),\n",
              "                ('mnb',\n",
              "                 MultinomialNB(alpha=1.0, class_prior=None, fit_prior=True))],\n",
              "         verbose=False)"
            ]
          },
          "metadata": {
            "tags": []
          },
          "execution_count": 109
        }
      ]
    },
    {
      "cell_type": "code",
      "metadata": {
        "id": "-TpqdxVTh5IO"
      },
      "source": [
        "base_pred = model_0.predict(X_val)"
      ],
      "execution_count": 110,
      "outputs": []
    },
    {
      "cell_type": "code",
      "metadata": {
        "colab": {
          "base_uri": "https://localhost:8080/"
        },
        "id": "lnLRd9V5ie3-",
        "outputId": "6c0db993-11db-48f0-8acb-69cd9e588375"
      },
      "source": [
        "base_val_accuracy = accuracy_score(y_val, base_pred )\n",
        "base_val_accuracy"
      ],
      "execution_count": 111,
      "outputs": [
        {
          "output_type": "execute_result",
          "data": {
            "text/plain": [
              "0.7965879265091863"
            ]
          },
          "metadata": {
            "tags": []
          },
          "execution_count": 111
        }
      ]
    },
    {
      "cell_type": "code",
      "metadata": {
        "colab": {
          "base_uri": "https://localhost:8080/"
        },
        "id": "H0pgavIhjhpW",
        "outputId": "aa639e8e-5088-404e-eeaa-4fe5fd053915"
      },
      "source": [
        "base_val_precision = precision_score(y_val, base_pred )\n",
        "base_val_precision"
      ],
      "execution_count": 112,
      "outputs": [
        {
          "output_type": "execute_result",
          "data": {
            "text/plain": [
              "0.8844621513944223"
            ]
          },
          "metadata": {
            "tags": []
          },
          "execution_count": 112
        }
      ]
    },
    {
      "cell_type": "markdown",
      "metadata": {
        "id": "3A9N-hTiipzF"
      },
      "source": [
        "#### Save results to results_df"
      ]
    },
    {
      "cell_type": "code",
      "metadata": {
        "id": "qW5T_66UinHd"
      },
      "source": [
        "results_df = pd.DataFrame(columns = ['num_experiment','model_name', 'accuracy_score', 'precision', 'racall', 'f-1_score'])"
      ],
      "execution_count": 113,
      "outputs": []
    },
    {
      "cell_type": "code",
      "metadata": {
        "id": "5KQCJ9n_naRb"
      },
      "source": [
        "def write_result(y_pred, model_name, y_val = y_val):\n",
        "  global results_df\n",
        "  #another way\n",
        "  # precision, racall, f1_score, _ = precision_recall_fscore_support(y_val, y_pred, average = 'weights')\n",
        "  results_df.loc[len(results_df)] = [len(results_df),\n",
        "                                     model_name, \n",
        "                                     accuracy_score(y_val, y_pred), \n",
        "                                     precision_score(y_val, y_pred),\n",
        "                                     recall_score(y_val, y_pred),\n",
        "                                     f1_score(y_val, y_pred)\n",
        "                                     ]"
      ],
      "execution_count": 114,
      "outputs": []
    },
    {
      "cell_type": "code",
      "metadata": {
        "id": "m8krEnB7i4ha"
      },
      "source": [
        "write_result(base_pred, 'base_naive_bayes')"
      ],
      "execution_count": 115,
      "outputs": []
    },
    {
      "cell_type": "code",
      "metadata": {
        "colab": {
          "base_uri": "https://localhost:8080/",
          "height": 100
        },
        "id": "AZbpG44aj1Z-",
        "outputId": "7a8891d4-d948-4a9e-e533-b73b784d2570"
      },
      "source": [
        "results_df"
      ],
      "execution_count": 116,
      "outputs": [
        {
          "output_type": "execute_result",
          "data": {
            "text/html": [
              "<div>\n",
              "<style scoped>\n",
              "    .dataframe tbody tr th:only-of-type {\n",
              "        vertical-align: middle;\n",
              "    }\n",
              "\n",
              "    .dataframe tbody tr th {\n",
              "        vertical-align: top;\n",
              "    }\n",
              "\n",
              "    .dataframe thead th {\n",
              "        text-align: right;\n",
              "    }\n",
              "</style>\n",
              "<table border=\"1\" class=\"dataframe\">\n",
              "  <thead>\n",
              "    <tr style=\"text-align: right;\">\n",
              "      <th></th>\n",
              "      <th>num_experiment</th>\n",
              "      <th>model_name</th>\n",
              "      <th>accuracy_score</th>\n",
              "      <th>precision</th>\n",
              "      <th>racall</th>\n",
              "      <th>f-1_score</th>\n",
              "    </tr>\n",
              "  </thead>\n",
              "  <tbody>\n",
              "    <tr>\n",
              "      <th>0</th>\n",
              "      <td>0</td>\n",
              "      <td>base_naive_bayes</td>\n",
              "      <td>0.796588</td>\n",
              "      <td>0.884462</td>\n",
              "      <td>0.637931</td>\n",
              "      <td>0.741235</td>\n",
              "    </tr>\n",
              "  </tbody>\n",
              "</table>\n",
              "</div>"
            ],
            "text/plain": [
              "  num_experiment        model_name  ...    racall  f-1_score\n",
              "0              0  base_naive_bayes  ...  0.637931   0.741235\n",
              "\n",
              "[1 rows x 6 columns]"
            ]
          },
          "metadata": {
            "tags": []
          },
          "execution_count": 116
        }
      ]
    },
    {
      "cell_type": "code",
      "metadata": {
        "id": "wHnwznbij7Qt"
      },
      "source": [
        "base_conf_matr = confusion_matrix(y_val, base_pred)"
      ],
      "execution_count": 117,
      "outputs": []
    },
    {
      "cell_type": "code",
      "metadata": {
        "colab": {
          "base_uri": "https://localhost:8080/"
        },
        "id": "zB0uXhT3T7fO",
        "outputId": "b7b5c05b-9a3d-49ae-8ec6-da06c3c04285"
      },
      "source": [
        "base_conf_matr"
      ],
      "execution_count": 118,
      "outputs": [
        {
          "output_type": "execute_result",
          "data": {
            "text/plain": [
              "array([[385,  29],\n",
              "       [126, 222]])"
            ]
          },
          "metadata": {
            "tags": []
          },
          "execution_count": 118
        }
      ]
    },
    {
      "cell_type": "markdown",
      "metadata": {
        "id": "HipofVAKcJGt"
      },
      "source": [
        "### Model1: Feed-forward neural network (dense model)"
      ]
    },
    {
      "cell_type": "markdown",
      "metadata": {
        "id": "xdOL1s6sckxQ"
      },
      "source": [
        "#### Create Tensorflow Board callback"
      ]
    },
    {
      "cell_type": "code",
      "metadata": {
        "id": "RYwo7Ol4UH21"
      },
      "source": [
        "DIR = 'model_logs'\n",
        "#create_tf_board_callback()"
      ],
      "execution_count": 119,
      "outputs": []
    },
    {
      "cell_type": "code",
      "metadata": {
        "id": "O-AZzhnFeDpi"
      },
      "source": [
        "inputs = Input(shape = (1,), dtype=tf.string)\n",
        "x = text_vect(inputs)\n",
        "x = embedding(x)\n",
        "x = Flatten()(x)\n",
        "x = Dense(64, activation='relu')(x)\n",
        "outputs =  Dense(1, activation='sigmoid')(x)\n",
        "model_1 = Model(inputs, outputs)"
      ],
      "execution_count": 120,
      "outputs": []
    },
    {
      "cell_type": "code",
      "metadata": {
        "id": "FB9vreCLeYhA"
      },
      "source": [
        "model_1.compile(optimizer='adam', metrics='accuracy', loss = 'binary_crossentropy')"
      ],
      "execution_count": 121,
      "outputs": []
    },
    {
      "cell_type": "code",
      "metadata": {
        "colab": {
          "base_uri": "https://localhost:8080/"
        },
        "id": "KOZ8vKtpDMGj",
        "outputId": "e63dfce1-92f4-4a69-89bc-852aed8184ac"
      },
      "source": [
        "model_1.summary()"
      ],
      "execution_count": 122,
      "outputs": [
        {
          "output_type": "stream",
          "text": [
            "Model: \"model\"\n",
            "_________________________________________________________________\n",
            "Layer (type)                 Output Shape              Param #   \n",
            "=================================================================\n",
            "input_1 (InputLayer)         [(None, 1)]               0         \n",
            "_________________________________________________________________\n",
            "text_vectorization (TextVect (None, 30)                0         \n",
            "_________________________________________________________________\n",
            "embedding (Embedding)        (None, 30, 128)           1280000   \n",
            "_________________________________________________________________\n",
            "flatten (Flatten)            (None, 3840)              0         \n",
            "_________________________________________________________________\n",
            "dense_3 (Dense)              (None, 64)                245824    \n",
            "_________________________________________________________________\n",
            "dense_4 (Dense)              (None, 1)                 65        \n",
            "=================================================================\n",
            "Total params: 1,525,889\n",
            "Trainable params: 1,525,889\n",
            "Non-trainable params: 0\n",
            "_________________________________________________________________\n"
          ],
          "name": "stdout"
        }
      ]
    },
    {
      "cell_type": "code",
      "metadata": {
        "colab": {
          "base_uri": "https://localhost:8080/"
        },
        "id": "nm9ngzk7elVv",
        "outputId": "356121bf-30ed-4864-9bda-6c7b613df533"
      },
      "source": [
        "history_1 = model_1.fit(tf.constant(X_train), y_train, \n",
        "             epochs = 5,\n",
        "            validation_data = (tf.constant(X_val), y_val),\n",
        "            callbacks = create_tf_board_callback(DIR, 'model_1_base_dense'))"
      ],
      "execution_count": 123,
      "outputs": [
        {
          "output_type": "stream",
          "text": [
            "Saving TensorBoard log files to model_logs/model_1_base_dense/20210718-181932\n",
            "Epoch 1/5\n",
            "215/215 [==============================] - 6s 23ms/step - loss: 0.5475 - accuracy: 0.7224 - val_loss: 0.4964 - val_accuracy: 0.7703\n",
            "Epoch 2/5\n",
            "215/215 [==============================] - 4s 20ms/step - loss: 0.2613 - accuracy: 0.9035 - val_loss: 0.5794 - val_accuracy: 0.7677\n",
            "Epoch 3/5\n",
            "215/215 [==============================] - 4s 20ms/step - loss: 0.1230 - accuracy: 0.9615 - val_loss: 0.6133 - val_accuracy: 0.7651\n",
            "Epoch 4/5\n",
            "215/215 [==============================] - 4s 20ms/step - loss: 0.0927 - accuracy: 0.9673 - val_loss: 0.6663 - val_accuracy: 0.7598\n",
            "Epoch 5/5\n",
            "215/215 [==============================] - 4s 20ms/step - loss: 0.0756 - accuracy: 0.9723 - val_loss: 0.7083 - val_accuracy: 0.7546\n"
          ],
          "name": "stdout"
        }
      ]
    },
    {
      "cell_type": "code",
      "metadata": {
        "id": "epV6vahJAnpL"
      },
      "source": [
        "prob_1 = model_1.predict(tf.constant(X_val))"
      ],
      "execution_count": 124,
      "outputs": []
    },
    {
      "cell_type": "code",
      "metadata": {
        "colab": {
          "base_uri": "https://localhost:8080/"
        },
        "id": "nLkRPhswA0zX",
        "outputId": "5d38f9c9-d7c5-4255-f5dc-0f4f56ece08c"
      },
      "source": [
        "prob_1.shape"
      ],
      "execution_count": 125,
      "outputs": [
        {
          "output_type": "execute_result",
          "data": {
            "text/plain": [
              "(762, 1)"
            ]
          },
          "metadata": {
            "tags": []
          },
          "execution_count": 125
        }
      ]
    },
    {
      "cell_type": "code",
      "metadata": {
        "id": "-RFSvDfaB36c"
      },
      "source": [
        "pred_1 = tf.round(tf.squeeze(prob_1))"
      ],
      "execution_count": 126,
      "outputs": []
    },
    {
      "cell_type": "code",
      "metadata": {
        "colab": {
          "base_uri": "https://localhost:8080/"
        },
        "id": "t6wPFF58Cepk",
        "outputId": "139593d6-d380-44aa-e3d1-5b82d89d728b"
      },
      "source": [
        "pred_1[:10], y_val[:10]"
      ],
      "execution_count": 127,
      "outputs": [
        {
          "output_type": "execute_result",
          "data": {
            "text/plain": [
              "(<tf.Tensor: shape=(10,), dtype=float32, numpy=array([1., 1., 1., 0., 0., 1., 1., 1., 1., 0.], dtype=float32)>,\n",
              " array([0, 0, 1, 1, 1, 1, 1, 1, 1, 0]))"
            ]
          },
          "metadata": {
            "tags": []
          },
          "execution_count": 127
        }
      ]
    },
    {
      "cell_type": "code",
      "metadata": {
        "id": "4nMRMQE0CqWg"
      },
      "source": [
        "write_result(pred_1, 'base_dense_model_1')"
      ],
      "execution_count": 128,
      "outputs": []
    },
    {
      "cell_type": "code",
      "metadata": {
        "colab": {
          "base_uri": "https://localhost:8080/",
          "height": 130
        },
        "id": "hI87KHAWC4HB",
        "outputId": "bdc55cf7-01cb-48d5-858c-c5ace914b579"
      },
      "source": [
        "results_df"
      ],
      "execution_count": 129,
      "outputs": [
        {
          "output_type": "execute_result",
          "data": {
            "text/html": [
              "<div>\n",
              "<style scoped>\n",
              "    .dataframe tbody tr th:only-of-type {\n",
              "        vertical-align: middle;\n",
              "    }\n",
              "\n",
              "    .dataframe tbody tr th {\n",
              "        vertical-align: top;\n",
              "    }\n",
              "\n",
              "    .dataframe thead th {\n",
              "        text-align: right;\n",
              "    }\n",
              "</style>\n",
              "<table border=\"1\" class=\"dataframe\">\n",
              "  <thead>\n",
              "    <tr style=\"text-align: right;\">\n",
              "      <th></th>\n",
              "      <th>num_experiment</th>\n",
              "      <th>model_name</th>\n",
              "      <th>accuracy_score</th>\n",
              "      <th>precision</th>\n",
              "      <th>racall</th>\n",
              "      <th>f-1_score</th>\n",
              "    </tr>\n",
              "  </thead>\n",
              "  <tbody>\n",
              "    <tr>\n",
              "      <th>0</th>\n",
              "      <td>0</td>\n",
              "      <td>base_naive_bayes</td>\n",
              "      <td>0.796588</td>\n",
              "      <td>0.884462</td>\n",
              "      <td>0.637931</td>\n",
              "      <td>0.741235</td>\n",
              "    </tr>\n",
              "    <tr>\n",
              "      <th>1</th>\n",
              "      <td>1</td>\n",
              "      <td>base_dense_model_1</td>\n",
              "      <td>0.754593</td>\n",
              "      <td>0.778547</td>\n",
              "      <td>0.646552</td>\n",
              "      <td>0.706436</td>\n",
              "    </tr>\n",
              "  </tbody>\n",
              "</table>\n",
              "</div>"
            ],
            "text/plain": [
              "  num_experiment          model_name  ...    racall  f-1_score\n",
              "0              0    base_naive_bayes  ...  0.637931   0.741235\n",
              "1              1  base_dense_model_1  ...  0.646552   0.706436\n",
              "\n",
              "[2 rows x 6 columns]"
            ]
          },
          "metadata": {
            "tags": []
          },
          "execution_count": 129
        }
      ]
    },
    {
      "cell_type": "code",
      "metadata": {
        "colab": {
          "base_uri": "https://localhost:8080/"
        },
        "id": "wk_zZJb3BvjE",
        "outputId": "fbbdea7a-4026-4145-b450-705e00b270b2"
      },
      "source": [
        "model1_conf_matr = confusion_matrix(y_val, pred_1)\n",
        "model1_conf_matr"
      ],
      "execution_count": 130,
      "outputs": [
        {
          "output_type": "execute_result",
          "data": {
            "text/plain": [
              "array([[350,  64],\n",
              "       [123, 225]])"
            ]
          },
          "metadata": {
            "tags": []
          },
          "execution_count": 130
        }
      ]
    },
    {
      "cell_type": "code",
      "metadata": {
        "colab": {
          "base_uri": "https://localhost:8080/"
        },
        "id": "zQ2Uhqt-D_e_",
        "outputId": "2a1a6038-43ed-48a5-cca1-71d6ec689147"
      },
      "source": [
        "base_conf_matr"
      ],
      "execution_count": 131,
      "outputs": [
        {
          "output_type": "execute_result",
          "data": {
            "text/plain": [
              "array([[385,  29],\n",
              "       [126, 222]])"
            ]
          },
          "metadata": {
            "tags": []
          },
          "execution_count": 131
        }
      ]
    },
    {
      "cell_type": "markdown",
      "metadata": {
        "id": "BGDiyjdulKx4"
      },
      "source": [
        "#### Build base model as in tutorial: add GlobalAveragePooling1D() and remove Dense(128) 5 epochs"
      ]
    },
    {
      "cell_type": "code",
      "metadata": {
        "id": "T-Raopcxlgrc"
      },
      "source": [
        "from tensorflow.keras import backend as K"
      ],
      "execution_count": 132,
      "outputs": []
    },
    {
      "cell_type": "code",
      "metadata": {
        "id": "cQeVJbTClydd"
      },
      "source": [
        "K.clear_session()"
      ],
      "execution_count": 133,
      "outputs": []
    },
    {
      "cell_type": "code",
      "metadata": {
        "id": "v9SYBEz4je3j"
      },
      "source": [
        "#I replace Flatten layer to GAP, run for 5 epochs \n",
        "inputs = Input(shape = (1,), dtype=tf.string)\n",
        "x = text_vect(inputs)\n",
        "x = embedding(x)\n",
        "x = GlobalAveragePooling1D()(x) \n",
        "x = Dense(64, activation='relu')(x)\n",
        "outputs = Dense(1, activation='sigmoid')(x)"
      ],
      "execution_count": 134,
      "outputs": []
    },
    {
      "cell_type": "code",
      "metadata": {
        "id": "3iyVd7uIl7tc"
      },
      "source": [
        "model_1_2 = Model(inputs, outputs)"
      ],
      "execution_count": 135,
      "outputs": []
    },
    {
      "cell_type": "code",
      "metadata": {
        "id": "qwRPoCCymGxt"
      },
      "source": [
        "model_1_2.compile(optimizer='adam', metrics='accuracy', loss = 'binary_crossentropy')"
      ],
      "execution_count": 136,
      "outputs": []
    },
    {
      "cell_type": "code",
      "metadata": {
        "colab": {
          "base_uri": "https://localhost:8080/"
        },
        "id": "OGdPSC4Nm89D",
        "outputId": "d83e5ba6-c8b9-4679-813a-2afe65480157"
      },
      "source": [
        "model_1_2.summary()"
      ],
      "execution_count": 137,
      "outputs": [
        {
          "output_type": "stream",
          "text": [
            "Model: \"model\"\n",
            "_________________________________________________________________\n",
            "Layer (type)                 Output Shape              Param #   \n",
            "=================================================================\n",
            "input_1 (InputLayer)         [(None, 1)]               0         \n",
            "_________________________________________________________________\n",
            "text_vectorization (TextVect (None, 30)                0         \n",
            "_________________________________________________________________\n",
            "embedding (Embedding)        (None, 30, 128)           1280000   \n",
            "_________________________________________________________________\n",
            "global_average_pooling1d (Gl (None, 128)               0         \n",
            "_________________________________________________________________\n",
            "dense (Dense)                (None, 64)                8256      \n",
            "_________________________________________________________________\n",
            "dense_1 (Dense)              (None, 1)                 65        \n",
            "=================================================================\n",
            "Total params: 1,288,321\n",
            "Trainable params: 1,288,321\n",
            "Non-trainable params: 0\n",
            "_________________________________________________________________\n"
          ],
          "name": "stdout"
        }
      ]
    },
    {
      "cell_type": "code",
      "metadata": {
        "colab": {
          "base_uri": "https://localhost:8080/"
        },
        "id": "6mu7d1WYmKeB",
        "outputId": "e485b67a-8c24-4463-acad-ef6ad07b94bd"
      },
      "source": [
        "history_1_2 = model_1_2.fit(tf.constant(X_train), y_train,\n",
        "                        epochs = 5,\n",
        "                        validation_data = (tf.constant(X_val), y_val),\n",
        "                        callbacks = create_tf_board_callback(DIR, 'model_1_2_dense'))"
      ],
      "execution_count": 138,
      "outputs": [
        {
          "output_type": "stream",
          "text": [
            "Saving TensorBoard log files to model_logs/model_1_2_dense/20210718-182014\n",
            "Epoch 1/5\n",
            "215/215 [==============================] - 5s 20ms/step - loss: 0.4841 - accuracy: 0.8066 - val_loss: 0.4675 - val_accuracy: 0.7953\n",
            "Epoch 2/5\n",
            "215/215 [==============================] - 4s 18ms/step - loss: 0.2855 - accuracy: 0.8878 - val_loss: 0.4873 - val_accuracy: 0.7900\n",
            "Epoch 3/5\n",
            "215/215 [==============================] - 4s 18ms/step - loss: 0.2116 - accuracy: 0.9199 - val_loss: 0.5476 - val_accuracy: 0.7808\n",
            "Epoch 4/5\n",
            "215/215 [==============================] - 4s 18ms/step - loss: 0.1628 - accuracy: 0.9394 - val_loss: 0.6147 - val_accuracy: 0.7585\n",
            "Epoch 5/5\n",
            "215/215 [==============================] - 4s 17ms/step - loss: 0.1336 - accuracy: 0.9501 - val_loss: 0.6731 - val_accuracy: 0.7664\n"
          ],
          "name": "stdout"
        }
      ]
    },
    {
      "cell_type": "code",
      "metadata": {
        "id": "c3xsDUhvxRiB"
      },
      "source": [
        "prob_1_2 = model_1_2.predict(tf.constant(X_val))"
      ],
      "execution_count": 139,
      "outputs": []
    },
    {
      "cell_type": "code",
      "metadata": {
        "colab": {
          "base_uri": "https://localhost:8080/"
        },
        "id": "_PGN4t21xanP",
        "outputId": "8fa72af8-81ac-48c3-bbf6-32a5b7e3b177"
      },
      "source": [
        "prob_1_2.shape"
      ],
      "execution_count": 140,
      "outputs": [
        {
          "output_type": "execute_result",
          "data": {
            "text/plain": [
              "(762, 1)"
            ]
          },
          "metadata": {
            "tags": []
          },
          "execution_count": 140
        }
      ]
    },
    {
      "cell_type": "code",
      "metadata": {
        "id": "erNBeqbOxxMK"
      },
      "source": [
        "pred_1_2 = np.round(prob_1_2).flatten()"
      ],
      "execution_count": 141,
      "outputs": []
    },
    {
      "cell_type": "code",
      "metadata": {
        "colab": {
          "base_uri": "https://localhost:8080/"
        },
        "id": "hqnbIPf6yEWn",
        "outputId": "dc784836-1cce-4568-9897-8e2087d0f09c"
      },
      "source": [
        "pred_1_2[:10], y_val[:10]"
      ],
      "execution_count": 142,
      "outputs": [
        {
          "output_type": "execute_result",
          "data": {
            "text/plain": [
              "(array([0., 1., 1., 0., 0., 1., 1., 1., 1., 1.], dtype=float32),\n",
              " array([0, 0, 1, 1, 1, 1, 1, 1, 1, 0]))"
            ]
          },
          "metadata": {
            "tags": []
          },
          "execution_count": 142
        }
      ]
    },
    {
      "cell_type": "code",
      "metadata": {
        "id": "j4NnoAI0yLA5"
      },
      "source": [
        "write_result(pred_1_2, 'simple_dense_model_1_2')"
      ],
      "execution_count": 143,
      "outputs": []
    },
    {
      "cell_type": "code",
      "metadata": {
        "colab": {
          "base_uri": "https://localhost:8080/",
          "height": 160
        },
        "id": "iQE0ovJVz0ul",
        "outputId": "22086e5b-8bf1-4858-b0b2-d55005ff6e95"
      },
      "source": [
        "results_df"
      ],
      "execution_count": 144,
      "outputs": [
        {
          "output_type": "execute_result",
          "data": {
            "text/html": [
              "<div>\n",
              "<style scoped>\n",
              "    .dataframe tbody tr th:only-of-type {\n",
              "        vertical-align: middle;\n",
              "    }\n",
              "\n",
              "    .dataframe tbody tr th {\n",
              "        vertical-align: top;\n",
              "    }\n",
              "\n",
              "    .dataframe thead th {\n",
              "        text-align: right;\n",
              "    }\n",
              "</style>\n",
              "<table border=\"1\" class=\"dataframe\">\n",
              "  <thead>\n",
              "    <tr style=\"text-align: right;\">\n",
              "      <th></th>\n",
              "      <th>num_experiment</th>\n",
              "      <th>model_name</th>\n",
              "      <th>accuracy_score</th>\n",
              "      <th>precision</th>\n",
              "      <th>racall</th>\n",
              "      <th>f-1_score</th>\n",
              "    </tr>\n",
              "  </thead>\n",
              "  <tbody>\n",
              "    <tr>\n",
              "      <th>0</th>\n",
              "      <td>0</td>\n",
              "      <td>base_naive_bayes</td>\n",
              "      <td>0.796588</td>\n",
              "      <td>0.884462</td>\n",
              "      <td>0.637931</td>\n",
              "      <td>0.741235</td>\n",
              "    </tr>\n",
              "    <tr>\n",
              "      <th>1</th>\n",
              "      <td>1</td>\n",
              "      <td>base_dense_model_1</td>\n",
              "      <td>0.754593</td>\n",
              "      <td>0.778547</td>\n",
              "      <td>0.646552</td>\n",
              "      <td>0.706436</td>\n",
              "    </tr>\n",
              "    <tr>\n",
              "      <th>2</th>\n",
              "      <td>2</td>\n",
              "      <td>simple_dense_model_1_2</td>\n",
              "      <td>0.766404</td>\n",
              "      <td>0.760736</td>\n",
              "      <td>0.712644</td>\n",
              "      <td>0.735905</td>\n",
              "    </tr>\n",
              "  </tbody>\n",
              "</table>\n",
              "</div>"
            ],
            "text/plain": [
              "  num_experiment              model_name  ...    racall  f-1_score\n",
              "0              0        base_naive_bayes  ...  0.637931   0.741235\n",
              "1              1      base_dense_model_1  ...  0.646552   0.706436\n",
              "2              2  simple_dense_model_1_2  ...  0.712644   0.735905\n",
              "\n",
              "[3 rows x 6 columns]"
            ]
          },
          "metadata": {
            "tags": []
          },
          "execution_count": 144
        }
      ]
    },
    {
      "cell_type": "code",
      "metadata": {
        "colab": {
          "base_uri": "https://localhost:8080/"
        },
        "id": "kclRvm9gDwlP",
        "outputId": "d77b9b57-d52e-4b1f-c0f8-f1188121058b"
      },
      "source": [
        "model1_2_conf_matr = confusion_matrix(y_val, pred_1_2)\n",
        "model1_2_conf_matr"
      ],
      "execution_count": 145,
      "outputs": [
        {
          "output_type": "execute_result",
          "data": {
            "text/plain": [
              "array([[336,  78],\n",
              "       [100, 248]])"
            ]
          },
          "metadata": {
            "tags": []
          },
          "execution_count": 145
        }
      ]
    },
    {
      "cell_type": "code",
      "metadata": {
        "colab": {
          "base_uri": "https://localhost:8080/"
        },
        "id": "ayH46_0RD4jL",
        "outputId": "075eb793-8b40-414d-f134-acf9491be107"
      },
      "source": [
        "base_conf_matr"
      ],
      "execution_count": 146,
      "outputs": [
        {
          "output_type": "execute_result",
          "data": {
            "text/plain": [
              "array([[385,  29],\n",
              "       [126, 222]])"
            ]
          },
          "metadata": {
            "tags": []
          },
          "execution_count": 146
        }
      ]
    },
    {
      "cell_type": "markdown",
      "metadata": {
        "id": "-PUnFgITE0gO"
      },
      "source": [
        "### Visualise learned Embedding"
      ]
    },
    {
      "cell_type": "code",
      "metadata": {
        "colab": {
          "base_uri": "https://localhost:8080/"
        },
        "id": "xPuIkaBoz34X",
        "outputId": "631c711b-929d-4075-cdc1-e270801cd52e"
      },
      "source": [
        "model_1_2.summary()"
      ],
      "execution_count": 147,
      "outputs": [
        {
          "output_type": "stream",
          "text": [
            "Model: \"model\"\n",
            "_________________________________________________________________\n",
            "Layer (type)                 Output Shape              Param #   \n",
            "=================================================================\n",
            "input_1 (InputLayer)         [(None, 1)]               0         \n",
            "_________________________________________________________________\n",
            "text_vectorization (TextVect (None, 30)                0         \n",
            "_________________________________________________________________\n",
            "embedding (Embedding)        (None, 30, 128)           1280000   \n",
            "_________________________________________________________________\n",
            "global_average_pooling1d (Gl (None, 128)               0         \n",
            "_________________________________________________________________\n",
            "dense (Dense)                (None, 64)                8256      \n",
            "_________________________________________________________________\n",
            "dense_1 (Dense)              (None, 1)                 65        \n",
            "=================================================================\n",
            "Total params: 1,288,321\n",
            "Trainable params: 1,288,321\n",
            "Non-trainable params: 0\n",
            "_________________________________________________________________\n"
          ],
          "name": "stdout"
        }
      ]
    },
    {
      "cell_type": "code",
      "metadata": {
        "colab": {
          "base_uri": "https://localhost:8080/"
        },
        "id": "2iQdBGZ-KokG",
        "outputId": "3f357fb5-0a33-4de6-d733-97f58beaed62"
      },
      "source": [
        "# Get the vocabulary from the text vectorization layer\n",
        "words_in_vocab = text_vect.get_vocabulary()\n",
        "len(words_in_vocab), words_in_vocab[:10]"
      ],
      "execution_count": 148,
      "outputs": [
        {
          "output_type": "execute_result",
          "data": {
            "text/plain": [
              "(10000, ['', '[UNK]', 'the', 'a', 'in', 'to', 'of', 'i', 'and', 'is'])"
            ]
          },
          "metadata": {
            "tags": []
          },
          "execution_count": 148
        }
      ]
    },
    {
      "cell_type": "code",
      "metadata": {
        "id": "-ESkM1CyJXxb"
      },
      "source": [
        "embed_weights = model_1_2.get_layer('embedding').get_weights()[0]"
      ],
      "execution_count": 149,
      "outputs": []
    },
    {
      "cell_type": "code",
      "metadata": {
        "colab": {
          "base_uri": "https://localhost:8080/"
        },
        "id": "5CzLW2QkJniS",
        "outputId": "2bd4ff97-ac93-4027-ac42-16d16292df62"
      },
      "source": [
        "embed_weights"
      ],
      "execution_count": 150,
      "outputs": [
        {
          "output_type": "execute_result",
          "data": {
            "text/plain": [
              "array([[-0.02608325,  0.00899968, -0.03775078, ..., -0.05280675,\n",
              "         0.00655089, -0.00026329],\n",
              "       [-0.02868187, -0.02993948, -0.0846602 , ..., -0.0738945 ,\n",
              "        -0.01157874, -0.00718066],\n",
              "       [-0.09699412, -0.04173055, -0.05894978, ..., -0.02827577,\n",
              "        -0.03849116, -0.01960803],\n",
              "       ...,\n",
              "       [ 0.02420943, -0.09614508, -0.02678978, ...,  0.05754858,\n",
              "        -0.07618024, -0.06824715],\n",
              "       [ 0.02830743, -0.08649892,  0.02320611, ...,  0.04361049,\n",
              "        -0.07540054, -0.08066202],\n",
              "       [-0.03301301,  0.08612832, -0.05993679, ..., -0.02410746,\n",
              "         0.00147512, -0.00212138]], dtype=float32)"
            ]
          },
          "metadata": {
            "tags": []
          },
          "execution_count": 150
        }
      ]
    },
    {
      "cell_type": "markdown",
      "metadata": {
        "id": "ueqvkq8gKa5-"
      },
      "source": [
        "Now we've got these two objects, we can use the Embedding Projector tool to visualize our embedding.\n",
        "\n",
        "To use the Embedding Projector tool, we need two files:\n",
        "- The embedding vectors (same as embedding weights).\n",
        "- The meta data of the embedding vectors (the words they represent - our vocabulary).\n",
        "\n",
        "Right now, we've got of these files as Python objects. To download them to file, we're going to use the code example available on the TensorFlow word embeddings tutorial page.\n",
        "\n",
        "https://www.tensorflow.org/tutorials/text/word_embeddings#retrieve_the_trained_word_embeddings_and_save_them_to_disk"
      ]
    },
    {
      "cell_type": "code",
      "metadata": {
        "id": "l3uiXwvjJpk7"
      },
      "source": [
        "import io\n",
        "out_v = io.open('vectors.tsv', 'w', encoding='utf-8')\n",
        "out_m = io.open('metadata.tsv', 'w', encoding='utf-8')\n",
        "\n",
        "for index, word in enumerate(words_in_vocab):\n",
        "  if index == 0:\n",
        "    continue  # skip 0, it's padding.\n",
        "  vec = embed_weights[index]\n",
        "  out_v.write('\\t'.join([str(x) for x in vec]) + \"\\n\")\n",
        "  out_m.write(word + \"\\n\")\n",
        "out_v.close()\n",
        "out_m.close()"
      ],
      "execution_count": 151,
      "outputs": []
    },
    {
      "cell_type": "code",
      "metadata": {
        "colab": {
          "base_uri": "https://localhost:8080/",
          "height": 81
        },
        "id": "yIHV7_yhL51j",
        "outputId": "7574a0df-bbeb-49e1-cb4d-fc79bfb384a1"
      },
      "source": [
        "try:\n",
        "  from google.colab import files\n",
        "  files.download('vectors.tsv')\n",
        "  files.download('metadata.tsv')\n",
        "except Exception:\n",
        "  pass"
      ],
      "execution_count": 152,
      "outputs": [
        {
          "output_type": "display_data",
          "data": {
            "application/javascript": [
              "\n",
              "    async function download(id, filename, size) {\n",
              "      if (!google.colab.kernel.accessAllowed) {\n",
              "        return;\n",
              "      }\n",
              "      const div = document.createElement('div');\n",
              "      const label = document.createElement('label');\n",
              "      label.textContent = `Downloading \"${filename}\": `;\n",
              "      div.appendChild(label);\n",
              "      const progress = document.createElement('progress');\n",
              "      progress.max = size;\n",
              "      div.appendChild(progress);\n",
              "      document.body.appendChild(div);\n",
              "\n",
              "      const buffers = [];\n",
              "      let downloaded = 0;\n",
              "\n",
              "      const channel = await google.colab.kernel.comms.open(id);\n",
              "      // Send a message to notify the kernel that we're ready.\n",
              "      channel.send({})\n",
              "\n",
              "      for await (const message of channel.messages) {\n",
              "        // Send a message to notify the kernel that we're ready.\n",
              "        channel.send({})\n",
              "        if (message.buffers) {\n",
              "          for (const buffer of message.buffers) {\n",
              "            buffers.push(buffer);\n",
              "            downloaded += buffer.byteLength;\n",
              "            progress.value = downloaded;\n",
              "          }\n",
              "        }\n",
              "      }\n",
              "      const blob = new Blob(buffers, {type: 'application/binary'});\n",
              "      const a = document.createElement('a');\n",
              "      a.href = window.URL.createObjectURL(blob);\n",
              "      a.download = filename;\n",
              "      div.appendChild(a);\n",
              "      a.click();\n",
              "      div.remove();\n",
              "    }\n",
              "  "
            ],
            "text/plain": [
              "<IPython.core.display.Javascript object>"
            ]
          },
          "metadata": {
            "tags": []
          }
        },
        {
          "output_type": "display_data",
          "data": {
            "application/javascript": [
              "download(\"download_1b42ad3b-f99f-4eb6-93a5-f523af3e44bd\", \"vectors.tsv\", 15441925)"
            ],
            "text/plain": [
              "<IPython.core.display.Javascript object>"
            ]
          },
          "metadata": {
            "tags": []
          }
        },
        {
          "output_type": "display_data",
          "data": {
            "application/javascript": [
              "\n",
              "    async function download(id, filename, size) {\n",
              "      if (!google.colab.kernel.accessAllowed) {\n",
              "        return;\n",
              "      }\n",
              "      const div = document.createElement('div');\n",
              "      const label = document.createElement('label');\n",
              "      label.textContent = `Downloading \"${filename}\": `;\n",
              "      div.appendChild(label);\n",
              "      const progress = document.createElement('progress');\n",
              "      progress.max = size;\n",
              "      div.appendChild(progress);\n",
              "      document.body.appendChild(div);\n",
              "\n",
              "      const buffers = [];\n",
              "      let downloaded = 0;\n",
              "\n",
              "      const channel = await google.colab.kernel.comms.open(id);\n",
              "      // Send a message to notify the kernel that we're ready.\n",
              "      channel.send({})\n",
              "\n",
              "      for await (const message of channel.messages) {\n",
              "        // Send a message to notify the kernel that we're ready.\n",
              "        channel.send({})\n",
              "        if (message.buffers) {\n",
              "          for (const buffer of message.buffers) {\n",
              "            buffers.push(buffer);\n",
              "            downloaded += buffer.byteLength;\n",
              "            progress.value = downloaded;\n",
              "          }\n",
              "        }\n",
              "      }\n",
              "      const blob = new Blob(buffers, {type: 'application/binary'});\n",
              "      const a = document.createElement('a');\n",
              "      a.href = window.URL.createObjectURL(blob);\n",
              "      a.download = filename;\n",
              "      div.appendChild(a);\n",
              "      a.click();\n",
              "      div.remove();\n",
              "    }\n",
              "  "
            ],
            "text/plain": [
              "<IPython.core.display.Javascript object>"
            ]
          },
          "metadata": {
            "tags": []
          }
        },
        {
          "output_type": "display_data",
          "data": {
            "application/javascript": [
              "download(\"download_12fc7308-2e81-4b19-b3e1-7bb27de937ba\", \"metadata.tsv\", 77832)"
            ],
            "text/plain": [
              "<IPython.core.display.Javascript object>"
            ]
          },
          "metadata": {
            "tags": []
          }
        }
      ]
    },
    {
      "cell_type": "markdown",
      "metadata": {
        "id": "bgBWFcL5Y8fr"
      },
      "source": [
        "## Recurrent Neural Networks\n",
        "\n",
        "The premise of an RNN is simple: use information from the past to help you with the future (this is where the term recurrent comes from). In other words, take an input (X) and compute an output (y) based on all previous inputs.\n",
        "\n",
        "This concept is especially helpful when dealing with sequences such as passages of natural language text (such as our Tweets).\n",
        "For example, when you read this sentence, you take into context the previous words when deciphering the meaning of the current word.\n",
        "\n",
        "When an RNN looks at a sequence of text (already in numerical form), the patterns it learns are continually updated based on the order of the sequence.\n",
        "\n",
        "For a simple example, take two sentences:\n",
        "Massive earthquake last week, no?\n",
        "No massive earthquake last week.\n",
        "Both contain exactly the same words but have different meaning. The order of the words determines the meaning (one could argue punctuation marks also dictate the meaning but for simplicity sake, let's stay focused on the words).\n",
        "\n",
        "Recurrent neural networks can be used for a number of sequence-based problems:\n",
        "- One to one: one input, one output, such as image classification.\n",
        "- One to many: one input, many outputs, such as image captioning (image input, a sequence of text as caption output).\n",
        "- Many to one: many inputs, one outputs, such as text classification (classifying a Tweet as real diaster or not real diaster).\n",
        "- Many to many: many inputs, many outputs, such as machine translation (translating English to Spanish) or speech to text (audio wave as input, text as output).\n",
        "\n",
        "When you come across RNN's in the wild, you'll most likely come across variants of the following:\n",
        "- Long short-term memory cells (LSTMs).\n",
        "- Gated recurrent units (GRUs).\n",
        "- Bidirectional RNN's (passes forward and backward along a sequence, left to right and right to left)."
      ]
    },
    {
      "cell_type": "markdown",
      "metadata": {
        "id": "zxXfbuLvdiNp"
      },
      "source": [
        "### Model2 LSTM\n",
        "`Input (text) -> Tokenize -> Embedding -> Layers -> Output (label probability)\n",
        "`"
      ]
    },
    {
      "cell_type": "code",
      "metadata": {
        "id": "g-0rHmoId5eS"
      },
      "source": [
        "K.clear_session()"
      ],
      "execution_count": 153,
      "outputs": []
    },
    {
      "cell_type": "code",
      "metadata": {
        "id": "5NNaKIDlMKwK"
      },
      "source": [
        "inputs = Input(shape = (1,), dtype = tf.string)\n",
        "x = text_vect(inputs)\n",
        "x = embedding(x)\n",
        "x = LSTM(units = 64, return_sequences=True)(x)\n",
        "x = LSTM(64)(x)\n",
        "x = Dense(64, activation='relu')(x)\n",
        "outputs = Dense(1, activation='sigmoid')(x)"
      ],
      "execution_count": 154,
      "outputs": []
    },
    {
      "cell_type": "code",
      "metadata": {
        "id": "dUHHEPZQfxXZ"
      },
      "source": [
        "model_2 = Model(inputs, outputs)"
      ],
      "execution_count": 155,
      "outputs": []
    },
    {
      "cell_type": "code",
      "metadata": {
        "id": "z0XU_awOf2Iy"
      },
      "source": [
        "model_2.compile(optimizer='adam', metrics='accuracy', loss = 'binary_crossentropy')"
      ],
      "execution_count": 156,
      "outputs": []
    },
    {
      "cell_type": "code",
      "metadata": {
        "colab": {
          "base_uri": "https://localhost:8080/"
        },
        "id": "lnIQYDTRgHFj",
        "outputId": "671df147-47a4-47aa-ddc7-8f51d0b053fa"
      },
      "source": [
        "model_2.summary()"
      ],
      "execution_count": 157,
      "outputs": [
        {
          "output_type": "stream",
          "text": [
            "Model: \"model\"\n",
            "_________________________________________________________________\n",
            "Layer (type)                 Output Shape              Param #   \n",
            "=================================================================\n",
            "input_1 (InputLayer)         [(None, 1)]               0         \n",
            "_________________________________________________________________\n",
            "text_vectorization (TextVect (None, 30)                0         \n",
            "_________________________________________________________________\n",
            "embedding (Embedding)        (None, 30, 128)           1280000   \n",
            "_________________________________________________________________\n",
            "lstm (LSTM)                  (None, 30, 64)            49408     \n",
            "_________________________________________________________________\n",
            "lstm_1 (LSTM)                (None, 64)                33024     \n",
            "_________________________________________________________________\n",
            "dense (Dense)                (None, 64)                4160      \n",
            "_________________________________________________________________\n",
            "dense_1 (Dense)              (None, 1)                 65        \n",
            "=================================================================\n",
            "Total params: 1,366,657\n",
            "Trainable params: 1,366,657\n",
            "Non-trainable params: 0\n",
            "_________________________________________________________________\n"
          ],
          "name": "stdout"
        }
      ]
    },
    {
      "cell_type": "code",
      "metadata": {
        "colab": {
          "base_uri": "https://localhost:8080/"
        },
        "id": "WknKG5iegJDO",
        "outputId": "010e6b16-4d1e-4ec5-89a5-d7310abc355d"
      },
      "source": [
        "history_2 = model_2.fit(tf.constant(X_train), y_train,\n",
        "                        epochs = 5,\n",
        "                        validation_data = (tf.constant(X_val), y_val),\n",
        "                        callbacks = create_tf_board_callback(DIR, 'model_2_LSTM'))"
      ],
      "execution_count": 158,
      "outputs": [
        {
          "output_type": "stream",
          "text": [
            "Saving TensorBoard log files to model_logs/model_2_LSTM/20210718-182037\n",
            "Epoch 1/5\n",
            "215/215 [==============================] - 18s 66ms/step - loss: 0.1967 - accuracy: 0.9296 - val_loss: 0.8176 - val_accuracy: 0.7730\n",
            "Epoch 2/5\n",
            "215/215 [==============================] - 13s 58ms/step - loss: 0.1152 - accuracy: 0.9590 - val_loss: 0.8235 - val_accuracy: 0.7756\n",
            "Epoch 3/5\n",
            "215/215 [==============================] - 13s 59ms/step - loss: 0.0991 - accuracy: 0.9638 - val_loss: 0.8395 - val_accuracy: 0.7612\n",
            "Epoch 4/5\n",
            "215/215 [==============================] - 13s 59ms/step - loss: 0.0936 - accuracy: 0.9663 - val_loss: 0.8935 - val_accuracy: 0.7690\n",
            "Epoch 5/5\n",
            "215/215 [==============================] - 13s 58ms/step - loss: 0.1117 - accuracy: 0.9602 - val_loss: 0.9966 - val_accuracy: 0.7730\n"
          ],
          "name": "stdout"
        }
      ]
    },
    {
      "cell_type": "code",
      "metadata": {
        "id": "b8yRYUNtkplC"
      },
      "source": [
        "prob_2 = model_2.predict(tf.constant(X_val))"
      ],
      "execution_count": 159,
      "outputs": []
    },
    {
      "cell_type": "code",
      "metadata": {
        "colab": {
          "base_uri": "https://localhost:8080/"
        },
        "id": "rCxFF8idkplE",
        "outputId": "5468beb6-8b84-4b87-98d6-0e67d0841f17"
      },
      "source": [
        "prob_2.shape"
      ],
      "execution_count": 160,
      "outputs": [
        {
          "output_type": "execute_result",
          "data": {
            "text/plain": [
              "(762, 1)"
            ]
          },
          "metadata": {
            "tags": []
          },
          "execution_count": 160
        }
      ]
    },
    {
      "cell_type": "code",
      "metadata": {
        "id": "5RfCzyJmkplF"
      },
      "source": [
        "pred_2 = np.round(prob_2).flatten()"
      ],
      "execution_count": 161,
      "outputs": []
    },
    {
      "cell_type": "code",
      "metadata": {
        "colab": {
          "base_uri": "https://localhost:8080/"
        },
        "id": "rBC64gD7kplG",
        "outputId": "b0974e35-a4c4-42cf-f4cd-30f33a5c6865"
      },
      "source": [
        "pred_2[:10], y_val[:10]"
      ],
      "execution_count": 162,
      "outputs": [
        {
          "output_type": "execute_result",
          "data": {
            "text/plain": [
              "(array([0., 1., 1., 0., 0., 1., 1., 1., 1., 0.], dtype=float32),\n",
              " array([0, 0, 1, 1, 1, 1, 1, 1, 1, 0]))"
            ]
          },
          "metadata": {
            "tags": []
          },
          "execution_count": 162
        }
      ]
    },
    {
      "cell_type": "code",
      "metadata": {
        "id": "JjRi6Pp6kplG"
      },
      "source": [
        "write_result(pred_2, 'LSTM_model_2')"
      ],
      "execution_count": 163,
      "outputs": []
    },
    {
      "cell_type": "code",
      "metadata": {
        "colab": {
          "base_uri": "https://localhost:8080/",
          "height": 191
        },
        "id": "9EKNrfUPkplH",
        "outputId": "d5443eed-3159-4763-a9cc-0babb63f71b5"
      },
      "source": [
        "results_df"
      ],
      "execution_count": 164,
      "outputs": [
        {
          "output_type": "execute_result",
          "data": {
            "text/html": [
              "<div>\n",
              "<style scoped>\n",
              "    .dataframe tbody tr th:only-of-type {\n",
              "        vertical-align: middle;\n",
              "    }\n",
              "\n",
              "    .dataframe tbody tr th {\n",
              "        vertical-align: top;\n",
              "    }\n",
              "\n",
              "    .dataframe thead th {\n",
              "        text-align: right;\n",
              "    }\n",
              "</style>\n",
              "<table border=\"1\" class=\"dataframe\">\n",
              "  <thead>\n",
              "    <tr style=\"text-align: right;\">\n",
              "      <th></th>\n",
              "      <th>num_experiment</th>\n",
              "      <th>model_name</th>\n",
              "      <th>accuracy_score</th>\n",
              "      <th>precision</th>\n",
              "      <th>racall</th>\n",
              "      <th>f-1_score</th>\n",
              "    </tr>\n",
              "  </thead>\n",
              "  <tbody>\n",
              "    <tr>\n",
              "      <th>0</th>\n",
              "      <td>0</td>\n",
              "      <td>base_naive_bayes</td>\n",
              "      <td>0.796588</td>\n",
              "      <td>0.884462</td>\n",
              "      <td>0.637931</td>\n",
              "      <td>0.741235</td>\n",
              "    </tr>\n",
              "    <tr>\n",
              "      <th>1</th>\n",
              "      <td>1</td>\n",
              "      <td>base_dense_model_1</td>\n",
              "      <td>0.754593</td>\n",
              "      <td>0.778547</td>\n",
              "      <td>0.646552</td>\n",
              "      <td>0.706436</td>\n",
              "    </tr>\n",
              "    <tr>\n",
              "      <th>2</th>\n",
              "      <td>2</td>\n",
              "      <td>simple_dense_model_1_2</td>\n",
              "      <td>0.766404</td>\n",
              "      <td>0.760736</td>\n",
              "      <td>0.712644</td>\n",
              "      <td>0.735905</td>\n",
              "    </tr>\n",
              "    <tr>\n",
              "      <th>3</th>\n",
              "      <td>3</td>\n",
              "      <td>LSTM_model_2</td>\n",
              "      <td>0.772966</td>\n",
              "      <td>0.779553</td>\n",
              "      <td>0.701149</td>\n",
              "      <td>0.738275</td>\n",
              "    </tr>\n",
              "  </tbody>\n",
              "</table>\n",
              "</div>"
            ],
            "text/plain": [
              "  num_experiment              model_name  ...    racall  f-1_score\n",
              "0              0        base_naive_bayes  ...  0.637931   0.741235\n",
              "1              1      base_dense_model_1  ...  0.646552   0.706436\n",
              "2              2  simple_dense_model_1_2  ...  0.712644   0.735905\n",
              "3              3            LSTM_model_2  ...  0.701149   0.738275\n",
              "\n",
              "[4 rows x 6 columns]"
            ]
          },
          "metadata": {
            "tags": []
          },
          "execution_count": 164
        }
      ]
    },
    {
      "cell_type": "code",
      "metadata": {
        "colab": {
          "base_uri": "https://localhost:8080/"
        },
        "id": "ojs8UJBzFN4q",
        "outputId": "290fdbf8-3a50-4000-fe4f-ae4fb248f9ba"
      },
      "source": [
        "model2_conf_matr = confusion_matrix(y_val, pred_2)\n",
        "model2_conf_matr"
      ],
      "execution_count": 165,
      "outputs": [
        {
          "output_type": "execute_result",
          "data": {
            "text/plain": [
              "array([[345,  69],\n",
              "       [104, 244]])"
            ]
          },
          "metadata": {
            "tags": []
          },
          "execution_count": 165
        }
      ]
    },
    {
      "cell_type": "code",
      "metadata": {
        "colab": {
          "base_uri": "https://localhost:8080/"
        },
        "id": "iLNZVeoHFYQ9",
        "outputId": "bb4d10e0-0e61-4183-df29-935fa75b35a8"
      },
      "source": [
        "base_conf_matr"
      ],
      "execution_count": 166,
      "outputs": [
        {
          "output_type": "execute_result",
          "data": {
            "text/plain": [
              "array([[385,  29],\n",
              "       [126, 222]])"
            ]
          },
          "metadata": {
            "tags": []
          },
          "execution_count": 166
        }
      ]
    },
    {
      "cell_type": "markdown",
      "metadata": {
        "id": "oUHwFSs3oNdR"
      },
      "source": [
        "### Model3 GRU\n",
        "The GRU cell has similar features to an LSTM cell but has less parameters.\n"
      ]
    },
    {
      "cell_type": "code",
      "metadata": {
        "id": "l--zPUewk5xi"
      },
      "source": [
        "inputs = Input(shape = (1,), dtype = 'string')\n",
        "x = text_vect(inputs)\n",
        "x = embedding(x)\n",
        "x = GRU(64, return_sequences=True)(x)\n",
        "x = LSTM(64, return_sequences = True)(x)\n",
        "x = GRU(64)(x)\n",
        "x = Dense(64, activation='relu')(x)\n",
        "outputs = Dense(1, activation='sigmoid')(x)"
      ],
      "execution_count": 167,
      "outputs": []
    },
    {
      "cell_type": "code",
      "metadata": {
        "id": "4Eb6_MlDpfV_"
      },
      "source": [
        "model_3 = Model(inputs, outputs)"
      ],
      "execution_count": 168,
      "outputs": []
    },
    {
      "cell_type": "code",
      "metadata": {
        "colab": {
          "base_uri": "https://localhost:8080/"
        },
        "id": "opHKKJJMptKY",
        "outputId": "77843f00-495b-45f2-a175-657159760f4c"
      },
      "source": [
        "model_3.compile(optimizer='adam', metrics='accuracy', loss = 'binary_crossentropy')\n",
        "model_3.summary()"
      ],
      "execution_count": 169,
      "outputs": [
        {
          "output_type": "stream",
          "text": [
            "Model: \"model_1\"\n",
            "_________________________________________________________________\n",
            "Layer (type)                 Output Shape              Param #   \n",
            "=================================================================\n",
            "input_2 (InputLayer)         [(None, 1)]               0         \n",
            "_________________________________________________________________\n",
            "text_vectorization (TextVect (None, 30)                0         \n",
            "_________________________________________________________________\n",
            "embedding (Embedding)        (None, 30, 128)           1280000   \n",
            "_________________________________________________________________\n",
            "gru (GRU)                    (None, 30, 64)            37248     \n",
            "_________________________________________________________________\n",
            "lstm_2 (LSTM)                (None, 30, 64)            33024     \n",
            "_________________________________________________________________\n",
            "gru_1 (GRU)                  (None, 64)                24960     \n",
            "_________________________________________________________________\n",
            "dense_2 (Dense)              (None, 64)                4160      \n",
            "_________________________________________________________________\n",
            "dense_3 (Dense)              (None, 1)                 65        \n",
            "=================================================================\n",
            "Total params: 1,379,457\n",
            "Trainable params: 1,379,457\n",
            "Non-trainable params: 0\n",
            "_________________________________________________________________\n"
          ],
          "name": "stdout"
        }
      ]
    },
    {
      "cell_type": "code",
      "metadata": {
        "colab": {
          "base_uri": "https://localhost:8080/"
        },
        "id": "7kxFqq2kp3yN",
        "outputId": "8294e026-a9d5-4196-8957-5d8513507be4"
      },
      "source": [
        "history_3 = model_3.fit(tf.constant(X_train), y_train, epochs = 5,\n",
        "                        validation_data = (tf.constant(X_val), y_val),\n",
        "                        callbacks = create_tf_board_callback(DIR, 'model_3_GRU'))"
      ],
      "execution_count": 170,
      "outputs": [
        {
          "output_type": "stream",
          "text": [
            "Saving TensorBoard log files to model_logs/model_3_GRU/20210718-182205\n",
            "Epoch 1/5\n",
            "215/215 [==============================] - 24s 82ms/step - loss: 0.1673 - accuracy: 0.9323 - val_loss: 0.7530 - val_accuracy: 0.7664\n",
            "Epoch 2/5\n",
            "215/215 [==============================] - 16s 72ms/step - loss: 0.0877 - accuracy: 0.9658 - val_loss: 1.0996 - val_accuracy: 0.7638\n",
            "Epoch 3/5\n",
            "215/215 [==============================] - 16s 73ms/step - loss: 0.0752 - accuracy: 0.9707 - val_loss: 1.1885 - val_accuracy: 0.7598\n",
            "Epoch 4/5\n",
            "215/215 [==============================] - 16s 73ms/step - loss: 0.0721 - accuracy: 0.9714 - val_loss: 1.1585 - val_accuracy: 0.7651\n",
            "Epoch 5/5\n",
            "215/215 [==============================] - 16s 74ms/step - loss: 0.0626 - accuracy: 0.9730 - val_loss: 1.3456 - val_accuracy: 0.7651\n"
          ],
          "name": "stdout"
        }
      ]
    },
    {
      "cell_type": "code",
      "metadata": {
        "id": "CX8hkHn7qc9G"
      },
      "source": [
        "prob_3 = model_3.predict(tf.constant(X_val))"
      ],
      "execution_count": 171,
      "outputs": []
    },
    {
      "cell_type": "code",
      "metadata": {
        "colab": {
          "base_uri": "https://localhost:8080/"
        },
        "id": "3_oBHjV1qc9H",
        "outputId": "1f802e27-d303-4946-c7a5-798b0e8f5cba"
      },
      "source": [
        "prob_3.shape"
      ],
      "execution_count": 172,
      "outputs": [
        {
          "output_type": "execute_result",
          "data": {
            "text/plain": [
              "(762, 1)"
            ]
          },
          "metadata": {
            "tags": []
          },
          "execution_count": 172
        }
      ]
    },
    {
      "cell_type": "code",
      "metadata": {
        "id": "dH0I1tmsqc9I"
      },
      "source": [
        "pred_3 = np.round(prob_3).flatten()"
      ],
      "execution_count": 173,
      "outputs": []
    },
    {
      "cell_type": "code",
      "metadata": {
        "colab": {
          "base_uri": "https://localhost:8080/"
        },
        "id": "V5QE8PD3qc9J",
        "outputId": "79fee256-70b4-453c-96b7-82105dfb00e9"
      },
      "source": [
        "pred_3[:10], y_val[:10]"
      ],
      "execution_count": 174,
      "outputs": [
        {
          "output_type": "execute_result",
          "data": {
            "text/plain": [
              "(array([0., 0., 1., 0., 0., 1., 1., 1., 1., 0.], dtype=float32),\n",
              " array([0, 0, 1, 1, 1, 1, 1, 1, 1, 0]))"
            ]
          },
          "metadata": {
            "tags": []
          },
          "execution_count": 174
        }
      ]
    },
    {
      "cell_type": "code",
      "metadata": {
        "id": "3KbKMKcKqc9J"
      },
      "source": [
        "write_result(pred_3, 'GRU_model_3')"
      ],
      "execution_count": 175,
      "outputs": []
    },
    {
      "cell_type": "code",
      "metadata": {
        "colab": {
          "base_uri": "https://localhost:8080/",
          "height": 221
        },
        "id": "LMBqpb56qc9K",
        "outputId": "e560462d-1162-4338-a533-52062a480d8c"
      },
      "source": [
        "results_df"
      ],
      "execution_count": 176,
      "outputs": [
        {
          "output_type": "execute_result",
          "data": {
            "text/html": [
              "<div>\n",
              "<style scoped>\n",
              "    .dataframe tbody tr th:only-of-type {\n",
              "        vertical-align: middle;\n",
              "    }\n",
              "\n",
              "    .dataframe tbody tr th {\n",
              "        vertical-align: top;\n",
              "    }\n",
              "\n",
              "    .dataframe thead th {\n",
              "        text-align: right;\n",
              "    }\n",
              "</style>\n",
              "<table border=\"1\" class=\"dataframe\">\n",
              "  <thead>\n",
              "    <tr style=\"text-align: right;\">\n",
              "      <th></th>\n",
              "      <th>num_experiment</th>\n",
              "      <th>model_name</th>\n",
              "      <th>accuracy_score</th>\n",
              "      <th>precision</th>\n",
              "      <th>racall</th>\n",
              "      <th>f-1_score</th>\n",
              "    </tr>\n",
              "  </thead>\n",
              "  <tbody>\n",
              "    <tr>\n",
              "      <th>0</th>\n",
              "      <td>0</td>\n",
              "      <td>base_naive_bayes</td>\n",
              "      <td>0.796588</td>\n",
              "      <td>0.884462</td>\n",
              "      <td>0.637931</td>\n",
              "      <td>0.741235</td>\n",
              "    </tr>\n",
              "    <tr>\n",
              "      <th>1</th>\n",
              "      <td>1</td>\n",
              "      <td>base_dense_model_1</td>\n",
              "      <td>0.754593</td>\n",
              "      <td>0.778547</td>\n",
              "      <td>0.646552</td>\n",
              "      <td>0.706436</td>\n",
              "    </tr>\n",
              "    <tr>\n",
              "      <th>2</th>\n",
              "      <td>2</td>\n",
              "      <td>simple_dense_model_1_2</td>\n",
              "      <td>0.766404</td>\n",
              "      <td>0.760736</td>\n",
              "      <td>0.712644</td>\n",
              "      <td>0.735905</td>\n",
              "    </tr>\n",
              "    <tr>\n",
              "      <th>3</th>\n",
              "      <td>3</td>\n",
              "      <td>LSTM_model_2</td>\n",
              "      <td>0.772966</td>\n",
              "      <td>0.779553</td>\n",
              "      <td>0.701149</td>\n",
              "      <td>0.738275</td>\n",
              "    </tr>\n",
              "    <tr>\n",
              "      <th>4</th>\n",
              "      <td>4</td>\n",
              "      <td>GRU_model_3</td>\n",
              "      <td>0.765092</td>\n",
              "      <td>0.807273</td>\n",
              "      <td>0.637931</td>\n",
              "      <td>0.712681</td>\n",
              "    </tr>\n",
              "  </tbody>\n",
              "</table>\n",
              "</div>"
            ],
            "text/plain": [
              "  num_experiment              model_name  ...    racall  f-1_score\n",
              "0              0        base_naive_bayes  ...  0.637931   0.741235\n",
              "1              1      base_dense_model_1  ...  0.646552   0.706436\n",
              "2              2  simple_dense_model_1_2  ...  0.712644   0.735905\n",
              "3              3            LSTM_model_2  ...  0.701149   0.738275\n",
              "4              4             GRU_model_3  ...  0.637931   0.712681\n",
              "\n",
              "[5 rows x 6 columns]"
            ]
          },
          "metadata": {
            "tags": []
          },
          "execution_count": 176
        }
      ]
    },
    {
      "cell_type": "code",
      "metadata": {
        "colab": {
          "base_uri": "https://localhost:8080/"
        },
        "id": "RciQIsHYFkKd",
        "outputId": "bb29a45d-90a9-49a1-d6e5-10f9b5dcc013"
      },
      "source": [
        "model3_conf_matr = confusion_matrix(y_val, pred_3)\n",
        "model3_conf_matr"
      ],
      "execution_count": 177,
      "outputs": [
        {
          "output_type": "execute_result",
          "data": {
            "text/plain": [
              "array([[361,  53],\n",
              "       [126, 222]])"
            ]
          },
          "metadata": {
            "tags": []
          },
          "execution_count": 177
        }
      ]
    },
    {
      "cell_type": "code",
      "metadata": {
        "colab": {
          "base_uri": "https://localhost:8080/"
        },
        "id": "2JTCHXZzFoVx",
        "outputId": "3f341aa3-bbd4-4f54-9f7d-71cb6740dad8"
      },
      "source": [
        "base_conf_matr"
      ],
      "execution_count": 178,
      "outputs": [
        {
          "output_type": "execute_result",
          "data": {
            "text/plain": [
              "array([[385,  29],\n",
              "       [126, 222]])"
            ]
          },
          "metadata": {
            "tags": []
          },
          "execution_count": 178
        }
      ]
    },
    {
      "cell_type": "markdown",
      "metadata": {
        "id": "-g8q1b_AtPXd"
      },
      "source": [
        "### Model4 Bidirectional LSTM(RNN)\n",
        "\n",
        "A standard RNN will process a sequence from left to right, where as a bidirectional RNN will process the sequence from left to right and then again from right to left."
      ]
    },
    {
      "cell_type": "code",
      "metadata": {
        "id": "rOEdg5QSq76o"
      },
      "source": [
        "inputs = Input(shape = (1,), dtype='string')\n",
        "x = text_vect(inputs)\n",
        "x = embedding(x)\n",
        "x = Bidirectional(LSTM(64, return_sequences = True))(x)\n",
        "x = Bidirectional(GRU(64))(x)\n",
        "x = Dense(64)(x)\n",
        "outputs = Dense(1, activation='sigmoid')(x)"
      ],
      "execution_count": 179,
      "outputs": []
    },
    {
      "cell_type": "code",
      "metadata": {
        "id": "XTjDRxdvAT4B"
      },
      "source": [
        "model_4 = Model(inputs, outputs)"
      ],
      "execution_count": 180,
      "outputs": []
    },
    {
      "cell_type": "code",
      "metadata": {
        "id": "KOTKg7URCF-P"
      },
      "source": [
        "model_4.compile(optimizer='adam', metrics='accuracy', loss = 'binary_crossentropy')\n"
      ],
      "execution_count": 181,
      "outputs": []
    },
    {
      "cell_type": "code",
      "metadata": {
        "colab": {
          "base_uri": "https://localhost:8080/"
        },
        "id": "Ss8sguf-GVkX",
        "outputId": "b3d89d52-33f1-41b7-af18-251ae24ce6fd"
      },
      "source": [
        "model_4.summary()"
      ],
      "execution_count": 182,
      "outputs": [
        {
          "output_type": "stream",
          "text": [
            "Model: \"model_2\"\n",
            "_________________________________________________________________\n",
            "Layer (type)                 Output Shape              Param #   \n",
            "=================================================================\n",
            "input_3 (InputLayer)         [(None, 1)]               0         \n",
            "_________________________________________________________________\n",
            "text_vectorization (TextVect (None, 30)                0         \n",
            "_________________________________________________________________\n",
            "embedding (Embedding)        (None, 30, 128)           1280000   \n",
            "_________________________________________________________________\n",
            "bidirectional (Bidirectional (None, 30, 128)           98816     \n",
            "_________________________________________________________________\n",
            "bidirectional_1 (Bidirection (None, 128)               74496     \n",
            "_________________________________________________________________\n",
            "dense_4 (Dense)              (None, 64)                8256      \n",
            "_________________________________________________________________\n",
            "dense_5 (Dense)              (None, 1)                 65        \n",
            "=================================================================\n",
            "Total params: 1,461,633\n",
            "Trainable params: 1,461,633\n",
            "Non-trainable params: 0\n",
            "_________________________________________________________________\n"
          ],
          "name": "stdout"
        }
      ]
    },
    {
      "cell_type": "code",
      "metadata": {
        "colab": {
          "base_uri": "https://localhost:8080/"
        },
        "id": "BdlGM5GiFZes",
        "outputId": "2930dc3c-7bfb-4d50-83b6-42e65df7db4a"
      },
      "source": [
        "history_4 = model_4.fit(tf.constant(X_train), y_train, epochs = 5,\n",
        "                        validation_data = (tf.constant(X_val), y_val),\n",
        "                        callbacks = create_tf_board_callback(DIR, 'model_4_bidirectional'))"
      ],
      "execution_count": 183,
      "outputs": [
        {
          "output_type": "stream",
          "text": [
            "Saving TensorBoard log files to model_logs/model_4_bidirectional/20210718-182334\n",
            "Epoch 1/5\n",
            "215/215 [==============================] - 29s 101ms/step - loss: 0.1156 - accuracy: 0.9548 - val_loss: 0.9966 - val_accuracy: 0.7664\n",
            "Epoch 2/5\n",
            "215/215 [==============================] - 19s 90ms/step - loss: 0.0638 - accuracy: 0.9705 - val_loss: 1.1873 - val_accuracy: 0.7572\n",
            "Epoch 3/5\n",
            "215/215 [==============================] - 20s 91ms/step - loss: 0.0574 - accuracy: 0.9743 - val_loss: 1.9377 - val_accuracy: 0.7612\n",
            "Epoch 4/5\n",
            "215/215 [==============================] - 21s 98ms/step - loss: 0.0592 - accuracy: 0.9727 - val_loss: 1.8461 - val_accuracy: 0.7559\n",
            "Epoch 5/5\n",
            "215/215 [==============================] - 20s 92ms/step - loss: 0.0480 - accuracy: 0.9724 - val_loss: 2.0455 - val_accuracy: 0.7559\n"
          ],
          "name": "stdout"
        }
      ]
    },
    {
      "cell_type": "code",
      "metadata": {
        "id": "XAl6trHNWPAV"
      },
      "source": [
        "prob_4 = model_4.predict(tf.constant(X_val))"
      ],
      "execution_count": 184,
      "outputs": []
    },
    {
      "cell_type": "code",
      "metadata": {
        "id": "yg7JENfmWWVp"
      },
      "source": [
        "pred_4 = np.round(prob_4).flatten()"
      ],
      "execution_count": 185,
      "outputs": []
    },
    {
      "cell_type": "code",
      "metadata": {
        "id": "GSVgBM9SWaqX"
      },
      "source": [
        "write_result(pred_4, 'Bidirectional_model_4')"
      ],
      "execution_count": 186,
      "outputs": []
    },
    {
      "cell_type": "code",
      "metadata": {
        "colab": {
          "base_uri": "https://localhost:8080/",
          "height": 252
        },
        "id": "15Zk5fZ1WiJ3",
        "outputId": "1169b948-d6ed-4223-d433-eae7f6123b76"
      },
      "source": [
        "results_df"
      ],
      "execution_count": 187,
      "outputs": [
        {
          "output_type": "execute_result",
          "data": {
            "text/html": [
              "<div>\n",
              "<style scoped>\n",
              "    .dataframe tbody tr th:only-of-type {\n",
              "        vertical-align: middle;\n",
              "    }\n",
              "\n",
              "    .dataframe tbody tr th {\n",
              "        vertical-align: top;\n",
              "    }\n",
              "\n",
              "    .dataframe thead th {\n",
              "        text-align: right;\n",
              "    }\n",
              "</style>\n",
              "<table border=\"1\" class=\"dataframe\">\n",
              "  <thead>\n",
              "    <tr style=\"text-align: right;\">\n",
              "      <th></th>\n",
              "      <th>num_experiment</th>\n",
              "      <th>model_name</th>\n",
              "      <th>accuracy_score</th>\n",
              "      <th>precision</th>\n",
              "      <th>racall</th>\n",
              "      <th>f-1_score</th>\n",
              "    </tr>\n",
              "  </thead>\n",
              "  <tbody>\n",
              "    <tr>\n",
              "      <th>0</th>\n",
              "      <td>0</td>\n",
              "      <td>base_naive_bayes</td>\n",
              "      <td>0.796588</td>\n",
              "      <td>0.884462</td>\n",
              "      <td>0.637931</td>\n",
              "      <td>0.741235</td>\n",
              "    </tr>\n",
              "    <tr>\n",
              "      <th>1</th>\n",
              "      <td>1</td>\n",
              "      <td>base_dense_model_1</td>\n",
              "      <td>0.754593</td>\n",
              "      <td>0.778547</td>\n",
              "      <td>0.646552</td>\n",
              "      <td>0.706436</td>\n",
              "    </tr>\n",
              "    <tr>\n",
              "      <th>2</th>\n",
              "      <td>2</td>\n",
              "      <td>simple_dense_model_1_2</td>\n",
              "      <td>0.766404</td>\n",
              "      <td>0.760736</td>\n",
              "      <td>0.712644</td>\n",
              "      <td>0.735905</td>\n",
              "    </tr>\n",
              "    <tr>\n",
              "      <th>3</th>\n",
              "      <td>3</td>\n",
              "      <td>LSTM_model_2</td>\n",
              "      <td>0.772966</td>\n",
              "      <td>0.779553</td>\n",
              "      <td>0.701149</td>\n",
              "      <td>0.738275</td>\n",
              "    </tr>\n",
              "    <tr>\n",
              "      <th>4</th>\n",
              "      <td>4</td>\n",
              "      <td>GRU_model_3</td>\n",
              "      <td>0.765092</td>\n",
              "      <td>0.807273</td>\n",
              "      <td>0.637931</td>\n",
              "      <td>0.712681</td>\n",
              "    </tr>\n",
              "    <tr>\n",
              "      <th>5</th>\n",
              "      <td>5</td>\n",
              "      <td>Bidirectional_model_4</td>\n",
              "      <td>0.755906</td>\n",
              "      <td>0.785211</td>\n",
              "      <td>0.640805</td>\n",
              "      <td>0.705696</td>\n",
              "    </tr>\n",
              "  </tbody>\n",
              "</table>\n",
              "</div>"
            ],
            "text/plain": [
              "  num_experiment              model_name  ...    racall  f-1_score\n",
              "0              0        base_naive_bayes  ...  0.637931   0.741235\n",
              "1              1      base_dense_model_1  ...  0.646552   0.706436\n",
              "2              2  simple_dense_model_1_2  ...  0.712644   0.735905\n",
              "3              3            LSTM_model_2  ...  0.701149   0.738275\n",
              "4              4             GRU_model_3  ...  0.637931   0.712681\n",
              "5              5   Bidirectional_model_4  ...  0.640805   0.705696\n",
              "\n",
              "[6 rows x 6 columns]"
            ]
          },
          "metadata": {
            "tags": []
          },
          "execution_count": 187
        }
      ]
    },
    {
      "cell_type": "code",
      "metadata": {
        "colab": {
          "base_uri": "https://localhost:8080/"
        },
        "id": "6wFa3VKxHLt4",
        "outputId": "8a4e853e-f25f-463c-f95e-57ba2222ed00"
      },
      "source": [
        "model4_conf_matr = confusion_matrix(y_val, pred_4)\n",
        "model4_conf_matr"
      ],
      "execution_count": 188,
      "outputs": [
        {
          "output_type": "execute_result",
          "data": {
            "text/plain": [
              "array([[353,  61],\n",
              "       [125, 223]])"
            ]
          },
          "metadata": {
            "tags": []
          },
          "execution_count": 188
        }
      ]
    },
    {
      "cell_type": "code",
      "metadata": {
        "colab": {
          "base_uri": "https://localhost:8080/"
        },
        "id": "bGlvVrh2XrDB",
        "outputId": "b7421ad9-9b82-43c8-ca37-e8d6921f8466"
      },
      "source": [
        "base_conf_matr"
      ],
      "execution_count": 189,
      "outputs": [
        {
          "output_type": "execute_result",
          "data": {
            "text/plain": [
              "array([[385,  29],\n",
              "       [126, 222]])"
            ]
          },
          "metadata": {
            "tags": []
          },
          "execution_count": 189
        }
      ]
    },
    {
      "cell_type": "markdown",
      "metadata": {
        "id": "tiZtEl8WLYw3"
      },
      "source": [
        "### Model 5 1D Convolutional Neural Network"
      ]
    },
    {
      "cell_type": "code",
      "metadata": {
        "id": "UmqY-ka0HhdP"
      },
      "source": [
        "K.clear_session()"
      ],
      "execution_count": 190,
      "outputs": []
    },
    {
      "cell_type": "code",
      "metadata": {
        "id": "t7d7hM84LxQb"
      },
      "source": [
        "inputs = Input((1,), dtype = 'string')\n",
        "x = text_vect(inputs)\n",
        "x = embedding(x)\n",
        "x = Conv1D(32, 3, activation='relu')(x)\n",
        "x = GlobalAveragePooling1D()(x)\n",
        "x = Dense(64, activation='relu')(x)\n",
        "outputs = Dense(1, activation= 'sigmoid')(x)"
      ],
      "execution_count": 191,
      "outputs": []
    },
    {
      "cell_type": "code",
      "metadata": {
        "id": "-1FuQF1VMc1M"
      },
      "source": [
        "model_5 = Model(inputs, outputs)"
      ],
      "execution_count": 192,
      "outputs": []
    },
    {
      "cell_type": "code",
      "metadata": {
        "id": "s87cGyk5MjG1"
      },
      "source": [
        "model_5.compile(optimizer='adam', metrics='accuracy', loss = 'binary_crossentropy')"
      ],
      "execution_count": 193,
      "outputs": []
    },
    {
      "cell_type": "code",
      "metadata": {
        "colab": {
          "base_uri": "https://localhost:8080/"
        },
        "id": "CO4QThTeMySI",
        "outputId": "7b6b2647-2143-4349-a778-2e1b786ff736"
      },
      "source": [
        "model_5.summary()"
      ],
      "execution_count": 194,
      "outputs": [
        {
          "output_type": "stream",
          "text": [
            "Model: \"model\"\n",
            "_________________________________________________________________\n",
            "Layer (type)                 Output Shape              Param #   \n",
            "=================================================================\n",
            "input_1 (InputLayer)         [(None, 1)]               0         \n",
            "_________________________________________________________________\n",
            "text_vectorization (TextVect (None, 30)                0         \n",
            "_________________________________________________________________\n",
            "embedding (Embedding)        (None, 30, 128)           1280000   \n",
            "_________________________________________________________________\n",
            "conv1d (Conv1D)              (None, 28, 32)            12320     \n",
            "_________________________________________________________________\n",
            "global_average_pooling1d (Gl (None, 32)                0         \n",
            "_________________________________________________________________\n",
            "dense (Dense)                (None, 64)                2112      \n",
            "_________________________________________________________________\n",
            "dense_1 (Dense)              (None, 1)                 65        \n",
            "=================================================================\n",
            "Total params: 1,294,497\n",
            "Trainable params: 1,294,497\n",
            "Non-trainable params: 0\n",
            "_________________________________________________________________\n"
          ],
          "name": "stdout"
        }
      ]
    },
    {
      "cell_type": "code",
      "metadata": {
        "colab": {
          "base_uri": "https://localhost:8080/"
        },
        "id": "TSQS93sfM0k4",
        "outputId": "21649b3d-5cc6-4b27-907f-4bdf500f3803"
      },
      "source": [
        "history_5 = model_5.fit(tf.constant(X_train), y_train, epochs = 5,\n",
        "                        validation_data = (tf.constant(X_val), y_val),\n",
        "                        callbacks = create_tf_board_callback(DIR, 'model_5_Conv1D'))"
      ],
      "execution_count": 195,
      "outputs": [
        {
          "output_type": "stream",
          "text": [
            "Saving TensorBoard log files to model_logs/model_5_Conv1D/20210718-182605\n",
            "Epoch 1/5\n",
            "215/215 [==============================] - 6s 24ms/step - loss: 0.2184 - accuracy: 0.9204 - val_loss: 0.9148 - val_accuracy: 0.7677\n",
            "Epoch 2/5\n",
            "215/215 [==============================] - 5s 22ms/step - loss: 0.0841 - accuracy: 0.9685 - val_loss: 1.0043 - val_accuracy: 0.7454\n",
            "Epoch 3/5\n",
            "215/215 [==============================] - 5s 22ms/step - loss: 0.0706 - accuracy: 0.9707 - val_loss: 1.1418 - val_accuracy: 0.7520\n",
            "Epoch 4/5\n",
            "215/215 [==============================] - 5s 22ms/step - loss: 0.0648 - accuracy: 0.9710 - val_loss: 1.2668 - val_accuracy: 0.7559\n",
            "Epoch 5/5\n",
            "215/215 [==============================] - 5s 23ms/step - loss: 0.0606 - accuracy: 0.9727 - val_loss: 1.3218 - val_accuracy: 0.7507\n"
          ],
          "name": "stdout"
        }
      ]
    },
    {
      "cell_type": "code",
      "metadata": {
        "id": "fN-xKc8ONXvO"
      },
      "source": [
        ""
      ],
      "execution_count": 195,
      "outputs": []
    },
    {
      "cell_type": "code",
      "metadata": {
        "id": "iiEgTTwPNjje"
      },
      "source": [
        "prob_5 = model_5.predict(tf.constant(X_val))"
      ],
      "execution_count": 196,
      "outputs": []
    },
    {
      "cell_type": "code",
      "metadata": {
        "id": "oeKQEvhfNjjf"
      },
      "source": [
        "pred_5 = np.round(prob_5).flatten()"
      ],
      "execution_count": 197,
      "outputs": []
    },
    {
      "cell_type": "code",
      "metadata": {
        "id": "y0jcRpDUNjjg"
      },
      "source": [
        "write_result(pred_5, 'Conv1D_model_5')"
      ],
      "execution_count": 198,
      "outputs": []
    },
    {
      "cell_type": "code",
      "metadata": {
        "colab": {
          "base_uri": "https://localhost:8080/",
          "height": 282
        },
        "id": "VJLP1ZvMNjjg",
        "outputId": "b60fd1aa-d169-4738-f8d2-c17ffb24d640"
      },
      "source": [
        "results_df"
      ],
      "execution_count": 199,
      "outputs": [
        {
          "output_type": "execute_result",
          "data": {
            "text/html": [
              "<div>\n",
              "<style scoped>\n",
              "    .dataframe tbody tr th:only-of-type {\n",
              "        vertical-align: middle;\n",
              "    }\n",
              "\n",
              "    .dataframe tbody tr th {\n",
              "        vertical-align: top;\n",
              "    }\n",
              "\n",
              "    .dataframe thead th {\n",
              "        text-align: right;\n",
              "    }\n",
              "</style>\n",
              "<table border=\"1\" class=\"dataframe\">\n",
              "  <thead>\n",
              "    <tr style=\"text-align: right;\">\n",
              "      <th></th>\n",
              "      <th>num_experiment</th>\n",
              "      <th>model_name</th>\n",
              "      <th>accuracy_score</th>\n",
              "      <th>precision</th>\n",
              "      <th>racall</th>\n",
              "      <th>f-1_score</th>\n",
              "    </tr>\n",
              "  </thead>\n",
              "  <tbody>\n",
              "    <tr>\n",
              "      <th>0</th>\n",
              "      <td>0</td>\n",
              "      <td>base_naive_bayes</td>\n",
              "      <td>0.796588</td>\n",
              "      <td>0.884462</td>\n",
              "      <td>0.637931</td>\n",
              "      <td>0.741235</td>\n",
              "    </tr>\n",
              "    <tr>\n",
              "      <th>1</th>\n",
              "      <td>1</td>\n",
              "      <td>base_dense_model_1</td>\n",
              "      <td>0.754593</td>\n",
              "      <td>0.778547</td>\n",
              "      <td>0.646552</td>\n",
              "      <td>0.706436</td>\n",
              "    </tr>\n",
              "    <tr>\n",
              "      <th>2</th>\n",
              "      <td>2</td>\n",
              "      <td>simple_dense_model_1_2</td>\n",
              "      <td>0.766404</td>\n",
              "      <td>0.760736</td>\n",
              "      <td>0.712644</td>\n",
              "      <td>0.735905</td>\n",
              "    </tr>\n",
              "    <tr>\n",
              "      <th>3</th>\n",
              "      <td>3</td>\n",
              "      <td>LSTM_model_2</td>\n",
              "      <td>0.772966</td>\n",
              "      <td>0.779553</td>\n",
              "      <td>0.701149</td>\n",
              "      <td>0.738275</td>\n",
              "    </tr>\n",
              "    <tr>\n",
              "      <th>4</th>\n",
              "      <td>4</td>\n",
              "      <td>GRU_model_3</td>\n",
              "      <td>0.765092</td>\n",
              "      <td>0.807273</td>\n",
              "      <td>0.637931</td>\n",
              "      <td>0.712681</td>\n",
              "    </tr>\n",
              "    <tr>\n",
              "      <th>5</th>\n",
              "      <td>5</td>\n",
              "      <td>Bidirectional_model_4</td>\n",
              "      <td>0.755906</td>\n",
              "      <td>0.785211</td>\n",
              "      <td>0.640805</td>\n",
              "      <td>0.705696</td>\n",
              "    </tr>\n",
              "    <tr>\n",
              "      <th>6</th>\n",
              "      <td>6</td>\n",
              "      <td>Conv1D_model_5</td>\n",
              "      <td>0.750656</td>\n",
              "      <td>0.754839</td>\n",
              "      <td>0.672414</td>\n",
              "      <td>0.711246</td>\n",
              "    </tr>\n",
              "  </tbody>\n",
              "</table>\n",
              "</div>"
            ],
            "text/plain": [
              "  num_experiment              model_name  ...    racall  f-1_score\n",
              "0              0        base_naive_bayes  ...  0.637931   0.741235\n",
              "1              1      base_dense_model_1  ...  0.646552   0.706436\n",
              "2              2  simple_dense_model_1_2  ...  0.712644   0.735905\n",
              "3              3            LSTM_model_2  ...  0.701149   0.738275\n",
              "4              4             GRU_model_3  ...  0.637931   0.712681\n",
              "5              5   Bidirectional_model_4  ...  0.640805   0.705696\n",
              "6              6          Conv1D_model_5  ...  0.672414   0.711246\n",
              "\n",
              "[7 rows x 6 columns]"
            ]
          },
          "metadata": {
            "tags": []
          },
          "execution_count": 199
        }
      ]
    },
    {
      "cell_type": "code",
      "metadata": {
        "colab": {
          "base_uri": "https://localhost:8080/"
        },
        "id": "Ut95PxJqNjji",
        "outputId": "e2341f07-ae22-4545-ecea-83b766a34d40"
      },
      "source": [
        "model5_conf_matr = confusion_matrix(y_val, pred_5)\n",
        "model5_conf_matr"
      ],
      "execution_count": 200,
      "outputs": [
        {
          "output_type": "execute_result",
          "data": {
            "text/plain": [
              "array([[338,  76],\n",
              "       [114, 234]])"
            ]
          },
          "metadata": {
            "tags": []
          },
          "execution_count": 200
        }
      ]
    },
    {
      "cell_type": "code",
      "metadata": {
        "colab": {
          "base_uri": "https://localhost:8080/"
        },
        "id": "ShV9nWMDNjjj",
        "outputId": "a8ccbe5b-ae3b-4f12-f900-6c635aac45a4"
      },
      "source": [
        "base_conf_matr"
      ],
      "execution_count": 201,
      "outputs": [
        {
          "output_type": "execute_result",
          "data": {
            "text/plain": [
              "array([[385,  29],\n",
              "       [126, 222]])"
            ]
          },
          "metadata": {
            "tags": []
          },
          "execution_count": 201
        }
      ]
    },
    {
      "cell_type": "markdown",
      "metadata": {
        "id": "6-UbUAnYYOZw"
      },
      "source": [
        "Our Deep Learning models didn't beat base model. We will use transfer learning to improve those results!"
      ]
    },
    {
      "cell_type": "markdown",
      "metadata": {
        "id": "pXf8ndhPZKvk"
      },
      "source": [
        "### Model6 TensorFlow Hub Pretrained Feature Extractor\n",
        "We will use USE(universal sentence encoder) feauture extractor\n",
        "https://tfhub.dev/google/collections/universal-sentence-encoder/1"
      ]
    },
    {
      "cell_type": "code",
      "metadata": {
        "id": "q2kDTW4oNvcf"
      },
      "source": [
        "import tensorflow_hub as hub\n",
        "\n",
        "embed = hub.load(\"https://tfhub.dev/google/universal-sentence-encoder/4\")"
      ],
      "execution_count": 202,
      "outputs": []
    },
    {
      "cell_type": "code",
      "metadata": {
        "colab": {
          "base_uri": "https://localhost:8080/"
        },
        "id": "Zr8piVB5bKgZ",
        "outputId": "9eacbabf-1d50-44a8-bf2f-6280ea0bd916"
      },
      "source": [
        "embeddings = embed([\n",
        "    \"The quick brown fox jumps over the lazy dog.\",\n",
        "    \"I am a sentence for which I would like to get its embedding\"])\n",
        "\n",
        "print(embeddings)"
      ],
      "execution_count": 203,
      "outputs": [
        {
          "output_type": "stream",
          "text": [
            "tf.Tensor(\n",
            "[[-0.03133018 -0.06338634 -0.01607502 ... -0.03242778 -0.04575741\n",
            "   0.05370456]\n",
            " [ 0.05080861 -0.01652428  0.01573781 ...  0.00976659  0.03170123\n",
            "   0.01788119]], shape=(2, 512), dtype=float32)\n"
          ],
          "name": "stdout"
        }
      ]
    },
    {
      "cell_type": "code",
      "metadata": {
        "id": "SHGtgiKJh8un"
      },
      "source": [
        "use_layer = hub.KerasLayer(\"https://tfhub.dev/google/universal-sentence-encoder/4\",\n",
        "                           input_shape = [],\n",
        "                           dtype = tf.string,\n",
        "                           trainable = False)"
      ],
      "execution_count": 204,
      "outputs": []
    },
    {
      "cell_type": "code",
      "metadata": {
        "id": "Fu-VtL1LMVkk"
      },
      "source": [
        "K.clear_session()"
      ],
      "execution_count": 205,
      "outputs": []
    },
    {
      "cell_type": "code",
      "metadata": {
        "id": "5b9-ZUihirVg"
      },
      "source": [
        "model_6 = Sequential([use_layer,\n",
        "                     Dense(128, activation='relu'),\n",
        "                     Dense(64, activation='relu'),\n",
        "                     Dense(1, activation='sigmoid')])"
      ],
      "execution_count": 206,
      "outputs": []
    },
    {
      "cell_type": "code",
      "metadata": {
        "id": "prj0j16ubzDY"
      },
      "source": [
        "model_6.compile(optimizer='adam', metrics = 'accuracy', loss = 'binary_crossentropy')"
      ],
      "execution_count": 207,
      "outputs": []
    },
    {
      "cell_type": "code",
      "metadata": {
        "colab": {
          "base_uri": "https://localhost:8080/"
        },
        "id": "_SXxo3T3jluf",
        "outputId": "63a3e9a9-7239-4dc7-de09-d7df45c68b64"
      },
      "source": [
        "model_6.summary()"
      ],
      "execution_count": 208,
      "outputs": [
        {
          "output_type": "stream",
          "text": [
            "Model: \"sequential\"\n",
            "_________________________________________________________________\n",
            "Layer (type)                 Output Shape              Param #   \n",
            "=================================================================\n",
            "keras_layer (KerasLayer)     (None, 512)               256797824 \n",
            "_________________________________________________________________\n",
            "dense (Dense)                (None, 128)               65664     \n",
            "_________________________________________________________________\n",
            "dense_1 (Dense)              (None, 64)                8256      \n",
            "_________________________________________________________________\n",
            "dense_2 (Dense)              (None, 1)                 65        \n",
            "=================================================================\n",
            "Total params: 256,871,809\n",
            "Trainable params: 73,985\n",
            "Non-trainable params: 256,797,824\n",
            "_________________________________________________________________\n"
          ],
          "name": "stdout"
        }
      ]
    },
    {
      "cell_type": "code",
      "metadata": {
        "colab": {
          "base_uri": "https://localhost:8080/"
        },
        "id": "fYh0cgbyjt85",
        "outputId": "22fa0798-c137-45d1-a261-4706b831abc0"
      },
      "source": [
        "history_6 = model_6.fit(tf.constant(X_train), y_train, epochs = 5,\n",
        "                        validation_data = (tf.constant(X_val), y_val),\n",
        "                        callbacks = create_tf_board_callback(DIR, 'USE_model_6'))"
      ],
      "execution_count": 209,
      "outputs": [
        {
          "output_type": "stream",
          "text": [
            "Saving TensorBoard log files to model_logs/USE_model_6/20210718-182658\n",
            "Epoch 1/5\n",
            "215/215 [==============================] - 8s 27ms/step - loss: 0.4754 - accuracy: 0.7894 - val_loss: 0.4489 - val_accuracy: 0.7966\n",
            "Epoch 2/5\n",
            "215/215 [==============================] - 2s 11ms/step - loss: 0.3977 - accuracy: 0.8256 - val_loss: 0.4356 - val_accuracy: 0.7940\n",
            "Epoch 3/5\n",
            "215/215 [==============================] - 3s 12ms/step - loss: 0.3701 - accuracy: 0.8428 - val_loss: 0.4314 - val_accuracy: 0.8097\n",
            "Epoch 4/5\n",
            "215/215 [==============================] - 2s 11ms/step - loss: 0.3390 - accuracy: 0.8593 - val_loss: 0.4492 - val_accuracy: 0.8058\n",
            "Epoch 5/5\n",
            "215/215 [==============================] - 2s 12ms/step - loss: 0.3020 - accuracy: 0.8767 - val_loss: 0.4504 - val_accuracy: 0.8123\n"
          ],
          "name": "stdout"
        }
      ]
    },
    {
      "cell_type": "code",
      "metadata": {
        "id": "oNR9K5EykcJR"
      },
      "source": [
        "prob_6 = model_6.predict(tf.constant(X_val))"
      ],
      "execution_count": 210,
      "outputs": []
    },
    {
      "cell_type": "code",
      "metadata": {
        "id": "JPU3JyIMkcJT"
      },
      "source": [
        "pred_6 = np.round(prob_6).flatten()"
      ],
      "execution_count": 211,
      "outputs": []
    },
    {
      "cell_type": "code",
      "metadata": {
        "id": "lZPhezfikcJU"
      },
      "source": [
        "write_result(pred_6, 'USE_model_6')"
      ],
      "execution_count": 212,
      "outputs": []
    },
    {
      "cell_type": "code",
      "metadata": {
        "colab": {
          "base_uri": "https://localhost:8080/",
          "height": 313
        },
        "id": "C2WbiCTBkcJU",
        "outputId": "4c4e70b1-8691-4971-961a-d91c2d1375ea"
      },
      "source": [
        "results_df"
      ],
      "execution_count": 213,
      "outputs": [
        {
          "output_type": "execute_result",
          "data": {
            "text/html": [
              "<div>\n",
              "<style scoped>\n",
              "    .dataframe tbody tr th:only-of-type {\n",
              "        vertical-align: middle;\n",
              "    }\n",
              "\n",
              "    .dataframe tbody tr th {\n",
              "        vertical-align: top;\n",
              "    }\n",
              "\n",
              "    .dataframe thead th {\n",
              "        text-align: right;\n",
              "    }\n",
              "</style>\n",
              "<table border=\"1\" class=\"dataframe\">\n",
              "  <thead>\n",
              "    <tr style=\"text-align: right;\">\n",
              "      <th></th>\n",
              "      <th>num_experiment</th>\n",
              "      <th>model_name</th>\n",
              "      <th>accuracy_score</th>\n",
              "      <th>precision</th>\n",
              "      <th>racall</th>\n",
              "      <th>f-1_score</th>\n",
              "    </tr>\n",
              "  </thead>\n",
              "  <tbody>\n",
              "    <tr>\n",
              "      <th>0</th>\n",
              "      <td>0</td>\n",
              "      <td>base_naive_bayes</td>\n",
              "      <td>0.796588</td>\n",
              "      <td>0.884462</td>\n",
              "      <td>0.637931</td>\n",
              "      <td>0.741235</td>\n",
              "    </tr>\n",
              "    <tr>\n",
              "      <th>1</th>\n",
              "      <td>1</td>\n",
              "      <td>base_dense_model_1</td>\n",
              "      <td>0.754593</td>\n",
              "      <td>0.778547</td>\n",
              "      <td>0.646552</td>\n",
              "      <td>0.706436</td>\n",
              "    </tr>\n",
              "    <tr>\n",
              "      <th>2</th>\n",
              "      <td>2</td>\n",
              "      <td>simple_dense_model_1_2</td>\n",
              "      <td>0.766404</td>\n",
              "      <td>0.760736</td>\n",
              "      <td>0.712644</td>\n",
              "      <td>0.735905</td>\n",
              "    </tr>\n",
              "    <tr>\n",
              "      <th>3</th>\n",
              "      <td>3</td>\n",
              "      <td>LSTM_model_2</td>\n",
              "      <td>0.772966</td>\n",
              "      <td>0.779553</td>\n",
              "      <td>0.701149</td>\n",
              "      <td>0.738275</td>\n",
              "    </tr>\n",
              "    <tr>\n",
              "      <th>4</th>\n",
              "      <td>4</td>\n",
              "      <td>GRU_model_3</td>\n",
              "      <td>0.765092</td>\n",
              "      <td>0.807273</td>\n",
              "      <td>0.637931</td>\n",
              "      <td>0.712681</td>\n",
              "    </tr>\n",
              "    <tr>\n",
              "      <th>5</th>\n",
              "      <td>5</td>\n",
              "      <td>Bidirectional_model_4</td>\n",
              "      <td>0.755906</td>\n",
              "      <td>0.785211</td>\n",
              "      <td>0.640805</td>\n",
              "      <td>0.705696</td>\n",
              "    </tr>\n",
              "    <tr>\n",
              "      <th>6</th>\n",
              "      <td>6</td>\n",
              "      <td>Conv1D_model_5</td>\n",
              "      <td>0.750656</td>\n",
              "      <td>0.754839</td>\n",
              "      <td>0.672414</td>\n",
              "      <td>0.711246</td>\n",
              "    </tr>\n",
              "    <tr>\n",
              "      <th>7</th>\n",
              "      <td>7</td>\n",
              "      <td>USE_model_6</td>\n",
              "      <td>0.812336</td>\n",
              "      <td>0.870036</td>\n",
              "      <td>0.692529</td>\n",
              "      <td>0.771200</td>\n",
              "    </tr>\n",
              "  </tbody>\n",
              "</table>\n",
              "</div>"
            ],
            "text/plain": [
              "  num_experiment              model_name  ...    racall  f-1_score\n",
              "0              0        base_naive_bayes  ...  0.637931   0.741235\n",
              "1              1      base_dense_model_1  ...  0.646552   0.706436\n",
              "2              2  simple_dense_model_1_2  ...  0.712644   0.735905\n",
              "3              3            LSTM_model_2  ...  0.701149   0.738275\n",
              "4              4             GRU_model_3  ...  0.637931   0.712681\n",
              "5              5   Bidirectional_model_4  ...  0.640805   0.705696\n",
              "6              6          Conv1D_model_5  ...  0.672414   0.711246\n",
              "7              7             USE_model_6  ...  0.692529   0.771200\n",
              "\n",
              "[8 rows x 6 columns]"
            ]
          },
          "metadata": {
            "tags": []
          },
          "execution_count": 213
        }
      ]
    },
    {
      "cell_type": "code",
      "metadata": {
        "colab": {
          "base_uri": "https://localhost:8080/"
        },
        "id": "-6qaf8LYkcJV",
        "outputId": "ad3c4092-69f8-4558-e7b9-cdade1f975e4"
      },
      "source": [
        "model6_conf_matr = confusion_matrix(y_val, pred_6)\n",
        "model6_conf_matr"
      ],
      "execution_count": 214,
      "outputs": [
        {
          "output_type": "execute_result",
          "data": {
            "text/plain": [
              "array([[378,  36],\n",
              "       [107, 241]])"
            ]
          },
          "metadata": {
            "tags": []
          },
          "execution_count": 214
        }
      ]
    },
    {
      "cell_type": "code",
      "metadata": {
        "colab": {
          "base_uri": "https://localhost:8080/"
        },
        "id": "lWsL1wn_kcJW",
        "outputId": "550c99c6-bee1-4e86-dfa4-f11f16eddad6"
      },
      "source": [
        "base_conf_matr"
      ],
      "execution_count": 215,
      "outputs": [
        {
          "output_type": "execute_result",
          "data": {
            "text/plain": [
              "array([[385,  29],\n",
              "       [126, 222]])"
            ]
          },
          "metadata": {
            "tags": []
          },
          "execution_count": 215
        }
      ]
    },
    {
      "cell_type": "markdown",
      "metadata": {
        "id": "KNqZYnqN2QPL"
      },
      "source": [
        "### Try transfer learning with 10% data\n",
        "Its useful for small datasets in real projects"
      ]
    },
    {
      "cell_type": "code",
      "metadata": {
        "colab": {
          "base_uri": "https://localhost:8080/"
        },
        "id": "wJUClcKQ48t_",
        "outputId": "6e18dc44-609d-4489-a34f-6365b0a5b15c"
      },
      "source": [
        "len(X_train), len(X_val)"
      ],
      "execution_count": 216,
      "outputs": [
        {
          "output_type": "execute_result",
          "data": {
            "text/plain": [
              "(6851, 762)"
            ]
          },
          "metadata": {
            "tags": []
          },
          "execution_count": 216
        }
      ]
    },
    {
      "cell_type": "code",
      "metadata": {
        "id": "zXM8wUT0lM7x"
      },
      "source": [
        "X_train_10 = X_train[:int(len(X_train)*0.1)]\n",
        "y_train_10 = y_train[:int(len(X_train)*0.1)]"
      ],
      "execution_count": 217,
      "outputs": []
    },
    {
      "cell_type": "code",
      "metadata": {
        "colab": {
          "base_uri": "https://localhost:8080/"
        },
        "id": "IkAhSYo_3y9x",
        "outputId": "f64c3464-1642-4605-c702-736cb859f664"
      },
      "source": [
        "len(X_train_10), len(y_train_10)"
      ],
      "execution_count": 218,
      "outputs": [
        {
          "output_type": "execute_result",
          "data": {
            "text/plain": [
              "(685, 685)"
            ]
          },
          "metadata": {
            "tags": []
          },
          "execution_count": 218
        }
      ]
    },
    {
      "cell_type": "code",
      "metadata": {
        "id": "5E3QUd5Z5oVh"
      },
      "source": [
        "model_7 = Sequential([use_layer,\n",
        "                     Dense(64, activation='relu'),\n",
        "                     Dense(1, activation='sigmoid')])"
      ],
      "execution_count": 219,
      "outputs": []
    },
    {
      "cell_type": "code",
      "metadata": {
        "id": "THfslF4v5oVi"
      },
      "source": [
        "model_7.compile(optimizer='adam', metrics = 'accuracy', loss = 'binary_crossentropy')"
      ],
      "execution_count": 220,
      "outputs": []
    },
    {
      "cell_type": "code",
      "metadata": {
        "colab": {
          "base_uri": "https://localhost:8080/"
        },
        "id": "5Z6LHtLc5oVj",
        "outputId": "1263758d-e88e-45b2-9a12-5f5969ed929f"
      },
      "source": [
        "model_7.summary()"
      ],
      "execution_count": 221,
      "outputs": [
        {
          "output_type": "stream",
          "text": [
            "Model: \"sequential_1\"\n",
            "_________________________________________________________________\n",
            "Layer (type)                 Output Shape              Param #   \n",
            "=================================================================\n",
            "keras_layer (KerasLayer)     (None, 512)               256797824 \n",
            "_________________________________________________________________\n",
            "dense_3 (Dense)              (None, 64)                32832     \n",
            "_________________________________________________________________\n",
            "dense_4 (Dense)              (None, 1)                 65        \n",
            "=================================================================\n",
            "Total params: 256,830,721\n",
            "Trainable params: 32,897\n",
            "Non-trainable params: 256,797,824\n",
            "_________________________________________________________________\n"
          ],
          "name": "stdout"
        }
      ]
    },
    {
      "cell_type": "code",
      "metadata": {
        "colab": {
          "base_uri": "https://localhost:8080/"
        },
        "id": "5to6AVNZ5oVj",
        "outputId": "ae3d4abd-bec1-4c70-e6e3-ddceac2a928c"
      },
      "source": [
        "history_7 = model_7.fit(tf.constant(X_train_10), y_train_10, epochs = 5,\n",
        "                        validation_data = (tf.constant(X_val), y_val),\n",
        "                        callbacks = create_tf_board_callback(DIR, 'USE_model_7_10%'))"
      ],
      "execution_count": 222,
      "outputs": [
        {
          "output_type": "stream",
          "text": [
            "Saving TensorBoard log files to model_logs/USE_model_7_10%/20210718-182718\n",
            "Epoch 1/5\n",
            "22/22 [==============================] - 3s 70ms/step - loss: 0.6732 - accuracy: 0.6818 - val_loss: 0.6499 - val_accuracy: 0.7362\n",
            "Epoch 2/5\n",
            "22/22 [==============================] - 0s 19ms/step - loss: 0.6063 - accuracy: 0.8161 - val_loss: 0.5980 - val_accuracy: 0.7572\n",
            "Epoch 3/5\n",
            "22/22 [==============================] - 0s 20ms/step - loss: 0.5349 - accuracy: 0.8248 - val_loss: 0.5481 - val_accuracy: 0.7625\n",
            "Epoch 4/5\n",
            "22/22 [==============================] - 1s 25ms/step - loss: 0.4715 - accuracy: 0.8263 - val_loss: 0.5132 - val_accuracy: 0.7612\n",
            "Epoch 5/5\n",
            "22/22 [==============================] - 1s 25ms/step - loss: 0.4303 - accuracy: 0.8234 - val_loss: 0.5012 - val_accuracy: 0.7677\n"
          ],
          "name": "stdout"
        }
      ]
    },
    {
      "cell_type": "code",
      "metadata": {
        "id": "EtEGmrFc5oVk"
      },
      "source": [
        "prob_7 = model_7.predict(tf.constant(X_val))"
      ],
      "execution_count": 223,
      "outputs": []
    },
    {
      "cell_type": "code",
      "metadata": {
        "id": "msjCBGdZ5oVk"
      },
      "source": [
        "pred_7 = np.round(prob_7).flatten()"
      ],
      "execution_count": 224,
      "outputs": []
    },
    {
      "cell_type": "code",
      "metadata": {
        "id": "nEcGkLsM5oVk"
      },
      "source": [
        "write_result(pred_7, 'USE_10%_model_7')"
      ],
      "execution_count": 225,
      "outputs": []
    },
    {
      "cell_type": "code",
      "metadata": {
        "colab": {
          "base_uri": "https://localhost:8080/",
          "height": 343
        },
        "id": "V5tyHhHu5oVl",
        "outputId": "fc844e2f-81dc-44e4-9498-810d154c47db"
      },
      "source": [
        "results_df"
      ],
      "execution_count": 226,
      "outputs": [
        {
          "output_type": "execute_result",
          "data": {
            "text/html": [
              "<div>\n",
              "<style scoped>\n",
              "    .dataframe tbody tr th:only-of-type {\n",
              "        vertical-align: middle;\n",
              "    }\n",
              "\n",
              "    .dataframe tbody tr th {\n",
              "        vertical-align: top;\n",
              "    }\n",
              "\n",
              "    .dataframe thead th {\n",
              "        text-align: right;\n",
              "    }\n",
              "</style>\n",
              "<table border=\"1\" class=\"dataframe\">\n",
              "  <thead>\n",
              "    <tr style=\"text-align: right;\">\n",
              "      <th></th>\n",
              "      <th>num_experiment</th>\n",
              "      <th>model_name</th>\n",
              "      <th>accuracy_score</th>\n",
              "      <th>precision</th>\n",
              "      <th>racall</th>\n",
              "      <th>f-1_score</th>\n",
              "    </tr>\n",
              "  </thead>\n",
              "  <tbody>\n",
              "    <tr>\n",
              "      <th>0</th>\n",
              "      <td>0</td>\n",
              "      <td>base_naive_bayes</td>\n",
              "      <td>0.796588</td>\n",
              "      <td>0.884462</td>\n",
              "      <td>0.637931</td>\n",
              "      <td>0.741235</td>\n",
              "    </tr>\n",
              "    <tr>\n",
              "      <th>1</th>\n",
              "      <td>1</td>\n",
              "      <td>base_dense_model_1</td>\n",
              "      <td>0.754593</td>\n",
              "      <td>0.778547</td>\n",
              "      <td>0.646552</td>\n",
              "      <td>0.706436</td>\n",
              "    </tr>\n",
              "    <tr>\n",
              "      <th>2</th>\n",
              "      <td>2</td>\n",
              "      <td>simple_dense_model_1_2</td>\n",
              "      <td>0.766404</td>\n",
              "      <td>0.760736</td>\n",
              "      <td>0.712644</td>\n",
              "      <td>0.735905</td>\n",
              "    </tr>\n",
              "    <tr>\n",
              "      <th>3</th>\n",
              "      <td>3</td>\n",
              "      <td>LSTM_model_2</td>\n",
              "      <td>0.772966</td>\n",
              "      <td>0.779553</td>\n",
              "      <td>0.701149</td>\n",
              "      <td>0.738275</td>\n",
              "    </tr>\n",
              "    <tr>\n",
              "      <th>4</th>\n",
              "      <td>4</td>\n",
              "      <td>GRU_model_3</td>\n",
              "      <td>0.765092</td>\n",
              "      <td>0.807273</td>\n",
              "      <td>0.637931</td>\n",
              "      <td>0.712681</td>\n",
              "    </tr>\n",
              "    <tr>\n",
              "      <th>5</th>\n",
              "      <td>5</td>\n",
              "      <td>Bidirectional_model_4</td>\n",
              "      <td>0.755906</td>\n",
              "      <td>0.785211</td>\n",
              "      <td>0.640805</td>\n",
              "      <td>0.705696</td>\n",
              "    </tr>\n",
              "    <tr>\n",
              "      <th>6</th>\n",
              "      <td>6</td>\n",
              "      <td>Conv1D_model_5</td>\n",
              "      <td>0.750656</td>\n",
              "      <td>0.754839</td>\n",
              "      <td>0.672414</td>\n",
              "      <td>0.711246</td>\n",
              "    </tr>\n",
              "    <tr>\n",
              "      <th>7</th>\n",
              "      <td>7</td>\n",
              "      <td>USE_model_6</td>\n",
              "      <td>0.812336</td>\n",
              "      <td>0.870036</td>\n",
              "      <td>0.692529</td>\n",
              "      <td>0.771200</td>\n",
              "    </tr>\n",
              "    <tr>\n",
              "      <th>8</th>\n",
              "      <td>8</td>\n",
              "      <td>USE_10%_model_7</td>\n",
              "      <td>0.767717</td>\n",
              "      <td>0.771429</td>\n",
              "      <td>0.698276</td>\n",
              "      <td>0.733032</td>\n",
              "    </tr>\n",
              "  </tbody>\n",
              "</table>\n",
              "</div>"
            ],
            "text/plain": [
              "  num_experiment              model_name  ...    racall  f-1_score\n",
              "0              0        base_naive_bayes  ...  0.637931   0.741235\n",
              "1              1      base_dense_model_1  ...  0.646552   0.706436\n",
              "2              2  simple_dense_model_1_2  ...  0.712644   0.735905\n",
              "3              3            LSTM_model_2  ...  0.701149   0.738275\n",
              "4              4             GRU_model_3  ...  0.637931   0.712681\n",
              "5              5   Bidirectional_model_4  ...  0.640805   0.705696\n",
              "6              6          Conv1D_model_5  ...  0.672414   0.711246\n",
              "7              7             USE_model_6  ...  0.692529   0.771200\n",
              "8              8         USE_10%_model_7  ...  0.698276   0.733032\n",
              "\n",
              "[9 rows x 6 columns]"
            ]
          },
          "metadata": {
            "tags": []
          },
          "execution_count": 226
        }
      ]
    },
    {
      "cell_type": "code",
      "metadata": {
        "colab": {
          "base_uri": "https://localhost:8080/"
        },
        "id": "t1lgUoss5oVl",
        "outputId": "735d7f3f-5836-4edc-a617-1e8fc753911c"
      },
      "source": [
        "model7_conf_matr = confusion_matrix(y_val, pred_7)\n",
        "model7_conf_matr"
      ],
      "execution_count": 227,
      "outputs": [
        {
          "output_type": "execute_result",
          "data": {
            "text/plain": [
              "array([[342,  72],\n",
              "       [105, 243]])"
            ]
          },
          "metadata": {
            "tags": []
          },
          "execution_count": 227
        }
      ]
    },
    {
      "cell_type": "code",
      "metadata": {
        "colab": {
          "base_uri": "https://localhost:8080/"
        },
        "id": "tDFg5DT95oVm",
        "outputId": "0ee4b93a-6bd5-408e-ec4c-5273a93ce5a9"
      },
      "source": [
        "base_conf_matr"
      ],
      "execution_count": 228,
      "outputs": [
        {
          "output_type": "execute_result",
          "data": {
            "text/plain": [
              "array([[385,  29],\n",
              "       [126, 222]])"
            ]
          },
          "metadata": {
            "tags": []
          },
          "execution_count": 228
        }
      ]
    },
    {
      "cell_type": "markdown",
      "metadata": {
        "id": "PVvaTSXn6UHL"
      },
      "source": [
        "Try same model with same dataset with more layers and epochs"
      ]
    },
    {
      "cell_type": "code",
      "metadata": {
        "id": "uvWgIJvB6ctp"
      },
      "source": [
        "model_7_2 = Sequential([use_layer,\n",
        "                     Dense(128, activation='relu'),\n",
        "                     Dense(64, activation='relu'),\n",
        "                     Dense(1, activation='sigmoid')])"
      ],
      "execution_count": 229,
      "outputs": []
    },
    {
      "cell_type": "code",
      "metadata": {
        "id": "Fxg8QERC6ctr"
      },
      "source": [
        "model_7_2.compile(optimizer='adam', metrics = 'accuracy', loss = 'binary_crossentropy')"
      ],
      "execution_count": 230,
      "outputs": []
    },
    {
      "cell_type": "code",
      "metadata": {
        "colab": {
          "base_uri": "https://localhost:8080/"
        },
        "id": "ig2IrRp46cts",
        "outputId": "cf0614b9-2882-45c0-ea27-a8e8ac5036f7"
      },
      "source": [
        "model_7_2.summary()"
      ],
      "execution_count": 231,
      "outputs": [
        {
          "output_type": "stream",
          "text": [
            "Model: \"sequential_2\"\n",
            "_________________________________________________________________\n",
            "Layer (type)                 Output Shape              Param #   \n",
            "=================================================================\n",
            "keras_layer (KerasLayer)     (None, 512)               256797824 \n",
            "_________________________________________________________________\n",
            "dense_5 (Dense)              (None, 128)               65664     \n",
            "_________________________________________________________________\n",
            "dense_6 (Dense)              (None, 64)                8256      \n",
            "_________________________________________________________________\n",
            "dense_7 (Dense)              (None, 1)                 65        \n",
            "=================================================================\n",
            "Total params: 256,871,809\n",
            "Trainable params: 73,985\n",
            "Non-trainable params: 256,797,824\n",
            "_________________________________________________________________\n"
          ],
          "name": "stdout"
        }
      ]
    },
    {
      "cell_type": "code",
      "metadata": {
        "colab": {
          "base_uri": "https://localhost:8080/"
        },
        "id": "ovMMprgv6ctu",
        "outputId": "7a9607d1-68dc-4ba3-c631-2736a3dbb89f"
      },
      "source": [
        "history_7_2 = model_7_2.fit(tf.constant(X_train_10), y_train_10, epochs = 25,\n",
        "                        validation_data = (tf.constant(X_val), y_val),\n",
        "                        callbacks = create_tf_board_callback(DIR, 'USE_model_7_2_10%'))"
      ],
      "execution_count": 232,
      "outputs": [
        {
          "output_type": "stream",
          "text": [
            "Saving TensorBoard log files to model_logs/USE_model_7_2_10%/20210718-182725\n",
            "Epoch 1/25\n",
            "22/22 [==============================] - 3s 75ms/step - loss: 0.6733 - accuracy: 0.6526 - val_loss: 0.6440 - val_accuracy: 0.6772\n",
            "Epoch 2/25\n",
            "22/22 [==============================] - 1s 26ms/step - loss: 0.5589 - accuracy: 0.7956 - val_loss: 0.5350 - val_accuracy: 0.7677\n",
            "Epoch 3/25\n",
            "22/22 [==============================] - 1s 26ms/step - loss: 0.4292 - accuracy: 0.8219 - val_loss: 0.5033 - val_accuracy: 0.7612\n",
            "Epoch 4/25\n",
            "22/22 [==============================] - 0s 21ms/step - loss: 0.3486 - accuracy: 0.8496 - val_loss: 0.5228 - val_accuracy: 0.7638\n",
            "Epoch 5/25\n",
            "22/22 [==============================] - 0s 21ms/step - loss: 0.2924 - accuracy: 0.8891 - val_loss: 0.5323 - val_accuracy: 0.7612\n",
            "Epoch 6/25\n",
            "22/22 [==============================] - 0s 21ms/step - loss: 0.2487 - accuracy: 0.9197 - val_loss: 0.5824 - val_accuracy: 0.7533\n",
            "Epoch 7/25\n",
            "22/22 [==============================] - 1s 25ms/step - loss: 0.2066 - accuracy: 0.9431 - val_loss: 0.5938 - val_accuracy: 0.7507\n",
            "Epoch 8/25\n",
            "22/22 [==============================] - 0s 21ms/step - loss: 0.1683 - accuracy: 0.9533 - val_loss: 0.6250 - val_accuracy: 0.7415\n",
            "Epoch 9/25\n",
            "22/22 [==============================] - 0s 20ms/step - loss: 0.1356 - accuracy: 0.9664 - val_loss: 0.6537 - val_accuracy: 0.7375\n",
            "Epoch 10/25\n",
            "22/22 [==============================] - 1s 27ms/step - loss: 0.0998 - accuracy: 0.9781 - val_loss: 0.7163 - val_accuracy: 0.7454\n",
            "Epoch 11/25\n",
            "22/22 [==============================] - 0s 22ms/step - loss: 0.0755 - accuracy: 0.9839 - val_loss: 0.7533 - val_accuracy: 0.7349\n",
            "Epoch 12/25\n",
            "22/22 [==============================] - 0s 21ms/step - loss: 0.0575 - accuracy: 0.9854 - val_loss: 0.8021 - val_accuracy: 0.7428\n",
            "Epoch 13/25\n",
            "22/22 [==============================] - 0s 21ms/step - loss: 0.0476 - accuracy: 0.9912 - val_loss: 0.8355 - val_accuracy: 0.7323\n",
            "Epoch 14/25\n",
            "22/22 [==============================] - 1s 27ms/step - loss: 0.0362 - accuracy: 0.9898 - val_loss: 0.8808 - val_accuracy: 0.7480\n",
            "Epoch 15/25\n",
            "22/22 [==============================] - 1s 26ms/step - loss: 0.0315 - accuracy: 0.9912 - val_loss: 0.9130 - val_accuracy: 0.7402\n",
            "Epoch 16/25\n",
            "22/22 [==============================] - 1s 25ms/step - loss: 0.0245 - accuracy: 0.9927 - val_loss: 0.9512 - val_accuracy: 0.7493\n",
            "Epoch 17/25\n",
            "22/22 [==============================] - 1s 25ms/step - loss: 0.0225 - accuracy: 0.9956 - val_loss: 0.9699 - val_accuracy: 0.7297\n",
            "Epoch 18/25\n",
            "22/22 [==============================] - 0s 21ms/step - loss: 0.0204 - accuracy: 0.9927 - val_loss: 0.9982 - val_accuracy: 0.7402\n",
            "Epoch 19/25\n",
            "22/22 [==============================] - 0s 20ms/step - loss: 0.0178 - accuracy: 0.9956 - val_loss: 1.0279 - val_accuracy: 0.7388\n",
            "Epoch 20/25\n",
            "22/22 [==============================] - 0s 22ms/step - loss: 0.0183 - accuracy: 0.9942 - val_loss: 1.0465 - val_accuracy: 0.7441\n",
            "Epoch 21/25\n",
            "22/22 [==============================] - 0s 21ms/step - loss: 0.0170 - accuracy: 0.9942 - val_loss: 1.0689 - val_accuracy: 0.7428\n",
            "Epoch 22/25\n",
            "22/22 [==============================] - 1s 26ms/step - loss: 0.0188 - accuracy: 0.9927 - val_loss: 1.0816 - val_accuracy: 0.7310\n",
            "Epoch 23/25\n",
            "22/22 [==============================] - 1s 26ms/step - loss: 0.0166 - accuracy: 0.9942 - val_loss: 1.0990 - val_accuracy: 0.7428\n",
            "Epoch 24/25\n",
            "22/22 [==============================] - 1s 27ms/step - loss: 0.0159 - accuracy: 0.9942 - val_loss: 1.1130 - val_accuracy: 0.7454\n",
            "Epoch 25/25\n",
            "22/22 [==============================] - 0s 22ms/step - loss: 0.0143 - accuracy: 0.9956 - val_loss: 1.1208 - val_accuracy: 0.7349\n"
          ],
          "name": "stdout"
        }
      ]
    },
    {
      "cell_type": "code",
      "metadata": {
        "id": "wCupVMjE6ctv"
      },
      "source": [
        "prob_7_2 = model_7_2.predict(tf.constant(X_val))"
      ],
      "execution_count": 233,
      "outputs": []
    },
    {
      "cell_type": "code",
      "metadata": {
        "id": "BUOXi8sh6ctw"
      },
      "source": [
        "pred_7_2 = np.round(prob_7_2).flatten()"
      ],
      "execution_count": 234,
      "outputs": []
    },
    {
      "cell_type": "code",
      "metadata": {
        "id": "H5KnZ-SZ6ctw"
      },
      "source": [
        "write_result(pred_7_2, 'USE_10%_model_7_2')"
      ],
      "execution_count": 235,
      "outputs": []
    },
    {
      "cell_type": "code",
      "metadata": {
        "colab": {
          "base_uri": "https://localhost:8080/",
          "height": 374
        },
        "id": "eghbAZ3Q6ctw",
        "outputId": "943b048b-d376-424f-dacf-53ff57f67b10"
      },
      "source": [
        "results_df"
      ],
      "execution_count": 236,
      "outputs": [
        {
          "output_type": "execute_result",
          "data": {
            "text/html": [
              "<div>\n",
              "<style scoped>\n",
              "    .dataframe tbody tr th:only-of-type {\n",
              "        vertical-align: middle;\n",
              "    }\n",
              "\n",
              "    .dataframe tbody tr th {\n",
              "        vertical-align: top;\n",
              "    }\n",
              "\n",
              "    .dataframe thead th {\n",
              "        text-align: right;\n",
              "    }\n",
              "</style>\n",
              "<table border=\"1\" class=\"dataframe\">\n",
              "  <thead>\n",
              "    <tr style=\"text-align: right;\">\n",
              "      <th></th>\n",
              "      <th>num_experiment</th>\n",
              "      <th>model_name</th>\n",
              "      <th>accuracy_score</th>\n",
              "      <th>precision</th>\n",
              "      <th>racall</th>\n",
              "      <th>f-1_score</th>\n",
              "    </tr>\n",
              "  </thead>\n",
              "  <tbody>\n",
              "    <tr>\n",
              "      <th>0</th>\n",
              "      <td>0</td>\n",
              "      <td>base_naive_bayes</td>\n",
              "      <td>0.796588</td>\n",
              "      <td>0.884462</td>\n",
              "      <td>0.637931</td>\n",
              "      <td>0.741235</td>\n",
              "    </tr>\n",
              "    <tr>\n",
              "      <th>1</th>\n",
              "      <td>1</td>\n",
              "      <td>base_dense_model_1</td>\n",
              "      <td>0.754593</td>\n",
              "      <td>0.778547</td>\n",
              "      <td>0.646552</td>\n",
              "      <td>0.706436</td>\n",
              "    </tr>\n",
              "    <tr>\n",
              "      <th>2</th>\n",
              "      <td>2</td>\n",
              "      <td>simple_dense_model_1_2</td>\n",
              "      <td>0.766404</td>\n",
              "      <td>0.760736</td>\n",
              "      <td>0.712644</td>\n",
              "      <td>0.735905</td>\n",
              "    </tr>\n",
              "    <tr>\n",
              "      <th>3</th>\n",
              "      <td>3</td>\n",
              "      <td>LSTM_model_2</td>\n",
              "      <td>0.772966</td>\n",
              "      <td>0.779553</td>\n",
              "      <td>0.701149</td>\n",
              "      <td>0.738275</td>\n",
              "    </tr>\n",
              "    <tr>\n",
              "      <th>4</th>\n",
              "      <td>4</td>\n",
              "      <td>GRU_model_3</td>\n",
              "      <td>0.765092</td>\n",
              "      <td>0.807273</td>\n",
              "      <td>0.637931</td>\n",
              "      <td>0.712681</td>\n",
              "    </tr>\n",
              "    <tr>\n",
              "      <th>5</th>\n",
              "      <td>5</td>\n",
              "      <td>Bidirectional_model_4</td>\n",
              "      <td>0.755906</td>\n",
              "      <td>0.785211</td>\n",
              "      <td>0.640805</td>\n",
              "      <td>0.705696</td>\n",
              "    </tr>\n",
              "    <tr>\n",
              "      <th>6</th>\n",
              "      <td>6</td>\n",
              "      <td>Conv1D_model_5</td>\n",
              "      <td>0.750656</td>\n",
              "      <td>0.754839</td>\n",
              "      <td>0.672414</td>\n",
              "      <td>0.711246</td>\n",
              "    </tr>\n",
              "    <tr>\n",
              "      <th>7</th>\n",
              "      <td>7</td>\n",
              "      <td>USE_model_6</td>\n",
              "      <td>0.812336</td>\n",
              "      <td>0.870036</td>\n",
              "      <td>0.692529</td>\n",
              "      <td>0.771200</td>\n",
              "    </tr>\n",
              "    <tr>\n",
              "      <th>8</th>\n",
              "      <td>8</td>\n",
              "      <td>USE_10%_model_7</td>\n",
              "      <td>0.767717</td>\n",
              "      <td>0.771429</td>\n",
              "      <td>0.698276</td>\n",
              "      <td>0.733032</td>\n",
              "    </tr>\n",
              "    <tr>\n",
              "      <th>9</th>\n",
              "      <td>9</td>\n",
              "      <td>USE_10%_model_7_2</td>\n",
              "      <td>0.734908</td>\n",
              "      <td>0.712209</td>\n",
              "      <td>0.704023</td>\n",
              "      <td>0.708092</td>\n",
              "    </tr>\n",
              "  </tbody>\n",
              "</table>\n",
              "</div>"
            ],
            "text/plain": [
              "  num_experiment              model_name  ...    racall  f-1_score\n",
              "0              0        base_naive_bayes  ...  0.637931   0.741235\n",
              "1              1      base_dense_model_1  ...  0.646552   0.706436\n",
              "2              2  simple_dense_model_1_2  ...  0.712644   0.735905\n",
              "3              3            LSTM_model_2  ...  0.701149   0.738275\n",
              "4              4             GRU_model_3  ...  0.637931   0.712681\n",
              "5              5   Bidirectional_model_4  ...  0.640805   0.705696\n",
              "6              6          Conv1D_model_5  ...  0.672414   0.711246\n",
              "7              7             USE_model_6  ...  0.692529   0.771200\n",
              "8              8         USE_10%_model_7  ...  0.698276   0.733032\n",
              "9              9       USE_10%_model_7_2  ...  0.704023   0.708092\n",
              "\n",
              "[10 rows x 6 columns]"
            ]
          },
          "metadata": {
            "tags": []
          },
          "execution_count": 236
        }
      ]
    },
    {
      "cell_type": "code",
      "metadata": {
        "id": "ssZzOAjYG2qw"
      },
      "source": [
        "results_df = results_df.rename(columns = {'racall':'recall'})"
      ],
      "execution_count": 237,
      "outputs": []
    },
    {
      "cell_type": "code",
      "metadata": {
        "colab": {
          "base_uri": "https://localhost:8080/",
          "height": 597
        },
        "id": "wxDD-H70GDFU",
        "outputId": "6bb6ad05-0ffa-443b-c2ea-d69ee86fb648"
      },
      "source": [
        "ax = results_df.plot('model_name', ['f-1_score'], kind = 'bar', figsize = (10,7))\n",
        "ax.hlines(results_df['f-1_score'].max(), -0.5, 10, linestyles='dashed')\n",
        "ax.legend(bbox_to_anchor = (1.2,1.0))"
      ],
      "execution_count": 238,
      "outputs": [
        {
          "output_type": "execute_result",
          "data": {
            "text/plain": [
              "<matplotlib.legend.Legend at 0x7f24e3b340d0>"
            ]
          },
          "metadata": {
            "tags": []
          },
          "execution_count": 238
        },
        {
          "output_type": "display_data",
          "data": {
            "image/png": "[encoded data removed]",
            "text/plain": [
              "<Figure size 720x504 with 1 Axes>"
            ]
          },
          "metadata": {
            "tags": [],
            "needs_background": "light"
          }
        }
      ]
    },
    {
      "cell_type": "code",
      "metadata": {
        "id": "eJCMWi7uGTux",
        "colab": {
          "base_uri": "https://localhost:8080/"
        },
        "outputId": "43e5c9db-6f59-454e-c7a8-38044a8574f9"
      },
      "source": [
        "!tensorboard dev upload --logdir /content/model_logs --name 'NLP modeling experiments' --one_shot"
      ],
      "execution_count": 239,
      "outputs": [
        {
          "output_type": "stream",
          "text": [
            "2021-07-18 18:27:43.776456: I tensorflow/stream_executor/platform/default/dso_loader.cc:53] Successfully opened dynamic library libcudart.so.11.0\n",
            "\n",
            "***** TensorBoard Uploader *****\n",
            "\n",
            "This will upload your TensorBoard logs to https://tensorboard.dev/ from\n",
            "the following directory:\n",
            "\n",
            "/content/model_logs\n",
            "\n",
            "This TensorBoard will be visible to everyone. Do not upload sensitive\n",
            "data.\n",
            "\n",
            "Your use of this service is subject to Google's Terms of Service\n",
            "<https://policies.google.com/terms> and Privacy Policy\n",
            "<https://policies.google.com/privacy>, and TensorBoard.dev's Terms of Service\n",
            "<https://tensorboard.dev/policy/terms/>.\n",
            "\n",
            "This notice will not be shown again while you are logged into the uploader.\n",
            "To log out, run `tensorboard dev auth revoke`.\n",
            "\n",
            "Continue? (yes/NO) No\n"
          ],
          "name": "stdout"
        }
      ]
    },
    {
      "cell_type": "markdown",
      "metadata": {
        "id": "Sc2xSdIvPNjw"
      },
      "source": [
        "https://tensorboard.dev/experiment/AX7qWZ3mTyWnr1YEco5MtQ/#scalars&runSelectionState=eyJVU0VfbW9kZWxfNi8yMDIxMDcxOC0xNDQ4MDUvdHJhaW4iOnRydWUsIlVTRV9tb2RlbF82LzIwMjEwNzE4LTE1MTQwMS90cmFpbiI6dHJ1ZSwiVVNFX21vZGVsXzYvMjAyMTA3MTgtMTUxNTQzL3RyYWluIjp0cnVlLCJVU0VfbW9kZWxfNi8yMDIxMDcxOC0xNTE2MTgvdHJhaW4iOnRydWUsIlVTRV9tb2RlbF82LzIwMjEwNzE4LTE1MTcyOS90cmFpbiI6dHJ1ZSwiVVNFX21vZGVsXzdfMTAlLzIwMjEwNzE4LTE0NDgyOS90cmFpbiI6dHJ1ZSwiVVNFX21vZGVsXzdfMl8xMCUvMjAyMTA3MTgtMTQ0ODM2L3RyYWluIjp0cnVlLCJtb2RlbF8xLzIwMjEwNzE4LTE0NDQwMy90cmFpbiI6dHJ1ZSwibW9kZWxfMV8yLzIwMjEwNzE4LTE0NDQyNS90cmFpbiI6dHJ1ZSwibW9kZWxfMi8yMDIxMDcxOC0xNDQ0NDgvdHJhaW4iOnRydWUsIm1vZGVsXzMvMjAyMTA3MTgtMTQ0NTE4L3RyYWluIjp0cnVlLCJtb2RlbF80LzIwMjEwNzE4LTE0NDU0OC90cmFpbiI6dHJ1ZX0%3D"
      ]
    },
    {
      "cell_type": "markdown",
      "metadata": {
        "id": "9It3qNHrV5k4"
      },
      "source": [
        "### Save and load model\n",
        "1. hdf5 format\n",
        "2.save_model format\n",
        "\n",
        "!NOTE dont forget to add custom object"
      ]
    },
    {
      "cell_type": "code",
      "metadata": {
        "id": "kNtlcvpgNOe4"
      },
      "source": [
        "model_6.save('USE_model.h5')"
      ],
      "execution_count": 240,
      "outputs": []
    },
    {
      "cell_type": "code",
      "metadata": {
        "id": "gZxLoBF4XHKV"
      },
      "source": [
        "loaded_model_6 = tf.keras.models.load_model('USE_model.h5', custom_objects={'KerasLayer': hub.KerasLayer})"
      ],
      "execution_count": 241,
      "outputs": []
    },
    {
      "cell_type": "code",
      "metadata": {
        "colab": {
          "base_uri": "https://localhost:8080/"
        },
        "id": "bfTlBA9PYir5",
        "outputId": "597ef819-a168-44a8-c3cd-2b510d67c071"
      },
      "source": [
        "model_6.save('USE_model') #Saves to folder"
      ],
      "execution_count": 242,
      "outputs": [
        {
          "output_type": "stream",
          "text": [
            "INFO:tensorflow:Assets written to: USE_model/assets\n"
          ],
          "name": "stdout"
        },
        {
          "output_type": "stream",
          "text": [
            "INFO:tensorflow:Assets written to: USE_model/assets\n"
          ],
          "name": "stderr"
        }
      ]
    },
    {
      "cell_type": "code",
      "metadata": {
        "id": "zc8ZR0b1ZLJ1"
      },
      "source": [
        "loaded_model_6_save_model_format = tf.keras.models.load_model('USE_model')"
      ],
      "execution_count": 243,
      "outputs": []
    },
    {
      "cell_type": "markdown",
      "metadata": {
        "id": "hf3MNVsvZubu"
      },
      "source": [
        "### Check the most wrong predictions"
      ]
    },
    {
      "cell_type": "code",
      "metadata": {
        "id": "WDArU8anZbHB"
      },
      "source": [
        "probs = loaded_model_6_save_model_format.predict(tf.constant(X_val))"
      ],
      "execution_count": 244,
      "outputs": []
    },
    {
      "cell_type": "code",
      "metadata": {
        "colab": {
          "base_uri": "https://localhost:8080/"
        },
        "id": "2XrynBVRbfRk",
        "outputId": "ad0ae1fe-a727-4d05-8d8d-655b22a7a4e0"
      },
      "source": [
        "probs.flatten()[:10]"
      ],
      "execution_count": 245,
      "outputs": [
        {
          "output_type": "execute_result",
          "data": {
            "text/plain": [
              "array([0.06435454, 0.8745087 , 0.99946606, 0.21497262, 0.4561406 ,\n",
              "       0.96976537, 0.9936009 , 0.9988649 , 0.9956289 , 0.09337512],\n",
              "      dtype=float32)"
            ]
          },
          "metadata": {
            "tags": []
          },
          "execution_count": 245
        }
      ]
    },
    {
      "cell_type": "code",
      "metadata": {
        "id": "7lYjwFV_Z6dG"
      },
      "source": [
        "preds = np.round(probs).flatten()"
      ],
      "execution_count": 246,
      "outputs": []
    },
    {
      "cell_type": "code",
      "metadata": {
        "colab": {
          "base_uri": "https://localhost:8080/"
        },
        "id": "51Tvr4kyaCV-",
        "outputId": "44880e4c-6494-428b-96f4-d24d0c10882d"
      },
      "source": [
        "preds[:10]"
      ],
      "execution_count": 247,
      "outputs": [
        {
          "output_type": "execute_result",
          "data": {
            "text/plain": [
              "array([0., 1., 1., 0., 0., 1., 1., 1., 1., 0.], dtype=float32)"
            ]
          },
          "metadata": {
            "tags": []
          },
          "execution_count": 247
        }
      ]
    },
    {
      "cell_type": "code",
      "metadata": {
        "colab": {
          "base_uri": "https://localhost:8080/"
        },
        "id": "MwN6KN8waJqI",
        "outputId": "ab0372f4-181e-4fb7-dcac-cb074283f8c5"
      },
      "source": [
        "y_val[:10]"
      ],
      "execution_count": 248,
      "outputs": [
        {
          "output_type": "execute_result",
          "data": {
            "text/plain": [
              "array([0, 0, 1, 1, 1, 1, 1, 1, 1, 0])"
            ]
          },
          "metadata": {
            "tags": []
          },
          "execution_count": 248
        }
      ]
    },
    {
      "cell_type": "code",
      "metadata": {
        "id": "rKUGTyvLaMO0"
      },
      "source": [
        "df = pd.DataFrame.from_dict({'probs':probs.flatten(), 'preds':preds, 'true_val': y_val, 'tweets': X_val})"
      ],
      "execution_count": 249,
      "outputs": []
    },
    {
      "cell_type": "code",
      "metadata": {
        "colab": {
          "base_uri": "https://localhost:8080/",
          "height": 433
        },
        "id": "yyd5A82maaFW",
        "outputId": "e52ccfc3-1377-4875-bd99-0d825933569f"
      },
      "source": [
        "df"
      ],
      "execution_count": 250,
      "outputs": [
        {
          "output_type": "execute_result",
          "data": {
            "text/html": [
              "<div>\n",
              "<style scoped>\n",
              "    .dataframe tbody tr th:only-of-type {\n",
              "        vertical-align: middle;\n",
              "    }\n",
              "\n",
              "    .dataframe tbody tr th {\n",
              "        vertical-align: top;\n",
              "    }\n",
              "\n",
              "    .dataframe thead th {\n",
              "        text-align: right;\n",
              "    }\n",
              "</style>\n",
              "<table border=\"1\" class=\"dataframe\">\n",
              "  <thead>\n",
              "    <tr style=\"text-align: right;\">\n",
              "      <th></th>\n",
              "      <th>probs</th>\n",
              "      <th>preds</th>\n",
              "      <th>true_val</th>\n",
              "      <th>tweets</th>\n",
              "    </tr>\n",
              "  </thead>\n",
              "  <tbody>\n",
              "    <tr>\n",
              "      <th>0</th>\n",
              "      <td>0.064355</td>\n",
              "      <td>0.0</td>\n",
              "      <td>0</td>\n",
              "      <td>DFR EP Monthly Meltdown - On Dnbheaven ..</td>\n",
              "    </tr>\n",
              "    <tr>\n",
              "      <th>1</th>\n",
              "      <td>0.874509</td>\n",
              "      <td>1.0</td>\n",
              "      <td>0</td>\n",
              "      <td>FedEx no longer to transport bioterror germs i...</td>\n",
              "    </tr>\n",
              "    <tr>\n",
              "      <th>2</th>\n",
              "      <td>0.999466</td>\n",
              "      <td>1.0</td>\n",
              "      <td>1</td>\n",
              "      <td>Gunmen kill four in El Salvador bus attack: Su...</td>\n",
              "    </tr>\n",
              "    <tr>\n",
              "      <th>3</th>\n",
              "      <td>0.214973</td>\n",
              "      <td>0.0</td>\n",
              "      <td>1</td>\n",
              "      <td>Internally and externally screaming</td>\n",
              "    </tr>\n",
              "    <tr>\n",
              "      <th>4</th>\n",
              "      <td>0.456141</td>\n",
              "      <td>0.0</td>\n",
              "      <td>1</td>\n",
              "      <td>Radiation emergency #preparedness starts with ...</td>\n",
              "    </tr>\n",
              "    <tr>\n",
              "      <th>...</th>\n",
              "      <td>...</td>\n",
              "      <td>...</td>\n",
              "      <td>...</td>\n",
              "      <td>...</td>\n",
              "    </tr>\n",
              "    <tr>\n",
              "      <th>757</th>\n",
              "      <td>0.196850</td>\n",
              "      <td>0.0</td>\n",
              "      <td>0</td>\n",
              "      <td>That's the ultimate road to destruction</td>\n",
              "    </tr>\n",
              "    <tr>\n",
              "      <th>758</th>\n",
              "      <td>0.075672</td>\n",
              "      <td>0.0</td>\n",
              "      <td>0</td>\n",
              "      <td>dad why dont you claim me that mean that not ...</td>\n",
              "    </tr>\n",
              "    <tr>\n",
              "      <th>759</th>\n",
              "      <td>0.956391</td>\n",
              "      <td>1.0</td>\n",
              "      <td>0</td>\n",
              "      <td>FedEx will no longer transport bioterror patho...</td>\n",
              "    </tr>\n",
              "    <tr>\n",
              "      <th>760</th>\n",
              "      <td>0.654164</td>\n",
              "      <td>1.0</td>\n",
              "      <td>0</td>\n",
              "      <td>Crack in the path where I wiped out this morni...</td>\n",
              "    </tr>\n",
              "    <tr>\n",
              "      <th>761</th>\n",
              "      <td>0.158338</td>\n",
              "      <td>0.0</td>\n",
              "      <td>0</td>\n",
              "      <td>I liked a  video from</td>\n",
              "    </tr>\n",
              "  </tbody>\n",
              "</table>\n",
              "<p>762 rows × 4 columns</p>\n",
              "</div>"
            ],
            "text/plain": [
              "        probs  ...                                             tweets\n",
              "0    0.064355  ...         DFR EP Monthly Meltdown - On Dnbheaven .. \n",
              "1    0.874509  ...  FedEx no longer to transport bioterror germs i...\n",
              "2    0.999466  ...  Gunmen kill four in El Salvador bus attack: Su...\n",
              "3    0.214973  ...                Internally and externally screaming\n",
              "4    0.456141  ...  Radiation emergency #preparedness starts with ...\n",
              "..        ...  ...                                                ...\n",
              "757  0.196850  ...            That's the ultimate road to destruction\n",
              "758  0.075672  ...   dad why dont you claim me that mean that not ...\n",
              "759  0.956391  ...  FedEx will no longer transport bioterror patho...\n",
              "760  0.654164  ...  Crack in the path where I wiped out this morni...\n",
              "761  0.158338  ...                            I liked a  video from  \n",
              "\n",
              "[762 rows x 4 columns]"
            ]
          },
          "metadata": {
            "tags": []
          },
          "execution_count": 250
        }
      ]
    },
    {
      "cell_type": "code",
      "metadata": {
        "id": "YsDicObua9Bi"
      },
      "source": [
        "df['wrong'] = df.preds==df.true_val"
      ],
      "execution_count": 251,
      "outputs": []
    },
    {
      "cell_type": "code",
      "metadata": {
        "colab": {
          "base_uri": "https://localhost:8080/",
          "height": 221
        },
        "id": "aYdO9ACqcPC5",
        "outputId": "52aef22e-afd7-4931-d98e-626fd2816eee"
      },
      "source": [
        "df.head()"
      ],
      "execution_count": 252,
      "outputs": [
        {
          "output_type": "execute_result",
          "data": {
            "text/html": [
              "<div>\n",
              "<style scoped>\n",
              "    .dataframe tbody tr th:only-of-type {\n",
              "        vertical-align: middle;\n",
              "    }\n",
              "\n",
              "    .dataframe tbody tr th {\n",
              "        vertical-align: top;\n",
              "    }\n",
              "\n",
              "    .dataframe thead th {\n",
              "        text-align: right;\n",
              "    }\n",
              "</style>\n",
              "<table border=\"1\" class=\"dataframe\">\n",
              "  <thead>\n",
              "    <tr style=\"text-align: right;\">\n",
              "      <th></th>\n",
              "      <th>probs</th>\n",
              "      <th>preds</th>\n",
              "      <th>true_val</th>\n",
              "      <th>tweets</th>\n",
              "      <th>wrong</th>\n",
              "    </tr>\n",
              "  </thead>\n",
              "  <tbody>\n",
              "    <tr>\n",
              "      <th>0</th>\n",
              "      <td>0.064355</td>\n",
              "      <td>0.0</td>\n",
              "      <td>0</td>\n",
              "      <td>DFR EP Monthly Meltdown - On Dnbheaven ..</td>\n",
              "      <td>True</td>\n",
              "    </tr>\n",
              "    <tr>\n",
              "      <th>1</th>\n",
              "      <td>0.874509</td>\n",
              "      <td>1.0</td>\n",
              "      <td>0</td>\n",
              "      <td>FedEx no longer to transport bioterror germs i...</td>\n",
              "      <td>False</td>\n",
              "    </tr>\n",
              "    <tr>\n",
              "      <th>2</th>\n",
              "      <td>0.999466</td>\n",
              "      <td>1.0</td>\n",
              "      <td>1</td>\n",
              "      <td>Gunmen kill four in El Salvador bus attack: Su...</td>\n",
              "      <td>True</td>\n",
              "    </tr>\n",
              "    <tr>\n",
              "      <th>3</th>\n",
              "      <td>0.214973</td>\n",
              "      <td>0.0</td>\n",
              "      <td>1</td>\n",
              "      <td>Internally and externally screaming</td>\n",
              "      <td>False</td>\n",
              "    </tr>\n",
              "    <tr>\n",
              "      <th>4</th>\n",
              "      <td>0.456141</td>\n",
              "      <td>0.0</td>\n",
              "      <td>1</td>\n",
              "      <td>Radiation emergency #preparedness starts with ...</td>\n",
              "      <td>False</td>\n",
              "    </tr>\n",
              "  </tbody>\n",
              "</table>\n",
              "</div>"
            ],
            "text/plain": [
              "      probs  preds  ...                                             tweets  wrong\n",
              "0  0.064355    0.0  ...         DFR EP Monthly Meltdown - On Dnbheaven ..    True\n",
              "1  0.874509    1.0  ...  FedEx no longer to transport bioterror germs i...  False\n",
              "2  0.999466    1.0  ...  Gunmen kill four in El Salvador bus attack: Su...   True\n",
              "3  0.214973    0.0  ...                Internally and externally screaming  False\n",
              "4  0.456141    0.0  ...  Radiation emergency #preparedness starts with ...  False\n",
              "\n",
              "[5 rows x 5 columns]"
            ]
          },
          "metadata": {
            "tags": []
          },
          "execution_count": 252
        }
      ]
    },
    {
      "cell_type": "code",
      "metadata": {
        "id": "kPsPc9ircQnl"
      },
      "source": [
        "df_wrong = df.loc[df.wrong == False]"
      ],
      "execution_count": 253,
      "outputs": []
    },
    {
      "cell_type": "code",
      "metadata": {
        "id": "LP0BbA1pcddQ"
      },
      "source": [
        "df_wrong = df_wrong.sort_values(by = 'probs', ascending = False)"
      ],
      "execution_count": 254,
      "outputs": []
    },
    {
      "cell_type": "code",
      "metadata": {
        "colab": {
          "base_uri": "https://localhost:8080/",
          "height": 433
        },
        "id": "xK0DGVXlcfba",
        "outputId": "2aafa631-a842-4d84-f42d-bd8c17ea42a9"
      },
      "source": [
        "df_wrong"
      ],
      "execution_count": 255,
      "outputs": [
        {
          "output_type": "execute_result",
          "data": {
            "text/html": [
              "<div>\n",
              "<style scoped>\n",
              "    .dataframe tbody tr th:only-of-type {\n",
              "        vertical-align: middle;\n",
              "    }\n",
              "\n",
              "    .dataframe tbody tr th {\n",
              "        vertical-align: top;\n",
              "    }\n",
              "\n",
              "    .dataframe thead th {\n",
              "        text-align: right;\n",
              "    }\n",
              "</style>\n",
              "<table border=\"1\" class=\"dataframe\">\n",
              "  <thead>\n",
              "    <tr style=\"text-align: right;\">\n",
              "      <th></th>\n",
              "      <th>probs</th>\n",
              "      <th>preds</th>\n",
              "      <th>true_val</th>\n",
              "      <th>tweets</th>\n",
              "      <th>wrong</th>\n",
              "    </tr>\n",
              "  </thead>\n",
              "  <tbody>\n",
              "    <tr>\n",
              "      <th>628</th>\n",
              "      <td>0.994627</td>\n",
              "      <td>1.0</td>\n",
              "      <td>0</td>\n",
              "      <td>That's where the concentration camps and mass...</td>\n",
              "      <td>False</td>\n",
              "    </tr>\n",
              "    <tr>\n",
              "      <th>303</th>\n",
              "      <td>0.967515</td>\n",
              "      <td>1.0</td>\n",
              "      <td>0</td>\n",
              "      <td>Trafford Centre film fans angry after Odeon ci...</td>\n",
              "      <td>False</td>\n",
              "    </tr>\n",
              "    <tr>\n",
              "      <th>759</th>\n",
              "      <td>0.956391</td>\n",
              "      <td>1.0</td>\n",
              "      <td>0</td>\n",
              "      <td>FedEx will no longer transport bioterror patho...</td>\n",
              "      <td>False</td>\n",
              "    </tr>\n",
              "    <tr>\n",
              "      <th>31</th>\n",
              "      <td>0.943674</td>\n",
              "      <td>1.0</td>\n",
              "      <td>0</td>\n",
              "      <td>? High Skies - Burning Buildings ?</td>\n",
              "      <td>False</td>\n",
              "    </tr>\n",
              "    <tr>\n",
              "      <th>344</th>\n",
              "      <td>0.924374</td>\n",
              "      <td>1.0</td>\n",
              "      <td>0</td>\n",
              "      <td>Air Group is here to the rescue! We have / Eme...</td>\n",
              "      <td>False</td>\n",
              "    </tr>\n",
              "    <tr>\n",
              "      <th>...</th>\n",
              "      <td>...</td>\n",
              "      <td>...</td>\n",
              "      <td>...</td>\n",
              "      <td>...</td>\n",
              "      <td>...</td>\n",
              "    </tr>\n",
              "    <tr>\n",
              "      <th>58</th>\n",
              "      <td>0.046142</td>\n",
              "      <td>0.0</td>\n",
              "      <td>1</td>\n",
              "      <td>Leitchfield KY:\\n\\n Bella Edward &amp;amp; Rosalie...</td>\n",
              "      <td>False</td>\n",
              "    </tr>\n",
              "    <tr>\n",
              "      <th>221</th>\n",
              "      <td>0.045035</td>\n",
              "      <td>0.0</td>\n",
              "      <td>1</td>\n",
              "      <td>going to redo my nails and watch behind the sc...</td>\n",
              "      <td>False</td>\n",
              "    </tr>\n",
              "    <tr>\n",
              "      <th>59</th>\n",
              "      <td>0.035653</td>\n",
              "      <td>0.0</td>\n",
              "      <td>1</td>\n",
              "      <td>You can never escape me. Bullets don't harm me...</td>\n",
              "      <td>False</td>\n",
              "    </tr>\n",
              "    <tr>\n",
              "      <th>38</th>\n",
              "      <td>0.027963</td>\n",
              "      <td>0.0</td>\n",
              "      <td>1</td>\n",
              "      <td>Why are you deluged with low self-image? Take ...</td>\n",
              "      <td>False</td>\n",
              "    </tr>\n",
              "    <tr>\n",
              "      <th>536</th>\n",
              "      <td>0.015586</td>\n",
              "      <td>0.0</td>\n",
              "      <td>1</td>\n",
              "      <td>At least you were sincere ??</td>\n",
              "      <td>False</td>\n",
              "    </tr>\n",
              "  </tbody>\n",
              "</table>\n",
              "<p>143 rows × 5 columns</p>\n",
              "</div>"
            ],
            "text/plain": [
              "        probs  preds  ...                                             tweets  wrong\n",
              "628  0.994627    1.0  ...   That's where the concentration camps and mass...  False\n",
              "303  0.967515    1.0  ...  Trafford Centre film fans angry after Odeon ci...  False\n",
              "759  0.956391    1.0  ...  FedEx will no longer transport bioterror patho...  False\n",
              "31   0.943674    1.0  ...                ? High Skies - Burning Buildings ?   False\n",
              "344  0.924374    1.0  ...  Air Group is here to the rescue! We have / Eme...  False\n",
              "..        ...    ...  ...                                                ...    ...\n",
              "58   0.046142    0.0  ...  Leitchfield KY:\\n\\n Bella Edward &amp; Rosalie...  False\n",
              "221  0.045035    0.0  ...  going to redo my nails and watch behind the sc...  False\n",
              "59   0.035653    0.0  ...  You can never escape me. Bullets don't harm me...  False\n",
              "38   0.027963    0.0  ...  Why are you deluged with low self-image? Take ...  False\n",
              "536  0.015586    0.0  ...                       At least you were sincere ??  False\n",
              "\n",
              "[143 rows x 5 columns]"
            ]
          },
          "metadata": {
            "tags": []
          },
          "execution_count": 255
        }
      ]
    },
    {
      "cell_type": "code",
      "metadata": {
        "colab": {
          "base_uri": "https://localhost:8080/"
        },
        "id": "a70ENIGVczGg",
        "outputId": "271b4113-8826-48cf-ee02-86e8c63051de"
      },
      "source": [
        "print('False Positive')\n",
        "for i in range(0,10):\n",
        "  print(i, '.', df_wrong.tweets.iloc[i])\n",
        "print('----------------------------')  \n",
        "print('False Negative')\n",
        "for i in range(len(df_wrong) - 10, len(df_wrong)):\n",
        "  print(i, '.',df_wrong.tweets.iloc[i])  "
      ],
      "execution_count": 256,
      "outputs": [
        {
          "output_type": "stream",
          "text": [
            "False Positive\n",
            "0 .  That's where the concentration camps and mass murder come in. \n",
            " \n",
            "EVERY. FUCKING. TIME.\n",
            "1 . Trafford Centre film fans angry after Odeon cinema evacuated following false fire alarm   \n",
            "2 . FedEx will no longer transport bioterror pathogens in wake of anthrax lab mishaps \n",
            "3 . ? High Skies - Burning Buildings ? \n",
            "4 . Air Group is here to the rescue! We have / Emergency Service! Learn more about it here - \n",
            "5 . Deaths  \n",
            "6 . []  LIONEL TRAINS SMOKE LOCOMOTIVES WITH MAGNE-TRACTION INSTRUCTIONS \n",
            "7 . åÈMGN-AFRICAå¨ pin:F åÈ Correction: Tent Collapse Story: Correction: Tent Collapse story åÈ \n",
            "8 . GENERAL AUDIENCE: On Wounded Families | ZENIT - The World Seen From Rome \n",
            "9 . FedEx no longer to transport bioterror germs in wake of anthrax lab mishaps \n",
            "----------------------------\n",
            "False Negative\n",
            "133 .  this is Sabrina my dad rescued her from some dude who kept her in a cage. We've had her since I was  \n",
            "134 . Lucas Duda is Ghost Rider. Not the Nic Cage version but an actual 'engulfed in flames' badass. #Mets\n",
            "135 . World War II book LIGHTNING JOE An Autobiography by General J. Lawton Collins \n",
            "136 .  HE WAS THE LICH KING'S FIRST CASUALTY BLOCK ME BACK I HATE YOU! \n",
            "137 . VICTORINOX SWISS ARMY DATE WOMEN'S RUBBER MOP WATCH  \n",
            "138 . Leitchfield KY:\n",
            "\n",
            " Bella Edward &amp; Rosalie need rescue/adoption/local foster home(s)/sponsorships.\n",
            "\n",
            " Trapped &amp;... \n",
            "139 . going to redo my nails and watch behind the scenes of desolation of smaug ayyy\n",
            "140 . You can never escape me. Bullets don't harm me. Nothing harms me. But I know pain. I know pain. Sometimes I share it. With someone like you.\n",
            "141 . Why are you deluged with low self-image? Take the quiz: \n",
            "142 .  At least you were sincere ??\n"
          ],
          "name": "stdout"
        }
      ]
    },
    {
      "cell_type": "markdown",
      "metadata": {
        "id": "T7lFD_NxnAuO"
      },
      "source": [
        "### Predict test data and upload to Kaggle"
      ]
    },
    {
      "cell_type": "code",
      "metadata": {
        "colab": {
          "base_uri": "https://localhost:8080/"
        },
        "id": "hdpDBi2vnJ-r",
        "outputId": "e8300257-157e-43eb-eb00-30287bf49cea"
      },
      "source": [
        "X_test[:10]"
      ],
      "execution_count": 257,
      "outputs": [
        {
          "output_type": "execute_result",
          "data": {
            "text/plain": [
              "['Just happened a terrible car crash',\n",
              " 'Heard about #earthquake is different cities, stay safe everyone.',\n",
              " 'there is a forest fire at spot pond, geese are fleeing across the street, I cannot save them all',\n",
              " 'Apocalypse lighting. #Spokane #wildfires',\n",
              " 'Typhoon Soudelor kills  in China and Taiwan',\n",
              " \"We're shaking...It's an earthquake\",\n",
              " \"They'd probably still show more life than Arsenal did yesterday, eh? EH?\",\n",
              " 'Hey! How are you?',\n",
              " 'What a nice hat?',\n",
              " 'Fuck off!']"
            ]
          },
          "metadata": {
            "tags": []
          },
          "execution_count": 257
        }
      ]
    },
    {
      "cell_type": "code",
      "metadata": {
        "id": "5c0_kaZzm-UZ"
      },
      "source": [
        "probs_test = loaded_model_6_save_model_format.predict(tf.constant(X_test))"
      ],
      "execution_count": 258,
      "outputs": []
    },
    {
      "cell_type": "code",
      "metadata": {
        "colab": {
          "base_uri": "https://localhost:8080/"
        },
        "id": "lS4AXJWgm-Ub",
        "outputId": "6c9ebf39-1dec-4ae4-d3d6-74af7f22b4e8"
      },
      "source": [
        "probs_test.flatten()[:10]"
      ],
      "execution_count": 259,
      "outputs": [
        {
          "output_type": "execute_result",
          "data": {
            "text/plain": [
              "array([0.5353782 , 0.9655788 , 0.50434774, 0.9388049 , 0.9997089 ,\n",
              "       0.53327674, 0.1304496 , 0.03222466, 0.07996735, 0.08559108],\n",
              "      dtype=float32)"
            ]
          },
          "metadata": {
            "tags": []
          },
          "execution_count": 259
        }
      ]
    },
    {
      "cell_type": "code",
      "metadata": {
        "id": "3g42oNEYm-Ub"
      },
      "source": [
        "preds_test = np.round(probs_test).flatten()"
      ],
      "execution_count": 260,
      "outputs": []
    },
    {
      "cell_type": "code",
      "metadata": {
        "colab": {
          "base_uri": "https://localhost:8080/",
          "height": 221
        },
        "id": "4ALYugPkoDQ-",
        "outputId": "e17f8e18-1884-4756-e809-495b732e2bb0"
      },
      "source": [
        "df_test.head()"
      ],
      "execution_count": 261,
      "outputs": [
        {
          "output_type": "execute_result",
          "data": {
            "text/html": [
              "<div>\n",
              "<style scoped>\n",
              "    .dataframe tbody tr th:only-of-type {\n",
              "        vertical-align: middle;\n",
              "    }\n",
              "\n",
              "    .dataframe tbody tr th {\n",
              "        vertical-align: top;\n",
              "    }\n",
              "\n",
              "    .dataframe thead th {\n",
              "        text-align: right;\n",
              "    }\n",
              "</style>\n",
              "<table border=\"1\" class=\"dataframe\">\n",
              "  <thead>\n",
              "    <tr style=\"text-align: right;\">\n",
              "      <th></th>\n",
              "      <th>id</th>\n",
              "      <th>keyword</th>\n",
              "      <th>location</th>\n",
              "      <th>text</th>\n",
              "    </tr>\n",
              "  </thead>\n",
              "  <tbody>\n",
              "    <tr>\n",
              "      <th>0</th>\n",
              "      <td>0</td>\n",
              "      <td></td>\n",
              "      <td></td>\n",
              "      <td>Just happened a terrible car crash</td>\n",
              "    </tr>\n",
              "    <tr>\n",
              "      <th>1</th>\n",
              "      <td>2</td>\n",
              "      <td></td>\n",
              "      <td></td>\n",
              "      <td>Heard about #earthquake is different cities, s...</td>\n",
              "    </tr>\n",
              "    <tr>\n",
              "      <th>2</th>\n",
              "      <td>3</td>\n",
              "      <td></td>\n",
              "      <td></td>\n",
              "      <td>there is a forest fire at spot pond, geese are...</td>\n",
              "    </tr>\n",
              "    <tr>\n",
              "      <th>3</th>\n",
              "      <td>9</td>\n",
              "      <td></td>\n",
              "      <td></td>\n",
              "      <td>Apocalypse lighting. #Spokane #wildfires</td>\n",
              "    </tr>\n",
              "    <tr>\n",
              "      <th>4</th>\n",
              "      <td>11</td>\n",
              "      <td></td>\n",
              "      <td></td>\n",
              "      <td>Typhoon Soudelor kills 28 in China and Taiwan</td>\n",
              "    </tr>\n",
              "  </tbody>\n",
              "</table>\n",
              "</div>"
            ],
            "text/plain": [
              "   id keyword location                                               text\n",
              "0   0                                  Just happened a terrible car crash\n",
              "1   2                   Heard about #earthquake is different cities, s...\n",
              "2   3                   there is a forest fire at spot pond, geese are...\n",
              "3   9                            Apocalypse lighting. #Spokane #wildfires\n",
              "4  11                       Typhoon Soudelor kills 28 in China and Taiwan"
            ]
          },
          "metadata": {
            "tags": []
          },
          "execution_count": 261
        }
      ]
    },
    {
      "cell_type": "code",
      "metadata": {
        "id": "jcENTTMwfbAa"
      },
      "source": [
        "df_final = pd.DataFrame(df_test.id)"
      ],
      "execution_count": 273,
      "outputs": []
    },
    {
      "cell_type": "code",
      "metadata": {
        "colab": {
          "base_uri": "https://localhost:8080/",
          "height": 433
        },
        "id": "joZOXeAY5kUF",
        "outputId": "d4f0f1d6-0819-4826-ee48-c2c8fde6417b"
      },
      "source": [
        "df_final"
      ],
      "execution_count": 274,
      "outputs": [
        {
          "output_type": "execute_result",
          "data": {
            "text/html": [
              "<div>\n",
              "<style scoped>\n",
              "    .dataframe tbody tr th:only-of-type {\n",
              "        vertical-align: middle;\n",
              "    }\n",
              "\n",
              "    .dataframe tbody tr th {\n",
              "        vertical-align: top;\n",
              "    }\n",
              "\n",
              "    .dataframe thead th {\n",
              "        text-align: right;\n",
              "    }\n",
              "</style>\n",
              "<table border=\"1\" class=\"dataframe\">\n",
              "  <thead>\n",
              "    <tr style=\"text-align: right;\">\n",
              "      <th></th>\n",
              "      <th>id</th>\n",
              "    </tr>\n",
              "  </thead>\n",
              "  <tbody>\n",
              "    <tr>\n",
              "      <th>0</th>\n",
              "      <td>0</td>\n",
              "    </tr>\n",
              "    <tr>\n",
              "      <th>1</th>\n",
              "      <td>2</td>\n",
              "    </tr>\n",
              "    <tr>\n",
              "      <th>2</th>\n",
              "      <td>3</td>\n",
              "    </tr>\n",
              "    <tr>\n",
              "      <th>3</th>\n",
              "      <td>9</td>\n",
              "    </tr>\n",
              "    <tr>\n",
              "      <th>4</th>\n",
              "      <td>11</td>\n",
              "    </tr>\n",
              "    <tr>\n",
              "      <th>...</th>\n",
              "      <td>...</td>\n",
              "    </tr>\n",
              "    <tr>\n",
              "      <th>3258</th>\n",
              "      <td>10861</td>\n",
              "    </tr>\n",
              "    <tr>\n",
              "      <th>3259</th>\n",
              "      <td>10865</td>\n",
              "    </tr>\n",
              "    <tr>\n",
              "      <th>3260</th>\n",
              "      <td>10868</td>\n",
              "    </tr>\n",
              "    <tr>\n",
              "      <th>3261</th>\n",
              "      <td>10874</td>\n",
              "    </tr>\n",
              "    <tr>\n",
              "      <th>3262</th>\n",
              "      <td>10875</td>\n",
              "    </tr>\n",
              "  </tbody>\n",
              "</table>\n",
              "<p>3263 rows × 1 columns</p>\n",
              "</div>"
            ],
            "text/plain": [
              "         id\n",
              "0         0\n",
              "1         2\n",
              "2         3\n",
              "3         9\n",
              "4        11\n",
              "...     ...\n",
              "3258  10861\n",
              "3259  10865\n",
              "3260  10868\n",
              "3261  10874\n",
              "3262  10875\n",
              "\n",
              "[3263 rows x 1 columns]"
            ]
          },
          "metadata": {
            "tags": []
          },
          "execution_count": 274
        }
      ]
    },
    {
      "cell_type": "code",
      "metadata": {
        "colab": {
          "base_uri": "https://localhost:8080/"
        },
        "id": "9JsYWa-S41dn",
        "outputId": "d93950ac-809e-48b1-f460-1b551daf698e"
      },
      "source": [
        "preds_test"
      ],
      "execution_count": 268,
      "outputs": [
        {
          "output_type": "execute_result",
          "data": {
            "text/plain": [
              "array([1., 1., 1., ..., 1., 1., 1.], dtype=float32)"
            ]
          },
          "metadata": {
            "tags": []
          },
          "execution_count": 268
        }
      ]
    },
    {
      "cell_type": "code",
      "metadata": {
        "id": "yyCYi0SNoKDf"
      },
      "source": [
        "df_final['target'] = preds_test.tolist()"
      ],
      "execution_count": 275,
      "outputs": []
    },
    {
      "cell_type": "code",
      "metadata": {
        "id": "OcSjSaD5oRMJ"
      },
      "source": [
        "df_final.target = df_final.target.astype(int)"
      ],
      "execution_count": 282,
      "outputs": []
    },
    {
      "cell_type": "code",
      "metadata": {
        "id": "XljohjdZ6uQS"
      },
      "source": [
        "df_final = df_final.set_index('id')"
      ],
      "execution_count": 278,
      "outputs": []
    },
    {
      "cell_type": "code",
      "metadata": {
        "colab": {
          "base_uri": "https://localhost:8080/",
          "height": 464
        },
        "id": "09FiQZj9606W",
        "outputId": "eeed2926-54cd-4fb0-d9d9-c4a9d885e06d"
      },
      "source": [
        "df_final"
      ],
      "execution_count": 283,
      "outputs": [
        {
          "output_type": "execute_result",
          "data": {
            "text/html": [
              "<div>\n",
              "<style scoped>\n",
              "    .dataframe tbody tr th:only-of-type {\n",
              "        vertical-align: middle;\n",
              "    }\n",
              "\n",
              "    .dataframe tbody tr th {\n",
              "        vertical-align: top;\n",
              "    }\n",
              "\n",
              "    .dataframe thead th {\n",
              "        text-align: right;\n",
              "    }\n",
              "</style>\n",
              "<table border=\"1\" class=\"dataframe\">\n",
              "  <thead>\n",
              "    <tr style=\"text-align: right;\">\n",
              "      <th></th>\n",
              "      <th>target</th>\n",
              "    </tr>\n",
              "    <tr>\n",
              "      <th>id</th>\n",
              "      <th></th>\n",
              "    </tr>\n",
              "  </thead>\n",
              "  <tbody>\n",
              "    <tr>\n",
              "      <th>0</th>\n",
              "      <td>1</td>\n",
              "    </tr>\n",
              "    <tr>\n",
              "      <th>2</th>\n",
              "      <td>1</td>\n",
              "    </tr>\n",
              "    <tr>\n",
              "      <th>3</th>\n",
              "      <td>1</td>\n",
              "    </tr>\n",
              "    <tr>\n",
              "      <th>9</th>\n",
              "      <td>1</td>\n",
              "    </tr>\n",
              "    <tr>\n",
              "      <th>11</th>\n",
              "      <td>1</td>\n",
              "    </tr>\n",
              "    <tr>\n",
              "      <th>...</th>\n",
              "      <td>...</td>\n",
              "    </tr>\n",
              "    <tr>\n",
              "      <th>10861</th>\n",
              "      <td>1</td>\n",
              "    </tr>\n",
              "    <tr>\n",
              "      <th>10865</th>\n",
              "      <td>1</td>\n",
              "    </tr>\n",
              "    <tr>\n",
              "      <th>10868</th>\n",
              "      <td>1</td>\n",
              "    </tr>\n",
              "    <tr>\n",
              "      <th>10874</th>\n",
              "      <td>1</td>\n",
              "    </tr>\n",
              "    <tr>\n",
              "      <th>10875</th>\n",
              "      <td>1</td>\n",
              "    </tr>\n",
              "  </tbody>\n",
              "</table>\n",
              "<p>3263 rows × 1 columns</p>\n",
              "</div>"
            ],
            "text/plain": [
              "       target\n",
              "id           \n",
              "0           1\n",
              "2           1\n",
              "3           1\n",
              "9           1\n",
              "11          1\n",
              "...       ...\n",
              "10861       1\n",
              "10865       1\n",
              "10868       1\n",
              "10874       1\n",
              "10875       1\n",
              "\n",
              "[3263 rows x 1 columns]"
            ]
          },
          "metadata": {
            "tags": []
          },
          "execution_count": 283
        }
      ]
    },
    {
      "cell_type": "code",
      "metadata": {
        "id": "CqhaolDq5W64"
      },
      "source": [
        "df_final.to_csv('sample_submission.csv')"
      ],
      "execution_count": 284,
      "outputs": []
    },
    {
      "cell_type": "markdown",
      "metadata": {
        "id": "nO2iZQeZ86Lj"
      },
      "source": [
        "824 place on Kaggle (out from 3559)"
      ]
    },
    {
      "cell_type": "code",
      "metadata": {
        "id": "INT3u47B6Unm"
      },
      "source": [
        ""
      ],
      "execution_count": null,
      "outputs": []
    }
  ]
}