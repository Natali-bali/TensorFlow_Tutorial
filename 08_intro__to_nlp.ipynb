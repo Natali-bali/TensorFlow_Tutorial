{
  "nbformat": 4,
  "nbformat_minor": 0,
  "metadata": {
    "colab": {
      "name": "08_intro _to_nlp.ipynb",
      "provenance": [],
      "collapsed_sections": [],
      "mount_file_id": "1QccHF_n9pYIgmNhR1YAHaJSa-Vjs5yvV",
      "authorship_tag": "ABX9TyO7fvOBwH3pdoT8K+tSI6B5",
      "include_colab_link": true
    },
    "kernelspec": {
      "name": "python3",
      "display_name": "Python 3"
    },
    "language_info": {
      "name": "python"
    },
    "accelerator": "GPU"
  },
  "cells": [
    {
      "cell_type": "markdown",
      "metadata": {
        "id": "view-in-github",
        "colab_type": "text"
      },
      "source": [
        "<a href=\"https://colab.research.google.com/github/Natali-bali/TensorFlow_Tutorial/blob/master/08_intro__to_nlp.ipynb\" target=\"_parent\"><img src=\"https://colab.research.google.com/assets/colab-badge.svg\" alt=\"Open In Colab\"/></a>"
      ]
    },
    {
      "cell_type": "markdown",
      "metadata": {
        "id": "ZjI6PLvctrHS"
      },
      "source": [
        "# Introduction to NLP fundamentals in TensorFlow\n",
        "\n",
        "- Downloading a text dataset\n",
        "- Visualizing text data\n",
        "- Converting text into numbers using tokenization\n",
        "- Turning our tokenized text into an embedding\n",
        "- Modelling a text dataset\n",
        "- Starting with a baseline (TF-IDF)\n",
        "- Building several deep learning text models\n",
        "- Dense, LSTM, GRU, Conv1D, Transfer learning\n",
        "- Comparing the performance of each our models\n",
        "- Combining our models into an ensemble\n",
        "- Saving and loading a trained model\n",
        "- Find the most wrong predictions"
      ]
    },
    {
      "cell_type": "markdown",
      "metadata": {
        "id": "4DRqpXg6ubbH"
      },
      "source": [
        "### Download helper functions and libararies"
      ]
    },
    {
      "cell_type": "code",
      "metadata": {
        "colab": {
          "base_uri": "https://localhost:8080/"
        },
        "id": "oDPMAxEXtdYU",
        "outputId": "79a18bad-b736-4bcb-ca74-9a869156b117"
      },
      "source": [
        "!wget 'https://raw.githubusercontent.com/Natali-bali/TensorFlow_Tutorial/master/helper_functions.py'"
      ],
      "execution_count": 1,
      "outputs": [
        {
          "output_type": "stream",
          "text": [
            "--2021-07-18 09:43:50--  https://raw.githubusercontent.com/Natali-bali/TensorFlow_Tutorial/master/helper_functions.py\n",
            "Resolving raw.githubusercontent.com (raw.githubusercontent.com)... 185.199.108.133, 185.199.109.133, 185.199.110.133, ...\n",
            "Connecting to raw.githubusercontent.com (raw.githubusercontent.com)|185.199.108.133|:443... connected.\n",
            "HTTP request sent, awaiting response... 200 OK\n",
            "Length: 11016 (11K) [text/plain]\n",
            "Saving to: ‘helper_functions.py’\n",
            "\n",
            "\rhelper_functions.py   0%[                    ]       0  --.-KB/s               \rhelper_functions.py 100%[===================>]  10.76K  --.-KB/s    in 0s      \n",
            "\n",
            "2021-07-18 09:43:50 (111 MB/s) - ‘helper_functions.py’ saved [11016/11016]\n",
            "\n"
          ],
          "name": "stdout"
        }
      ]
    },
    {
      "cell_type": "code",
      "metadata": {
        "id": "JAliFO19uzaZ"
      },
      "source": [
        "import numpy as np\n",
        "import tensorflow as tf\n",
        "import matplotlib.pyplot as plt\n",
        "import pandas as pd\n",
        "import re\n",
        "import random\n",
        "import seaborn as sns\n",
        "from sklearn.model_selection import train_test_split\n",
        "from tensorflow.keras import backend as K\n",
        "from tensorflow.keras import Model\n",
        "from tensorflow.keras.layers import Dense, Input, Activation, GlobalAveragePooling1D, Flatten, LSTM, GRU, Bidirectional, Conv1D\n",
        "from helper_functions import plot_confusion_matrix, plot_loss_curves, classes_names, plot_pictures, create_tf_board_callback, unzip_file, compare_historys, walk_through_dir"
      ],
      "execution_count": 146,
      "outputs": []
    },
    {
      "cell_type": "markdown",
      "metadata": {
        "id": "LL3kCwMtwLnt"
      },
      "source": [
        "### Download dataset from Kaggle\n",
        "\n",
        "We'll be using the Real or Not? datset from Kaggle which contains text-based Tweets about natural disasters.\n",
        "\n",
        "The Real Tweets are actually about diasters, for example:\n",
        "'Jetstar and Virgin forced to cancel Bali flights again because of ash from Mount Raung volcano'\n",
        "\n",
        "The Not Real Tweets are Tweets not about diasters (they can be on anything), for example:\n",
        "'Education is the most powerful weapon which you can use to change the world.' Nelson #Mandela #quote\n"
      ]
    },
    {
      "cell_type": "code",
      "metadata": {
        "colab": {
          "base_uri": "https://localhost:8080/"
        },
        "id": "s-YhC_2NvwFG",
        "outputId": "cec31867-4714-44aa-956d-b404b4318061"
      },
      "source": [
        "!wget \"https://storage.googleapis.com/ztm_tf_course/nlp_getting_started.zip\"\n",
        "\n",
        "unzip_file(\"nlp_getting_started.zip\")"
      ],
      "execution_count": 3,
      "outputs": [
        {
          "output_type": "stream",
          "text": [
            "--2021-07-18 09:43:53--  https://storage.googleapis.com/ztm_tf_course/nlp_getting_started.zip\n",
            "Resolving storage.googleapis.com (storage.googleapis.com)... 74.125.197.128, 74.125.142.128, 74.125.195.128, ...\n",
            "Connecting to storage.googleapis.com (storage.googleapis.com)|74.125.197.128|:443... connected.\n",
            "HTTP request sent, awaiting response... 200 OK\n",
            "Length: 607343 (593K) [application/zip]\n",
            "Saving to: ‘nlp_getting_started.zip’\n",
            "\n",
            "\rnlp_getting_started   0%[                    ]       0  --.-KB/s               \rnlp_getting_started 100%[===================>] 593.11K  --.-KB/s    in 0.004s  \n",
            "\n",
            "2021-07-18 09:43:53 (151 MB/s) - ‘nlp_getting_started.zip’ saved [607343/607343]\n",
            "\n"
          ],
          "name": "stdout"
        }
      ]
    },
    {
      "cell_type": "code",
      "metadata": {
        "id": "Gz3glX6CwSDj"
      },
      "source": [
        "df_test = pd.read_csv('/content/test.csv')\n",
        "df_train = pd.read_csv('/content/train.csv')"
      ],
      "execution_count": 4,
      "outputs": []
    },
    {
      "cell_type": "code",
      "metadata": {
        "colab": {
          "base_uri": "https://localhost:8080/",
          "height": 221
        },
        "id": "OqA7VzWRxB98",
        "outputId": "86f458ed-413f-4bee-98e2-1096c640cb52"
      },
      "source": [
        "df_test.head()"
      ],
      "execution_count": 5,
      "outputs": [
        {
          "output_type": "execute_result",
          "data": {
            "text/html": [
              "<div>\n",
              "<style scoped>\n",
              "    .dataframe tbody tr th:only-of-type {\n",
              "        vertical-align: middle;\n",
              "    }\n",
              "\n",
              "    .dataframe tbody tr th {\n",
              "        vertical-align: top;\n",
              "    }\n",
              "\n",
              "    .dataframe thead th {\n",
              "        text-align: right;\n",
              "    }\n",
              "</style>\n",
              "<table border=\"1\" class=\"dataframe\">\n",
              "  <thead>\n",
              "    <tr style=\"text-align: right;\">\n",
              "      <th></th>\n",
              "      <th>id</th>\n",
              "      <th>keyword</th>\n",
              "      <th>location</th>\n",
              "      <th>text</th>\n",
              "    </tr>\n",
              "  </thead>\n",
              "  <tbody>\n",
              "    <tr>\n",
              "      <th>0</th>\n",
              "      <td>0</td>\n",
              "      <td>NaN</td>\n",
              "      <td>NaN</td>\n",
              "      <td>Just happened a terrible car crash</td>\n",
              "    </tr>\n",
              "    <tr>\n",
              "      <th>1</th>\n",
              "      <td>2</td>\n",
              "      <td>NaN</td>\n",
              "      <td>NaN</td>\n",
              "      <td>Heard about #earthquake is different cities, s...</td>\n",
              "    </tr>\n",
              "    <tr>\n",
              "      <th>2</th>\n",
              "      <td>3</td>\n",
              "      <td>NaN</td>\n",
              "      <td>NaN</td>\n",
              "      <td>there is a forest fire at spot pond, geese are...</td>\n",
              "    </tr>\n",
              "    <tr>\n",
              "      <th>3</th>\n",
              "      <td>9</td>\n",
              "      <td>NaN</td>\n",
              "      <td>NaN</td>\n",
              "      <td>Apocalypse lighting. #Spokane #wildfires</td>\n",
              "    </tr>\n",
              "    <tr>\n",
              "      <th>4</th>\n",
              "      <td>11</td>\n",
              "      <td>NaN</td>\n",
              "      <td>NaN</td>\n",
              "      <td>Typhoon Soudelor kills 28 in China and Taiwan</td>\n",
              "    </tr>\n",
              "  </tbody>\n",
              "</table>\n",
              "</div>"
            ],
            "text/plain": [
              "   id keyword location                                               text\n",
              "0   0     NaN      NaN                 Just happened a terrible car crash\n",
              "1   2     NaN      NaN  Heard about #earthquake is different cities, s...\n",
              "2   3     NaN      NaN  there is a forest fire at spot pond, geese are...\n",
              "3   9     NaN      NaN           Apocalypse lighting. #Spokane #wildfires\n",
              "4  11     NaN      NaN      Typhoon Soudelor kills 28 in China and Taiwan"
            ]
          },
          "metadata": {
            "tags": []
          },
          "execution_count": 5
        }
      ]
    },
    {
      "cell_type": "code",
      "metadata": {
        "colab": {
          "base_uri": "https://localhost:8080/",
          "height": 984
        },
        "id": "lrp-YytWFSyt",
        "outputId": "db718899-ec2a-4cb6-885b-773f8cf392a2"
      },
      "source": [
        "df_train.head(30)"
      ],
      "execution_count": 6,
      "outputs": [
        {
          "output_type": "execute_result",
          "data": {
            "text/html": [
              "<div>\n",
              "<style scoped>\n",
              "    .dataframe tbody tr th:only-of-type {\n",
              "        vertical-align: middle;\n",
              "    }\n",
              "\n",
              "    .dataframe tbody tr th {\n",
              "        vertical-align: top;\n",
              "    }\n",
              "\n",
              "    .dataframe thead th {\n",
              "        text-align: right;\n",
              "    }\n",
              "</style>\n",
              "<table border=\"1\" class=\"dataframe\">\n",
              "  <thead>\n",
              "    <tr style=\"text-align: right;\">\n",
              "      <th></th>\n",
              "      <th>id</th>\n",
              "      <th>keyword</th>\n",
              "      <th>location</th>\n",
              "      <th>text</th>\n",
              "      <th>target</th>\n",
              "    </tr>\n",
              "  </thead>\n",
              "  <tbody>\n",
              "    <tr>\n",
              "      <th>0</th>\n",
              "      <td>1</td>\n",
              "      <td>NaN</td>\n",
              "      <td>NaN</td>\n",
              "      <td>Our Deeds are the Reason of this #earthquake M...</td>\n",
              "      <td>1</td>\n",
              "    </tr>\n",
              "    <tr>\n",
              "      <th>1</th>\n",
              "      <td>4</td>\n",
              "      <td>NaN</td>\n",
              "      <td>NaN</td>\n",
              "      <td>Forest fire near La Ronge Sask. Canada</td>\n",
              "      <td>1</td>\n",
              "    </tr>\n",
              "    <tr>\n",
              "      <th>2</th>\n",
              "      <td>5</td>\n",
              "      <td>NaN</td>\n",
              "      <td>NaN</td>\n",
              "      <td>All residents asked to 'shelter in place' are ...</td>\n",
              "      <td>1</td>\n",
              "    </tr>\n",
              "    <tr>\n",
              "      <th>3</th>\n",
              "      <td>6</td>\n",
              "      <td>NaN</td>\n",
              "      <td>NaN</td>\n",
              "      <td>13,000 people receive #wildfires evacuation or...</td>\n",
              "      <td>1</td>\n",
              "    </tr>\n",
              "    <tr>\n",
              "      <th>4</th>\n",
              "      <td>7</td>\n",
              "      <td>NaN</td>\n",
              "      <td>NaN</td>\n",
              "      <td>Just got sent this photo from Ruby #Alaska as ...</td>\n",
              "      <td>1</td>\n",
              "    </tr>\n",
              "    <tr>\n",
              "      <th>5</th>\n",
              "      <td>8</td>\n",
              "      <td>NaN</td>\n",
              "      <td>NaN</td>\n",
              "      <td>#RockyFire Update =&gt; California Hwy. 20 closed...</td>\n",
              "      <td>1</td>\n",
              "    </tr>\n",
              "    <tr>\n",
              "      <th>6</th>\n",
              "      <td>10</td>\n",
              "      <td>NaN</td>\n",
              "      <td>NaN</td>\n",
              "      <td>#flood #disaster Heavy rain causes flash flood...</td>\n",
              "      <td>1</td>\n",
              "    </tr>\n",
              "    <tr>\n",
              "      <th>7</th>\n",
              "      <td>13</td>\n",
              "      <td>NaN</td>\n",
              "      <td>NaN</td>\n",
              "      <td>I'm on top of the hill and I can see a fire in...</td>\n",
              "      <td>1</td>\n",
              "    </tr>\n",
              "    <tr>\n",
              "      <th>8</th>\n",
              "      <td>14</td>\n",
              "      <td>NaN</td>\n",
              "      <td>NaN</td>\n",
              "      <td>There's an emergency evacuation happening now ...</td>\n",
              "      <td>1</td>\n",
              "    </tr>\n",
              "    <tr>\n",
              "      <th>9</th>\n",
              "      <td>15</td>\n",
              "      <td>NaN</td>\n",
              "      <td>NaN</td>\n",
              "      <td>I'm afraid that the tornado is coming to our a...</td>\n",
              "      <td>1</td>\n",
              "    </tr>\n",
              "    <tr>\n",
              "      <th>10</th>\n",
              "      <td>16</td>\n",
              "      <td>NaN</td>\n",
              "      <td>NaN</td>\n",
              "      <td>Three people died from the heat wave so far</td>\n",
              "      <td>1</td>\n",
              "    </tr>\n",
              "    <tr>\n",
              "      <th>11</th>\n",
              "      <td>17</td>\n",
              "      <td>NaN</td>\n",
              "      <td>NaN</td>\n",
              "      <td>Haha South Tampa is getting flooded hah- WAIT ...</td>\n",
              "      <td>1</td>\n",
              "    </tr>\n",
              "    <tr>\n",
              "      <th>12</th>\n",
              "      <td>18</td>\n",
              "      <td>NaN</td>\n",
              "      <td>NaN</td>\n",
              "      <td>#raining #flooding #Florida #TampaBay #Tampa 1...</td>\n",
              "      <td>1</td>\n",
              "    </tr>\n",
              "    <tr>\n",
              "      <th>13</th>\n",
              "      <td>19</td>\n",
              "      <td>NaN</td>\n",
              "      <td>NaN</td>\n",
              "      <td>#Flood in Bago Myanmar #We arrived Bago</td>\n",
              "      <td>1</td>\n",
              "    </tr>\n",
              "    <tr>\n",
              "      <th>14</th>\n",
              "      <td>20</td>\n",
              "      <td>NaN</td>\n",
              "      <td>NaN</td>\n",
              "      <td>Damage to school bus on 80 in multi car crash ...</td>\n",
              "      <td>1</td>\n",
              "    </tr>\n",
              "    <tr>\n",
              "      <th>15</th>\n",
              "      <td>23</td>\n",
              "      <td>NaN</td>\n",
              "      <td>NaN</td>\n",
              "      <td>What's up man?</td>\n",
              "      <td>0</td>\n",
              "    </tr>\n",
              "    <tr>\n",
              "      <th>16</th>\n",
              "      <td>24</td>\n",
              "      <td>NaN</td>\n",
              "      <td>NaN</td>\n",
              "      <td>I love fruits</td>\n",
              "      <td>0</td>\n",
              "    </tr>\n",
              "    <tr>\n",
              "      <th>17</th>\n",
              "      <td>25</td>\n",
              "      <td>NaN</td>\n",
              "      <td>NaN</td>\n",
              "      <td>Summer is lovely</td>\n",
              "      <td>0</td>\n",
              "    </tr>\n",
              "    <tr>\n",
              "      <th>18</th>\n",
              "      <td>26</td>\n",
              "      <td>NaN</td>\n",
              "      <td>NaN</td>\n",
              "      <td>My car is so fast</td>\n",
              "      <td>0</td>\n",
              "    </tr>\n",
              "    <tr>\n",
              "      <th>19</th>\n",
              "      <td>28</td>\n",
              "      <td>NaN</td>\n",
              "      <td>NaN</td>\n",
              "      <td>What a goooooooaaaaaal!!!!!!</td>\n",
              "      <td>0</td>\n",
              "    </tr>\n",
              "    <tr>\n",
              "      <th>20</th>\n",
              "      <td>31</td>\n",
              "      <td>NaN</td>\n",
              "      <td>NaN</td>\n",
              "      <td>this is ridiculous....</td>\n",
              "      <td>0</td>\n",
              "    </tr>\n",
              "    <tr>\n",
              "      <th>21</th>\n",
              "      <td>32</td>\n",
              "      <td>NaN</td>\n",
              "      <td>NaN</td>\n",
              "      <td>London is cool ;)</td>\n",
              "      <td>0</td>\n",
              "    </tr>\n",
              "    <tr>\n",
              "      <th>22</th>\n",
              "      <td>33</td>\n",
              "      <td>NaN</td>\n",
              "      <td>NaN</td>\n",
              "      <td>Love skiing</td>\n",
              "      <td>0</td>\n",
              "    </tr>\n",
              "    <tr>\n",
              "      <th>23</th>\n",
              "      <td>34</td>\n",
              "      <td>NaN</td>\n",
              "      <td>NaN</td>\n",
              "      <td>What a wonderful day!</td>\n",
              "      <td>0</td>\n",
              "    </tr>\n",
              "    <tr>\n",
              "      <th>24</th>\n",
              "      <td>36</td>\n",
              "      <td>NaN</td>\n",
              "      <td>NaN</td>\n",
              "      <td>LOOOOOOL</td>\n",
              "      <td>0</td>\n",
              "    </tr>\n",
              "    <tr>\n",
              "      <th>25</th>\n",
              "      <td>37</td>\n",
              "      <td>NaN</td>\n",
              "      <td>NaN</td>\n",
              "      <td>No way...I can't eat that shit</td>\n",
              "      <td>0</td>\n",
              "    </tr>\n",
              "    <tr>\n",
              "      <th>26</th>\n",
              "      <td>38</td>\n",
              "      <td>NaN</td>\n",
              "      <td>NaN</td>\n",
              "      <td>Was in NYC last week!</td>\n",
              "      <td>0</td>\n",
              "    </tr>\n",
              "    <tr>\n",
              "      <th>27</th>\n",
              "      <td>39</td>\n",
              "      <td>NaN</td>\n",
              "      <td>NaN</td>\n",
              "      <td>Love my girlfriend</td>\n",
              "      <td>0</td>\n",
              "    </tr>\n",
              "    <tr>\n",
              "      <th>28</th>\n",
              "      <td>40</td>\n",
              "      <td>NaN</td>\n",
              "      <td>NaN</td>\n",
              "      <td>Cooool :)</td>\n",
              "      <td>0</td>\n",
              "    </tr>\n",
              "    <tr>\n",
              "      <th>29</th>\n",
              "      <td>41</td>\n",
              "      <td>NaN</td>\n",
              "      <td>NaN</td>\n",
              "      <td>Do you like pasta?</td>\n",
              "      <td>0</td>\n",
              "    </tr>\n",
              "  </tbody>\n",
              "</table>\n",
              "</div>"
            ],
            "text/plain": [
              "    id keyword  ...                                               text target\n",
              "0    1     NaN  ...  Our Deeds are the Reason of this #earthquake M...      1\n",
              "1    4     NaN  ...             Forest fire near La Ronge Sask. Canada      1\n",
              "2    5     NaN  ...  All residents asked to 'shelter in place' are ...      1\n",
              "3    6     NaN  ...  13,000 people receive #wildfires evacuation or...      1\n",
              "4    7     NaN  ...  Just got sent this photo from Ruby #Alaska as ...      1\n",
              "5    8     NaN  ...  #RockyFire Update => California Hwy. 20 closed...      1\n",
              "6   10     NaN  ...  #flood #disaster Heavy rain causes flash flood...      1\n",
              "7   13     NaN  ...  I'm on top of the hill and I can see a fire in...      1\n",
              "8   14     NaN  ...  There's an emergency evacuation happening now ...      1\n",
              "9   15     NaN  ...  I'm afraid that the tornado is coming to our a...      1\n",
              "10  16     NaN  ...        Three people died from the heat wave so far      1\n",
              "11  17     NaN  ...  Haha South Tampa is getting flooded hah- WAIT ...      1\n",
              "12  18     NaN  ...  #raining #flooding #Florida #TampaBay #Tampa 1...      1\n",
              "13  19     NaN  ...            #Flood in Bago Myanmar #We arrived Bago      1\n",
              "14  20     NaN  ...  Damage to school bus on 80 in multi car crash ...      1\n",
              "15  23     NaN  ...                                     What's up man?      0\n",
              "16  24     NaN  ...                                      I love fruits      0\n",
              "17  25     NaN  ...                                   Summer is lovely      0\n",
              "18  26     NaN  ...                                  My car is so fast      0\n",
              "19  28     NaN  ...                       What a goooooooaaaaaal!!!!!!      0\n",
              "20  31     NaN  ...                             this is ridiculous....      0\n",
              "21  32     NaN  ...                                  London is cool ;)      0\n",
              "22  33     NaN  ...                                        Love skiing      0\n",
              "23  34     NaN  ...                              What a wonderful day!      0\n",
              "24  36     NaN  ...                                           LOOOOOOL      0\n",
              "25  37     NaN  ...                     No way...I can't eat that shit      0\n",
              "26  38     NaN  ...                              Was in NYC last week!      0\n",
              "27  39     NaN  ...                                 Love my girlfriend      0\n",
              "28  40     NaN  ...                                          Cooool :)      0\n",
              "29  41     NaN  ...                                 Do you like pasta?      0\n",
              "\n",
              "[30 rows x 5 columns]"
            ]
          },
          "metadata": {
            "tags": []
          },
          "execution_count": 6
        }
      ]
    },
    {
      "cell_type": "code",
      "metadata": {
        "colab": {
          "base_uri": "https://localhost:8080/"
        },
        "id": "FDw_b3Z3xD9r",
        "outputId": "4ecff14d-b7b7-4acc-c0ad-a01be16cbc28"
      },
      "source": [
        "len(df_test), len(df_train)"
      ],
      "execution_count": 7,
      "outputs": [
        {
          "output_type": "execute_result",
          "data": {
            "text/plain": [
              "(3263, 7613)"
            ]
          },
          "metadata": {
            "tags": []
          },
          "execution_count": 7
        }
      ]
    },
    {
      "cell_type": "code",
      "metadata": {
        "colab": {
          "base_uri": "https://localhost:8080/"
        },
        "id": "2VBaRO9O8R_-",
        "outputId": "2b8a0d3d-6389-4a3d-ee0e-40354ad28d8d"
      },
      "source": [
        "df_train.info()"
      ],
      "execution_count": 8,
      "outputs": [
        {
          "output_type": "stream",
          "text": [
            "<class 'pandas.core.frame.DataFrame'>\n",
            "RangeIndex: 7613 entries, 0 to 7612\n",
            "Data columns (total 5 columns):\n",
            " #   Column    Non-Null Count  Dtype \n",
            "---  ------    --------------  ----- \n",
            " 0   id        7613 non-null   int64 \n",
            " 1   keyword   7552 non-null   object\n",
            " 2   location  5080 non-null   object\n",
            " 3   text      7613 non-null   object\n",
            " 4   target    7613 non-null   int64 \n",
            "dtypes: int64(2), object(3)\n",
            "memory usage: 297.5+ KB\n"
          ],
          "name": "stdout"
        }
      ]
    },
    {
      "cell_type": "code",
      "metadata": {
        "colab": {
          "base_uri": "https://localhost:8080/"
        },
        "id": "WbvsrHUU8UWP",
        "outputId": "5e12a239-4808-4f26-ed0f-a7c5266e991d"
      },
      "source": [
        "df_test.keyword.unique(), df_train.keyword.unique()"
      ],
      "execution_count": 9,
      "outputs": [
        {
          "output_type": "execute_result",
          "data": {
            "text/plain": [
              "(array([nan, 'ablaze', 'accident', 'aftershock', 'airplane%20accident',\n",
              "        'ambulance', 'annihilated', 'annihilation', 'apocalypse',\n",
              "        'armageddon', 'army', 'arson', 'arsonist', 'attack', 'attacked',\n",
              "        'avalanche', 'battle', 'bioterror', 'bioterrorism', 'blaze',\n",
              "        'blazing', 'bleeding', 'blew%20up', 'blight', 'blizzard', 'blood',\n",
              "        'bloody', 'blown%20up', 'body%20bag', 'body%20bagging',\n",
              "        'body%20bags', 'bomb', 'bombed', 'bombing', 'bridge%20collapse',\n",
              "        'buildings%20burning', 'buildings%20on%20fire', 'burned',\n",
              "        'burning', 'burning%20buildings', 'bush%20fires', 'casualties',\n",
              "        'casualty', 'catastrophe', 'catastrophic', 'chemical%20emergency',\n",
              "        'cliff%20fall', 'collapse', 'collapsed', 'collide', 'collided',\n",
              "        'collision', 'crash', 'crashed', 'crush', 'crushed', 'curfew',\n",
              "        'cyclone', 'damage', 'danger', 'dead', 'death', 'deaths', 'debris',\n",
              "        'deluge', 'deluged', 'demolish', 'demolished', 'demolition',\n",
              "        'derail', 'derailed', 'derailment', 'desolate', 'desolation',\n",
              "        'destroy', 'destroyed', 'destruction', 'detonate', 'detonation',\n",
              "        'devastated', 'devastation', 'disaster', 'displaced', 'drought',\n",
              "        'drown', 'drowned', 'drowning', 'dust%20storm', 'earthquake',\n",
              "        'electrocute', 'electrocuted', 'emergency', 'emergency%20plan',\n",
              "        'emergency%20services', 'engulfed', 'epicentre', 'evacuate',\n",
              "        'evacuated', 'evacuation', 'explode', 'exploded', 'explosion',\n",
              "        'eyewitness', 'famine', 'fatal', 'fatalities', 'fatality', 'fear',\n",
              "        'fire', 'fire%20truck', 'first%20responders', 'flames',\n",
              "        'flattened', 'flood', 'flooding', 'floods', 'forest%20fire',\n",
              "        'forest%20fires', 'hail', 'hailstorm', 'harm', 'hazard',\n",
              "        'hazardous', 'heat%20wave', 'hellfire', 'hijack', 'hijacker',\n",
              "        'hijacking', 'hostage', 'hostages', 'hurricane', 'injured',\n",
              "        'injuries', 'injury', 'inundated', 'inundation', 'landslide',\n",
              "        'lava', 'lightning', 'loud%20bang', 'mass%20murder',\n",
              "        'mass%20murderer', 'massacre', 'mayhem', 'meltdown', 'military',\n",
              "        'mudslide', 'natural%20disaster', 'nuclear%20disaster',\n",
              "        'nuclear%20reactor', 'obliterate', 'obliterated', 'obliteration',\n",
              "        'oil%20spill', 'outbreak', 'pandemonium', 'panic', 'panicking',\n",
              "        'police', 'quarantine', 'quarantined', 'radiation%20emergency',\n",
              "        'rainstorm', 'razed', 'refugees', 'rescue', 'rescued', 'rescuers',\n",
              "        'riot', 'rioting', 'rubble', 'ruin', 'sandstorm', 'screamed',\n",
              "        'screaming', 'screams', 'seismic', 'sinkhole', 'sinking', 'siren',\n",
              "        'sirens', 'smoke', 'snowstorm', 'storm', 'stretcher',\n",
              "        'structural%20failure', 'suicide%20bomb', 'suicide%20bomber',\n",
              "        'suicide%20bombing', 'sunk', 'survive', 'survived', 'survivors',\n",
              "        'terrorism', 'terrorist', 'threat', 'thunder', 'thunderstorm',\n",
              "        'tornado', 'tragedy', 'trapped', 'trauma', 'traumatised',\n",
              "        'trouble', 'tsunami', 'twister', 'typhoon', 'upheaval',\n",
              "        'violent%20storm', 'volcano', 'war%20zone', 'weapon', 'weapons',\n",
              "        'whirlwind', 'wild%20fires', 'wildfire', 'windstorm', 'wounded',\n",
              "        'wounds', 'wreck', 'wreckage', 'wrecked'], dtype=object),\n",
              " array([nan, 'ablaze', 'accident', 'aftershock', 'airplane%20accident',\n",
              "        'ambulance', 'annihilated', 'annihilation', 'apocalypse',\n",
              "        'armageddon', 'army', 'arson', 'arsonist', 'attack', 'attacked',\n",
              "        'avalanche', 'battle', 'bioterror', 'bioterrorism', 'blaze',\n",
              "        'blazing', 'bleeding', 'blew%20up', 'blight', 'blizzard', 'blood',\n",
              "        'bloody', 'blown%20up', 'body%20bag', 'body%20bagging',\n",
              "        'body%20bags', 'bomb', 'bombed', 'bombing', 'bridge%20collapse',\n",
              "        'buildings%20burning', 'buildings%20on%20fire', 'burned',\n",
              "        'burning', 'burning%20buildings', 'bush%20fires', 'casualties',\n",
              "        'casualty', 'catastrophe', 'catastrophic', 'chemical%20emergency',\n",
              "        'cliff%20fall', 'collapse', 'collapsed', 'collide', 'collided',\n",
              "        'collision', 'crash', 'crashed', 'crush', 'crushed', 'curfew',\n",
              "        'cyclone', 'damage', 'danger', 'dead', 'death', 'deaths', 'debris',\n",
              "        'deluge', 'deluged', 'demolish', 'demolished', 'demolition',\n",
              "        'derail', 'derailed', 'derailment', 'desolate', 'desolation',\n",
              "        'destroy', 'destroyed', 'destruction', 'detonate', 'detonation',\n",
              "        'devastated', 'devastation', 'disaster', 'displaced', 'drought',\n",
              "        'drown', 'drowned', 'drowning', 'dust%20storm', 'earthquake',\n",
              "        'electrocute', 'electrocuted', 'emergency', 'emergency%20plan',\n",
              "        'emergency%20services', 'engulfed', 'epicentre', 'evacuate',\n",
              "        'evacuated', 'evacuation', 'explode', 'exploded', 'explosion',\n",
              "        'eyewitness', 'famine', 'fatal', 'fatalities', 'fatality', 'fear',\n",
              "        'fire', 'fire%20truck', 'first%20responders', 'flames',\n",
              "        'flattened', 'flood', 'flooding', 'floods', 'forest%20fire',\n",
              "        'forest%20fires', 'hail', 'hailstorm', 'harm', 'hazard',\n",
              "        'hazardous', 'heat%20wave', 'hellfire', 'hijack', 'hijacker',\n",
              "        'hijacking', 'hostage', 'hostages', 'hurricane', 'injured',\n",
              "        'injuries', 'injury', 'inundated', 'inundation', 'landslide',\n",
              "        'lava', 'lightning', 'loud%20bang', 'mass%20murder',\n",
              "        'mass%20murderer', 'massacre', 'mayhem', 'meltdown', 'military',\n",
              "        'mudslide', 'natural%20disaster', 'nuclear%20disaster',\n",
              "        'nuclear%20reactor', 'obliterate', 'obliterated', 'obliteration',\n",
              "        'oil%20spill', 'outbreak', 'pandemonium', 'panic', 'panicking',\n",
              "        'police', 'quarantine', 'quarantined', 'radiation%20emergency',\n",
              "        'rainstorm', 'razed', 'refugees', 'rescue', 'rescued', 'rescuers',\n",
              "        'riot', 'rioting', 'rubble', 'ruin', 'sandstorm', 'screamed',\n",
              "        'screaming', 'screams', 'seismic', 'sinkhole', 'sinking', 'siren',\n",
              "        'sirens', 'smoke', 'snowstorm', 'storm', 'stretcher',\n",
              "        'structural%20failure', 'suicide%20bomb', 'suicide%20bomber',\n",
              "        'suicide%20bombing', 'sunk', 'survive', 'survived', 'survivors',\n",
              "        'terrorism', 'terrorist', 'threat', 'thunder', 'thunderstorm',\n",
              "        'tornado', 'tragedy', 'trapped', 'trauma', 'traumatised',\n",
              "        'trouble', 'tsunami', 'twister', 'typhoon', 'upheaval',\n",
              "        'violent%20storm', 'volcano', 'war%20zone', 'weapon', 'weapons',\n",
              "        'whirlwind', 'wild%20fires', 'wildfire', 'windstorm', 'wounded',\n",
              "        'wounds', 'wreck', 'wreckage', 'wrecked'], dtype=object))"
            ]
          },
          "metadata": {
            "tags": []
          },
          "execution_count": 9
        }
      ]
    },
    {
      "cell_type": "markdown",
      "metadata": {
        "id": "HOSFTEiK8tWq"
      },
      "source": [
        "Remove special characters and Nan from keywords"
      ]
    },
    {
      "cell_type": "code",
      "metadata": {
        "id": "RiH6WeLi8aab"
      },
      "source": [
        "df_test = df_test.fillna('')  \n",
        "df_train = df_train.fillna('') \n",
        "df_test.keyword = df_test.keyword.apply(lambda x: x.replace('%20', ' ') )\n",
        "df_train.keyword = df_train.keyword.apply(lambda x: x.replace('%20', ' ') )"
      ],
      "execution_count": 10,
      "outputs": []
    },
    {
      "cell_type": "markdown",
      "metadata": {
        "id": "Go1rZzdnCnCJ"
      },
      "source": [
        "### Check the length of our twits"
      ]
    },
    {
      "cell_type": "code",
      "metadata": {
        "id": "FRzF1X06a_Rr"
      },
      "source": [
        "seq_len = [[len(i.split()), k] for i, k in zip(df_train.text, df_train.target)]"
      ],
      "execution_count": 11,
      "outputs": []
    },
    {
      "cell_type": "code",
      "metadata": {
        "id": "8lWlW0UJbCJ-"
      },
      "source": [
        "df_viz = pd.DataFrame(seq_len, columns = ['number_of_tokens', 'target'])"
      ],
      "execution_count": 12,
      "outputs": []
    },
    {
      "cell_type": "code",
      "metadata": {
        "colab": {
          "base_uri": "https://localhost:8080/",
          "height": 317
        },
        "id": "acrlh4DsbiOj",
        "outputId": "130ede2f-c1b3-4925-dd16-95b3bd4c0228"
      },
      "source": [
        "sns.histplot(df_viz, x = 'number_of_tokens', hue = 'target', multiple=\"dodge\")"
      ],
      "execution_count": 13,
      "outputs": [
        {
          "output_type": "execute_result",
          "data": {
            "text/plain": [
              "<matplotlib.axes._subplots.AxesSubplot at 0x7feb609f6510>"
            ]
          },
          "metadata": {
            "tags": []
          },
          "execution_count": 13
        },
        {
          "output_type": "display_data",
          "data": {
            "image/png": "[encoded data removed]",
            "text/plain": [
              "<Figure size 432x288 with 1 Axes>"
            ]
          },
          "metadata": {
            "tags": [],
            "needs_background": "light"
          }
        }
      ]
    },
    {
      "cell_type": "code",
      "metadata": {
        "colab": {
          "base_uri": "https://localhost:8080/",
          "height": 302
        },
        "id": "4524OB5B_hbf",
        "outputId": "801fa98a-0035-4845-cdb3-4cdcb993dae2"
      },
      "source": [
        "seq_len = [len(i.split()) for i in df_test.text]\n",
        "sns.histplot(pd.Series(seq_len), )"
      ],
      "execution_count": 14,
      "outputs": [
        {
          "output_type": "execute_result",
          "data": {
            "text/plain": [
              "<matplotlib.axes._subplots.AxesSubplot at 0x7feb609f1c90>"
            ]
          },
          "metadata": {
            "tags": []
          },
          "execution_count": 14
        },
        {
          "output_type": "display_data",
          "data": {
            "image/png": "[encoded data removed]",
            "text/plain": [
              "<Figure size 432x288 with 1 Axes>"
            ]
          },
          "metadata": {
            "tags": [],
            "needs_background": "light"
          }
        }
      ]
    },
    {
      "cell_type": "markdown",
      "metadata": {
        "id": "cTsHy_P5dHA0"
      },
      "source": [
        "### Shuffle our data "
      ]
    },
    {
      "cell_type": "code",
      "metadata": {
        "id": "MGGBtaEKD0vE"
      },
      "source": [
        "df_train = df_train.sample(frac=1, random_state=42)"
      ],
      "execution_count": 15,
      "outputs": []
    },
    {
      "cell_type": "markdown",
      "metadata": {
        "id": "5fHiOBSjH_nL"
      },
      "source": [
        "### Check if dataset is balanced"
      ]
    },
    {
      "cell_type": "code",
      "metadata": {
        "colab": {
          "base_uri": "https://localhost:8080/",
          "height": 316
        },
        "id": "j9Fx4lPGHky3",
        "outputId": "ca753c37-3d9a-40c1-d2fb-8930f1f2423c"
      },
      "source": [
        "sns.histplot(df_train, x = 'target', hue = 'target', discrete=True, shrink=.8)"
      ],
      "execution_count": 16,
      "outputs": [
        {
          "output_type": "execute_result",
          "data": {
            "text/plain": [
              "<matplotlib.axes._subplots.AxesSubplot at 0x7feb60a137d0>"
            ]
          },
          "metadata": {
            "tags": []
          },
          "execution_count": 16
        },
        {
          "output_type": "display_data",
          "data": {
            "image/png": "[encoded data removed]",
            "text/plain": [
              "<Figure size 432x288 with 1 Axes>"
            ]
          },
          "metadata": {
            "tags": [],
            "needs_background": "light"
          }
        }
      ]
    },
    {
      "cell_type": "markdown",
      "metadata": {
        "id": "T2IMPYOGJeYY"
      },
      "source": [
        "### Visualize random tweets\n"
      ]
    },
    {
      "cell_type": "code",
      "metadata": {
        "colab": {
          "base_uri": "https://localhost:8080/"
        },
        "id": "kgunbjpUILay",
        "outputId": "eb3ad4f3-c9aa-4461-b8d0-79252b865f6f"
      },
      "source": [
        "import random\n",
        "random_index = random.randint(0, len(df_train)-5)\n",
        "for row in df_train[[\"text\", \"target\"]][random_index:random_index+5].itertuples():\n",
        "  _, text, target = row\n",
        "  print(f\"Target: {target}\", \"(real disaster)\" if target > 0 else \"(not real disaster)\")\n",
        "  print(f\"Text:\\n{text}\\n\")\n",
        "  print(\"---\\n\")"
      ],
      "execution_count": 17,
      "outputs": [
        {
          "output_type": "stream",
          "text": [
            "Target: 0 (not real disaster)\n",
            "Text:\n",
            "My blood pressure is through the roof I don't need all this extra shit!!!!\n",
            "\n",
            "---\n",
            "\n",
            "Target: 0 (not real disaster)\n",
            "Text:\n",
            "Reddit Will Now Quarantine Offensive Content: Reddit co-founder and CEO Steve Huffman has unveiled more specif... http://t.co/T7gE0j3CAy\n",
            "\n",
            "---\n",
            "\n",
            "Target: 0 (not real disaster)\n",
            "Text:\n",
            "Ronda Rousey would be 'close' to making Floyd Mayweather's money in 50 fights - Bloody Elbow http://t.co/IjzcYtbFfo #boxing\n",
            "\n",
            "---\n",
            "\n",
            "Target: 0 (not real disaster)\n",
            "Text:\n",
            "@Camilla_33 @CrayKain Hate to shatter your delusions but a hatchet is a deadly weapon justifying lethal force. #gunsense\n",
            "\n",
            "---\n",
            "\n",
            "Target: 0 (not real disaster)\n",
            "Text:\n",
            "'The harder the conflict the more glorious the triumph.' Thomas Paine\n",
            "\n",
            "---\n",
            "\n"
          ],
          "name": "stdout"
        }
      ]
    },
    {
      "cell_type": "code",
      "metadata": {
        "id": "vpVjcVQoJycc"
      },
      "source": [
        "X_train, X_val, y_train, y_val = train_test_split(df_train.text.to_numpy(), df_train.target.to_numpy(), test_size = 0.1, random_state = 42)"
      ],
      "execution_count": 18,
      "outputs": []
    },
    {
      "cell_type": "code",
      "metadata": {
        "id": "3E_g12XtfHIR"
      },
      "source": [
        "X_test = df_test.text.to_numpy()"
      ],
      "execution_count": 19,
      "outputs": []
    },
    {
      "cell_type": "code",
      "metadata": {
        "colab": {
          "base_uri": "https://localhost:8080/"
        },
        "id": "CpRQ83faOUIO",
        "outputId": "17902b7f-bbab-41f9-a383-f0c0bce4ced9"
      },
      "source": [
        "X_train[:10], y_train[:10]"
      ],
      "execution_count": 20,
      "outputs": [
        {
          "output_type": "execute_result",
          "data": {
            "text/plain": [
              "(array(['@mogacola @zamtriossu i screamed after hitting tweet',\n",
              "        'Imagine getting flattened by Kurt Zouma',\n",
              "        '@Gurmeetramrahim #MSGDoing111WelfareWorks Green S welfare force ke appx 65000 members har time disaster victim ki help ke liye tyar hai....',\n",
              "        \"@shakjn @C7 @Magnums im shaking in fear he's gonna hack the planet\",\n",
              "        'Somehow find you and I collide http://t.co/Ee8RpOahPk',\n",
              "        '@EvaHanderek @MarleyKnysh great times until the bus driver held us hostage in the mall parking lot lmfao',\n",
              "        'destroy the free fandom honestly',\n",
              "        'Weapons stolen from National Guard Armory in New Albany still missing #Gunsense http://t.co/lKNU8902JE',\n",
              "        '@wfaaweather Pete when will the heat wave pass? Is it really going to be mid month? Frisco Boy Scouts have a canoe trip in Okla.',\n",
              "        'Patient-reported outcomes in long-term survivors of metastatic colorectal cancer - British Journal of Surgery http://t.co/5Yl4DC1Tqt'],\n",
              "       dtype=object), array([0, 0, 1, 0, 0, 1, 1, 0, 1, 1]))"
            ]
          },
          "metadata": {
            "tags": []
          },
          "execution_count": 20
        }
      ]
    },
    {
      "cell_type": "markdown",
      "metadata": {
        "id": "4OoL-s-VbLcj"
      },
      "source": [
        "### Remove links to the accounts, html links, numbers"
      ]
    },
    {
      "cell_type": "code",
      "metadata": {
        "id": "H2Tl5DkEbToh"
      },
      "source": [
        "def remove_links(X):\n",
        "  X_ = []\n",
        "  for text in X:\n",
        "    text = re.sub(r'@\\w+', '', text)\n",
        "    text = re.sub(r'http://.+\\s*', '', text)\n",
        "    text = re.sub(r'https://.+\\s*', '', text)\n",
        "    text = re.sub(r'\\d+', '', text)\n",
        "    X_.append(text)\n",
        "  return X_"
      ],
      "execution_count": 21,
      "outputs": []
    },
    {
      "cell_type": "code",
      "metadata": {
        "id": "NuMNE4HKev57"
      },
      "source": [
        "X_train = remove_links(X_train)\n",
        "X_val = remove_links(X_val)\n",
        "X_test = remove_links(X_test)"
      ],
      "execution_count": 22,
      "outputs": []
    },
    {
      "cell_type": "code",
      "metadata": {
        "colab": {
          "base_uri": "https://localhost:8080/"
        },
        "id": "ehTeVA1pfXyZ",
        "outputId": "4b97d495-ae20-4904-a266-f36b1c1b4c4c"
      },
      "source": [
        "X_train[:10]"
      ],
      "execution_count": 23,
      "outputs": [
        {
          "output_type": "execute_result",
          "data": {
            "text/plain": [
              "['  i screamed after hitting tweet',\n",
              " 'Imagine getting flattened by Kurt Zouma',\n",
              " ' #MSGDoingWelfareWorks Green S welfare force ke appx  members har time disaster victim ki help ke liye tyar hai....',\n",
              " \"   im shaking in fear he's gonna hack the planet\",\n",
              " 'Somehow find you and I collide ',\n",
              " '  great times until the bus driver held us hostage in the mall parking lot lmfao',\n",
              " 'destroy the free fandom honestly',\n",
              " 'Weapons stolen from National Guard Armory in New Albany still missing #Gunsense ',\n",
              " ' Pete when will the heat wave pass? Is it really going to be mid month? Frisco Boy Scouts have a canoe trip in Okla.',\n",
              " 'Patient-reported outcomes in long-term survivors of metastatic colorectal cancer - British Journal of Surgery ']"
            ]
          },
          "metadata": {
            "tags": []
          },
          "execution_count": 23
        }
      ]
    },
    {
      "cell_type": "code",
      "metadata": {
        "colab": {
          "base_uri": "https://localhost:8080/",
          "height": 302
        },
        "id": "mCoAwNAcUYfT",
        "outputId": "4ba8ec5c-80ba-40ff-9a68-8380b2dd2167"
      },
      "source": [
        "seq_len = [len(i.split()) for i in X_test]\n",
        "sns.histplot(pd.Series(seq_len))"
      ],
      "execution_count": 24,
      "outputs": [
        {
          "output_type": "execute_result",
          "data": {
            "text/plain": [
              "<matplotlib.axes._subplots.AxesSubplot at 0x7feb5f6eb8d0>"
            ]
          },
          "metadata": {
            "tags": []
          },
          "execution_count": 24
        },
        {
          "output_type": "display_data",
          "data": {
            "image/png": "[encoded data removed]",
            "text/plain": [
              "<Figure size 432x288 with 1 Axes>"
            ]
          },
          "metadata": {
            "tags": [],
            "needs_background": "light"
          }
        }
      ]
    },
    {
      "cell_type": "markdown",
      "metadata": {
        "id": "eT3rG_nHR9UB"
      },
      "source": [
        "### Convert text to numbers"
      ]
    },
    {
      "cell_type": "code",
      "metadata": {
        "id": "X-iAkty5ObeX"
      },
      "source": [
        "from tensorflow.keras.layers.experimental.preprocessing import TextVectorization"
      ],
      "execution_count": 25,
      "outputs": []
    },
    {
      "cell_type": "code",
      "metadata": {
        "id": "v0PdQm-xSm6I"
      },
      "source": [
        "tokens = 30 # Sequence length to pad the outputs to. I choose max length\n",
        "vocab_length = 10000 # Maximum vocab size"
      ],
      "execution_count": 34,
      "outputs": []
    },
    {
      "cell_type": "code",
      "metadata": {
        "id": "MF4ofyrWSqmD"
      },
      "source": [
        "#Create vectorization layer\n",
        "text_vect = TextVectorization(max_tokens = vocab_length, \n",
        "                              standardize = 'lower_and_strip_punctuation', \n",
        "                              ngrams = None, \n",
        "                              split = 'whitespace',\n",
        "                              output_sequence_length = tokens, \n",
        "                              pad_to_max_tokens=False, \n",
        "                              vocabulary=None,\n",
        "                              output_mode = 'int')"
      ],
      "execution_count": 35,
      "outputs": []
    },
    {
      "cell_type": "code",
      "metadata": {
        "id": "9JKziCREgEyj"
      },
      "source": [
        "text_vect.adapt(X_train)"
      ],
      "execution_count": 36,
      "outputs": []
    },
    {
      "cell_type": "code",
      "metadata": {
        "colab": {
          "base_uri": "https://localhost:8080/"
        },
        "id": "oZmrd5CmVHXM",
        "outputId": "1b96fa9e-787e-46da-9379-7a46a1ca088d"
      },
      "source": [
        "text_vect([' great times until the bus driver held us hostage in the mall parking lot lmfao'])"
      ],
      "execution_count": 37,
      "outputs": [
        {
          "output_type": "execute_result",
          "data": {
            "text/plain": [
              "<tf.Tensor: shape=(1, 30), dtype=int64, numpy=\n",
              "array([[ 184,  238,  290,    2,  355,  860, 1986,   67,  493,    4,    2,\n",
              "        2717, 2654,  486, 2734,    0,    0,    0,    0,    0,    0,    0,\n",
              "           0,    0,    0,    0,    0,    0,    0,    0]])>"
            ]
          },
          "metadata": {
            "tags": []
          },
          "execution_count": 37
        }
      ]
    },
    {
      "cell_type": "markdown",
      "metadata": {
        "id": "eR_l9zQmWKAI"
      },
      "source": [
        "### Get unique words in sentences (vocab)"
      ]
    },
    {
      "cell_type": "code",
      "metadata": {
        "colab": {
          "base_uri": "https://localhost:8080/"
        },
        "id": "ElwDlTpAVgwg",
        "outputId": "fce8e015-ffcc-40db-c086-71934b3f0786"
      },
      "source": [
        "text_vect.vocabulary_size()"
      ],
      "execution_count": 38,
      "outputs": [
        {
          "output_type": "execute_result",
          "data": {
            "text/plain": [
              "10000"
            ]
          },
          "metadata": {
            "tags": []
          },
          "execution_count": 38
        }
      ]
    },
    {
      "cell_type": "code",
      "metadata": {
        "id": "Npx5Bc9pWaqW"
      },
      "source": [
        "words_in_vocab = text_vect.get_vocabulary()"
      ],
      "execution_count": 39,
      "outputs": []
    },
    {
      "cell_type": "code",
      "metadata": {
        "colab": {
          "base_uri": "https://localhost:8080/"
        },
        "id": "yyOLWI0MWlES",
        "outputId": "b46e1179-7d38-49a8-ca13-23943c7f4e72"
      },
      "source": [
        "words_in_vocab[:5]"
      ],
      "execution_count": 40,
      "outputs": [
        {
          "output_type": "execute_result",
          "data": {
            "text/plain": [
              "['', '[UNK]', 'the', 'a', 'in']"
            ]
          },
          "metadata": {
            "tags": []
          },
          "execution_count": 40
        }
      ]
    },
    {
      "cell_type": "code",
      "metadata": {
        "colab": {
          "base_uri": "https://localhost:8080/"
        },
        "id": "YDJlMcnXWp4D",
        "outputId": "1f018196-a147-411c-ab99-b30837cbceab"
      },
      "source": [
        "words_in_vocab[-5:]"
      ],
      "execution_count": 41,
      "outputs": [
        {
          "output_type": "execute_result",
          "data": {
            "text/plain": [
              "['kebabtahinipickles', 'kdr', 'kcrw', 'kckh', 'kc']"
            ]
          },
          "metadata": {
            "tags": []
          },
          "execution_count": 41
        }
      ]
    },
    {
      "cell_type": "markdown",
      "metadata": {
        "id": "54zuxSGCYMjs"
      },
      "source": [
        "### Create embedding\n",
        "\n",
        "Turns positive integers (indexes) into dense vectors of fixed size.\n",
        "\n",
        "https://www.tensorflow.org/api_docs/python/tf/keras/layers/Embedding\n",
        "\n",
        "`tf.keras.layers.Embedding(\n",
        "    input_dim, output_dim, embeddings_initializer='uniform',\n",
        "    embeddings_regularizer=None, activity_regularizer=None,\n",
        "    embeddings_constraint=None, mask_zero=False, input_length=None, **kwargs\n",
        ")`\n",
        "\n",
        "This layer can only be used as the first layer in a model."
      ]
    },
    {
      "cell_type": "code",
      "metadata": {
        "id": "YoKhV1AFX9mP"
      },
      "source": [
        "from tensorflow.keras.layers import Embedding"
      ],
      "execution_count": 43,
      "outputs": []
    },
    {
      "cell_type": "code",
      "metadata": {
        "id": "NvT0EsYPZIea"
      },
      "source": [
        "embedding = Embedding(input_dim = vocab_length,\n",
        "                      output_dim = 128, #better if can divide by 6\n",
        "                      embeddings_initializer='uniform', \n",
        "                      embeddings_regularizer=None, \n",
        "                      activity_regularizer=None, \n",
        "                      embeddings_constraint=None, \n",
        "                      mask_zero = False, \n",
        "                      input_length = tokens)"
      ],
      "execution_count": 44,
      "outputs": []
    },
    {
      "cell_type": "code",
      "metadata": {
        "colab": {
          "base_uri": "https://localhost:8080/"
        },
        "id": "EKj-93ueZzeE",
        "outputId": "bfe5006c-e266-4f61-8683-d8c851e8c360"
      },
      "source": [
        "random_tweet = random.choice(X_train)\n",
        "print(f'Original: {random_tweet}\\n')\n",
        "print(f'Vectorized: {text_vect([random_tweet])}\\n')\n",
        "print(f'Embedded: {embedding(text_vect([random_tweet]))}')"
      ],
      "execution_count": 45,
      "outputs": [
        {
          "output_type": "stream",
          "text": [
            "Original: they say bad things happen for a reason\n",
            "but no wise words gonna stop te bleeding\n",
            "\n",
            "Vectorized: [[  61  125  272  406 1230   10    3  730   31   41 6063  614  302  230\n",
            "  4129  564    0    0    0    0    0    0    0    0    0    0    0    0\n",
            "     0    0]]\n",
            "\n",
            "Embedded: [[[ 0.04457771 -0.00233207  0.00286661 ... -0.0087974   0.02111837\n",
            "   -0.00335975]\n",
            "  [-0.04178905  0.01412599 -0.02546591 ...  0.03472276 -0.004739\n",
            "   -0.01525911]\n",
            "  [ 0.00310478  0.01877525  0.01549676 ... -0.02347156 -0.01521864\n",
            "   -0.04973707]\n",
            "  ...\n",
            "  [ 0.00858792  0.01235658  0.02190775 ...  0.04049632 -0.01708956\n",
            "   -0.00760628]\n",
            "  [ 0.00858792  0.01235658  0.02190775 ...  0.04049632 -0.01708956\n",
            "   -0.00760628]\n",
            "  [ 0.00858792  0.01235658  0.02190775 ...  0.04049632 -0.01708956\n",
            "   -0.00760628]]]\n"
          ],
          "name": "stdout"
        }
      ]
    },
    {
      "cell_type": "code",
      "metadata": {
        "colab": {
          "base_uri": "https://localhost:8080/"
        },
        "id": "E3njgIfpdRU2",
        "outputId": "19f67a28-aed3-4e0c-ec12-64496c62d388"
      },
      "source": [
        "embedding(text_vect([random_tweet])).shape"
      ],
      "execution_count": 46,
      "outputs": [
        {
          "output_type": "execute_result",
          "data": {
            "text/plain": [
              "TensorShape([1, 30, 128])"
            ]
          },
          "metadata": {
            "tags": []
          },
          "execution_count": 46
        }
      ]
    },
    {
      "cell_type": "markdown",
      "metadata": {
        "id": "bh-jYR_zcr0b"
      },
      "source": [
        "Now that we've got a way to turn our text data into numbers, we can start to build machine learning models to model it.\n",
        "\n",
        "\n",
        "To get plenty of practice, we're going to build a series of different models, each as its own experiment. We'll then compare the results of each model and see which one performed best.\n",
        "\n",
        "\n",
        "More specifically, we'll be building the following:\n",
        "\n",
        "\n",
        "- Model 0: Naive Bayes (baseline)\n",
        "- Model 1: Feed-forward neural network (dense model)\n",
        "- Model 2: LSTM model\n",
        "- Model 3: GRU model\n",
        "- Model 4: Bidirectional-LSTM model\n",
        "- Model 5: 1D Convolutional Neural Network\n",
        "- Model 6: TensorFlow Hub Pretrained Feature Extractor\n",
        "- Model 7: Same as model 6 with 10% of training data"
      ]
    },
    {
      "cell_type": "markdown",
      "metadata": {
        "id": "mz42AvTff0Fe"
      },
      "source": [
        "### Model 0: Naive Bayes (baseline)"
      ]
    },
    {
      "cell_type": "code",
      "metadata": {
        "id": "OYG9pddtayUf"
      },
      "source": [
        "from sklearn.feature_extraction.text import CountVectorizer, TfidfTransformer\n",
        "from sklearn.naive_bayes import MultinomialNB\n",
        "from sklearn.pipeline import Pipeline\n",
        "from sklearn.metrics import accuracy_score, precision_score, recall_score, f1_score, confusion_matrix, precision_recall_fscore_support"
      ],
      "execution_count": 47,
      "outputs": []
    },
    {
      "cell_type": "code",
      "metadata": {
        "id": "Cg9Xsu3Glmuo"
      },
      "source": [
        "model_0 = Pipeline([('vect', CountVectorizer()),\n",
        "                    ('tfidf', TfidfTransformer()),\n",
        "                    ('mnb', MultinomialNB())])"
      ],
      "execution_count": 48,
      "outputs": []
    },
    {
      "cell_type": "code",
      "metadata": {
        "colab": {
          "base_uri": "https://localhost:8080/"
        },
        "id": "WDJLQaXnguW2",
        "outputId": "29ca7e71-f182-44d9-bfad-92d0c8915a19"
      },
      "source": [
        "model_0.fit(X_train, y_train)"
      ],
      "execution_count": 49,
      "outputs": [
        {
          "output_type": "execute_result",
          "data": {
            "text/plain": [
              "Pipeline(memory=None,\n",
              "         steps=[('vect',\n",
              "                 CountVectorizer(analyzer='word', binary=False,\n",
              "                                 decode_error='strict',\n",
              "                                 dtype=<class 'numpy.int64'>, encoding='utf-8',\n",
              "                                 input='content', lowercase=True, max_df=1.0,\n",
              "                                 max_features=None, min_df=1,\n",
              "                                 ngram_range=(1, 1), preprocessor=None,\n",
              "                                 stop_words=None, strip_accents=None,\n",
              "                                 token_pattern='(?u)\\\\b\\\\w\\\\w+\\\\b',\n",
              "                                 tokenizer=None, vocabulary=None)),\n",
              "                ('tfidf',\n",
              "                 TfidfTransformer(norm='l2', smooth_idf=True,\n",
              "                                  sublinear_tf=False, use_idf=True)),\n",
              "                ('mnb',\n",
              "                 MultinomialNB(alpha=1.0, class_prior=None, fit_prior=True))],\n",
              "         verbose=False)"
            ]
          },
          "metadata": {
            "tags": []
          },
          "execution_count": 49
        }
      ]
    },
    {
      "cell_type": "code",
      "metadata": {
        "id": "-TpqdxVTh5IO"
      },
      "source": [
        "base_pred = model_0.predict(X_val)"
      ],
      "execution_count": 50,
      "outputs": []
    },
    {
      "cell_type": "code",
      "metadata": {
        "colab": {
          "base_uri": "https://localhost:8080/"
        },
        "id": "lnLRd9V5ie3-",
        "outputId": "7e7a486e-b766-4260-cda0-ad9a10e16d3c"
      },
      "source": [
        "base_val_accuracy = accuracy_score(y_val, base_pred )\n",
        "base_val_accuracy"
      ],
      "execution_count": 51,
      "outputs": [
        {
          "output_type": "execute_result",
          "data": {
            "text/plain": [
              "0.7965879265091863"
            ]
          },
          "metadata": {
            "tags": []
          },
          "execution_count": 51
        }
      ]
    },
    {
      "cell_type": "code",
      "metadata": {
        "colab": {
          "base_uri": "https://localhost:8080/"
        },
        "id": "H0pgavIhjhpW",
        "outputId": "d74b32c8-f6b3-4430-f89d-4860dd440991"
      },
      "source": [
        "base_val_precision = precision_score(y_val, base_pred )\n",
        "base_val_precision"
      ],
      "execution_count": 52,
      "outputs": [
        {
          "output_type": "execute_result",
          "data": {
            "text/plain": [
              "0.8844621513944223"
            ]
          },
          "metadata": {
            "tags": []
          },
          "execution_count": 52
        }
      ]
    },
    {
      "cell_type": "markdown",
      "metadata": {
        "id": "3A9N-hTiipzF"
      },
      "source": [
        "#### Save results to results_df"
      ]
    },
    {
      "cell_type": "code",
      "metadata": {
        "id": "qW5T_66UinHd"
      },
      "source": [
        "results_df = pd.DataFrame(columns = ['num_experiment','model_name', 'accuracy_score', 'precision', 'racall', 'f-1_score'])"
      ],
      "execution_count": 53,
      "outputs": []
    },
    {
      "cell_type": "code",
      "metadata": {
        "id": "5KQCJ9n_naRb"
      },
      "source": [
        "def write_result(y_pred, model_name, y_val = y_val):\n",
        "  global results_df\n",
        "  #another way\n",
        "  # precision, racall, f1_score, _ = precision_recall_fscore_support(y_val, y_pred, average = 'weights')\n",
        "  results_df.loc[len(results_df)] = [len(results_df),\n",
        "                                     model_name, \n",
        "                                     accuracy_score(y_val, y_pred), \n",
        "                                     precision_score(y_val, y_pred),\n",
        "                                     recall_score(y_val, y_pred),\n",
        "                                     f1_score(y_val, y_pred)\n",
        "                                     ]"
      ],
      "execution_count": 54,
      "outputs": []
    },
    {
      "cell_type": "code",
      "metadata": {
        "id": "m8krEnB7i4ha"
      },
      "source": [
        "write_result(base_pred, 'base_naive_bayes')"
      ],
      "execution_count": 55,
      "outputs": []
    },
    {
      "cell_type": "code",
      "metadata": {
        "colab": {
          "base_uri": "https://localhost:8080/",
          "height": 100
        },
        "id": "AZbpG44aj1Z-",
        "outputId": "4e50746c-a1fc-4a58-87f7-c77774f5c430"
      },
      "source": [
        "results_df"
      ],
      "execution_count": 56,
      "outputs": [
        {
          "output_type": "execute_result",
          "data": {
            "text/html": [
              "<div>\n",
              "<style scoped>\n",
              "    .dataframe tbody tr th:only-of-type {\n",
              "        vertical-align: middle;\n",
              "    }\n",
              "\n",
              "    .dataframe tbody tr th {\n",
              "        vertical-align: top;\n",
              "    }\n",
              "\n",
              "    .dataframe thead th {\n",
              "        text-align: right;\n",
              "    }\n",
              "</style>\n",
              "<table border=\"1\" class=\"dataframe\">\n",
              "  <thead>\n",
              "    <tr style=\"text-align: right;\">\n",
              "      <th></th>\n",
              "      <th>num_experiment</th>\n",
              "      <th>model_name</th>\n",
              "      <th>accuracy_score</th>\n",
              "      <th>precision</th>\n",
              "      <th>racall</th>\n",
              "      <th>f-1_score</th>\n",
              "    </tr>\n",
              "  </thead>\n",
              "  <tbody>\n",
              "    <tr>\n",
              "      <th>0</th>\n",
              "      <td>0</td>\n",
              "      <td>base_naive_bayes</td>\n",
              "      <td>0.796588</td>\n",
              "      <td>0.884462</td>\n",
              "      <td>0.637931</td>\n",
              "      <td>0.741235</td>\n",
              "    </tr>\n",
              "  </tbody>\n",
              "</table>\n",
              "</div>"
            ],
            "text/plain": [
              "  num_experiment        model_name  ...    racall  f-1_score\n",
              "0              0  base_naive_bayes  ...  0.637931   0.741235\n",
              "\n",
              "[1 rows x 6 columns]"
            ]
          },
          "metadata": {
            "tags": []
          },
          "execution_count": 56
        }
      ]
    },
    {
      "cell_type": "code",
      "metadata": {
        "id": "wHnwznbij7Qt"
      },
      "source": [
        "base_conf_matr = confusion_matrix(y_val, base_pred)"
      ],
      "execution_count": 57,
      "outputs": []
    },
    {
      "cell_type": "code",
      "metadata": {
        "colab": {
          "base_uri": "https://localhost:8080/"
        },
        "id": "zB0uXhT3T7fO",
        "outputId": "07574286-0b13-4aad-ac4b-682ef2c2e2bf"
      },
      "source": [
        "base_conf_matr"
      ],
      "execution_count": 58,
      "outputs": [
        {
          "output_type": "execute_result",
          "data": {
            "text/plain": [
              "array([[385,  29],\n",
              "       [126, 222]])"
            ]
          },
          "metadata": {
            "tags": []
          },
          "execution_count": 58
        }
      ]
    },
    {
      "cell_type": "markdown",
      "metadata": {
        "id": "HipofVAKcJGt"
      },
      "source": [
        "### Model1: Feed-forward neural network (dense model)"
      ]
    },
    {
      "cell_type": "markdown",
      "metadata": {
        "id": "xdOL1s6sckxQ"
      },
      "source": [
        "#### Create Tensorflow Board callback"
      ]
    },
    {
      "cell_type": "code",
      "metadata": {
        "id": "RYwo7Ol4UH21"
      },
      "source": [
        "DIR = 'model_logs'\n",
        "#create_tf_board_callback()"
      ],
      "execution_count": 59,
      "outputs": []
    },
    {
      "cell_type": "code",
      "metadata": {
        "id": "O-AZzhnFeDpi"
      },
      "source": [
        "inputs = Input(shape = (1,), dtype=tf.string)\n",
        "x = text_vect(inputs)\n",
        "x = embedding(x)\n",
        "x = Flatten()(x)\n",
        "x = Dense(64, activation='relu')(x)\n",
        "outputs =  Dense(1, activation='sigmoid')(x)\n",
        "model_1 = Model(inputs, outputs)"
      ],
      "execution_count": 60,
      "outputs": []
    },
    {
      "cell_type": "code",
      "metadata": {
        "id": "FB9vreCLeYhA"
      },
      "source": [
        "model_1.compile(optimizer='adam', metrics='accuracy', loss = 'binary_crossentropy')"
      ],
      "execution_count": 61,
      "outputs": []
    },
    {
      "cell_type": "code",
      "metadata": {
        "colab": {
          "base_uri": "https://localhost:8080/"
        },
        "id": "KOZ8vKtpDMGj",
        "outputId": "f0d1b918-a8d4-4f5c-fae4-dff58aa1c229"
      },
      "source": [
        "model_1.summary()"
      ],
      "execution_count": 62,
      "outputs": [
        {
          "output_type": "stream",
          "text": [
            "Model: \"model\"\n",
            "_________________________________________________________________\n",
            "Layer (type)                 Output Shape              Param #   \n",
            "=================================================================\n",
            "input_1 (InputLayer)         [(None, 1)]               0         \n",
            "_________________________________________________________________\n",
            "text_vectorization_1 (TextVe (None, 30)                0         \n",
            "_________________________________________________________________\n",
            "embedding (Embedding)        (None, 30, 128)           1280000   \n",
            "_________________________________________________________________\n",
            "flatten (Flatten)            (None, 3840)              0         \n",
            "_________________________________________________________________\n",
            "dense (Dense)                (None, 64)                245824    \n",
            "_________________________________________________________________\n",
            "dense_1 (Dense)              (None, 1)                 65        \n",
            "=================================================================\n",
            "Total params: 1,525,889\n",
            "Trainable params: 1,525,889\n",
            "Non-trainable params: 0\n",
            "_________________________________________________________________\n"
          ],
          "name": "stdout"
        }
      ]
    },
    {
      "cell_type": "code",
      "metadata": {
        "id": "nm9ngzk7elVv",
        "colab": {
          "base_uri": "https://localhost:8080/"
        },
        "outputId": "9f57c487-9332-456e-b79c-d74523d4d8c0"
      },
      "source": [
        "history_1 = model_1.fit(tf.constant(X_train), y_train, \n",
        "             epochs = 5,\n",
        "            validation_data = (tf.constant(X_val), y_val),\n",
        "            callbacks = create_tf_board_callback(DIR, 'model_1'))"
      ],
      "execution_count": 63,
      "outputs": [
        {
          "output_type": "stream",
          "text": [
            "Saving TensorBoard log files to model_logs/model_1/20210718-095049\n",
            "Epoch 1/5\n",
            "215/215 [==============================] - 7s 18ms/step - loss: 0.5650 - accuracy: 0.7094 - val_loss: 0.4800 - val_accuracy: 0.7664\n",
            "Epoch 2/5\n",
            "215/215 [==============================] - 3s 14ms/step - loss: 0.2671 - accuracy: 0.9009 - val_loss: 0.5481 - val_accuracy: 0.7559\n",
            "Epoch 3/5\n",
            "215/215 [==============================] - 3s 14ms/step - loss: 0.1203 - accuracy: 0.9616 - val_loss: 0.5861 - val_accuracy: 0.7559\n",
            "Epoch 4/5\n",
            "215/215 [==============================] - 3s 14ms/step - loss: 0.0847 - accuracy: 0.9698 - val_loss: 0.6866 - val_accuracy: 0.7507\n",
            "Epoch 5/5\n",
            "215/215 [==============================] - 3s 13ms/step - loss: 0.0628 - accuracy: 0.9714 - val_loss: 0.7812 - val_accuracy: 0.7546\n"
          ],
          "name": "stdout"
        }
      ]
    },
    {
      "cell_type": "code",
      "metadata": {
        "id": "epV6vahJAnpL"
      },
      "source": [
        "prob_1 = model_1.predict(tf.constant(X_val))"
      ],
      "execution_count": 64,
      "outputs": []
    },
    {
      "cell_type": "code",
      "metadata": {
        "colab": {
          "base_uri": "https://localhost:8080/"
        },
        "id": "nLkRPhswA0zX",
        "outputId": "43c3e237-de96-4268-b53f-33fc17877fa2"
      },
      "source": [
        "prob_1.shape"
      ],
      "execution_count": 65,
      "outputs": [
        {
          "output_type": "execute_result",
          "data": {
            "text/plain": [
              "(762, 1)"
            ]
          },
          "metadata": {
            "tags": []
          },
          "execution_count": 65
        }
      ]
    },
    {
      "cell_type": "code",
      "metadata": {
        "id": "-RFSvDfaB36c"
      },
      "source": [
        "pred_1 = tf.round(tf.squeeze(prob_1))"
      ],
      "execution_count": 66,
      "outputs": []
    },
    {
      "cell_type": "code",
      "metadata": {
        "colab": {
          "base_uri": "https://localhost:8080/"
        },
        "id": "t6wPFF58Cepk",
        "outputId": "e8c06e91-5807-4dad-a02f-ce5c360e098f"
      },
      "source": [
        "pred_1[:10], y_val[:10]"
      ],
      "execution_count": 67,
      "outputs": [
        {
          "output_type": "execute_result",
          "data": {
            "text/plain": [
              "(<tf.Tensor: shape=(10,), dtype=float32, numpy=array([0., 1., 1., 0., 0., 1., 0., 1., 1., 0.], dtype=float32)>,\n",
              " array([0, 0, 1, 1, 1, 1, 1, 1, 1, 0]))"
            ]
          },
          "metadata": {
            "tags": []
          },
          "execution_count": 67
        }
      ]
    },
    {
      "cell_type": "code",
      "metadata": {
        "id": "4nMRMQE0CqWg"
      },
      "source": [
        "write_result(pred_1, 'base_dense_model_1')"
      ],
      "execution_count": 68,
      "outputs": []
    },
    {
      "cell_type": "code",
      "metadata": {
        "colab": {
          "base_uri": "https://localhost:8080/",
          "height": 130
        },
        "id": "hI87KHAWC4HB",
        "outputId": "19def17b-6bb6-4485-fa30-ed4c3688d019"
      },
      "source": [
        "results_df"
      ],
      "execution_count": 69,
      "outputs": [
        {
          "output_type": "execute_result",
          "data": {
            "text/html": [
              "<div>\n",
              "<style scoped>\n",
              "    .dataframe tbody tr th:only-of-type {\n",
              "        vertical-align: middle;\n",
              "    }\n",
              "\n",
              "    .dataframe tbody tr th {\n",
              "        vertical-align: top;\n",
              "    }\n",
              "\n",
              "    .dataframe thead th {\n",
              "        text-align: right;\n",
              "    }\n",
              "</style>\n",
              "<table border=\"1\" class=\"dataframe\">\n",
              "  <thead>\n",
              "    <tr style=\"text-align: right;\">\n",
              "      <th></th>\n",
              "      <th>num_experiment</th>\n",
              "      <th>model_name</th>\n",
              "      <th>accuracy_score</th>\n",
              "      <th>precision</th>\n",
              "      <th>racall</th>\n",
              "      <th>f-1_score</th>\n",
              "    </tr>\n",
              "  </thead>\n",
              "  <tbody>\n",
              "    <tr>\n",
              "      <th>0</th>\n",
              "      <td>0</td>\n",
              "      <td>base_naive_bayes</td>\n",
              "      <td>0.796588</td>\n",
              "      <td>0.884462</td>\n",
              "      <td>0.637931</td>\n",
              "      <td>0.741235</td>\n",
              "    </tr>\n",
              "    <tr>\n",
              "      <th>1</th>\n",
              "      <td>1</td>\n",
              "      <td>base_dense_model_1</td>\n",
              "      <td>0.754593</td>\n",
              "      <td>0.797048</td>\n",
              "      <td>0.620690</td>\n",
              "      <td>0.697900</td>\n",
              "    </tr>\n",
              "  </tbody>\n",
              "</table>\n",
              "</div>"
            ],
            "text/plain": [
              "  num_experiment          model_name  ...    racall  f-1_score\n",
              "0              0    base_naive_bayes  ...  0.637931   0.741235\n",
              "1              1  base_dense_model_1  ...  0.620690   0.697900\n",
              "\n",
              "[2 rows x 6 columns]"
            ]
          },
          "metadata": {
            "tags": []
          },
          "execution_count": 69
        }
      ]
    },
    {
      "cell_type": "code",
      "metadata": {
        "colab": {
          "base_uri": "https://localhost:8080/"
        },
        "id": "wk_zZJb3BvjE",
        "outputId": "480a6306-d683-43a2-ced7-3b0d6329fa30"
      },
      "source": [
        "model1_conf_matr = confusion_matrix(y_val, pred_1)\n",
        "model1_conf_matr"
      ],
      "execution_count": 71,
      "outputs": [
        {
          "output_type": "execute_result",
          "data": {
            "text/plain": [
              "array([[359,  55],\n",
              "       [132, 216]])"
            ]
          },
          "metadata": {
            "tags": []
          },
          "execution_count": 71
        }
      ]
    },
    {
      "cell_type": "code",
      "metadata": {
        "colab": {
          "base_uri": "https://localhost:8080/"
        },
        "id": "zQ2Uhqt-D_e_",
        "outputId": "18df9d2e-0a1c-4a9f-9ad4-3ff9b74c760b"
      },
      "source": [
        "base_conf_matr"
      ],
      "execution_count": 87,
      "outputs": [
        {
          "output_type": "execute_result",
          "data": {
            "text/plain": [
              "array([[385,  29],\n",
              "       [126, 222]])"
            ]
          },
          "metadata": {
            "tags": []
          },
          "execution_count": 87
        }
      ]
    },
    {
      "cell_type": "markdown",
      "metadata": {
        "id": "BGDiyjdulKx4"
      },
      "source": [
        "#### Build base model as in tutorial: add GlobalAveragePooling1D() and remove Dense(128) 5 epochs"
      ]
    },
    {
      "cell_type": "code",
      "metadata": {
        "id": "T-Raopcxlgrc"
      },
      "source": [
        "from tensorflow.keras import backend as K"
      ],
      "execution_count": 72,
      "outputs": []
    },
    {
      "cell_type": "code",
      "metadata": {
        "id": "cQeVJbTClydd"
      },
      "source": [
        "K.clear_session()"
      ],
      "execution_count": 73,
      "outputs": []
    },
    {
      "cell_type": "code",
      "metadata": {
        "id": "v9SYBEz4je3j"
      },
      "source": [
        "#I replace Flatten layer to GAP, run for 5 epochs \n",
        "inputs = Input(shape = (1,), dtype=tf.string)\n",
        "x = text_vect(inputs)\n",
        "x = embedding(x)\n",
        "x = GlobalAveragePooling1D()(x) \n",
        "x = Dense(64, activation='relu')(x)\n",
        "outputs = Dense(1, activation='sigmoid')(x)"
      ],
      "execution_count": 74,
      "outputs": []
    },
    {
      "cell_type": "code",
      "metadata": {
        "id": "3iyVd7uIl7tc"
      },
      "source": [
        "model_1_2 = Model(inputs, outputs)"
      ],
      "execution_count": 75,
      "outputs": []
    },
    {
      "cell_type": "code",
      "metadata": {
        "id": "qwRPoCCymGxt"
      },
      "source": [
        "model_1_2.compile(optimizer='adam', metrics='accuracy', loss = 'binary_crossentropy')"
      ],
      "execution_count": 76,
      "outputs": []
    },
    {
      "cell_type": "code",
      "metadata": {
        "colab": {
          "base_uri": "https://localhost:8080/"
        },
        "id": "OGdPSC4Nm89D",
        "outputId": "2dd885f2-c689-4dd8-de0b-d5351f3a196b"
      },
      "source": [
        "model_1_2.summary()"
      ],
      "execution_count": 77,
      "outputs": [
        {
          "output_type": "stream",
          "text": [
            "Model: \"model\"\n",
            "_________________________________________________________________\n",
            "Layer (type)                 Output Shape              Param #   \n",
            "=================================================================\n",
            "input_1 (InputLayer)         [(None, 1)]               0         \n",
            "_________________________________________________________________\n",
            "text_vectorization_1 (TextVe (None, 30)                0         \n",
            "_________________________________________________________________\n",
            "embedding (Embedding)        (None, 30, 128)           1280000   \n",
            "_________________________________________________________________\n",
            "global_average_pooling1d (Gl (None, 128)               0         \n",
            "_________________________________________________________________\n",
            "dense (Dense)                (None, 64)                8256      \n",
            "_________________________________________________________________\n",
            "dense_1 (Dense)              (None, 1)                 65        \n",
            "=================================================================\n",
            "Total params: 1,288,321\n",
            "Trainable params: 1,288,321\n",
            "Non-trainable params: 0\n",
            "_________________________________________________________________\n"
          ],
          "name": "stdout"
        }
      ]
    },
    {
      "cell_type": "code",
      "metadata": {
        "colab": {
          "base_uri": "https://localhost:8080/"
        },
        "id": "6mu7d1WYmKeB",
        "outputId": "3b2eec69-49ee-4597-f1b9-ffde29d764e1"
      },
      "source": [
        "history_1_2 = model_1_2.fit(tf.constant(X_train), y_train,\n",
        "                        epochs = 5,\n",
        "                        validation_data = (tf.constant(X_val), y_val),\n",
        "                        callbacks = create_tf_board_callback(DIR, 'model_1_2'))"
      ],
      "execution_count": 78,
      "outputs": [
        {
          "output_type": "stream",
          "text": [
            "Saving TensorBoard log files to model_logs/model_1_2/20210718-095849\n",
            "Epoch 1/5\n",
            "215/215 [==============================] - 4s 17ms/step - loss: 0.4769 - accuracy: 0.8253 - val_loss: 0.4731 - val_accuracy: 0.7874\n",
            "Epoch 2/5\n",
            "215/215 [==============================] - 3s 14ms/step - loss: 0.2825 - accuracy: 0.8879 - val_loss: 0.4990 - val_accuracy: 0.7927\n",
            "Epoch 3/5\n",
            "215/215 [==============================] - 3s 14ms/step - loss: 0.2110 - accuracy: 0.9207 - val_loss: 0.5645 - val_accuracy: 0.7848\n",
            "Epoch 4/5\n",
            "215/215 [==============================] - 3s 14ms/step - loss: 0.1625 - accuracy: 0.9402 - val_loss: 0.6181 - val_accuracy: 0.7795\n",
            "Epoch 5/5\n",
            "215/215 [==============================] - 3s 14ms/step - loss: 0.1363 - accuracy: 0.9494 - val_loss: 0.6620 - val_accuracy: 0.7690\n"
          ],
          "name": "stdout"
        }
      ]
    },
    {
      "cell_type": "code",
      "metadata": {
        "id": "c3xsDUhvxRiB"
      },
      "source": [
        "prob_1_2 = model_1_2.predict(tf.constant(X_val))"
      ],
      "execution_count": 79,
      "outputs": []
    },
    {
      "cell_type": "code",
      "metadata": {
        "colab": {
          "base_uri": "https://localhost:8080/"
        },
        "id": "_PGN4t21xanP",
        "outputId": "cb84542a-8cba-4e4c-f251-a24140306398"
      },
      "source": [
        "prob_1_2.shape"
      ],
      "execution_count": 80,
      "outputs": [
        {
          "output_type": "execute_result",
          "data": {
            "text/plain": [
              "(762, 1)"
            ]
          },
          "metadata": {
            "tags": []
          },
          "execution_count": 80
        }
      ]
    },
    {
      "cell_type": "code",
      "metadata": {
        "id": "erNBeqbOxxMK"
      },
      "source": [
        "pred_1_2 = np.round(prob_1_2).flatten()"
      ],
      "execution_count": 81,
      "outputs": []
    },
    {
      "cell_type": "code",
      "metadata": {
        "colab": {
          "base_uri": "https://localhost:8080/"
        },
        "id": "hqnbIPf6yEWn",
        "outputId": "af70a55f-23d2-47f3-beed-caac442332a6"
      },
      "source": [
        "pred_1_2[:10], y_val[:10]"
      ],
      "execution_count": 82,
      "outputs": [
        {
          "output_type": "execute_result",
          "data": {
            "text/plain": [
              "(array([0., 1., 1., 0., 0., 1., 1., 1., 1., 0.], dtype=float32),\n",
              " array([0, 0, 1, 1, 1, 1, 1, 1, 1, 0]))"
            ]
          },
          "metadata": {
            "tags": []
          },
          "execution_count": 82
        }
      ]
    },
    {
      "cell_type": "code",
      "metadata": {
        "id": "j4NnoAI0yLA5"
      },
      "source": [
        "write_result(pred_1_2, 'simple_dense_model_1_2')"
      ],
      "execution_count": 83,
      "outputs": []
    },
    {
      "cell_type": "code",
      "metadata": {
        "colab": {
          "base_uri": "https://localhost:8080/",
          "height": 160
        },
        "id": "iQE0ovJVz0ul",
        "outputId": "bf55c7e4-e4a0-4760-a76b-9b9c33365f11"
      },
      "source": [
        "results_df"
      ],
      "execution_count": 84,
      "outputs": [
        {
          "output_type": "execute_result",
          "data": {
            "text/html": [
              "<div>\n",
              "<style scoped>\n",
              "    .dataframe tbody tr th:only-of-type {\n",
              "        vertical-align: middle;\n",
              "    }\n",
              "\n",
              "    .dataframe tbody tr th {\n",
              "        vertical-align: top;\n",
              "    }\n",
              "\n",
              "    .dataframe thead th {\n",
              "        text-align: right;\n",
              "    }\n",
              "</style>\n",
              "<table border=\"1\" class=\"dataframe\">\n",
              "  <thead>\n",
              "    <tr style=\"text-align: right;\">\n",
              "      <th></th>\n",
              "      <th>num_experiment</th>\n",
              "      <th>model_name</th>\n",
              "      <th>accuracy_score</th>\n",
              "      <th>precision</th>\n",
              "      <th>racall</th>\n",
              "      <th>f-1_score</th>\n",
              "    </tr>\n",
              "  </thead>\n",
              "  <tbody>\n",
              "    <tr>\n",
              "      <th>0</th>\n",
              "      <td>0</td>\n",
              "      <td>base_naive_bayes</td>\n",
              "      <td>0.796588</td>\n",
              "      <td>0.884462</td>\n",
              "      <td>0.637931</td>\n",
              "      <td>0.741235</td>\n",
              "    </tr>\n",
              "    <tr>\n",
              "      <th>1</th>\n",
              "      <td>1</td>\n",
              "      <td>base_dense_model_1</td>\n",
              "      <td>0.754593</td>\n",
              "      <td>0.797048</td>\n",
              "      <td>0.620690</td>\n",
              "      <td>0.697900</td>\n",
              "    </tr>\n",
              "    <tr>\n",
              "      <th>2</th>\n",
              "      <td>2</td>\n",
              "      <td>simple_dense_model_1_2</td>\n",
              "      <td>0.769029</td>\n",
              "      <td>0.777419</td>\n",
              "      <td>0.692529</td>\n",
              "      <td>0.732523</td>\n",
              "    </tr>\n",
              "  </tbody>\n",
              "</table>\n",
              "</div>"
            ],
            "text/plain": [
              "  num_experiment              model_name  ...    racall  f-1_score\n",
              "0              0        base_naive_bayes  ...  0.637931   0.741235\n",
              "1              1      base_dense_model_1  ...  0.620690   0.697900\n",
              "2              2  simple_dense_model_1_2  ...  0.692529   0.732523\n",
              "\n",
              "[3 rows x 6 columns]"
            ]
          },
          "metadata": {
            "tags": []
          },
          "execution_count": 84
        }
      ]
    },
    {
      "cell_type": "code",
      "metadata": {
        "colab": {
          "base_uri": "https://localhost:8080/"
        },
        "id": "kclRvm9gDwlP",
        "outputId": "58d4bd4b-7cb0-4682-e6f8-116d4c38eb62"
      },
      "source": [
        "model1_2_conf_matr = confusion_matrix(y_val, pred_1_2)\n",
        "model1_2_conf_matr"
      ],
      "execution_count": 86,
      "outputs": [
        {
          "output_type": "execute_result",
          "data": {
            "text/plain": [
              "array([[345,  69],\n",
              "       [107, 241]])"
            ]
          },
          "metadata": {
            "tags": []
          },
          "execution_count": 86
        }
      ]
    },
    {
      "cell_type": "code",
      "metadata": {
        "colab": {
          "base_uri": "https://localhost:8080/"
        },
        "id": "ayH46_0RD4jL",
        "outputId": "edae3350-ccd7-4b46-de56-c63ecc52c931"
      },
      "source": [
        "base_conf_matr"
      ],
      "execution_count": 88,
      "outputs": [
        {
          "output_type": "execute_result",
          "data": {
            "text/plain": [
              "array([[385,  29],\n",
              "       [126, 222]])"
            ]
          },
          "metadata": {
            "tags": []
          },
          "execution_count": 88
        }
      ]
    },
    {
      "cell_type": "markdown",
      "metadata": {
        "id": "-PUnFgITE0gO"
      },
      "source": [
        "### Visualise learned Embedding"
      ]
    },
    {
      "cell_type": "code",
      "metadata": {
        "colab": {
          "base_uri": "https://localhost:8080/"
        },
        "id": "xPuIkaBoz34X",
        "outputId": "f56eb5ea-632e-4348-af54-40380884cf7a"
      },
      "source": [
        "model_1_2.summary()"
      ],
      "execution_count": 89,
      "outputs": [
        {
          "output_type": "stream",
          "text": [
            "Model: \"model\"\n",
            "_________________________________________________________________\n",
            "Layer (type)                 Output Shape              Param #   \n",
            "=================================================================\n",
            "input_1 (InputLayer)         [(None, 1)]               0         \n",
            "_________________________________________________________________\n",
            "text_vectorization_1 (TextVe (None, 30)                0         \n",
            "_________________________________________________________________\n",
            "embedding (Embedding)        (None, 30, 128)           1280000   \n",
            "_________________________________________________________________\n",
            "global_average_pooling1d (Gl (None, 128)               0         \n",
            "_________________________________________________________________\n",
            "dense (Dense)                (None, 64)                8256      \n",
            "_________________________________________________________________\n",
            "dense_1 (Dense)              (None, 1)                 65        \n",
            "=================================================================\n",
            "Total params: 1,288,321\n",
            "Trainable params: 1,288,321\n",
            "Non-trainable params: 0\n",
            "_________________________________________________________________\n"
          ],
          "name": "stdout"
        }
      ]
    },
    {
      "cell_type": "code",
      "metadata": {
        "colab": {
          "base_uri": "https://localhost:8080/"
        },
        "id": "2iQdBGZ-KokG",
        "outputId": "5bfb4e99-ea94-432c-cbbc-2082f27db450"
      },
      "source": [
        "# Get the vocabulary from the text vectorization layer\n",
        "words_in_vocab = text_vect.get_vocabulary()\n",
        "len(words_in_vocab), words_in_vocab[:10]"
      ],
      "execution_count": 90,
      "outputs": [
        {
          "output_type": "execute_result",
          "data": {
            "text/plain": [
              "(10000, ['', '[UNK]', 'the', 'a', 'in', 'to', 'of', 'i', 'and', 'is'])"
            ]
          },
          "metadata": {
            "tags": []
          },
          "execution_count": 90
        }
      ]
    },
    {
      "cell_type": "code",
      "metadata": {
        "id": "-ESkM1CyJXxb"
      },
      "source": [
        "embed_weights = model_1_2.get_layer('embedding').get_weights()[0]"
      ],
      "execution_count": 91,
      "outputs": []
    },
    {
      "cell_type": "code",
      "metadata": {
        "colab": {
          "base_uri": "https://localhost:8080/"
        },
        "id": "5CzLW2QkJniS",
        "outputId": "f1883410-ba93-4e0d-8d43-8f9a53839f83"
      },
      "source": [
        "embed_weights"
      ],
      "execution_count": 92,
      "outputs": [
        {
          "output_type": "execute_result",
          "data": {
            "text/plain": [
              "array([[ 0.01712697, -0.03152036,  0.04287122, ..., -0.00943492,\n",
              "        -0.06001188, -0.04228797],\n",
              "       [ 0.05131322, -0.04614005,  0.10134701, ..., -0.04148512,\n",
              "        -0.00959499, -0.04149962],\n",
              "       [ 0.06330501, -0.03567011,  0.03234107, ..., -0.02938011,\n",
              "        -0.0101509 , -0.07514248],\n",
              "       ...,\n",
              "       [-0.04582889, -0.04044246, -0.00625622, ...,  0.03291857,\n",
              "        -0.01804018, -0.02130038],\n",
              "       [-0.0407124 , -0.0105462 ,  0.02924868, ...,  0.01854316,\n",
              "         0.0156048 ,  0.0016351 ],\n",
              "       [ 0.05275933,  0.11831407, -0.00312346, ..., -0.10551866,\n",
              "         0.02856588, -0.05690886]], dtype=float32)"
            ]
          },
          "metadata": {
            "tags": []
          },
          "execution_count": 92
        }
      ]
    },
    {
      "cell_type": "markdown",
      "metadata": {
        "id": "ueqvkq8gKa5-"
      },
      "source": [
        "Now we've got these two objects, we can use the Embedding Projector tool to visualize our embedding.\n",
        "\n",
        "To use the Embedding Projector tool, we need two files:\n",
        "- The embedding vectors (same as embedding weights).\n",
        "- The meta data of the embedding vectors (the words they represent - our vocabulary).\n",
        "\n",
        "Right now, we've got of these files as Python objects. To download them to file, we're going to use the code example available on the TensorFlow word embeddings tutorial page.\n",
        "\n",
        "https://www.tensorflow.org/tutorials/text/word_embeddings#retrieve_the_trained_word_embeddings_and_save_them_to_disk"
      ]
    },
    {
      "cell_type": "code",
      "metadata": {
        "id": "l3uiXwvjJpk7"
      },
      "source": [
        "import io\n",
        "out_v = io.open('vectors.tsv', 'w', encoding='utf-8')\n",
        "out_m = io.open('metadata.tsv', 'w', encoding='utf-8')\n",
        "\n",
        "for index, word in enumerate(words_in_vocab):\n",
        "  if index == 0:\n",
        "    continue  # skip 0, it's padding.\n",
        "  vec = embed_weights[index]\n",
        "  out_v.write('\\t'.join([str(x) for x in vec]) + \"\\n\")\n",
        "  out_m.write(word + \"\\n\")\n",
        "out_v.close()\n",
        "out_m.close()"
      ],
      "execution_count": 93,
      "outputs": []
    },
    {
      "cell_type": "code",
      "metadata": {
        "colab": {
          "base_uri": "https://localhost:8080/",
          "height": 81
        },
        "id": "yIHV7_yhL51j",
        "outputId": "3b97c0c1-ae0e-4e21-e57e-c38917bb89e6"
      },
      "source": [
        "try:\n",
        "  from google.colab import files\n",
        "  files.download('vectors.tsv')\n",
        "  files.download('metadata.tsv')\n",
        "except Exception:\n",
        "  pass"
      ],
      "execution_count": 94,
      "outputs": [
        {
          "output_type": "display_data",
          "data": {
            "application/javascript": [
              "\n",
              "    async function download(id, filename, size) {\n",
              "      if (!google.colab.kernel.accessAllowed) {\n",
              "        return;\n",
              "      }\n",
              "      const div = document.createElement('div');\n",
              "      const label = document.createElement('label');\n",
              "      label.textContent = `Downloading \"${filename}\": `;\n",
              "      div.appendChild(label);\n",
              "      const progress = document.createElement('progress');\n",
              "      progress.max = size;\n",
              "      div.appendChild(progress);\n",
              "      document.body.appendChild(div);\n",
              "\n",
              "      const buffers = [];\n",
              "      let downloaded = 0;\n",
              "\n",
              "      const channel = await google.colab.kernel.comms.open(id);\n",
              "      // Send a message to notify the kernel that we're ready.\n",
              "      channel.send({})\n",
              "\n",
              "      for await (const message of channel.messages) {\n",
              "        // Send a message to notify the kernel that we're ready.\n",
              "        channel.send({})\n",
              "        if (message.buffers) {\n",
              "          for (const buffer of message.buffers) {\n",
              "            buffers.push(buffer);\n",
              "            downloaded += buffer.byteLength;\n",
              "            progress.value = downloaded;\n",
              "          }\n",
              "        }\n",
              "      }\n",
              "      const blob = new Blob(buffers, {type: 'application/binary'});\n",
              "      const a = document.createElement('a');\n",
              "      a.href = window.URL.createObjectURL(blob);\n",
              "      a.download = filename;\n",
              "      div.appendChild(a);\n",
              "      a.click();\n",
              "      div.remove();\n",
              "    }\n",
              "  "
            ],
            "text/plain": [
              "<IPython.core.display.Javascript object>"
            ]
          },
          "metadata": {
            "tags": []
          }
        },
        {
          "output_type": "display_data",
          "data": {
            "application/javascript": [
              "download(\"download_e04b6e7e-d9b8-40fd-9a07-8af0b27324a6\", \"vectors.tsv\", 15443651)"
            ],
            "text/plain": [
              "<IPython.core.display.Javascript object>"
            ]
          },
          "metadata": {
            "tags": []
          }
        },
        {
          "output_type": "display_data",
          "data": {
            "application/javascript": [
              "\n",
              "    async function download(id, filename, size) {\n",
              "      if (!google.colab.kernel.accessAllowed) {\n",
              "        return;\n",
              "      }\n",
              "      const div = document.createElement('div');\n",
              "      const label = document.createElement('label');\n",
              "      label.textContent = `Downloading \"${filename}\": `;\n",
              "      div.appendChild(label);\n",
              "      const progress = document.createElement('progress');\n",
              "      progress.max = size;\n",
              "      div.appendChild(progress);\n",
              "      document.body.appendChild(div);\n",
              "\n",
              "      const buffers = [];\n",
              "      let downloaded = 0;\n",
              "\n",
              "      const channel = await google.colab.kernel.comms.open(id);\n",
              "      // Send a message to notify the kernel that we're ready.\n",
              "      channel.send({})\n",
              "\n",
              "      for await (const message of channel.messages) {\n",
              "        // Send a message to notify the kernel that we're ready.\n",
              "        channel.send({})\n",
              "        if (message.buffers) {\n",
              "          for (const buffer of message.buffers) {\n",
              "            buffers.push(buffer);\n",
              "            downloaded += buffer.byteLength;\n",
              "            progress.value = downloaded;\n",
              "          }\n",
              "        }\n",
              "      }\n",
              "      const blob = new Blob(buffers, {type: 'application/binary'});\n",
              "      const a = document.createElement('a');\n",
              "      a.href = window.URL.createObjectURL(blob);\n",
              "      a.download = filename;\n",
              "      div.appendChild(a);\n",
              "      a.click();\n",
              "      div.remove();\n",
              "    }\n",
              "  "
            ],
            "text/plain": [
              "<IPython.core.display.Javascript object>"
            ]
          },
          "metadata": {
            "tags": []
          }
        },
        {
          "output_type": "display_data",
          "data": {
            "application/javascript": [
              "download(\"download_c3660157-d0a3-4e3a-8b8f-51c90aee707b\", \"metadata.tsv\", 77832)"
            ],
            "text/plain": [
              "<IPython.core.display.Javascript object>"
            ]
          },
          "metadata": {
            "tags": []
          }
        }
      ]
    },
    {
      "cell_type": "markdown",
      "metadata": {
        "id": "bgBWFcL5Y8fr"
      },
      "source": [
        "## Recurrent Neural Networks\n",
        "\n",
        "The premise of an RNN is simple: use information from the past to help you with the future (this is where the term recurrent comes from). In other words, take an input (X) and compute an output (y) based on all previous inputs.\n",
        "\n",
        "This concept is especially helpful when dealing with sequences such as passages of natural language text (such as our Tweets).\n",
        "For example, when you read this sentence, you take into context the previous words when deciphering the meaning of the current word.\n",
        "\n",
        "When an RNN looks at a sequence of text (already in numerical form), the patterns it learns are continually updated based on the order of the sequence.\n",
        "\n",
        "For a simple example, take two sentences:\n",
        "Massive earthquake last week, no?\n",
        "No massive earthquake last week.\n",
        "Both contain exactly the same words but have different meaning. The order of the words determines the meaning (one could argue punctuation marks also dictate the meaning but for simplicity sake, let's stay focused on the words).\n",
        "\n",
        "Recurrent neural networks can be used for a number of sequence-based problems:\n",
        "- One to one: one input, one output, such as image classification.\n",
        "- One to many: one input, many outputs, such as image captioning (image input, a sequence of text as caption output).\n",
        "- Many to one: many inputs, one outputs, such as text classification (classifying a Tweet as real diaster or not real diaster).\n",
        "- Many to many: many inputs, many outputs, such as machine translation (translating English to Spanish) or speech to text (audio wave as input, text as output).\n",
        "\n",
        "When you come across RNN's in the wild, you'll most likely come across variants of the following:\n",
        "- Long short-term memory cells (LSTMs).\n",
        "- Gated recurrent units (GRUs).\n",
        "- Bidirectional RNN's (passes forward and backward along a sequence, left to right and right to left)."
      ]
    },
    {
      "cell_type": "markdown",
      "metadata": {
        "id": "zxXfbuLvdiNp"
      },
      "source": [
        "### Model2 LSTM\n",
        "`Input (text) -> Tokenize -> Embedding -> Layers -> Output (label probability)\n",
        "`"
      ]
    },
    {
      "cell_type": "code",
      "metadata": {
        "id": "g-0rHmoId5eS"
      },
      "source": [
        "K.clear_session()"
      ],
      "execution_count": 95,
      "outputs": []
    },
    {
      "cell_type": "code",
      "metadata": {
        "id": "5NNaKIDlMKwK"
      },
      "source": [
        "inputs = Input(shape = (1,), dtype = tf.string)\n",
        "x = text_vect(inputs)\n",
        "x = embedding(x)\n",
        "x = LSTM(units = 64, return_sequences=True)(x)\n",
        "x = LSTM(64)(x)\n",
        "x = Dense(64, activation='relu')(x)\n",
        "outputs = Dense(1, activation='sigmoid')(x)"
      ],
      "execution_count": 101,
      "outputs": []
    },
    {
      "cell_type": "code",
      "metadata": {
        "id": "dUHHEPZQfxXZ"
      },
      "source": [
        "model_2 = Model(inputs, outputs)"
      ],
      "execution_count": 102,
      "outputs": []
    },
    {
      "cell_type": "code",
      "metadata": {
        "id": "z0XU_awOf2Iy"
      },
      "source": [
        "model_2.compile(optimizer='adam', metrics='accuracy', loss = 'binary_crossentropy')"
      ],
      "execution_count": 103,
      "outputs": []
    },
    {
      "cell_type": "code",
      "metadata": {
        "colab": {
          "base_uri": "https://localhost:8080/"
        },
        "id": "lnIQYDTRgHFj",
        "outputId": "90abe60a-304e-40cb-b669-22c6aaacc421"
      },
      "source": [
        "model_2.summary()"
      ],
      "execution_count": 104,
      "outputs": [
        {
          "output_type": "stream",
          "text": [
            "Model: \"model_1\"\n",
            "_________________________________________________________________\n",
            "Layer (type)                 Output Shape              Param #   \n",
            "=================================================================\n",
            "input_3 (InputLayer)         [(None, 1)]               0         \n",
            "_________________________________________________________________\n",
            "text_vectorization_1 (TextVe (None, 30)                0         \n",
            "_________________________________________________________________\n",
            "embedding (Embedding)        (None, 30, 128)           1280000   \n",
            "_________________________________________________________________\n",
            "lstm_3 (LSTM)                (None, 30, 64)            49408     \n",
            "_________________________________________________________________\n",
            "lstm_4 (LSTM)                (None, 64)                33024     \n",
            "_________________________________________________________________\n",
            "dense_4 (Dense)              (None, 64)                4160      \n",
            "_________________________________________________________________\n",
            "dense_5 (Dense)              (None, 1)                 65        \n",
            "=================================================================\n",
            "Total params: 1,366,657\n",
            "Trainable params: 1,366,657\n",
            "Non-trainable params: 0\n",
            "_________________________________________________________________\n"
          ],
          "name": "stdout"
        }
      ]
    },
    {
      "cell_type": "code",
      "metadata": {
        "colab": {
          "base_uri": "https://localhost:8080/"
        },
        "id": "WknKG5iegJDO",
        "outputId": "3adc05be-b8d3-48dc-a0ca-5d40200fca8d"
      },
      "source": [
        "history_2 = model_2.fit(tf.constant(X_train), y_train,\n",
        "                        epochs = 5,\n",
        "                        validation_data = (tf.constant(X_val), y_val),\n",
        "                        callbacks = create_tf_board_callback(DIR, 'model_2'))"
      ],
      "execution_count": 105,
      "outputs": [
        {
          "output_type": "stream",
          "text": [
            "Saving TensorBoard log files to model_logs/model_2/20210718-100526\n",
            "Epoch 1/5\n",
            "215/215 [==============================] - 12s 27ms/step - loss: 0.1920 - accuracy: 0.9197 - val_loss: 0.6314 - val_accuracy: 0.7769\n",
            "Epoch 2/5\n",
            "215/215 [==============================] - 4s 20ms/step - loss: 0.1089 - accuracy: 0.9622 - val_loss: 0.9528 - val_accuracy: 0.7664\n",
            "Epoch 3/5\n",
            "215/215 [==============================] - 4s 20ms/step - loss: 0.0889 - accuracy: 0.9669 - val_loss: 1.1043 - val_accuracy: 0.7612\n",
            "Epoch 4/5\n",
            "215/215 [==============================] - 4s 19ms/step - loss: 0.0800 - accuracy: 0.9679 - val_loss: 0.8400 - val_accuracy: 0.7625\n",
            "Epoch 5/5\n",
            "215/215 [==============================] - 4s 19ms/step - loss: 0.0762 - accuracy: 0.9682 - val_loss: 0.9617 - val_accuracy: 0.7664\n"
          ],
          "name": "stdout"
        }
      ]
    },
    {
      "cell_type": "code",
      "metadata": {
        "id": "b8yRYUNtkplC"
      },
      "source": [
        "prob_2 = model_2.predict(tf.constant(X_val))"
      ],
      "execution_count": 106,
      "outputs": []
    },
    {
      "cell_type": "code",
      "metadata": {
        "colab": {
          "base_uri": "https://localhost:8080/"
        },
        "id": "rCxFF8idkplE",
        "outputId": "69206ae1-859a-4127-fe7f-b5f178f6ae49"
      },
      "source": [
        "prob_2.shape"
      ],
      "execution_count": 107,
      "outputs": [
        {
          "output_type": "execute_result",
          "data": {
            "text/plain": [
              "(762, 1)"
            ]
          },
          "metadata": {
            "tags": []
          },
          "execution_count": 107
        }
      ]
    },
    {
      "cell_type": "code",
      "metadata": {
        "id": "5RfCzyJmkplF"
      },
      "source": [
        "pred_2 = np.round(prob_2).flatten()"
      ],
      "execution_count": 108,
      "outputs": []
    },
    {
      "cell_type": "code",
      "metadata": {
        "colab": {
          "base_uri": "https://localhost:8080/"
        },
        "id": "rBC64gD7kplG",
        "outputId": "8e7104b0-50e1-4de2-eb30-5e17fd0786f2"
      },
      "source": [
        "pred_2[:10], y_val[:10]"
      ],
      "execution_count": 109,
      "outputs": [
        {
          "output_type": "execute_result",
          "data": {
            "text/plain": [
              "(array([0., 0., 1., 0., 0., 1., 1., 1., 1., 0.], dtype=float32),\n",
              " array([0, 0, 1, 1, 1, 1, 1, 1, 1, 0]))"
            ]
          },
          "metadata": {
            "tags": []
          },
          "execution_count": 109
        }
      ]
    },
    {
      "cell_type": "code",
      "metadata": {
        "id": "JjRi6Pp6kplG"
      },
      "source": [
        "write_result(pred_2, 'LSTM_model_2')"
      ],
      "execution_count": 110,
      "outputs": []
    },
    {
      "cell_type": "code",
      "metadata": {
        "colab": {
          "base_uri": "https://localhost:8080/",
          "height": 191
        },
        "id": "9EKNrfUPkplH",
        "outputId": "98381689-ceb4-449b-a6b5-43b93bebae94"
      },
      "source": [
        "results_df"
      ],
      "execution_count": 111,
      "outputs": [
        {
          "output_type": "execute_result",
          "data": {
            "text/html": [
              "<div>\n",
              "<style scoped>\n",
              "    .dataframe tbody tr th:only-of-type {\n",
              "        vertical-align: middle;\n",
              "    }\n",
              "\n",
              "    .dataframe tbody tr th {\n",
              "        vertical-align: top;\n",
              "    }\n",
              "\n",
              "    .dataframe thead th {\n",
              "        text-align: right;\n",
              "    }\n",
              "</style>\n",
              "<table border=\"1\" class=\"dataframe\">\n",
              "  <thead>\n",
              "    <tr style=\"text-align: right;\">\n",
              "      <th></th>\n",
              "      <th>num_experiment</th>\n",
              "      <th>model_name</th>\n",
              "      <th>accuracy_score</th>\n",
              "      <th>precision</th>\n",
              "      <th>racall</th>\n",
              "      <th>f-1_score</th>\n",
              "    </tr>\n",
              "  </thead>\n",
              "  <tbody>\n",
              "    <tr>\n",
              "      <th>0</th>\n",
              "      <td>0</td>\n",
              "      <td>base_naive_bayes</td>\n",
              "      <td>0.796588</td>\n",
              "      <td>0.884462</td>\n",
              "      <td>0.637931</td>\n",
              "      <td>0.741235</td>\n",
              "    </tr>\n",
              "    <tr>\n",
              "      <th>1</th>\n",
              "      <td>1</td>\n",
              "      <td>base_dense_model_1</td>\n",
              "      <td>0.754593</td>\n",
              "      <td>0.797048</td>\n",
              "      <td>0.620690</td>\n",
              "      <td>0.697900</td>\n",
              "    </tr>\n",
              "    <tr>\n",
              "      <th>2</th>\n",
              "      <td>2</td>\n",
              "      <td>simple_dense_model_1_2</td>\n",
              "      <td>0.769029</td>\n",
              "      <td>0.777419</td>\n",
              "      <td>0.692529</td>\n",
              "      <td>0.732523</td>\n",
              "    </tr>\n",
              "    <tr>\n",
              "      <th>3</th>\n",
              "      <td>3</td>\n",
              "      <td>LSTM_model_2</td>\n",
              "      <td>0.766404</td>\n",
              "      <td>0.775974</td>\n",
              "      <td>0.686782</td>\n",
              "      <td>0.728659</td>\n",
              "    </tr>\n",
              "  </tbody>\n",
              "</table>\n",
              "</div>"
            ],
            "text/plain": [
              "  num_experiment              model_name  ...    racall  f-1_score\n",
              "0              0        base_naive_bayes  ...  0.637931   0.741235\n",
              "1              1      base_dense_model_1  ...  0.620690   0.697900\n",
              "2              2  simple_dense_model_1_2  ...  0.692529   0.732523\n",
              "3              3            LSTM_model_2  ...  0.686782   0.728659\n",
              "\n",
              "[4 rows x 6 columns]"
            ]
          },
          "metadata": {
            "tags": []
          },
          "execution_count": 111
        }
      ]
    },
    {
      "cell_type": "code",
      "metadata": {
        "colab": {
          "base_uri": "https://localhost:8080/"
        },
        "id": "ojs8UJBzFN4q",
        "outputId": "dbe22e8f-d0c0-4f3c-e808-8efcfa1078cc"
      },
      "source": [
        "model2_conf_matr = confusion_matrix(y_val, pred_2)\n",
        "model2_conf_matr"
      ],
      "execution_count": 112,
      "outputs": [
        {
          "output_type": "execute_result",
          "data": {
            "text/plain": [
              "array([[345,  69],\n",
              "       [109, 239]])"
            ]
          },
          "metadata": {
            "tags": []
          },
          "execution_count": 112
        }
      ]
    },
    {
      "cell_type": "code",
      "metadata": {
        "colab": {
          "base_uri": "https://localhost:8080/"
        },
        "id": "iLNZVeoHFYQ9",
        "outputId": "8e95dbbd-6519-4efc-e34f-6fbeadd1efc7"
      },
      "source": [
        "base_conf_matr"
      ],
      "execution_count": 114,
      "outputs": [
        {
          "output_type": "execute_result",
          "data": {
            "text/plain": [
              "array([[385,  29],\n",
              "       [126, 222]])"
            ]
          },
          "metadata": {
            "tags": []
          },
          "execution_count": 114
        }
      ]
    },
    {
      "cell_type": "markdown",
      "metadata": {
        "id": "oUHwFSs3oNdR"
      },
      "source": [
        "### Model3 GRU\n",
        "The GRU cell has similar features to an LSTM cell but has less parameters.\n"
      ]
    },
    {
      "cell_type": "code",
      "metadata": {
        "id": "l--zPUewk5xi"
      },
      "source": [
        "inputs = Input(shape = (1,), dtype = 'string')\n",
        "x = text_vect(inputs)\n",
        "x = embedding(x)\n",
        "x = GRU(64, return_sequences=True)(x)\n",
        "x = LSTM(64, return_sequences = True)(x)\n",
        "x = GRU(64)(x)\n",
        "x = Dense(64, activation='relu')(x)\n",
        "outputs = Dense(1, activation='sigmoid')(x)"
      ],
      "execution_count": 115,
      "outputs": []
    },
    {
      "cell_type": "code",
      "metadata": {
        "id": "4Eb6_MlDpfV_"
      },
      "source": [
        "model_3 = Model(inputs, outputs)"
      ],
      "execution_count": 116,
      "outputs": []
    },
    {
      "cell_type": "code",
      "metadata": {
        "colab": {
          "base_uri": "https://localhost:8080/"
        },
        "id": "opHKKJJMptKY",
        "outputId": "492f5f83-8db9-44e1-d661-fcd3552879db"
      },
      "source": [
        "model_3.compile(optimizer='adam', metrics='accuracy', loss = 'binary_crossentropy')\n",
        "model_3.summary()"
      ],
      "execution_count": 117,
      "outputs": [
        {
          "output_type": "stream",
          "text": [
            "Model: \"model_2\"\n",
            "_________________________________________________________________\n",
            "Layer (type)                 Output Shape              Param #   \n",
            "=================================================================\n",
            "input_4 (InputLayer)         [(None, 1)]               0         \n",
            "_________________________________________________________________\n",
            "text_vectorization_1 (TextVe (None, 30)                0         \n",
            "_________________________________________________________________\n",
            "embedding (Embedding)        (None, 30, 128)           1280000   \n",
            "_________________________________________________________________\n",
            "gru (GRU)                    (None, 30, 64)            37248     \n",
            "_________________________________________________________________\n",
            "lstm_5 (LSTM)                (None, 30, 64)            33024     \n",
            "_________________________________________________________________\n",
            "gru_1 (GRU)                  (None, 64)                24960     \n",
            "_________________________________________________________________\n",
            "dense_6 (Dense)              (None, 64)                4160      \n",
            "_________________________________________________________________\n",
            "dense_7 (Dense)              (None, 1)                 65        \n",
            "=================================================================\n",
            "Total params: 1,379,457\n",
            "Trainable params: 1,379,457\n",
            "Non-trainable params: 0\n",
            "_________________________________________________________________\n"
          ],
          "name": "stdout"
        }
      ]
    },
    {
      "cell_type": "code",
      "metadata": {
        "colab": {
          "base_uri": "https://localhost:8080/"
        },
        "id": "7kxFqq2kp3yN",
        "outputId": "991f6362-fc88-4d89-e61f-997f6a77859d"
      },
      "source": [
        "history_3 = model_3.fit(tf.constant(X_train), y_train, epochs = 5,\n",
        "                        validation_data = (tf.constant(X_val), y_val),\n",
        "                        callbacks = create_tf_board_callback(DIR, 'model_3'))"
      ],
      "execution_count": 118,
      "outputs": [
        {
          "output_type": "stream",
          "text": [
            "Saving TensorBoard log files to model_logs/model_3/20210718-100753\n",
            "Epoch 1/5\n",
            "215/215 [==============================] - 10s 29ms/step - loss: 0.1668 - accuracy: 0.9301 - val_loss: 1.2417 - val_accuracy: 0.7520\n",
            "Epoch 2/5\n",
            "215/215 [==============================] - 4s 21ms/step - loss: 0.0920 - accuracy: 0.9673 - val_loss: 1.1443 - val_accuracy: 0.7651\n",
            "Epoch 3/5\n",
            "215/215 [==============================] - 5s 22ms/step - loss: 0.0733 - accuracy: 0.9683 - val_loss: 1.0972 - val_accuracy: 0.7572\n",
            "Epoch 4/5\n",
            "215/215 [==============================] - 5s 22ms/step - loss: 0.0696 - accuracy: 0.9710 - val_loss: 1.0345 - val_accuracy: 0.7598\n",
            "Epoch 5/5\n",
            "215/215 [==============================] - 5s 22ms/step - loss: 0.0615 - accuracy: 0.9717 - val_loss: 1.4018 - val_accuracy: 0.7559\n"
          ],
          "name": "stdout"
        }
      ]
    },
    {
      "cell_type": "code",
      "metadata": {
        "id": "CX8hkHn7qc9G"
      },
      "source": [
        "prob_3 = model_3.predict(tf.constant(X_val))"
      ],
      "execution_count": 119,
      "outputs": []
    },
    {
      "cell_type": "code",
      "metadata": {
        "colab": {
          "base_uri": "https://localhost:8080/"
        },
        "id": "3_oBHjV1qc9H",
        "outputId": "ed12e34a-89b6-412e-f681-2157c158a4e2"
      },
      "source": [
        "prob_3.shape"
      ],
      "execution_count": 120,
      "outputs": [
        {
          "output_type": "execute_result",
          "data": {
            "text/plain": [
              "(762, 1)"
            ]
          },
          "metadata": {
            "tags": []
          },
          "execution_count": 120
        }
      ]
    },
    {
      "cell_type": "code",
      "metadata": {
        "id": "dH0I1tmsqc9I"
      },
      "source": [
        "pred_3 = np.round(prob_3).flatten()"
      ],
      "execution_count": 121,
      "outputs": []
    },
    {
      "cell_type": "code",
      "metadata": {
        "colab": {
          "base_uri": "https://localhost:8080/"
        },
        "id": "V5QE8PD3qc9J",
        "outputId": "18eae967-9cbe-4698-e15b-aaa2cc428e31"
      },
      "source": [
        "pred_3[:10], y_val[:10]"
      ],
      "execution_count": 122,
      "outputs": [
        {
          "output_type": "execute_result",
          "data": {
            "text/plain": [
              "(array([0., 0., 1., 0., 0., 1., 1., 1., 1., 0.], dtype=float32),\n",
              " array([0, 0, 1, 1, 1, 1, 1, 1, 1, 0]))"
            ]
          },
          "metadata": {
            "tags": []
          },
          "execution_count": 122
        }
      ]
    },
    {
      "cell_type": "code",
      "metadata": {
        "id": "3KbKMKcKqc9J"
      },
      "source": [
        "write_result(pred_3, 'GRU_model_3')"
      ],
      "execution_count": 123,
      "outputs": []
    },
    {
      "cell_type": "code",
      "metadata": {
        "colab": {
          "base_uri": "https://localhost:8080/",
          "height": 221
        },
        "id": "LMBqpb56qc9K",
        "outputId": "36e8588c-765d-4d56-d126-a00d6dbdf232"
      },
      "source": [
        "results_df"
      ],
      "execution_count": 124,
      "outputs": [
        {
          "output_type": "execute_result",
          "data": {
            "text/html": [
              "<div>\n",
              "<style scoped>\n",
              "    .dataframe tbody tr th:only-of-type {\n",
              "        vertical-align: middle;\n",
              "    }\n",
              "\n",
              "    .dataframe tbody tr th {\n",
              "        vertical-align: top;\n",
              "    }\n",
              "\n",
              "    .dataframe thead th {\n",
              "        text-align: right;\n",
              "    }\n",
              "</style>\n",
              "<table border=\"1\" class=\"dataframe\">\n",
              "  <thead>\n",
              "    <tr style=\"text-align: right;\">\n",
              "      <th></th>\n",
              "      <th>num_experiment</th>\n",
              "      <th>model_name</th>\n",
              "      <th>accuracy_score</th>\n",
              "      <th>precision</th>\n",
              "      <th>racall</th>\n",
              "      <th>f-1_score</th>\n",
              "    </tr>\n",
              "  </thead>\n",
              "  <tbody>\n",
              "    <tr>\n",
              "      <th>0</th>\n",
              "      <td>0</td>\n",
              "      <td>base_naive_bayes</td>\n",
              "      <td>0.796588</td>\n",
              "      <td>0.884462</td>\n",
              "      <td>0.637931</td>\n",
              "      <td>0.741235</td>\n",
              "    </tr>\n",
              "    <tr>\n",
              "      <th>1</th>\n",
              "      <td>1</td>\n",
              "      <td>base_dense_model_1</td>\n",
              "      <td>0.754593</td>\n",
              "      <td>0.797048</td>\n",
              "      <td>0.620690</td>\n",
              "      <td>0.697900</td>\n",
              "    </tr>\n",
              "    <tr>\n",
              "      <th>2</th>\n",
              "      <td>2</td>\n",
              "      <td>simple_dense_model_1_2</td>\n",
              "      <td>0.769029</td>\n",
              "      <td>0.777419</td>\n",
              "      <td>0.692529</td>\n",
              "      <td>0.732523</td>\n",
              "    </tr>\n",
              "    <tr>\n",
              "      <th>3</th>\n",
              "      <td>3</td>\n",
              "      <td>LSTM_model_2</td>\n",
              "      <td>0.766404</td>\n",
              "      <td>0.775974</td>\n",
              "      <td>0.686782</td>\n",
              "      <td>0.728659</td>\n",
              "    </tr>\n",
              "    <tr>\n",
              "      <th>4</th>\n",
              "      <td>4</td>\n",
              "      <td>GRU_model_3</td>\n",
              "      <td>0.755906</td>\n",
              "      <td>0.791367</td>\n",
              "      <td>0.632184</td>\n",
              "      <td>0.702875</td>\n",
              "    </tr>\n",
              "  </tbody>\n",
              "</table>\n",
              "</div>"
            ],
            "text/plain": [
              "  num_experiment              model_name  ...    racall  f-1_score\n",
              "0              0        base_naive_bayes  ...  0.637931   0.741235\n",
              "1              1      base_dense_model_1  ...  0.620690   0.697900\n",
              "2              2  simple_dense_model_1_2  ...  0.692529   0.732523\n",
              "3              3            LSTM_model_2  ...  0.686782   0.728659\n",
              "4              4             GRU_model_3  ...  0.632184   0.702875\n",
              "\n",
              "[5 rows x 6 columns]"
            ]
          },
          "metadata": {
            "tags": []
          },
          "execution_count": 124
        }
      ]
    },
    {
      "cell_type": "code",
      "metadata": {
        "colab": {
          "base_uri": "https://localhost:8080/"
        },
        "id": "RciQIsHYFkKd",
        "outputId": "f1d49faf-c59a-4e74-dcfb-7631b0d8a4c7"
      },
      "source": [
        "model3_conf_matr = confusion_matrix(y_val, pred_3)\n",
        "model3_conf_matr"
      ],
      "execution_count": 125,
      "outputs": [
        {
          "output_type": "execute_result",
          "data": {
            "text/plain": [
              "array([[356,  58],\n",
              "       [128, 220]])"
            ]
          },
          "metadata": {
            "tags": []
          },
          "execution_count": 125
        }
      ]
    },
    {
      "cell_type": "code",
      "metadata": {
        "colab": {
          "base_uri": "https://localhost:8080/"
        },
        "id": "2JTCHXZzFoVx",
        "outputId": "13e872c4-d33a-4fb9-9704-1bccb517d217"
      },
      "source": [
        "base_conf_matr"
      ],
      "execution_count": 126,
      "outputs": [
        {
          "output_type": "execute_result",
          "data": {
            "text/plain": [
              "array([[385,  29],\n",
              "       [126, 222]])"
            ]
          },
          "metadata": {
            "tags": []
          },
          "execution_count": 126
        }
      ]
    },
    {
      "cell_type": "markdown",
      "metadata": {
        "id": "-g8q1b_AtPXd"
      },
      "source": [
        "### Model4 Bidirectional LSTM(RNN)\n",
        "\n",
        "A standard RNN will process a sequence from left to right, where as a bidirectional RNN will process the sequence from left to right and then again from right to left."
      ]
    },
    {
      "cell_type": "code",
      "metadata": {
        "id": "rOEdg5QSq76o"
      },
      "source": [
        "inputs = Input(shape = (1,), dtype='string')\n",
        "x = text_vect(inputs)\n",
        "x = embedding(x)\n",
        "x = Bidirectional(LSTM(64, return_sequences = True))(x)\n",
        "x = Bidirectional(GRU(64))(x)\n",
        "x = Dense(64)(x)\n",
        "outputs = Dense(1, activation='sigmoid')(x)"
      ],
      "execution_count": 135,
      "outputs": []
    },
    {
      "cell_type": "code",
      "metadata": {
        "id": "XTjDRxdvAT4B"
      },
      "source": [
        "model_4 = Model(inputs, outputs)"
      ],
      "execution_count": 136,
      "outputs": []
    },
    {
      "cell_type": "code",
      "metadata": {
        "id": "KOTKg7URCF-P"
      },
      "source": [
        "model_4.compile(optimizer='adam', metrics='accuracy', loss = 'binary_crossentropy')\n"
      ],
      "execution_count": 137,
      "outputs": []
    },
    {
      "cell_type": "code",
      "metadata": {
        "colab": {
          "base_uri": "https://localhost:8080/"
        },
        "id": "Ss8sguf-GVkX",
        "outputId": "dbdbc62f-e3b3-4da7-eb22-f6073d85ced0"
      },
      "source": [
        "model_4.summary()"
      ],
      "execution_count": 138,
      "outputs": [
        {
          "output_type": "stream",
          "text": [
            "Model: \"model_5\"\n",
            "_________________________________________________________________\n",
            "Layer (type)                 Output Shape              Param #   \n",
            "=================================================================\n",
            "input_7 (InputLayer)         [(None, 1)]               0         \n",
            "_________________________________________________________________\n",
            "text_vectorization_1 (TextVe (None, 30)                0         \n",
            "_________________________________________________________________\n",
            "embedding (Embedding)        (None, 30, 128)           1280000   \n",
            "_________________________________________________________________\n",
            "bidirectional_4 (Bidirection (None, 30, 128)           98816     \n",
            "_________________________________________________________________\n",
            "bidirectional_5 (Bidirection (None, 128)               74496     \n",
            "_________________________________________________________________\n",
            "dense_11 (Dense)             (None, 64)                8256      \n",
            "_________________________________________________________________\n",
            "dense_12 (Dense)             (None, 1)                 65        \n",
            "=================================================================\n",
            "Total params: 1,461,633\n",
            "Trainable params: 1,461,633\n",
            "Non-trainable params: 0\n",
            "_________________________________________________________________\n"
          ],
          "name": "stdout"
        }
      ]
    },
    {
      "cell_type": "code",
      "metadata": {
        "colab": {
          "base_uri": "https://localhost:8080/"
        },
        "id": "BdlGM5GiFZes",
        "outputId": "ddc84e8a-57c6-4c84-f888-065e269421f8"
      },
      "source": [
        "history_4 = model_4.fit(tf.constant(X_train), y_train, epochs = 5,\n",
        "                        validation_data = (tf.constant(X_val), y_val),\n",
        "                        callbacks = create_tf_board_callback(DIR, 'model_4'))"
      ],
      "execution_count": 139,
      "outputs": [
        {
          "output_type": "stream",
          "text": [
            "Saving TensorBoard log files to model_logs/model_4/20210718-101454\n",
            "Epoch 1/5\n",
            "215/215 [==============================] - 12s 34ms/step - loss: 0.1072 - accuracy: 0.9587 - val_loss: 1.2284 - val_accuracy: 0.7638\n",
            "Epoch 2/5\n",
            "215/215 [==============================] - 5s 25ms/step - loss: 0.0641 - accuracy: 0.9701 - val_loss: 1.5306 - val_accuracy: 0.7507\n",
            "Epoch 3/5\n",
            "215/215 [==============================] - 5s 24ms/step - loss: 0.0612 - accuracy: 0.9707 - val_loss: 1.7331 - val_accuracy: 0.7520\n",
            "Epoch 4/5\n",
            "215/215 [==============================] - 5s 25ms/step - loss: 0.0542 - accuracy: 0.9737 - val_loss: 1.5725 - val_accuracy: 0.7572\n",
            "Epoch 5/5\n",
            "215/215 [==============================] - 5s 25ms/step - loss: 0.0541 - accuracy: 0.9734 - val_loss: 1.6923 - val_accuracy: 0.7493\n"
          ],
          "name": "stdout"
        }
      ]
    },
    {
      "cell_type": "code",
      "metadata": {
        "id": "XAl6trHNWPAV"
      },
      "source": [
        "prob_4 = model_4.predict(tf.constant(X_val))"
      ],
      "execution_count": 140,
      "outputs": []
    },
    {
      "cell_type": "code",
      "metadata": {
        "id": "yg7JENfmWWVp"
      },
      "source": [
        "pred_4 = np.round(prob_4).flatten()"
      ],
      "execution_count": 141,
      "outputs": []
    },
    {
      "cell_type": "code",
      "metadata": {
        "id": "GSVgBM9SWaqX"
      },
      "source": [
        "write_result(pred_4, 'Bidirectional_model_4')"
      ],
      "execution_count": 142,
      "outputs": []
    },
    {
      "cell_type": "code",
      "metadata": {
        "colab": {
          "base_uri": "https://localhost:8080/",
          "height": 252
        },
        "id": "15Zk5fZ1WiJ3",
        "outputId": "9748f257-8f45-4382-cc50-2ad9db8dd517"
      },
      "source": [
        "results_df"
      ],
      "execution_count": 143,
      "outputs": [
        {
          "output_type": "execute_result",
          "data": {
            "text/html": [
              "<div>\n",
              "<style scoped>\n",
              "    .dataframe tbody tr th:only-of-type {\n",
              "        vertical-align: middle;\n",
              "    }\n",
              "\n",
              "    .dataframe tbody tr th {\n",
              "        vertical-align: top;\n",
              "    }\n",
              "\n",
              "    .dataframe thead th {\n",
              "        text-align: right;\n",
              "    }\n",
              "</style>\n",
              "<table border=\"1\" class=\"dataframe\">\n",
              "  <thead>\n",
              "    <tr style=\"text-align: right;\">\n",
              "      <th></th>\n",
              "      <th>num_experiment</th>\n",
              "      <th>model_name</th>\n",
              "      <th>accuracy_score</th>\n",
              "      <th>precision</th>\n",
              "      <th>racall</th>\n",
              "      <th>f-1_score</th>\n",
              "    </tr>\n",
              "  </thead>\n",
              "  <tbody>\n",
              "    <tr>\n",
              "      <th>0</th>\n",
              "      <td>0</td>\n",
              "      <td>base_naive_bayes</td>\n",
              "      <td>0.796588</td>\n",
              "      <td>0.884462</td>\n",
              "      <td>0.637931</td>\n",
              "      <td>0.741235</td>\n",
              "    </tr>\n",
              "    <tr>\n",
              "      <th>1</th>\n",
              "      <td>1</td>\n",
              "      <td>base_dense_model_1</td>\n",
              "      <td>0.754593</td>\n",
              "      <td>0.797048</td>\n",
              "      <td>0.620690</td>\n",
              "      <td>0.697900</td>\n",
              "    </tr>\n",
              "    <tr>\n",
              "      <th>2</th>\n",
              "      <td>2</td>\n",
              "      <td>simple_dense_model_1_2</td>\n",
              "      <td>0.769029</td>\n",
              "      <td>0.777419</td>\n",
              "      <td>0.692529</td>\n",
              "      <td>0.732523</td>\n",
              "    </tr>\n",
              "    <tr>\n",
              "      <th>3</th>\n",
              "      <td>3</td>\n",
              "      <td>LSTM_model_2</td>\n",
              "      <td>0.766404</td>\n",
              "      <td>0.775974</td>\n",
              "      <td>0.686782</td>\n",
              "      <td>0.728659</td>\n",
              "    </tr>\n",
              "    <tr>\n",
              "      <th>4</th>\n",
              "      <td>4</td>\n",
              "      <td>GRU_model_3</td>\n",
              "      <td>0.755906</td>\n",
              "      <td>0.791367</td>\n",
              "      <td>0.632184</td>\n",
              "      <td>0.702875</td>\n",
              "    </tr>\n",
              "    <tr>\n",
              "      <th>5</th>\n",
              "      <td>5</td>\n",
              "      <td>Bidirectional_model_4</td>\n",
              "      <td>0.749344</td>\n",
              "      <td>0.785455</td>\n",
              "      <td>0.620690</td>\n",
              "      <td>0.693419</td>\n",
              "    </tr>\n",
              "  </tbody>\n",
              "</table>\n",
              "</div>"
            ],
            "text/plain": [
              "  num_experiment              model_name  ...    racall  f-1_score\n",
              "0              0        base_naive_bayes  ...  0.637931   0.741235\n",
              "1              1      base_dense_model_1  ...  0.620690   0.697900\n",
              "2              2  simple_dense_model_1_2  ...  0.692529   0.732523\n",
              "3              3            LSTM_model_2  ...  0.686782   0.728659\n",
              "4              4             GRU_model_3  ...  0.632184   0.702875\n",
              "5              5   Bidirectional_model_4  ...  0.620690   0.693419\n",
              "\n",
              "[6 rows x 6 columns]"
            ]
          },
          "metadata": {
            "tags": []
          },
          "execution_count": 143
        }
      ]
    },
    {
      "cell_type": "code",
      "metadata": {
        "colab": {
          "base_uri": "https://localhost:8080/"
        },
        "id": "6wFa3VKxHLt4",
        "outputId": "c85f78f5-7bd5-4bbc-bc17-e12c99231b65"
      },
      "source": [
        "model4_conf_matr = confusion_matrix(y_val, pred_4)\n",
        "model4_conf_matr"
      ],
      "execution_count": 144,
      "outputs": [
        {
          "output_type": "execute_result",
          "data": {
            "text/plain": [
              "array([[355,  59],\n",
              "       [132, 216]])"
            ]
          },
          "metadata": {
            "tags": []
          },
          "execution_count": 144
        }
      ]
    },
    {
      "cell_type": "code",
      "metadata": {
        "id": "bGlvVrh2XrDB",
        "colab": {
          "base_uri": "https://localhost:8080/"
        },
        "outputId": "cdecf771-55a1-4c60-a5af-56deff398cb8"
      },
      "source": [
        "base_conf_matr"
      ],
      "execution_count": 145,
      "outputs": [
        {
          "output_type": "execute_result",
          "data": {
            "text/plain": [
              "array([[385,  29],\n",
              "       [126, 222]])"
            ]
          },
          "metadata": {
            "tags": []
          },
          "execution_count": 145
        }
      ]
    },
    {
      "cell_type": "markdown",
      "metadata": {
        "id": "tiZtEl8WLYw3"
      },
      "source": [
        "### Model 5 1D Convolutional Neural Network"
      ]
    },
    {
      "cell_type": "code",
      "metadata": {
        "id": "UmqY-ka0HhdP"
      },
      "source": [
        "K.clear_session()"
      ],
      "execution_count": 147,
      "outputs": []
    },
    {
      "cell_type": "code",
      "metadata": {
        "id": "t7d7hM84LxQb"
      },
      "source": [
        "inputs = Input((1,), dtype = 'string')\n",
        "x = text_vect(inputs)\n",
        "x = embedding(x)\n",
        "x = Conv1D(32, 3, activation='relu')(x)\n",
        "x = GlobalAveragePooling1D()(x)\n",
        "x = Dense(64, activation='relu')(x)\n",
        "outputs = Dense(1, activation= 'sigmoid')(x)"
      ],
      "execution_count": 153,
      "outputs": []
    },
    {
      "cell_type": "code",
      "metadata": {
        "id": "-1FuQF1VMc1M"
      },
      "source": [
        "model_5 = Model(inputs, outputs)"
      ],
      "execution_count": 154,
      "outputs": []
    },
    {
      "cell_type": "code",
      "metadata": {
        "id": "s87cGyk5MjG1"
      },
      "source": [
        "model_5.compile(optimizer='adam', metrics='accuracy', loss = 'binary_crossentropy')"
      ],
      "execution_count": 159,
      "outputs": []
    },
    {
      "cell_type": "code",
      "metadata": {
        "colab": {
          "base_uri": "https://localhost:8080/"
        },
        "id": "CO4QThTeMySI",
        "outputId": "b4a67f1c-fcb0-40fb-8b5c-4123d700ee2f"
      },
      "source": [
        "model_5.summary()"
      ],
      "execution_count": 160,
      "outputs": [
        {
          "output_type": "stream",
          "text": [
            "Model: \"model_1\"\n",
            "_________________________________________________________________\n",
            "Layer (type)                 Output Shape              Param #   \n",
            "=================================================================\n",
            "input_3 (InputLayer)         [(None, 1)]               0         \n",
            "_________________________________________________________________\n",
            "text_vectorization_1 (TextVe (None, 30)                0         \n",
            "_________________________________________________________________\n",
            "embedding (Embedding)        (None, 30, 128)           1280000   \n",
            "_________________________________________________________________\n",
            "conv1d_2 (Conv1D)            (None, 28, 32)            12320     \n",
            "_________________________________________________________________\n",
            "global_average_pooling1d (Gl (None, 32)                0         \n",
            "_________________________________________________________________\n",
            "dense_2 (Dense)              (None, 64)                2112      \n",
            "_________________________________________________________________\n",
            "dense_3 (Dense)              (None, 1)                 65        \n",
            "=================================================================\n",
            "Total params: 1,294,497\n",
            "Trainable params: 1,294,497\n",
            "Non-trainable params: 0\n",
            "_________________________________________________________________\n"
          ],
          "name": "stdout"
        }
      ]
    },
    {
      "cell_type": "code",
      "metadata": {
        "colab": {
          "base_uri": "https://localhost:8080/"
        },
        "id": "TSQS93sfM0k4",
        "outputId": "77c9b916-9a23-4824-d14e-93b7e5ee73c7"
      },
      "source": [
        "history_5 = model_5.fit(tf.constant(X_train), y_train, epochs = 5,\n",
        "                        validation_data = (tf.constant(X_val), y_val),\n",
        "                        callbacks = create_tf_board_callback(DIR, 'model_5'))"
      ],
      "execution_count": 169,
      "outputs": [
        {
          "output_type": "stream",
          "text": [
            "Saving TensorBoard log files to model_logs/model_5/20210718-105113\n",
            "Epoch 1/5\n",
            "215/215 [==============================] - 4s 17ms/step - loss: 0.0385 - accuracy: 0.9800 - val_loss: 3.1092 - val_accuracy: 0.7310\n",
            "Epoch 2/5\n",
            "215/215 [==============================] - 3s 15ms/step - loss: 0.0420 - accuracy: 0.9796 - val_loss: 3.0481 - val_accuracy: 0.7283\n",
            "Epoch 3/5\n",
            "215/215 [==============================] - 3s 15ms/step - loss: 0.0382 - accuracy: 0.9799 - val_loss: 3.2379 - val_accuracy: 0.7297\n",
            "Epoch 4/5\n",
            "215/215 [==============================] - 3s 15ms/step - loss: 0.0377 - accuracy: 0.9801 - val_loss: 3.2980 - val_accuracy: 0.7310\n",
            "Epoch 5/5\n",
            "215/215 [==============================] - 3s 15ms/step - loss: 0.0374 - accuracy: 0.9807 - val_loss: 3.3867 - val_accuracy: 0.7283\n"
          ],
          "name": "stdout"
        }
      ]
    },
    {
      "cell_type": "code",
      "metadata": {
        "id": "fN-xKc8ONXvO"
      },
      "source": [
        ""
      ],
      "execution_count": null,
      "outputs": []
    },
    {
      "cell_type": "code",
      "metadata": {
        "id": "iiEgTTwPNjje"
      },
      "source": [
        "prob_5 = model_5.predict(tf.constant(X_val))"
      ],
      "execution_count": 162,
      "outputs": []
    },
    {
      "cell_type": "code",
      "metadata": {
        "id": "oeKQEvhfNjjf"
      },
      "source": [
        "pred_5 = np.round(prob_5).flatten()"
      ],
      "execution_count": 163,
      "outputs": []
    },
    {
      "cell_type": "code",
      "metadata": {
        "id": "y0jcRpDUNjjg"
      },
      "source": [
        "write_result(pred_5, 'Conv1D_model_5')"
      ],
      "execution_count": 164,
      "outputs": []
    },
    {
      "cell_type": "code",
      "metadata": {
        "colab": {
          "base_uri": "https://localhost:8080/",
          "height": 282
        },
        "id": "VJLP1ZvMNjjg",
        "outputId": "06d62bdf-8fec-4155-83f8-fa2775b457ab"
      },
      "source": [
        "results_df"
      ],
      "execution_count": 165,
      "outputs": [
        {
          "output_type": "execute_result",
          "data": {
            "text/html": [
              "<div>\n",
              "<style scoped>\n",
              "    .dataframe tbody tr th:only-of-type {\n",
              "        vertical-align: middle;\n",
              "    }\n",
              "\n",
              "    .dataframe tbody tr th {\n",
              "        vertical-align: top;\n",
              "    }\n",
              "\n",
              "    .dataframe thead th {\n",
              "        text-align: right;\n",
              "    }\n",
              "</style>\n",
              "<table border=\"1\" class=\"dataframe\">\n",
              "  <thead>\n",
              "    <tr style=\"text-align: right;\">\n",
              "      <th></th>\n",
              "      <th>num_experiment</th>\n",
              "      <th>model_name</th>\n",
              "      <th>accuracy_score</th>\n",
              "      <th>precision</th>\n",
              "      <th>racall</th>\n",
              "      <th>f-1_score</th>\n",
              "    </tr>\n",
              "  </thead>\n",
              "  <tbody>\n",
              "    <tr>\n",
              "      <th>0</th>\n",
              "      <td>0</td>\n",
              "      <td>base_naive_bayes</td>\n",
              "      <td>0.796588</td>\n",
              "      <td>0.884462</td>\n",
              "      <td>0.637931</td>\n",
              "      <td>0.741235</td>\n",
              "    </tr>\n",
              "    <tr>\n",
              "      <th>1</th>\n",
              "      <td>1</td>\n",
              "      <td>base_dense_model_1</td>\n",
              "      <td>0.754593</td>\n",
              "      <td>0.797048</td>\n",
              "      <td>0.620690</td>\n",
              "      <td>0.697900</td>\n",
              "    </tr>\n",
              "    <tr>\n",
              "      <th>2</th>\n",
              "      <td>2</td>\n",
              "      <td>simple_dense_model_1_2</td>\n",
              "      <td>0.769029</td>\n",
              "      <td>0.777419</td>\n",
              "      <td>0.692529</td>\n",
              "      <td>0.732523</td>\n",
              "    </tr>\n",
              "    <tr>\n",
              "      <th>3</th>\n",
              "      <td>3</td>\n",
              "      <td>LSTM_model_2</td>\n",
              "      <td>0.766404</td>\n",
              "      <td>0.775974</td>\n",
              "      <td>0.686782</td>\n",
              "      <td>0.728659</td>\n",
              "    </tr>\n",
              "    <tr>\n",
              "      <th>4</th>\n",
              "      <td>4</td>\n",
              "      <td>GRU_model_3</td>\n",
              "      <td>0.755906</td>\n",
              "      <td>0.791367</td>\n",
              "      <td>0.632184</td>\n",
              "      <td>0.702875</td>\n",
              "    </tr>\n",
              "    <tr>\n",
              "      <th>5</th>\n",
              "      <td>5</td>\n",
              "      <td>Bidirectional_model_4</td>\n",
              "      <td>0.749344</td>\n",
              "      <td>0.785455</td>\n",
              "      <td>0.620690</td>\n",
              "      <td>0.693419</td>\n",
              "    </tr>\n",
              "    <tr>\n",
              "      <th>6</th>\n",
              "      <td>6</td>\n",
              "      <td>Conv1D_model_5</td>\n",
              "      <td>0.744094</td>\n",
              "      <td>0.744409</td>\n",
              "      <td>0.669540</td>\n",
              "      <td>0.704992</td>\n",
              "    </tr>\n",
              "  </tbody>\n",
              "</table>\n",
              "</div>"
            ],
            "text/plain": [
              "  num_experiment              model_name  ...    racall  f-1_score\n",
              "0              0        base_naive_bayes  ...  0.637931   0.741235\n",
              "1              1      base_dense_model_1  ...  0.620690   0.697900\n",
              "2              2  simple_dense_model_1_2  ...  0.692529   0.732523\n",
              "3              3            LSTM_model_2  ...  0.686782   0.728659\n",
              "4              4             GRU_model_3  ...  0.632184   0.702875\n",
              "5              5   Bidirectional_model_4  ...  0.620690   0.693419\n",
              "6              6          Conv1D_model_5  ...  0.669540   0.704992\n",
              "\n",
              "[7 rows x 6 columns]"
            ]
          },
          "metadata": {
            "tags": []
          },
          "execution_count": 165
        }
      ]
    },
    {
      "cell_type": "code",
      "metadata": {
        "colab": {
          "base_uri": "https://localhost:8080/"
        },
        "id": "Ut95PxJqNjji",
        "outputId": "4b357dc5-6370-4347-823d-08c1bfb6b39c"
      },
      "source": [
        "model5_conf_matr = confusion_matrix(y_val, pred_5)\n",
        "model5_conf_matr"
      ],
      "execution_count": 166,
      "outputs": [
        {
          "output_type": "execute_result",
          "data": {
            "text/plain": [
              "array([[334,  80],\n",
              "       [115, 233]])"
            ]
          },
          "metadata": {
            "tags": []
          },
          "execution_count": 166
        }
      ]
    },
    {
      "cell_type": "code",
      "metadata": {
        "colab": {
          "base_uri": "https://localhost:8080/"
        },
        "id": "ShV9nWMDNjjj",
        "outputId": "84834771-6586-4797-ed61-1d4c0cb971d2"
      },
      "source": [
        "base_conf_matr"
      ],
      "execution_count": 167,
      "outputs": [
        {
          "output_type": "execute_result",
          "data": {
            "text/plain": [
              "array([[385,  29],\n",
              "       [126, 222]])"
            ]
          },
          "metadata": {
            "tags": []
          },
          "execution_count": 167
        }
      ]
    },
    {
      "cell_type": "code",
      "metadata": {
        "id": "q2kDTW4oNvcf"
      },
      "source": [
        ""
      ],
      "execution_count": null,
      "outputs": []
    }
  ]
}