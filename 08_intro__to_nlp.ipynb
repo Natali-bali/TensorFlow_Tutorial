{
  "nbformat": 4,
  "nbformat_minor": 0,
  "metadata": {
    "colab": {
      "name": "08_intro _to_nlp.ipynb",
      "provenance": [],
      "collapsed_sections": [],
      "mount_file_id": "1QccHF_n9pYIgmNhR1YAHaJSa-Vjs5yvV",
      "authorship_tag": "ABX9TyOB4iGjgpcpT0jjWn28KlpI",
      "include_colab_link": true
    },
    "kernelspec": {
      "name": "python3",
      "display_name": "Python 3"
    },
    "language_info": {
      "name": "python"
    },
    "accelerator": "GPU"
  },
  "cells": [
    {
      "cell_type": "markdown",
      "metadata": {
        "id": "view-in-github",
        "colab_type": "text"
      },
      "source": [
        "<a href=\"https://colab.research.google.com/github/Natali-bali/TensorFlow_Tutorial/blob/master/08_intro__to_nlp.ipynb\" target=\"_parent\"><img src=\"https://colab.research.google.com/assets/colab-badge.svg\" alt=\"Open In Colab\"/></a>"
      ]
    },
    {
      "cell_type": "markdown",
      "metadata": {
        "id": "ZjI6PLvctrHS"
      },
      "source": [
        "# Introduction to NLP fundamentals in TensorFlow\n",
        "\n",
        "- Downloading a text dataset\n",
        "- Visualizing text data\n",
        "- Converting text into numbers using tokenization\n",
        "- Turning our tokenized text into an embedding\n",
        "- Modelling a text dataset\n",
        "- Starting with a baseline (TF-IDF)\n",
        "- Building several deep learning text models\n",
        "- Dense, LSTM, GRU, Conv1D, Transfer learning\n",
        "- Comparing the performance of each our models\n",
        "- Combining our models into an ensemble\n",
        "- Saving and loading a trained model\n",
        "- Find the most wrong predictions"
      ]
    },
    {
      "cell_type": "markdown",
      "metadata": {
        "id": "4DRqpXg6ubbH"
      },
      "source": [
        "### Download helper functions and libararies"
      ]
    },
    {
      "cell_type": "code",
      "metadata": {
        "colab": {
          "base_uri": "https://localhost:8080/"
        },
        "id": "oDPMAxEXtdYU",
        "outputId": "c2541a5a-7321-48ea-fea8-71aa91b00cf7"
      },
      "source": [
        "!wget 'https://raw.githubusercontent.com/Natali-bali/TensorFlow_Tutorial/master/helper_functions.py'"
      ],
      "execution_count": 1,
      "outputs": [
        {
          "output_type": "stream",
          "text": [
            "--2021-07-18 14:43:45--  https://raw.githubusercontent.com/Natali-bali/TensorFlow_Tutorial/master/helper_functions.py\n",
            "Resolving raw.githubusercontent.com (raw.githubusercontent.com)... 185.199.110.133, 185.199.108.133, 185.199.111.133, ...\n",
            "Connecting to raw.githubusercontent.com (raw.githubusercontent.com)|185.199.110.133|:443... connected.\n",
            "HTTP request sent, awaiting response... 200 OK\n",
            "Length: 11016 (11K) [text/plain]\n",
            "Saving to: ‘helper_functions.py’\n",
            "\n",
            "\rhelper_functions.py   0%[                    ]       0  --.-KB/s               \rhelper_functions.py 100%[===================>]  10.76K  --.-KB/s    in 0s      \n",
            "\n",
            "2021-07-18 14:43:45 (113 MB/s) - ‘helper_functions.py’ saved [11016/11016]\n",
            "\n"
          ],
          "name": "stdout"
        }
      ]
    },
    {
      "cell_type": "code",
      "metadata": {
        "id": "JAliFO19uzaZ"
      },
      "source": [
        "import numpy as np\n",
        "import tensorflow as tf\n",
        "import matplotlib.pyplot as plt\n",
        "import pandas as pd\n",
        "import re\n",
        "import random\n",
        "import seaborn as sns\n",
        "from sklearn.model_selection import train_test_split\n",
        "from tensorflow.keras import backend as K\n",
        "from tensorflow.keras import Model, Sequential\n",
        "from tensorflow.keras.layers import Dense, Input, Activation, GlobalAveragePooling1D, Flatten, LSTM, GRU, Bidirectional, Conv1D\n",
        "from helper_functions import plot_confusion_matrix, plot_loss_curves, classes_names, plot_pictures, create_tf_board_callback, unzip_file, compare_historys, walk_through_dir"
      ],
      "execution_count": 2,
      "outputs": []
    },
    {
      "cell_type": "markdown",
      "metadata": {
        "id": "LL3kCwMtwLnt"
      },
      "source": [
        "### Download dataset from Kaggle\n",
        "\n",
        "We'll be using the Real or Not? datset from Kaggle which contains text-based Tweets about natural disasters.\n",
        "\n",
        "The Real Tweets are actually about diasters, for example:\n",
        "'Jetstar and Virgin forced to cancel Bali flights again because of ash from Mount Raung volcano'\n",
        "\n",
        "The Not Real Tweets are Tweets not about diasters (they can be on anything), for example:\n",
        "'Education is the most powerful weapon which you can use to change the world.' Nelson #Mandela #quote\n"
      ]
    },
    {
      "cell_type": "code",
      "metadata": {
        "colab": {
          "base_uri": "https://localhost:8080/"
        },
        "id": "s-YhC_2NvwFG",
        "outputId": "e67d5b48-b5f5-47b5-ee31-e1ffe805607f"
      },
      "source": [
        "!wget \"https://storage.googleapis.com/ztm_tf_course/nlp_getting_started.zip\"\n",
        "\n",
        "unzip_file(\"nlp_getting_started.zip\")"
      ],
      "execution_count": 3,
      "outputs": [
        {
          "output_type": "stream",
          "text": [
            "--2021-07-18 14:43:53--  https://storage.googleapis.com/ztm_tf_course/nlp_getting_started.zip\n",
            "Resolving storage.googleapis.com (storage.googleapis.com)... 74.125.137.128, 142.250.101.128, 142.250.141.128, ...\n",
            "Connecting to storage.googleapis.com (storage.googleapis.com)|74.125.137.128|:443... connected.\n",
            "HTTP request sent, awaiting response... 200 OK\n",
            "Length: 607343 (593K) [application/zip]\n",
            "Saving to: ‘nlp_getting_started.zip’\n",
            "\n",
            "\rnlp_getting_started   0%[                    ]       0  --.-KB/s               \rnlp_getting_started 100%[===================>] 593.11K  --.-KB/s    in 0.004s  \n",
            "\n",
            "2021-07-18 14:43:53 (150 MB/s) - ‘nlp_getting_started.zip’ saved [607343/607343]\n",
            "\n"
          ],
          "name": "stdout"
        }
      ]
    },
    {
      "cell_type": "code",
      "metadata": {
        "id": "Gz3glX6CwSDj"
      },
      "source": [
        "df_test = pd.read_csv('/content/test.csv')\n",
        "df_train = pd.read_csv('/content/train.csv')"
      ],
      "execution_count": 4,
      "outputs": []
    },
    {
      "cell_type": "code",
      "metadata": {
        "colab": {
          "base_uri": "https://localhost:8080/",
          "height": 221
        },
        "id": "OqA7VzWRxB98",
        "outputId": "6eb63c65-ed27-4d37-dbf5-037513b92a87"
      },
      "source": [
        "df_test.head()"
      ],
      "execution_count": 5,
      "outputs": [
        {
          "output_type": "execute_result",
          "data": {
            "text/html": [
              "<div>\n",
              "<style scoped>\n",
              "    .dataframe tbody tr th:only-of-type {\n",
              "        vertical-align: middle;\n",
              "    }\n",
              "\n",
              "    .dataframe tbody tr th {\n",
              "        vertical-align: top;\n",
              "    }\n",
              "\n",
              "    .dataframe thead th {\n",
              "        text-align: right;\n",
              "    }\n",
              "</style>\n",
              "<table border=\"1\" class=\"dataframe\">\n",
              "  <thead>\n",
              "    <tr style=\"text-align: right;\">\n",
              "      <th></th>\n",
              "      <th>id</th>\n",
              "      <th>keyword</th>\n",
              "      <th>location</th>\n",
              "      <th>text</th>\n",
              "    </tr>\n",
              "  </thead>\n",
              "  <tbody>\n",
              "    <tr>\n",
              "      <th>0</th>\n",
              "      <td>0</td>\n",
              "      <td>NaN</td>\n",
              "      <td>NaN</td>\n",
              "      <td>Just happened a terrible car crash</td>\n",
              "    </tr>\n",
              "    <tr>\n",
              "      <th>1</th>\n",
              "      <td>2</td>\n",
              "      <td>NaN</td>\n",
              "      <td>NaN</td>\n",
              "      <td>Heard about #earthquake is different cities, s...</td>\n",
              "    </tr>\n",
              "    <tr>\n",
              "      <th>2</th>\n",
              "      <td>3</td>\n",
              "      <td>NaN</td>\n",
              "      <td>NaN</td>\n",
              "      <td>there is a forest fire at spot pond, geese are...</td>\n",
              "    </tr>\n",
              "    <tr>\n",
              "      <th>3</th>\n",
              "      <td>9</td>\n",
              "      <td>NaN</td>\n",
              "      <td>NaN</td>\n",
              "      <td>Apocalypse lighting. #Spokane #wildfires</td>\n",
              "    </tr>\n",
              "    <tr>\n",
              "      <th>4</th>\n",
              "      <td>11</td>\n",
              "      <td>NaN</td>\n",
              "      <td>NaN</td>\n",
              "      <td>Typhoon Soudelor kills 28 in China and Taiwan</td>\n",
              "    </tr>\n",
              "  </tbody>\n",
              "</table>\n",
              "</div>"
            ],
            "text/plain": [
              "   id keyword location                                               text\n",
              "0   0     NaN      NaN                 Just happened a terrible car crash\n",
              "1   2     NaN      NaN  Heard about #earthquake is different cities, s...\n",
              "2   3     NaN      NaN  there is a forest fire at spot pond, geese are...\n",
              "3   9     NaN      NaN           Apocalypse lighting. #Spokane #wildfires\n",
              "4  11     NaN      NaN      Typhoon Soudelor kills 28 in China and Taiwan"
            ]
          },
          "metadata": {
            "tags": []
          },
          "execution_count": 5
        }
      ]
    },
    {
      "cell_type": "code",
      "metadata": {
        "colab": {
          "base_uri": "https://localhost:8080/",
          "height": 984
        },
        "id": "lrp-YytWFSyt",
        "outputId": "99531061-3567-435e-80bc-20db0113a0d7"
      },
      "source": [
        "df_train.head(30)"
      ],
      "execution_count": 6,
      "outputs": [
        {
          "output_type": "execute_result",
          "data": {
            "text/html": [
              "<div>\n",
              "<style scoped>\n",
              "    .dataframe tbody tr th:only-of-type {\n",
              "        vertical-align: middle;\n",
              "    }\n",
              "\n",
              "    .dataframe tbody tr th {\n",
              "        vertical-align: top;\n",
              "    }\n",
              "\n",
              "    .dataframe thead th {\n",
              "        text-align: right;\n",
              "    }\n",
              "</style>\n",
              "<table border=\"1\" class=\"dataframe\">\n",
              "  <thead>\n",
              "    <tr style=\"text-align: right;\">\n",
              "      <th></th>\n",
              "      <th>id</th>\n",
              "      <th>keyword</th>\n",
              "      <th>location</th>\n",
              "      <th>text</th>\n",
              "      <th>target</th>\n",
              "    </tr>\n",
              "  </thead>\n",
              "  <tbody>\n",
              "    <tr>\n",
              "      <th>0</th>\n",
              "      <td>1</td>\n",
              "      <td>NaN</td>\n",
              "      <td>NaN</td>\n",
              "      <td>Our Deeds are the Reason of this #earthquake M...</td>\n",
              "      <td>1</td>\n",
              "    </tr>\n",
              "    <tr>\n",
              "      <th>1</th>\n",
              "      <td>4</td>\n",
              "      <td>NaN</td>\n",
              "      <td>NaN</td>\n",
              "      <td>Forest fire near La Ronge Sask. Canada</td>\n",
              "      <td>1</td>\n",
              "    </tr>\n",
              "    <tr>\n",
              "      <th>2</th>\n",
              "      <td>5</td>\n",
              "      <td>NaN</td>\n",
              "      <td>NaN</td>\n",
              "      <td>All residents asked to 'shelter in place' are ...</td>\n",
              "      <td>1</td>\n",
              "    </tr>\n",
              "    <tr>\n",
              "      <th>3</th>\n",
              "      <td>6</td>\n",
              "      <td>NaN</td>\n",
              "      <td>NaN</td>\n",
              "      <td>13,000 people receive #wildfires evacuation or...</td>\n",
              "      <td>1</td>\n",
              "    </tr>\n",
              "    <tr>\n",
              "      <th>4</th>\n",
              "      <td>7</td>\n",
              "      <td>NaN</td>\n",
              "      <td>NaN</td>\n",
              "      <td>Just got sent this photo from Ruby #Alaska as ...</td>\n",
              "      <td>1</td>\n",
              "    </tr>\n",
              "    <tr>\n",
              "      <th>5</th>\n",
              "      <td>8</td>\n",
              "      <td>NaN</td>\n",
              "      <td>NaN</td>\n",
              "      <td>#RockyFire Update =&gt; California Hwy. 20 closed...</td>\n",
              "      <td>1</td>\n",
              "    </tr>\n",
              "    <tr>\n",
              "      <th>6</th>\n",
              "      <td>10</td>\n",
              "      <td>NaN</td>\n",
              "      <td>NaN</td>\n",
              "      <td>#flood #disaster Heavy rain causes flash flood...</td>\n",
              "      <td>1</td>\n",
              "    </tr>\n",
              "    <tr>\n",
              "      <th>7</th>\n",
              "      <td>13</td>\n",
              "      <td>NaN</td>\n",
              "      <td>NaN</td>\n",
              "      <td>I'm on top of the hill and I can see a fire in...</td>\n",
              "      <td>1</td>\n",
              "    </tr>\n",
              "    <tr>\n",
              "      <th>8</th>\n",
              "      <td>14</td>\n",
              "      <td>NaN</td>\n",
              "      <td>NaN</td>\n",
              "      <td>There's an emergency evacuation happening now ...</td>\n",
              "      <td>1</td>\n",
              "    </tr>\n",
              "    <tr>\n",
              "      <th>9</th>\n",
              "      <td>15</td>\n",
              "      <td>NaN</td>\n",
              "      <td>NaN</td>\n",
              "      <td>I'm afraid that the tornado is coming to our a...</td>\n",
              "      <td>1</td>\n",
              "    </tr>\n",
              "    <tr>\n",
              "      <th>10</th>\n",
              "      <td>16</td>\n",
              "      <td>NaN</td>\n",
              "      <td>NaN</td>\n",
              "      <td>Three people died from the heat wave so far</td>\n",
              "      <td>1</td>\n",
              "    </tr>\n",
              "    <tr>\n",
              "      <th>11</th>\n",
              "      <td>17</td>\n",
              "      <td>NaN</td>\n",
              "      <td>NaN</td>\n",
              "      <td>Haha South Tampa is getting flooded hah- WAIT ...</td>\n",
              "      <td>1</td>\n",
              "    </tr>\n",
              "    <tr>\n",
              "      <th>12</th>\n",
              "      <td>18</td>\n",
              "      <td>NaN</td>\n",
              "      <td>NaN</td>\n",
              "      <td>#raining #flooding #Florida #TampaBay #Tampa 1...</td>\n",
              "      <td>1</td>\n",
              "    </tr>\n",
              "    <tr>\n",
              "      <th>13</th>\n",
              "      <td>19</td>\n",
              "      <td>NaN</td>\n",
              "      <td>NaN</td>\n",
              "      <td>#Flood in Bago Myanmar #We arrived Bago</td>\n",
              "      <td>1</td>\n",
              "    </tr>\n",
              "    <tr>\n",
              "      <th>14</th>\n",
              "      <td>20</td>\n",
              "      <td>NaN</td>\n",
              "      <td>NaN</td>\n",
              "      <td>Damage to school bus on 80 in multi car crash ...</td>\n",
              "      <td>1</td>\n",
              "    </tr>\n",
              "    <tr>\n",
              "      <th>15</th>\n",
              "      <td>23</td>\n",
              "      <td>NaN</td>\n",
              "      <td>NaN</td>\n",
              "      <td>What's up man?</td>\n",
              "      <td>0</td>\n",
              "    </tr>\n",
              "    <tr>\n",
              "      <th>16</th>\n",
              "      <td>24</td>\n",
              "      <td>NaN</td>\n",
              "      <td>NaN</td>\n",
              "      <td>I love fruits</td>\n",
              "      <td>0</td>\n",
              "    </tr>\n",
              "    <tr>\n",
              "      <th>17</th>\n",
              "      <td>25</td>\n",
              "      <td>NaN</td>\n",
              "      <td>NaN</td>\n",
              "      <td>Summer is lovely</td>\n",
              "      <td>0</td>\n",
              "    </tr>\n",
              "    <tr>\n",
              "      <th>18</th>\n",
              "      <td>26</td>\n",
              "      <td>NaN</td>\n",
              "      <td>NaN</td>\n",
              "      <td>My car is so fast</td>\n",
              "      <td>0</td>\n",
              "    </tr>\n",
              "    <tr>\n",
              "      <th>19</th>\n",
              "      <td>28</td>\n",
              "      <td>NaN</td>\n",
              "      <td>NaN</td>\n",
              "      <td>What a goooooooaaaaaal!!!!!!</td>\n",
              "      <td>0</td>\n",
              "    </tr>\n",
              "    <tr>\n",
              "      <th>20</th>\n",
              "      <td>31</td>\n",
              "      <td>NaN</td>\n",
              "      <td>NaN</td>\n",
              "      <td>this is ridiculous....</td>\n",
              "      <td>0</td>\n",
              "    </tr>\n",
              "    <tr>\n",
              "      <th>21</th>\n",
              "      <td>32</td>\n",
              "      <td>NaN</td>\n",
              "      <td>NaN</td>\n",
              "      <td>London is cool ;)</td>\n",
              "      <td>0</td>\n",
              "    </tr>\n",
              "    <tr>\n",
              "      <th>22</th>\n",
              "      <td>33</td>\n",
              "      <td>NaN</td>\n",
              "      <td>NaN</td>\n",
              "      <td>Love skiing</td>\n",
              "      <td>0</td>\n",
              "    </tr>\n",
              "    <tr>\n",
              "      <th>23</th>\n",
              "      <td>34</td>\n",
              "      <td>NaN</td>\n",
              "      <td>NaN</td>\n",
              "      <td>What a wonderful day!</td>\n",
              "      <td>0</td>\n",
              "    </tr>\n",
              "    <tr>\n",
              "      <th>24</th>\n",
              "      <td>36</td>\n",
              "      <td>NaN</td>\n",
              "      <td>NaN</td>\n",
              "      <td>LOOOOOOL</td>\n",
              "      <td>0</td>\n",
              "    </tr>\n",
              "    <tr>\n",
              "      <th>25</th>\n",
              "      <td>37</td>\n",
              "      <td>NaN</td>\n",
              "      <td>NaN</td>\n",
              "      <td>No way...I can't eat that shit</td>\n",
              "      <td>0</td>\n",
              "    </tr>\n",
              "    <tr>\n",
              "      <th>26</th>\n",
              "      <td>38</td>\n",
              "      <td>NaN</td>\n",
              "      <td>NaN</td>\n",
              "      <td>Was in NYC last week!</td>\n",
              "      <td>0</td>\n",
              "    </tr>\n",
              "    <tr>\n",
              "      <th>27</th>\n",
              "      <td>39</td>\n",
              "      <td>NaN</td>\n",
              "      <td>NaN</td>\n",
              "      <td>Love my girlfriend</td>\n",
              "      <td>0</td>\n",
              "    </tr>\n",
              "    <tr>\n",
              "      <th>28</th>\n",
              "      <td>40</td>\n",
              "      <td>NaN</td>\n",
              "      <td>NaN</td>\n",
              "      <td>Cooool :)</td>\n",
              "      <td>0</td>\n",
              "    </tr>\n",
              "    <tr>\n",
              "      <th>29</th>\n",
              "      <td>41</td>\n",
              "      <td>NaN</td>\n",
              "      <td>NaN</td>\n",
              "      <td>Do you like pasta?</td>\n",
              "      <td>0</td>\n",
              "    </tr>\n",
              "  </tbody>\n",
              "</table>\n",
              "</div>"
            ],
            "text/plain": [
              "    id keyword  ...                                               text target\n",
              "0    1     NaN  ...  Our Deeds are the Reason of this #earthquake M...      1\n",
              "1    4     NaN  ...             Forest fire near La Ronge Sask. Canada      1\n",
              "2    5     NaN  ...  All residents asked to 'shelter in place' are ...      1\n",
              "3    6     NaN  ...  13,000 people receive #wildfires evacuation or...      1\n",
              "4    7     NaN  ...  Just got sent this photo from Ruby #Alaska as ...      1\n",
              "5    8     NaN  ...  #RockyFire Update => California Hwy. 20 closed...      1\n",
              "6   10     NaN  ...  #flood #disaster Heavy rain causes flash flood...      1\n",
              "7   13     NaN  ...  I'm on top of the hill and I can see a fire in...      1\n",
              "8   14     NaN  ...  There's an emergency evacuation happening now ...      1\n",
              "9   15     NaN  ...  I'm afraid that the tornado is coming to our a...      1\n",
              "10  16     NaN  ...        Three people died from the heat wave so far      1\n",
              "11  17     NaN  ...  Haha South Tampa is getting flooded hah- WAIT ...      1\n",
              "12  18     NaN  ...  #raining #flooding #Florida #TampaBay #Tampa 1...      1\n",
              "13  19     NaN  ...            #Flood in Bago Myanmar #We arrived Bago      1\n",
              "14  20     NaN  ...  Damage to school bus on 80 in multi car crash ...      1\n",
              "15  23     NaN  ...                                     What's up man?      0\n",
              "16  24     NaN  ...                                      I love fruits      0\n",
              "17  25     NaN  ...                                   Summer is lovely      0\n",
              "18  26     NaN  ...                                  My car is so fast      0\n",
              "19  28     NaN  ...                       What a goooooooaaaaaal!!!!!!      0\n",
              "20  31     NaN  ...                             this is ridiculous....      0\n",
              "21  32     NaN  ...                                  London is cool ;)      0\n",
              "22  33     NaN  ...                                        Love skiing      0\n",
              "23  34     NaN  ...                              What a wonderful day!      0\n",
              "24  36     NaN  ...                                           LOOOOOOL      0\n",
              "25  37     NaN  ...                     No way...I can't eat that shit      0\n",
              "26  38     NaN  ...                              Was in NYC last week!      0\n",
              "27  39     NaN  ...                                 Love my girlfriend      0\n",
              "28  40     NaN  ...                                          Cooool :)      0\n",
              "29  41     NaN  ...                                 Do you like pasta?      0\n",
              "\n",
              "[30 rows x 5 columns]"
            ]
          },
          "metadata": {
            "tags": []
          },
          "execution_count": 6
        }
      ]
    },
    {
      "cell_type": "code",
      "metadata": {
        "colab": {
          "base_uri": "https://localhost:8080/"
        },
        "id": "FDw_b3Z3xD9r",
        "outputId": "542854c1-fe0a-4209-d42f-81ee589d6313"
      },
      "source": [
        "len(df_test), len(df_train)"
      ],
      "execution_count": 7,
      "outputs": [
        {
          "output_type": "execute_result",
          "data": {
            "text/plain": [
              "(3263, 7613)"
            ]
          },
          "metadata": {
            "tags": []
          },
          "execution_count": 7
        }
      ]
    },
    {
      "cell_type": "code",
      "metadata": {
        "colab": {
          "base_uri": "https://localhost:8080/"
        },
        "id": "2VBaRO9O8R_-",
        "outputId": "494eeb06-f8da-41e8-f160-3707bb81cbc1"
      },
      "source": [
        "df_train.info()"
      ],
      "execution_count": 8,
      "outputs": [
        {
          "output_type": "stream",
          "text": [
            "<class 'pandas.core.frame.DataFrame'>\n",
            "RangeIndex: 7613 entries, 0 to 7612\n",
            "Data columns (total 5 columns):\n",
            " #   Column    Non-Null Count  Dtype \n",
            "---  ------    --------------  ----- \n",
            " 0   id        7613 non-null   int64 \n",
            " 1   keyword   7552 non-null   object\n",
            " 2   location  5080 non-null   object\n",
            " 3   text      7613 non-null   object\n",
            " 4   target    7613 non-null   int64 \n",
            "dtypes: int64(2), object(3)\n",
            "memory usage: 297.5+ KB\n"
          ],
          "name": "stdout"
        }
      ]
    },
    {
      "cell_type": "code",
      "metadata": {
        "colab": {
          "base_uri": "https://localhost:8080/"
        },
        "id": "WbvsrHUU8UWP",
        "outputId": "0568cc06-4c78-4e9d-d693-410788b7a74f"
      },
      "source": [
        "df_test.keyword.unique(), df_train.keyword.unique()"
      ],
      "execution_count": 9,
      "outputs": [
        {
          "output_type": "execute_result",
          "data": {
            "text/plain": [
              "(array([nan, 'ablaze', 'accident', 'aftershock', 'airplane%20accident',\n",
              "        'ambulance', 'annihilated', 'annihilation', 'apocalypse',\n",
              "        'armageddon', 'army', 'arson', 'arsonist', 'attack', 'attacked',\n",
              "        'avalanche', 'battle', 'bioterror', 'bioterrorism', 'blaze',\n",
              "        'blazing', 'bleeding', 'blew%20up', 'blight', 'blizzard', 'blood',\n",
              "        'bloody', 'blown%20up', 'body%20bag', 'body%20bagging',\n",
              "        'body%20bags', 'bomb', 'bombed', 'bombing', 'bridge%20collapse',\n",
              "        'buildings%20burning', 'buildings%20on%20fire', 'burned',\n",
              "        'burning', 'burning%20buildings', 'bush%20fires', 'casualties',\n",
              "        'casualty', 'catastrophe', 'catastrophic', 'chemical%20emergency',\n",
              "        'cliff%20fall', 'collapse', 'collapsed', 'collide', 'collided',\n",
              "        'collision', 'crash', 'crashed', 'crush', 'crushed', 'curfew',\n",
              "        'cyclone', 'damage', 'danger', 'dead', 'death', 'deaths', 'debris',\n",
              "        'deluge', 'deluged', 'demolish', 'demolished', 'demolition',\n",
              "        'derail', 'derailed', 'derailment', 'desolate', 'desolation',\n",
              "        'destroy', 'destroyed', 'destruction', 'detonate', 'detonation',\n",
              "        'devastated', 'devastation', 'disaster', 'displaced', 'drought',\n",
              "        'drown', 'drowned', 'drowning', 'dust%20storm', 'earthquake',\n",
              "        'electrocute', 'electrocuted', 'emergency', 'emergency%20plan',\n",
              "        'emergency%20services', 'engulfed', 'epicentre', 'evacuate',\n",
              "        'evacuated', 'evacuation', 'explode', 'exploded', 'explosion',\n",
              "        'eyewitness', 'famine', 'fatal', 'fatalities', 'fatality', 'fear',\n",
              "        'fire', 'fire%20truck', 'first%20responders', 'flames',\n",
              "        'flattened', 'flood', 'flooding', 'floods', 'forest%20fire',\n",
              "        'forest%20fires', 'hail', 'hailstorm', 'harm', 'hazard',\n",
              "        'hazardous', 'heat%20wave', 'hellfire', 'hijack', 'hijacker',\n",
              "        'hijacking', 'hostage', 'hostages', 'hurricane', 'injured',\n",
              "        'injuries', 'injury', 'inundated', 'inundation', 'landslide',\n",
              "        'lava', 'lightning', 'loud%20bang', 'mass%20murder',\n",
              "        'mass%20murderer', 'massacre', 'mayhem', 'meltdown', 'military',\n",
              "        'mudslide', 'natural%20disaster', 'nuclear%20disaster',\n",
              "        'nuclear%20reactor', 'obliterate', 'obliterated', 'obliteration',\n",
              "        'oil%20spill', 'outbreak', 'pandemonium', 'panic', 'panicking',\n",
              "        'police', 'quarantine', 'quarantined', 'radiation%20emergency',\n",
              "        'rainstorm', 'razed', 'refugees', 'rescue', 'rescued', 'rescuers',\n",
              "        'riot', 'rioting', 'rubble', 'ruin', 'sandstorm', 'screamed',\n",
              "        'screaming', 'screams', 'seismic', 'sinkhole', 'sinking', 'siren',\n",
              "        'sirens', 'smoke', 'snowstorm', 'storm', 'stretcher',\n",
              "        'structural%20failure', 'suicide%20bomb', 'suicide%20bomber',\n",
              "        'suicide%20bombing', 'sunk', 'survive', 'survived', 'survivors',\n",
              "        'terrorism', 'terrorist', 'threat', 'thunder', 'thunderstorm',\n",
              "        'tornado', 'tragedy', 'trapped', 'trauma', 'traumatised',\n",
              "        'trouble', 'tsunami', 'twister', 'typhoon', 'upheaval',\n",
              "        'violent%20storm', 'volcano', 'war%20zone', 'weapon', 'weapons',\n",
              "        'whirlwind', 'wild%20fires', 'wildfire', 'windstorm', 'wounded',\n",
              "        'wounds', 'wreck', 'wreckage', 'wrecked'], dtype=object),\n",
              " array([nan, 'ablaze', 'accident', 'aftershock', 'airplane%20accident',\n",
              "        'ambulance', 'annihilated', 'annihilation', 'apocalypse',\n",
              "        'armageddon', 'army', 'arson', 'arsonist', 'attack', 'attacked',\n",
              "        'avalanche', 'battle', 'bioterror', 'bioterrorism', 'blaze',\n",
              "        'blazing', 'bleeding', 'blew%20up', 'blight', 'blizzard', 'blood',\n",
              "        'bloody', 'blown%20up', 'body%20bag', 'body%20bagging',\n",
              "        'body%20bags', 'bomb', 'bombed', 'bombing', 'bridge%20collapse',\n",
              "        'buildings%20burning', 'buildings%20on%20fire', 'burned',\n",
              "        'burning', 'burning%20buildings', 'bush%20fires', 'casualties',\n",
              "        'casualty', 'catastrophe', 'catastrophic', 'chemical%20emergency',\n",
              "        'cliff%20fall', 'collapse', 'collapsed', 'collide', 'collided',\n",
              "        'collision', 'crash', 'crashed', 'crush', 'crushed', 'curfew',\n",
              "        'cyclone', 'damage', 'danger', 'dead', 'death', 'deaths', 'debris',\n",
              "        'deluge', 'deluged', 'demolish', 'demolished', 'demolition',\n",
              "        'derail', 'derailed', 'derailment', 'desolate', 'desolation',\n",
              "        'destroy', 'destroyed', 'destruction', 'detonate', 'detonation',\n",
              "        'devastated', 'devastation', 'disaster', 'displaced', 'drought',\n",
              "        'drown', 'drowned', 'drowning', 'dust%20storm', 'earthquake',\n",
              "        'electrocute', 'electrocuted', 'emergency', 'emergency%20plan',\n",
              "        'emergency%20services', 'engulfed', 'epicentre', 'evacuate',\n",
              "        'evacuated', 'evacuation', 'explode', 'exploded', 'explosion',\n",
              "        'eyewitness', 'famine', 'fatal', 'fatalities', 'fatality', 'fear',\n",
              "        'fire', 'fire%20truck', 'first%20responders', 'flames',\n",
              "        'flattened', 'flood', 'flooding', 'floods', 'forest%20fire',\n",
              "        'forest%20fires', 'hail', 'hailstorm', 'harm', 'hazard',\n",
              "        'hazardous', 'heat%20wave', 'hellfire', 'hijack', 'hijacker',\n",
              "        'hijacking', 'hostage', 'hostages', 'hurricane', 'injured',\n",
              "        'injuries', 'injury', 'inundated', 'inundation', 'landslide',\n",
              "        'lava', 'lightning', 'loud%20bang', 'mass%20murder',\n",
              "        'mass%20murderer', 'massacre', 'mayhem', 'meltdown', 'military',\n",
              "        'mudslide', 'natural%20disaster', 'nuclear%20disaster',\n",
              "        'nuclear%20reactor', 'obliterate', 'obliterated', 'obliteration',\n",
              "        'oil%20spill', 'outbreak', 'pandemonium', 'panic', 'panicking',\n",
              "        'police', 'quarantine', 'quarantined', 'radiation%20emergency',\n",
              "        'rainstorm', 'razed', 'refugees', 'rescue', 'rescued', 'rescuers',\n",
              "        'riot', 'rioting', 'rubble', 'ruin', 'sandstorm', 'screamed',\n",
              "        'screaming', 'screams', 'seismic', 'sinkhole', 'sinking', 'siren',\n",
              "        'sirens', 'smoke', 'snowstorm', 'storm', 'stretcher',\n",
              "        'structural%20failure', 'suicide%20bomb', 'suicide%20bomber',\n",
              "        'suicide%20bombing', 'sunk', 'survive', 'survived', 'survivors',\n",
              "        'terrorism', 'terrorist', 'threat', 'thunder', 'thunderstorm',\n",
              "        'tornado', 'tragedy', 'trapped', 'trauma', 'traumatised',\n",
              "        'trouble', 'tsunami', 'twister', 'typhoon', 'upheaval',\n",
              "        'violent%20storm', 'volcano', 'war%20zone', 'weapon', 'weapons',\n",
              "        'whirlwind', 'wild%20fires', 'wildfire', 'windstorm', 'wounded',\n",
              "        'wounds', 'wreck', 'wreckage', 'wrecked'], dtype=object))"
            ]
          },
          "metadata": {
            "tags": []
          },
          "execution_count": 9
        }
      ]
    },
    {
      "cell_type": "markdown",
      "metadata": {
        "id": "HOSFTEiK8tWq"
      },
      "source": [
        "Remove special characters and Nan from keywords"
      ]
    },
    {
      "cell_type": "code",
      "metadata": {
        "id": "RiH6WeLi8aab"
      },
      "source": [
        "df_test = df_test.fillna('')  \n",
        "df_train = df_train.fillna('') \n",
        "df_test.keyword = df_test.keyword.apply(lambda x: x.replace('%20', ' ') )\n",
        "df_train.keyword = df_train.keyword.apply(lambda x: x.replace('%20', ' ') )"
      ],
      "execution_count": 10,
      "outputs": []
    },
    {
      "cell_type": "markdown",
      "metadata": {
        "id": "Go1rZzdnCnCJ"
      },
      "source": [
        "### Check the length of our twits"
      ]
    },
    {
      "cell_type": "code",
      "metadata": {
        "id": "FRzF1X06a_Rr"
      },
      "source": [
        "seq_len = [[len(i.split()), k] for i, k in zip(df_train.text, df_train.target)]"
      ],
      "execution_count": 11,
      "outputs": []
    },
    {
      "cell_type": "code",
      "metadata": {
        "id": "8lWlW0UJbCJ-"
      },
      "source": [
        "df_viz = pd.DataFrame(seq_len, columns = ['number_of_tokens', 'target'])"
      ],
      "execution_count": 12,
      "outputs": []
    },
    {
      "cell_type": "code",
      "metadata": {
        "colab": {
          "base_uri": "https://localhost:8080/",
          "height": 317
        },
        "id": "acrlh4DsbiOj",
        "outputId": "468546a2-d809-491c-ceb3-a48bd2fa8e3f"
      },
      "source": [
        "sns.histplot(df_viz, x = 'number_of_tokens', hue = 'target', multiple=\"dodge\")"
      ],
      "execution_count": 13,
      "outputs": [
        {
          "output_type": "execute_result",
          "data": {
            "text/plain": [
              "<matplotlib.axes._subplots.AxesSubplot at 0x7feaeceac7d0>"
            ]
          },
          "metadata": {
            "tags": []
          },
          "execution_count": 13
        },
        {
          "output_type": "display_data",
          "data": {
            "image/png": "[encoded data removed]",
            "text/plain": [
              "<Figure size 432x288 with 1 Axes>"
            ]
          },
          "metadata": {
            "tags": [],
            "needs_background": "light"
          }
        }
      ]
    },
    {
      "cell_type": "code",
      "metadata": {
        "colab": {
          "base_uri": "https://localhost:8080/",
          "height": 302
        },
        "id": "4524OB5B_hbf",
        "outputId": "1a30bbfe-a7ab-4fa4-d04d-96c70204e333"
      },
      "source": [
        "seq_len = [len(i.split()) for i in df_test.text]\n",
        "sns.histplot(pd.Series(seq_len), )"
      ],
      "execution_count": 14,
      "outputs": [
        {
          "output_type": "execute_result",
          "data": {
            "text/plain": [
              "<matplotlib.axes._subplots.AxesSubplot at 0x7feaec279990>"
            ]
          },
          "metadata": {
            "tags": []
          },
          "execution_count": 14
        },
        {
          "output_type": "display_data",
          "data": {
            "image/png": "[encoded data removed]",
            "text/plain": [
              "<Figure size 432x288 with 1 Axes>"
            ]
          },
          "metadata": {
            "tags": [],
            "needs_background": "light"
          }
        }
      ]
    },
    {
      "cell_type": "markdown",
      "metadata": {
        "id": "cTsHy_P5dHA0"
      },
      "source": [
        "### Shuffle our data "
      ]
    },
    {
      "cell_type": "code",
      "metadata": {
        "id": "MGGBtaEKD0vE"
      },
      "source": [
        "df_train = df_train.sample(frac=1, random_state=42)"
      ],
      "execution_count": 15,
      "outputs": []
    },
    {
      "cell_type": "markdown",
      "metadata": {
        "id": "5fHiOBSjH_nL"
      },
      "source": [
        "### Check if dataset is balanced"
      ]
    },
    {
      "cell_type": "code",
      "metadata": {
        "colab": {
          "base_uri": "https://localhost:8080/",
          "height": 316
        },
        "id": "j9Fx4lPGHky3",
        "outputId": "926e0cf1-c3da-4591-d36d-11ea2a21392f"
      },
      "source": [
        "sns.histplot(df_train, x = 'target', hue = 'target', discrete=True, shrink=.8)"
      ],
      "execution_count": 16,
      "outputs": [
        {
          "output_type": "execute_result",
          "data": {
            "text/plain": [
              "<matplotlib.axes._subplots.AxesSubplot at 0x7feaebd74f90>"
            ]
          },
          "metadata": {
            "tags": []
          },
          "execution_count": 16
        },
        {
          "output_type": "display_data",
          "data": {
            "image/png": "[encoded data removed]",
            "text/plain": [
              "<Figure size 432x288 with 1 Axes>"
            ]
          },
          "metadata": {
            "tags": [],
            "needs_background": "light"
          }
        }
      ]
    },
    {
      "cell_type": "markdown",
      "metadata": {
        "id": "T2IMPYOGJeYY"
      },
      "source": [
        "### Visualize random tweets\n"
      ]
    },
    {
      "cell_type": "code",
      "metadata": {
        "colab": {
          "base_uri": "https://localhost:8080/"
        },
        "id": "kgunbjpUILay",
        "outputId": "3292f9c9-7829-4ae2-e6f0-355063564182"
      },
      "source": [
        "import random\n",
        "random_index = random.randint(0, len(df_train)-5)\n",
        "for row in df_train[[\"text\", \"target\"]][random_index:random_index+5].itertuples():\n",
        "  _, text, target = row\n",
        "  print(f\"Target: {target}\", \"(real disaster)\" if target > 0 else \"(not real disaster)\")\n",
        "  print(f\"Text:\\n{text}\\n\")\n",
        "  print(\"---\\n\")"
      ],
      "execution_count": 17,
      "outputs": [
        {
          "output_type": "stream",
          "text": [
            "Target: 1 (real disaster)\n",
            "Text:\n",
            "What Irony Debris of Flight MH370 found on 'Reunion Island'.\n",
            "\n",
            "---\n",
            "\n",
            "Target: 0 (not real disaster)\n",
            "Text:\n",
            "New Explosion-proof Tempered Glass Screen Protector Film for Blackberry Z10 - Full read byÛ_ http://t.co/SD7lOww9nu http://t.co/7hKavTVx81\n",
            "\n",
            "---\n",
            "\n",
            "Target: 1 (real disaster)\n",
            "Text:\n",
            ".@greenbuildermag @NFPA to hold free webinar on #wildfire mitigation 8/19 at 2pm ET. http://t.co/xmsvOHKccP @Firewise @Michele_NFPA\n",
            "\n",
            "---\n",
            "\n",
            "Target: 0 (not real disaster)\n",
            "Text:\n",
            "Did I just hear thunder? ??????\n",
            "\n",
            "---\n",
            "\n",
            "Target: 1 (real disaster)\n",
            "Text:\n",
            "Charred remains of homes on 2nd St in Manchester NH after fire rips through 2 buildings damaging neighboring homes http://t.co/Ja3W1S3tmr\n",
            "\n",
            "---\n",
            "\n"
          ],
          "name": "stdout"
        }
      ]
    },
    {
      "cell_type": "code",
      "metadata": {
        "id": "vpVjcVQoJycc"
      },
      "source": [
        "X_train, X_val, y_train, y_val = train_test_split(df_train.text.to_numpy(), df_train.target.to_numpy(), test_size = 0.1, random_state = 42)"
      ],
      "execution_count": 18,
      "outputs": []
    },
    {
      "cell_type": "code",
      "metadata": {
        "id": "3E_g12XtfHIR"
      },
      "source": [
        "X_test = df_test.text.to_numpy()"
      ],
      "execution_count": 19,
      "outputs": []
    },
    {
      "cell_type": "code",
      "metadata": {
        "colab": {
          "base_uri": "https://localhost:8080/"
        },
        "id": "CpRQ83faOUIO",
        "outputId": "7e646d3e-f373-4c1c-99ab-387147d3271a"
      },
      "source": [
        "X_train[:10], y_train[:10]"
      ],
      "execution_count": 20,
      "outputs": [
        {
          "output_type": "execute_result",
          "data": {
            "text/plain": [
              "(array(['@mogacola @zamtriossu i screamed after hitting tweet',\n",
              "        'Imagine getting flattened by Kurt Zouma',\n",
              "        '@Gurmeetramrahim #MSGDoing111WelfareWorks Green S welfare force ke appx 65000 members har time disaster victim ki help ke liye tyar hai....',\n",
              "        \"@shakjn @C7 @Magnums im shaking in fear he's gonna hack the planet\",\n",
              "        'Somehow find you and I collide http://t.co/Ee8RpOahPk',\n",
              "        '@EvaHanderek @MarleyKnysh great times until the bus driver held us hostage in the mall parking lot lmfao',\n",
              "        'destroy the free fandom honestly',\n",
              "        'Weapons stolen from National Guard Armory in New Albany still missing #Gunsense http://t.co/lKNU8902JE',\n",
              "        '@wfaaweather Pete when will the heat wave pass? Is it really going to be mid month? Frisco Boy Scouts have a canoe trip in Okla.',\n",
              "        'Patient-reported outcomes in long-term survivors of metastatic colorectal cancer - British Journal of Surgery http://t.co/5Yl4DC1Tqt'],\n",
              "       dtype=object), array([0, 0, 1, 0, 0, 1, 1, 0, 1, 1]))"
            ]
          },
          "metadata": {
            "tags": []
          },
          "execution_count": 20
        }
      ]
    },
    {
      "cell_type": "markdown",
      "metadata": {
        "id": "4OoL-s-VbLcj"
      },
      "source": [
        "### Remove links to the accounts, html links, numbers"
      ]
    },
    {
      "cell_type": "code",
      "metadata": {
        "id": "H2Tl5DkEbToh"
      },
      "source": [
        "def remove_links(X):\n",
        "  X_ = []\n",
        "  for text in X:\n",
        "    text = re.sub(r'@\\w+', '', text)\n",
        "    text = re.sub(r'http://.+\\s*', '', text)\n",
        "    text = re.sub(r'https://.+\\s*', '', text)\n",
        "    text = re.sub(r'\\d+', '', text)\n",
        "    X_.append(text)\n",
        "  return X_"
      ],
      "execution_count": 21,
      "outputs": []
    },
    {
      "cell_type": "code",
      "metadata": {
        "id": "NuMNE4HKev57"
      },
      "source": [
        "X_train = remove_links(X_train)\n",
        "X_val = remove_links(X_val)\n",
        "X_test = remove_links(X_test)"
      ],
      "execution_count": 22,
      "outputs": []
    },
    {
      "cell_type": "code",
      "metadata": {
        "colab": {
          "base_uri": "https://localhost:8080/"
        },
        "id": "ehTeVA1pfXyZ",
        "outputId": "101fbf0a-22c7-4da5-d633-f6e91d0c5009"
      },
      "source": [
        "X_train[:10]"
      ],
      "execution_count": 23,
      "outputs": [
        {
          "output_type": "execute_result",
          "data": {
            "text/plain": [
              "['  i screamed after hitting tweet',\n",
              " 'Imagine getting flattened by Kurt Zouma',\n",
              " ' #MSGDoingWelfareWorks Green S welfare force ke appx  members har time disaster victim ki help ke liye tyar hai....',\n",
              " \"   im shaking in fear he's gonna hack the planet\",\n",
              " 'Somehow find you and I collide ',\n",
              " '  great times until the bus driver held us hostage in the mall parking lot lmfao',\n",
              " 'destroy the free fandom honestly',\n",
              " 'Weapons stolen from National Guard Armory in New Albany still missing #Gunsense ',\n",
              " ' Pete when will the heat wave pass? Is it really going to be mid month? Frisco Boy Scouts have a canoe trip in Okla.',\n",
              " 'Patient-reported outcomes in long-term survivors of metastatic colorectal cancer - British Journal of Surgery ']"
            ]
          },
          "metadata": {
            "tags": []
          },
          "execution_count": 23
        }
      ]
    },
    {
      "cell_type": "code",
      "metadata": {
        "colab": {
          "base_uri": "https://localhost:8080/",
          "height": 302
        },
        "id": "mCoAwNAcUYfT",
        "outputId": "6812521c-bf75-4f10-f018-dc5be8ec1be4"
      },
      "source": [
        "seq_len = [len(i.split()) for i in X_test]\n",
        "sns.histplot(pd.Series(seq_len))"
      ],
      "execution_count": 24,
      "outputs": [
        {
          "output_type": "execute_result",
          "data": {
            "text/plain": [
              "<matplotlib.axes._subplots.AxesSubplot at 0x7feaebd32d90>"
            ]
          },
          "metadata": {
            "tags": []
          },
          "execution_count": 24
        },
        {
          "output_type": "display_data",
          "data": {
            "image/png": "[encoded data removed]",
            "text/plain": [
              "<Figure size 432x288 with 1 Axes>"
            ]
          },
          "metadata": {
            "tags": [],
            "needs_background": "light"
          }
        }
      ]
    },
    {
      "cell_type": "markdown",
      "metadata": {
        "id": "eT3rG_nHR9UB"
      },
      "source": [
        "### Convert text to numbers"
      ]
    },
    {
      "cell_type": "code",
      "metadata": {
        "id": "X-iAkty5ObeX"
      },
      "source": [
        "from tensorflow.keras.layers.experimental.preprocessing import TextVectorization"
      ],
      "execution_count": 25,
      "outputs": []
    },
    {
      "cell_type": "code",
      "metadata": {
        "id": "v0PdQm-xSm6I"
      },
      "source": [
        "tokens = 30 # Sequence length to pad the outputs to. I choose max length\n",
        "vocab_length = 10000 # Maximum vocab size"
      ],
      "execution_count": 26,
      "outputs": []
    },
    {
      "cell_type": "code",
      "metadata": {
        "id": "MF4ofyrWSqmD"
      },
      "source": [
        "#Create vectorization layer\n",
        "text_vect = TextVectorization(max_tokens = vocab_length, \n",
        "                              standardize = 'lower_and_strip_punctuation', \n",
        "                              ngrams = None, \n",
        "                              split = 'whitespace',\n",
        "                              output_sequence_length = tokens, \n",
        "                              pad_to_max_tokens=False, \n",
        "                              vocabulary=None,\n",
        "                              output_mode = 'int')"
      ],
      "execution_count": 27,
      "outputs": []
    },
    {
      "cell_type": "code",
      "metadata": {
        "id": "9JKziCREgEyj"
      },
      "source": [
        "text_vect.adapt(X_train)"
      ],
      "execution_count": 28,
      "outputs": []
    },
    {
      "cell_type": "code",
      "metadata": {
        "colab": {
          "base_uri": "https://localhost:8080/"
        },
        "id": "oZmrd5CmVHXM",
        "outputId": "7f7c3ed3-bb67-4986-9c14-615ae8c2ad21"
      },
      "source": [
        "text_vect([' great times until the bus driver held us hostage in the mall parking lot lmfao'])"
      ],
      "execution_count": 29,
      "outputs": [
        {
          "output_type": "execute_result",
          "data": {
            "text/plain": [
              "<tf.Tensor: shape=(1, 30), dtype=int64, numpy=\n",
              "array([[ 184,  238,  290,    2,  355,  860, 1986,   67,  493,    4,    2,\n",
              "        2717, 2654,  486, 2734,    0,    0,    0,    0,    0,    0,    0,\n",
              "           0,    0,    0,    0,    0,    0,    0,    0]])>"
            ]
          },
          "metadata": {
            "tags": []
          },
          "execution_count": 29
        }
      ]
    },
    {
      "cell_type": "markdown",
      "metadata": {
        "id": "eR_l9zQmWKAI"
      },
      "source": [
        "### Get unique words in sentences (vocab)"
      ]
    },
    {
      "cell_type": "code",
      "metadata": {
        "colab": {
          "base_uri": "https://localhost:8080/"
        },
        "id": "ElwDlTpAVgwg",
        "outputId": "8e7b1edd-5c54-476f-da72-215de7618790"
      },
      "source": [
        "text_vect.vocabulary_size()"
      ],
      "execution_count": 30,
      "outputs": [
        {
          "output_type": "execute_result",
          "data": {
            "text/plain": [
              "10000"
            ]
          },
          "metadata": {
            "tags": []
          },
          "execution_count": 30
        }
      ]
    },
    {
      "cell_type": "code",
      "metadata": {
        "id": "Npx5Bc9pWaqW"
      },
      "source": [
        "words_in_vocab = text_vect.get_vocabulary()"
      ],
      "execution_count": 31,
      "outputs": []
    },
    {
      "cell_type": "code",
      "metadata": {
        "colab": {
          "base_uri": "https://localhost:8080/"
        },
        "id": "yyOLWI0MWlES",
        "outputId": "91a3f90e-ddae-4e2b-995b-6c4189dcdf9d"
      },
      "source": [
        "words_in_vocab[:5]"
      ],
      "execution_count": 32,
      "outputs": [
        {
          "output_type": "execute_result",
          "data": {
            "text/plain": [
              "['', '[UNK]', 'the', 'a', 'in']"
            ]
          },
          "metadata": {
            "tags": []
          },
          "execution_count": 32
        }
      ]
    },
    {
      "cell_type": "code",
      "metadata": {
        "colab": {
          "base_uri": "https://localhost:8080/"
        },
        "id": "YDJlMcnXWp4D",
        "outputId": "fcc0fd1f-71a6-4bd4-d444-f843ea949dca"
      },
      "source": [
        "words_in_vocab[-5:]"
      ],
      "execution_count": 33,
      "outputs": [
        {
          "output_type": "execute_result",
          "data": {
            "text/plain": [
              "['kebabtahinipickles', 'kdr', 'kcrw', 'kckh', 'kc']"
            ]
          },
          "metadata": {
            "tags": []
          },
          "execution_count": 33
        }
      ]
    },
    {
      "cell_type": "markdown",
      "metadata": {
        "id": "54zuxSGCYMjs"
      },
      "source": [
        "### Create embedding\n",
        "\n",
        "Turns positive integers (indexes) into dense vectors of fixed size.\n",
        "\n",
        "https://www.tensorflow.org/api_docs/python/tf/keras/layers/Embedding\n",
        "\n",
        "`tf.keras.layers.Embedding(\n",
        "    input_dim, output_dim, embeddings_initializer='uniform',\n",
        "    embeddings_regularizer=None, activity_regularizer=None,\n",
        "    embeddings_constraint=None, mask_zero=False, input_length=None, **kwargs\n",
        ")`\n",
        "\n",
        "This layer can only be used as the first layer in a model."
      ]
    },
    {
      "cell_type": "code",
      "metadata": {
        "id": "YoKhV1AFX9mP"
      },
      "source": [
        "from tensorflow.keras.layers import Embedding"
      ],
      "execution_count": 34,
      "outputs": []
    },
    {
      "cell_type": "code",
      "metadata": {
        "id": "NvT0EsYPZIea"
      },
      "source": [
        "embedding = Embedding(input_dim = vocab_length,\n",
        "                      output_dim = 128, #better if can divide by 6\n",
        "                      embeddings_initializer='uniform', \n",
        "                      embeddings_regularizer=None, \n",
        "                      activity_regularizer=None, \n",
        "                      embeddings_constraint=None, \n",
        "                      mask_zero = False, \n",
        "                      input_length = tokens)"
      ],
      "execution_count": 35,
      "outputs": []
    },
    {
      "cell_type": "code",
      "metadata": {
        "colab": {
          "base_uri": "https://localhost:8080/"
        },
        "id": "EKj-93ueZzeE",
        "outputId": "109a3f2d-914b-4b92-e29c-04fb62489536"
      },
      "source": [
        "random_tweet = random.choice(X_train)\n",
        "print(f'Original: {random_tweet}\\n')\n",
        "print(f'Vectorized: {text_vect([random_tweet])}\\n')\n",
        "print(f'Embedded: {embedding(text_vect([random_tweet]))}')"
      ],
      "execution_count": 36,
      "outputs": [
        {
          "output_type": "stream",
          "text": [
            "Original: Rainstorm Destroys  Houses In Yobe | iReporter \n",
            "\n",
            "Vectorized: [[ 542 1253  850    4 2093    1    0    0    0    0    0    0    0    0\n",
            "     0    0    0    0    0    0    0    0    0    0    0    0    0    0\n",
            "     0    0]]\n",
            "\n",
            "Embedded: [[[ 0.0143883  -0.00190253 -0.01006225 ... -0.02886401 -0.04288546\n",
            "   -0.04520635]\n",
            "  [-0.00067133  0.01094307  0.00859261 ... -0.04217096 -0.02047197\n",
            "   -0.02701741]\n",
            "  [ 0.04471055  0.01507263 -0.00640241 ... -0.02733642  0.00949199\n",
            "   -0.02843866]\n",
            "  ...\n",
            "  [-0.00174824 -0.01575262 -0.01485305 ... -0.03320499 -0.03244934\n",
            "    0.00010722]\n",
            "  [-0.00174824 -0.01575262 -0.01485305 ... -0.03320499 -0.03244934\n",
            "    0.00010722]\n",
            "  [-0.00174824 -0.01575262 -0.01485305 ... -0.03320499 -0.03244934\n",
            "    0.00010722]]]\n"
          ],
          "name": "stdout"
        }
      ]
    },
    {
      "cell_type": "code",
      "metadata": {
        "colab": {
          "base_uri": "https://localhost:8080/"
        },
        "id": "E3njgIfpdRU2",
        "outputId": "b54f008e-d190-427d-c4ae-a7bc1badd4f2"
      },
      "source": [
        "embedding(text_vect([random_tweet])).shape"
      ],
      "execution_count": 37,
      "outputs": [
        {
          "output_type": "execute_result",
          "data": {
            "text/plain": [
              "TensorShape([1, 30, 128])"
            ]
          },
          "metadata": {
            "tags": []
          },
          "execution_count": 37
        }
      ]
    },
    {
      "cell_type": "markdown",
      "metadata": {
        "id": "bh-jYR_zcr0b"
      },
      "source": [
        "Now that we've got a way to turn our text data into numbers, we can start to build machine learning models to model it.\n",
        "\n",
        "\n",
        "To get plenty of practice, we're going to build a series of different models, each as its own experiment. We'll then compare the results of each model and see which one performed best.\n",
        "\n",
        "\n",
        "More specifically, we'll be building the following:\n",
        "\n",
        "\n",
        "- Model 0: Naive Bayes (baseline)\n",
        "- Model 1: Feed-forward neural network (dense model)\n",
        "- Model 2: LSTM model\n",
        "- Model 3: GRU model\n",
        "- Model 4: Bidirectional-LSTM model\n",
        "- Model 5: 1D Convolutional Neural Network\n",
        "- Model 6: TensorFlow Hub Pretrained Feature Extractor\n",
        "- Model 7: Same as model 6 with 10% of training data"
      ]
    },
    {
      "cell_type": "markdown",
      "metadata": {
        "id": "mz42AvTff0Fe"
      },
      "source": [
        "### Model 0: Naive Bayes (baseline)"
      ]
    },
    {
      "cell_type": "code",
      "metadata": {
        "id": "OYG9pddtayUf"
      },
      "source": [
        "from sklearn.feature_extraction.text import CountVectorizer, TfidfTransformer\n",
        "from sklearn.naive_bayes import MultinomialNB\n",
        "from sklearn.pipeline import Pipeline\n",
        "from sklearn.metrics import accuracy_score, precision_score, recall_score, f1_score, confusion_matrix, precision_recall_fscore_support"
      ],
      "execution_count": 38,
      "outputs": []
    },
    {
      "cell_type": "code",
      "metadata": {
        "id": "Cg9Xsu3Glmuo"
      },
      "source": [
        "model_0 = Pipeline([('vect', CountVectorizer()),\n",
        "                    ('tfidf', TfidfTransformer()),\n",
        "                    ('mnb', MultinomialNB())])"
      ],
      "execution_count": 39,
      "outputs": []
    },
    {
      "cell_type": "code",
      "metadata": {
        "colab": {
          "base_uri": "https://localhost:8080/"
        },
        "id": "WDJLQaXnguW2",
        "outputId": "196ac5ad-4c6c-44cf-9ea9-f571d7c19f17"
      },
      "source": [
        "model_0.fit(X_train, y_train)"
      ],
      "execution_count": 40,
      "outputs": [
        {
          "output_type": "execute_result",
          "data": {
            "text/plain": [
              "Pipeline(memory=None,\n",
              "         steps=[('vect',\n",
              "                 CountVectorizer(analyzer='word', binary=False,\n",
              "                                 decode_error='strict',\n",
              "                                 dtype=<class 'numpy.int64'>, encoding='utf-8',\n",
              "                                 input='content', lowercase=True, max_df=1.0,\n",
              "                                 max_features=None, min_df=1,\n",
              "                                 ngram_range=(1, 1), preprocessor=None,\n",
              "                                 stop_words=None, strip_accents=None,\n",
              "                                 token_pattern='(?u)\\\\b\\\\w\\\\w+\\\\b',\n",
              "                                 tokenizer=None, vocabulary=None)),\n",
              "                ('tfidf',\n",
              "                 TfidfTransformer(norm='l2', smooth_idf=True,\n",
              "                                  sublinear_tf=False, use_idf=True)),\n",
              "                ('mnb',\n",
              "                 MultinomialNB(alpha=1.0, class_prior=None, fit_prior=True))],\n",
              "         verbose=False)"
            ]
          },
          "metadata": {
            "tags": []
          },
          "execution_count": 40
        }
      ]
    },
    {
      "cell_type": "code",
      "metadata": {
        "id": "-TpqdxVTh5IO"
      },
      "source": [
        "base_pred = model_0.predict(X_val)"
      ],
      "execution_count": 41,
      "outputs": []
    },
    {
      "cell_type": "code",
      "metadata": {
        "colab": {
          "base_uri": "https://localhost:8080/"
        },
        "id": "lnLRd9V5ie3-",
        "outputId": "e9714766-df3d-4ae7-d5c5-bc2642a0840c"
      },
      "source": [
        "base_val_accuracy = accuracy_score(y_val, base_pred )\n",
        "base_val_accuracy"
      ],
      "execution_count": 42,
      "outputs": [
        {
          "output_type": "execute_result",
          "data": {
            "text/plain": [
              "0.7965879265091863"
            ]
          },
          "metadata": {
            "tags": []
          },
          "execution_count": 42
        }
      ]
    },
    {
      "cell_type": "code",
      "metadata": {
        "colab": {
          "base_uri": "https://localhost:8080/"
        },
        "id": "H0pgavIhjhpW",
        "outputId": "f07d106f-0ab9-4a70-be4f-5ef061004e1b"
      },
      "source": [
        "base_val_precision = precision_score(y_val, base_pred )\n",
        "base_val_precision"
      ],
      "execution_count": 43,
      "outputs": [
        {
          "output_type": "execute_result",
          "data": {
            "text/plain": [
              "0.8844621513944223"
            ]
          },
          "metadata": {
            "tags": []
          },
          "execution_count": 43
        }
      ]
    },
    {
      "cell_type": "markdown",
      "metadata": {
        "id": "3A9N-hTiipzF"
      },
      "source": [
        "#### Save results to results_df"
      ]
    },
    {
      "cell_type": "code",
      "metadata": {
        "id": "qW5T_66UinHd"
      },
      "source": [
        "results_df = pd.DataFrame(columns = ['num_experiment','model_name', 'accuracy_score', 'precision', 'racall', 'f-1_score'])"
      ],
      "execution_count": 44,
      "outputs": []
    },
    {
      "cell_type": "code",
      "metadata": {
        "id": "5KQCJ9n_naRb"
      },
      "source": [
        "def write_result(y_pred, model_name, y_val = y_val):\n",
        "  global results_df\n",
        "  #another way\n",
        "  # precision, racall, f1_score, _ = precision_recall_fscore_support(y_val, y_pred, average = 'weights')\n",
        "  results_df.loc[len(results_df)] = [len(results_df),\n",
        "                                     model_name, \n",
        "                                     accuracy_score(y_val, y_pred), \n",
        "                                     precision_score(y_val, y_pred),\n",
        "                                     recall_score(y_val, y_pred),\n",
        "                                     f1_score(y_val, y_pred)\n",
        "                                     ]"
      ],
      "execution_count": 45,
      "outputs": []
    },
    {
      "cell_type": "code",
      "metadata": {
        "id": "m8krEnB7i4ha"
      },
      "source": [
        "write_result(base_pred, 'base_naive_bayes')"
      ],
      "execution_count": 46,
      "outputs": []
    },
    {
      "cell_type": "code",
      "metadata": {
        "colab": {
          "base_uri": "https://localhost:8080/",
          "height": 100
        },
        "id": "AZbpG44aj1Z-",
        "outputId": "83a66f80-42be-4ccd-d15d-38a3e1ec01bb"
      },
      "source": [
        "results_df"
      ],
      "execution_count": 47,
      "outputs": [
        {
          "output_type": "execute_result",
          "data": {
            "text/html": [
              "<div>\n",
              "<style scoped>\n",
              "    .dataframe tbody tr th:only-of-type {\n",
              "        vertical-align: middle;\n",
              "    }\n",
              "\n",
              "    .dataframe tbody tr th {\n",
              "        vertical-align: top;\n",
              "    }\n",
              "\n",
              "    .dataframe thead th {\n",
              "        text-align: right;\n",
              "    }\n",
              "</style>\n",
              "<table border=\"1\" class=\"dataframe\">\n",
              "  <thead>\n",
              "    <tr style=\"text-align: right;\">\n",
              "      <th></th>\n",
              "      <th>num_experiment</th>\n",
              "      <th>model_name</th>\n",
              "      <th>accuracy_score</th>\n",
              "      <th>precision</th>\n",
              "      <th>racall</th>\n",
              "      <th>f-1_score</th>\n",
              "    </tr>\n",
              "  </thead>\n",
              "  <tbody>\n",
              "    <tr>\n",
              "      <th>0</th>\n",
              "      <td>0</td>\n",
              "      <td>base_naive_bayes</td>\n",
              "      <td>0.796588</td>\n",
              "      <td>0.884462</td>\n",
              "      <td>0.637931</td>\n",
              "      <td>0.741235</td>\n",
              "    </tr>\n",
              "  </tbody>\n",
              "</table>\n",
              "</div>"
            ],
            "text/plain": [
              "  num_experiment        model_name  ...    racall  f-1_score\n",
              "0              0  base_naive_bayes  ...  0.637931   0.741235\n",
              "\n",
              "[1 rows x 6 columns]"
            ]
          },
          "metadata": {
            "tags": []
          },
          "execution_count": 47
        }
      ]
    },
    {
      "cell_type": "code",
      "metadata": {
        "id": "wHnwznbij7Qt"
      },
      "source": [
        "base_conf_matr = confusion_matrix(y_val, base_pred)"
      ],
      "execution_count": 48,
      "outputs": []
    },
    {
      "cell_type": "code",
      "metadata": {
        "colab": {
          "base_uri": "https://localhost:8080/"
        },
        "id": "zB0uXhT3T7fO",
        "outputId": "dad0b755-c587-484e-9cc3-f3ea05914f67"
      },
      "source": [
        "base_conf_matr"
      ],
      "execution_count": 49,
      "outputs": [
        {
          "output_type": "execute_result",
          "data": {
            "text/plain": [
              "array([[385,  29],\n",
              "       [126, 222]])"
            ]
          },
          "metadata": {
            "tags": []
          },
          "execution_count": 49
        }
      ]
    },
    {
      "cell_type": "markdown",
      "metadata": {
        "id": "HipofVAKcJGt"
      },
      "source": [
        "### Model1: Feed-forward neural network (dense model)"
      ]
    },
    {
      "cell_type": "markdown",
      "metadata": {
        "id": "xdOL1s6sckxQ"
      },
      "source": [
        "#### Create Tensorflow Board callback"
      ]
    },
    {
      "cell_type": "code",
      "metadata": {
        "id": "RYwo7Ol4UH21"
      },
      "source": [
        "DIR = 'model_logs'\n",
        "#create_tf_board_callback()"
      ],
      "execution_count": 50,
      "outputs": []
    },
    {
      "cell_type": "code",
      "metadata": {
        "id": "O-AZzhnFeDpi"
      },
      "source": [
        "inputs = Input(shape = (1,), dtype=tf.string)\n",
        "x = text_vect(inputs)\n",
        "x = embedding(x)\n",
        "x = Flatten()(x)\n",
        "x = Dense(64, activation='relu')(x)\n",
        "outputs =  Dense(1, activation='sigmoid')(x)\n",
        "model_1 = Model(inputs, outputs)"
      ],
      "execution_count": 51,
      "outputs": []
    },
    {
      "cell_type": "code",
      "metadata": {
        "id": "FB9vreCLeYhA"
      },
      "source": [
        "model_1.compile(optimizer='adam', metrics='accuracy', loss = 'binary_crossentropy')"
      ],
      "execution_count": 52,
      "outputs": []
    },
    {
      "cell_type": "code",
      "metadata": {
        "colab": {
          "base_uri": "https://localhost:8080/"
        },
        "id": "KOZ8vKtpDMGj",
        "outputId": "16fa0de5-5a25-4e0a-fb97-17d51e025e5f"
      },
      "source": [
        "model_1.summary()"
      ],
      "execution_count": 53,
      "outputs": [
        {
          "output_type": "stream",
          "text": [
            "Model: \"model\"\n",
            "_________________________________________________________________\n",
            "Layer (type)                 Output Shape              Param #   \n",
            "=================================================================\n",
            "input_1 (InputLayer)         [(None, 1)]               0         \n",
            "_________________________________________________________________\n",
            "text_vectorization (TextVect (None, 30)                0         \n",
            "_________________________________________________________________\n",
            "embedding (Embedding)        (None, 30, 128)           1280000   \n",
            "_________________________________________________________________\n",
            "flatten (Flatten)            (None, 3840)              0         \n",
            "_________________________________________________________________\n",
            "dense (Dense)                (None, 64)                245824    \n",
            "_________________________________________________________________\n",
            "dense_1 (Dense)              (None, 1)                 65        \n",
            "=================================================================\n",
            "Total params: 1,525,889\n",
            "Trainable params: 1,525,889\n",
            "Non-trainable params: 0\n",
            "_________________________________________________________________\n"
          ],
          "name": "stdout"
        }
      ]
    },
    {
      "cell_type": "code",
      "metadata": {
        "id": "nm9ngzk7elVv",
        "colab": {
          "base_uri": "https://localhost:8080/"
        },
        "outputId": "dfaca4cf-e95c-4ffd-c6d1-14d5e97c296d"
      },
      "source": [
        "history_1 = model_1.fit(tf.constant(X_train), y_train, \n",
        "             epochs = 5,\n",
        "            validation_data = (tf.constant(X_val), y_val),\n",
        "            callbacks = create_tf_board_callback(DIR, 'model_1'))"
      ],
      "execution_count": 54,
      "outputs": [
        {
          "output_type": "stream",
          "text": [
            "Saving TensorBoard log files to model_logs/model_1/20210718-144403\n",
            "Epoch 1/5\n",
            "215/215 [==============================] - 7s 16ms/step - loss: 0.5423 - accuracy: 0.7335 - val_loss: 0.4867 - val_accuracy: 0.7638\n",
            "Epoch 2/5\n",
            "215/215 [==============================] - 3s 13ms/step - loss: 0.2667 - accuracy: 0.8975 - val_loss: 0.5546 - val_accuracy: 0.7585\n",
            "Epoch 3/5\n",
            "215/215 [==============================] - 3s 13ms/step - loss: 0.1238 - accuracy: 0.9604 - val_loss: 0.6102 - val_accuracy: 0.7677\n",
            "Epoch 4/5\n",
            "215/215 [==============================] - 3s 14ms/step - loss: 0.0878 - accuracy: 0.9693 - val_loss: 0.6622 - val_accuracy: 0.7454\n",
            "Epoch 5/5\n",
            "215/215 [==============================] - 3s 14ms/step - loss: 0.0664 - accuracy: 0.9747 - val_loss: 0.7423 - val_accuracy: 0.7533\n"
          ],
          "name": "stdout"
        }
      ]
    },
    {
      "cell_type": "code",
      "metadata": {
        "id": "epV6vahJAnpL"
      },
      "source": [
        "prob_1 = model_1.predict(tf.constant(X_val))"
      ],
      "execution_count": 55,
      "outputs": []
    },
    {
      "cell_type": "code",
      "metadata": {
        "colab": {
          "base_uri": "https://localhost:8080/"
        },
        "id": "nLkRPhswA0zX",
        "outputId": "d6e4d001-5bd4-4e3d-8b7b-2f91ecd20095"
      },
      "source": [
        "prob_1.shape"
      ],
      "execution_count": 56,
      "outputs": [
        {
          "output_type": "execute_result",
          "data": {
            "text/plain": [
              "(762, 1)"
            ]
          },
          "metadata": {
            "tags": []
          },
          "execution_count": 56
        }
      ]
    },
    {
      "cell_type": "code",
      "metadata": {
        "id": "-RFSvDfaB36c"
      },
      "source": [
        "pred_1 = tf.round(tf.squeeze(prob_1))"
      ],
      "execution_count": 57,
      "outputs": []
    },
    {
      "cell_type": "code",
      "metadata": {
        "colab": {
          "base_uri": "https://localhost:8080/"
        },
        "id": "t6wPFF58Cepk",
        "outputId": "10eadd74-a6f6-4b3e-d842-c32f5379ef4a"
      },
      "source": [
        "pred_1[:10], y_val[:10]"
      ],
      "execution_count": 58,
      "outputs": [
        {
          "output_type": "execute_result",
          "data": {
            "text/plain": [
              "(<tf.Tensor: shape=(10,), dtype=float32, numpy=array([0., 1., 1., 0., 0., 1., 1., 1., 1., 0.], dtype=float32)>,\n",
              " array([0, 0, 1, 1, 1, 1, 1, 1, 1, 0]))"
            ]
          },
          "metadata": {
            "tags": []
          },
          "execution_count": 58
        }
      ]
    },
    {
      "cell_type": "code",
      "metadata": {
        "id": "4nMRMQE0CqWg"
      },
      "source": [
        "write_result(pred_1, 'base_dense_model_1')"
      ],
      "execution_count": 59,
      "outputs": []
    },
    {
      "cell_type": "code",
      "metadata": {
        "colab": {
          "base_uri": "https://localhost:8080/",
          "height": 130
        },
        "id": "hI87KHAWC4HB",
        "outputId": "56061018-2827-405e-932b-ebf3202bfac4"
      },
      "source": [
        "results_df"
      ],
      "execution_count": 60,
      "outputs": [
        {
          "output_type": "execute_result",
          "data": {
            "text/html": [
              "<div>\n",
              "<style scoped>\n",
              "    .dataframe tbody tr th:only-of-type {\n",
              "        vertical-align: middle;\n",
              "    }\n",
              "\n",
              "    .dataframe tbody tr th {\n",
              "        vertical-align: top;\n",
              "    }\n",
              "\n",
              "    .dataframe thead th {\n",
              "        text-align: right;\n",
              "    }\n",
              "</style>\n",
              "<table border=\"1\" class=\"dataframe\">\n",
              "  <thead>\n",
              "    <tr style=\"text-align: right;\">\n",
              "      <th></th>\n",
              "      <th>num_experiment</th>\n",
              "      <th>model_name</th>\n",
              "      <th>accuracy_score</th>\n",
              "      <th>precision</th>\n",
              "      <th>racall</th>\n",
              "      <th>f-1_score</th>\n",
              "    </tr>\n",
              "  </thead>\n",
              "  <tbody>\n",
              "    <tr>\n",
              "      <th>0</th>\n",
              "      <td>0</td>\n",
              "      <td>base_naive_bayes</td>\n",
              "      <td>0.796588</td>\n",
              "      <td>0.884462</td>\n",
              "      <td>0.637931</td>\n",
              "      <td>0.741235</td>\n",
              "    </tr>\n",
              "    <tr>\n",
              "      <th>1</th>\n",
              "      <td>1</td>\n",
              "      <td>base_dense_model_1</td>\n",
              "      <td>0.753281</td>\n",
              "      <td>0.779720</td>\n",
              "      <td>0.640805</td>\n",
              "      <td>0.703470</td>\n",
              "    </tr>\n",
              "  </tbody>\n",
              "</table>\n",
              "</div>"
            ],
            "text/plain": [
              "  num_experiment          model_name  ...    racall  f-1_score\n",
              "0              0    base_naive_bayes  ...  0.637931   0.741235\n",
              "1              1  base_dense_model_1  ...  0.640805   0.703470\n",
              "\n",
              "[2 rows x 6 columns]"
            ]
          },
          "metadata": {
            "tags": []
          },
          "execution_count": 60
        }
      ]
    },
    {
      "cell_type": "code",
      "metadata": {
        "colab": {
          "base_uri": "https://localhost:8080/"
        },
        "id": "wk_zZJb3BvjE",
        "outputId": "a0d1bafb-5f8f-4a60-c74b-41b75568a7ec"
      },
      "source": [
        "model1_conf_matr = confusion_matrix(y_val, pred_1)\n",
        "model1_conf_matr"
      ],
      "execution_count": 61,
      "outputs": [
        {
          "output_type": "execute_result",
          "data": {
            "text/plain": [
              "array([[351,  63],\n",
              "       [125, 223]])"
            ]
          },
          "metadata": {
            "tags": []
          },
          "execution_count": 61
        }
      ]
    },
    {
      "cell_type": "code",
      "metadata": {
        "colab": {
          "base_uri": "https://localhost:8080/"
        },
        "id": "zQ2Uhqt-D_e_",
        "outputId": "71ed7646-6fb0-4662-9302-1923e6e99065"
      },
      "source": [
        "base_conf_matr"
      ],
      "execution_count": 62,
      "outputs": [
        {
          "output_type": "execute_result",
          "data": {
            "text/plain": [
              "array([[385,  29],\n",
              "       [126, 222]])"
            ]
          },
          "metadata": {
            "tags": []
          },
          "execution_count": 62
        }
      ]
    },
    {
      "cell_type": "markdown",
      "metadata": {
        "id": "BGDiyjdulKx4"
      },
      "source": [
        "#### Build base model as in tutorial: add GlobalAveragePooling1D() and remove Dense(128) 5 epochs"
      ]
    },
    {
      "cell_type": "code",
      "metadata": {
        "id": "T-Raopcxlgrc"
      },
      "source": [
        "from tensorflow.keras import backend as K"
      ],
      "execution_count": 63,
      "outputs": []
    },
    {
      "cell_type": "code",
      "metadata": {
        "id": "cQeVJbTClydd"
      },
      "source": [
        "K.clear_session()"
      ],
      "execution_count": 64,
      "outputs": []
    },
    {
      "cell_type": "code",
      "metadata": {
        "id": "v9SYBEz4je3j"
      },
      "source": [
        "#I replace Flatten layer to GAP, run for 5 epochs \n",
        "inputs = Input(shape = (1,), dtype=tf.string)\n",
        "x = text_vect(inputs)\n",
        "x = embedding(x)\n",
        "x = GlobalAveragePooling1D()(x) \n",
        "x = Dense(64, activation='relu')(x)\n",
        "outputs = Dense(1, activation='sigmoid')(x)"
      ],
      "execution_count": 65,
      "outputs": []
    },
    {
      "cell_type": "code",
      "metadata": {
        "id": "3iyVd7uIl7tc"
      },
      "source": [
        "model_1_2 = Model(inputs, outputs)"
      ],
      "execution_count": 66,
      "outputs": []
    },
    {
      "cell_type": "code",
      "metadata": {
        "id": "qwRPoCCymGxt"
      },
      "source": [
        "model_1_2.compile(optimizer='adam', metrics='accuracy', loss = 'binary_crossentropy')"
      ],
      "execution_count": 67,
      "outputs": []
    },
    {
      "cell_type": "code",
      "metadata": {
        "colab": {
          "base_uri": "https://localhost:8080/"
        },
        "id": "OGdPSC4Nm89D",
        "outputId": "b05da493-9ffe-49d2-9002-8f5ee27cf6ea"
      },
      "source": [
        "model_1_2.summary()"
      ],
      "execution_count": 68,
      "outputs": [
        {
          "output_type": "stream",
          "text": [
            "Model: \"model\"\n",
            "_________________________________________________________________\n",
            "Layer (type)                 Output Shape              Param #   \n",
            "=================================================================\n",
            "input_1 (InputLayer)         [(None, 1)]               0         \n",
            "_________________________________________________________________\n",
            "text_vectorization (TextVect (None, 30)                0         \n",
            "_________________________________________________________________\n",
            "embedding (Embedding)        (None, 30, 128)           1280000   \n",
            "_________________________________________________________________\n",
            "global_average_pooling1d (Gl (None, 128)               0         \n",
            "_________________________________________________________________\n",
            "dense (Dense)                (None, 64)                8256      \n",
            "_________________________________________________________________\n",
            "dense_1 (Dense)              (None, 1)                 65        \n",
            "=================================================================\n",
            "Total params: 1,288,321\n",
            "Trainable params: 1,288,321\n",
            "Non-trainable params: 0\n",
            "_________________________________________________________________\n"
          ],
          "name": "stdout"
        }
      ]
    },
    {
      "cell_type": "code",
      "metadata": {
        "colab": {
          "base_uri": "https://localhost:8080/"
        },
        "id": "6mu7d1WYmKeB",
        "outputId": "8041ce5b-47a7-455d-f1bc-40cb294e3b93"
      },
      "source": [
        "history_1_2 = model_1_2.fit(tf.constant(X_train), y_train,\n",
        "                        epochs = 5,\n",
        "                        validation_data = (tf.constant(X_val), y_val),\n",
        "                        callbacks = create_tf_board_callback(DIR, 'model_1_2'))"
      ],
      "execution_count": 69,
      "outputs": [
        {
          "output_type": "stream",
          "text": [
            "Saving TensorBoard log files to model_logs/model_1_2/20210718-144425\n",
            "Epoch 1/5\n",
            "215/215 [==============================] - 4s 17ms/step - loss: 0.4638 - accuracy: 0.8170 - val_loss: 0.5170 - val_accuracy: 0.7835\n",
            "Epoch 2/5\n",
            "215/215 [==============================] - 3s 14ms/step - loss: 0.2729 - accuracy: 0.8932 - val_loss: 0.5310 - val_accuracy: 0.7835\n",
            "Epoch 3/5\n",
            "215/215 [==============================] - 3s 14ms/step - loss: 0.2009 - accuracy: 0.9235 - val_loss: 0.6009 - val_accuracy: 0.7822\n",
            "Epoch 4/5\n",
            "215/215 [==============================] - 3s 14ms/step - loss: 0.1615 - accuracy: 0.9404 - val_loss: 0.6267 - val_accuracy: 0.7808\n",
            "Epoch 5/5\n",
            "215/215 [==============================] - 3s 14ms/step - loss: 0.1312 - accuracy: 0.9496 - val_loss: 0.7013 - val_accuracy: 0.7703\n"
          ],
          "name": "stdout"
        }
      ]
    },
    {
      "cell_type": "code",
      "metadata": {
        "id": "c3xsDUhvxRiB"
      },
      "source": [
        "prob_1_2 = model_1_2.predict(tf.constant(X_val))"
      ],
      "execution_count": 70,
      "outputs": []
    },
    {
      "cell_type": "code",
      "metadata": {
        "colab": {
          "base_uri": "https://localhost:8080/"
        },
        "id": "_PGN4t21xanP",
        "outputId": "9b784047-7075-4f42-cb94-c685f63d5fc7"
      },
      "source": [
        "prob_1_2.shape"
      ],
      "execution_count": 71,
      "outputs": [
        {
          "output_type": "execute_result",
          "data": {
            "text/plain": [
              "(762, 1)"
            ]
          },
          "metadata": {
            "tags": []
          },
          "execution_count": 71
        }
      ]
    },
    {
      "cell_type": "code",
      "metadata": {
        "id": "erNBeqbOxxMK"
      },
      "source": [
        "pred_1_2 = np.round(prob_1_2).flatten()"
      ],
      "execution_count": 72,
      "outputs": []
    },
    {
      "cell_type": "code",
      "metadata": {
        "colab": {
          "base_uri": "https://localhost:8080/"
        },
        "id": "hqnbIPf6yEWn",
        "outputId": "371ec87b-5938-448a-e4f8-3efe9d883bcf"
      },
      "source": [
        "pred_1_2[:10], y_val[:10]"
      ],
      "execution_count": 73,
      "outputs": [
        {
          "output_type": "execute_result",
          "data": {
            "text/plain": [
              "(array([0., 1., 1., 0., 0., 1., 1., 1., 1., 0.], dtype=float32),\n",
              " array([0, 0, 1, 1, 1, 1, 1, 1, 1, 0]))"
            ]
          },
          "metadata": {
            "tags": []
          },
          "execution_count": 73
        }
      ]
    },
    {
      "cell_type": "code",
      "metadata": {
        "id": "j4NnoAI0yLA5"
      },
      "source": [
        "write_result(pred_1_2, 'simple_dense_model_1_2')"
      ],
      "execution_count": 74,
      "outputs": []
    },
    {
      "cell_type": "code",
      "metadata": {
        "colab": {
          "base_uri": "https://localhost:8080/",
          "height": 160
        },
        "id": "iQE0ovJVz0ul",
        "outputId": "c42a6828-78b8-434f-a06f-9412a404351c"
      },
      "source": [
        "results_df"
      ],
      "execution_count": 75,
      "outputs": [
        {
          "output_type": "execute_result",
          "data": {
            "text/html": [
              "<div>\n",
              "<style scoped>\n",
              "    .dataframe tbody tr th:only-of-type {\n",
              "        vertical-align: middle;\n",
              "    }\n",
              "\n",
              "    .dataframe tbody tr th {\n",
              "        vertical-align: top;\n",
              "    }\n",
              "\n",
              "    .dataframe thead th {\n",
              "        text-align: right;\n",
              "    }\n",
              "</style>\n",
              "<table border=\"1\" class=\"dataframe\">\n",
              "  <thead>\n",
              "    <tr style=\"text-align: right;\">\n",
              "      <th></th>\n",
              "      <th>num_experiment</th>\n",
              "      <th>model_name</th>\n",
              "      <th>accuracy_score</th>\n",
              "      <th>precision</th>\n",
              "      <th>racall</th>\n",
              "      <th>f-1_score</th>\n",
              "    </tr>\n",
              "  </thead>\n",
              "  <tbody>\n",
              "    <tr>\n",
              "      <th>0</th>\n",
              "      <td>0</td>\n",
              "      <td>base_naive_bayes</td>\n",
              "      <td>0.796588</td>\n",
              "      <td>0.884462</td>\n",
              "      <td>0.637931</td>\n",
              "      <td>0.741235</td>\n",
              "    </tr>\n",
              "    <tr>\n",
              "      <th>1</th>\n",
              "      <td>1</td>\n",
              "      <td>base_dense_model_1</td>\n",
              "      <td>0.753281</td>\n",
              "      <td>0.779720</td>\n",
              "      <td>0.640805</td>\n",
              "      <td>0.703470</td>\n",
              "    </tr>\n",
              "    <tr>\n",
              "      <th>2</th>\n",
              "      <td>2</td>\n",
              "      <td>simple_dense_model_1_2</td>\n",
              "      <td>0.770341</td>\n",
              "      <td>0.797251</td>\n",
              "      <td>0.666667</td>\n",
              "      <td>0.726135</td>\n",
              "    </tr>\n",
              "  </tbody>\n",
              "</table>\n",
              "</div>"
            ],
            "text/plain": [
              "  num_experiment              model_name  ...    racall  f-1_score\n",
              "0              0        base_naive_bayes  ...  0.637931   0.741235\n",
              "1              1      base_dense_model_1  ...  0.640805   0.703470\n",
              "2              2  simple_dense_model_1_2  ...  0.666667   0.726135\n",
              "\n",
              "[3 rows x 6 columns]"
            ]
          },
          "metadata": {
            "tags": []
          },
          "execution_count": 75
        }
      ]
    },
    {
      "cell_type": "code",
      "metadata": {
        "colab": {
          "base_uri": "https://localhost:8080/"
        },
        "id": "kclRvm9gDwlP",
        "outputId": "4b3ba686-a801-423e-9541-c86c8548d2d5"
      },
      "source": [
        "model1_2_conf_matr = confusion_matrix(y_val, pred_1_2)\n",
        "model1_2_conf_matr"
      ],
      "execution_count": 76,
      "outputs": [
        {
          "output_type": "execute_result",
          "data": {
            "text/plain": [
              "array([[355,  59],\n",
              "       [116, 232]])"
            ]
          },
          "metadata": {
            "tags": []
          },
          "execution_count": 76
        }
      ]
    },
    {
      "cell_type": "code",
      "metadata": {
        "colab": {
          "base_uri": "https://localhost:8080/"
        },
        "id": "ayH46_0RD4jL",
        "outputId": "b77abbeb-6e27-4746-8b4e-408c3e74eb94"
      },
      "source": [
        "base_conf_matr"
      ],
      "execution_count": 77,
      "outputs": [
        {
          "output_type": "execute_result",
          "data": {
            "text/plain": [
              "array([[385,  29],\n",
              "       [126, 222]])"
            ]
          },
          "metadata": {
            "tags": []
          },
          "execution_count": 77
        }
      ]
    },
    {
      "cell_type": "markdown",
      "metadata": {
        "id": "-PUnFgITE0gO"
      },
      "source": [
        "### Visualise learned Embedding"
      ]
    },
    {
      "cell_type": "code",
      "metadata": {
        "colab": {
          "base_uri": "https://localhost:8080/"
        },
        "id": "xPuIkaBoz34X",
        "outputId": "c0f19974-2447-4fe1-ed96-8c0a3bc35803"
      },
      "source": [
        "model_1_2.summary()"
      ],
      "execution_count": 78,
      "outputs": [
        {
          "output_type": "stream",
          "text": [
            "Model: \"model\"\n",
            "_________________________________________________________________\n",
            "Layer (type)                 Output Shape              Param #   \n",
            "=================================================================\n",
            "input_1 (InputLayer)         [(None, 1)]               0         \n",
            "_________________________________________________________________\n",
            "text_vectorization (TextVect (None, 30)                0         \n",
            "_________________________________________________________________\n",
            "embedding (Embedding)        (None, 30, 128)           1280000   \n",
            "_________________________________________________________________\n",
            "global_average_pooling1d (Gl (None, 128)               0         \n",
            "_________________________________________________________________\n",
            "dense (Dense)                (None, 64)                8256      \n",
            "_________________________________________________________________\n",
            "dense_1 (Dense)              (None, 1)                 65        \n",
            "=================================================================\n",
            "Total params: 1,288,321\n",
            "Trainable params: 1,288,321\n",
            "Non-trainable params: 0\n",
            "_________________________________________________________________\n"
          ],
          "name": "stdout"
        }
      ]
    },
    {
      "cell_type": "code",
      "metadata": {
        "colab": {
          "base_uri": "https://localhost:8080/"
        },
        "id": "2iQdBGZ-KokG",
        "outputId": "570bdbb1-d539-4e28-d087-b3c738bc558b"
      },
      "source": [
        "# Get the vocabulary from the text vectorization layer\n",
        "words_in_vocab = text_vect.get_vocabulary()\n",
        "len(words_in_vocab), words_in_vocab[:10]"
      ],
      "execution_count": 79,
      "outputs": [
        {
          "output_type": "execute_result",
          "data": {
            "text/plain": [
              "(10000, ['', '[UNK]', 'the', 'a', 'in', 'to', 'of', 'i', 'and', 'is'])"
            ]
          },
          "metadata": {
            "tags": []
          },
          "execution_count": 79
        }
      ]
    },
    {
      "cell_type": "code",
      "metadata": {
        "id": "-ESkM1CyJXxb"
      },
      "source": [
        "embed_weights = model_1_2.get_layer('embedding').get_weights()[0]"
      ],
      "execution_count": 80,
      "outputs": []
    },
    {
      "cell_type": "code",
      "metadata": {
        "colab": {
          "base_uri": "https://localhost:8080/"
        },
        "id": "5CzLW2QkJniS",
        "outputId": "9a8824e6-853d-4cb4-b575-7325f7eb57a6"
      },
      "source": [
        "embed_weights"
      ],
      "execution_count": 81,
      "outputs": [
        {
          "output_type": "execute_result",
          "data": {
            "text/plain": [
              "array([[ 0.01233912,  0.03900073,  0.05806856, ..., -0.02577858,\n",
              "        -0.02701732, -0.01796275],\n",
              "       [ 0.06134325,  0.04034111,  0.0358572 , ..., -0.04146698,\n",
              "        -0.05484757, -0.04007835],\n",
              "       [ 0.00741187,  0.03203287,  0.06169791, ...,  0.00595534,\n",
              "        -0.00440459, -0.00733156],\n",
              "       ...,\n",
              "       [-0.00473434,  0.1045973 ,  0.02941988, ...,  0.09403078,\n",
              "        -0.08225626,  0.050162  ],\n",
              "       [ 0.02406845,  0.06574939,  0.0609674 , ...,  0.06917383,\n",
              "        -0.00453942,  0.01093826],\n",
              "       [-0.03888237, -0.02557014, -0.07969251, ..., -0.02673701,\n",
              "        -0.03039045,  0.05830145]], dtype=float32)"
            ]
          },
          "metadata": {
            "tags": []
          },
          "execution_count": 81
        }
      ]
    },
    {
      "cell_type": "markdown",
      "metadata": {
        "id": "ueqvkq8gKa5-"
      },
      "source": [
        "Now we've got these two objects, we can use the Embedding Projector tool to visualize our embedding.\n",
        "\n",
        "To use the Embedding Projector tool, we need two files:\n",
        "- The embedding vectors (same as embedding weights).\n",
        "- The meta data of the embedding vectors (the words they represent - our vocabulary).\n",
        "\n",
        "Right now, we've got of these files as Python objects. To download them to file, we're going to use the code example available on the TensorFlow word embeddings tutorial page.\n",
        "\n",
        "https://www.tensorflow.org/tutorials/text/word_embeddings#retrieve_the_trained_word_embeddings_and_save_them_to_disk"
      ]
    },
    {
      "cell_type": "code",
      "metadata": {
        "id": "l3uiXwvjJpk7"
      },
      "source": [
        "import io\n",
        "out_v = io.open('vectors.tsv', 'w', encoding='utf-8')\n",
        "out_m = io.open('metadata.tsv', 'w', encoding='utf-8')\n",
        "\n",
        "for index, word in enumerate(words_in_vocab):\n",
        "  if index == 0:\n",
        "    continue  # skip 0, it's padding.\n",
        "  vec = embed_weights[index]\n",
        "  out_v.write('\\t'.join([str(x) for x in vec]) + \"\\n\")\n",
        "  out_m.write(word + \"\\n\")\n",
        "out_v.close()\n",
        "out_m.close()"
      ],
      "execution_count": 82,
      "outputs": []
    },
    {
      "cell_type": "code",
      "metadata": {
        "colab": {
          "base_uri": "https://localhost:8080/",
          "height": 81
        },
        "id": "yIHV7_yhL51j",
        "outputId": "b944b1ea-d3e4-470a-fe2b-10a23cc0b528"
      },
      "source": [
        "try:\n",
        "  from google.colab import files\n",
        "  files.download('vectors.tsv')\n",
        "  files.download('metadata.tsv')\n",
        "except Exception:\n",
        "  pass"
      ],
      "execution_count": 83,
      "outputs": [
        {
          "output_type": "display_data",
          "data": {
            "application/javascript": [
              "\n",
              "    async function download(id, filename, size) {\n",
              "      if (!google.colab.kernel.accessAllowed) {\n",
              "        return;\n",
              "      }\n",
              "      const div = document.createElement('div');\n",
              "      const label = document.createElement('label');\n",
              "      label.textContent = `Downloading \"${filename}\": `;\n",
              "      div.appendChild(label);\n",
              "      const progress = document.createElement('progress');\n",
              "      progress.max = size;\n",
              "      div.appendChild(progress);\n",
              "      document.body.appendChild(div);\n",
              "\n",
              "      const buffers = [];\n",
              "      let downloaded = 0;\n",
              "\n",
              "      const channel = await google.colab.kernel.comms.open(id);\n",
              "      // Send a message to notify the kernel that we're ready.\n",
              "      channel.send({})\n",
              "\n",
              "      for await (const message of channel.messages) {\n",
              "        // Send a message to notify the kernel that we're ready.\n",
              "        channel.send({})\n",
              "        if (message.buffers) {\n",
              "          for (const buffer of message.buffers) {\n",
              "            buffers.push(buffer);\n",
              "            downloaded += buffer.byteLength;\n",
              "            progress.value = downloaded;\n",
              "          }\n",
              "        }\n",
              "      }\n",
              "      const blob = new Blob(buffers, {type: 'application/binary'});\n",
              "      const a = document.createElement('a');\n",
              "      a.href = window.URL.createObjectURL(blob);\n",
              "      a.download = filename;\n",
              "      div.appendChild(a);\n",
              "      a.click();\n",
              "      div.remove();\n",
              "    }\n",
              "  "
            ],
            "text/plain": [
              "<IPython.core.display.Javascript object>"
            ]
          },
          "metadata": {
            "tags": []
          }
        },
        {
          "output_type": "display_data",
          "data": {
            "application/javascript": [
              "download(\"download_e01bf4d3-1b7a-4b95-9fa8-3e3d7ae041d9\", \"vectors.tsv\", 15462923)"
            ],
            "text/plain": [
              "<IPython.core.display.Javascript object>"
            ]
          },
          "metadata": {
            "tags": []
          }
        },
        {
          "output_type": "display_data",
          "data": {
            "application/javascript": [
              "\n",
              "    async function download(id, filename, size) {\n",
              "      if (!google.colab.kernel.accessAllowed) {\n",
              "        return;\n",
              "      }\n",
              "      const div = document.createElement('div');\n",
              "      const label = document.createElement('label');\n",
              "      label.textContent = `Downloading \"${filename}\": `;\n",
              "      div.appendChild(label);\n",
              "      const progress = document.createElement('progress');\n",
              "      progress.max = size;\n",
              "      div.appendChild(progress);\n",
              "      document.body.appendChild(div);\n",
              "\n",
              "      const buffers = [];\n",
              "      let downloaded = 0;\n",
              "\n",
              "      const channel = await google.colab.kernel.comms.open(id);\n",
              "      // Send a message to notify the kernel that we're ready.\n",
              "      channel.send({})\n",
              "\n",
              "      for await (const message of channel.messages) {\n",
              "        // Send a message to notify the kernel that we're ready.\n",
              "        channel.send({})\n",
              "        if (message.buffers) {\n",
              "          for (const buffer of message.buffers) {\n",
              "            buffers.push(buffer);\n",
              "            downloaded += buffer.byteLength;\n",
              "            progress.value = downloaded;\n",
              "          }\n",
              "        }\n",
              "      }\n",
              "      const blob = new Blob(buffers, {type: 'application/binary'});\n",
              "      const a = document.createElement('a');\n",
              "      a.href = window.URL.createObjectURL(blob);\n",
              "      a.download = filename;\n",
              "      div.appendChild(a);\n",
              "      a.click();\n",
              "      div.remove();\n",
              "    }\n",
              "  "
            ],
            "text/plain": [
              "<IPython.core.display.Javascript object>"
            ]
          },
          "metadata": {
            "tags": []
          }
        },
        {
          "output_type": "display_data",
          "data": {
            "application/javascript": [
              "download(\"download_ab991b93-ac52-494d-8da9-4978ea2c911a\", \"metadata.tsv\", 77832)"
            ],
            "text/plain": [
              "<IPython.core.display.Javascript object>"
            ]
          },
          "metadata": {
            "tags": []
          }
        }
      ]
    },
    {
      "cell_type": "markdown",
      "metadata": {
        "id": "bgBWFcL5Y8fr"
      },
      "source": [
        "## Recurrent Neural Networks\n",
        "\n",
        "The premise of an RNN is simple: use information from the past to help you with the future (this is where the term recurrent comes from). In other words, take an input (X) and compute an output (y) based on all previous inputs.\n",
        "\n",
        "This concept is especially helpful when dealing with sequences such as passages of natural language text (such as our Tweets).\n",
        "For example, when you read this sentence, you take into context the previous words when deciphering the meaning of the current word.\n",
        "\n",
        "When an RNN looks at a sequence of text (already in numerical form), the patterns it learns are continually updated based on the order of the sequence.\n",
        "\n",
        "For a simple example, take two sentences:\n",
        "Massive earthquake last week, no?\n",
        "No massive earthquake last week.\n",
        "Both contain exactly the same words but have different meaning. The order of the words determines the meaning (one could argue punctuation marks also dictate the meaning but for simplicity sake, let's stay focused on the words).\n",
        "\n",
        "Recurrent neural networks can be used for a number of sequence-based problems:\n",
        "- One to one: one input, one output, such as image classification.\n",
        "- One to many: one input, many outputs, such as image captioning (image input, a sequence of text as caption output).\n",
        "- Many to one: many inputs, one outputs, such as text classification (classifying a Tweet as real diaster or not real diaster).\n",
        "- Many to many: many inputs, many outputs, such as machine translation (translating English to Spanish) or speech to text (audio wave as input, text as output).\n",
        "\n",
        "When you come across RNN's in the wild, you'll most likely come across variants of the following:\n",
        "- Long short-term memory cells (LSTMs).\n",
        "- Gated recurrent units (GRUs).\n",
        "- Bidirectional RNN's (passes forward and backward along a sequence, left to right and right to left)."
      ]
    },
    {
      "cell_type": "markdown",
      "metadata": {
        "id": "zxXfbuLvdiNp"
      },
      "source": [
        "### Model2 LSTM\n",
        "`Input (text) -> Tokenize -> Embedding -> Layers -> Output (label probability)\n",
        "`"
      ]
    },
    {
      "cell_type": "code",
      "metadata": {
        "id": "g-0rHmoId5eS"
      },
      "source": [
        "K.clear_session()"
      ],
      "execution_count": 84,
      "outputs": []
    },
    {
      "cell_type": "code",
      "metadata": {
        "id": "5NNaKIDlMKwK"
      },
      "source": [
        "inputs = Input(shape = (1,), dtype = tf.string)\n",
        "x = text_vect(inputs)\n",
        "x = embedding(x)\n",
        "x = LSTM(units = 64, return_sequences=True)(x)\n",
        "x = LSTM(64)(x)\n",
        "x = Dense(64, activation='relu')(x)\n",
        "outputs = Dense(1, activation='sigmoid')(x)"
      ],
      "execution_count": 85,
      "outputs": []
    },
    {
      "cell_type": "code",
      "metadata": {
        "id": "dUHHEPZQfxXZ"
      },
      "source": [
        "model_2 = Model(inputs, outputs)"
      ],
      "execution_count": 86,
      "outputs": []
    },
    {
      "cell_type": "code",
      "metadata": {
        "id": "z0XU_awOf2Iy"
      },
      "source": [
        "model_2.compile(optimizer='adam', metrics='accuracy', loss = 'binary_crossentropy')"
      ],
      "execution_count": 87,
      "outputs": []
    },
    {
      "cell_type": "code",
      "metadata": {
        "colab": {
          "base_uri": "https://localhost:8080/"
        },
        "id": "lnIQYDTRgHFj",
        "outputId": "033f0590-d0a5-4f79-bb51-1726246e4daf"
      },
      "source": [
        "model_2.summary()"
      ],
      "execution_count": 88,
      "outputs": [
        {
          "output_type": "stream",
          "text": [
            "Model: \"model\"\n",
            "_________________________________________________________________\n",
            "Layer (type)                 Output Shape              Param #   \n",
            "=================================================================\n",
            "input_1 (InputLayer)         [(None, 1)]               0         \n",
            "_________________________________________________________________\n",
            "text_vectorization (TextVect (None, 30)                0         \n",
            "_________________________________________________________________\n",
            "embedding (Embedding)        (None, 30, 128)           1280000   \n",
            "_________________________________________________________________\n",
            "lstm (LSTM)                  (None, 30, 64)            49408     \n",
            "_________________________________________________________________\n",
            "lstm_1 (LSTM)                (None, 64)                33024     \n",
            "_________________________________________________________________\n",
            "dense (Dense)                (None, 64)                4160      \n",
            "_________________________________________________________________\n",
            "dense_1 (Dense)              (None, 1)                 65        \n",
            "=================================================================\n",
            "Total params: 1,366,657\n",
            "Trainable params: 1,366,657\n",
            "Non-trainable params: 0\n",
            "_________________________________________________________________\n"
          ],
          "name": "stdout"
        }
      ]
    },
    {
      "cell_type": "code",
      "metadata": {
        "colab": {
          "base_uri": "https://localhost:8080/"
        },
        "id": "WknKG5iegJDO",
        "outputId": "3556c636-dbb5-4da9-b770-286009e7977c"
      },
      "source": [
        "history_2 = model_2.fit(tf.constant(X_train), y_train,\n",
        "                        epochs = 5,\n",
        "                        validation_data = (tf.constant(X_val), y_val),\n",
        "                        callbacks = create_tf_board_callback(DIR, 'model_2'))"
      ],
      "execution_count": 89,
      "outputs": [
        {
          "output_type": "stream",
          "text": [
            "Saving TensorBoard log files to model_logs/model_2/20210718-144448\n",
            "Epoch 1/5\n",
            "215/215 [==============================] - 12s 26ms/step - loss: 0.2262 - accuracy: 0.9275 - val_loss: 0.6091 - val_accuracy: 0.7598\n",
            "Epoch 2/5\n",
            "215/215 [==============================] - 4s 19ms/step - loss: 0.1214 - accuracy: 0.9580 - val_loss: 0.7968 - val_accuracy: 0.7756\n",
            "Epoch 3/5\n",
            "215/215 [==============================] - 4s 19ms/step - loss: 0.1023 - accuracy: 0.9623 - val_loss: 1.1660 - val_accuracy: 0.7625\n",
            "Epoch 4/5\n",
            "215/215 [==============================] - 4s 19ms/step - loss: 0.0852 - accuracy: 0.9679 - val_loss: 1.0869 - val_accuracy: 0.7612\n",
            "Epoch 5/5\n",
            "215/215 [==============================] - 4s 19ms/step - loss: 0.0792 - accuracy: 0.9685 - val_loss: 1.0249 - val_accuracy: 0.7585\n"
          ],
          "name": "stdout"
        }
      ]
    },
    {
      "cell_type": "code",
      "metadata": {
        "id": "b8yRYUNtkplC"
      },
      "source": [
        "prob_2 = model_2.predict(tf.constant(X_val))"
      ],
      "execution_count": 90,
      "outputs": []
    },
    {
      "cell_type": "code",
      "metadata": {
        "colab": {
          "base_uri": "https://localhost:8080/"
        },
        "id": "rCxFF8idkplE",
        "outputId": "4f789f40-d954-4112-8e21-6609049a2559"
      },
      "source": [
        "prob_2.shape"
      ],
      "execution_count": 91,
      "outputs": [
        {
          "output_type": "execute_result",
          "data": {
            "text/plain": [
              "(762, 1)"
            ]
          },
          "metadata": {
            "tags": []
          },
          "execution_count": 91
        }
      ]
    },
    {
      "cell_type": "code",
      "metadata": {
        "id": "5RfCzyJmkplF"
      },
      "source": [
        "pred_2 = np.round(prob_2).flatten()"
      ],
      "execution_count": 92,
      "outputs": []
    },
    {
      "cell_type": "code",
      "metadata": {
        "colab": {
          "base_uri": "https://localhost:8080/"
        },
        "id": "rBC64gD7kplG",
        "outputId": "8df40b53-9fa2-41d7-a155-6126170ed395"
      },
      "source": [
        "pred_2[:10], y_val[:10]"
      ],
      "execution_count": 93,
      "outputs": [
        {
          "output_type": "execute_result",
          "data": {
            "text/plain": [
              "(array([0., 0., 1., 0., 0., 1., 1., 1., 1., 1.], dtype=float32),\n",
              " array([0, 0, 1, 1, 1, 1, 1, 1, 1, 0]))"
            ]
          },
          "metadata": {
            "tags": []
          },
          "execution_count": 93
        }
      ]
    },
    {
      "cell_type": "code",
      "metadata": {
        "id": "JjRi6Pp6kplG"
      },
      "source": [
        "write_result(pred_2, 'LSTM_model_2')"
      ],
      "execution_count": 94,
      "outputs": []
    },
    {
      "cell_type": "code",
      "metadata": {
        "colab": {
          "base_uri": "https://localhost:8080/",
          "height": 191
        },
        "id": "9EKNrfUPkplH",
        "outputId": "af6f1ba8-659e-48a3-b9be-53bd19137e29"
      },
      "source": [
        "results_df"
      ],
      "execution_count": 95,
      "outputs": [
        {
          "output_type": "execute_result",
          "data": {
            "text/html": [
              "<div>\n",
              "<style scoped>\n",
              "    .dataframe tbody tr th:only-of-type {\n",
              "        vertical-align: middle;\n",
              "    }\n",
              "\n",
              "    .dataframe tbody tr th {\n",
              "        vertical-align: top;\n",
              "    }\n",
              "\n",
              "    .dataframe thead th {\n",
              "        text-align: right;\n",
              "    }\n",
              "</style>\n",
              "<table border=\"1\" class=\"dataframe\">\n",
              "  <thead>\n",
              "    <tr style=\"text-align: right;\">\n",
              "      <th></th>\n",
              "      <th>num_experiment</th>\n",
              "      <th>model_name</th>\n",
              "      <th>accuracy_score</th>\n",
              "      <th>precision</th>\n",
              "      <th>racall</th>\n",
              "      <th>f-1_score</th>\n",
              "    </tr>\n",
              "  </thead>\n",
              "  <tbody>\n",
              "    <tr>\n",
              "      <th>0</th>\n",
              "      <td>0</td>\n",
              "      <td>base_naive_bayes</td>\n",
              "      <td>0.796588</td>\n",
              "      <td>0.884462</td>\n",
              "      <td>0.637931</td>\n",
              "      <td>0.741235</td>\n",
              "    </tr>\n",
              "    <tr>\n",
              "      <th>1</th>\n",
              "      <td>1</td>\n",
              "      <td>base_dense_model_1</td>\n",
              "      <td>0.753281</td>\n",
              "      <td>0.779720</td>\n",
              "      <td>0.640805</td>\n",
              "      <td>0.703470</td>\n",
              "    </tr>\n",
              "    <tr>\n",
              "      <th>2</th>\n",
              "      <td>2</td>\n",
              "      <td>simple_dense_model_1_2</td>\n",
              "      <td>0.770341</td>\n",
              "      <td>0.797251</td>\n",
              "      <td>0.666667</td>\n",
              "      <td>0.726135</td>\n",
              "    </tr>\n",
              "    <tr>\n",
              "      <th>3</th>\n",
              "      <td>3</td>\n",
              "      <td>LSTM_model_2</td>\n",
              "      <td>0.758530</td>\n",
              "      <td>0.757862</td>\n",
              "      <td>0.692529</td>\n",
              "      <td>0.723724</td>\n",
              "    </tr>\n",
              "  </tbody>\n",
              "</table>\n",
              "</div>"
            ],
            "text/plain": [
              "  num_experiment              model_name  ...    racall  f-1_score\n",
              "0              0        base_naive_bayes  ...  0.637931   0.741235\n",
              "1              1      base_dense_model_1  ...  0.640805   0.703470\n",
              "2              2  simple_dense_model_1_2  ...  0.666667   0.726135\n",
              "3              3            LSTM_model_2  ...  0.692529   0.723724\n",
              "\n",
              "[4 rows x 6 columns]"
            ]
          },
          "metadata": {
            "tags": []
          },
          "execution_count": 95
        }
      ]
    },
    {
      "cell_type": "code",
      "metadata": {
        "colab": {
          "base_uri": "https://localhost:8080/"
        },
        "id": "ojs8UJBzFN4q",
        "outputId": "a4a101d0-4193-4843-a8df-695dd55de539"
      },
      "source": [
        "model2_conf_matr = confusion_matrix(y_val, pred_2)\n",
        "model2_conf_matr"
      ],
      "execution_count": 96,
      "outputs": [
        {
          "output_type": "execute_result",
          "data": {
            "text/plain": [
              "array([[337,  77],\n",
              "       [107, 241]])"
            ]
          },
          "metadata": {
            "tags": []
          },
          "execution_count": 96
        }
      ]
    },
    {
      "cell_type": "code",
      "metadata": {
        "colab": {
          "base_uri": "https://localhost:8080/"
        },
        "id": "iLNZVeoHFYQ9",
        "outputId": "20d68627-0509-4dc1-8669-a573723fd712"
      },
      "source": [
        "base_conf_matr"
      ],
      "execution_count": 97,
      "outputs": [
        {
          "output_type": "execute_result",
          "data": {
            "text/plain": [
              "array([[385,  29],\n",
              "       [126, 222]])"
            ]
          },
          "metadata": {
            "tags": []
          },
          "execution_count": 97
        }
      ]
    },
    {
      "cell_type": "markdown",
      "metadata": {
        "id": "oUHwFSs3oNdR"
      },
      "source": [
        "### Model3 GRU\n",
        "The GRU cell has similar features to an LSTM cell but has less parameters.\n"
      ]
    },
    {
      "cell_type": "code",
      "metadata": {
        "id": "l--zPUewk5xi"
      },
      "source": [
        "inputs = Input(shape = (1,), dtype = 'string')\n",
        "x = text_vect(inputs)\n",
        "x = embedding(x)\n",
        "x = GRU(64, return_sequences=True)(x)\n",
        "x = LSTM(64, return_sequences = True)(x)\n",
        "x = GRU(64)(x)\n",
        "x = Dense(64, activation='relu')(x)\n",
        "outputs = Dense(1, activation='sigmoid')(x)"
      ],
      "execution_count": 98,
      "outputs": []
    },
    {
      "cell_type": "code",
      "metadata": {
        "id": "4Eb6_MlDpfV_"
      },
      "source": [
        "model_3 = Model(inputs, outputs)"
      ],
      "execution_count": 99,
      "outputs": []
    },
    {
      "cell_type": "code",
      "metadata": {
        "colab": {
          "base_uri": "https://localhost:8080/"
        },
        "id": "opHKKJJMptKY",
        "outputId": "c28dc04c-3c48-44b3-b7e8-ebcbe69cf8fe"
      },
      "source": [
        "model_3.compile(optimizer='adam', metrics='accuracy', loss = 'binary_crossentropy')\n",
        "model_3.summary()"
      ],
      "execution_count": 100,
      "outputs": [
        {
          "output_type": "stream",
          "text": [
            "Model: \"model_1\"\n",
            "_________________________________________________________________\n",
            "Layer (type)                 Output Shape              Param #   \n",
            "=================================================================\n",
            "input_2 (InputLayer)         [(None, 1)]               0         \n",
            "_________________________________________________________________\n",
            "text_vectorization (TextVect (None, 30)                0         \n",
            "_________________________________________________________________\n",
            "embedding (Embedding)        (None, 30, 128)           1280000   \n",
            "_________________________________________________________________\n",
            "gru (GRU)                    (None, 30, 64)            37248     \n",
            "_________________________________________________________________\n",
            "lstm_2 (LSTM)                (None, 30, 64)            33024     \n",
            "_________________________________________________________________\n",
            "gru_1 (GRU)                  (None, 64)                24960     \n",
            "_________________________________________________________________\n",
            "dense_2 (Dense)              (None, 64)                4160      \n",
            "_________________________________________________________________\n",
            "dense_3 (Dense)              (None, 1)                 65        \n",
            "=================================================================\n",
            "Total params: 1,379,457\n",
            "Trainable params: 1,379,457\n",
            "Non-trainable params: 0\n",
            "_________________________________________________________________\n"
          ],
          "name": "stdout"
        }
      ]
    },
    {
      "cell_type": "code",
      "metadata": {
        "colab": {
          "base_uri": "https://localhost:8080/"
        },
        "id": "7kxFqq2kp3yN",
        "outputId": "4b853990-b14f-4170-8716-0651438cf780"
      },
      "source": [
        "history_3 = model_3.fit(tf.constant(X_train), y_train, epochs = 5,\n",
        "                        validation_data = (tf.constant(X_val), y_val),\n",
        "                        callbacks = create_tf_board_callback(DIR, 'model_3'))"
      ],
      "execution_count": 101,
      "outputs": [
        {
          "output_type": "stream",
          "text": [
            "Saving TensorBoard log files to model_logs/model_3/20210718-144518\n",
            "Epoch 1/5\n",
            "215/215 [==============================] - 10s 28ms/step - loss: 0.1715 - accuracy: 0.9285 - val_loss: 0.8422 - val_accuracy: 0.7703\n",
            "Epoch 2/5\n",
            "215/215 [==============================] - 5s 21ms/step - loss: 0.0860 - accuracy: 0.9693 - val_loss: 1.1354 - val_accuracy: 0.7349\n",
            "Epoch 3/5\n",
            "215/215 [==============================] - 5s 21ms/step - loss: 0.0790 - accuracy: 0.9708 - val_loss: 0.9097 - val_accuracy: 0.7625\n",
            "Epoch 4/5\n",
            "215/215 [==============================] - 5s 21ms/step - loss: 0.0730 - accuracy: 0.9691 - val_loss: 1.0331 - val_accuracy: 0.7598\n",
            "Epoch 5/5\n",
            "215/215 [==============================] - 5s 22ms/step - loss: 0.0655 - accuracy: 0.9714 - val_loss: 1.3344 - val_accuracy: 0.7572\n"
          ],
          "name": "stdout"
        }
      ]
    },
    {
      "cell_type": "code",
      "metadata": {
        "id": "CX8hkHn7qc9G"
      },
      "source": [
        "prob_3 = model_3.predict(tf.constant(X_val))"
      ],
      "execution_count": 102,
      "outputs": []
    },
    {
      "cell_type": "code",
      "metadata": {
        "colab": {
          "base_uri": "https://localhost:8080/"
        },
        "id": "3_oBHjV1qc9H",
        "outputId": "c3b636de-f95f-41de-c6cc-62033647ad85"
      },
      "source": [
        "prob_3.shape"
      ],
      "execution_count": 103,
      "outputs": [
        {
          "output_type": "execute_result",
          "data": {
            "text/plain": [
              "(762, 1)"
            ]
          },
          "metadata": {
            "tags": []
          },
          "execution_count": 103
        }
      ]
    },
    {
      "cell_type": "code",
      "metadata": {
        "id": "dH0I1tmsqc9I"
      },
      "source": [
        "pred_3 = np.round(prob_3).flatten()"
      ],
      "execution_count": 104,
      "outputs": []
    },
    {
      "cell_type": "code",
      "metadata": {
        "colab": {
          "base_uri": "https://localhost:8080/"
        },
        "id": "V5QE8PD3qc9J",
        "outputId": "b21f8918-645c-4aee-aab5-4d5bd9547f37"
      },
      "source": [
        "pred_3[:10], y_val[:10]"
      ],
      "execution_count": 105,
      "outputs": [
        {
          "output_type": "execute_result",
          "data": {
            "text/plain": [
              "(array([0., 0., 1., 0., 0., 1., 1., 1., 1., 1.], dtype=float32),\n",
              " array([0, 0, 1, 1, 1, 1, 1, 1, 1, 0]))"
            ]
          },
          "metadata": {
            "tags": []
          },
          "execution_count": 105
        }
      ]
    },
    {
      "cell_type": "code",
      "metadata": {
        "id": "3KbKMKcKqc9J"
      },
      "source": [
        "write_result(pred_3, 'GRU_model_3')"
      ],
      "execution_count": 106,
      "outputs": []
    },
    {
      "cell_type": "code",
      "metadata": {
        "colab": {
          "base_uri": "https://localhost:8080/",
          "height": 221
        },
        "id": "LMBqpb56qc9K",
        "outputId": "84368964-6ebf-42b0-adad-90ffd0297417"
      },
      "source": [
        "results_df"
      ],
      "execution_count": 107,
      "outputs": [
        {
          "output_type": "execute_result",
          "data": {
            "text/html": [
              "<div>\n",
              "<style scoped>\n",
              "    .dataframe tbody tr th:only-of-type {\n",
              "        vertical-align: middle;\n",
              "    }\n",
              "\n",
              "    .dataframe tbody tr th {\n",
              "        vertical-align: top;\n",
              "    }\n",
              "\n",
              "    .dataframe thead th {\n",
              "        text-align: right;\n",
              "    }\n",
              "</style>\n",
              "<table border=\"1\" class=\"dataframe\">\n",
              "  <thead>\n",
              "    <tr style=\"text-align: right;\">\n",
              "      <th></th>\n",
              "      <th>num_experiment</th>\n",
              "      <th>model_name</th>\n",
              "      <th>accuracy_score</th>\n",
              "      <th>precision</th>\n",
              "      <th>racall</th>\n",
              "      <th>f-1_score</th>\n",
              "    </tr>\n",
              "  </thead>\n",
              "  <tbody>\n",
              "    <tr>\n",
              "      <th>0</th>\n",
              "      <td>0</td>\n",
              "      <td>base_naive_bayes</td>\n",
              "      <td>0.796588</td>\n",
              "      <td>0.884462</td>\n",
              "      <td>0.637931</td>\n",
              "      <td>0.741235</td>\n",
              "    </tr>\n",
              "    <tr>\n",
              "      <th>1</th>\n",
              "      <td>1</td>\n",
              "      <td>base_dense_model_1</td>\n",
              "      <td>0.753281</td>\n",
              "      <td>0.779720</td>\n",
              "      <td>0.640805</td>\n",
              "      <td>0.703470</td>\n",
              "    </tr>\n",
              "    <tr>\n",
              "      <th>2</th>\n",
              "      <td>2</td>\n",
              "      <td>simple_dense_model_1_2</td>\n",
              "      <td>0.770341</td>\n",
              "      <td>0.797251</td>\n",
              "      <td>0.666667</td>\n",
              "      <td>0.726135</td>\n",
              "    </tr>\n",
              "    <tr>\n",
              "      <th>3</th>\n",
              "      <td>3</td>\n",
              "      <td>LSTM_model_2</td>\n",
              "      <td>0.758530</td>\n",
              "      <td>0.757862</td>\n",
              "      <td>0.692529</td>\n",
              "      <td>0.723724</td>\n",
              "    </tr>\n",
              "    <tr>\n",
              "      <th>4</th>\n",
              "      <td>4</td>\n",
              "      <td>GRU_model_3</td>\n",
              "      <td>0.757218</td>\n",
              "      <td>0.765472</td>\n",
              "      <td>0.675287</td>\n",
              "      <td>0.717557</td>\n",
              "    </tr>\n",
              "  </tbody>\n",
              "</table>\n",
              "</div>"
            ],
            "text/plain": [
              "  num_experiment              model_name  ...    racall  f-1_score\n",
              "0              0        base_naive_bayes  ...  0.637931   0.741235\n",
              "1              1      base_dense_model_1  ...  0.640805   0.703470\n",
              "2              2  simple_dense_model_1_2  ...  0.666667   0.726135\n",
              "3              3            LSTM_model_2  ...  0.692529   0.723724\n",
              "4              4             GRU_model_3  ...  0.675287   0.717557\n",
              "\n",
              "[5 rows x 6 columns]"
            ]
          },
          "metadata": {
            "tags": []
          },
          "execution_count": 107
        }
      ]
    },
    {
      "cell_type": "code",
      "metadata": {
        "colab": {
          "base_uri": "https://localhost:8080/"
        },
        "id": "RciQIsHYFkKd",
        "outputId": "964a7497-89cf-4c84-cde5-81b561e7a7b8"
      },
      "source": [
        "model3_conf_matr = confusion_matrix(y_val, pred_3)\n",
        "model3_conf_matr"
      ],
      "execution_count": 108,
      "outputs": [
        {
          "output_type": "execute_result",
          "data": {
            "text/plain": [
              "array([[342,  72],\n",
              "       [113, 235]])"
            ]
          },
          "metadata": {
            "tags": []
          },
          "execution_count": 108
        }
      ]
    },
    {
      "cell_type": "code",
      "metadata": {
        "colab": {
          "base_uri": "https://localhost:8080/"
        },
        "id": "2JTCHXZzFoVx",
        "outputId": "afb29543-3d9c-4f9f-91a4-7c6f41cebe6c"
      },
      "source": [
        "base_conf_matr"
      ],
      "execution_count": 109,
      "outputs": [
        {
          "output_type": "execute_result",
          "data": {
            "text/plain": [
              "array([[385,  29],\n",
              "       [126, 222]])"
            ]
          },
          "metadata": {
            "tags": []
          },
          "execution_count": 109
        }
      ]
    },
    {
      "cell_type": "markdown",
      "metadata": {
        "id": "-g8q1b_AtPXd"
      },
      "source": [
        "### Model4 Bidirectional LSTM(RNN)\n",
        "\n",
        "A standard RNN will process a sequence from left to right, where as a bidirectional RNN will process the sequence from left to right and then again from right to left."
      ]
    },
    {
      "cell_type": "code",
      "metadata": {
        "id": "rOEdg5QSq76o"
      },
      "source": [
        "inputs = Input(shape = (1,), dtype='string')\n",
        "x = text_vect(inputs)\n",
        "x = embedding(x)\n",
        "x = Bidirectional(LSTM(64, return_sequences = True))(x)\n",
        "x = Bidirectional(GRU(64))(x)\n",
        "x = Dense(64)(x)\n",
        "outputs = Dense(1, activation='sigmoid')(x)"
      ],
      "execution_count": 110,
      "outputs": []
    },
    {
      "cell_type": "code",
      "metadata": {
        "id": "XTjDRxdvAT4B"
      },
      "source": [
        "model_4 = Model(inputs, outputs)"
      ],
      "execution_count": 111,
      "outputs": []
    },
    {
      "cell_type": "code",
      "metadata": {
        "id": "KOTKg7URCF-P"
      },
      "source": [
        "model_4.compile(optimizer='adam', metrics='accuracy', loss = 'binary_crossentropy')\n"
      ],
      "execution_count": 112,
      "outputs": []
    },
    {
      "cell_type": "code",
      "metadata": {
        "colab": {
          "base_uri": "https://localhost:8080/"
        },
        "id": "Ss8sguf-GVkX",
        "outputId": "cc853b75-1fb3-4fae-c3a3-4536ec2ca1c8"
      },
      "source": [
        "model_4.summary()"
      ],
      "execution_count": 113,
      "outputs": [
        {
          "output_type": "stream",
          "text": [
            "Model: \"model_2\"\n",
            "_________________________________________________________________\n",
            "Layer (type)                 Output Shape              Param #   \n",
            "=================================================================\n",
            "input_3 (InputLayer)         [(None, 1)]               0         \n",
            "_________________________________________________________________\n",
            "text_vectorization (TextVect (None, 30)                0         \n",
            "_________________________________________________________________\n",
            "embedding (Embedding)        (None, 30, 128)           1280000   \n",
            "_________________________________________________________________\n",
            "bidirectional (Bidirectional (None, 30, 128)           98816     \n",
            "_________________________________________________________________\n",
            "bidirectional_1 (Bidirection (None, 128)               74496     \n",
            "_________________________________________________________________\n",
            "dense_4 (Dense)              (None, 64)                8256      \n",
            "_________________________________________________________________\n",
            "dense_5 (Dense)              (None, 1)                 65        \n",
            "=================================================================\n",
            "Total params: 1,461,633\n",
            "Trainable params: 1,461,633\n",
            "Non-trainable params: 0\n",
            "_________________________________________________________________\n"
          ],
          "name": "stdout"
        }
      ]
    },
    {
      "cell_type": "code",
      "metadata": {
        "colab": {
          "base_uri": "https://localhost:8080/"
        },
        "id": "BdlGM5GiFZes",
        "outputId": "aa46bc44-7486-4c7d-f5c0-5d4efa68a812"
      },
      "source": [
        "history_4 = model_4.fit(tf.constant(X_train), y_train, epochs = 5,\n",
        "                        validation_data = (tf.constant(X_val), y_val),\n",
        "                        callbacks = create_tf_board_callback(DIR, 'model_4'))"
      ],
      "execution_count": 114,
      "outputs": [
        {
          "output_type": "stream",
          "text": [
            "Saving TensorBoard log files to model_logs/model_4/20210718-144548\n",
            "Epoch 1/5\n",
            "215/215 [==============================] - 12s 32ms/step - loss: 0.1063 - accuracy: 0.9641 - val_loss: 0.9612 - val_accuracy: 0.7546\n",
            "Epoch 2/5\n",
            "215/215 [==============================] - 5s 24ms/step - loss: 0.0688 - accuracy: 0.9702 - val_loss: 1.3412 - val_accuracy: 0.7507\n",
            "Epoch 3/5\n",
            "215/215 [==============================] - 5s 23ms/step - loss: 0.0647 - accuracy: 0.9711 - val_loss: 1.5159 - val_accuracy: 0.7717\n",
            "Epoch 4/5\n",
            "215/215 [==============================] - 5s 23ms/step - loss: 0.0540 - accuracy: 0.9742 - val_loss: 1.6714 - val_accuracy: 0.7559\n",
            "Epoch 5/5\n",
            "215/215 [==============================] - 5s 23ms/step - loss: 0.0478 - accuracy: 0.9756 - val_loss: 1.7459 - val_accuracy: 0.7533\n"
          ],
          "name": "stdout"
        }
      ]
    },
    {
      "cell_type": "code",
      "metadata": {
        "id": "XAl6trHNWPAV"
      },
      "source": [
        "prob_4 = model_4.predict(tf.constant(X_val))"
      ],
      "execution_count": 115,
      "outputs": []
    },
    {
      "cell_type": "code",
      "metadata": {
        "id": "yg7JENfmWWVp"
      },
      "source": [
        "pred_4 = np.round(prob_4).flatten()"
      ],
      "execution_count": 116,
      "outputs": []
    },
    {
      "cell_type": "code",
      "metadata": {
        "id": "GSVgBM9SWaqX"
      },
      "source": [
        "write_result(pred_4, 'Bidirectional_model_4')"
      ],
      "execution_count": 117,
      "outputs": []
    },
    {
      "cell_type": "code",
      "metadata": {
        "colab": {
          "base_uri": "https://localhost:8080/",
          "height": 252
        },
        "id": "15Zk5fZ1WiJ3",
        "outputId": "0a7758b2-99f6-4e26-fb03-a0e257faa819"
      },
      "source": [
        "results_df"
      ],
      "execution_count": 118,
      "outputs": [
        {
          "output_type": "execute_result",
          "data": {
            "text/html": [
              "<div>\n",
              "<style scoped>\n",
              "    .dataframe tbody tr th:only-of-type {\n",
              "        vertical-align: middle;\n",
              "    }\n",
              "\n",
              "    .dataframe tbody tr th {\n",
              "        vertical-align: top;\n",
              "    }\n",
              "\n",
              "    .dataframe thead th {\n",
              "        text-align: right;\n",
              "    }\n",
              "</style>\n",
              "<table border=\"1\" class=\"dataframe\">\n",
              "  <thead>\n",
              "    <tr style=\"text-align: right;\">\n",
              "      <th></th>\n",
              "      <th>num_experiment</th>\n",
              "      <th>model_name</th>\n",
              "      <th>accuracy_score</th>\n",
              "      <th>precision</th>\n",
              "      <th>racall</th>\n",
              "      <th>f-1_score</th>\n",
              "    </tr>\n",
              "  </thead>\n",
              "  <tbody>\n",
              "    <tr>\n",
              "      <th>0</th>\n",
              "      <td>0</td>\n",
              "      <td>base_naive_bayes</td>\n",
              "      <td>0.796588</td>\n",
              "      <td>0.884462</td>\n",
              "      <td>0.637931</td>\n",
              "      <td>0.741235</td>\n",
              "    </tr>\n",
              "    <tr>\n",
              "      <th>1</th>\n",
              "      <td>1</td>\n",
              "      <td>base_dense_model_1</td>\n",
              "      <td>0.753281</td>\n",
              "      <td>0.779720</td>\n",
              "      <td>0.640805</td>\n",
              "      <td>0.703470</td>\n",
              "    </tr>\n",
              "    <tr>\n",
              "      <th>2</th>\n",
              "      <td>2</td>\n",
              "      <td>simple_dense_model_1_2</td>\n",
              "      <td>0.770341</td>\n",
              "      <td>0.797251</td>\n",
              "      <td>0.666667</td>\n",
              "      <td>0.726135</td>\n",
              "    </tr>\n",
              "    <tr>\n",
              "      <th>3</th>\n",
              "      <td>3</td>\n",
              "      <td>LSTM_model_2</td>\n",
              "      <td>0.758530</td>\n",
              "      <td>0.757862</td>\n",
              "      <td>0.692529</td>\n",
              "      <td>0.723724</td>\n",
              "    </tr>\n",
              "    <tr>\n",
              "      <th>4</th>\n",
              "      <td>4</td>\n",
              "      <td>GRU_model_3</td>\n",
              "      <td>0.757218</td>\n",
              "      <td>0.765472</td>\n",
              "      <td>0.675287</td>\n",
              "      <td>0.717557</td>\n",
              "    </tr>\n",
              "    <tr>\n",
              "      <th>5</th>\n",
              "      <td>5</td>\n",
              "      <td>Bidirectional_model_4</td>\n",
              "      <td>0.753281</td>\n",
              "      <td>0.772109</td>\n",
              "      <td>0.652299</td>\n",
              "      <td>0.707165</td>\n",
              "    </tr>\n",
              "  </tbody>\n",
              "</table>\n",
              "</div>"
            ],
            "text/plain": [
              "  num_experiment              model_name  ...    racall  f-1_score\n",
              "0              0        base_naive_bayes  ...  0.637931   0.741235\n",
              "1              1      base_dense_model_1  ...  0.640805   0.703470\n",
              "2              2  simple_dense_model_1_2  ...  0.666667   0.726135\n",
              "3              3            LSTM_model_2  ...  0.692529   0.723724\n",
              "4              4             GRU_model_3  ...  0.675287   0.717557\n",
              "5              5   Bidirectional_model_4  ...  0.652299   0.707165\n",
              "\n",
              "[6 rows x 6 columns]"
            ]
          },
          "metadata": {
            "tags": []
          },
          "execution_count": 118
        }
      ]
    },
    {
      "cell_type": "code",
      "metadata": {
        "colab": {
          "base_uri": "https://localhost:8080/"
        },
        "id": "6wFa3VKxHLt4",
        "outputId": "f646f888-d770-43a5-e5e2-5668027d5707"
      },
      "source": [
        "model4_conf_matr = confusion_matrix(y_val, pred_4)\n",
        "model4_conf_matr"
      ],
      "execution_count": 119,
      "outputs": [
        {
          "output_type": "execute_result",
          "data": {
            "text/plain": [
              "array([[347,  67],\n",
              "       [121, 227]])"
            ]
          },
          "metadata": {
            "tags": []
          },
          "execution_count": 119
        }
      ]
    },
    {
      "cell_type": "code",
      "metadata": {
        "id": "bGlvVrh2XrDB",
        "colab": {
          "base_uri": "https://localhost:8080/"
        },
        "outputId": "f501b81c-f736-42b9-f8ad-30fc6f552791"
      },
      "source": [
        "base_conf_matr"
      ],
      "execution_count": 120,
      "outputs": [
        {
          "output_type": "execute_result",
          "data": {
            "text/plain": [
              "array([[385,  29],\n",
              "       [126, 222]])"
            ]
          },
          "metadata": {
            "tags": []
          },
          "execution_count": 120
        }
      ]
    },
    {
      "cell_type": "markdown",
      "metadata": {
        "id": "tiZtEl8WLYw3"
      },
      "source": [
        "### Model 5 1D Convolutional Neural Network"
      ]
    },
    {
      "cell_type": "code",
      "metadata": {
        "id": "UmqY-ka0HhdP"
      },
      "source": [
        "K.clear_session()"
      ],
      "execution_count": 121,
      "outputs": []
    },
    {
      "cell_type": "code",
      "metadata": {
        "id": "t7d7hM84LxQb"
      },
      "source": [
        "inputs = Input((1,), dtype = 'string')\n",
        "x = text_vect(inputs)\n",
        "x = embedding(x)\n",
        "x = Conv1D(32, 3, activation='relu')(x)\n",
        "x = GlobalAveragePooling1D()(x)\n",
        "x = Dense(64, activation='relu')(x)\n",
        "outputs = Dense(1, activation= 'sigmoid')(x)"
      ],
      "execution_count": 122,
      "outputs": []
    },
    {
      "cell_type": "code",
      "metadata": {
        "id": "-1FuQF1VMc1M"
      },
      "source": [
        "model_5 = Model(inputs, outputs)"
      ],
      "execution_count": 123,
      "outputs": []
    },
    {
      "cell_type": "code",
      "metadata": {
        "id": "s87cGyk5MjG1"
      },
      "source": [
        "model_5.compile(optimizer='adam', metrics='accuracy', loss = 'binary_crossentropy')"
      ],
      "execution_count": 124,
      "outputs": []
    },
    {
      "cell_type": "code",
      "metadata": {
        "colab": {
          "base_uri": "https://localhost:8080/"
        },
        "id": "CO4QThTeMySI",
        "outputId": "07308995-658e-42db-95e1-83e0d5031f6a"
      },
      "source": [
        "model_5.summary()"
      ],
      "execution_count": 125,
      "outputs": [
        {
          "output_type": "stream",
          "text": [
            "Model: \"model\"\n",
            "_________________________________________________________________\n",
            "Layer (type)                 Output Shape              Param #   \n",
            "=================================================================\n",
            "input_1 (InputLayer)         [(None, 1)]               0         \n",
            "_________________________________________________________________\n",
            "text_vectorization (TextVect (None, 30)                0         \n",
            "_________________________________________________________________\n",
            "embedding (Embedding)        (None, 30, 128)           1280000   \n",
            "_________________________________________________________________\n",
            "conv1d (Conv1D)              (None, 28, 32)            12320     \n",
            "_________________________________________________________________\n",
            "global_average_pooling1d (Gl (None, 32)                0         \n",
            "_________________________________________________________________\n",
            "dense (Dense)                (None, 64)                2112      \n",
            "_________________________________________________________________\n",
            "dense_1 (Dense)              (None, 1)                 65        \n",
            "=================================================================\n",
            "Total params: 1,294,497\n",
            "Trainable params: 1,294,497\n",
            "Non-trainable params: 0\n",
            "_________________________________________________________________\n"
          ],
          "name": "stdout"
        }
      ]
    },
    {
      "cell_type": "code",
      "metadata": {
        "colab": {
          "base_uri": "https://localhost:8080/"
        },
        "id": "TSQS93sfM0k4",
        "outputId": "06c51e38-eae5-4784-b3a6-296097c272e6"
      },
      "source": [
        "history_5 = model_5.fit(tf.constant(X_train), y_train, epochs = 5,\n",
        "                        validation_data = (tf.constant(X_val), y_val),\n",
        "                        callbacks = create_tf_board_callback(DIR, 'model_5'))"
      ],
      "execution_count": 126,
      "outputs": [
        {
          "output_type": "stream",
          "text": [
            "Saving TensorBoard log files to model_logs/model_5/20210718-144622\n",
            "Epoch 1/5\n",
            "215/215 [==============================] - 30s 20ms/step - loss: 0.2223 - accuracy: 0.9235 - val_loss: 0.8648 - val_accuracy: 0.7690\n",
            "Epoch 2/5\n",
            "215/215 [==============================] - 3s 15ms/step - loss: 0.0882 - accuracy: 0.9653 - val_loss: 0.9837 - val_accuracy: 0.7638\n",
            "Epoch 3/5\n",
            "215/215 [==============================] - 3s 15ms/step - loss: 0.0734 - accuracy: 0.9693 - val_loss: 1.1646 - val_accuracy: 0.7651\n",
            "Epoch 4/5\n",
            "215/215 [==============================] - 3s 14ms/step - loss: 0.0657 - accuracy: 0.9727 - val_loss: 1.2371 - val_accuracy: 0.7585\n",
            "Epoch 5/5\n",
            "215/215 [==============================] - 3s 14ms/step - loss: 0.0622 - accuracy: 0.9718 - val_loss: 1.2858 - val_accuracy: 0.7533\n"
          ],
          "name": "stdout"
        }
      ]
    },
    {
      "cell_type": "code",
      "metadata": {
        "id": "fN-xKc8ONXvO"
      },
      "source": [
        ""
      ],
      "execution_count": 126,
      "outputs": []
    },
    {
      "cell_type": "code",
      "metadata": {
        "id": "iiEgTTwPNjje"
      },
      "source": [
        "prob_5 = model_5.predict(tf.constant(X_val))"
      ],
      "execution_count": 127,
      "outputs": []
    },
    {
      "cell_type": "code",
      "metadata": {
        "id": "oeKQEvhfNjjf"
      },
      "source": [
        "pred_5 = np.round(prob_5).flatten()"
      ],
      "execution_count": 128,
      "outputs": []
    },
    {
      "cell_type": "code",
      "metadata": {
        "id": "y0jcRpDUNjjg"
      },
      "source": [
        "write_result(pred_5, 'Conv1D_model_5')"
      ],
      "execution_count": 129,
      "outputs": []
    },
    {
      "cell_type": "code",
      "metadata": {
        "colab": {
          "base_uri": "https://localhost:8080/",
          "height": 282
        },
        "id": "VJLP1ZvMNjjg",
        "outputId": "f1f6ff0a-fb22-4965-80d4-9916c88a1e46"
      },
      "source": [
        "results_df"
      ],
      "execution_count": 130,
      "outputs": [
        {
          "output_type": "execute_result",
          "data": {
            "text/html": [
              "<div>\n",
              "<style scoped>\n",
              "    .dataframe tbody tr th:only-of-type {\n",
              "        vertical-align: middle;\n",
              "    }\n",
              "\n",
              "    .dataframe tbody tr th {\n",
              "        vertical-align: top;\n",
              "    }\n",
              "\n",
              "    .dataframe thead th {\n",
              "        text-align: right;\n",
              "    }\n",
              "</style>\n",
              "<table border=\"1\" class=\"dataframe\">\n",
              "  <thead>\n",
              "    <tr style=\"text-align: right;\">\n",
              "      <th></th>\n",
              "      <th>num_experiment</th>\n",
              "      <th>model_name</th>\n",
              "      <th>accuracy_score</th>\n",
              "      <th>precision</th>\n",
              "      <th>racall</th>\n",
              "      <th>f-1_score</th>\n",
              "    </tr>\n",
              "  </thead>\n",
              "  <tbody>\n",
              "    <tr>\n",
              "      <th>0</th>\n",
              "      <td>0</td>\n",
              "      <td>base_naive_bayes</td>\n",
              "      <td>0.796588</td>\n",
              "      <td>0.884462</td>\n",
              "      <td>0.637931</td>\n",
              "      <td>0.741235</td>\n",
              "    </tr>\n",
              "    <tr>\n",
              "      <th>1</th>\n",
              "      <td>1</td>\n",
              "      <td>base_dense_model_1</td>\n",
              "      <td>0.753281</td>\n",
              "      <td>0.779720</td>\n",
              "      <td>0.640805</td>\n",
              "      <td>0.703470</td>\n",
              "    </tr>\n",
              "    <tr>\n",
              "      <th>2</th>\n",
              "      <td>2</td>\n",
              "      <td>simple_dense_model_1_2</td>\n",
              "      <td>0.770341</td>\n",
              "      <td>0.797251</td>\n",
              "      <td>0.666667</td>\n",
              "      <td>0.726135</td>\n",
              "    </tr>\n",
              "    <tr>\n",
              "      <th>3</th>\n",
              "      <td>3</td>\n",
              "      <td>LSTM_model_2</td>\n",
              "      <td>0.758530</td>\n",
              "      <td>0.757862</td>\n",
              "      <td>0.692529</td>\n",
              "      <td>0.723724</td>\n",
              "    </tr>\n",
              "    <tr>\n",
              "      <th>4</th>\n",
              "      <td>4</td>\n",
              "      <td>GRU_model_3</td>\n",
              "      <td>0.757218</td>\n",
              "      <td>0.765472</td>\n",
              "      <td>0.675287</td>\n",
              "      <td>0.717557</td>\n",
              "    </tr>\n",
              "    <tr>\n",
              "      <th>5</th>\n",
              "      <td>5</td>\n",
              "      <td>Bidirectional_model_4</td>\n",
              "      <td>0.753281</td>\n",
              "      <td>0.772109</td>\n",
              "      <td>0.652299</td>\n",
              "      <td>0.707165</td>\n",
              "    </tr>\n",
              "    <tr>\n",
              "      <th>6</th>\n",
              "      <td>6</td>\n",
              "      <td>Conv1D_model_5</td>\n",
              "      <td>0.753281</td>\n",
              "      <td>0.761438</td>\n",
              "      <td>0.669540</td>\n",
              "      <td>0.712538</td>\n",
              "    </tr>\n",
              "  </tbody>\n",
              "</table>\n",
              "</div>"
            ],
            "text/plain": [
              "  num_experiment              model_name  ...    racall  f-1_score\n",
              "0              0        base_naive_bayes  ...  0.637931   0.741235\n",
              "1              1      base_dense_model_1  ...  0.640805   0.703470\n",
              "2              2  simple_dense_model_1_2  ...  0.666667   0.726135\n",
              "3              3            LSTM_model_2  ...  0.692529   0.723724\n",
              "4              4             GRU_model_3  ...  0.675287   0.717557\n",
              "5              5   Bidirectional_model_4  ...  0.652299   0.707165\n",
              "6              6          Conv1D_model_5  ...  0.669540   0.712538\n",
              "\n",
              "[7 rows x 6 columns]"
            ]
          },
          "metadata": {
            "tags": []
          },
          "execution_count": 130
        }
      ]
    },
    {
      "cell_type": "code",
      "metadata": {
        "colab": {
          "base_uri": "https://localhost:8080/"
        },
        "id": "Ut95PxJqNjji",
        "outputId": "88a65ba6-308d-4723-a208-1087035def9a"
      },
      "source": [
        "model5_conf_matr = confusion_matrix(y_val, pred_5)\n",
        "model5_conf_matr"
      ],
      "execution_count": 131,
      "outputs": [
        {
          "output_type": "execute_result",
          "data": {
            "text/plain": [
              "array([[341,  73],\n",
              "       [115, 233]])"
            ]
          },
          "metadata": {
            "tags": []
          },
          "execution_count": 131
        }
      ]
    },
    {
      "cell_type": "code",
      "metadata": {
        "colab": {
          "base_uri": "https://localhost:8080/"
        },
        "id": "ShV9nWMDNjjj",
        "outputId": "353f9825-c58e-4e73-92ed-66cc46841980"
      },
      "source": [
        "base_conf_matr"
      ],
      "execution_count": 132,
      "outputs": [
        {
          "output_type": "execute_result",
          "data": {
            "text/plain": [
              "array([[385,  29],\n",
              "       [126, 222]])"
            ]
          },
          "metadata": {
            "tags": []
          },
          "execution_count": 132
        }
      ]
    },
    {
      "cell_type": "markdown",
      "metadata": {
        "id": "6-UbUAnYYOZw"
      },
      "source": [
        "Our Deep Learning models didn't beat base model. We will use transfer learning to improve those results!"
      ]
    },
    {
      "cell_type": "markdown",
      "metadata": {
        "id": "pXf8ndhPZKvk"
      },
      "source": [
        "### Model6 TensorFlow Hub Pretrained Feature Extractor\n",
        "We will use USE(universal sentence encoder) feauture extractor\n",
        "https://tfhub.dev/google/collections/universal-sentence-encoder/1"
      ]
    },
    {
      "cell_type": "code",
      "metadata": {
        "id": "q2kDTW4oNvcf"
      },
      "source": [
        "import tensorflow_hub as hub\n",
        "\n",
        "embed = hub.load(\"https://tfhub.dev/google/universal-sentence-encoder/4\")"
      ],
      "execution_count": 133,
      "outputs": []
    },
    {
      "cell_type": "code",
      "metadata": {
        "colab": {
          "base_uri": "https://localhost:8080/"
        },
        "id": "Zr8piVB5bKgZ",
        "outputId": "ee662105-b715-49af-ce16-633e7d1b1191"
      },
      "source": [
        "embeddings = embed([\n",
        "    \"The quick brown fox jumps over the lazy dog.\",\n",
        "    \"I am a sentence for which I would like to get its embedding\"])\n",
        "\n",
        "print(embeddings)"
      ],
      "execution_count": 134,
      "outputs": [
        {
          "output_type": "stream",
          "text": [
            "tf.Tensor(\n",
            "[[-0.03133019 -0.06338634 -0.016075   ... -0.0324278  -0.0457574\n",
            "   0.05370456]\n",
            " [ 0.0508086  -0.01652432  0.01573777 ...  0.00976658  0.03170119\n",
            "   0.01788118]], shape=(2, 512), dtype=float32)\n"
          ],
          "name": "stdout"
        }
      ]
    },
    {
      "cell_type": "code",
      "metadata": {
        "id": "SHGtgiKJh8un"
      },
      "source": [
        "use_layer = hub.KerasLayer(\"https://tfhub.dev/google/universal-sentence-encoder/4\",\n",
        "                           input_shape = [],\n",
        "                           dtype = tf.string,\n",
        "                           trainable = False)"
      ],
      "execution_count": 135,
      "outputs": []
    },
    {
      "cell_type": "code",
      "metadata": {
        "id": "5b9-ZUihirVg"
      },
      "source": [
        "model_6 = Sequential([use_layer,\n",
        "                     Dense(64, activation='relu'),\n",
        "                     Dense(1, activation='sigmoid')])"
      ],
      "execution_count": 136,
      "outputs": []
    },
    {
      "cell_type": "code",
      "metadata": {
        "id": "prj0j16ubzDY"
      },
      "source": [
        "model_6.compile(optimizer='adam', metrics = 'accuracy', loss = 'binary_crossentropy')"
      ],
      "execution_count": 137,
      "outputs": []
    },
    {
      "cell_type": "code",
      "metadata": {
        "colab": {
          "base_uri": "https://localhost:8080/"
        },
        "id": "_SXxo3T3jluf",
        "outputId": "1a773dc5-0733-461c-d7ce-ff4fa67279e8"
      },
      "source": [
        "model_6.summary()"
      ],
      "execution_count": 138,
      "outputs": [
        {
          "output_type": "stream",
          "text": [
            "Model: \"sequential\"\n",
            "_________________________________________________________________\n",
            "Layer (type)                 Output Shape              Param #   \n",
            "=================================================================\n",
            "keras_layer (KerasLayer)     (None, 512)               256797824 \n",
            "_________________________________________________________________\n",
            "dense_2 (Dense)              (None, 64)                32832     \n",
            "_________________________________________________________________\n",
            "dense_3 (Dense)              (None, 1)                 65        \n",
            "=================================================================\n",
            "Total params: 256,830,721\n",
            "Trainable params: 32,897\n",
            "Non-trainable params: 256,797,824\n",
            "_________________________________________________________________\n"
          ],
          "name": "stdout"
        }
      ]
    },
    {
      "cell_type": "code",
      "metadata": {
        "colab": {
          "base_uri": "https://localhost:8080/"
        },
        "id": "fYh0cgbyjt85",
        "outputId": "3be2c900-4673-49e1-d3bc-02c3291d1a02"
      },
      "source": [
        "history_6 = model_6.fit(tf.constant(X_train), y_train, epochs = 5,\n",
        "                        validation_data = (tf.constant(X_val), y_val),\n",
        "                        callbacks = create_tf_board_callback(DIR, 'USE_model_6'))"
      ],
      "execution_count": 139,
      "outputs": [
        {
          "output_type": "stream",
          "text": [
            "Saving TensorBoard log files to model_logs/USE_model_6/20210718-144805\n",
            "Epoch 1/5\n",
            "215/215 [==============================] - 7s 23ms/step - loss: 0.5071 - accuracy: 0.7767 - val_loss: 0.4582 - val_accuracy: 0.7953\n",
            "Epoch 2/5\n",
            "215/215 [==============================] - 2s 11ms/step - loss: 0.4184 - accuracy: 0.8113 - val_loss: 0.4532 - val_accuracy: 0.7913\n",
            "Epoch 3/5\n",
            "215/215 [==============================] - 2s 11ms/step - loss: 0.4035 - accuracy: 0.8209 - val_loss: 0.4474 - val_accuracy: 0.7927\n",
            "Epoch 4/5\n",
            "215/215 [==============================] - 2s 11ms/step - loss: 0.3946 - accuracy: 0.8238 - val_loss: 0.4463 - val_accuracy: 0.7979\n",
            "Epoch 5/5\n",
            "215/215 [==============================] - 2s 11ms/step - loss: 0.3872 - accuracy: 0.8291 - val_loss: 0.4442 - val_accuracy: 0.8018\n"
          ],
          "name": "stdout"
        }
      ]
    },
    {
      "cell_type": "code",
      "metadata": {
        "id": "oNR9K5EykcJR"
      },
      "source": [
        "prob_6 = model_6.predict(tf.constant(X_val))"
      ],
      "execution_count": 140,
      "outputs": []
    },
    {
      "cell_type": "code",
      "metadata": {
        "id": "JPU3JyIMkcJT"
      },
      "source": [
        "pred_6 = np.round(prob_6).flatten()"
      ],
      "execution_count": 141,
      "outputs": []
    },
    {
      "cell_type": "code",
      "metadata": {
        "id": "lZPhezfikcJU"
      },
      "source": [
        "write_result(pred_6, 'USE_model_6')"
      ],
      "execution_count": 142,
      "outputs": []
    },
    {
      "cell_type": "code",
      "metadata": {
        "colab": {
          "base_uri": "https://localhost:8080/",
          "height": 313
        },
        "id": "C2WbiCTBkcJU",
        "outputId": "ac582215-531a-4306-d563-988706207fcb"
      },
      "source": [
        "results_df"
      ],
      "execution_count": 143,
      "outputs": [
        {
          "output_type": "execute_result",
          "data": {
            "text/html": [
              "<div>\n",
              "<style scoped>\n",
              "    .dataframe tbody tr th:only-of-type {\n",
              "        vertical-align: middle;\n",
              "    }\n",
              "\n",
              "    .dataframe tbody tr th {\n",
              "        vertical-align: top;\n",
              "    }\n",
              "\n",
              "    .dataframe thead th {\n",
              "        text-align: right;\n",
              "    }\n",
              "</style>\n",
              "<table border=\"1\" class=\"dataframe\">\n",
              "  <thead>\n",
              "    <tr style=\"text-align: right;\">\n",
              "      <th></th>\n",
              "      <th>num_experiment</th>\n",
              "      <th>model_name</th>\n",
              "      <th>accuracy_score</th>\n",
              "      <th>precision</th>\n",
              "      <th>racall</th>\n",
              "      <th>f-1_score</th>\n",
              "    </tr>\n",
              "  </thead>\n",
              "  <tbody>\n",
              "    <tr>\n",
              "      <th>0</th>\n",
              "      <td>0</td>\n",
              "      <td>base_naive_bayes</td>\n",
              "      <td>0.796588</td>\n",
              "      <td>0.884462</td>\n",
              "      <td>0.637931</td>\n",
              "      <td>0.741235</td>\n",
              "    </tr>\n",
              "    <tr>\n",
              "      <th>1</th>\n",
              "      <td>1</td>\n",
              "      <td>base_dense_model_1</td>\n",
              "      <td>0.753281</td>\n",
              "      <td>0.779720</td>\n",
              "      <td>0.640805</td>\n",
              "      <td>0.703470</td>\n",
              "    </tr>\n",
              "    <tr>\n",
              "      <th>2</th>\n",
              "      <td>2</td>\n",
              "      <td>simple_dense_model_1_2</td>\n",
              "      <td>0.770341</td>\n",
              "      <td>0.797251</td>\n",
              "      <td>0.666667</td>\n",
              "      <td>0.726135</td>\n",
              "    </tr>\n",
              "    <tr>\n",
              "      <th>3</th>\n",
              "      <td>3</td>\n",
              "      <td>LSTM_model_2</td>\n",
              "      <td>0.758530</td>\n",
              "      <td>0.757862</td>\n",
              "      <td>0.692529</td>\n",
              "      <td>0.723724</td>\n",
              "    </tr>\n",
              "    <tr>\n",
              "      <th>4</th>\n",
              "      <td>4</td>\n",
              "      <td>GRU_model_3</td>\n",
              "      <td>0.757218</td>\n",
              "      <td>0.765472</td>\n",
              "      <td>0.675287</td>\n",
              "      <td>0.717557</td>\n",
              "    </tr>\n",
              "    <tr>\n",
              "      <th>5</th>\n",
              "      <td>5</td>\n",
              "      <td>Bidirectional_model_4</td>\n",
              "      <td>0.753281</td>\n",
              "      <td>0.772109</td>\n",
              "      <td>0.652299</td>\n",
              "      <td>0.707165</td>\n",
              "    </tr>\n",
              "    <tr>\n",
              "      <th>6</th>\n",
              "      <td>6</td>\n",
              "      <td>Conv1D_model_5</td>\n",
              "      <td>0.753281</td>\n",
              "      <td>0.761438</td>\n",
              "      <td>0.669540</td>\n",
              "      <td>0.712538</td>\n",
              "    </tr>\n",
              "    <tr>\n",
              "      <th>7</th>\n",
              "      <td>7</td>\n",
              "      <td>USE_model_6</td>\n",
              "      <td>0.801837</td>\n",
              "      <td>0.850534</td>\n",
              "      <td>0.686782</td>\n",
              "      <td>0.759936</td>\n",
              "    </tr>\n",
              "  </tbody>\n",
              "</table>\n",
              "</div>"
            ],
            "text/plain": [
              "  num_experiment              model_name  ...    racall  f-1_score\n",
              "0              0        base_naive_bayes  ...  0.637931   0.741235\n",
              "1              1      base_dense_model_1  ...  0.640805   0.703470\n",
              "2              2  simple_dense_model_1_2  ...  0.666667   0.726135\n",
              "3              3            LSTM_model_2  ...  0.692529   0.723724\n",
              "4              4             GRU_model_3  ...  0.675287   0.717557\n",
              "5              5   Bidirectional_model_4  ...  0.652299   0.707165\n",
              "6              6          Conv1D_model_5  ...  0.669540   0.712538\n",
              "7              7             USE_model_6  ...  0.686782   0.759936\n",
              "\n",
              "[8 rows x 6 columns]"
            ]
          },
          "metadata": {
            "tags": []
          },
          "execution_count": 143
        }
      ]
    },
    {
      "cell_type": "code",
      "metadata": {
        "colab": {
          "base_uri": "https://localhost:8080/",
          "height": 313
        },
        "id": "9XLuldD0lCgS",
        "outputId": "63e9bf30-2b98-4335-84a7-872b1998d358"
      },
      "source": [
        "results_df"
      ],
      "execution_count": 144,
      "outputs": [
        {
          "output_type": "execute_result",
          "data": {
            "text/html": [
              "<div>\n",
              "<style scoped>\n",
              "    .dataframe tbody tr th:only-of-type {\n",
              "        vertical-align: middle;\n",
              "    }\n",
              "\n",
              "    .dataframe tbody tr th {\n",
              "        vertical-align: top;\n",
              "    }\n",
              "\n",
              "    .dataframe thead th {\n",
              "        text-align: right;\n",
              "    }\n",
              "</style>\n",
              "<table border=\"1\" class=\"dataframe\">\n",
              "  <thead>\n",
              "    <tr style=\"text-align: right;\">\n",
              "      <th></th>\n",
              "      <th>num_experiment</th>\n",
              "      <th>model_name</th>\n",
              "      <th>accuracy_score</th>\n",
              "      <th>precision</th>\n",
              "      <th>racall</th>\n",
              "      <th>f-1_score</th>\n",
              "    </tr>\n",
              "  </thead>\n",
              "  <tbody>\n",
              "    <tr>\n",
              "      <th>0</th>\n",
              "      <td>0</td>\n",
              "      <td>base_naive_bayes</td>\n",
              "      <td>0.796588</td>\n",
              "      <td>0.884462</td>\n",
              "      <td>0.637931</td>\n",
              "      <td>0.741235</td>\n",
              "    </tr>\n",
              "    <tr>\n",
              "      <th>1</th>\n",
              "      <td>1</td>\n",
              "      <td>base_dense_model_1</td>\n",
              "      <td>0.753281</td>\n",
              "      <td>0.779720</td>\n",
              "      <td>0.640805</td>\n",
              "      <td>0.703470</td>\n",
              "    </tr>\n",
              "    <tr>\n",
              "      <th>2</th>\n",
              "      <td>2</td>\n",
              "      <td>simple_dense_model_1_2</td>\n",
              "      <td>0.770341</td>\n",
              "      <td>0.797251</td>\n",
              "      <td>0.666667</td>\n",
              "      <td>0.726135</td>\n",
              "    </tr>\n",
              "    <tr>\n",
              "      <th>3</th>\n",
              "      <td>3</td>\n",
              "      <td>LSTM_model_2</td>\n",
              "      <td>0.758530</td>\n",
              "      <td>0.757862</td>\n",
              "      <td>0.692529</td>\n",
              "      <td>0.723724</td>\n",
              "    </tr>\n",
              "    <tr>\n",
              "      <th>4</th>\n",
              "      <td>4</td>\n",
              "      <td>GRU_model_3</td>\n",
              "      <td>0.757218</td>\n",
              "      <td>0.765472</td>\n",
              "      <td>0.675287</td>\n",
              "      <td>0.717557</td>\n",
              "    </tr>\n",
              "    <tr>\n",
              "      <th>5</th>\n",
              "      <td>5</td>\n",
              "      <td>Bidirectional_model_4</td>\n",
              "      <td>0.753281</td>\n",
              "      <td>0.772109</td>\n",
              "      <td>0.652299</td>\n",
              "      <td>0.707165</td>\n",
              "    </tr>\n",
              "    <tr>\n",
              "      <th>6</th>\n",
              "      <td>6</td>\n",
              "      <td>Conv1D_model_5</td>\n",
              "      <td>0.753281</td>\n",
              "      <td>0.761438</td>\n",
              "      <td>0.669540</td>\n",
              "      <td>0.712538</td>\n",
              "    </tr>\n",
              "    <tr>\n",
              "      <th>7</th>\n",
              "      <td>7</td>\n",
              "      <td>USE_model_6</td>\n",
              "      <td>0.801837</td>\n",
              "      <td>0.850534</td>\n",
              "      <td>0.686782</td>\n",
              "      <td>0.759936</td>\n",
              "    </tr>\n",
              "  </tbody>\n",
              "</table>\n",
              "</div>"
            ],
            "text/plain": [
              "  num_experiment              model_name  ...    racall  f-1_score\n",
              "0              0        base_naive_bayes  ...  0.637931   0.741235\n",
              "1              1      base_dense_model_1  ...  0.640805   0.703470\n",
              "2              2  simple_dense_model_1_2  ...  0.666667   0.726135\n",
              "3              3            LSTM_model_2  ...  0.692529   0.723724\n",
              "4              4             GRU_model_3  ...  0.675287   0.717557\n",
              "5              5   Bidirectional_model_4  ...  0.652299   0.707165\n",
              "6              6          Conv1D_model_5  ...  0.669540   0.712538\n",
              "7              7             USE_model_6  ...  0.686782   0.759936\n",
              "\n",
              "[8 rows x 6 columns]"
            ]
          },
          "metadata": {
            "tags": []
          },
          "execution_count": 144
        }
      ]
    },
    {
      "cell_type": "code",
      "metadata": {
        "colab": {
          "base_uri": "https://localhost:8080/"
        },
        "id": "-6qaf8LYkcJV",
        "outputId": "4b491043-8d98-4ab2-a674-bdf791ac5d1c"
      },
      "source": [
        "model6_conf_matr = confusion_matrix(y_val, pred_6)\n",
        "model6_conf_matr"
      ],
      "execution_count": 145,
      "outputs": [
        {
          "output_type": "execute_result",
          "data": {
            "text/plain": [
              "array([[372,  42],\n",
              "       [109, 239]])"
            ]
          },
          "metadata": {
            "tags": []
          },
          "execution_count": 145
        }
      ]
    },
    {
      "cell_type": "code",
      "metadata": {
        "colab": {
          "base_uri": "https://localhost:8080/"
        },
        "id": "lWsL1wn_kcJW",
        "outputId": "5e46d15e-89e7-4ed6-e724-878fc2cbbd3f"
      },
      "source": [
        "base_conf_matr"
      ],
      "execution_count": 146,
      "outputs": [
        {
          "output_type": "execute_result",
          "data": {
            "text/plain": [
              "array([[385,  29],\n",
              "       [126, 222]])"
            ]
          },
          "metadata": {
            "tags": []
          },
          "execution_count": 146
        }
      ]
    },
    {
      "cell_type": "markdown",
      "metadata": {
        "id": "KNqZYnqN2QPL"
      },
      "source": [
        "### Try transfer learning with 10% data\n",
        "Its useful for small datasets in real projects"
      ]
    },
    {
      "cell_type": "code",
      "metadata": {
        "colab": {
          "base_uri": "https://localhost:8080/"
        },
        "id": "wJUClcKQ48t_",
        "outputId": "6449787f-192c-4c47-edfa-38bc35ab15a1"
      },
      "source": [
        "len(X_train), len(X_val)"
      ],
      "execution_count": 147,
      "outputs": [
        {
          "output_type": "execute_result",
          "data": {
            "text/plain": [
              "(6851, 762)"
            ]
          },
          "metadata": {
            "tags": []
          },
          "execution_count": 147
        }
      ]
    },
    {
      "cell_type": "code",
      "metadata": {
        "id": "zXM8wUT0lM7x"
      },
      "source": [
        "X_train_10 = X_train[:int(len(X_train)*0.1)]\n",
        "y_train_10 = y_train[:int(len(X_train)*0.1)]"
      ],
      "execution_count": 148,
      "outputs": []
    },
    {
      "cell_type": "code",
      "metadata": {
        "colab": {
          "base_uri": "https://localhost:8080/"
        },
        "id": "IkAhSYo_3y9x",
        "outputId": "7189dc61-01ed-4cda-85f4-34bce14123a1"
      },
      "source": [
        "len(X_train_10), len(y_train_10)"
      ],
      "execution_count": 149,
      "outputs": [
        {
          "output_type": "execute_result",
          "data": {
            "text/plain": [
              "(685, 685)"
            ]
          },
          "metadata": {
            "tags": []
          },
          "execution_count": 149
        }
      ]
    },
    {
      "cell_type": "code",
      "metadata": {
        "id": "5E3QUd5Z5oVh"
      },
      "source": [
        "model_7 = Sequential([use_layer,\n",
        "                     Dense(64, activation='relu'),\n",
        "                     Dense(1, activation='sigmoid')])"
      ],
      "execution_count": 150,
      "outputs": []
    },
    {
      "cell_type": "code",
      "metadata": {
        "id": "THfslF4v5oVi"
      },
      "source": [
        "model_7.compile(optimizer='adam', metrics = 'accuracy', loss = 'binary_crossentropy')"
      ],
      "execution_count": 151,
      "outputs": []
    },
    {
      "cell_type": "code",
      "metadata": {
        "colab": {
          "base_uri": "https://localhost:8080/"
        },
        "id": "5Z6LHtLc5oVj",
        "outputId": "ab641568-05d0-4e41-fcaa-9b392c727a84"
      },
      "source": [
        "model_7.summary()"
      ],
      "execution_count": 152,
      "outputs": [
        {
          "output_type": "stream",
          "text": [
            "Model: \"sequential_1\"\n",
            "_________________________________________________________________\n",
            "Layer (type)                 Output Shape              Param #   \n",
            "=================================================================\n",
            "keras_layer (KerasLayer)     (None, 512)               256797824 \n",
            "_________________________________________________________________\n",
            "dense_4 (Dense)              (None, 64)                32832     \n",
            "_________________________________________________________________\n",
            "dense_5 (Dense)              (None, 1)                 65        \n",
            "=================================================================\n",
            "Total params: 256,830,721\n",
            "Trainable params: 32,897\n",
            "Non-trainable params: 256,797,824\n",
            "_________________________________________________________________\n"
          ],
          "name": "stdout"
        }
      ]
    },
    {
      "cell_type": "code",
      "metadata": {
        "colab": {
          "base_uri": "https://localhost:8080/"
        },
        "id": "5to6AVNZ5oVj",
        "outputId": "0df0fbe0-fe9f-40f8-b574-e6683e4439c1"
      },
      "source": [
        "history_7 = model_7.fit(tf.constant(X_train_10), y_train_10, epochs = 5,\n",
        "                        validation_data = (tf.constant(X_val), y_val),\n",
        "                        callbacks = create_tf_board_callback(DIR, 'USE_model_7_10%'))"
      ],
      "execution_count": 153,
      "outputs": [
        {
          "output_type": "stream",
          "text": [
            "Saving TensorBoard log files to model_logs/USE_model_7_10%/20210718-144829\n",
            "Epoch 1/5\n",
            "22/22 [==============================] - 3s 87ms/step - loss: 0.6674 - accuracy: 0.6993 - val_loss: 0.6526 - val_accuracy: 0.7060\n",
            "Epoch 2/5\n",
            "22/22 [==============================] - 1s 25ms/step - loss: 0.6038 - accuracy: 0.7927 - val_loss: 0.6029 - val_accuracy: 0.7546\n",
            "Epoch 3/5\n",
            "22/22 [==============================] - 0s 20ms/step - loss: 0.5351 - accuracy: 0.8073 - val_loss: 0.5526 - val_accuracy: 0.7664\n",
            "Epoch 4/5\n",
            "22/22 [==============================] - 0s 20ms/step - loss: 0.4727 - accuracy: 0.8248 - val_loss: 0.5189 - val_accuracy: 0.7533\n",
            "Epoch 5/5\n",
            "22/22 [==============================] - 0s 20ms/step - loss: 0.4295 - accuracy: 0.8175 - val_loss: 0.5053 - val_accuracy: 0.7625\n"
          ],
          "name": "stdout"
        }
      ]
    },
    {
      "cell_type": "code",
      "metadata": {
        "id": "EtEGmrFc5oVk"
      },
      "source": [
        "prob_7 = model_7.predict(tf.constant(X_val))"
      ],
      "execution_count": 154,
      "outputs": []
    },
    {
      "cell_type": "code",
      "metadata": {
        "id": "msjCBGdZ5oVk"
      },
      "source": [
        "pred_7 = np.round(prob_7).flatten()"
      ],
      "execution_count": 155,
      "outputs": []
    },
    {
      "cell_type": "code",
      "metadata": {
        "id": "nEcGkLsM5oVk"
      },
      "source": [
        "write_result(pred_7, 'USE_10%_model_7')"
      ],
      "execution_count": 156,
      "outputs": []
    },
    {
      "cell_type": "code",
      "metadata": {
        "colab": {
          "base_uri": "https://localhost:8080/",
          "height": 343
        },
        "id": "V5tyHhHu5oVl",
        "outputId": "afd45bc9-eec3-4662-bcca-2748088a3977"
      },
      "source": [
        "results_df"
      ],
      "execution_count": 157,
      "outputs": [
        {
          "output_type": "execute_result",
          "data": {
            "text/html": [
              "<div>\n",
              "<style scoped>\n",
              "    .dataframe tbody tr th:only-of-type {\n",
              "        vertical-align: middle;\n",
              "    }\n",
              "\n",
              "    .dataframe tbody tr th {\n",
              "        vertical-align: top;\n",
              "    }\n",
              "\n",
              "    .dataframe thead th {\n",
              "        text-align: right;\n",
              "    }\n",
              "</style>\n",
              "<table border=\"1\" class=\"dataframe\">\n",
              "  <thead>\n",
              "    <tr style=\"text-align: right;\">\n",
              "      <th></th>\n",
              "      <th>num_experiment</th>\n",
              "      <th>model_name</th>\n",
              "      <th>accuracy_score</th>\n",
              "      <th>precision</th>\n",
              "      <th>racall</th>\n",
              "      <th>f-1_score</th>\n",
              "    </tr>\n",
              "  </thead>\n",
              "  <tbody>\n",
              "    <tr>\n",
              "      <th>0</th>\n",
              "      <td>0</td>\n",
              "      <td>base_naive_bayes</td>\n",
              "      <td>0.796588</td>\n",
              "      <td>0.884462</td>\n",
              "      <td>0.637931</td>\n",
              "      <td>0.741235</td>\n",
              "    </tr>\n",
              "    <tr>\n",
              "      <th>1</th>\n",
              "      <td>1</td>\n",
              "      <td>base_dense_model_1</td>\n",
              "      <td>0.753281</td>\n",
              "      <td>0.779720</td>\n",
              "      <td>0.640805</td>\n",
              "      <td>0.703470</td>\n",
              "    </tr>\n",
              "    <tr>\n",
              "      <th>2</th>\n",
              "      <td>2</td>\n",
              "      <td>simple_dense_model_1_2</td>\n",
              "      <td>0.770341</td>\n",
              "      <td>0.797251</td>\n",
              "      <td>0.666667</td>\n",
              "      <td>0.726135</td>\n",
              "    </tr>\n",
              "    <tr>\n",
              "      <th>3</th>\n",
              "      <td>3</td>\n",
              "      <td>LSTM_model_2</td>\n",
              "      <td>0.758530</td>\n",
              "      <td>0.757862</td>\n",
              "      <td>0.692529</td>\n",
              "      <td>0.723724</td>\n",
              "    </tr>\n",
              "    <tr>\n",
              "      <th>4</th>\n",
              "      <td>4</td>\n",
              "      <td>GRU_model_3</td>\n",
              "      <td>0.757218</td>\n",
              "      <td>0.765472</td>\n",
              "      <td>0.675287</td>\n",
              "      <td>0.717557</td>\n",
              "    </tr>\n",
              "    <tr>\n",
              "      <th>5</th>\n",
              "      <td>5</td>\n",
              "      <td>Bidirectional_model_4</td>\n",
              "      <td>0.753281</td>\n",
              "      <td>0.772109</td>\n",
              "      <td>0.652299</td>\n",
              "      <td>0.707165</td>\n",
              "    </tr>\n",
              "    <tr>\n",
              "      <th>6</th>\n",
              "      <td>6</td>\n",
              "      <td>Conv1D_model_5</td>\n",
              "      <td>0.753281</td>\n",
              "      <td>0.761438</td>\n",
              "      <td>0.669540</td>\n",
              "      <td>0.712538</td>\n",
              "    </tr>\n",
              "    <tr>\n",
              "      <th>7</th>\n",
              "      <td>7</td>\n",
              "      <td>USE_model_6</td>\n",
              "      <td>0.801837</td>\n",
              "      <td>0.850534</td>\n",
              "      <td>0.686782</td>\n",
              "      <td>0.759936</td>\n",
              "    </tr>\n",
              "    <tr>\n",
              "      <th>8</th>\n",
              "      <td>8</td>\n",
              "      <td>USE_10%_model_7</td>\n",
              "      <td>0.762467</td>\n",
              "      <td>0.761755</td>\n",
              "      <td>0.698276</td>\n",
              "      <td>0.728636</td>\n",
              "    </tr>\n",
              "  </tbody>\n",
              "</table>\n",
              "</div>"
            ],
            "text/plain": [
              "  num_experiment              model_name  ...    racall  f-1_score\n",
              "0              0        base_naive_bayes  ...  0.637931   0.741235\n",
              "1              1      base_dense_model_1  ...  0.640805   0.703470\n",
              "2              2  simple_dense_model_1_2  ...  0.666667   0.726135\n",
              "3              3            LSTM_model_2  ...  0.692529   0.723724\n",
              "4              4             GRU_model_3  ...  0.675287   0.717557\n",
              "5              5   Bidirectional_model_4  ...  0.652299   0.707165\n",
              "6              6          Conv1D_model_5  ...  0.669540   0.712538\n",
              "7              7             USE_model_6  ...  0.686782   0.759936\n",
              "8              8         USE_10%_model_7  ...  0.698276   0.728636\n",
              "\n",
              "[9 rows x 6 columns]"
            ]
          },
          "metadata": {
            "tags": []
          },
          "execution_count": 157
        }
      ]
    },
    {
      "cell_type": "code",
      "metadata": {
        "colab": {
          "base_uri": "https://localhost:8080/"
        },
        "id": "t1lgUoss5oVl",
        "outputId": "b06da071-6bde-49b3-d77e-d6ece128485a"
      },
      "source": [
        "model7_conf_matr = confusion_matrix(y_val, pred_7)\n",
        "model7_conf_matr"
      ],
      "execution_count": 158,
      "outputs": [
        {
          "output_type": "execute_result",
          "data": {
            "text/plain": [
              "array([[338,  76],\n",
              "       [105, 243]])"
            ]
          },
          "metadata": {
            "tags": []
          },
          "execution_count": 158
        }
      ]
    },
    {
      "cell_type": "code",
      "metadata": {
        "colab": {
          "base_uri": "https://localhost:8080/"
        },
        "id": "tDFg5DT95oVm",
        "outputId": "f5cd442f-76b3-4b4f-a81c-031c6ffbe3a4"
      },
      "source": [
        "base_conf_matr"
      ],
      "execution_count": 159,
      "outputs": [
        {
          "output_type": "execute_result",
          "data": {
            "text/plain": [
              "array([[385,  29],\n",
              "       [126, 222]])"
            ]
          },
          "metadata": {
            "tags": []
          },
          "execution_count": 159
        }
      ]
    },
    {
      "cell_type": "markdown",
      "metadata": {
        "id": "PVvaTSXn6UHL"
      },
      "source": [
        "Try same model with same dataset with more layers and epochs"
      ]
    },
    {
      "cell_type": "code",
      "metadata": {
        "id": "uvWgIJvB6ctp"
      },
      "source": [
        "model_7_2 = Sequential([use_layer,\n",
        "                     Dense(128, activation='relu'),\n",
        "                     Dense(64, activation='relu'),\n",
        "                     Dense(1, activation='sigmoid')])"
      ],
      "execution_count": 160,
      "outputs": []
    },
    {
      "cell_type": "code",
      "metadata": {
        "id": "Fxg8QERC6ctr"
      },
      "source": [
        "model_7_2.compile(optimizer='adam', metrics = 'accuracy', loss = 'binary_crossentropy')"
      ],
      "execution_count": 161,
      "outputs": []
    },
    {
      "cell_type": "code",
      "metadata": {
        "colab": {
          "base_uri": "https://localhost:8080/"
        },
        "id": "ig2IrRp46cts",
        "outputId": "9b157236-d55f-4f4c-ec70-87967d3a3307"
      },
      "source": [
        "model_7_2.summary()"
      ],
      "execution_count": 162,
      "outputs": [
        {
          "output_type": "stream",
          "text": [
            "Model: \"sequential_2\"\n",
            "_________________________________________________________________\n",
            "Layer (type)                 Output Shape              Param #   \n",
            "=================================================================\n",
            "keras_layer (KerasLayer)     (None, 512)               256797824 \n",
            "_________________________________________________________________\n",
            "dense_6 (Dense)              (None, 128)               65664     \n",
            "_________________________________________________________________\n",
            "dense_7 (Dense)              (None, 64)                8256      \n",
            "_________________________________________________________________\n",
            "dense_8 (Dense)              (None, 1)                 65        \n",
            "=================================================================\n",
            "Total params: 256,871,809\n",
            "Trainable params: 73,985\n",
            "Non-trainable params: 256,797,824\n",
            "_________________________________________________________________\n"
          ],
          "name": "stdout"
        }
      ]
    },
    {
      "cell_type": "code",
      "metadata": {
        "colab": {
          "base_uri": "https://localhost:8080/"
        },
        "id": "ovMMprgv6ctu",
        "outputId": "f36c77d5-3678-4c6d-90db-5f1c94145772"
      },
      "source": [
        "history_7_2 = model_7_2.fit(tf.constant(X_train_10), y_train_10, epochs = 25,\n",
        "                        validation_data = (tf.constant(X_val), y_val),\n",
        "                        callbacks = create_tf_board_callback(DIR, 'USE_model_7_2_10%'))"
      ],
      "execution_count": 163,
      "outputs": [
        {
          "output_type": "stream",
          "text": [
            "Saving TensorBoard log files to model_logs/USE_model_7_2_10%/20210718-144836\n",
            "Epoch 1/25\n",
            "22/22 [==============================] - 3s 83ms/step - loss: 0.6581 - accuracy: 0.7226 - val_loss: 0.6225 - val_accuracy: 0.7126\n",
            "Epoch 2/25\n",
            "22/22 [==============================] - 0s 20ms/step - loss: 0.5172 - accuracy: 0.8117 - val_loss: 0.5139 - val_accuracy: 0.7703\n",
            "Epoch 3/25\n",
            "22/22 [==============================] - 0s 19ms/step - loss: 0.3967 - accuracy: 0.8307 - val_loss: 0.4990 - val_accuracy: 0.7690\n",
            "Epoch 4/25\n",
            "22/22 [==============================] - 0s 19ms/step - loss: 0.3359 - accuracy: 0.8686 - val_loss: 0.5214 - val_accuracy: 0.7612\n",
            "Epoch 5/25\n",
            "22/22 [==============================] - 0s 19ms/step - loss: 0.2873 - accuracy: 0.8949 - val_loss: 0.5407 - val_accuracy: 0.7441\n",
            "Epoch 6/25\n",
            "22/22 [==============================] - 0s 19ms/step - loss: 0.2371 - accuracy: 0.9153 - val_loss: 0.5799 - val_accuracy: 0.7507\n",
            "Epoch 7/25\n",
            "22/22 [==============================] - 0s 19ms/step - loss: 0.1953 - accuracy: 0.9431 - val_loss: 0.6094 - val_accuracy: 0.7454\n",
            "Epoch 8/25\n",
            "22/22 [==============================] - 0s 19ms/step - loss: 0.1556 - accuracy: 0.9635 - val_loss: 0.6424 - val_accuracy: 0.7441\n",
            "Epoch 9/25\n",
            "22/22 [==============================] - 0s 19ms/step - loss: 0.1185 - accuracy: 0.9796 - val_loss: 0.6918 - val_accuracy: 0.7454\n",
            "Epoch 10/25\n",
            "22/22 [==============================] - 0s 19ms/step - loss: 0.0895 - accuracy: 0.9854 - val_loss: 0.7369 - val_accuracy: 0.7336\n",
            "Epoch 11/25\n",
            "22/22 [==============================] - 0s 19ms/step - loss: 0.0690 - accuracy: 0.9839 - val_loss: 0.7873 - val_accuracy: 0.7402\n",
            "Epoch 12/25\n",
            "22/22 [==============================] - 0s 19ms/step - loss: 0.0559 - accuracy: 0.9883 - val_loss: 0.8356 - val_accuracy: 0.7388\n",
            "Epoch 13/25\n",
            "22/22 [==============================] - 0s 19ms/step - loss: 0.0440 - accuracy: 0.9898 - val_loss: 0.8773 - val_accuracy: 0.7388\n",
            "Epoch 14/25\n",
            "22/22 [==============================] - 0s 19ms/step - loss: 0.0351 - accuracy: 0.9912 - val_loss: 0.9103 - val_accuracy: 0.7428\n",
            "Epoch 15/25\n",
            "22/22 [==============================] - 0s 19ms/step - loss: 0.0294 - accuracy: 0.9927 - val_loss: 0.9383 - val_accuracy: 0.7349\n",
            "Epoch 16/25\n",
            "22/22 [==============================] - 0s 19ms/step - loss: 0.0256 - accuracy: 0.9956 - val_loss: 0.9727 - val_accuracy: 0.7362\n",
            "Epoch 17/25\n",
            "22/22 [==============================] - 0s 19ms/step - loss: 0.0246 - accuracy: 0.9912 - val_loss: 1.0032 - val_accuracy: 0.7283\n",
            "Epoch 18/25\n",
            "22/22 [==============================] - 0s 19ms/step - loss: 0.0230 - accuracy: 0.9956 - val_loss: 1.0416 - val_accuracy: 0.7402\n",
            "Epoch 19/25\n",
            "22/22 [==============================] - 0s 19ms/step - loss: 0.0250 - accuracy: 0.9912 - val_loss: 1.0868 - val_accuracy: 0.7336\n",
            "Epoch 20/25\n",
            "22/22 [==============================] - 0s 19ms/step - loss: 0.0173 - accuracy: 0.9942 - val_loss: 1.0755 - val_accuracy: 0.7323\n",
            "Epoch 21/25\n",
            "22/22 [==============================] - 0s 20ms/step - loss: 0.0183 - accuracy: 0.9956 - val_loss: 1.1070 - val_accuracy: 0.7297\n",
            "Epoch 22/25\n",
            "22/22 [==============================] - 0s 19ms/step - loss: 0.0146 - accuracy: 0.9956 - val_loss: 1.1241 - val_accuracy: 0.7336\n",
            "Epoch 23/25\n",
            "22/22 [==============================] - 0s 19ms/step - loss: 0.0184 - accuracy: 0.9927 - val_loss: 1.1323 - val_accuracy: 0.7375\n",
            "Epoch 24/25\n",
            "22/22 [==============================] - 0s 19ms/step - loss: 0.0181 - accuracy: 0.9956 - val_loss: 1.1457 - val_accuracy: 0.7375\n",
            "Epoch 25/25\n",
            "22/22 [==============================] - 0s 19ms/step - loss: 0.0127 - accuracy: 0.9927 - val_loss: 1.1752 - val_accuracy: 0.7323\n"
          ],
          "name": "stdout"
        }
      ]
    },
    {
      "cell_type": "code",
      "metadata": {
        "id": "wCupVMjE6ctv"
      },
      "source": [
        "prob_7_2 = model_7_2.predict(tf.constant(X_val))"
      ],
      "execution_count": 164,
      "outputs": []
    },
    {
      "cell_type": "code",
      "metadata": {
        "id": "BUOXi8sh6ctw"
      },
      "source": [
        "pred_7_2 = np.round(prob_7_2).flatten()"
      ],
      "execution_count": 165,
      "outputs": []
    },
    {
      "cell_type": "code",
      "metadata": {
        "id": "H5KnZ-SZ6ctw"
      },
      "source": [
        "write_result(pred_7_2, 'USE_10%_model_7_2')"
      ],
      "execution_count": 166,
      "outputs": []
    },
    {
      "cell_type": "code",
      "metadata": {
        "colab": {
          "base_uri": "https://localhost:8080/",
          "height": 374
        },
        "id": "eghbAZ3Q6ctw",
        "outputId": "520522ec-5bfd-4993-c6bc-5fcc96c89e99"
      },
      "source": [
        "results_df"
      ],
      "execution_count": 167,
      "outputs": [
        {
          "output_type": "execute_result",
          "data": {
            "text/html": [
              "<div>\n",
              "<style scoped>\n",
              "    .dataframe tbody tr th:only-of-type {\n",
              "        vertical-align: middle;\n",
              "    }\n",
              "\n",
              "    .dataframe tbody tr th {\n",
              "        vertical-align: top;\n",
              "    }\n",
              "\n",
              "    .dataframe thead th {\n",
              "        text-align: right;\n",
              "    }\n",
              "</style>\n",
              "<table border=\"1\" class=\"dataframe\">\n",
              "  <thead>\n",
              "    <tr style=\"text-align: right;\">\n",
              "      <th></th>\n",
              "      <th>num_experiment</th>\n",
              "      <th>model_name</th>\n",
              "      <th>accuracy_score</th>\n",
              "      <th>precision</th>\n",
              "      <th>racall</th>\n",
              "      <th>f-1_score</th>\n",
              "    </tr>\n",
              "  </thead>\n",
              "  <tbody>\n",
              "    <tr>\n",
              "      <th>0</th>\n",
              "      <td>0</td>\n",
              "      <td>base_naive_bayes</td>\n",
              "      <td>0.796588</td>\n",
              "      <td>0.884462</td>\n",
              "      <td>0.637931</td>\n",
              "      <td>0.741235</td>\n",
              "    </tr>\n",
              "    <tr>\n",
              "      <th>1</th>\n",
              "      <td>1</td>\n",
              "      <td>base_dense_model_1</td>\n",
              "      <td>0.753281</td>\n",
              "      <td>0.779720</td>\n",
              "      <td>0.640805</td>\n",
              "      <td>0.703470</td>\n",
              "    </tr>\n",
              "    <tr>\n",
              "      <th>2</th>\n",
              "      <td>2</td>\n",
              "      <td>simple_dense_model_1_2</td>\n",
              "      <td>0.770341</td>\n",
              "      <td>0.797251</td>\n",
              "      <td>0.666667</td>\n",
              "      <td>0.726135</td>\n",
              "    </tr>\n",
              "    <tr>\n",
              "      <th>3</th>\n",
              "      <td>3</td>\n",
              "      <td>LSTM_model_2</td>\n",
              "      <td>0.758530</td>\n",
              "      <td>0.757862</td>\n",
              "      <td>0.692529</td>\n",
              "      <td>0.723724</td>\n",
              "    </tr>\n",
              "    <tr>\n",
              "      <th>4</th>\n",
              "      <td>4</td>\n",
              "      <td>GRU_model_3</td>\n",
              "      <td>0.757218</td>\n",
              "      <td>0.765472</td>\n",
              "      <td>0.675287</td>\n",
              "      <td>0.717557</td>\n",
              "    </tr>\n",
              "    <tr>\n",
              "      <th>5</th>\n",
              "      <td>5</td>\n",
              "      <td>Bidirectional_model_4</td>\n",
              "      <td>0.753281</td>\n",
              "      <td>0.772109</td>\n",
              "      <td>0.652299</td>\n",
              "      <td>0.707165</td>\n",
              "    </tr>\n",
              "    <tr>\n",
              "      <th>6</th>\n",
              "      <td>6</td>\n",
              "      <td>Conv1D_model_5</td>\n",
              "      <td>0.753281</td>\n",
              "      <td>0.761438</td>\n",
              "      <td>0.669540</td>\n",
              "      <td>0.712538</td>\n",
              "    </tr>\n",
              "    <tr>\n",
              "      <th>7</th>\n",
              "      <td>7</td>\n",
              "      <td>USE_model_6</td>\n",
              "      <td>0.801837</td>\n",
              "      <td>0.850534</td>\n",
              "      <td>0.686782</td>\n",
              "      <td>0.759936</td>\n",
              "    </tr>\n",
              "    <tr>\n",
              "      <th>8</th>\n",
              "      <td>8</td>\n",
              "      <td>USE_10%_model_7</td>\n",
              "      <td>0.762467</td>\n",
              "      <td>0.761755</td>\n",
              "      <td>0.698276</td>\n",
              "      <td>0.728636</td>\n",
              "    </tr>\n",
              "    <tr>\n",
              "      <th>9</th>\n",
              "      <td>9</td>\n",
              "      <td>USE_10%_model_7_2</td>\n",
              "      <td>0.732283</td>\n",
              "      <td>0.730769</td>\n",
              "      <td>0.655172</td>\n",
              "      <td>0.690909</td>\n",
              "    </tr>\n",
              "  </tbody>\n",
              "</table>\n",
              "</div>"
            ],
            "text/plain": [
              "  num_experiment              model_name  ...    racall  f-1_score\n",
              "0              0        base_naive_bayes  ...  0.637931   0.741235\n",
              "1              1      base_dense_model_1  ...  0.640805   0.703470\n",
              "2              2  simple_dense_model_1_2  ...  0.666667   0.726135\n",
              "3              3            LSTM_model_2  ...  0.692529   0.723724\n",
              "4              4             GRU_model_3  ...  0.675287   0.717557\n",
              "5              5   Bidirectional_model_4  ...  0.652299   0.707165\n",
              "6              6          Conv1D_model_5  ...  0.669540   0.712538\n",
              "7              7             USE_model_6  ...  0.686782   0.759936\n",
              "8              8         USE_10%_model_7  ...  0.698276   0.728636\n",
              "9              9       USE_10%_model_7_2  ...  0.655172   0.690909\n",
              "\n",
              "[10 rows x 6 columns]"
            ]
          },
          "metadata": {
            "tags": []
          },
          "execution_count": 167
        }
      ]
    },
    {
      "cell_type": "code",
      "metadata": {
        "id": "ssZzOAjYG2qw"
      },
      "source": [
        "results_df = results_df.rename(columns = {'racall':'recall'})"
      ],
      "execution_count": 170,
      "outputs": []
    },
    {
      "cell_type": "code",
      "metadata": {
        "colab": {
          "base_uri": "https://localhost:8080/",
          "height": 597
        },
        "id": "wxDD-H70GDFU",
        "outputId": "d3b98581-e3e7-441b-8de2-8a58fc9ca49f"
      },
      "source": [
        "ax = results_df.plot('model_name', ['f-1_score'], kind = 'bar', figsize = (10,7))\n",
        "ax.hlines(results_df['f-1_score'].max(), -0.5, 10, linestyles='dashed')\n",
        "ax.legend(bbox_to_anchor = (1.2,1.0))"
      ],
      "execution_count": 188,
      "outputs": [
        {
          "output_type": "execute_result",
          "data": {
            "text/plain": [
              "<matplotlib.legend.Legend at 0x7fe8e0321950>"
            ]
          },
          "metadata": {
            "tags": []
          },
          "execution_count": 188
        },
        {
          "output_type": "display_data",
          "data": {
            "image/png": "[encoded data removed]",
            "text/plain": [
              "<Figure size 720x504 with 1 Axes>"
            ]
          },
          "metadata": {
            "tags": [],
            "needs_background": "light"
          }
        }
      ]
    },
    {
      "cell_type": "code",
      "metadata": {
        "id": "eJCMWi7uGTux"
      },
      "source": [
        ""
      ],
      "execution_count": null,
      "outputs": []
    }
  ]
}