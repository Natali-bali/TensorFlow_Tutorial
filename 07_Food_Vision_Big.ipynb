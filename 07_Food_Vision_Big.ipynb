{
  "nbformat": 4,
  "nbformat_minor": 0,
  "metadata": {
    "colab": {
      "name": "07_Food_Vision_Big.ipynb",
      "provenance": [],
      "collapsed_sections": [],
      "mount_file_id": "1cjjsihQ4kPan5B6dLYSTMXBXl0k_SjHr",
      "authorship_tag": "ABX9TyO8jbOUFOtLRhES6/QdfTHA",
      "include_colab_link": true
    },
    "kernelspec": {
      "name": "python3",
      "display_name": "Python 3"
    },
    "language_info": {
      "name": "python"
    },
    "accelerator": "GPU"
  },
  "cells": [
    {
      "cell_type": "markdown",
      "metadata": {
        "id": "view-in-github",
        "colab_type": "text"
      },
      "source": [
        "<a href=\"https://colab.research.google.com/github/Natali-bali/TensorFlow_Tutorial/blob/master/07_Food_Vision_Big.ipynb\" target=\"_parent\"><img src=\"https://colab.research.google.com/assets/colab-badge.svg\" alt=\"Open In Colab\"/></a>"
      ]
    },
    {
      "cell_type": "markdown",
      "metadata": {
        "id": "-mgfhmRB4DRD"
      },
      "source": [
        "# Milestone Project 1: 🍔👁 Food Vision Big™¶\n",
        "\n",
        "We're going to be building Food Vision Big™, using all of the data from the Food101 dataset.\n",
        "\n",
        "This time we've got the goal of beating DeepFood, a 2016 paper which used a Convolutional Neural Network trained for 2-3 days to achieve 77.4% top-1 accuracy.\n",
        "https://www.researchgate.net/publication/304163308_DeepFood_Deep_Learning-Based_Food_Image_Recognition_for_Computer-Aided_Dietary_Assessment\n",
        "\n",
        "Alongside attempting to beat the DeepFood paper, we're going to learn about two methods to significantly improve the speed of our model training:\n",
        "- Prefetching\n",
        "- Mixed precision training\n",
        "\n",
        "What we're going to cover:\n",
        "1. Using TensorFlow Datasets to download and explore data\n",
        "2. Creating preprocessing function for our data\n",
        "3. Batching & preparing datasets for modelling (making our datasets run fast)\n",
        "4. Creating modelling callbacks\n",
        "5. Setting up mixed precision training\n",
        "6. Building a feature extraction model \n",
        "7. Fine-tuning the feature extraction model\n",
        "8. Viewing training results on TensorBoard\n"
      ]
    },
    {
      "cell_type": "code",
      "metadata": {
        "colab": {
          "base_uri": "https://localhost:8080/"
        },
        "id": "_skKANkk38Z8",
        "outputId": "9735f91e-c71e-48a1-9047-544c92bf7477"
      },
      "source": [
        "!nvidia-smi -L"
      ],
      "execution_count": 4,
      "outputs": [
        {
          "output_type": "stream",
          "text": [
            "GPU 0: Tesla T4 (UUID: GPU-af68bb21-92a7-839c-cabf-406c278af1b1)\n"
          ],
          "name": "stdout"
        }
      ]
    },
    {
      "cell_type": "markdown",
      "metadata": {
        "id": "OvfaKxWb6J3Q"
      },
      "source": [
        "For mixed precision training to work, you need access to a GPU with a compute compability score of 7.0+.\n",
        "\n",
        "Google Colab offers P100, K80 and T4 GPUs, however, the P100 and K80 aren't compatible with mixed precision training.\n",
        "\n",
        "Therefore before we proceed we need to make sure we have access to a Tesla T4 GPU in our Google Colab instance."
      ]
    },
    {
      "cell_type": "markdown",
      "metadata": {
        "id": "zzaLal6J6wqx"
      },
      "source": [
        "### Imports and helper functions"
      ]
    },
    {
      "cell_type": "code",
      "metadata": {
        "colab": {
          "base_uri": "https://localhost:8080/"
        },
        "id": "M_2BslYW6Tg4",
        "outputId": "74235c2a-f75f-4a89-d845-098c13c46db8"
      },
      "source": [
        "# Get helper functions\n",
        "!wget 'https://raw.githubusercontent.com/Natali-bali/TensorFlow_Tutorial/master/helper_functions.py'"
      ],
      "execution_count": 5,
      "outputs": [
        {
          "output_type": "stream",
          "text": [
            "--2021-06-28 12:15:45--  https://raw.githubusercontent.com/Natali-bali/TensorFlow_Tutorial/master/helper_functions.py\n",
            "Resolving raw.githubusercontent.com (raw.githubusercontent.com)... 185.199.108.133, 185.199.109.133, 185.199.110.133, ...\n",
            "Connecting to raw.githubusercontent.com (raw.githubusercontent.com)|185.199.108.133|:443... connected.\n",
            "HTTP request sent, awaiting response... 200 OK\n",
            "Length: 11000 (11K) [text/plain]\n",
            "Saving to: ‘helper_functions.py.1’\n",
            "\n",
            "\rhelper_functions.py   0%[                    ]       0  --.-KB/s               \rhelper_functions.py 100%[===================>]  10.74K  --.-KB/s    in 0s      \n",
            "\n",
            "2021-06-28 12:15:45 (101 MB/s) - ‘helper_functions.py.1’ saved [11000/11000]\n",
            "\n"
          ],
          "name": "stdout"
        }
      ]
    },
    {
      "cell_type": "code",
      "metadata": {
        "id": "XJ6Z1RTo6TYt"
      },
      "source": [
        "import pandas as pd\n",
        "import numpy as np\n",
        "import tensorflow as tf\n",
        "import matplotlib.pyplot as plt\n",
        "\n",
        "from tensorflow.keras import backend as K\n",
        "from tensorflow.keras import Model\n",
        "from tensorflow.keras.applications.efficientnet import EfficientNetB0\n",
        "from tensorflow.keras.layers import Dense, GlobalAveragePooling2D, Input, Activation\n",
        "# from tensorflow.keras.layers.experimental.preprocessing import RandomFlip, RandomHeight, RandomRotation, RandomZoom, RandomWidth"
      ],
      "execution_count": 38,
      "outputs": []
    },
    {
      "cell_type": "code",
      "metadata": {
        "id": "2e32OCc6eFLJ",
        "colab": {
          "base_uri": "https://localhost:8080/",
          "height": 58
        },
        "outputId": "306a0975-e40b-4a16-e4d7-45500cd61dc3"
      },
      "source": [
        "tf.__version__"
      ],
      "execution_count": 12,
      "outputs": [
        {
          "output_type": "execute_result",
          "data": {
            "application/vnd.google.colaboratory.intrinsic+json": {
              "type": "string"
            },
            "text/plain": [
              "'2.4.1'"
            ]
          },
          "metadata": {
            "tags": []
          },
          "execution_count": 12
        }
      ]
    },
    {
      "cell_type": "markdown",
      "metadata": {
        "id": "mm9mYLZt63QA"
      },
      "source": [
        "### Get data\n",
        "from tensorflow datasets"
      ]
    },
    {
      "cell_type": "code",
      "metadata": {
        "id": "FV5a0QEW6TPx"
      },
      "source": [
        "import tensorflow_datasets.public_api as tfds"
      ],
      "execution_count": 13,
      "outputs": []
    },
    {
      "cell_type": "code",
      "metadata": {
        "id": "9ryIYU766TLf",
        "colab": {
          "base_uri": "https://localhost:8080/"
        },
        "outputId": "a14287ac-4ffe-49ed-8c41-a2630233d910"
      },
      "source": [
        "# List all available datasets\n",
        "datasets_list = tfds.list_builders()\n",
        "print('food101' in datasets_list)"
      ],
      "execution_count": 14,
      "outputs": [
        {
          "output_type": "stream",
          "text": [
            "True\n"
          ],
          "name": "stdout"
        }
      ]
    },
    {
      "cell_type": "code",
      "metadata": {
        "id": "3hHGdBKa6TBa",
        "colab": {
          "base_uri": "https://localhost:8080/"
        },
        "outputId": "64c6157f-0075-41ee-df09-55fa4e5a705c"
      },
      "source": [
        "datasets_list[:10]"
      ],
      "execution_count": 15,
      "outputs": [
        {
          "output_type": "execute_result",
          "data": {
            "text/plain": [
              "['abstract_reasoning',\n",
              " 'accentdb',\n",
              " 'aeslc',\n",
              " 'aflw2k3d',\n",
              " 'ag_news_subset',\n",
              " 'ai2_arc',\n",
              " 'ai2_arc_with_ir',\n",
              " 'amazon_us_reviews',\n",
              " 'anli',\n",
              " 'arc']"
            ]
          },
          "metadata": {
            "tags": []
          },
          "execution_count": 15
        }
      ]
    },
    {
      "cell_type": "code",
      "metadata": {
        "id": "rDCcEE2E9FAx"
      },
      "source": [
        "#Load in the data\n",
        "(train_data_, test_data_), ds_info = tfds.load(name = 'food101', \n",
        "                                             split = ['train', 'validation'],\n",
        "                                             as_supervised = True,\n",
        "                                             shuffle_files = True,\n",
        "                                             with_info = True)"
      ],
      "execution_count": 56,
      "outputs": []
    },
    {
      "cell_type": "markdown",
      "metadata": {
        "id": "jk2jCYKNAxtf"
      },
      "source": [
        " Note: Calling the tfds.load() method will start to download a target dataset to disk if the download=True parameter is set (default). This dataset could be 100GB+, so make sure you have space."
      ]
    },
    {
      "cell_type": "code",
      "metadata": {
        "id": "bExnVsHB-oOu",
        "colab": {
          "base_uri": "https://localhost:8080/"
        },
        "outputId": "b2a57f35-a06c-46d0-c67a-eac3018828a7"
      },
      "source": [
        "ds_info.features"
      ],
      "execution_count": 57,
      "outputs": [
        {
          "output_type": "execute_result",
          "data": {
            "text/plain": [
              "FeaturesDict({\n",
              "    'image': Image(shape=(None, None, 3), dtype=tf.uint8),\n",
              "    'label': ClassLabel(shape=(), dtype=tf.int64, num_classes=101),\n",
              "})"
            ]
          },
          "metadata": {
            "tags": []
          },
          "execution_count": 57
        }
      ]
    },
    {
      "cell_type": "code",
      "metadata": {
        "id": "H7lyj7acAZef"
      },
      "source": [
        "labels = ds_info.features['label'].names"
      ],
      "execution_count": 58,
      "outputs": []
    },
    {
      "cell_type": "code",
      "metadata": {
        "id": "wMX25HxYBjDn",
        "colab": {
          "base_uri": "https://localhost:8080/"
        },
        "outputId": "2ea0dbe6-5bfe-44a0-827f-763da35438e7"
      },
      "source": [
        "labels[:10]"
      ],
      "execution_count": 59,
      "outputs": [
        {
          "output_type": "execute_result",
          "data": {
            "text/plain": [
              "['apple_pie',\n",
              " 'baby_back_ribs',\n",
              " 'baklava',\n",
              " 'beef_carpaccio',\n",
              " 'beef_tartare',\n",
              " 'beet_salad',\n",
              " 'beignets',\n",
              " 'bibimbap',\n",
              " 'bread_pudding',\n",
              " 'breakfast_burrito']"
            ]
          },
          "metadata": {
            "tags": []
          },
          "execution_count": 59
        }
      ]
    },
    {
      "cell_type": "code",
      "metadata": {
        "id": "DlJzPdXaBt2T",
        "colab": {
          "base_uri": "https://localhost:8080/"
        },
        "outputId": "fd62aaae-764a-406e-efa7-50f393d614b0"
      },
      "source": [
        "train_data_"
      ],
      "execution_count": 60,
      "outputs": [
        {
          "output_type": "execute_result",
          "data": {
            "text/plain": [
              "<_OptionsDataset shapes: ((None, None, 3), ()), types: (tf.uint8, tf.int64)>"
            ]
          },
          "metadata": {
            "tags": []
          },
          "execution_count": 60
        }
      ]
    },
    {
      "cell_type": "code",
      "metadata": {
        "id": "DJ1Yg_F1CChT",
        "colab": {
          "base_uri": "https://localhost:8080/"
        },
        "outputId": "cf9c5584-c60d-4086-d754-39cd27aafa2f"
      },
      "source": [
        "train_data_.take(1)"
      ],
      "execution_count": 61,
      "outputs": [
        {
          "output_type": "execute_result",
          "data": {
            "text/plain": [
              "<TakeDataset shapes: ((None, None, 3), ()), types: (tf.uint8, tf.int64)>"
            ]
          },
          "metadata": {
            "tags": []
          },
          "execution_count": 61
        }
      ]
    },
    {
      "cell_type": "code",
      "metadata": {
        "id": "JOut6RvxCd_7"
      },
      "source": [
        "train_one_sample = train_data_.take(1)"
      ],
      "execution_count": 62,
      "outputs": []
    },
    {
      "cell_type": "code",
      "metadata": {
        "id": "37GYruCnClmH",
        "colab": {
          "base_uri": "https://localhost:8080/"
        },
        "outputId": "96fea021-f1f5-4635-b546-2e903084f0b2"
      },
      "source": [
        "for image, label in train_one_sample:\n",
        "  print('Image shape:', image.shape)\n",
        "  print('Image datatype:', image.dtype)\n",
        "  print('Target class:', label)\n",
        "  print('Class Name:', labels[label.numpy()])"
      ],
      "execution_count": 63,
      "outputs": [
        {
          "output_type": "stream",
          "text": [
            "Image shape: (512, 512, 3)\n",
            "Image datatype: <dtype: 'uint8'>\n",
            "Target class: tf.Tensor(18, shape=(), dtype=int64)\n",
            "Class Name: chicken_curry\n"
          ],
          "name": "stdout"
        }
      ]
    },
    {
      "cell_type": "code",
      "metadata": {
        "id": "1X0Ye_fzDNhb"
      },
      "source": [
        "#Labels are not one hot encoded"
      ],
      "execution_count": 64,
      "outputs": []
    },
    {
      "cell_type": "code",
      "metadata": {
        "id": "2X8uW09GEzva",
        "colab": {
          "base_uri": "https://localhost:8080/"
        },
        "outputId": "c9ec120f-ffca-4a65-cc5b-9805a9e5c077"
      },
      "source": [
        "image, tf.reduce_max(image), tf.reduce_min(image)"
      ],
      "execution_count": 65,
      "outputs": [
        {
          "output_type": "execute_result",
          "data": {
            "text/plain": [
              "(<tf.Tensor: shape=(512, 512, 3), dtype=uint8, numpy=\n",
              " array([[[170, 193, 165],\n",
              "         [175, 198, 170],\n",
              "         [187, 209, 186],\n",
              "         ...,\n",
              "         [253, 255, 249],\n",
              "         [253, 255, 249],\n",
              "         [253, 255, 249]],\n",
              " \n",
              "        [[169, 185, 159],\n",
              "         [169, 184, 161],\n",
              "         [171, 189, 167],\n",
              "         ...,\n",
              "         [253, 255, 249],\n",
              "         [253, 255, 249],\n",
              "         [253, 255, 249]],\n",
              " \n",
              "        [[166, 171, 151],\n",
              "         [161, 166, 146],\n",
              "         [158, 165, 147],\n",
              "         ...,\n",
              "         [253, 255, 249],\n",
              "         [253, 255, 249],\n",
              "         [253, 255, 249]],\n",
              " \n",
              "        ...,\n",
              " \n",
              "        [[143, 131, 105],\n",
              "         [143, 131, 105],\n",
              "         [141, 132, 103],\n",
              "         ...,\n",
              "         [152, 131, 104],\n",
              "         [153, 129, 103],\n",
              "         [151, 127, 101]],\n",
              " \n",
              "        [[139, 129, 102],\n",
              "         [138, 128, 101],\n",
              "         [137, 128,  99],\n",
              "         ...,\n",
              "         [150, 126, 100],\n",
              "         [151, 125, 100],\n",
              "         [152, 126,  99]],\n",
              " \n",
              "        [[133, 123,  96],\n",
              "         [134, 124,  97],\n",
              "         [136, 127,  98],\n",
              "         ...,\n",
              "         [149, 125,  99],\n",
              "         [152, 126,  99],\n",
              "         [156, 130, 103]]], dtype=uint8)>,\n",
              " <tf.Tensor: shape=(), dtype=uint8, numpy=255>,\n",
              " <tf.Tensor: shape=(), dtype=uint8, numpy=5>)"
            ]
          },
          "metadata": {
            "tags": []
          },
          "execution_count": 65
        }
      ]
    },
    {
      "cell_type": "code",
      "metadata": {
        "id": "QtmVOuXHE9oH",
        "colab": {
          "base_uri": "https://localhost:8080/",
          "height": 301
        },
        "outputId": "2d9b5337-61b5-4be6-fb94-0f825fe9226b"
      },
      "source": [
        "#Plot this picture\n",
        "plt.imshow(image)\n",
        "plt.title(labels[label.numpy()])\n",
        "plt.axis(False)"
      ],
      "execution_count": 66,
      "outputs": [
        {
          "output_type": "execute_result",
          "data": {
            "text/plain": [
              "(-0.5, 511.5, 511.5, -0.5)"
            ]
          },
          "metadata": {
            "tags": []
          },
          "execution_count": 66
        },
        {
          "output_type": "display_data",
          "data": {
            "image/png": "[encoded data removed]",
            "text/plain": [
              "<Figure size 432x288 with 1 Axes>"
            ]
          },
          "metadata": {
            "tags": [],
            "needs_background": "light"
          }
        }
      ]
    },
    {
      "cell_type": "markdown",
      "metadata": {
        "id": "T--7DEAJNFbq"
      },
      "source": [
        "### Make a function for preprocessing images"
      ]
    },
    {
      "cell_type": "code",
      "metadata": {
        "id": "kf78WlVaFo-o"
      },
      "source": [
        "def prep_img(img, label, img_shape = 224):\n",
        "  \"\"\"\n",
        "  Convert image datatype tp float32 and reshapes to [img_shape, img_shape, color]\n",
        "  \"\"\"\n",
        "  img = tf.image.resize(img, [img_shape, img_shape])\n",
        "  img = tf.cast(img, dtype = tf.float32)\n",
        "  return img, label"
      ],
      "execution_count": 67,
      "outputs": []
    },
    {
      "cell_type": "code",
      "metadata": {
        "id": "NvMTY-JQLBue"
      },
      "source": [
        "img, label = prep_img(image, label)"
      ],
      "execution_count": 68,
      "outputs": []
    },
    {
      "cell_type": "code",
      "metadata": {
        "id": "V4REqBnKMD4n",
        "colab": {
          "base_uri": "https://localhost:8080/"
        },
        "outputId": "fe2d4f1d-24fd-498c-feee-7a9fa14cb063"
      },
      "source": [
        "img.shape"
      ],
      "execution_count": 70,
      "outputs": [
        {
          "output_type": "execute_result",
          "data": {
            "text/plain": [
              "TensorShape([224, 224, 3])"
            ]
          },
          "metadata": {
            "tags": []
          },
          "execution_count": 70
        }
      ]
    },
    {
      "cell_type": "markdown",
      "metadata": {
        "id": "YAARNL6oNAUT"
      },
      "source": [
        "### Batch and prepare datasets"
      ]
    },
    {
      "cell_type": "code",
      "metadata": {
        "id": "zzOmkhGsMFUW"
      },
      "source": [
        "#Map preprocessing function\n",
        "train_data = train_data_.map(map_func=prep_img, num_parallel_calls=tf.data.AUTOTUNE) #num_parallel_calls=tf.data.AUTOTUNE to get all computing resurses\n",
        "#Make butches and shuffle again\n",
        "train_data = train_data.shuffle(buffer_size=1000).batch(batch_size = 32).prefetch(buffer_size = tf.data.AUTOTUNE)\n",
        "#Same with test data\n",
        "test_data = test_data_.map(map_func=prep_img, num_parallel_calls=tf.data.AUTOTUNE)\n",
        "test_data = test_data.shuffle(buffer_size=1000).batch(batch_size = 32).prefetch(buffer_size = tf.data.AUTOTUNE)\n"
      ],
      "execution_count": 71,
      "outputs": []
    },
    {
      "cell_type": "code",
      "metadata": {
        "id": "NinTpNcvPa4X",
        "colab": {
          "base_uri": "https://localhost:8080/"
        },
        "outputId": "cad3fc21-3716-4d60-b755-954c572af1cd"
      },
      "source": [
        "train_data, test_data"
      ],
      "execution_count": 72,
      "outputs": [
        {
          "output_type": "execute_result",
          "data": {
            "text/plain": [
              "(<PrefetchDataset shapes: ((None, 224, 224, 3), (None,)), types: (tf.float32, tf.int64)>,\n",
              " <PrefetchDataset shapes: ((None, 224, 224, 3), (None,)), types: (tf.float32, tf.int64)>)"
            ]
          },
          "metadata": {
            "tags": []
          },
          "execution_count": 72
        }
      ]
    },
    {
      "cell_type": "markdown",
      "metadata": {
        "id": "4_SeFQWQRYv3"
      },
      "source": [
        "### Create modeling callbacks"
      ]
    },
    {
      "cell_type": "code",
      "metadata": {
        "id": "Ro4t1jUlPeKP"
      },
      "source": [
        "def create_checkpoint(model_name):\n",
        "  \"\"\"Returns checkpoint callback function, args: model number\"\"\"\n",
        "  checkpoint_filepath = 'checkpoints/checkpoint_'+model_name+'.ckpt'\n",
        "  model_checkpoints = tf.keras.callbacks.ModelCheckpoint(checkpoint_filepath, monitor='val_loss', verbose=1, save_best_only=True,\n",
        "                                                          save_weights_only=True, save_freq='epoch',\n",
        "                                                          options=None)\n",
        "  return model_checkpoints\n",
        "\n",
        "def early_stopping():\n",
        "  return tf.keras.callbacks.EarlyStopping(monitor='val_loss', \n",
        "                                          min_delta=0, \n",
        "                                          patience=2, \n",
        "                                          verbose=0,\n",
        "                                          mode='auto', \n",
        "                                          baseline=None, \n",
        "                                          restore_best_weights=False)\n",
        "import datetime\n",
        "def create_tf_board_callback(dir_name, experiment_name):\n",
        "  log_dir = dir_name + '/' + experiment_name + '/' + datetime.datetime.now().strftime('%Y%m%d-%H%M%S')\n",
        "  tensorflow_callback = tf.keras.callbacks.TensorBoard(log_dir=log_dir)\n",
        "  print(f'Saving TensorBoard log files to {log_dir}')\n",
        "  return tensorflow_callback"
      ],
      "execution_count": 73,
      "outputs": []
    },
    {
      "cell_type": "markdown",
      "metadata": {
        "id": "3B3NvrYUWKJj"
      },
      "source": [
        "### Set up mixed precision training"
      ]
    },
    {
      "cell_type": "code",
      "metadata": {
        "id": "eti7KAu-WPTj",
        "colab": {
          "base_uri": "https://localhost:8080/",
          "height": 58
        },
        "outputId": "a89f8a49-7b56-4469-e266-8b1bff81566b"
      },
      "source": [
        "import tensorflow\n",
        "tensorflow.__version__"
      ],
      "execution_count": 74,
      "outputs": [
        {
          "output_type": "execute_result",
          "data": {
            "application/vnd.google.colaboratory.intrinsic+json": {
              "type": "string"
            },
            "text/plain": [
              "'2.4.1'"
            ]
          },
          "metadata": {
            "tags": []
          },
          "execution_count": 74
        }
      ]
    },
    {
      "cell_type": "code",
      "metadata": {
        "id": "5SmTkKINWfVo"
      },
      "source": [
        "from tensorflow.keras import mixed_precision\n",
        "mixed_precision.set_global_policy('mixed_float16')"
      ],
      "execution_count": 75,
      "outputs": []
    },
    {
      "cell_type": "markdown",
      "metadata": {
        "id": "ChCQxfAuc2Ii"
      },
      "source": [
        "### Building feature extraction model"
      ]
    },
    {
      "cell_type": "markdown",
      "metadata": {
        "id": "P39n5i34dr-6"
      },
      "source": [
        "tf 2.5 has a bug, so we need to downgrade it to 2.4.1 version"
      ]
    },
    {
      "cell_type": "code",
      "metadata": {
        "id": "784bx4JRd10Y"
      },
      "source": [
        "#!pip3 install tensorflow==2.4.1"
      ],
      "execution_count": 76,
      "outputs": []
    },
    {
      "cell_type": "code",
      "metadata": {
        "id": "sy5xm6Hqbjn7"
      },
      "source": [
        "base_model = EfficientNetB0(include_top=False)\n",
        "base_model.trainable = False"
      ],
      "execution_count": 77,
      "outputs": []
    },
    {
      "cell_type": "code",
      "metadata": {
        "id": "8St7kXvcdV9_"
      },
      "source": [
        "inputs = Input(shape = (224,224,3), name = 'input_layer')\n",
        "gap_layer = GlobalAveragePooling2D(name = 'global_average_pooling')\n",
        "dense = Dense(len(labels))\n",
        "outputs = Activation(activation = 'softmax', dtype = tf.float32, name = 'output')"
      ],
      "execution_count": 78,
      "outputs": []
    },
    {
      "cell_type": "code",
      "metadata": {
        "id": "d4z4aX57k_1E"
      },
      "source": [
        "x = base_model(inputs, training = False)\n",
        "x = gap_layer(x)\n",
        "x = dense(x)\n",
        "outputs = outputs(x)\n",
        "model = Model(inputs, outputs)"
      ],
      "execution_count": 79,
      "outputs": []
    },
    {
      "cell_type": "code",
      "metadata": {
        "id": "S1mkbegPl8Xl"
      },
      "source": [
        "model.compile(loss = 'sparse_categorical_crossentropy', optimizer='adam', metrics = ['accuracy'])"
      ],
      "execution_count": 80,
      "outputs": []
    },
    {
      "cell_type": "code",
      "metadata": {
        "colab": {
          "base_uri": "https://localhost:8080/"
        },
        "id": "RnaWlseYm3ZX",
        "outputId": "abd58af1-1b3d-40c8-e6d5-6aee0d8009e7"
      },
      "source": [
        "model.summary()"
      ],
      "execution_count": 81,
      "outputs": [
        {
          "output_type": "stream",
          "text": [
            "Model: \"model_2\"\n",
            "_________________________________________________________________\n",
            "Layer (type)                 Output Shape              Param #   \n",
            "=================================================================\n",
            "input_layer (InputLayer)     [(None, 224, 224, 3)]     0         \n",
            "_________________________________________________________________\n",
            "efficientnetb0 (Functional)  (None, None, None, 1280)  4049571   \n",
            "_________________________________________________________________\n",
            "global_average_pooling (Glob (None, 1280)              0         \n",
            "_________________________________________________________________\n",
            "dense_2 (Dense)              (None, 101)               129381    \n",
            "_________________________________________________________________\n",
            "output (Activation)          (None, 101)               0         \n",
            "=================================================================\n",
            "Total params: 4,178,952\n",
            "Trainable params: 129,381\n",
            "Non-trainable params: 4,049,571\n",
            "_________________________________________________________________\n"
          ],
          "name": "stdout"
        }
      ]
    },
    {
      "cell_type": "code",
      "metadata": {
        "colab": {
          "base_uri": "https://localhost:8080/"
        },
        "id": "1nu-4QtAm3J8",
        "outputId": "4fb9ad9f-648d-4b37-b6ac-3e69a05bef7c"
      },
      "source": [
        "for layer in model.layers:\n",
        "  print(layer.name, layer.trainable, layer.dtype, layer.dtype_policy)"
      ],
      "execution_count": 82,
      "outputs": [
        {
          "output_type": "stream",
          "text": [
            "input_layer True float32 <Policy \"float32\">\n",
            "efficientnetb0 False float32 <Policy \"mixed_float16\">\n",
            "global_average_pooling True float32 <Policy \"mixed_float16\">\n",
            "dense_2 True float32 <Policy \"mixed_float16\">\n",
            "output True float32 <Policy \"float32\">\n"
          ],
          "name": "stdout"
        }
      ]
    },
    {
      "cell_type": "code",
      "metadata": {
        "colab": {
          "base_uri": "https://localhost:8080/"
        },
        "id": "fxJluqEQmPdY",
        "outputId": "98c96474-7d0e-4e13-b344-bccc1c34ac55"
      },
      "source": [
        "history_features = model.fit(train_data,\n",
        "                             epochs = 3,\n",
        "                             validation_data = test_data,\n",
        "                             steps_per_epoch = len(train_data),\n",
        "                             validation_steps = int(0.15*len(test_data)),\n",
        "                             callbacks = [create_checkpoint('feature_extr_1'),\n",
        "                                          early_stopping(),\n",
        "                                          create_tf_board_callback('efficientnetB0_full', 'feature_extr')])"
      ],
      "execution_count": 83,
      "outputs": [
        {
          "output_type": "stream",
          "text": [
            "Saving TensorBoard log files to efficientnetB0_full/feature_extr/20210628-124538\n",
            "Epoch 1/3\n",
            "2368/2368 [==============================] - 224s 79ms/step - loss: 2.3307 - accuracy: 0.4622 - val_loss: 1.2381 - val_accuracy: 0.6745\n",
            "\n",
            "Epoch 00001: val_loss improved from inf to 1.23809, saving model to checkpoints/checkpoint_feature_extr_1.ckpt\n",
            "Epoch 2/3\n",
            "2368/2368 [==============================] - 172s 72ms/step - loss: 1.3099 - accuracy: 0.6619 - val_loss: 1.1201 - val_accuracy: 0.7002\n",
            "\n",
            "Epoch 00002: val_loss improved from 1.23809 to 1.12013, saving model to checkpoints/checkpoint_feature_extr_1.ckpt\n",
            "Epoch 3/3\n",
            "2368/2368 [==============================] - 163s 68ms/step - loss: 1.1445 - accuracy: 0.7033 - val_loss: 1.0883 - val_accuracy: 0.7042\n",
            "\n",
            "Epoch 00003: val_loss improved from 1.12013 to 1.08828, saving model to checkpoints/checkpoint_feature_extr_1.ckpt\n"
          ],
          "name": "stdout"
        }
      ]
    },
    {
      "cell_type": "code",
      "metadata": {
        "id": "Wpt6IosLtB9Y"
      },
      "source": [
        "def plot_loss_curves(history):\n",
        "    \"\"\"\n",
        "    Args: TensorFlow model history object\n",
        "    Returns: separate loss curves for training and validation metrics.\n",
        "    \"\"\"\n",
        "    train_loss = history.history['loss']\n",
        "    val_loss = history.history['val_loss']\n",
        "    train_accuracy = history.history['accuracy']\n",
        "    val_accuracy = history.history['val_accuracy']\n",
        "    epochs = range(len(history.history['loss']))\n",
        "\n",
        "    #Plot Loss\n",
        "    plt.plot(epochs, train_loss, label = 'Training Loss')\n",
        "    plt.plot(epochs, val_loss, label = 'Validation Loss')\n",
        "    plt.title('Loss')\n",
        "    plt.xlabel('epochs')\n",
        "    plt.legend()\n",
        "\n",
        "    #Plot Accuracy\n",
        "    plt.figure()\n",
        "    plt.plot(epochs, train_accuracy, label = 'Training Accuracy')\n",
        "    plt.plot(epochs, val_accuracy, label = 'Validation Accuracy')\n",
        "    plt.title('Accuracy')\n",
        "    plt.xlabel('epochs')\n",
        "    plt.legend()"
      ],
      "execution_count": 85,
      "outputs": []
    },
    {
      "cell_type": "code",
      "metadata": {
        "colab": {
          "base_uri": "https://localhost:8080/",
          "height": 593
        },
        "id": "d6LiI1tytDhA",
        "outputId": "11c7ad33-7971-4f39-f444-6be264fda289"
      },
      "source": [
        "plot_loss_curves(history_features)"
      ],
      "execution_count": 86,
      "outputs": [
        {
          "output_type": "display_data",
          "data": {
            "image/png": "[encoded data removed]",
            "text/plain": [
              "<Figure size 432x288 with 1 Axes>"
            ]
          },
          "metadata": {
            "tags": [],
            "needs_background": "light"
          }
        },
        {
          "output_type": "display_data",
          "data": {
            "image/png": "[encoded data removed]",
            "text/plain": [
              "<Figure size 432x288 with 1 Axes>"
            ]
          },
          "metadata": {
            "tags": [],
            "needs_background": "light"
          }
        }
      ]
    },
    {
      "cell_type": "markdown",
      "metadata": {
        "id": "iDg7f_7usUL4"
      },
      "source": [
        "### Fine tuning our model"
      ]
    },
    {
      "cell_type": "code",
      "metadata": {
        "id": "D2A8HzcBocyg"
      },
      "source": [
        "base_model.trainable = True\n",
        "for layer in base_model.layers[:-10]:\n",
        "  layer.trainable = False\n"
      ],
      "execution_count": 87,
      "outputs": []
    },
    {
      "cell_type": "code",
      "metadata": {
        "id": "OFfNmTqFszET"
      },
      "source": [
        "model.compile(optimizer=tf.keras.optimizers.Adam(learning_rate=0.0001), loss = 'sparse_categorical_crossentropy',\n",
        "              metrics = 'accuracy')"
      ],
      "execution_count": 88,
      "outputs": []
    },
    {
      "cell_type": "code",
      "metadata": {
        "colab": {
          "base_uri": "https://localhost:8080/"
        },
        "id": "IV2SJ2xHuBfQ",
        "outputId": "89a07998-3130-411f-ac66-106439c305fe"
      },
      "source": [
        "history_fine_tuned = model.fit(train_data, epochs = 5,\n",
        "                               validation_data = train_data,\n",
        "                               steps_per_epoch = len(train_data),\n",
        "                               validation_steps = int(0.15*len(test_data)),\n",
        "                               callbacks = [create_checkpoint('fine_tune'),\n",
        "                                          early_stopping(),\n",
        "                                          create_tf_board_callback('efficientnetB0_full', 'fine_tune')])"
      ],
      "execution_count": 89,
      "outputs": [
        {
          "output_type": "stream",
          "text": [
            "Saving TensorBoard log files to efficientnetB0_full/fine_tune/20210628-130732\n",
            "Epoch 1/5\n",
            "2368/2368 [==============================] - 178s 72ms/step - loss: 0.9762 - accuracy: 0.7409 - val_loss: 0.8492 - val_accuracy: 0.7728\n",
            "\n",
            "Epoch 00001: val_loss improved from inf to 0.84916, saving model to checkpoints/checkpoint_fine_tune.ckpt\n",
            "Epoch 2/5\n",
            "2368/2368 [==============================] - 169s 71ms/step - loss: 0.8053 - accuracy: 0.7868 - val_loss: 0.7220 - val_accuracy: 0.8032\n",
            "\n",
            "Epoch 00002: val_loss improved from 0.84916 to 0.72203, saving model to checkpoints/checkpoint_fine_tune.ckpt\n",
            "Epoch 3/5\n",
            "2368/2368 [==============================] - 167s 70ms/step - loss: 0.6920 - accuracy: 0.8169 - val_loss: 0.6253 - val_accuracy: 0.8369\n",
            "\n",
            "Epoch 00003: val_loss improved from 0.72203 to 0.62530, saving model to checkpoints/checkpoint_fine_tune.ckpt\n",
            "Epoch 4/5\n",
            "2368/2368 [==============================] - 164s 69ms/step - loss: 0.5971 - accuracy: 0.8443 - val_loss: 0.5203 - val_accuracy: 0.8620\n",
            "\n",
            "Epoch 00004: val_loss improved from 0.62530 to 0.52030, saving model to checkpoints/checkpoint_fine_tune.ckpt\n",
            "Epoch 5/5\n",
            "2368/2368 [==============================] - 165s 69ms/step - loss: 0.5099 - accuracy: 0.8692 - val_loss: 0.4346 - val_accuracy: 0.8864\n",
            "\n",
            "Epoch 00005: val_loss improved from 0.52030 to 0.43458, saving model to checkpoints/checkpoint_fine_tune.ckpt\n"
          ],
          "name": "stdout"
        }
      ]
    },
    {
      "cell_type": "code",
      "metadata": {
        "colab": {
          "base_uri": "https://localhost:8080/"
        },
        "id": "9tSteqSXyHRm",
        "outputId": "6bf2a7bb-1e98-4cfc-a773-1b65de73376b"
      },
      "source": [
        "model.evaluate(test_data)"
      ],
      "execution_count": 91,
      "outputs": [
        {
          "output_type": "stream",
          "text": [
            "790/790 [==============================] - 59s 72ms/step - loss: 1.0017 - accuracy: 0.7373\n"
          ],
          "name": "stdout"
        },
        {
          "output_type": "execute_result",
          "data": {
            "text/plain": [
              "[1.0016885995864868, 0.7373069524765015]"
            ]
          },
          "metadata": {
            "tags": []
          },
          "execution_count": 91
        }
      ]
    },
    {
      "cell_type": "code",
      "metadata": {
        "colab": {
          "base_uri": "https://localhost:8080/"
        },
        "id": "Tl6GoK2FyVv6",
        "outputId": "c92fe75a-f9f4-4db6-c4ca-117c121b03be"
      },
      "source": [
        "from google.colab import drive\n",
        "drive.mount('/content/gd')"
      ],
      "execution_count": 96,
      "outputs": [
        {
          "output_type": "stream",
          "text": [
            "Mounted at /content/gd\n"
          ],
          "name": "stdout"
        }
      ]
    },
    {
      "cell_type": "code",
      "metadata": {
        "colab": {
          "base_uri": "https://localhost:8080/"
        },
        "id": "m7fo5zAxu2jv",
        "outputId": "ef8cf691-bf4c-4424-f818-22c91879da08"
      },
      "source": [
        "model.save('/content/gd/MyDrive/projects/SPICED/models/model_food101_full_2')"
      ],
      "execution_count": 97,
      "outputs": [
        {
          "output_type": "stream",
          "text": [
            "INFO:tensorflow:Assets written to: /content/gd/MyDrive/projects/SPICED/models/model_food101_full_2/assets\n"
          ],
          "name": "stdout"
        },
        {
          "output_type": "stream",
          "text": [
            "INFO:tensorflow:Assets written to: /content/gd/MyDrive/projects/SPICED/models/model_food101_full_2/assets\n"
          ],
          "name": "stderr"
        }
      ]
    },
    {
      "cell_type": "code",
      "metadata": {
        "id": "SbxmPAUNzL_E"
      },
      "source": [
        "#Train for another 5 epochs"
      ],
      "execution_count": null,
      "outputs": []
    },
    {
      "cell_type": "code",
      "metadata": {
        "id": "VhkdsnFo3M4V"
      },
      "source": [
        "model.compile(optimizer=tf.keras.optimizers.Adam(learning_rate=0.00001), loss = 'sparse_categorical_crossentropy',\n",
        "              metrics = 'accuracy')"
      ],
      "execution_count": 98,
      "outputs": []
    },
    {
      "cell_type": "code",
      "metadata": {
        "colab": {
          "base_uri": "https://localhost:8080/"
        },
        "id": "FZPMh6Jz3M4X",
        "outputId": "bc24eaef-612b-4bf5-b108-799b83cb5a91"
      },
      "source": [
        "history_fine_tuned_2 = model.fit(train_data, epochs = 10,\n",
        "                              initial_epoch=5,\n",
        "                               validation_data = train_data,\n",
        "                               steps_per_epoch = len(train_data),\n",
        "                               validation_steps = int(0.15*len(test_data)),\n",
        "                               callbacks = [create_checkpoint('fine_tune'),\n",
        "                                          early_stopping(),\n",
        "                                          create_tf_board_callback('efficientnetB0_full', 'fine_tune')])"
      ],
      "execution_count": 99,
      "outputs": [
        {
          "output_type": "stream",
          "text": [
            "Saving TensorBoard log files to efficientnetB0_full/fine_tune/20210628-134519\n",
            "Epoch 6/10\n",
            "2368/2368 [==============================] - 178s 72ms/step - loss: 0.4015 - accuracy: 0.9036 - val_loss: 0.3866 - val_accuracy: 0.9033\n",
            "\n",
            "Epoch 00006: val_loss improved from inf to 0.38663, saving model to checkpoints/checkpoint_fine_tune.ckpt\n",
            "Epoch 7/10\n",
            "2368/2368 [==============================] - 169s 71ms/step - loss: 0.3739 - accuracy: 0.9126 - val_loss: 0.3967 - val_accuracy: 0.9068\n",
            "\n",
            "Epoch 00007: val_loss did not improve from 0.38663\n",
            "Epoch 8/10\n",
            "2368/2368 [==============================] - 169s 71ms/step - loss: 0.3605 - accuracy: 0.9158 - val_loss: 0.3795 - val_accuracy: 0.9131\n",
            "\n",
            "Epoch 00008: val_loss improved from 0.38663 to 0.37946, saving model to checkpoints/checkpoint_fine_tune.ckpt\n",
            "Epoch 9/10\n",
            "2368/2368 [==============================] - 169s 71ms/step - loss: 0.3515 - accuracy: 0.9200 - val_loss: 0.3547 - val_accuracy: 0.9137\n",
            "\n",
            "Epoch 00009: val_loss improved from 0.37946 to 0.35474, saving model to checkpoints/checkpoint_fine_tune.ckpt\n",
            "Epoch 10/10\n",
            "2368/2368 [==============================] - 169s 71ms/step - loss: 0.3400 - accuracy: 0.9230 - val_loss: 0.3560 - val_accuracy: 0.9158\n",
            "\n",
            "Epoch 00010: val_loss did not improve from 0.35474\n"
          ],
          "name": "stdout"
        }
      ]
    },
    {
      "cell_type": "code",
      "metadata": {
        "colab": {
          "base_uri": "https://localhost:8080/"
        },
        "id": "4iqd6ia84vZK",
        "outputId": "f8881b3d-acbe-4a3f-d6cf-606c307daa73"
      },
      "source": [
        "result = model.evaluate(test_data)"
      ],
      "execution_count": 103,
      "outputs": [
        {
          "output_type": "stream",
          "text": [
            "790/790 [==============================] - 57s 70ms/step - loss: 1.0063 - accuracy: 0.7409\n"
          ],
          "name": "stdout"
        }
      ]
    },
    {
      "cell_type": "code",
      "metadata": {
        "id": "x79ji-Sh3gP4"
      },
      "source": [
        "def compare_historys(original_history, new_history, initial_epochs=5):\n",
        "  \"\"\"\n",
        "  Compares two model history objects.\n",
        "  \"\"\"\n",
        "  # Get original history measurements\n",
        "  acc = original_history.history[\"accuracy\"]\n",
        "  loss = original_history.history[\"loss\"]\n",
        "\n",
        "  print(len(acc))\n",
        "\n",
        "  val_acc = original_history.history[\"val_accuracy\"]\n",
        "  val_loss = original_history.history[\"val_loss\"]\n",
        "\n",
        "  # Combine original history with new history\n",
        "  total_acc = acc + new_history.history[\"accuracy\"]\n",
        "  total_loss = loss + new_history.history[\"loss\"]\n",
        "\n",
        "  total_val_acc = val_acc + new_history.history[\"val_accuracy\"]\n",
        "  total_val_loss = val_loss + new_history.history[\"val_loss\"]\n",
        "\n",
        "  print(len(total_acc))\n",
        "  print(total_acc)\n",
        "\n",
        "  # Make plots\n",
        "  plt.figure(figsize=(8, 8))\n",
        "  plt.subplot(2, 1, 1)\n",
        "  plt.plot(total_acc, label='Training Accuracy')\n",
        "  plt.plot(total_val_acc, label='Validation Accuracy')\n",
        "  plt.plot([initial_epochs-1, initial_epochs-1],\n",
        "            plt.ylim(), label='Start Fine Tuning') # reshift plot around epochs\n",
        "  plt.legend(loc='lower right')\n",
        "  plt.title('Training and Validation Accuracy')\n",
        "\n",
        "  plt.subplot(2, 1, 2)\n",
        "  plt.plot(total_loss, label='Training Loss')\n",
        "  plt.plot(total_val_loss, label='Validation Loss')\n",
        "  plt.plot([initial_epochs-1, initial_epochs-1],\n",
        "            plt.ylim(), label='Start Fine Tuning') # reshift plot around epochs\n",
        "  plt.legend(loc='upper right')\n",
        "  plt.title('Training and Validation Loss')\n",
        "  plt.xlabel('epoch')\n",
        "  plt.show()"
      ],
      "execution_count": 100,
      "outputs": []
    },
    {
      "cell_type": "code",
      "metadata": {
        "colab": {
          "base_uri": "https://localhost:8080/",
          "height": 583
        },
        "id": "7ayjclZ-3obe",
        "outputId": "c3b329bc-4b1c-4189-dc4f-1d9d1b21bd0e"
      },
      "source": [
        "#History of feature extraction and fine tuning models\n",
        "compare_historys(history_features, history_fine_tuned, initial_epochs=5)"
      ],
      "execution_count": 101,
      "outputs": [
        {
          "output_type": "stream",
          "text": [
            "3\n",
            "8\n",
            "[0.5561320185661316, 0.664382815361023, 0.702297031879425, 0.7512211203575134, 0.7869439125061035, 0.8168448805809021, 0.8418745994567871, 0.8663366436958313]\n"
          ],
          "name": "stdout"
        },
        {
          "output_type": "display_data",
          "data": {
            "image/png": "[encoded data removed]",
            "text/plain": [
              "<Figure size 576x576 with 2 Axes>"
            ]
          },
          "metadata": {
            "tags": [],
            "needs_background": "light"
          }
        }
      ]
    },
    {
      "cell_type": "code",
      "metadata": {
        "colab": {
          "base_uri": "https://localhost:8080/",
          "height": 583
        },
        "id": "kl6DXvSh7D6Z",
        "outputId": "0c8f9486-8cc3-4923-f840-9f53450aa9c1"
      },
      "source": [
        "#Histories of fine tuning 1 and fine tuning 2\n",
        "compare_historys(history_fine_tuned, history_fine_tuned_2,initial_epochs=5)"
      ],
      "execution_count": 104,
      "outputs": [
        {
          "output_type": "stream",
          "text": [
            "5\n",
            "10\n",
            "[0.7512211203575134, 0.7869439125061035, 0.8168448805809021, 0.8418745994567871, 0.8663366436958313, 0.9092937111854553, 0.9148382544517517, 0.9185346364974976, 0.9214389324188232, 0.9237755537033081]\n"
          ],
          "name": "stdout"
        },
        {
          "output_type": "display_data",
          "data": {
            "image/png": "[encoded data removed]",
            "text/plain": [
              "<Figure size 576x576 with 2 Axes>"
            ]
          },
          "metadata": {
            "tags": [],
            "needs_background": "light"
          }
        }
      ]
    },
    {
      "cell_type": "markdown",
      "metadata": {
        "id": "LICtMLzy6mDS"
      },
      "source": [
        "### ReduceLROnPlateau callback"
      ]
    },
    {
      "cell_type": "code",
      "metadata": {
        "id": "PXz6FSNS32Rp"
      },
      "source": [
        "# Creating learning rate reduction callback\n",
        "reduce_lr = tf.keras.callbacks.ReduceLROnPlateau(monitor=\"val_loss\",  \n",
        "                                                 factor=0.2, # multiply the learning rate by 0.2 (reduce by 5x)\n",
        "                                                 patience=2,\n",
        "                                                 verbose=1, # print out when learning rate goes down \n",
        "                                                 min_lr=1e-7)"
      ],
      "execution_count": 102,
      "outputs": []
    },
    {
      "cell_type": "code",
      "metadata": {
        "id": "8Duui53f6vID"
      },
      "source": [
        ""
      ],
      "execution_count": null,
      "outputs": []
    }
  ]
}