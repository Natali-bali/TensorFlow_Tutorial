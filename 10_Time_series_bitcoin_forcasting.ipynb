{
  "nbformat": 4,
  "nbformat_minor": 0,
  "metadata": {
    "accelerator": "GPU",
    "colab": {
      "name": "10_Time_series_bitcoin_forcasting.ipynb",
      "provenance": [],
      "collapsed_sections": [],
      "authorship_tag": "ABX9TyPw7L90AiG9QH1mdb/kRWrN",
      "include_colab_link": true
    },
    "kernelspec": {
      "display_name": "Python 3",
      "name": "python3"
    },
    "language_info": {
      "name": "python"
    }
  },
  "cells": [
    {
      "cell_type": "markdown",
      "metadata": {
        "id": "view-in-github",
        "colab_type": "text"
      },
      "source": [
        "<a href=\"https://colab.research.google.com/github/Natali-bali/TensorFlow_Tutorial/blob/master/10_Time_series_bitcoin_forcasting.ipynb\" target=\"_parent\"><img src=\"https://colab.research.google.com/assets/colab-badge.svg\" alt=\"Open In Colab\"/></a>"
      ]
    },
    {
      "cell_type": "markdown",
      "metadata": {
        "id": "EKJ8aavK6K-g"
      },
      "source": [
        "#Time series forecasting in TensorFlow (BitPredict 💰📈)\n",
        "\n",
        "The goal of this notebook is to get you familiar with working with time series data.\n",
        "\n",
        "We're going to be building a series of models in an attempt to predict the price of Bitcoin."
      ]
    },
    {
      "cell_type": "markdown",
      "metadata": {
        "id": "min8PTpH1heJ"
      },
      "source": [
        "### Get helper functions"
      ]
    },
    {
      "cell_type": "code",
      "metadata": {
        "colab": {
          "base_uri": "https://localhost:8080/"
        },
        "id": "zXaGOTvJiqno",
        "outputId": "cba5d8a8-9659-4c8b-d4ef-befac1592d74"
      },
      "source": [
        "!wget 'https://raw.githubusercontent.com/Natali-bali/TensorFlow_Tutorial/master/helper_functions.py'"
      ],
      "execution_count": 1,
      "outputs": [
        {
          "output_type": "stream",
          "text": [
            "--2021-08-02 11:18:39--  https://raw.githubusercontent.com/Natali-bali/TensorFlow_Tutorial/master/helper_functions.py\n",
            "Resolving raw.githubusercontent.com (raw.githubusercontent.com)... 185.199.110.133, 185.199.111.133, 185.199.108.133, ...\n",
            "Connecting to raw.githubusercontent.com (raw.githubusercontent.com)|185.199.110.133|:443... connected.\n",
            "HTTP request sent, awaiting response... 200 OK\n",
            "Length: 11016 (11K) [text/plain]\n",
            "Saving to: ‘helper_functions.py’\n",
            "\n",
            "\rhelper_functions.py   0%[                    ]       0  --.-KB/s               \rhelper_functions.py 100%[===================>]  10.76K  --.-KB/s    in 0s      \n",
            "\n",
            "2021-08-02 11:18:39 (82.2 MB/s) - ‘helper_functions.py’ saved [11016/11016]\n",
            "\n"
          ],
          "name": "stdout"
        }
      ]
    },
    {
      "cell_type": "markdown",
      "metadata": {
        "id": "o9RIFqOF6cJS"
      },
      "source": [
        "### Imports"
      ]
    },
    {
      "cell_type": "code",
      "metadata": {
        "id": "1HyJKFPj6YYQ"
      },
      "source": [
        "import pandas as pd\n",
        "import numpy as np\n",
        "import matplotlib.pyplot as plt\n",
        "import csv\n",
        "from datetime import datetime\n",
        "\n",
        "import tensorflow as tf\n",
        "from tensorflow.keras import backend as K \n",
        "from tensorflow.keras import Sequential\n",
        "from tensorflow.keras.models import load_model\n",
        "from tensorflow.keras.metrics import mean_absolute_percentage_error, mean_absolute_error, mean_squared_error\n",
        "from tensorflow.keras.layers import Dense, InputLayer\n",
        "from helper_functions import plot_loss_curves, create_tf_board_callback, compare_historys"
      ],
      "execution_count": 2,
      "outputs": []
    },
    {
      "cell_type": "markdown",
      "metadata": {
        "id": "i5210TEg6R7m"
      },
      "source": [
        "### Get Data\n",
        "Historical data of Bitcoin"
      ]
    },
    {
      "cell_type": "code",
      "metadata": {
        "colab": {
          "base_uri": "https://localhost:8080/"
        },
        "id": "89k68qdt4OFp",
        "outputId": "27668b85-4db4-40b4-b875-f5e8477d156c"
      },
      "source": [
        "!wget https://raw.githubusercontent.com/mrdbourke/tensorflow-deep-learning/main/extras/BTC_USD_2013-10-01_2021-05-18-CoinDesk.csv"
      ],
      "execution_count": 3,
      "outputs": [
        {
          "output_type": "stream",
          "text": [
            "--2021-08-02 11:18:42--  https://raw.githubusercontent.com/mrdbourke/tensorflow-deep-learning/main/extras/BTC_USD_2013-10-01_2021-05-18-CoinDesk.csv\n",
            "Resolving raw.githubusercontent.com (raw.githubusercontent.com)... 185.199.108.133, 185.199.109.133, 185.199.110.133, ...\n",
            "Connecting to raw.githubusercontent.com (raw.githubusercontent.com)|185.199.108.133|:443... connected.\n",
            "HTTP request sent, awaiting response... 200 OK\n",
            "Length: 178509 (174K) [text/plain]\n",
            "Saving to: ‘BTC_USD_2013-10-01_2021-05-18-CoinDesk.csv’\n",
            "\n",
            "BTC_USD_2013-10-01_ 100%[===================>] 174.33K  --.-KB/s    in 0.01s   \n",
            "\n",
            "2021-08-02 11:18:43 (16.4 MB/s) - ‘BTC_USD_2013-10-01_2021-05-18-CoinDesk.csv’ saved [178509/178509]\n",
            "\n"
          ],
          "name": "stdout"
        }
      ]
    },
    {
      "cell_type": "code",
      "metadata": {
        "id": "_MjTKfNf6jU8"
      },
      "source": [
        "df = pd.read_csv('/content/BTC_USD_2013-10-01_2021-05-18-CoinDesk.csv')"
      ],
      "execution_count": 4,
      "outputs": []
    },
    {
      "cell_type": "code",
      "metadata": {
        "id": "991LjoPu8Eav"
      },
      "source": [
        "df.Date = pd.to_datetime(df.Date)\n",
        "df = df.rename(columns = {'Date': 'date'}).set_index('date')"
      ],
      "execution_count": 5,
      "outputs": []
    },
    {
      "cell_type": "code",
      "metadata": {
        "colab": {
          "base_uri": "https://localhost:8080/",
          "height": 252
        },
        "id": "xUq7J9L46vvE",
        "outputId": "c63412cb-c6de-44d1-b1d7-c869bf9aa629"
      },
      "source": [
        "df.head()"
      ],
      "execution_count": 6,
      "outputs": [
        {
          "output_type": "execute_result",
          "data": {
            "text/html": [
              "<div>\n",
              "<style scoped>\n",
              "    .dataframe tbody tr th:only-of-type {\n",
              "        vertical-align: middle;\n",
              "    }\n",
              "\n",
              "    .dataframe tbody tr th {\n",
              "        vertical-align: top;\n",
              "    }\n",
              "\n",
              "    .dataframe thead th {\n",
              "        text-align: right;\n",
              "    }\n",
              "</style>\n",
              "<table border=\"1\" class=\"dataframe\">\n",
              "  <thead>\n",
              "    <tr style=\"text-align: right;\">\n",
              "      <th></th>\n",
              "      <th>Currency</th>\n",
              "      <th>Closing Price (USD)</th>\n",
              "      <th>24h Open (USD)</th>\n",
              "      <th>24h High (USD)</th>\n",
              "      <th>24h Low (USD)</th>\n",
              "    </tr>\n",
              "    <tr>\n",
              "      <th>date</th>\n",
              "      <th></th>\n",
              "      <th></th>\n",
              "      <th></th>\n",
              "      <th></th>\n",
              "      <th></th>\n",
              "    </tr>\n",
              "  </thead>\n",
              "  <tbody>\n",
              "    <tr>\n",
              "      <th>2013-10-01</th>\n",
              "      <td>BTC</td>\n",
              "      <td>123.65499</td>\n",
              "      <td>124.30466</td>\n",
              "      <td>124.75166</td>\n",
              "      <td>122.56349</td>\n",
              "    </tr>\n",
              "    <tr>\n",
              "      <th>2013-10-02</th>\n",
              "      <td>BTC</td>\n",
              "      <td>125.45500</td>\n",
              "      <td>123.65499</td>\n",
              "      <td>125.75850</td>\n",
              "      <td>123.63383</td>\n",
              "    </tr>\n",
              "    <tr>\n",
              "      <th>2013-10-03</th>\n",
              "      <td>BTC</td>\n",
              "      <td>108.58483</td>\n",
              "      <td>125.45500</td>\n",
              "      <td>125.66566</td>\n",
              "      <td>83.32833</td>\n",
              "    </tr>\n",
              "    <tr>\n",
              "      <th>2013-10-04</th>\n",
              "      <td>BTC</td>\n",
              "      <td>118.67466</td>\n",
              "      <td>108.58483</td>\n",
              "      <td>118.67500</td>\n",
              "      <td>107.05816</td>\n",
              "    </tr>\n",
              "    <tr>\n",
              "      <th>2013-10-05</th>\n",
              "      <td>BTC</td>\n",
              "      <td>121.33866</td>\n",
              "      <td>118.67466</td>\n",
              "      <td>121.93633</td>\n",
              "      <td>118.00566</td>\n",
              "    </tr>\n",
              "  </tbody>\n",
              "</table>\n",
              "</div>"
            ],
            "text/plain": [
              "           Currency  Closing Price (USD)  ...  24h High (USD)  24h Low (USD)\n",
              "date                                      ...                               \n",
              "2013-10-01      BTC            123.65499  ...       124.75166      122.56349\n",
              "2013-10-02      BTC            125.45500  ...       125.75850      123.63383\n",
              "2013-10-03      BTC            108.58483  ...       125.66566       83.32833\n",
              "2013-10-04      BTC            118.67466  ...       118.67500      107.05816\n",
              "2013-10-05      BTC            121.33866  ...       121.93633      118.00566\n",
              "\n",
              "[5 rows x 5 columns]"
            ]
          },
          "metadata": {
            "tags": []
          },
          "execution_count": 6
        }
      ]
    },
    {
      "cell_type": "code",
      "metadata": {
        "id": "V8j1ZkMYRxC6"
      },
      "source": [
        "df_bc = df[['Closing Price (USD)']].rename(columns = {'Closing Price (USD)':'price'})"
      ],
      "execution_count": 7,
      "outputs": []
    },
    {
      "cell_type": "code",
      "metadata": {
        "colab": {
          "base_uri": "https://localhost:8080/",
          "height": 252
        },
        "id": "hcLWZ5N3SAB3",
        "outputId": "eeaf89f3-8585-4058-e4d6-6c26cb7574ab"
      },
      "source": [
        "df_bc.head()"
      ],
      "execution_count": 8,
      "outputs": [
        {
          "output_type": "execute_result",
          "data": {
            "text/html": [
              "<div>\n",
              "<style scoped>\n",
              "    .dataframe tbody tr th:only-of-type {\n",
              "        vertical-align: middle;\n",
              "    }\n",
              "\n",
              "    .dataframe tbody tr th {\n",
              "        vertical-align: top;\n",
              "    }\n",
              "\n",
              "    .dataframe thead th {\n",
              "        text-align: right;\n",
              "    }\n",
              "</style>\n",
              "<table border=\"1\" class=\"dataframe\">\n",
              "  <thead>\n",
              "    <tr style=\"text-align: right;\">\n",
              "      <th></th>\n",
              "      <th>price</th>\n",
              "    </tr>\n",
              "    <tr>\n",
              "      <th>date</th>\n",
              "      <th></th>\n",
              "    </tr>\n",
              "  </thead>\n",
              "  <tbody>\n",
              "    <tr>\n",
              "      <th>2013-10-01</th>\n",
              "      <td>123.65499</td>\n",
              "    </tr>\n",
              "    <tr>\n",
              "      <th>2013-10-02</th>\n",
              "      <td>125.45500</td>\n",
              "    </tr>\n",
              "    <tr>\n",
              "      <th>2013-10-03</th>\n",
              "      <td>108.58483</td>\n",
              "    </tr>\n",
              "    <tr>\n",
              "      <th>2013-10-04</th>\n",
              "      <td>118.67466</td>\n",
              "    </tr>\n",
              "    <tr>\n",
              "      <th>2013-10-05</th>\n",
              "      <td>121.33866</td>\n",
              "    </tr>\n",
              "  </tbody>\n",
              "</table>\n",
              "</div>"
            ],
            "text/plain": [
              "                price\n",
              "date                 \n",
              "2013-10-01  123.65499\n",
              "2013-10-02  125.45500\n",
              "2013-10-03  108.58483\n",
              "2013-10-04  118.67466\n",
              "2013-10-05  121.33866"
            ]
          },
          "metadata": {
            "tags": []
          },
          "execution_count": 8
        }
      ]
    },
    {
      "cell_type": "markdown",
      "metadata": {
        "id": "pWWeLOxi9Gv0"
      },
      "source": [
        "### Inspect our data"
      ]
    },
    {
      "cell_type": "code",
      "metadata": {
        "colab": {
          "base_uri": "https://localhost:8080/",
          "height": 495
        },
        "id": "anaRcKei6xRL",
        "outputId": "3f6fa5af-6afd-4f8f-8b1b-308a9091a467"
      },
      "source": [
        "df_bc.plot(figsize = (10,7))\n",
        "plt.title('Price of bitcoin from 1 Oct 2013 to 18 May 2021')"
      ],
      "execution_count": 9,
      "outputs": [
        {
          "output_type": "execute_result",
          "data": {
            "text/plain": [
              "Text(0.5, 1.0, 'Price of bitcoin from 1 Oct 2013 to 18 May 2021')"
            ]
          },
          "metadata": {
            "tags": []
          },
          "execution_count": 9
        },
        {
          "output_type": "display_data",
          "data": {
            "image/png": "[encoded data removed]",
            "text/plain": [
              "<Figure size 720x504 with 1 Axes>"
            ]
          },
          "metadata": {
            "tags": [],
            "needs_background": "light"
          }
        }
      ]
    },
    {
      "cell_type": "code",
      "metadata": {
        "colab": {
          "base_uri": "https://localhost:8080/"
        },
        "id": "P9x9Rprm8x6G",
        "outputId": "9a1fe400-3bd2-4c8d-e7c6-c4538d4fca0c"
      },
      "source": [
        "df_bc.info()"
      ],
      "execution_count": 10,
      "outputs": [
        {
          "output_type": "stream",
          "text": [
            "<class 'pandas.core.frame.DataFrame'>\n",
            "DatetimeIndex: 2787 entries, 2013-10-01 to 2021-05-18\n",
            "Data columns (total 1 columns):\n",
            " #   Column  Non-Null Count  Dtype  \n",
            "---  ------  --------------  -----  \n",
            " 0   price   2787 non-null   float64\n",
            "dtypes: float64(1)\n",
            "memory usage: 43.5 KB\n"
          ],
          "name": "stdout"
        }
      ]
    },
    {
      "cell_type": "markdown",
      "metadata": {
        "id": "XaM5C0ChTbN-"
      },
      "source": [
        "### Read Data with Python csv"
      ]
    },
    {
      "cell_type": "code",
      "metadata": {
        "id": "p7giR5HyTouX"
      },
      "source": [
        "timesteps = []\n",
        "btc_price = []\n",
        "with open('/content/BTC_USD_2013-10-01_2021-05-18-CoinDesk.csv', 'r') as f:\n",
        "  csv_reader = csv.reader(f, delimiter = ',')\n",
        "  next(csv_reader) #skip first line (header)\n",
        "  for line in csv_reader:\n",
        "    timesteps.append(datetime.strptime(line[1], '%Y-%m-%d'))\n",
        "    btc_price.append(float(line[2]))"
      ],
      "execution_count": 11,
      "outputs": []
    },
    {
      "cell_type": "code",
      "metadata": {
        "colab": {
          "base_uri": "https://localhost:8080/"
        },
        "id": "kw9jDI5XVBUm",
        "outputId": "14aec230-9b31-4cbb-8872-e06aa8c2d117"
      },
      "source": [
        "timesteps[:2], btc_price[:2]"
      ],
      "execution_count": 12,
      "outputs": [
        {
          "output_type": "execute_result",
          "data": {
            "text/plain": [
              "([datetime.datetime(2013, 10, 1, 0, 0), datetime.datetime(2013, 10, 2, 0, 0)],\n",
              " [123.65499, 125.455])"
            ]
          },
          "metadata": {
            "tags": []
          },
          "execution_count": 12
        }
      ]
    },
    {
      "cell_type": "code",
      "metadata": {
        "colab": {
          "base_uri": "https://localhost:8080/",
          "height": 302
        },
        "id": "LFXgEkmAVH5x",
        "outputId": "4b070a6a-b6de-4626-e9ab-79f91885f477"
      },
      "source": [
        "plt.plot(timesteps, btc_price)"
      ],
      "execution_count": 13,
      "outputs": [
        {
          "output_type": "execute_result",
          "data": {
            "text/plain": [
              "[<matplotlib.lines.Line2D at 0x7f7b340a73d0>]"
            ]
          },
          "metadata": {
            "tags": []
          },
          "execution_count": 13
        },
        {
          "output_type": "display_data",
          "data": {
            "image/png": "[encoded data removed]",
            "text/plain": [
              "<Figure size 432x288 with 1 Axes>"
            ]
          },
          "metadata": {
            "tags": [],
            "needs_background": "light"
          }
        }
      ]
    },
    {
      "cell_type": "markdown",
      "metadata": {
        "id": "hlHrcMyuY_tW"
      },
      "source": [
        "### Create test train data sets"
      ]
    },
    {
      "cell_type": "code",
      "metadata": {
        "id": "QtEFk0CVV9wP"
      },
      "source": [
        "train_length = int(0.8*len(timesteps))\n",
        "X_train, y_train = timesteps[:train_length], btc_price[:train_length]\n",
        "X_test, y_test = timesteps[train_length:], btc_price[train_length:]"
      ],
      "execution_count": 14,
      "outputs": []
    },
    {
      "cell_type": "code",
      "metadata": {
        "colab": {
          "base_uri": "https://localhost:8080/",
          "height": 448
        },
        "id": "l0sm8vc8aVHP",
        "outputId": "3e1d0bfe-2b0b-4d30-d68b-90619689e1f5"
      },
      "source": [
        "plt.figure(figsize=(10,7))\n",
        "plt.scatter(X_train, y_train, s = 5, label = 'Train data')\n",
        "plt.scatter(X_test, y_test, s = 5, label = 'Test data', c = 'green')\n",
        "plt.show()"
      ],
      "execution_count": 15,
      "outputs": [
        {
          "output_type": "display_data",
          "data": {
            "image/png": "[encoded data removed]",
            "text/plain": [
              "<Figure size 720x504 with 1 Axes>"
            ]
          },
          "metadata": {
            "tags": [],
            "needs_background": "light"
          }
        }
      ]
    },
    {
      "cell_type": "markdown",
      "metadata": {
        "id": "5UEHgx7BPLE9"
      },
      "source": [
        "### Helper function to plot time series"
      ]
    },
    {
      "cell_type": "code",
      "metadata": {
        "id": "7nO4Qcs5a8PA"
      },
      "source": [
        "# Create a function to plot time series data\n",
        "def plot_time_series(timesteps, values, format='.', start=0, end=None, label=None):\n",
        "  \"\"\"\n",
        "  Plots a timesteps (a series of points in time) against values (a series of values across timesteps).\n",
        "  \n",
        "  Parameters\n",
        "  ---------\n",
        "  timesteps : array of timesteps\n",
        "  values : array of values across time\n",
        "  format : style of plot, default \".\"\n",
        "  start : where to start the plot (setting a value will index from start of timesteps & values)\n",
        "  end : where to end the plot (setting a value will index from end of timesteps & values)\n",
        "  label : label to show on plot of values\n",
        "  \"\"\"\n",
        "  # Plot the series\n",
        "  plt.plot(timesteps[start:end], values[start:end], format, label=label)\n",
        "  plt.xlabel(\"Time\")\n",
        "  plt.ylabel(\"BTC Price\")\n",
        "  if label:\n",
        "    plt.legend(fontsize=14) # make label bigger\n",
        "  plt.grid(True)"
      ],
      "execution_count": 16,
      "outputs": []
    },
    {
      "cell_type": "code",
      "metadata": {
        "colab": {
          "base_uri": "https://localhost:8080/",
          "height": 462
        },
        "id": "lyAfXyH9RUjE",
        "outputId": "8a0cffd8-ba38-42c2-d520-7088c1ed4cd6"
      },
      "source": [
        "# Try out our plotting function\n",
        "plt.figure(figsize=(10, 7))\n",
        "plot_time_series(timesteps=X_train, values=y_train, label=\"Train data\")\n",
        "plot_time_series(timesteps=X_test, values=y_test, label=\"Test data\")"
      ],
      "execution_count": 17,
      "outputs": [
        {
          "output_type": "display_data",
          "data": {
            "image/png": "[encoded data removed]",
            "text/plain": [
              "<Figure size 720x504 with 1 Axes>"
            ]
          },
          "metadata": {
            "tags": [],
            "needs_background": "light"
          }
        }
      ]
    },
    {
      "cell_type": "markdown",
      "metadata": {
        "id": "mylYUOGFRrlc"
      },
      "source": [
        "## Modelling Experiments\n",
        "\n",
        "horizon = number of timesteps to predict into future\n",
        "\n",
        "window = number of timesteps from past used to predict horizon\n",
        "\n",
        "For example, if we wanted to predict the price of Bitcoin for tomorrow (1 day in the future) using the previous week's worth of Bitcoin prices (7 days in the past), the horizon would be 1 and the window would be 7.\n",
        "\n",
        "We are going to do those modelling experiments:\n",
        "\n",
        "- 0 Naïve model (baseline)\n",
        "- 1\tDense model\thorizont 1 window 7\n",
        "- 2\tSame as 1\thorizont 1 window\t30\n",
        "- 3\tSame as 1\thorizont 7 window\t30\n",
        "- 4\tConv1D\thorizont 1\twindow 7\n",
        "- 5\tLSTM\thorizont 1\twindow 7\n",
        "- 6\tSame as 1 (but with multivariate data)\thorizont 1\twindow 7\tBlock reward size\n",
        "- 7\tN-BEATs Algorithm\thorizont 1\twindow 7\n",
        "- 8\tEnsemble (multiple models optimized on different loss functions)\thorizont 1\twindow 7\n",
        "- 9\tFuture prediction model (model to predict future values) horizont\t1 window\t7\n",
        "- 10\tSame as 1 (but with turkey 🦃 data introduced)\thorizont 1\twindow 7\t\n"
      ]
    },
    {
      "cell_type": "markdown",
      "metadata": {
        "id": "H_QYW14eUaCs"
      },
      "source": [
        "### 0 Model: Naive\n",
        "$$\\hat{y}_{t} = y_{t-1}$$"
      ]
    },
    {
      "cell_type": "code",
      "metadata": {
        "id": "kah0g7cHRVK1"
      },
      "source": [
        "naive_forecast = y_test[:-1]"
      ],
      "execution_count": 18,
      "outputs": []
    },
    {
      "cell_type": "markdown",
      "metadata": {
        "id": "BJSoZ_K8WMLj"
      },
      "source": [
        "#### Plot Naive forecast"
      ]
    },
    {
      "cell_type": "code",
      "metadata": {
        "colab": {
          "base_uri": "https://localhost:8080/",
          "height": 462
        },
        "id": "NrR9x9wPVy17",
        "outputId": "0704db30-484a-47ca-e8bf-5a9101cf1a93"
      },
      "source": [
        "plt.figure(figsize=(10, 7))\n",
        "plot_time_series(timesteps=X_train, values=y_train, start = 350, label=\"Train data\")\n",
        "plot_time_series(timesteps=X_test, values=y_test, start = 350, label=\"Test data\")\n",
        "plot_time_series(timesteps=X_test[1:], values = naive_forecast, format = '-', label=\"Naive forecast\")"
      ],
      "execution_count": 19,
      "outputs": [
        {
          "output_type": "display_data",
          "data": {
            "image/png": "[encoded data removed]",
            "text/plain": [
              "<Figure size 720x504 with 1 Axes>"
            ]
          },
          "metadata": {
            "tags": [],
            "needs_background": "light"
          }
        }
      ]
    },
    {
      "cell_type": "markdown",
      "metadata": {
        "id": "5AK3FkKZXdZq"
      },
      "source": [
        "###Evaluating forecast model\n",
        "Scale-dependent errors: MAE tf.keras.metrics.mean_absolute_error(), RMSE tf.sqrt(tf.keras.metrics.mean_square_error())\n",
        "\n",
        "Percentage errors: MAPE tf.keras.metrics.mean_absolute_percentage_error(), sMAPE custom implementation\n",
        "\n",
        "Scaled errors: MASE See sktime's mase_loss() Less then 1 beats naive predition"
      ]
    },
    {
      "cell_type": "code",
      "metadata": {
        "id": "C2_dWJUA3t-3"
      },
      "source": [
        "# MASE implementation\n",
        "def mean_absolute_scaled_error(y_true, y_pred):\n",
        "    \"\"\"\n",
        "    Computes the MEAN-ABSOLUTE SCALED ERROR forcast error for univariate time series prediction.\n",
        "    \"\"\"\n",
        "    mae = tf.reduce_mean(tf.abs(y_true - y_pred))\n",
        "    mae_naive_no_season = tf.reduce_mean(tf.abs(y_true[1:] - y_true[:-1]))\n",
        "\n",
        "    return mae / mae_naive_no_season"
      ],
      "execution_count": 20,
      "outputs": []
    },
    {
      "cell_type": "code",
      "metadata": {
        "colab": {
          "base_uri": "https://localhost:8080/"
        },
        "id": "Cbi4WyiKWuua",
        "outputId": "ffb1b175-8d38-4724-bcfa-26ed42b6f1df"
      },
      "source": [
        "mean_absolute_scaled_error(y_true = np.array(y_test[1:]), y_pred = np.array(naive_forecast)).numpy()"
      ],
      "execution_count": 21,
      "outputs": [
        {
          "output_type": "execute_result",
          "data": {
            "text/plain": [
              "0.9995699939182624"
            ]
          },
          "metadata": {
            "tags": []
          },
          "execution_count": 0
        }
      ]
    },
    {
      "cell_type": "markdown",
      "metadata": {
        "id": "MxH9fdYp9rwW"
      },
      "source": [
        "#### Function to save all results"
      ]
    },
    {
      "cell_type": "code",
      "metadata": {
        "id": "U3pzOvVS980j"
      },
      "source": [
        "df_results = pd.DataFrame(columns = ['model', 'MAE', 'RMSE', 'MAPE', 'MASE', 'last_day_pred', 'last_day_real'])"
      ],
      "execution_count": 81,
      "outputs": []
    },
    {
      "cell_type": "code",
      "metadata": {
        "id": "vrVvR1lm2bG_"
      },
      "source": [
        "def save_results(model_name, y_pred, y_true = y_test[1:]):\n",
        "  y_pred = np.array(y_pred)\n",
        "  y_true = np.array(y_true)\n",
        "  MAE = int(mean_absolute_error(y_true, y_pred).numpy())\n",
        "  RMSE = int(tf.sqrt(tf.keras.metrics.mean_squared_error(y_true, y_pred)).numpy())\n",
        "  MAPE = round(tf.keras.metrics.mean_absolute_percentage_error(y_true, y_pred).numpy(),2)\n",
        "  MASE = mean_absolute_scaled_error(y_true, y_pred).numpy()\n",
        "  last_day_pred = y_pred[-1]\n",
        "  df_results.loc[len(df_results)] = [model_name, MAE, RMSE, MAPE, MASE, last_day_pred, y_true[-1]]"
      ],
      "execution_count": 82,
      "outputs": []
    },
    {
      "cell_type": "code",
      "metadata": {
        "id": "cZMwbn_-_5Md"
      },
      "source": [
        "save_results('Base_naive', naive_forecast)"
      ],
      "execution_count": 83,
      "outputs": []
    },
    {
      "cell_type": "code",
      "metadata": {
        "colab": {
          "base_uri": "https://localhost:8080/",
          "height": 100
        },
        "id": "tw4ld1Y_ANBY",
        "outputId": "3d6ea1fe-e906-411f-ccd7-cce7e0b005ac"
      },
      "source": [
        "df_results"
      ],
      "execution_count": 84,
      "outputs": [
        {
          "output_type": "execute_result",
          "data": {
            "text/html": [
              "<div>\n",
              "<style scoped>\n",
              "    .dataframe tbody tr th:only-of-type {\n",
              "        vertical-align: middle;\n",
              "    }\n",
              "\n",
              "    .dataframe tbody tr th {\n",
              "        vertical-align: top;\n",
              "    }\n",
              "\n",
              "    .dataframe thead th {\n",
              "        text-align: right;\n",
              "    }\n",
              "</style>\n",
              "<table border=\"1\" class=\"dataframe\">\n",
              "  <thead>\n",
              "    <tr style=\"text-align: right;\">\n",
              "      <th></th>\n",
              "      <th>model</th>\n",
              "      <th>MAE</th>\n",
              "      <th>RMSE</th>\n",
              "      <th>MAPE</th>\n",
              "      <th>MASE</th>\n",
              "      <th>last_day_pred</th>\n",
              "      <th>last_day_real</th>\n",
              "    </tr>\n",
              "  </thead>\n",
              "  <tbody>\n",
              "    <tr>\n",
              "      <th>0</th>\n",
              "      <td>Base_naive</td>\n",
              "      <td>567</td>\n",
              "      <td>1071</td>\n",
              "      <td>2.52</td>\n",
              "      <td>0.99957</td>\n",
              "      <td>45604.615754</td>\n",
              "      <td>43144.471291</td>\n",
              "    </tr>\n",
              "  </tbody>\n",
              "</table>\n",
              "</div>"
            ],
            "text/plain": [
              "        model  MAE  RMSE  MAPE     MASE  last_day_pred  last_day_real\n",
              "0  Base_naive  567  1071  2.52  0.99957   45604.615754   43144.471291"
            ]
          },
          "metadata": {
            "tags": []
          },
          "execution_count": 84
        }
      ]
    },
    {
      "cell_type": "markdown",
      "metadata": {
        "id": "KTPDHK3sDvM7"
      },
      "source": [
        "### Other models to try\n",
        "Moving average\thttps://machinelearningmastery.com/moving-average-smoothing-for-time-series-forecasting-python/\n",
        "\n",
        "ARIMA (Autoregression Integrated Moving Average)\thttps://machinelearningmastery.com/arima-for-time-series-forecasting-with-python/\n",
        "\n",
        "sktime (Scikit-Learn for time series)\thttps://github.com/alan-turing-institute/sktime\n",
        "\n",
        "TensorFlow Decision Forests (random forest, gradient boosting trees)\thttps://www.tensorflow.org/decision_forests\n",
        "\n",
        "Facebook Kats (purpose-built forecasting and time series analysis library by Facebook)\thttps://github.com/facebookresearch/Kats\n",
        "\n",
        "LinkedIn Greykite (flexible, intuitive and fast forecasts)\thttps://github.com/linkedin/greykite\n"
      ]
    },
    {
      "cell_type": "markdown",
      "metadata": {
        "id": "DB_2yzHWFLaM"
      },
      "source": [
        "### Format Data: Windowing our data\n",
        "Windowing for one week:\n",
        "\n",
        "[0,1,2,3,4,5,6] -> [7]\n",
        "\n",
        "[1,2,3,4,5,6,7] -> [8]\n",
        "\n",
        "[2,3,4,5,6,7,8] -> [9]"
      ]
    },
    {
      "cell_type": "code",
      "metadata": {
        "colab": {
          "base_uri": "https://localhost:8080/"
        },
        "id": "RPKGLGNXAwWd",
        "outputId": "7f96294e-5d48-4e9a-9f93-f8de95768877"
      },
      "source": [
        "print(f'We want to use: {y_train[:7]} to predict {y_train[7]}')"
      ],
      "execution_count": 26,
      "outputs": [
        {
          "output_type": "stream",
          "text": [
            "We want to use: [123.65499, 125.455, 108.58483, 118.67466, 121.33866, 120.65533, 121.795] to predict 123.033\n"
          ],
          "name": "stdout"
        }
      ]
    },
    {
      "cell_type": "code",
      "metadata": {
        "id": "pvP_2W_CGECj"
      },
      "source": [
        "HORIZON = 1\n",
        "WINDOW_SIZE = 7"
      ],
      "execution_count": 27,
      "outputs": []
    },
    {
      "cell_type": "code",
      "metadata": {
        "id": "h_ZJNRgCHAlk"
      },
      "source": [
        "#Create the function to label windowed data\n",
        "def get_labeled_window(x, horizon = HORIZON):\n",
        "  \"\"\"Creates labels for windowed dataset.\n",
        "  input = [0,1,2,3,4,5,6,7] output = [0,1,2,3,4,5,6], [7]\n",
        "  \"\"\"\n",
        "  return x[:, :-horizon], x[:, -horizon:]"
      ],
      "execution_count": 28,
      "outputs": []
    },
    {
      "cell_type": "code",
      "metadata": {
        "id": "iiy8uwKgHKUO"
      },
      "source": [
        "test_window, test_labels = get_labeled_window(tf.expand_dims(tf.range(8), axis = 0))"
      ],
      "execution_count": 29,
      "outputs": []
    },
    {
      "cell_type": "code",
      "metadata": {
        "colab": {
          "base_uri": "https://localhost:8080/"
        },
        "id": "bHtNQqMlIbhO",
        "outputId": "32226a6a-b349-4654-f0c7-2df90d84f6f5"
      },
      "source": [
        "test_window, test_labels"
      ],
      "execution_count": 30,
      "outputs": [
        {
          "output_type": "execute_result",
          "data": {
            "text/plain": [
              "(<tf.Tensor: shape=(1, 7), dtype=int32, numpy=array([[0, 1, 2, 3, 4, 5, 6]], dtype=int32)>,\n",
              " <tf.Tensor: shape=(1, 1), dtype=int32, numpy=array([[7]], dtype=int32)>)"
            ]
          },
          "metadata": {
            "tags": []
          },
          "execution_count": 30
        }
      ]
    },
    {
      "cell_type": "code",
      "metadata": {
        "id": "ImAcYGblIfJm"
      },
      "source": [
        "def make_windows(y, window_size = WINDOW_SIZE, horizon = HORIZON):\n",
        "  \"\"\"Turns 1D array into sD array of sequental labeled widows\"\"\"\n",
        "  y = np.array(y)\n",
        "  window_step = np.expand_dims(np.arange(window_size + horizon), axis = 0)\n",
        "  window_indexes = window_step + np.expand_dims(np.arange(len(y)-(window_size + horizon - 1)), axis=0).T\n",
        "  # print(f'Window indexes: {window_indexes}\\n Window shapes: {window_indexes.shape}')\n",
        "  windowed_array = y[window_indexes]\n",
        "  #get labeled windows\n",
        "  windows, labels = get_labeled_window(windowed_array, horizon = horizon)\n",
        "  return windows, labels"
      ],
      "execution_count": 31,
      "outputs": []
    },
    {
      "cell_type": "code",
      "metadata": {
        "colab": {
          "base_uri": "https://localhost:8080/"
        },
        "id": "8jsZlVHQrMjL",
        "outputId": "d65d548a-2253-4393-989c-20c917284d36"
      },
      "source": [
        "len(btc_price)"
      ],
      "execution_count": 32,
      "outputs": [
        {
          "output_type": "execute_result",
          "data": {
            "text/plain": [
              "2787"
            ]
          },
          "metadata": {
            "tags": []
          },
          "execution_count": 32
        }
      ]
    },
    {
      "cell_type": "code",
      "metadata": {
        "id": "PWyzUjZDrRCf"
      },
      "source": [
        "all_windows, all_labels = make_windows(btc_price)"
      ],
      "execution_count": 33,
      "outputs": []
    },
    {
      "cell_type": "code",
      "metadata": {
        "colab": {
          "base_uri": "https://localhost:8080/"
        },
        "id": "DXrzqgw1rgCQ",
        "outputId": "c27c2213-cfa3-4ece-a30d-00a7c8db0a8a"
      },
      "source": [
        "for i in range(3):\n",
        "  print(f'Window: {all_windows[i]} -> Horizon (label): {all_labels[i]}')"
      ],
      "execution_count": 34,
      "outputs": [
        {
          "output_type": "stream",
          "text": [
            "Window: [123.65499 125.455   108.58483 118.67466 121.33866 120.65533 121.795  ] -> Horizon (label): [123.033]\n",
            "Window: [125.455   108.58483 118.67466 121.33866 120.65533 121.795   123.033  ] -> Horizon (label): [124.049]\n",
            "Window: [108.58483 118.67466 121.33866 120.65533 121.795   123.033   124.049  ] -> Horizon (label): [125.96116]\n"
          ],
          "name": "stdout"
        }
      ]
    },
    {
      "cell_type": "code",
      "metadata": {
        "colab": {
          "base_uri": "https://localhost:8080/"
        },
        "id": "OXN0SS0sO1Zs",
        "outputId": "981c0d21-1cb4-40a9-e884-38331e3f38f5"
      },
      "source": [
        "all_windows.shape, all_labels.shape"
      ],
      "execution_count": 35,
      "outputs": [
        {
          "output_type": "execute_result",
          "data": {
            "text/plain": [
              "((2780, 7), (2780, 1))"
            ]
          },
          "metadata": {
            "tags": []
          },
          "execution_count": 35
        }
      ]
    },
    {
      "cell_type": "markdown",
      "metadata": {
        "id": "ddPRrEj2GGfq"
      },
      "source": [
        "#### Use tensorflow to create tf.ds\n",
        "Another way to do this using tf function\n",
        " tf.keras.preprocessing.timeseries_dataset_from_array()"
      ]
    },
    {
      "cell_type": "code",
      "metadata": {
        "id": "Ax4JZ6KiFFUN"
      },
      "source": [
        "test_split = 0.2\n",
        "split_size = int(len(btc_price) * (1-test_split))\n",
        "btc_price_train = np.array(btc_price, dtype = 'float32')[:split_size]\n",
        "btc_price_test = np.array(btc_price, dtype = 'float32')[split_size:]\n",
        "ds_train = tf.keras.preprocessing.timeseries_dataset_from_array(btc_price_train, \n",
        "                                                            targets = btc_price_train[WINDOW_SIZE:], #need to shift right, otherwise give first element\n",
        "                                                            sequence_length = WINDOW_SIZE, \n",
        "                                                            sequence_stride=HORIZON, \n",
        "                                                            sampling_rate=HORIZON,\n",
        "                                                           batch_size = 1)\n",
        "ds_test = tf.keras.preprocessing.timeseries_dataset_from_array(btc_price_test, \n",
        "                                                            targets = btc_price_test[WINDOW_SIZE:], #need to shift right, otherwise give first element\n",
        "                                                            sequence_length = WINDOW_SIZE, \n",
        "                                                            sequence_stride=HORIZON, \n",
        "                                                            sampling_rate=HORIZON,\n",
        "                                                           batch_size = 1)"
      ],
      "execution_count": 104,
      "outputs": []
    },
    {
      "cell_type": "code",
      "metadata": {
        "colab": {
          "base_uri": "https://localhost:8080/"
        },
        "id": "X-2oUBTiG77L",
        "outputId": "c9eb7f21-c44e-4ddf-bbc9-a9ebdb36d97a"
      },
      "source": [
        "ds_train, len(ds_train), ds_test, len(ds_test)"
      ],
      "execution_count": 105,
      "outputs": [
        {
          "output_type": "execute_result",
          "data": {
            "text/plain": [
              "(<BatchDataset shapes: ((None, None), (None,)), types: (tf.float32, tf.float32)>,\n",
              " 2222,\n",
              " <BatchDataset shapes: ((None, None), (None,)), types: (tf.float32, tf.float32)>,\n",
              " 551)"
            ]
          },
          "metadata": {
            "tags": []
          },
          "execution_count": 105
        }
      ]
    },
    {
      "cell_type": "code",
      "metadata": {
        "colab": {
          "base_uri": "https://localhost:8080/"
        },
        "id": "ihI9RsA7xECB",
        "outputId": "249c3fd6-8c05-4f22-c27f-791e34de95ff"
      },
      "source": [
        "#Print if batch_size = 1\n",
        "for window, label in ds_train.take(3):\n",
        "    print(tf.squeeze(window).numpy(), '->', label.numpy())"
      ],
      "execution_count": 107,
      "outputs": [
        {
          "output_type": "stream",
          "text": [
            "[123.65499 125.455   108.58483 118.67466 121.33866 120.65533 121.795  ] -> [123.033]\n",
            "[125.455   108.58483 118.67466 121.33866 120.65533 121.795   123.033  ] -> [124.049]\n",
            "[108.58483 118.67466 121.33866 120.65533 121.795   123.033   124.049  ] -> [125.96116]\n"
          ],
          "name": "stdout"
        }
      ]
    },
    {
      "cell_type": "code",
      "metadata": {
        "id": "srzFiFboJJqD"
      },
      "source": [
        "#Print if batch_size>1\n",
        "# for batch_window, batch_label in ds_train.take(3):\n",
        "#     for window, label in zip(tf.squeeze(batch_window).numpy(), batch_label.numpy()):\n",
        "#       print(window, '->', label)"
      ],
      "execution_count": null,
      "outputs": []
    },
    {
      "cell_type": "code",
      "metadata": {
        "colab": {
          "base_uri": "https://localhost:8080/"
        },
        "id": "pRSENrVWiLkm",
        "outputId": "5dedee8a-9f79-4d0d-e833-35da938ed879"
      },
      "source": [
        "btc_price[:24]"
      ],
      "execution_count": 39,
      "outputs": [
        {
          "output_type": "execute_result",
          "data": {
            "text/plain": [
              "[123.65499,\n",
              " 125.455,\n",
              " 108.58483,\n",
              " 118.67466,\n",
              " 121.33866,\n",
              " 120.65533,\n",
              " 121.795,\n",
              " 123.033,\n",
              " 124.049,\n",
              " 125.96116,\n",
              " 125.27966,\n",
              " 125.9275,\n",
              " 126.38333,\n",
              " 135.24199,\n",
              " 133.20333,\n",
              " 142.76333,\n",
              " 137.92333,\n",
              " 142.95166,\n",
              " 152.55183,\n",
              " 160.33883,\n",
              " 164.31499,\n",
              " 177.63333,\n",
              " 188.29716,\n",
              " 200.70166]"
            ]
          },
          "metadata": {
            "tags": []
          },
          "execution_count": 39
        }
      ]
    },
    {
      "cell_type": "markdown",
      "metadata": {
        "id": "mIKcdNjZO_nm"
      },
      "source": [
        "#### Split data (all_windows and all_labels) to train and test sets"
      ]
    },
    {
      "cell_type": "code",
      "metadata": {
        "id": "Pf0KVFePLjou"
      },
      "source": [
        "# Make the train/test splits\n",
        "def make_train_test_splits(windows, labels, test_split=0.2):\n",
        "  \"\"\"\n",
        "  Splits matching pairs of windows and labels into train and test splits.\n",
        "  \"\"\"\n",
        "  split_size = int(len(windows) * (1-test_split)) # this will default to 80% train/20% test\n",
        "  train_windows = windows[:split_size]\n",
        "  train_labels = labels[:split_size]\n",
        "  test_windows = windows[split_size:]\n",
        "  test_labels = labels[split_size:]\n",
        "  return train_windows, test_windows, train_labels, test_labels"
      ],
      "execution_count": 40,
      "outputs": []
    },
    {
      "cell_type": "code",
      "metadata": {
        "id": "ab9FkVSiPYCS"
      },
      "source": [
        "train_windows, test_windows, train_labels, test_labels = make_train_test_splits(all_windows, all_labels, test_split=0.2)"
      ],
      "execution_count": 41,
      "outputs": []
    },
    {
      "cell_type": "code",
      "metadata": {
        "colab": {
          "base_uri": "https://localhost:8080/"
        },
        "id": "g-RPrwCDPg88",
        "outputId": "6a609a02-1c34-466e-f57f-c41f5b75ab04"
      },
      "source": [
        "len(train_windows), len(test_windows), len(train_labels), len(test_labels)"
      ],
      "execution_count": 42,
      "outputs": [
        {
          "output_type": "execute_result",
          "data": {
            "text/plain": [
              "(2224, 556, 2224, 556)"
            ]
          },
          "metadata": {
            "tags": []
          },
          "execution_count": 42
        }
      ]
    },
    {
      "cell_type": "code",
      "metadata": {
        "colab": {
          "base_uri": "https://localhost:8080/"
        },
        "id": "cT4IIGg2PoDD",
        "outputId": "735c66a6-aacf-48ec-c031-22db166bcfa2"
      },
      "source": [
        "train_windows.shape, train_labels.shape"
      ],
      "execution_count": 43,
      "outputs": [
        {
          "output_type": "execute_result",
          "data": {
            "text/plain": [
              "((2224, 7), (2224, 1))"
            ]
          },
          "metadata": {
            "tags": []
          },
          "execution_count": 43
        }
      ]
    },
    {
      "cell_type": "markdown",
      "metadata": {
        "id": "AS510knyR7ob"
      },
      "source": [
        "#### Create model checkpoint callback"
      ]
    },
    {
      "cell_type": "code",
      "metadata": {
        "id": "KgZ06b9APu5G"
      },
      "source": [
        "import os\n",
        "def checkpoint(model_name, save_path = 'time_series'):\n",
        "  return tf.keras.callbacks.ModelCheckpoint(filepath = os.path.join(save_path, model_name), \n",
        "                                            monitor='val_loss', verbose=0, \n",
        "                                            save_best_only=True)"
      ],
      "execution_count": 44,
      "outputs": []
    },
    {
      "cell_type": "markdown",
      "metadata": {
        "id": "vQLSWm1JTggZ"
      },
      "source": [
        "### 1 Model Dense\n",
        "- A single dense layer with 128 hidden units and ReLU (rectified linear unit) activation\n",
        "- An output layer with linear activation (or no activation)\n",
        "- Adam optimizer and MAE loss function\n",
        "- Batch size of 128\n",
        "- 100 epochs\n"
      ]
    },
    {
      "cell_type": "markdown",
      "metadata": {
        "id": "ZgpCAZa4o_Ww"
      },
      "source": [
        "#### Build and compile"
      ]
    },
    {
      "cell_type": "code",
      "metadata": {
        "id": "xQzwzzyObsmV"
      },
      "source": [
        "K.clear_session()"
      ],
      "execution_count": 96,
      "outputs": []
    },
    {
      "cell_type": "code",
      "metadata": {
        "id": "NMX6OLAETGYp"
      },
      "source": [
        "model_1 = Sequential([Dense(128, activation='relu'),\n",
        "                      Dense(HORIZON, activation = 'linear')],\n",
        "                      name = 'Model_1_Dense')"
      ],
      "execution_count": 46,
      "outputs": []
    },
    {
      "cell_type": "code",
      "metadata": {
        "id": "sJp148zAUoG0"
      },
      "source": [
        "model_1.compile(optimizer='adam', loss = 'mae', metrics = 'mae')"
      ],
      "execution_count": 47,
      "outputs": []
    },
    {
      "cell_type": "markdown",
      "metadata": {
        "id": "Ch_0g-4DpDBT"
      },
      "source": [
        "#### Fit model and plot loss curves"
      ]
    },
    {
      "cell_type": "code",
      "metadata": {
        "id": "b9LFu42YU0Kn"
      },
      "source": [
        "history_1 = model_1.fit(train_windows, train_labels, epochs = 100,\n",
        "                        verbose = 1,\n",
        "                        validation_data = (test_windows, test_labels),\n",
        "                        batch_size = 128,\n",
        "                        callbacks = checkpoint(model_1.name))"
      ],
      "execution_count": null,
      "outputs": []
    },
    {
      "cell_type": "code",
      "metadata": {
        "id": "p1BNjIGXeDTa"
      },
      "source": [
        "def plot_loss_curves(history):\n",
        "    \"\"\"\n",
        "    Args: TensorFlow model history object\n",
        "    Returns: separate loss curves for training and validation metrics.\n",
        "    \"\"\"\n",
        "    train_loss = history.history['mae']\n",
        "    val_loss = history.history['val_mae']\n",
        "    epochs = range(len(history.history['mae']))\n",
        "\n",
        "    #Plot Loss\n",
        "    plt.plot(epochs, train_loss, label = 'Training Loss')\n",
        "    plt.plot(epochs, val_loss, label = 'Validation Loss')\n",
        "    plt.title('Loss')\n",
        "    plt.xlabel('epochs')\n",
        "    plt.legend()"
      ],
      "execution_count": null,
      "outputs": []
    },
    {
      "cell_type": "code",
      "metadata": {
        "colab": {
          "base_uri": "https://localhost:8080/",
          "height": 315
        },
        "id": "-IL0OlrMdlri",
        "outputId": "3feb4247-5549-4194-a09b-e1e811424ea8"
      },
      "source": [
        "plot_loss_curves(history_1)"
      ],
      "execution_count": 50,
      "outputs": [
        {
          "output_type": "display_data",
          "data": {
            "image/png": "[encoded data removed]",
            "text/plain": [
              "<Figure size 432x288 with 1 Axes>"
            ]
          },
          "metadata": {
            "tags": [],
            "needs_background": "light"
          }
        }
      ]
    },
    {
      "cell_type": "markdown",
      "metadata": {
        "id": "oCQXVs2qmofO"
      },
      "source": [
        "#### Try same model with dataset"
      ]
    },
    {
      "cell_type": "code",
      "metadata": {
        "id": "7kmbduKqcDPk"
      },
      "source": [
        "model_1_2 = Sequential([InputLayer(input_shape = (7,)),\n",
        "                        Dense(128, activation='relu'),\n",
        "                        Dense(HORIZON, activation = 'linear')],\n",
        "                        name = 'Model_1_2_Dense')"
      ],
      "execution_count": 108,
      "outputs": []
    },
    {
      "cell_type": "code",
      "metadata": {
        "id": "4jx-1d3EcDPl"
      },
      "source": [
        "model_1_2.compile(optimizer='adam', loss = 'mae', metrics = 'mae')"
      ],
      "execution_count": 109,
      "outputs": []
    },
    {
      "cell_type": "code",
      "metadata": {
        "colab": {
          "base_uri": "https://localhost:8080/"
        },
        "id": "6H55huZmVlr6",
        "outputId": "f07b1962-0d32-4d68-a7a5-f68948f99e04"
      },
      "source": [
        "history_1_2 = model_1_2.fit(ds_train, epochs = 100,\n",
        "                            validation_data = ds_test,\n",
        "                            batch_size = 128, #It doesn't work here, we had to batch our data set when we created it. Very slow model\n",
        "                            callbacks = checkpoint(model_1_2.name))"
      ],
      "execution_count": 110,
      "outputs": [
        {
          "output_type": "stream",
          "text": [
            "Epoch 1/100\n",
            "2222/2222 [==============================] - 8s 3ms/step - loss: 261.8519 - mae: 261.8519 - val_loss: 1034.4302 - val_mae: 1034.4302\n",
            "INFO:tensorflow:Assets written to: time_series/Model_1_2_Dense/assets\n",
            "Epoch 2/100\n",
            "2222/2222 [==============================] - 8s 3ms/step - loss: 229.9582 - mae: 229.9582 - val_loss: 951.3947 - val_mae: 951.3947\n",
            "INFO:tensorflow:Assets written to: time_series/Model_1_2_Dense/assets\n",
            "Epoch 3/100\n",
            "2222/2222 [==============================] - 8s 3ms/step - loss: 208.7112 - mae: 208.7112 - val_loss: 916.3459 - val_mae: 916.3459\n",
            "INFO:tensorflow:Assets written to: time_series/Model_1_2_Dense/assets\n",
            "Epoch 4/100\n",
            "2222/2222 [==============================] - 8s 3ms/step - loss: 181.9294 - mae: 181.9294 - val_loss: 819.8362 - val_mae: 819.8362\n",
            "INFO:tensorflow:Assets written to: time_series/Model_1_2_Dense/assets\n",
            "Epoch 5/100\n",
            "2222/2222 [==============================] - 8s 3ms/step - loss: 175.1448 - mae: 175.1448 - val_loss: 890.0444 - val_mae: 890.0444\n",
            "Epoch 6/100\n",
            "2222/2222 [==============================] - 7s 3ms/step - loss: 160.7793 - mae: 160.7793 - val_loss: 754.6598 - val_mae: 754.6598\n",
            "INFO:tensorflow:Assets written to: time_series/Model_1_2_Dense/assets\n",
            "Epoch 7/100\n",
            "2222/2222 [==============================] - 7s 3ms/step - loss: 161.6295 - mae: 161.6295 - val_loss: 731.2841 - val_mae: 731.2841\n",
            "INFO:tensorflow:Assets written to: time_series/Model_1_2_Dense/assets\n",
            "Epoch 8/100\n",
            "2222/2222 [==============================] - 8s 3ms/step - loss: 155.2698 - mae: 155.2698 - val_loss: 858.1054 - val_mae: 858.1054\n",
            "Epoch 9/100\n",
            "2222/2222 [==============================] - 7s 3ms/step - loss: 147.7370 - mae: 147.7370 - val_loss: 756.6774 - val_mae: 756.6774\n",
            "Epoch 10/100\n",
            "2222/2222 [==============================] - 7s 3ms/step - loss: 152.7258 - mae: 152.7258 - val_loss: 775.3732 - val_mae: 775.3732\n",
            "Epoch 11/100\n",
            "2222/2222 [==============================] - 7s 3ms/step - loss: 150.6340 - mae: 150.6340 - val_loss: 769.9775 - val_mae: 769.9775\n",
            "Epoch 12/100\n",
            "2222/2222 [==============================] - 8s 3ms/step - loss: 147.4636 - mae: 147.4636 - val_loss: 721.7535 - val_mae: 721.7535\n",
            "INFO:tensorflow:Assets written to: time_series/Model_1_2_Dense/assets\n",
            "Epoch 13/100\n",
            "2222/2222 [==============================] - 8s 3ms/step - loss: 143.9925 - mae: 143.9925 - val_loss: 720.9048 - val_mae: 720.9048\n",
            "INFO:tensorflow:Assets written to: time_series/Model_1_2_Dense/assets\n",
            "Epoch 14/100\n",
            "2222/2222 [==============================] - 8s 3ms/step - loss: 139.5575 - mae: 139.5575 - val_loss: 738.3386 - val_mae: 738.3386\n",
            "Epoch 15/100\n",
            "2222/2222 [==============================] - 8s 3ms/step - loss: 137.0544 - mae: 137.0544 - val_loss: 735.3197 - val_mae: 735.3197\n",
            "Epoch 16/100\n",
            "2222/2222 [==============================] - 8s 3ms/step - loss: 138.1232 - mae: 138.1232 - val_loss: 669.4606 - val_mae: 669.4606\n",
            "INFO:tensorflow:Assets written to: time_series/Model_1_2_Dense/assets\n",
            "Epoch 17/100\n",
            "2222/2222 [==============================] - 8s 3ms/step - loss: 134.0360 - mae: 134.0360 - val_loss: 685.4395 - val_mae: 685.4395\n",
            "Epoch 18/100\n",
            "2222/2222 [==============================] - 8s 3ms/step - loss: 140.6642 - mae: 140.6642 - val_loss: 683.8762 - val_mae: 683.8762\n",
            "Epoch 19/100\n",
            "2222/2222 [==============================] - 8s 3ms/step - loss: 136.0733 - mae: 136.0733 - val_loss: 660.2411 - val_mae: 660.2411\n",
            "INFO:tensorflow:Assets written to: time_series/Model_1_2_Dense/assets\n",
            "Epoch 20/100\n",
            "2222/2222 [==============================] - 8s 3ms/step - loss: 137.5401 - mae: 137.5401 - val_loss: 679.8705 - val_mae: 679.8705\n",
            "Epoch 21/100\n",
            "2222/2222 [==============================] - 8s 3ms/step - loss: 135.2637 - mae: 135.2637 - val_loss: 671.7079 - val_mae: 671.7079\n",
            "Epoch 22/100\n",
            "2222/2222 [==============================] - 8s 3ms/step - loss: 133.6798 - mae: 133.6798 - val_loss: 706.9776 - val_mae: 706.9776\n",
            "Epoch 23/100\n",
            "2222/2222 [==============================] - 8s 3ms/step - loss: 133.9972 - mae: 133.9972 - val_loss: 672.1142 - val_mae: 672.1142\n",
            "Epoch 24/100\n",
            "2222/2222 [==============================] - 8s 3ms/step - loss: 133.5556 - mae: 133.5556 - val_loss: 678.7246 - val_mae: 678.7246\n",
            "Epoch 25/100\n",
            "2222/2222 [==============================] - 7s 3ms/step - loss: 132.7980 - mae: 132.7980 - val_loss: 652.5296 - val_mae: 652.5296\n",
            "INFO:tensorflow:Assets written to: time_series/Model_1_2_Dense/assets\n",
            "Epoch 26/100\n",
            "2222/2222 [==============================] - 7s 3ms/step - loss: 131.4085 - mae: 131.4085 - val_loss: 677.9543 - val_mae: 677.9543\n",
            "Epoch 27/100\n",
            "2222/2222 [==============================] - 7s 3ms/step - loss: 131.7570 - mae: 131.7570 - val_loss: 644.3069 - val_mae: 644.3069\n",
            "INFO:tensorflow:Assets written to: time_series/Model_1_2_Dense/assets\n",
            "Epoch 28/100\n",
            "2222/2222 [==============================] - 7s 3ms/step - loss: 132.2230 - mae: 132.2230 - val_loss: 692.6702 - val_mae: 692.6702\n",
            "Epoch 29/100\n",
            "2222/2222 [==============================] - 8s 3ms/step - loss: 131.4480 - mae: 131.4480 - val_loss: 637.2939 - val_mae: 637.2939\n",
            "INFO:tensorflow:Assets written to: time_series/Model_1_2_Dense/assets\n",
            "Epoch 30/100\n",
            "2222/2222 [==============================] - 8s 3ms/step - loss: 132.4028 - mae: 132.4028 - val_loss: 710.0817 - val_mae: 710.0817\n",
            "Epoch 31/100\n",
            "2222/2222 [==============================] - 8s 4ms/step - loss: 130.9654 - mae: 130.9654 - val_loss: 725.7481 - val_mae: 725.7481\n",
            "Epoch 32/100\n",
            "2222/2222 [==============================] - 8s 4ms/step - loss: 129.2827 - mae: 129.2827 - val_loss: 684.5243 - val_mae: 684.5243\n",
            "Epoch 33/100\n",
            "2222/2222 [==============================] - 7s 3ms/step - loss: 128.6502 - mae: 128.6502 - val_loss: 715.4193 - val_mae: 715.4193\n",
            "Epoch 34/100\n",
            "2222/2222 [==============================] - 8s 4ms/step - loss: 130.4140 - mae: 130.4140 - val_loss: 708.6407 - val_mae: 708.6407\n",
            "Epoch 35/100\n",
            "2222/2222 [==============================] - 8s 4ms/step - loss: 127.2131 - mae: 127.2131 - val_loss: 710.6937 - val_mae: 710.6937\n",
            "Epoch 36/100\n",
            "2222/2222 [==============================] - 8s 4ms/step - loss: 128.8324 - mae: 128.8324 - val_loss: 720.2491 - val_mae: 720.2491\n",
            "Epoch 37/100\n",
            "2222/2222 [==============================] - 8s 3ms/step - loss: 128.3974 - mae: 128.3974 - val_loss: 711.9324 - val_mae: 711.9324\n",
            "Epoch 38/100\n",
            "2222/2222 [==============================] - 8s 4ms/step - loss: 129.3384 - mae: 129.3384 - val_loss: 644.7689 - val_mae: 644.7689\n",
            "Epoch 39/100\n",
            "2222/2222 [==============================] - 8s 4ms/step - loss: 125.2549 - mae: 125.2549 - val_loss: 710.4976 - val_mae: 710.4976\n",
            "Epoch 40/100\n",
            "2222/2222 [==============================] - 8s 4ms/step - loss: 124.8894 - mae: 124.8894 - val_loss: 656.2841 - val_mae: 656.2841\n",
            "Epoch 41/100\n",
            "2222/2222 [==============================] - 8s 4ms/step - loss: 124.5781 - mae: 124.5781 - val_loss: 634.8124 - val_mae: 634.8124\n",
            "INFO:tensorflow:Assets written to: time_series/Model_1_2_Dense/assets\n",
            "Epoch 42/100\n",
            "2222/2222 [==============================] - 8s 4ms/step - loss: 126.5350 - mae: 126.5350 - val_loss: 647.8770 - val_mae: 647.8770\n",
            "Epoch 43/100\n",
            "2222/2222 [==============================] - 8s 3ms/step - loss: 127.5213 - mae: 127.5213 - val_loss: 626.7104 - val_mae: 626.7104\n",
            "INFO:tensorflow:Assets written to: time_series/Model_1_2_Dense/assets\n",
            "Epoch 44/100\n",
            "2222/2222 [==============================] - 8s 3ms/step - loss: 124.7802 - mae: 124.7802 - val_loss: 657.2563 - val_mae: 657.2563\n",
            "Epoch 45/100\n",
            "2222/2222 [==============================] - 7s 3ms/step - loss: 126.1474 - mae: 126.1474 - val_loss: 657.5060 - val_mae: 657.5060\n",
            "Epoch 46/100\n",
            "2222/2222 [==============================] - 8s 4ms/step - loss: 125.8009 - mae: 125.8009 - val_loss: 646.5709 - val_mae: 646.5709\n",
            "Epoch 47/100\n",
            "2222/2222 [==============================] - 8s 3ms/step - loss: 125.4432 - mae: 125.4432 - val_loss: 668.0964 - val_mae: 668.0964\n",
            "Epoch 48/100\n",
            "2222/2222 [==============================] - 8s 3ms/step - loss: 124.1924 - mae: 124.1924 - val_loss: 645.3957 - val_mae: 645.3957\n",
            "Epoch 49/100\n",
            "2222/2222 [==============================] - 8s 3ms/step - loss: 126.5765 - mae: 126.5765 - val_loss: 640.7998 - val_mae: 640.7998\n",
            "Epoch 50/100\n",
            "2222/2222 [==============================] - 7s 3ms/step - loss: 126.6330 - mae: 126.6330 - val_loss: 638.4713 - val_mae: 638.4713\n",
            "Epoch 51/100\n",
            "2222/2222 [==============================] - 8s 3ms/step - loss: 126.3377 - mae: 126.3377 - val_loss: 645.3207 - val_mae: 645.3207\n",
            "Epoch 52/100\n",
            "2222/2222 [==============================] - 8s 3ms/step - loss: 126.3984 - mae: 126.3984 - val_loss: 623.8602 - val_mae: 623.8602\n",
            "INFO:tensorflow:Assets written to: time_series/Model_1_2_Dense/assets\n",
            "Epoch 53/100\n",
            "2222/2222 [==============================] - 7s 3ms/step - loss: 121.4573 - mae: 121.4573 - val_loss: 621.0557 - val_mae: 621.0557\n",
            "INFO:tensorflow:Assets written to: time_series/Model_1_2_Dense/assets\n",
            "Epoch 54/100\n",
            "2222/2222 [==============================] - 8s 4ms/step - loss: 122.8055 - mae: 122.8055 - val_loss: 622.1387 - val_mae: 622.1387\n",
            "Epoch 55/100\n",
            "2222/2222 [==============================] - 8s 4ms/step - loss: 125.4630 - mae: 125.4630 - val_loss: 654.2894 - val_mae: 654.2894\n",
            "Epoch 56/100\n",
            "2222/2222 [==============================] - 8s 4ms/step - loss: 125.0196 - mae: 125.0196 - val_loss: 621.4250 - val_mae: 621.4250\n",
            "Epoch 57/100\n",
            "2222/2222 [==============================] - 7s 3ms/step - loss: 124.1138 - mae: 124.1138 - val_loss: 616.7469 - val_mae: 616.7469\n",
            "INFO:tensorflow:Assets written to: time_series/Model_1_2_Dense/assets\n",
            "Epoch 58/100\n",
            "2222/2222 [==============================] - 8s 3ms/step - loss: 123.6184 - mae: 123.6184 - val_loss: 630.9864 - val_mae: 630.9864\n",
            "Epoch 59/100\n",
            "2222/2222 [==============================] - 8s 3ms/step - loss: 123.0002 - mae: 123.0002 - val_loss: 607.2072 - val_mae: 607.2072\n",
            "INFO:tensorflow:Assets written to: time_series/Model_1_2_Dense/assets\n",
            "Epoch 60/100\n",
            "2222/2222 [==============================] - 8s 3ms/step - loss: 121.7902 - mae: 121.7902 - val_loss: 601.7560 - val_mae: 601.7560\n",
            "INFO:tensorflow:Assets written to: time_series/Model_1_2_Dense/assets\n",
            "Epoch 61/100\n",
            "2222/2222 [==============================] - 7s 3ms/step - loss: 122.0168 - mae: 122.0168 - val_loss: 601.6661 - val_mae: 601.6661\n",
            "INFO:tensorflow:Assets written to: time_series/Model_1_2_Dense/assets\n",
            "Epoch 62/100\n",
            "2222/2222 [==============================] - 8s 4ms/step - loss: 121.7646 - mae: 121.7646 - val_loss: 602.9753 - val_mae: 602.9753\n",
            "Epoch 63/100\n",
            "2222/2222 [==============================] - 8s 4ms/step - loss: 121.1709 - mae: 121.1709 - val_loss: 599.3179 - val_mae: 599.3179\n",
            "INFO:tensorflow:Assets written to: time_series/Model_1_2_Dense/assets\n",
            "Epoch 64/100\n",
            "2222/2222 [==============================] - 8s 3ms/step - loss: 118.7569 - mae: 118.7569 - val_loss: 601.4075 - val_mae: 601.4075\n",
            "Epoch 65/100\n",
            "2222/2222 [==============================] - 8s 4ms/step - loss: 119.4147 - mae: 119.4147 - val_loss: 681.3892 - val_mae: 681.3892\n",
            "Epoch 66/100\n",
            "2222/2222 [==============================] - 8s 4ms/step - loss: 119.3349 - mae: 119.3349 - val_loss: 628.2220 - val_mae: 628.2220\n",
            "Epoch 67/100\n",
            "2222/2222 [==============================] - 8s 4ms/step - loss: 118.9616 - mae: 118.9616 - val_loss: 611.2939 - val_mae: 611.2939\n",
            "Epoch 68/100\n",
            "2222/2222 [==============================] - 8s 3ms/step - loss: 117.5999 - mae: 117.5999 - val_loss: 662.4479 - val_mae: 662.4479\n",
            "Epoch 69/100\n",
            "2222/2222 [==============================] - 8s 4ms/step - loss: 119.2352 - mae: 119.2352 - val_loss: 667.0618 - val_mae: 667.0618\n",
            "Epoch 70/100\n",
            "2222/2222 [==============================] - 8s 4ms/step - loss: 119.0002 - mae: 119.0002 - val_loss: 667.1289 - val_mae: 667.1289\n",
            "Epoch 71/100\n",
            "2222/2222 [==============================] - 8s 4ms/step - loss: 119.3624 - mae: 119.3624 - val_loss: 666.6495 - val_mae: 666.6495\n",
            "Epoch 72/100\n",
            "2222/2222 [==============================] - 8s 4ms/step - loss: 120.7377 - mae: 120.7377 - val_loss: 610.1350 - val_mae: 610.1350\n",
            "Epoch 73/100\n",
            "2222/2222 [==============================] - 8s 3ms/step - loss: 118.2766 - mae: 118.2766 - val_loss: 618.5906 - val_mae: 618.5906\n",
            "Epoch 74/100\n",
            "2222/2222 [==============================] - 8s 3ms/step - loss: 118.8165 - mae: 118.8165 - val_loss: 626.3694 - val_mae: 626.3694\n",
            "Epoch 75/100\n",
            "2222/2222 [==============================] - 8s 4ms/step - loss: 117.9041 - mae: 117.9041 - val_loss: 655.7343 - val_mae: 655.7343\n",
            "Epoch 76/100\n",
            "2222/2222 [==============================] - 7s 3ms/step - loss: 120.0705 - mae: 120.0705 - val_loss: 627.0032 - val_mae: 627.0032\n",
            "Epoch 77/100\n",
            "2222/2222 [==============================] - 7s 3ms/step - loss: 118.0965 - mae: 118.0965 - val_loss: 630.5449 - val_mae: 630.5449\n",
            "Epoch 78/100\n",
            "2222/2222 [==============================] - 7s 3ms/step - loss: 118.4164 - mae: 118.4164 - val_loss: 653.1104 - val_mae: 653.1104\n",
            "Epoch 79/100\n",
            "2222/2222 [==============================] - 8s 4ms/step - loss: 117.1936 - mae: 117.1936 - val_loss: 624.7339 - val_mae: 624.7339\n",
            "Epoch 80/100\n",
            "2222/2222 [==============================] - 8s 4ms/step - loss: 118.0297 - mae: 118.0297 - val_loss: 663.9778 - val_mae: 663.9778\n",
            "Epoch 81/100\n",
            "2222/2222 [==============================] - 8s 4ms/step - loss: 119.0984 - mae: 119.0984 - val_loss: 606.2456 - val_mae: 606.2456\n",
            "Epoch 82/100\n",
            "2222/2222 [==============================] - 8s 4ms/step - loss: 118.6678 - mae: 118.6678 - val_loss: 612.3005 - val_mae: 612.3005\n",
            "Epoch 83/100\n",
            "2222/2222 [==============================] - 8s 4ms/step - loss: 118.4179 - mae: 118.4179 - val_loss: 626.2885 - val_mae: 626.2885\n",
            "Epoch 84/100\n",
            "2222/2222 [==============================] - 8s 4ms/step - loss: 117.7862 - mae: 117.7862 - val_loss: 623.1671 - val_mae: 623.1671\n",
            "Epoch 85/100\n",
            "2222/2222 [==============================] - 8s 4ms/step - loss: 118.2794 - mae: 118.2794 - val_loss: 617.6152 - val_mae: 617.6152\n",
            "Epoch 86/100\n",
            "2222/2222 [==============================] - 8s 4ms/step - loss: 117.2547 - mae: 117.2547 - val_loss: 602.9861 - val_mae: 602.9861\n",
            "Epoch 87/100\n",
            "2222/2222 [==============================] - 8s 3ms/step - loss: 118.5671 - mae: 118.5671 - val_loss: 612.5575 - val_mae: 612.5575\n",
            "Epoch 88/100\n",
            "2222/2222 [==============================] - 8s 4ms/step - loss: 118.1697 - mae: 118.1697 - val_loss: 601.0164 - val_mae: 601.0164\n",
            "Epoch 89/100\n",
            "2222/2222 [==============================] - 8s 4ms/step - loss: 116.7971 - mae: 116.7971 - val_loss: 616.6646 - val_mae: 616.6646\n",
            "Epoch 90/100\n",
            "2222/2222 [==============================] - 8s 4ms/step - loss: 117.5272 - mae: 117.5272 - val_loss: 600.1985 - val_mae: 600.1985\n",
            "Epoch 91/100\n",
            "2222/2222 [==============================] - 8s 4ms/step - loss: 117.5424 - mae: 117.5424 - val_loss: 597.9745 - val_mae: 597.9745\n",
            "INFO:tensorflow:Assets written to: time_series/Model_1_2_Dense/assets\n",
            "Epoch 92/100\n",
            "2222/2222 [==============================] - 8s 4ms/step - loss: 118.5488 - mae: 118.5488 - val_loss: 610.6298 - val_mae: 610.6298\n",
            "Epoch 93/100\n",
            "2222/2222 [==============================] - 8s 4ms/step - loss: 117.2828 - mae: 117.2828 - val_loss: 599.0062 - val_mae: 599.0062\n",
            "Epoch 94/100\n",
            "2222/2222 [==============================] - 8s 3ms/step - loss: 117.2891 - mae: 117.2891 - val_loss: 593.7381 - val_mae: 593.7381\n",
            "INFO:tensorflow:Assets written to: time_series/Model_1_2_Dense/assets\n",
            "Epoch 95/100\n",
            "2222/2222 [==============================] - 8s 3ms/step - loss: 116.8294 - mae: 116.8294 - val_loss: 596.5526 - val_mae: 596.5526\n",
            "Epoch 96/100\n",
            "2222/2222 [==============================] - 8s 4ms/step - loss: 115.4592 - mae: 115.4592 - val_loss: 596.5152 - val_mae: 596.5152\n",
            "Epoch 97/100\n",
            "2222/2222 [==============================] - 8s 3ms/step - loss: 116.6525 - mae: 116.6525 - val_loss: 599.1951 - val_mae: 599.1951\n",
            "Epoch 98/100\n",
            "2222/2222 [==============================] - 8s 3ms/step - loss: 116.4313 - mae: 116.4313 - val_loss: 616.6760 - val_mae: 616.6760\n",
            "Epoch 99/100\n",
            "2222/2222 [==============================] - 8s 3ms/step - loss: 116.5632 - mae: 116.5632 - val_loss: 598.1689 - val_mae: 598.1689\n",
            "Epoch 100/100\n",
            "2222/2222 [==============================] - 8s 4ms/step - loss: 117.9358 - mae: 117.9358 - val_loss: 601.5703 - val_mae: 601.5703\n"
          ],
          "name": "stdout"
        }
      ]
    },
    {
      "cell_type": "code",
      "metadata": {
        "colab": {
          "base_uri": "https://localhost:8080/",
          "height": 315
        },
        "id": "cyx0QYPcaQBB",
        "outputId": "e1a52505-44f0-469b-e9a5-4031e18505fe"
      },
      "source": [
        "plot_loss_curves(history_1_2)"
      ],
      "execution_count": 111,
      "outputs": [
        {
          "output_type": "display_data",
          "data": {
            "image/png": "[encoded data removed]",
            "text/plain": [
              "<Figure size 432x288 with 1 Axes>"
            ]
          },
          "metadata": {
            "tags": [],
            "needs_background": "light"
          }
        }
      ]
    },
    {
      "cell_type": "markdown",
      "metadata": {
        "id": "ihKRnbZ3o0n0"
      },
      "source": [
        "Why do I have this difference in results?"
      ]
    },
    {
      "cell_type": "markdown",
      "metadata": {
        "id": "kdY9x0PbpYWo"
      },
      "source": [
        "#### Evaluate model 1 and save results"
      ]
    },
    {
      "cell_type": "code",
      "metadata": {
        "id": "pOaRcr6FexDN"
      },
      "source": [
        "model_1_load = load_model('time_series/' + model_1.name)"
      ],
      "execution_count": 73,
      "outputs": []
    },
    {
      "cell_type": "code",
      "metadata": {
        "colab": {
          "base_uri": "https://localhost:8080/"
        },
        "id": "PG8N2ywlp1-V",
        "outputId": "75bde071-842f-4d45-adf0-c395e4a618b5"
      },
      "source": [
        "model_1_load.evaluate(test_windows, test_labels)"
      ],
      "execution_count": 74,
      "outputs": [
        {
          "output_type": "stream",
          "text": [
            "18/18 [==============================] - 0s 2ms/step - loss: 565.1944 - mae: 565.1944\n"
          ],
          "name": "stdout"
        },
        {
          "output_type": "execute_result",
          "data": {
            "text/plain": [
              "[565.1943969726562, 565.1943969726562]"
            ]
          },
          "metadata": {
            "tags": []
          },
          "execution_count": 74
        }
      ]
    },
    {
      "cell_type": "markdown",
      "metadata": {
        "id": "GAQ3tGBxuwsc"
      },
      "source": [
        "#### Function to load best model, make predictions and save in df_results"
      ]
    },
    {
      "cell_type": "code",
      "metadata": {
        "id": "QoWjyO-JtTPm"
      },
      "source": [
        "#Function to load best model, make predictions and save in df_results\n",
        "def make_predictions(model, test_windows = test_windows, test_labels = test_labels, X_test = X_test):\n",
        "  loaded_model  = load_model('time_series/' + model.name)\n",
        "  pred = loaded_model.predict(test_windows)\n",
        "  save_results(model.name, tf.squeeze(pred), tf.squeeze(test_labels))\n",
        "  #Plot\n",
        "  offset = 300\n",
        "  plt.figure(figsize=(10, 7))\n",
        "  # Account for the test_window offset and index into test_labels to ensure correct plotting\n",
        "  plot_time_series(timesteps=X_test[-len(test_windows):], values=test_labels[:, 0], start=offset, label=\"Test_data\")\n",
        "  plot_time_series(timesteps=X_test[-len(test_windows):], values=pred, start=offset, format=\"-\", label=model.name+ \" preds\")\n",
        "  return pred"
      ],
      "execution_count": 127,
      "outputs": []
    },
    {
      "cell_type": "code",
      "metadata": {
        "id": "vjwIfgOBqLFe"
      },
      "source": [
        "pred_1 = make_predictions(model_1)"
      ],
      "execution_count": 93,
      "outputs": []
    },
    {
      "cell_type": "code",
      "metadata": {
        "colab": {
          "base_uri": "https://localhost:8080/",
          "height": 191
        },
        "id": "wVHf6Q44q7I8",
        "outputId": "ea8e59c9-385c-4fc9-ad00-fb53854bade7"
      },
      "source": [
        "df_results"
      ],
      "execution_count": 94,
      "outputs": [
        {
          "output_type": "execute_result",
          "data": {
            "text/html": [
              "<div>\n",
              "<style scoped>\n",
              "    .dataframe tbody tr th:only-of-type {\n",
              "        vertical-align: middle;\n",
              "    }\n",
              "\n",
              "    .dataframe tbody tr th {\n",
              "        vertical-align: top;\n",
              "    }\n",
              "\n",
              "    .dataframe thead th {\n",
              "        text-align: right;\n",
              "    }\n",
              "</style>\n",
              "<table border=\"1\" class=\"dataframe\">\n",
              "  <thead>\n",
              "    <tr style=\"text-align: right;\">\n",
              "      <th></th>\n",
              "      <th>model</th>\n",
              "      <th>MAE</th>\n",
              "      <th>RMSE</th>\n",
              "      <th>MAPE</th>\n",
              "      <th>MASE</th>\n",
              "      <th>last_day_pred</th>\n",
              "      <th>last_day_real</th>\n",
              "    </tr>\n",
              "  </thead>\n",
              "  <tbody>\n",
              "    <tr>\n",
              "      <th>0</th>\n",
              "      <td>Base_naive</td>\n",
              "      <td>567</td>\n",
              "      <td>1071</td>\n",
              "      <td>2.52</td>\n",
              "      <td>0.99957</td>\n",
              "      <td>45604.615754</td>\n",
              "      <td>43144.471291</td>\n",
              "    </tr>\n",
              "    <tr>\n",
              "      <th>1</th>\n",
              "      <td>Model_1_Dense</td>\n",
              "      <td>565</td>\n",
              "      <td>1077</td>\n",
              "      <td>2.53</td>\n",
              "      <td>0.99289</td>\n",
              "      <td>45868.980469</td>\n",
              "      <td>43144.471291</td>\n",
              "    </tr>\n",
              "    <tr>\n",
              "      <th>2</th>\n",
              "      <td>Model_1_Dense</td>\n",
              "      <td>565</td>\n",
              "      <td>1077</td>\n",
              "      <td>2.53</td>\n",
              "      <td>0.99289</td>\n",
              "      <td>45868.980469</td>\n",
              "      <td>43144.471291</td>\n",
              "    </tr>\n",
              "    <tr>\n",
              "      <th>3</th>\n",
              "      <td>Model_1_Dense</td>\n",
              "      <td>565</td>\n",
              "      <td>1077</td>\n",
              "      <td>2.53</td>\n",
              "      <td>0.99289</td>\n",
              "      <td>45868.980469</td>\n",
              "      <td>43144.471291</td>\n",
              "    </tr>\n",
              "  </tbody>\n",
              "</table>\n",
              "</div>"
            ],
            "text/plain": [
              "           model  MAE  RMSE  MAPE     MASE  last_day_pred  last_day_real\n",
              "0     Base_naive  567  1071  2.52  0.99957   45604.615754   43144.471291\n",
              "1  Model_1_Dense  565  1077  2.53  0.99289   45868.980469   43144.471291\n",
              "2  Model_1_Dense  565  1077  2.53  0.99289   45868.980469   43144.471291\n",
              "3  Model_1_Dense  565  1077  2.53  0.99289   45868.980469   43144.471291"
            ]
          },
          "metadata": {
            "tags": []
          },
          "execution_count": 94
        }
      ]
    },
    {
      "cell_type": "code",
      "metadata": {
        "colab": {
          "base_uri": "https://localhost:8080/",
          "height": 462
        },
        "id": "3CNuz3X1rRW0",
        "outputId": "e7fcdf0e-ba0b-4062-9509-9386c5d77567"
      },
      "source": [
        "offset = 300\n",
        "plt.figure(figsize=(10, 7))\n",
        "# Account for the test_window offset and index into test_labels to ensure correct plotting\n",
        "plot_time_series(timesteps=X_test[-len(test_windows):], values=test_labels[:, 0], start=offset, label=\"Test_data\")\n",
        "plot_time_series(timesteps=X_test[-len(test_windows):], values=pred_1, start=offset, format=\"-\", label=\"model_1_preds\")"
      ],
      "execution_count": 95,
      "outputs": [
        {
          "output_type": "display_data",
          "data": {
            "image/png": "[encoded data removed]",
            "text/plain": [
              "<Figure size 720x504 with 1 Axes>"
            ]
          },
          "metadata": {
            "tags": [],
            "needs_background": "light"
          }
        }
      ]
    },
    {
      "cell_type": "markdown",
      "metadata": {
        "id": "gX9QCqshyTjG"
      },
      "source": [
        "#### Model_1_2 evaluate"
      ]
    },
    {
      "cell_type": "code",
      "metadata": {
        "colab": {
          "base_uri": "https://localhost:8080/",
          "height": 462
        },
        "id": "3m0pL0pgvnRd",
        "outputId": "90ed855b-a8ce-43f9-bf76-24f8eb834cfa"
      },
      "source": [
        "pred_1_2 = make_predictions(model_1_2)"
      ],
      "execution_count": 118,
      "outputs": [
        {
          "output_type": "display_data",
          "data": {
            "image/png": "[encoded data removed]",
            "text/plain": [
              "<Figure size 720x504 with 1 Axes>"
            ]
          },
          "metadata": {
            "tags": [],
            "needs_background": "light"
          }
        }
      ]
    },
    {
      "cell_type": "code",
      "metadata": {
        "colab": {
          "base_uri": "https://localhost:8080/",
          "height": 252
        },
        "id": "7qkowyyd2CO7",
        "outputId": "fc4f0cb3-31b9-4dda-e296-a62efaeb963a"
      },
      "source": [
        "df_results"
      ],
      "execution_count": 119,
      "outputs": [
        {
          "output_type": "execute_result",
          "data": {
            "text/html": [
              "<div>\n",
              "<style scoped>\n",
              "    .dataframe tbody tr th:only-of-type {\n",
              "        vertical-align: middle;\n",
              "    }\n",
              "\n",
              "    .dataframe tbody tr th {\n",
              "        vertical-align: top;\n",
              "    }\n",
              "\n",
              "    .dataframe thead th {\n",
              "        text-align: right;\n",
              "    }\n",
              "</style>\n",
              "<table border=\"1\" class=\"dataframe\">\n",
              "  <thead>\n",
              "    <tr style=\"text-align: right;\">\n",
              "      <th></th>\n",
              "      <th>model</th>\n",
              "      <th>MAE</th>\n",
              "      <th>RMSE</th>\n",
              "      <th>MAPE</th>\n",
              "      <th>MASE</th>\n",
              "      <th>last_day_pred</th>\n",
              "      <th>last_day_real</th>\n",
              "    </tr>\n",
              "  </thead>\n",
              "  <tbody>\n",
              "    <tr>\n",
              "      <th>0</th>\n",
              "      <td>Base_naive</td>\n",
              "      <td>567</td>\n",
              "      <td>1071</td>\n",
              "      <td>2.52</td>\n",
              "      <td>0.999570</td>\n",
              "      <td>45604.615754</td>\n",
              "      <td>43144.471291</td>\n",
              "    </tr>\n",
              "    <tr>\n",
              "      <th>1</th>\n",
              "      <td>Model_1_Dense</td>\n",
              "      <td>565</td>\n",
              "      <td>1077</td>\n",
              "      <td>2.53</td>\n",
              "      <td>0.992890</td>\n",
              "      <td>45868.980469</td>\n",
              "      <td>43144.471291</td>\n",
              "    </tr>\n",
              "    <tr>\n",
              "      <th>2</th>\n",
              "      <td>Model_1_Dense</td>\n",
              "      <td>565</td>\n",
              "      <td>1077</td>\n",
              "      <td>2.53</td>\n",
              "      <td>0.992890</td>\n",
              "      <td>45868.980469</td>\n",
              "      <td>43144.471291</td>\n",
              "    </tr>\n",
              "    <tr>\n",
              "      <th>3</th>\n",
              "      <td>Model_1_Dense</td>\n",
              "      <td>565</td>\n",
              "      <td>1077</td>\n",
              "      <td>2.53</td>\n",
              "      <td>0.992890</td>\n",
              "      <td>45868.980469</td>\n",
              "      <td>43144.471291</td>\n",
              "    </tr>\n",
              "    <tr>\n",
              "      <th>4</th>\n",
              "      <td>Model_1_2_Dense</td>\n",
              "      <td>590</td>\n",
              "      <td>1110</td>\n",
              "      <td>2.63</td>\n",
              "      <td>1.036557</td>\n",
              "      <td>46924.390625</td>\n",
              "      <td>43144.471291</td>\n",
              "    </tr>\n",
              "    <tr>\n",
              "      <th>5</th>\n",
              "      <td>Model_1_2_Dense</td>\n",
              "      <td>590</td>\n",
              "      <td>1110</td>\n",
              "      <td>2.63</td>\n",
              "      <td>1.036557</td>\n",
              "      <td>46924.390625</td>\n",
              "      <td>43144.471291</td>\n",
              "    </tr>\n",
              "  </tbody>\n",
              "</table>\n",
              "</div>"
            ],
            "text/plain": [
              "             model  MAE  RMSE  MAPE      MASE  last_day_pred  last_day_real\n",
              "0       Base_naive  567  1071  2.52  0.999570   45604.615754   43144.471291\n",
              "1    Model_1_Dense  565  1077  2.53  0.992890   45868.980469   43144.471291\n",
              "2    Model_1_Dense  565  1077  2.53  0.992890   45868.980469   43144.471291\n",
              "3    Model_1_Dense  565  1077  2.53  0.992890   45868.980469   43144.471291\n",
              "4  Model_1_2_Dense  590  1110  2.63  1.036557   46924.390625   43144.471291\n",
              "5  Model_1_2_Dense  590  1110  2.63  1.036557   46924.390625   43144.471291"
            ]
          },
          "metadata": {
            "tags": []
          },
          "execution_count": 119
        }
      ]
    },
    {
      "cell_type": "markdown",
      "metadata": {
        "id": "RMgaum4vzkFU"
      },
      "source": [
        "### 2 Model Dense Window 30 Horizon 1"
      ]
    },
    {
      "cell_type": "code",
      "metadata": {
        "id": "eb6gKR2izwqN"
      },
      "source": [
        "all_windows_30, all_labels_30 = make_windows(btc_price, window_size = 30)"
      ],
      "execution_count": 120,
      "outputs": []
    },
    {
      "cell_type": "code",
      "metadata": {
        "id": "OoJVqf7g0K6S"
      },
      "source": [
        "train_windows_30, test_windows_30, train_labels_30, test_labels_30 = make_train_test_splits(all_windows_30, all_labels_30, test_split=0.2)"
      ],
      "execution_count": 121,
      "outputs": []
    },
    {
      "cell_type": "code",
      "metadata": {
        "id": "Am8r3JIP0g0V"
      },
      "source": [
        "model_2 = Sequential([Dense(128, activation = 'relu'),\n",
        "                      Dense(HORIZON, activation = 'linear')],\n",
        "                     name = 'Model_2_Dense_W30')"
      ],
      "execution_count": 122,
      "outputs": []
    },
    {
      "cell_type": "code",
      "metadata": {
        "id": "gcsnPSeR03-x"
      },
      "source": [
        "model_2.compile(optimizer = 'adam', loss = 'mae')"
      ],
      "execution_count": 123,
      "outputs": []
    },
    {
      "cell_type": "code",
      "metadata": {
        "colab": {
          "base_uri": "https://localhost:8080/"
        },
        "id": "awTcoMBr0-d4",
        "outputId": "40997c5a-4712-4ead-a535-57a53dbdcd13"
      },
      "source": [
        "history_2 = model_2.fit(train_windows_30, train_labels_30, epochs = 100,\n",
        "                        validation_data = (test_windows_30, test_labels_30),\n",
        "                        batch_size = 128,\n",
        "                        callbacks = checkpoint(model_2.name))"
      ],
      "execution_count": 124,
      "outputs": [
        {
          "output_type": "stream",
          "text": [
            "Epoch 1/100\n",
            "18/18 [==============================] - 0s 10ms/step - loss: 2160.9761 - val_loss: 2645.2817\n",
            "INFO:tensorflow:Assets written to: time_series/Model_2_Dense_W30/assets\n",
            "Epoch 2/100\n",
            "18/18 [==============================] - 0s 4ms/step - loss: 481.3016 - val_loss: 1640.6995\n",
            "INFO:tensorflow:Assets written to: time_series/Model_2_Dense_W30/assets\n",
            "Epoch 3/100\n",
            "18/18 [==============================] - 0s 4ms/step - loss: 288.7314 - val_loss: 1484.6920\n",
            "INFO:tensorflow:Assets written to: time_series/Model_2_Dense_W30/assets\n",
            "Epoch 4/100\n",
            "18/18 [==============================] - 0s 4ms/step - loss: 252.6142 - val_loss: 1566.3446\n",
            "Epoch 5/100\n",
            "18/18 [==============================] - 0s 4ms/step - loss: 218.3539 - val_loss: 1047.8671\n",
            "INFO:tensorflow:Assets written to: time_series/Model_2_Dense_W30/assets\n",
            "Epoch 6/100\n",
            "18/18 [==============================] - 0s 4ms/step - loss: 191.3526 - val_loss: 1088.8267\n",
            "Epoch 7/100\n",
            "18/18 [==============================] - 0s 4ms/step - loss: 183.3227 - val_loss: 1148.2561\n",
            "Epoch 8/100\n",
            "18/18 [==============================] - 0s 4ms/step - loss: 183.7029 - val_loss: 969.7759\n",
            "INFO:tensorflow:Assets written to: time_series/Model_2_Dense_W30/assets\n",
            "Epoch 9/100\n",
            "18/18 [==============================] - 0s 4ms/step - loss: 181.9266 - val_loss: 1044.7654\n",
            "Epoch 10/100\n",
            "18/18 [==============================] - 0s 4ms/step - loss: 179.7989 - val_loss: 925.5493\n",
            "INFO:tensorflow:Assets written to: time_series/Model_2_Dense_W30/assets\n",
            "Epoch 11/100\n",
            "18/18 [==============================] - 0s 4ms/step - loss: 171.1274 - val_loss: 948.0230\n",
            "Epoch 12/100\n",
            "18/18 [==============================] - 0s 4ms/step - loss: 166.3734 - val_loss: 903.2952\n",
            "INFO:tensorflow:Assets written to: time_series/Model_2_Dense_W30/assets\n",
            "Epoch 13/100\n",
            "18/18 [==============================] - 0s 4ms/step - loss: 157.4661 - val_loss: 880.7859\n",
            "INFO:tensorflow:Assets written to: time_series/Model_2_Dense_W30/assets\n",
            "Epoch 14/100\n",
            "18/18 [==============================] - 0s 4ms/step - loss: 166.3236 - val_loss: 875.9695\n",
            "INFO:tensorflow:Assets written to: time_series/Model_2_Dense_W30/assets\n",
            "Epoch 15/100\n",
            "18/18 [==============================] - 0s 4ms/step - loss: 172.1333 - val_loss: 1373.5040\n",
            "Epoch 16/100\n",
            "18/18 [==============================] - 0s 4ms/step - loss: 182.6747 - val_loss: 1125.9564\n",
            "Epoch 17/100\n",
            "18/18 [==============================] - 0s 4ms/step - loss: 164.7735 - val_loss: 961.2071\n",
            "Epoch 18/100\n",
            "18/18 [==============================] - 0s 4ms/step - loss: 164.9730 - val_loss: 938.1931\n",
            "Epoch 19/100\n",
            "18/18 [==============================] - 0s 4ms/step - loss: 149.3793 - val_loss: 855.8904\n",
            "INFO:tensorflow:Assets written to: time_series/Model_2_Dense_W30/assets\n",
            "Epoch 20/100\n",
            "18/18 [==============================] - 0s 4ms/step - loss: 157.8709 - val_loss: 873.2016\n",
            "Epoch 21/100\n",
            "18/18 [==============================] - 0s 4ms/step - loss: 146.1078 - val_loss: 819.2385\n",
            "INFO:tensorflow:Assets written to: time_series/Model_2_Dense_W30/assets\n",
            "Epoch 22/100\n",
            "18/18 [==============================] - 0s 5ms/step - loss: 144.4781 - val_loss: 804.1915\n",
            "INFO:tensorflow:Assets written to: time_series/Model_2_Dense_W30/assets\n",
            "Epoch 23/100\n",
            "18/18 [==============================] - 0s 5ms/step - loss: 142.5271 - val_loss: 799.1409\n",
            "INFO:tensorflow:Assets written to: time_series/Model_2_Dense_W30/assets\n",
            "Epoch 24/100\n",
            "18/18 [==============================] - 0s 4ms/step - loss: 151.1033 - val_loss: 801.0797\n",
            "Epoch 25/100\n",
            "18/18 [==============================] - 0s 4ms/step - loss: 143.4135 - val_loss: 789.3508\n",
            "INFO:tensorflow:Assets written to: time_series/Model_2_Dense_W30/assets\n",
            "Epoch 26/100\n",
            "18/18 [==============================] - 0s 4ms/step - loss: 152.8604 - val_loss: 1093.9961\n",
            "Epoch 27/100\n",
            "18/18 [==============================] - 0s 4ms/step - loss: 148.6682 - val_loss: 801.2971\n",
            "Epoch 28/100\n",
            "18/18 [==============================] - 0s 4ms/step - loss: 144.2005 - val_loss: 772.8349\n",
            "INFO:tensorflow:Assets written to: time_series/Model_2_Dense_W30/assets\n",
            "Epoch 29/100\n",
            "18/18 [==============================] - 0s 4ms/step - loss: 158.2139 - val_loss: 1314.7502\n",
            "Epoch 30/100\n",
            "18/18 [==============================] - 0s 4ms/step - loss: 192.0595 - val_loss: 859.9971\n",
            "Epoch 31/100\n",
            "18/18 [==============================] - 0s 4ms/step - loss: 139.2925 - val_loss: 760.1540\n",
            "INFO:tensorflow:Assets written to: time_series/Model_2_Dense_W30/assets\n",
            "Epoch 32/100\n",
            "18/18 [==============================] - 0s 4ms/step - loss: 142.8127 - val_loss: 828.1332\n",
            "Epoch 33/100\n",
            "18/18 [==============================] - 0s 4ms/step - loss: 170.7220 - val_loss: 921.1356\n",
            "Epoch 34/100\n",
            "18/18 [==============================] - 0s 5ms/step - loss: 153.1742 - val_loss: 786.4503\n",
            "Epoch 35/100\n",
            "18/18 [==============================] - 0s 6ms/step - loss: 135.2338 - val_loss: 739.0384\n",
            "INFO:tensorflow:Assets written to: time_series/Model_2_Dense_W30/assets\n",
            "Epoch 36/100\n",
            "18/18 [==============================] - 0s 5ms/step - loss: 135.4268 - val_loss: 747.4006\n",
            "Epoch 37/100\n",
            "18/18 [==============================] - 0s 4ms/step - loss: 134.2688 - val_loss: 799.8471\n",
            "Epoch 38/100\n",
            "18/18 [==============================] - 0s 4ms/step - loss: 132.4900 - val_loss: 806.3798\n",
            "Epoch 39/100\n",
            "18/18 [==============================] - 0s 5ms/step - loss: 138.6715 - val_loss: 782.4387\n",
            "Epoch 40/100\n",
            "18/18 [==============================] - 0s 4ms/step - loss: 131.4955 - val_loss: 854.4232\n",
            "Epoch 41/100\n",
            "18/18 [==============================] - 0s 5ms/step - loss: 131.8096 - val_loss: 748.1082\n",
            "Epoch 42/100\n",
            "18/18 [==============================] - 0s 4ms/step - loss: 129.9239 - val_loss: 731.0905\n",
            "INFO:tensorflow:Assets written to: time_series/Model_2_Dense_W30/assets\n",
            "Epoch 43/100\n",
            "18/18 [==============================] - 0s 4ms/step - loss: 135.8311 - val_loss: 723.2520\n",
            "INFO:tensorflow:Assets written to: time_series/Model_2_Dense_W30/assets\n",
            "Epoch 44/100\n",
            "18/18 [==============================] - 0s 4ms/step - loss: 133.3415 - val_loss: 1027.3965\n",
            "Epoch 45/100\n",
            "18/18 [==============================] - 0s 4ms/step - loss: 145.9349 - val_loss: 710.2078\n",
            "INFO:tensorflow:Assets written to: time_series/Model_2_Dense_W30/assets\n",
            "Epoch 46/100\n",
            "18/18 [==============================] - 0s 5ms/step - loss: 129.2958 - val_loss: 913.8871\n",
            "Epoch 47/100\n",
            "18/18 [==============================] - 0s 5ms/step - loss: 143.9271 - val_loss: 706.2173\n",
            "INFO:tensorflow:Assets written to: time_series/Model_2_Dense_W30/assets\n",
            "Epoch 48/100\n",
            "18/18 [==============================] - 0s 4ms/step - loss: 141.7682 - val_loss: 709.2089\n",
            "Epoch 49/100\n",
            "18/18 [==============================] - 0s 4ms/step - loss: 139.5730 - val_loss: 747.5078\n",
            "Epoch 50/100\n",
            "18/18 [==============================] - 0s 4ms/step - loss: 129.8710 - val_loss: 826.8821\n",
            "Epoch 51/100\n",
            "18/18 [==============================] - 0s 4ms/step - loss: 140.6066 - val_loss: 719.2477\n",
            "Epoch 52/100\n",
            "18/18 [==============================] - 0s 4ms/step - loss: 131.6091 - val_loss: 764.8255\n",
            "Epoch 53/100\n",
            "18/18 [==============================] - 0s 4ms/step - loss: 132.1665 - val_loss: 697.6656\n",
            "INFO:tensorflow:Assets written to: time_series/Model_2_Dense_W30/assets\n",
            "Epoch 54/100\n",
            "18/18 [==============================] - 0s 4ms/step - loss: 133.3734 - val_loss: 943.1384\n",
            "Epoch 55/100\n",
            "18/18 [==============================] - 0s 5ms/step - loss: 150.2889 - val_loss: 686.6710\n",
            "INFO:tensorflow:Assets written to: time_series/Model_2_Dense_W30/assets\n",
            "Epoch 56/100\n",
            "18/18 [==============================] - 0s 4ms/step - loss: 131.3868 - val_loss: 723.4787\n",
            "Epoch 57/100\n",
            "18/18 [==============================] - 0s 4ms/step - loss: 128.6725 - val_loss: 682.3867\n",
            "INFO:tensorflow:Assets written to: time_series/Model_2_Dense_W30/assets\n",
            "Epoch 58/100\n",
            "18/18 [==============================] - 0s 4ms/step - loss: 123.6753 - val_loss: 796.4133\n",
            "Epoch 59/100\n",
            "18/18 [==============================] - 0s 5ms/step - loss: 122.1986 - val_loss: 799.8708\n",
            "Epoch 60/100\n",
            "18/18 [==============================] - 0s 4ms/step - loss: 131.6087 - val_loss: 719.5136\n",
            "Epoch 61/100\n",
            "18/18 [==============================] - 0s 4ms/step - loss: 123.0900 - val_loss: 767.6989\n",
            "Epoch 62/100\n",
            "18/18 [==============================] - 0s 4ms/step - loss: 132.1486 - val_loss: 749.5179\n",
            "Epoch 63/100\n",
            "18/18 [==============================] - 0s 4ms/step - loss: 138.5675 - val_loss: 793.9657\n",
            "Epoch 64/100\n",
            "18/18 [==============================] - 0s 4ms/step - loss: 132.1311 - val_loss: 715.3795\n",
            "Epoch 65/100\n",
            "18/18 [==============================] - 0s 4ms/step - loss: 123.9275 - val_loss: 695.6865\n",
            "Epoch 66/100\n",
            "18/18 [==============================] - 0s 4ms/step - loss: 123.9978 - val_loss: 1009.9692\n",
            "Epoch 67/100\n",
            "18/18 [==============================] - 0s 4ms/step - loss: 136.0701 - val_loss: 669.3057\n",
            "INFO:tensorflow:Assets written to: time_series/Model_2_Dense_W30/assets\n",
            "Epoch 68/100\n",
            "18/18 [==============================] - 0s 4ms/step - loss: 121.5235 - val_loss: 713.1417\n",
            "Epoch 69/100\n",
            "18/18 [==============================] - 0s 4ms/step - loss: 121.4006 - val_loss: 667.8934\n",
            "INFO:tensorflow:Assets written to: time_series/Model_2_Dense_W30/assets\n",
            "Epoch 70/100\n",
            "18/18 [==============================] - 0s 4ms/step - loss: 121.4222 - val_loss: 756.8615\n",
            "Epoch 71/100\n",
            "18/18 [==============================] - 0s 5ms/step - loss: 123.1756 - val_loss: 836.3630\n",
            "Epoch 72/100\n",
            "18/18 [==============================] - 0s 4ms/step - loss: 129.3405 - val_loss: 661.2263\n",
            "INFO:tensorflow:Assets written to: time_series/Model_2_Dense_W30/assets\n",
            "Epoch 73/100\n",
            "18/18 [==============================] - 0s 4ms/step - loss: 119.8152 - val_loss: 661.6600\n",
            "Epoch 74/100\n",
            "18/18 [==============================] - 0s 4ms/step - loss: 119.1985 - val_loss: 654.4103\n",
            "INFO:tensorflow:Assets written to: time_series/Model_2_Dense_W30/assets\n",
            "Epoch 75/100\n",
            "18/18 [==============================] - 0s 4ms/step - loss: 119.0727 - val_loss: 804.1449\n",
            "Epoch 76/100\n",
            "18/18 [==============================] - 0s 4ms/step - loss: 128.4654 - val_loss: 958.4862\n",
            "Epoch 77/100\n",
            "18/18 [==============================] - 0s 4ms/step - loss: 139.4734 - val_loss: 877.6736\n",
            "Epoch 78/100\n",
            "18/18 [==============================] - 0s 4ms/step - loss: 136.1492 - val_loss: 766.0142\n",
            "Epoch 79/100\n",
            "18/18 [==============================] - 0s 4ms/step - loss: 138.7398 - val_loss: 646.4153\n",
            "INFO:tensorflow:Assets written to: time_series/Model_2_Dense_W30/assets\n",
            "Epoch 80/100\n",
            "18/18 [==============================] - 0s 5ms/step - loss: 121.2697 - val_loss: 713.2892\n",
            "Epoch 81/100\n",
            "18/18 [==============================] - 0s 4ms/step - loss: 129.6826 - val_loss: 1050.1919\n",
            "Epoch 82/100\n",
            "18/18 [==============================] - 0s 5ms/step - loss: 144.6418 - val_loss: 768.1480\n",
            "Epoch 83/100\n",
            "18/18 [==============================] - 0s 4ms/step - loss: 126.5085 - val_loss: 663.4489\n",
            "Epoch 84/100\n",
            "18/18 [==============================] - 0s 4ms/step - loss: 117.3937 - val_loss: 813.0270\n",
            "Epoch 85/100\n",
            "18/18 [==============================] - 0s 4ms/step - loss: 126.5200 - val_loss: 649.6892\n",
            "Epoch 86/100\n",
            "18/18 [==============================] - 0s 4ms/step - loss: 117.2529 - val_loss: 816.5678\n",
            "Epoch 87/100\n",
            "18/18 [==============================] - 0s 4ms/step - loss: 129.2522 - val_loss: 645.5134\n",
            "INFO:tensorflow:Assets written to: time_series/Model_2_Dense_W30/assets\n",
            "Epoch 88/100\n",
            "18/18 [==============================] - 0s 4ms/step - loss: 117.6395 - val_loss: 780.0696\n",
            "Epoch 89/100\n",
            "18/18 [==============================] - 0s 4ms/step - loss: 125.9084 - val_loss: 684.6929\n",
            "Epoch 90/100\n",
            "18/18 [==============================] - 0s 4ms/step - loss: 115.9069 - val_loss: 821.0589\n",
            "Epoch 91/100\n",
            "18/18 [==============================] - 0s 4ms/step - loss: 129.5051 - val_loss: 707.8678\n",
            "Epoch 92/100\n",
            "18/18 [==============================] - 0s 4ms/step - loss: 120.4394 - val_loss: 652.4410\n",
            "Epoch 93/100\n",
            "18/18 [==============================] - 0s 4ms/step - loss: 116.6431 - val_loss: 662.4506\n",
            "Epoch 94/100\n",
            "18/18 [==============================] - 0s 4ms/step - loss: 118.1204 - val_loss: 635.9048\n",
            "INFO:tensorflow:Assets written to: time_series/Model_2_Dense_W30/assets\n",
            "Epoch 95/100\n",
            "18/18 [==============================] - 0s 5ms/step - loss: 124.3125 - val_loss: 937.8232\n",
            "Epoch 96/100\n",
            "18/18 [==============================] - 0s 4ms/step - loss: 122.1485 - val_loss: 638.4984\n",
            "Epoch 97/100\n",
            "18/18 [==============================] - 0s 4ms/step - loss: 128.1459 - val_loss: 841.3666\n",
            "Epoch 98/100\n",
            "18/18 [==============================] - 0s 4ms/step - loss: 141.2876 - val_loss: 907.4388\n",
            "Epoch 99/100\n",
            "18/18 [==============================] - 0s 4ms/step - loss: 150.1762 - val_loss: 673.9482\n",
            "Epoch 100/100\n",
            "18/18 [==============================] - 0s 4ms/step - loss: 118.2137 - val_loss: 641.8199\n"
          ],
          "name": "stdout"
        }
      ]
    },
    {
      "cell_type": "code",
      "metadata": {
        "colab": {
          "base_uri": "https://localhost:8080/",
          "height": 462
        },
        "id": "VvsEvaZV2Z7y",
        "outputId": "0509ad8b-315d-4dbb-fd2a-987b4d25d991"
      },
      "source": [
        "pred_2 = make_predictions(model_2, test_windows=test_windows_30, test_labels = test_labels_30)"
      ],
      "execution_count": 129,
      "outputs": [
        {
          "output_type": "display_data",
          "data": {
            "image/png": "[encoded data removed]",
            "text/plain": [
              "<Figure size 720x504 with 1 Axes>"
            ]
          },
          "metadata": {
            "tags": [],
            "needs_background": "light"
          }
        }
      ]
    },
    {
      "cell_type": "code",
      "metadata": {
        "colab": {
          "base_uri": "https://localhost:8080/",
          "height": 282
        },
        "id": "P8rLI1pk2pWM",
        "outputId": "284b5931-3529-4ec6-c341-4e09c7eddd98"
      },
      "source": [
        "df_results"
      ],
      "execution_count": 130,
      "outputs": [
        {
          "output_type": "execute_result",
          "data": {
            "text/html": [
              "<div>\n",
              "<style scoped>\n",
              "    .dataframe tbody tr th:only-of-type {\n",
              "        vertical-align: middle;\n",
              "    }\n",
              "\n",
              "    .dataframe tbody tr th {\n",
              "        vertical-align: top;\n",
              "    }\n",
              "\n",
              "    .dataframe thead th {\n",
              "        text-align: right;\n",
              "    }\n",
              "</style>\n",
              "<table border=\"1\" class=\"dataframe\">\n",
              "  <thead>\n",
              "    <tr style=\"text-align: right;\">\n",
              "      <th></th>\n",
              "      <th>model</th>\n",
              "      <th>MAE</th>\n",
              "      <th>RMSE</th>\n",
              "      <th>MAPE</th>\n",
              "      <th>MASE</th>\n",
              "      <th>last_day_pred</th>\n",
              "      <th>last_day_real</th>\n",
              "    </tr>\n",
              "  </thead>\n",
              "  <tbody>\n",
              "    <tr>\n",
              "      <th>0</th>\n",
              "      <td>Base_naive</td>\n",
              "      <td>567</td>\n",
              "      <td>1071</td>\n",
              "      <td>2.52</td>\n",
              "      <td>0.999570</td>\n",
              "      <td>45604.615754</td>\n",
              "      <td>43144.471291</td>\n",
              "    </tr>\n",
              "    <tr>\n",
              "      <th>1</th>\n",
              "      <td>Model_1_Dense</td>\n",
              "      <td>565</td>\n",
              "      <td>1077</td>\n",
              "      <td>2.53</td>\n",
              "      <td>0.992890</td>\n",
              "      <td>45868.980469</td>\n",
              "      <td>43144.471291</td>\n",
              "    </tr>\n",
              "    <tr>\n",
              "      <th>2</th>\n",
              "      <td>Model_1_Dense</td>\n",
              "      <td>565</td>\n",
              "      <td>1077</td>\n",
              "      <td>2.53</td>\n",
              "      <td>0.992890</td>\n",
              "      <td>45868.980469</td>\n",
              "      <td>43144.471291</td>\n",
              "    </tr>\n",
              "    <tr>\n",
              "      <th>3</th>\n",
              "      <td>Model_1_Dense</td>\n",
              "      <td>565</td>\n",
              "      <td>1077</td>\n",
              "      <td>2.53</td>\n",
              "      <td>0.992890</td>\n",
              "      <td>45868.980469</td>\n",
              "      <td>43144.471291</td>\n",
              "    </tr>\n",
              "    <tr>\n",
              "      <th>4</th>\n",
              "      <td>Model_1_2_Dense</td>\n",
              "      <td>590</td>\n",
              "      <td>1110</td>\n",
              "      <td>2.63</td>\n",
              "      <td>1.036557</td>\n",
              "      <td>46924.390625</td>\n",
              "      <td>43144.471291</td>\n",
              "    </tr>\n",
              "    <tr>\n",
              "      <th>5</th>\n",
              "      <td>Model_1_2_Dense</td>\n",
              "      <td>590</td>\n",
              "      <td>1110</td>\n",
              "      <td>2.63</td>\n",
              "      <td>1.036557</td>\n",
              "      <td>46924.390625</td>\n",
              "      <td>43144.471291</td>\n",
              "    </tr>\n",
              "    <tr>\n",
              "      <th>6</th>\n",
              "      <td>Model_2_Dense_W30</td>\n",
              "      <td>635</td>\n",
              "      <td>1186</td>\n",
              "      <td>2.89</td>\n",
              "      <td>1.111568</td>\n",
              "      <td>45195.308594</td>\n",
              "      <td>43144.471291</td>\n",
              "    </tr>\n",
              "  </tbody>\n",
              "</table>\n",
              "</div>"
            ],
            "text/plain": [
              "               model  MAE  RMSE  MAPE      MASE  last_day_pred  last_day_real\n",
              "0         Base_naive  567  1071  2.52  0.999570   45604.615754   43144.471291\n",
              "1      Model_1_Dense  565  1077  2.53  0.992890   45868.980469   43144.471291\n",
              "2      Model_1_Dense  565  1077  2.53  0.992890   45868.980469   43144.471291\n",
              "3      Model_1_Dense  565  1077  2.53  0.992890   45868.980469   43144.471291\n",
              "4    Model_1_2_Dense  590  1110  2.63  1.036557   46924.390625   43144.471291\n",
              "5    Model_1_2_Dense  590  1110  2.63  1.036557   46924.390625   43144.471291\n",
              "6  Model_2_Dense_W30  635  1186  2.89  1.111568   45195.308594   43144.471291"
            ]
          },
          "metadata": {
            "tags": []
          },
          "execution_count": 130
        }
      ]
    },
    {
      "cell_type": "code",
      "metadata": {
        "id": "CvrfOKMD27zr"
      },
      "source": [
        ""
      ],
      "execution_count": null,
      "outputs": []
    }
  ]
}