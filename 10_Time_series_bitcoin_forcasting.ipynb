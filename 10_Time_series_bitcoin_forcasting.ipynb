{
  "nbformat": 4,
  "nbformat_minor": 0,
  "metadata": {
    "colab": {
      "name": "10_Time_series_bitcoin_forcasting.ipynb",
      "provenance": [],
      "collapsed_sections": [],
      "authorship_tag": "ABX9TyPJEsjPWhJDhaaqrpu1BTfz",
      "include_colab_link": true
    },
    "kernelspec": {
      "name": "python3",
      "display_name": "Python 3"
    },
    "language_info": {
      "name": "python"
    }
  },
  "cells": [
    {
      "cell_type": "markdown",
      "metadata": {
        "id": "view-in-github",
        "colab_type": "text"
      },
      "source": [
        "<a href=\"https://colab.research.google.com/github/Natali-bali/TensorFlow_Tutorial/blob/master/10_Time_series_bitcoin_forcasting.ipynb\" target=\"_parent\"><img src=\"https://colab.research.google.com/assets/colab-badge.svg\" alt=\"Open In Colab\"/></a>"
      ]
    },
    {
      "cell_type": "markdown",
      "metadata": {
        "id": "EKJ8aavK6K-g"
      },
      "source": [
        "#Time series forecasting in TensorFlow (BitPredict 💰📈)\n",
        "\n",
        "The goal of this notebook is to get you familiar with working with time series data.\n",
        "\n",
        "We're going to be building a series of models in an attempt to predict the price of Bitcoin."
      ]
    },
    {
      "cell_type": "markdown",
      "metadata": {
        "id": "o9RIFqOF6cJS"
      },
      "source": [
        "### Imports"
      ]
    },
    {
      "cell_type": "code",
      "metadata": {
        "id": "1HyJKFPj6YYQ"
      },
      "source": [
        "import pandas as pd\n",
        "import numpy as np\n",
        "import matplotlib.pyplot as plt\n",
        "import csv\n",
        "from datetime import datetime\n",
        "\n",
        "import tensorflow as tf\n",
        "from tensorflow.keras.metrics import mean_absolute_percentage_error, mean_absolute_error, mean_squared_error"
      ],
      "execution_count": 1,
      "outputs": []
    },
    {
      "cell_type": "markdown",
      "metadata": {
        "id": "i5210TEg6R7m"
      },
      "source": [
        "### Get Data\n",
        "Historical data of Bitcoin"
      ]
    },
    {
      "cell_type": "code",
      "metadata": {
        "colab": {
          "base_uri": "https://localhost:8080/"
        },
        "id": "89k68qdt4OFp",
        "outputId": "bc26e3a1-d8dc-41f3-e711-6b0b8c6bc9a0"
      },
      "source": [
        "!wget https://raw.githubusercontent.com/mrdbourke/tensorflow-deep-learning/main/extras/BTC_USD_2013-10-01_2021-05-18-CoinDesk.csv"
      ],
      "execution_count": 2,
      "outputs": [
        {
          "output_type": "stream",
          "text": [
            "--2021-08-02 06:44:04--  https://raw.githubusercontent.com/mrdbourke/tensorflow-deep-learning/main/extras/BTC_USD_2013-10-01_2021-05-18-CoinDesk.csv\n",
            "Resolving raw.githubusercontent.com (raw.githubusercontent.com)... 185.199.108.133, 185.199.109.133, 185.199.110.133, ...\n",
            "Connecting to raw.githubusercontent.com (raw.githubusercontent.com)|185.199.108.133|:443... connected.\n",
            "HTTP request sent, awaiting response... 200 OK\n",
            "Length: 178509 (174K) [text/plain]\n",
            "Saving to: ‘BTC_USD_2013-10-01_2021-05-18-CoinDesk.csv’\n",
            "\n",
            "BTC_USD_2013-10-01_ 100%[===================>] 174.33K  --.-KB/s    in 0.02s   \n",
            "\n",
            "2021-08-02 06:44:04 (11.1 MB/s) - ‘BTC_USD_2013-10-01_2021-05-18-CoinDesk.csv’ saved [178509/178509]\n",
            "\n"
          ],
          "name": "stdout"
        }
      ]
    },
    {
      "cell_type": "code",
      "metadata": {
        "id": "_MjTKfNf6jU8"
      },
      "source": [
        "df = pd.read_csv('/content/BTC_USD_2013-10-01_2021-05-18-CoinDesk.csv')"
      ],
      "execution_count": 3,
      "outputs": []
    },
    {
      "cell_type": "code",
      "metadata": {
        "id": "991LjoPu8Eav"
      },
      "source": [
        "df.Date = pd.to_datetime(df.Date)\n",
        "df = df.rename(columns = {'Date': 'date'}).set_index('date')"
      ],
      "execution_count": 4,
      "outputs": []
    },
    {
      "cell_type": "code",
      "metadata": {
        "colab": {
          "base_uri": "https://localhost:8080/",
          "height": 232
        },
        "id": "xUq7J9L46vvE",
        "outputId": "fd109e69-c311-4da1-c259-9fd63e987734"
      },
      "source": [
        "df.head()"
      ],
      "execution_count": 5,
      "outputs": [
        {
          "output_type": "execute_result",
          "data": {
            "text/html": [
              "<div>\n",
              "<style scoped>\n",
              "    .dataframe tbody tr th:only-of-type {\n",
              "        vertical-align: middle;\n",
              "    }\n",
              "\n",
              "    .dataframe tbody tr th {\n",
              "        vertical-align: top;\n",
              "    }\n",
              "\n",
              "    .dataframe thead th {\n",
              "        text-align: right;\n",
              "    }\n",
              "</style>\n",
              "<table border=\"1\" class=\"dataframe\">\n",
              "  <thead>\n",
              "    <tr style=\"text-align: right;\">\n",
              "      <th></th>\n",
              "      <th>Currency</th>\n",
              "      <th>Closing Price (USD)</th>\n",
              "      <th>24h Open (USD)</th>\n",
              "      <th>24h High (USD)</th>\n",
              "      <th>24h Low (USD)</th>\n",
              "    </tr>\n",
              "    <tr>\n",
              "      <th>date</th>\n",
              "      <th></th>\n",
              "      <th></th>\n",
              "      <th></th>\n",
              "      <th></th>\n",
              "      <th></th>\n",
              "    </tr>\n",
              "  </thead>\n",
              "  <tbody>\n",
              "    <tr>\n",
              "      <th>2013-10-01</th>\n",
              "      <td>BTC</td>\n",
              "      <td>123.65499</td>\n",
              "      <td>124.30466</td>\n",
              "      <td>124.75166</td>\n",
              "      <td>122.56349</td>\n",
              "    </tr>\n",
              "    <tr>\n",
              "      <th>2013-10-02</th>\n",
              "      <td>BTC</td>\n",
              "      <td>125.45500</td>\n",
              "      <td>123.65499</td>\n",
              "      <td>125.75850</td>\n",
              "      <td>123.63383</td>\n",
              "    </tr>\n",
              "    <tr>\n",
              "      <th>2013-10-03</th>\n",
              "      <td>BTC</td>\n",
              "      <td>108.58483</td>\n",
              "      <td>125.45500</td>\n",
              "      <td>125.66566</td>\n",
              "      <td>83.32833</td>\n",
              "    </tr>\n",
              "    <tr>\n",
              "      <th>2013-10-04</th>\n",
              "      <td>BTC</td>\n",
              "      <td>118.67466</td>\n",
              "      <td>108.58483</td>\n",
              "      <td>118.67500</td>\n",
              "      <td>107.05816</td>\n",
              "    </tr>\n",
              "    <tr>\n",
              "      <th>2013-10-05</th>\n",
              "      <td>BTC</td>\n",
              "      <td>121.33866</td>\n",
              "      <td>118.67466</td>\n",
              "      <td>121.93633</td>\n",
              "      <td>118.00566</td>\n",
              "    </tr>\n",
              "  </tbody>\n",
              "</table>\n",
              "</div>"
            ],
            "text/plain": [
              "           Currency  Closing Price (USD)  ...  24h High (USD)  24h Low (USD)\n",
              "date                                      ...                               \n",
              "2013-10-01      BTC            123.65499  ...       124.75166      122.56349\n",
              "2013-10-02      BTC            125.45500  ...       125.75850      123.63383\n",
              "2013-10-03      BTC            108.58483  ...       125.66566       83.32833\n",
              "2013-10-04      BTC            118.67466  ...       118.67500      107.05816\n",
              "2013-10-05      BTC            121.33866  ...       121.93633      118.00566\n",
              "\n",
              "[5 rows x 5 columns]"
            ]
          },
          "metadata": {
            "tags": []
          },
          "execution_count": 5
        }
      ]
    },
    {
      "cell_type": "code",
      "metadata": {
        "id": "V8j1ZkMYRxC6"
      },
      "source": [
        "df_bc = df[['Closing Price (USD)']].rename(columns = {'Closing Price (USD)':'price'})"
      ],
      "execution_count": 6,
      "outputs": []
    },
    {
      "cell_type": "code",
      "metadata": {
        "colab": {
          "base_uri": "https://localhost:8080/",
          "height": 232
        },
        "id": "hcLWZ5N3SAB3",
        "outputId": "2da79dce-89aa-4809-9a19-361d5c8305e8"
      },
      "source": [
        "df_bc.head()"
      ],
      "execution_count": 7,
      "outputs": [
        {
          "output_type": "execute_result",
          "data": {
            "text/html": [
              "<div>\n",
              "<style scoped>\n",
              "    .dataframe tbody tr th:only-of-type {\n",
              "        vertical-align: middle;\n",
              "    }\n",
              "\n",
              "    .dataframe tbody tr th {\n",
              "        vertical-align: top;\n",
              "    }\n",
              "\n",
              "    .dataframe thead th {\n",
              "        text-align: right;\n",
              "    }\n",
              "</style>\n",
              "<table border=\"1\" class=\"dataframe\">\n",
              "  <thead>\n",
              "    <tr style=\"text-align: right;\">\n",
              "      <th></th>\n",
              "      <th>price</th>\n",
              "    </tr>\n",
              "    <tr>\n",
              "      <th>date</th>\n",
              "      <th></th>\n",
              "    </tr>\n",
              "  </thead>\n",
              "  <tbody>\n",
              "    <tr>\n",
              "      <th>2013-10-01</th>\n",
              "      <td>123.65499</td>\n",
              "    </tr>\n",
              "    <tr>\n",
              "      <th>2013-10-02</th>\n",
              "      <td>125.45500</td>\n",
              "    </tr>\n",
              "    <tr>\n",
              "      <th>2013-10-03</th>\n",
              "      <td>108.58483</td>\n",
              "    </tr>\n",
              "    <tr>\n",
              "      <th>2013-10-04</th>\n",
              "      <td>118.67466</td>\n",
              "    </tr>\n",
              "    <tr>\n",
              "      <th>2013-10-05</th>\n",
              "      <td>121.33866</td>\n",
              "    </tr>\n",
              "  </tbody>\n",
              "</table>\n",
              "</div>"
            ],
            "text/plain": [
              "                price\n",
              "date                 \n",
              "2013-10-01  123.65499\n",
              "2013-10-02  125.45500\n",
              "2013-10-03  108.58483\n",
              "2013-10-04  118.67466\n",
              "2013-10-05  121.33866"
            ]
          },
          "metadata": {
            "tags": []
          },
          "execution_count": 7
        }
      ]
    },
    {
      "cell_type": "markdown",
      "metadata": {
        "id": "pWWeLOxi9Gv0"
      },
      "source": [
        "### Inspect our data"
      ]
    },
    {
      "cell_type": "code",
      "metadata": {
        "colab": {
          "base_uri": "https://localhost:8080/",
          "height": 475
        },
        "id": "anaRcKei6xRL",
        "outputId": "7e9044cf-e8f0-466f-a936-025fca9a34eb"
      },
      "source": [
        "df_bc.plot(figsize = (10,7))\n",
        "plt.title('Price of bitcoin from 1 Oct 2013 to 18 May 2021')"
      ],
      "execution_count": 8,
      "outputs": [
        {
          "output_type": "execute_result",
          "data": {
            "text/plain": [
              "Text(0.5, 1.0, 'Price of bitcoin from 1 Oct 2013 to 18 May 2021')"
            ]
          },
          "metadata": {
            "tags": []
          },
          "execution_count": 8
        },
        {
          "output_type": "display_data",
          "data": {
            "image/png": "[encoded data removed]",
            "text/plain": [
              "<Figure size 720x504 with 1 Axes>"
            ]
          },
          "metadata": {
            "tags": [],
            "needs_background": "light"
          }
        }
      ]
    },
    {
      "cell_type": "code",
      "metadata": {
        "colab": {
          "base_uri": "https://localhost:8080/"
        },
        "id": "P9x9Rprm8x6G",
        "outputId": "a7da758f-1e5b-4e7d-9b3d-8d7eb1edcabb"
      },
      "source": [
        "df_bc.info()"
      ],
      "execution_count": 9,
      "outputs": [
        {
          "output_type": "stream",
          "text": [
            "<class 'pandas.core.frame.DataFrame'>\n",
            "DatetimeIndex: 2787 entries, 2013-10-01 to 2021-05-18\n",
            "Data columns (total 1 columns):\n",
            " #   Column  Non-Null Count  Dtype  \n",
            "---  ------  --------------  -----  \n",
            " 0   price   2787 non-null   float64\n",
            "dtypes: float64(1)\n",
            "memory usage: 43.5 KB\n"
          ],
          "name": "stdout"
        }
      ]
    },
    {
      "cell_type": "markdown",
      "metadata": {
        "id": "XaM5C0ChTbN-"
      },
      "source": [
        "### Read Data with Python csv"
      ]
    },
    {
      "cell_type": "code",
      "metadata": {
        "id": "p7giR5HyTouX"
      },
      "source": [
        "timesteps = []\n",
        "btc_price = []\n",
        "with open('/content/BTC_USD_2013-10-01_2021-05-18-CoinDesk.csv', 'r') as f:\n",
        "  csv_reader = csv.reader(f, delimiter = ',')\n",
        "  next(csv_reader) #skip first line (header)\n",
        "  for line in csv_reader:\n",
        "    timesteps.append(datetime.strptime(line[1], '%Y-%m-%d'))\n",
        "    btc_price.append(float(line[2]))"
      ],
      "execution_count": 10,
      "outputs": []
    },
    {
      "cell_type": "code",
      "metadata": {
        "colab": {
          "base_uri": "https://localhost:8080/"
        },
        "id": "kw9jDI5XVBUm",
        "outputId": "a2cf5caa-ab76-4175-b7b3-400d38d02db5"
      },
      "source": [
        "timesteps[:2], btc_price[:2]"
      ],
      "execution_count": 11,
      "outputs": [
        {
          "output_type": "execute_result",
          "data": {
            "text/plain": [
              "([datetime.datetime(2013, 10, 1, 0, 0), datetime.datetime(2013, 10, 2, 0, 0)],\n",
              " [123.65499, 125.455])"
            ]
          },
          "metadata": {
            "tags": []
          },
          "execution_count": 11
        }
      ]
    },
    {
      "cell_type": "code",
      "metadata": {
        "colab": {
          "base_uri": "https://localhost:8080/",
          "height": 282
        },
        "id": "LFXgEkmAVH5x",
        "outputId": "e13bd6c2-f187-4963-df66-d0ae40ef660b"
      },
      "source": [
        "plt.plot(timesteps, btc_price)"
      ],
      "execution_count": 12,
      "outputs": [
        {
          "output_type": "execute_result",
          "data": {
            "text/plain": [
              "[<matplotlib.lines.Line2D at 0x7fbb3b6bc1d0>]"
            ]
          },
          "metadata": {
            "tags": []
          },
          "execution_count": 12
        },
        {
          "output_type": "display_data",
          "data": {
            "image/png": "[encoded data removed]",
            "text/plain": [
              "<Figure size 432x288 with 1 Axes>"
            ]
          },
          "metadata": {
            "tags": [],
            "needs_background": "light"
          }
        }
      ]
    },
    {
      "cell_type": "markdown",
      "metadata": {
        "id": "hlHrcMyuY_tW"
      },
      "source": [
        "### Create test train data sets"
      ]
    },
    {
      "cell_type": "code",
      "metadata": {
        "id": "QtEFk0CVV9wP"
      },
      "source": [
        "train_length = int(0.8*len(timesteps))\n",
        "X_train, y_train = timesteps[:train_length], btc_price[:train_length]\n",
        "X_test, y_test = timesteps[train_length:], btc_price[train_length:]"
      ],
      "execution_count": 13,
      "outputs": []
    },
    {
      "cell_type": "code",
      "metadata": {
        "colab": {
          "base_uri": "https://localhost:8080/",
          "height": 428
        },
        "id": "l0sm8vc8aVHP",
        "outputId": "f63cdcb1-573b-4802-cf5c-2fab204ff623"
      },
      "source": [
        "plt.figure(figsize=(10,7))\n",
        "plt.scatter(X_train, y_train, s = 5, label = 'Train data')\n",
        "plt.scatter(X_test, y_test, s = 5, label = 'Test data', c = 'green')\n",
        "plt.show()"
      ],
      "execution_count": 14,
      "outputs": [
        {
          "output_type": "display_data",
          "data": {
            "image/png": "[encoded data removed]",
            "text/plain": [
              "<Figure size 720x504 with 1 Axes>"
            ]
          },
          "metadata": {
            "tags": [],
            "needs_background": "light"
          }
        }
      ]
    },
    {
      "cell_type": "markdown",
      "metadata": {
        "id": "5UEHgx7BPLE9"
      },
      "source": [
        "### Helper function to plot time series"
      ]
    },
    {
      "cell_type": "code",
      "metadata": {
        "id": "7nO4Qcs5a8PA"
      },
      "source": [
        "# Create a function to plot time series data\n",
        "def plot_time_series(timesteps, values, format='.', start=0, end=None, label=None):\n",
        "  \"\"\"\n",
        "  Plots a timesteps (a series of points in time) against values (a series of values across timesteps).\n",
        "  \n",
        "  Parameters\n",
        "  ---------\n",
        "  timesteps : array of timesteps\n",
        "  values : array of values across time\n",
        "  format : style of plot, default \".\"\n",
        "  start : where to start the plot (setting a value will index from start of timesteps & values)\n",
        "  end : where to end the plot (setting a value will index from end of timesteps & values)\n",
        "  label : label to show on plot of values\n",
        "  \"\"\"\n",
        "  # Plot the series\n",
        "  plt.plot(timesteps[start:end], values[start:end], format, label=label)\n",
        "  plt.xlabel(\"Time\")\n",
        "  plt.ylabel(\"BTC Price\")\n",
        "  if label:\n",
        "    plt.legend(fontsize=14) # make label bigger\n",
        "  plt.grid(True)"
      ],
      "execution_count": 15,
      "outputs": []
    },
    {
      "cell_type": "code",
      "metadata": {
        "colab": {
          "base_uri": "https://localhost:8080/",
          "height": 442
        },
        "id": "lyAfXyH9RUjE",
        "outputId": "7675096a-d462-4efc-fb4e-e30b1a6ea46d"
      },
      "source": [
        "# Try out our plotting function\n",
        "plt.figure(figsize=(10, 7))\n",
        "plot_time_series(timesteps=X_train, values=y_train, label=\"Train data\")\n",
        "plot_time_series(timesteps=X_test, values=y_test, label=\"Test data\")"
      ],
      "execution_count": 16,
      "outputs": [
        {
          "output_type": "display_data",
          "data": {
            "image/png": "[encoded data removed]",
            "text/plain": [
              "<Figure size 720x504 with 1 Axes>"
            ]
          },
          "metadata": {
            "tags": [],
            "needs_background": "light"
          }
        }
      ]
    },
    {
      "cell_type": "markdown",
      "metadata": {
        "id": "mylYUOGFRrlc"
      },
      "source": [
        "## Modelling Experiments\n",
        "\n",
        "horizon = number of timesteps to predict into future\n",
        "\n",
        "window = number of timesteps from past used to predict horizon\n",
        "\n",
        "For example, if we wanted to predict the price of Bitcoin for tomorrow (1 day in the future) using the previous week's worth of Bitcoin prices (7 days in the past), the horizon would be 1 and the window would be 7.\n",
        "\n",
        "We are going to do those modelling experiments:\n",
        "\n",
        "- 0 Naïve model (baseline)\n",
        "- 1\tDense model\thorizont 1 window 7\n",
        "- 2\tSame as 1\thorizont 1 window\t30\n",
        "- 3\tSame as 1\thorizont 7 window\t30\n",
        "- 4\tConv1D\thorizont 1\twindow 7\n",
        "- 5\tLSTM\thorizont 1\twindow 7\n",
        "- 6\tSame as 1 (but with multivariate data)\thorizont 1\twindow 7\tBlock reward size\n",
        "- 7\tN-BEATs Algorithm\thorizont 1\twindow 7\n",
        "- 8\tEnsemble (multiple models optimized on different loss functions)\thorizont 1\twindow 7\n",
        "- 9\tFuture prediction model (model to predict future values) horizont\t1 window\t7\n",
        "- 10\tSame as 1 (but with turkey 🦃 data introduced)\thorizont 1\twindow 7\t\n"
      ]
    },
    {
      "cell_type": "markdown",
      "metadata": {
        "id": "H_QYW14eUaCs"
      },
      "source": [
        "### 0 Model: Naive\n",
        "$$\\hat{y}_{t} = y_{t-1}$$"
      ]
    },
    {
      "cell_type": "code",
      "metadata": {
        "id": "kah0g7cHRVK1"
      },
      "source": [
        "naive_forecast = y_test[:-1]"
      ],
      "execution_count": 25,
      "outputs": []
    },
    {
      "cell_type": "markdown",
      "metadata": {
        "id": "BJSoZ_K8WMLj"
      },
      "source": [
        "#### Plot Naive forecast"
      ]
    },
    {
      "cell_type": "code",
      "metadata": {
        "colab": {
          "base_uri": "https://localhost:8080/",
          "height": 442
        },
        "id": "NrR9x9wPVy17",
        "outputId": "4c6daf7a-d023-486a-a64a-8d3aff1cef02"
      },
      "source": [
        "plt.figure(figsize=(10, 7))\n",
        "plot_time_series(timesteps=X_train, values=y_train, start = 350, label=\"Train data\")\n",
        "plot_time_series(timesteps=X_test, values=y_test, start = 350, label=\"Test data\")\n",
        "plot_time_series(timesteps=X_test[1:], values = naive_forecast, format = '-', label=\"Naive forecast\")"
      ],
      "execution_count": 26,
      "outputs": [
        {
          "output_type": "display_data",
          "data": {
            "image/png": "[encoded data removed]",
            "text/plain": [
              "<Figure size 720x504 with 1 Axes>"
            ]
          },
          "metadata": {
            "tags": [],
            "needs_background": "light"
          }
        }
      ]
    },
    {
      "cell_type": "markdown",
      "metadata": {
        "id": "5AK3FkKZXdZq"
      },
      "source": [
        "###Evaluating forecast model\n",
        "Scale-dependent errors: MAE tf.keras.metrics.mean_absolute_error(), RMSE tf.sqrt(tf.keras.metrics.mean_square_error())\n",
        "\n",
        "Percentage errors: MAPE tf.keras.metrics.mean_absolute_percentage_error(), sMAPE custom implementation\n",
        "\n",
        "Scaled errors: MASE See sktime's mase_loss() Less then 1 beats naive predition"
      ]
    },
    {
      "cell_type": "code",
      "metadata": {
        "id": "C2_dWJUA3t-3"
      },
      "source": [
        "# MASE implementation\n",
        "def mean_absolute_scaled_error(y_true, y_pred):\n",
        "    \"\"\"\n",
        "    Computes the MEAN-ABSOLUTE SCALED ERROR forcast error for univariate time series prediction.\n",
        "    \"\"\"\n",
        "    mae = tf.reduce_mean(tf.abs(y_true - y_pred))\n",
        "    mae_naive_no_season = tf.reduce_mean(tf.abs(y_true[1:] - y_true[:-1]))\n",
        "\n",
        "    return mae / mae_naive_no_season"
      ],
      "execution_count": 27,
      "outputs": []
    },
    {
      "cell_type": "code",
      "metadata": {
        "colab": {
          "base_uri": "https://localhost:8080/"
        },
        "id": "Cbi4WyiKWuua",
        "outputId": "6b5f2c4d-3200-4863-d8fb-419ab8dad22d"
      },
      "source": [
        "mean_absolute_scaled_error(y_true = np.array(y_test[1:]), y_pred = np.array(naive_forecast)).numpy()"
      ],
      "execution_count": 28,
      "outputs": [
        {
          "output_type": "execute_result",
          "data": {
            "text/plain": [
              "0.9995699939182626"
            ]
          },
          "metadata": {
            "tags": []
          },
          "execution_count": 28
        }
      ]
    },
    {
      "cell_type": "markdown",
      "metadata": {
        "id": "MxH9fdYp9rwW"
      },
      "source": [
        "#### Function to save all results"
      ]
    },
    {
      "cell_type": "code",
      "metadata": {
        "id": "U3pzOvVS980j"
      },
      "source": [
        "df_results = pd.DataFrame(columns = ['model', 'MAE', 'RMSE', 'MAPE', 'MASE'])"
      ],
      "execution_count": 29,
      "outputs": []
    },
    {
      "cell_type": "code",
      "metadata": {
        "id": "vrVvR1lm2bG_"
      },
      "source": [
        "def save_results(model_name, y_pred, y_true = y_test[1:]):\n",
        "  y_pred = np.array(y_pred)\n",
        "  y_true = np.array(y_true)\n",
        "  MAE = int(mean_absolute_error(y_true, y_pred).numpy())\n",
        "  RMSE = int(tf.sqrt(tf.keras.metrics.mean_squared_error(y_true, y_pred)).numpy())\n",
        "  MAPE = round(tf.keras.metrics.mean_absolute_percentage_error(y_true, y_pred).numpy(),2)\n",
        "  MASE = mean_absolute_scaled_error(y_true, y_pred).numpy()\n",
        "  df_results.loc[len(df_results)] = [model_name, MAE, RMSE, MAPE, MASE]"
      ],
      "execution_count": 30,
      "outputs": []
    },
    {
      "cell_type": "code",
      "metadata": {
        "id": "cZMwbn_-_5Md"
      },
      "source": [
        "save_results('Base_naive', naive_forecast)"
      ],
      "execution_count": 31,
      "outputs": []
    },
    {
      "cell_type": "code",
      "metadata": {
        "colab": {
          "base_uri": "https://localhost:8080/",
          "height": 80
        },
        "id": "tw4ld1Y_ANBY",
        "outputId": "418685e4-7c50-4bac-8d84-fa14b582534d"
      },
      "source": [
        "df_results"
      ],
      "execution_count": 32,
      "outputs": [
        {
          "output_type": "execute_result",
          "data": {
            "text/html": [
              "<div>\n",
              "<style scoped>\n",
              "    .dataframe tbody tr th:only-of-type {\n",
              "        vertical-align: middle;\n",
              "    }\n",
              "\n",
              "    .dataframe tbody tr th {\n",
              "        vertical-align: top;\n",
              "    }\n",
              "\n",
              "    .dataframe thead th {\n",
              "        text-align: right;\n",
              "    }\n",
              "</style>\n",
              "<table border=\"1\" class=\"dataframe\">\n",
              "  <thead>\n",
              "    <tr style=\"text-align: right;\">\n",
              "      <th></th>\n",
              "      <th>model</th>\n",
              "      <th>MAE</th>\n",
              "      <th>RMSE</th>\n",
              "      <th>MAPE</th>\n",
              "      <th>MASE</th>\n",
              "    </tr>\n",
              "  </thead>\n",
              "  <tbody>\n",
              "    <tr>\n",
              "      <th>0</th>\n",
              "      <td>Base_naive</td>\n",
              "      <td>567</td>\n",
              "      <td>1071</td>\n",
              "      <td>2.52</td>\n",
              "      <td>0.99957</td>\n",
              "    </tr>\n",
              "  </tbody>\n",
              "</table>\n",
              "</div>"
            ],
            "text/plain": [
              "        model  MAE  RMSE  MAPE     MASE\n",
              "0  Base_naive  567  1071  2.52  0.99957"
            ]
          },
          "metadata": {
            "tags": []
          },
          "execution_count": 32
        }
      ]
    },
    {
      "cell_type": "markdown",
      "metadata": {
        "id": "KTPDHK3sDvM7"
      },
      "source": [
        "### Other models to try\n",
        "Moving average\thttps://machinelearningmastery.com/moving-average-smoothing-for-time-series-forecasting-python/\n",
        "\n",
        "ARIMA (Autoregression Integrated Moving Average)\thttps://machinelearningmastery.com/arima-for-time-series-forecasting-with-python/\n",
        "\n",
        "sktime (Scikit-Learn for time series)\thttps://github.com/alan-turing-institute/sktime\n",
        "\n",
        "TensorFlow Decision Forests (random forest, gradient boosting trees)\thttps://www.tensorflow.org/decision_forests\n",
        "\n",
        "Facebook Kats (purpose-built forecasting and time series analysis library by Facebook)\thttps://github.com/facebookresearch/Kats\n",
        "\n",
        "LinkedIn Greykite (flexible, intuitive and fast forecasts)\thttps://github.com/linkedin/greykite\n"
      ]
    },
    {
      "cell_type": "markdown",
      "metadata": {
        "id": "DB_2yzHWFLaM"
      },
      "source": [
        "### Format Data: Windowing our data\n",
        "Windowing for one week:\n",
        "\n",
        "[0,1,2,3,4,5,6] -> [7]\n",
        "\n",
        "[1,2,3,4,5,6,7] -> [8]\n",
        "\n",
        "[2,3,4,5,6,7,8] -> [9]"
      ]
    },
    {
      "cell_type": "code",
      "metadata": {
        "colab": {
          "base_uri": "https://localhost:8080/"
        },
        "id": "RPKGLGNXAwWd",
        "outputId": "f40323f3-77a1-490d-d044-4d2304c7461d"
      },
      "source": [
        "print(f'We want to use: {y_train[:7]} to predict {y_train[7]}')"
      ],
      "execution_count": 33,
      "outputs": [
        {
          "output_type": "stream",
          "text": [
            "We want to use: [123.65499, 125.455, 108.58483, 118.67466, 121.33866, 120.65533, 121.795] to predict 123.033\n"
          ],
          "name": "stdout"
        }
      ]
    },
    {
      "cell_type": "code",
      "metadata": {
        "id": "pvP_2W_CGECj"
      },
      "source": [
        "HORIZON = 1\n",
        "WINDOW_SIZE = 7"
      ],
      "execution_count": 34,
      "outputs": []
    },
    {
      "cell_type": "code",
      "metadata": {
        "id": "h_ZJNRgCHAlk"
      },
      "source": [
        "#Create the function to label windowed data\n",
        "def get_labeled_window(x, horizon = HORIZON):\n",
        "  \"\"\"Creates labels for windowed dataset.\n",
        "  input = [0,1,2,3,4,5,6,7] output = [0,1,2,3,4,5,6], [7]\n",
        "  \"\"\"\n",
        "  return x[:, :-horizon], x[:, -horizon:]"
      ],
      "execution_count": 35,
      "outputs": []
    },
    {
      "cell_type": "code",
      "metadata": {
        "id": "iiy8uwKgHKUO"
      },
      "source": [
        "test_window, test_labels = get_labeled_window(tf.expand_dims(tf.range(8), axis = 0))"
      ],
      "execution_count": 36,
      "outputs": []
    },
    {
      "cell_type": "code",
      "metadata": {
        "colab": {
          "base_uri": "https://localhost:8080/"
        },
        "id": "bHtNQqMlIbhO",
        "outputId": "9a4c6584-599c-45b6-ecb6-26bcfcf6587e"
      },
      "source": [
        "test_window, test_labels"
      ],
      "execution_count": 37,
      "outputs": [
        {
          "output_type": "execute_result",
          "data": {
            "text/plain": [
              "(<tf.Tensor: shape=(1, 7), dtype=int32, numpy=array([[0, 1, 2, 3, 4, 5, 6]], dtype=int32)>,\n",
              " <tf.Tensor: shape=(1, 1), dtype=int32, numpy=array([[7]], dtype=int32)>)"
            ]
          },
          "metadata": {
            "tags": []
          },
          "execution_count": 37
        }
      ]
    },
    {
      "cell_type": "code",
      "metadata": {
        "colab": {
          "base_uri": "https://localhost:8080/"
        },
        "id": "merlZlaUJtuC",
        "outputId": "0ed8d5c9-9d06-41ca-b6b4-358dc5666e99"
      },
      "source": [
        "train_data = np.array([], dtype = 'float32')\n",
        "train_data"
      ],
      "execution_count": 43,
      "outputs": [
        {
          "output_type": "execute_result",
          "data": {
            "text/plain": [
              "array([], dtype=float32)"
            ]
          },
          "metadata": {
            "tags": []
          },
          "execution_count": 43
        }
      ]
    },
    {
      "cell_type": "code",
      "metadata": {
        "id": "ImAcYGblIfJm"
      },
      "source": [
        "def make_windows(y, window_size = WINDOW_SIZE, horizon = HORIZON):\n",
        "  \"\"\"Turns 1D array into sD array of sequental labeled widows\"\"\"\n",
        "  y = np.array(y)\n",
        "  window_step = np.expand_dims(np.arange(window_size + horizon), axis = 0)\n",
        "  window_indexes = window_step + np.expand_dims(np.arange(len(y)-(window_size + horizon - 1)), axis=0).T\n",
        "  # print(f'Window indexes: {window_indexes}\\n Window shapes: {window_indexes.shape}')\n",
        "  windowed_array = y[window_indexes]\n",
        "  #get labeled windows\n",
        "  windows, labels = get_labeled_window(windowed_array, horizon = horizon)\n",
        "  return windows, labels"
      ],
      "execution_count": 59,
      "outputs": []
    },
    {
      "cell_type": "code",
      "metadata": {
        "colab": {
          "base_uri": "https://localhost:8080/"
        },
        "id": "8jsZlVHQrMjL",
        "outputId": "c3367cc8-e221-4c40-d420-ed270d1d4b60"
      },
      "source": [
        "len(btc_price)"
      ],
      "execution_count": 60,
      "outputs": [
        {
          "output_type": "execute_result",
          "data": {
            "text/plain": [
              "2787"
            ]
          },
          "metadata": {
            "tags": []
          },
          "execution_count": 60
        }
      ]
    },
    {
      "cell_type": "code",
      "metadata": {
        "id": "PWyzUjZDrRCf"
      },
      "source": [
        "windows, labels = make_windows(btc_price)"
      ],
      "execution_count": 61,
      "outputs": []
    },
    {
      "cell_type": "code",
      "metadata": {
        "colab": {
          "base_uri": "https://localhost:8080/"
        },
        "id": "DXrzqgw1rgCQ",
        "outputId": "66dc1609-abe4-4daf-cfff-abf577426f59"
      },
      "source": [
        "for i in range(3):\n",
        "  print(f'Window: {windows[i]} -> Horizon (label): {labels[i]}')"
      ],
      "execution_count": 63,
      "outputs": [
        {
          "output_type": "stream",
          "text": [
            "Window: [123.65499 125.455   108.58483 118.67466 121.33866 120.65533 121.795  ] -> Horizon (label): [123.033]\n",
            "Window: [125.455   108.58483 118.67466 121.33866 120.65533 121.795   123.033  ] -> Horizon (label): [124.049]\n",
            "Window: [108.58483 118.67466 121.33866 120.65533 121.795   123.033   124.049  ] -> Horizon (label): [125.96116]\n"
          ],
          "name": "stdout"
        }
      ]
    },
    {
      "cell_type": "markdown",
      "metadata": {
        "id": "ddPRrEj2GGfq"
      },
      "source": [
        "#### Use tensorflow to create tf.ds\n",
        "Another way to do this using tf function\n",
        " tf.keras.preprocessing.timeseries_dataset_from_array()"
      ]
    },
    {
      "cell_type": "code",
      "metadata": {
        "colab": {
          "base_uri": "https://localhost:8080/"
        },
        "id": "gYnrr3-YKrX-",
        "outputId": "b83f4464-2497-4066-c00d-d810a685f2ef"
      },
      "source": [
        "len(windows)"
      ],
      "execution_count": 81,
      "outputs": [
        {
          "output_type": "execute_result",
          "data": {
            "text/plain": [
              "2780"
            ]
          },
          "metadata": {
            "tags": []
          },
          "execution_count": 81
        }
      ]
    },
    {
      "cell_type": "code",
      "metadata": {
        "colab": {
          "base_uri": "https://localhost:8080/"
        },
        "id": "IJ7ZQhjaIQAQ",
        "outputId": "b3fafb57-13c4-4ffc-92b6-6fb40df1403f"
      },
      "source": [
        "np.array(btc_price[:10]).shape"
      ],
      "execution_count": 70,
      "outputs": [
        {
          "output_type": "execute_result",
          "data": {
            "text/plain": [
              "(10,)"
            ]
          },
          "metadata": {
            "tags": []
          },
          "execution_count": 70
        }
      ]
    },
    {
      "cell_type": "code",
      "metadata": {
        "id": "Ax4JZ6KiFFUN"
      },
      "source": [
        "ds = tf.keras.preprocessing.timeseries_dataset_from_array(np.array(btc_price, dtype = 'float32'), \n",
        "                                                            targets = np.array(btc_price, dtype = 'float32')[7:], #need to shift right, otherwise give first element\n",
        "                                                            sequence_length = 7, \n",
        "                                                            sequence_stride=1, \n",
        "                                                            sampling_rate=1,\n",
        "                                                           batch_size = 1)"
      ],
      "execution_count": 91,
      "outputs": []
    },
    {
      "cell_type": "code",
      "metadata": {
        "colab": {
          "base_uri": "https://localhost:8080/"
        },
        "id": "X-2oUBTiG77L",
        "outputId": "8650ece5-32f4-4afd-e357-40839e8dd8af"
      },
      "source": [
        "ds, len(ds)"
      ],
      "execution_count": 94,
      "outputs": [
        {
          "output_type": "execute_result",
          "data": {
            "text/plain": [
              "(<BatchDataset shapes: ((None, None), (None,)), types: (tf.float32, tf.float32)>,\n",
              " 2780)"
            ]
          },
          "metadata": {
            "tags": []
          },
          "execution_count": 94
        }
      ]
    },
    {
      "cell_type": "code",
      "metadata": {
        "colab": {
          "base_uri": "https://localhost:8080/"
        },
        "id": "srzFiFboJJqD",
        "outputId": "01d38c90-8487-4633-8f6b-2db414aa0d37"
      },
      "source": [
        "\n",
        "for present_values, next_value in ds.take(3):\n",
        "    print(f'Window: {tf.squeeze(present_values).numpy()} --> Label: {next_value.numpy()})\n"
      ],
      "execution_count": 93,
      "outputs": [
        {
          "output_type": "stream",
          "text": [
            "[123.65499 125.455   108.58483 118.67466 121.33866 120.65533 121.795  ] --> [123.033]\n",
            "[125.455   108.58483 118.67466 121.33866 120.65533 121.795   123.033  ] --> [124.049]\n",
            "[108.58483 118.67466 121.33866 120.65533 121.795   123.033   124.049  ] --> [125.96116]\n"
          ],
          "name": "stdout"
        }
      ]
    },
    {
      "cell_type": "code",
      "metadata": {
        "id": "Pf0KVFePLjou"
      },
      "source": [
        ""
      ],
      "execution_count": null,
      "outputs": []
    }
  ]
}