{
  "nbformat": 4,
  "nbformat_minor": 0,
  "metadata": {
    "accelerator": "GPU",
    "colab": {
      "name": "10_Time_series_bitcoin_forcasting.ipynb",
      "provenance": [],
      "collapsed_sections": [],
      "authorship_tag": "ABX9TyOM6nIY8jOF3T4w7Nzt2Fpz",
      "include_colab_link": true
    },
    "kernelspec": {
      "display_name": "Python 3",
      "name": "python3"
    },
    "language_info": {
      "name": "python"
    }
  },
  "cells": [
    {
      "cell_type": "markdown",
      "metadata": {
        "id": "view-in-github",
        "colab_type": "text"
      },
      "source": [
        "<a href=\"https://colab.research.google.com/github/Natali-bali/TensorFlow_Tutorial/blob/master/10_Time_series_bitcoin_forcasting.ipynb\" target=\"_parent\"><img src=\"https://colab.research.google.com/assets/colab-badge.svg\" alt=\"Open In Colab\"/></a>"
      ]
    },
    {
      "cell_type": "markdown",
      "metadata": {
        "id": "EKJ8aavK6K-g"
      },
      "source": [
        "#Time series forecasting in TensorFlow (BitPredict 💰📈)\n",
        "\n",
        "The goal of this notebook is to get you familiar with working with time series data.\n",
        "\n",
        "We're going to be building a series of models in an attempt to predict the price of Bitcoin."
      ]
    },
    {
      "cell_type": "markdown",
      "metadata": {
        "id": "min8PTpH1heJ"
      },
      "source": [
        "### Get helper functions"
      ]
    },
    {
      "cell_type": "code",
      "metadata": {
        "colab": {
          "base_uri": "https://localhost:8080/"
        },
        "id": "zXaGOTvJiqno",
        "outputId": "52f4ce83-de4d-4e83-ee0d-43d2672a27ce"
      },
      "source": [
        "!wget 'https://raw.githubusercontent.com/Natali-bali/TensorFlow_Tutorial/master/helper_functions.py'"
      ],
      "execution_count": 1,
      "outputs": [
        {
          "output_type": "stream",
          "text": [
            "--2021-08-04 09:11:41--  https://raw.githubusercontent.com/Natali-bali/TensorFlow_Tutorial/master/helper_functions.py\n",
            "Resolving raw.githubusercontent.com (raw.githubusercontent.com)... 185.199.108.133, 185.199.109.133, 185.199.110.133, ...\n",
            "Connecting to raw.githubusercontent.com (raw.githubusercontent.com)|185.199.108.133|:443... connected.\n",
            "HTTP request sent, awaiting response... 200 OK\n",
            "Length: 11016 (11K) [text/plain]\n",
            "Saving to: ‘helper_functions.py’\n",
            "\n",
            "helper_functions.py 100%[===================>]  10.76K  --.-KB/s    in 0s      \n",
            "\n",
            "2021-08-04 09:11:41 (62.5 MB/s) - ‘helper_functions.py’ saved [11016/11016]\n",
            "\n"
          ],
          "name": "stdout"
        }
      ]
    },
    {
      "cell_type": "markdown",
      "metadata": {
        "id": "o9RIFqOF6cJS"
      },
      "source": [
        "### Imports"
      ]
    },
    {
      "cell_type": "code",
      "metadata": {
        "id": "1HyJKFPj6YYQ"
      },
      "source": [
        "import pandas as pd\n",
        "import numpy as np\n",
        "import matplotlib.pyplot as plt\n",
        "import csv\n",
        "from datetime import datetime\n",
        "\n",
        "import tensorflow as tf\n",
        "from tensorflow.keras import backend as K \n",
        "from tensorflow.keras import Sequential\n",
        "from tensorflow.keras.models import load_model\n",
        "from tensorflow.keras.metrics import mean_absolute_percentage_error, mean_absolute_error, mean_squared_error\n",
        "from tensorflow.keras.layers import Dense, InputLayer, Lambda, Conv1D, LSTM"
      ],
      "execution_count": 2,
      "outputs": []
    },
    {
      "cell_type": "markdown",
      "metadata": {
        "id": "i5210TEg6R7m"
      },
      "source": [
        "### Get Data\n",
        "Historical data of Bitcoin"
      ]
    },
    {
      "cell_type": "code",
      "metadata": {
        "colab": {
          "base_uri": "https://localhost:8080/"
        },
        "id": "89k68qdt4OFp",
        "outputId": "e904798d-4624-4220-bb1c-3882a86453c5"
      },
      "source": [
        "!wget https://raw.githubusercontent.com/mrdbourke/tensorflow-deep-learning/main/extras/BTC_USD_2013-10-01_2021-05-18-CoinDesk.csv"
      ],
      "execution_count": 3,
      "outputs": [
        {
          "output_type": "stream",
          "text": [
            "--2021-08-04 09:11:43--  https://raw.githubusercontent.com/mrdbourke/tensorflow-deep-learning/main/extras/BTC_USD_2013-10-01_2021-05-18-CoinDesk.csv\n",
            "Resolving raw.githubusercontent.com (raw.githubusercontent.com)... 185.199.108.133, 185.199.109.133, 185.199.110.133, ...\n",
            "Connecting to raw.githubusercontent.com (raw.githubusercontent.com)|185.199.108.133|:443... connected.\n",
            "HTTP request sent, awaiting response... 200 OK\n",
            "Length: 178509 (174K) [text/plain]\n",
            "Saving to: ‘BTC_USD_2013-10-01_2021-05-18-CoinDesk.csv’\n",
            "\n",
            "BTC_USD_2013-10-01_ 100%[===================>] 174.33K  --.-KB/s    in 0.03s   \n",
            "\n",
            "2021-08-04 09:11:44 (5.76 MB/s) - ‘BTC_USD_2013-10-01_2021-05-18-CoinDesk.csv’ saved [178509/178509]\n",
            "\n"
          ],
          "name": "stdout"
        }
      ]
    },
    {
      "cell_type": "code",
      "metadata": {
        "id": "_MjTKfNf6jU8"
      },
      "source": [
        "df = pd.read_csv('/content/BTC_USD_2013-10-01_2021-05-18-CoinDesk.csv')"
      ],
      "execution_count": 4,
      "outputs": []
    },
    {
      "cell_type": "code",
      "metadata": {
        "id": "991LjoPu8Eav"
      },
      "source": [
        "df.Date = pd.to_datetime(df.Date)\n",
        "df = df.rename(columns = {'Date': 'date'}).set_index('date')"
      ],
      "execution_count": 5,
      "outputs": []
    },
    {
      "cell_type": "code",
      "metadata": {
        "colab": {
          "base_uri": "https://localhost:8080/",
          "height": 252
        },
        "id": "xUq7J9L46vvE",
        "outputId": "5213e80b-10d5-4b1b-aef5-1fb5840d2ebe"
      },
      "source": [
        "df.head()"
      ],
      "execution_count": 6,
      "outputs": [
        {
          "output_type": "execute_result",
          "data": {
            "text/html": [
              "<div>\n",
              "<style scoped>\n",
              "    .dataframe tbody tr th:only-of-type {\n",
              "        vertical-align: middle;\n",
              "    }\n",
              "\n",
              "    .dataframe tbody tr th {\n",
              "        vertical-align: top;\n",
              "    }\n",
              "\n",
              "    .dataframe thead th {\n",
              "        text-align: right;\n",
              "    }\n",
              "</style>\n",
              "<table border=\"1\" class=\"dataframe\">\n",
              "  <thead>\n",
              "    <tr style=\"text-align: right;\">\n",
              "      <th></th>\n",
              "      <th>Currency</th>\n",
              "      <th>Closing Price (USD)</th>\n",
              "      <th>24h Open (USD)</th>\n",
              "      <th>24h High (USD)</th>\n",
              "      <th>24h Low (USD)</th>\n",
              "    </tr>\n",
              "    <tr>\n",
              "      <th>date</th>\n",
              "      <th></th>\n",
              "      <th></th>\n",
              "      <th></th>\n",
              "      <th></th>\n",
              "      <th></th>\n",
              "    </tr>\n",
              "  </thead>\n",
              "  <tbody>\n",
              "    <tr>\n",
              "      <th>2013-10-01</th>\n",
              "      <td>BTC</td>\n",
              "      <td>123.65499</td>\n",
              "      <td>124.30466</td>\n",
              "      <td>124.75166</td>\n",
              "      <td>122.56349</td>\n",
              "    </tr>\n",
              "    <tr>\n",
              "      <th>2013-10-02</th>\n",
              "      <td>BTC</td>\n",
              "      <td>125.45500</td>\n",
              "      <td>123.65499</td>\n",
              "      <td>125.75850</td>\n",
              "      <td>123.63383</td>\n",
              "    </tr>\n",
              "    <tr>\n",
              "      <th>2013-10-03</th>\n",
              "      <td>BTC</td>\n",
              "      <td>108.58483</td>\n",
              "      <td>125.45500</td>\n",
              "      <td>125.66566</td>\n",
              "      <td>83.32833</td>\n",
              "    </tr>\n",
              "    <tr>\n",
              "      <th>2013-10-04</th>\n",
              "      <td>BTC</td>\n",
              "      <td>118.67466</td>\n",
              "      <td>108.58483</td>\n",
              "      <td>118.67500</td>\n",
              "      <td>107.05816</td>\n",
              "    </tr>\n",
              "    <tr>\n",
              "      <th>2013-10-05</th>\n",
              "      <td>BTC</td>\n",
              "      <td>121.33866</td>\n",
              "      <td>118.67466</td>\n",
              "      <td>121.93633</td>\n",
              "      <td>118.00566</td>\n",
              "    </tr>\n",
              "  </tbody>\n",
              "</table>\n",
              "</div>"
            ],
            "text/plain": [
              "           Currency  Closing Price (USD)  ...  24h High (USD)  24h Low (USD)\n",
              "date                                      ...                               \n",
              "2013-10-01      BTC            123.65499  ...       124.75166      122.56349\n",
              "2013-10-02      BTC            125.45500  ...       125.75850      123.63383\n",
              "2013-10-03      BTC            108.58483  ...       125.66566       83.32833\n",
              "2013-10-04      BTC            118.67466  ...       118.67500      107.05816\n",
              "2013-10-05      BTC            121.33866  ...       121.93633      118.00566\n",
              "\n",
              "[5 rows x 5 columns]"
            ]
          },
          "metadata": {
            "tags": []
          },
          "execution_count": 6
        }
      ]
    },
    {
      "cell_type": "code",
      "metadata": {
        "id": "V8j1ZkMYRxC6"
      },
      "source": [
        "df_bc = df[['Closing Price (USD)']].rename(columns = {'Closing Price (USD)':'price'})"
      ],
      "execution_count": 7,
      "outputs": []
    },
    {
      "cell_type": "code",
      "metadata": {
        "colab": {
          "base_uri": "https://localhost:8080/",
          "height": 252
        },
        "id": "hcLWZ5N3SAB3",
        "outputId": "fb23bec6-d377-40ab-f62a-7e181d3fdac1"
      },
      "source": [
        "df_bc.head()"
      ],
      "execution_count": 8,
      "outputs": [
        {
          "output_type": "execute_result",
          "data": {
            "text/html": [
              "<div>\n",
              "<style scoped>\n",
              "    .dataframe tbody tr th:only-of-type {\n",
              "        vertical-align: middle;\n",
              "    }\n",
              "\n",
              "    .dataframe tbody tr th {\n",
              "        vertical-align: top;\n",
              "    }\n",
              "\n",
              "    .dataframe thead th {\n",
              "        text-align: right;\n",
              "    }\n",
              "</style>\n",
              "<table border=\"1\" class=\"dataframe\">\n",
              "  <thead>\n",
              "    <tr style=\"text-align: right;\">\n",
              "      <th></th>\n",
              "      <th>price</th>\n",
              "    </tr>\n",
              "    <tr>\n",
              "      <th>date</th>\n",
              "      <th></th>\n",
              "    </tr>\n",
              "  </thead>\n",
              "  <tbody>\n",
              "    <tr>\n",
              "      <th>2013-10-01</th>\n",
              "      <td>123.65499</td>\n",
              "    </tr>\n",
              "    <tr>\n",
              "      <th>2013-10-02</th>\n",
              "      <td>125.45500</td>\n",
              "    </tr>\n",
              "    <tr>\n",
              "      <th>2013-10-03</th>\n",
              "      <td>108.58483</td>\n",
              "    </tr>\n",
              "    <tr>\n",
              "      <th>2013-10-04</th>\n",
              "      <td>118.67466</td>\n",
              "    </tr>\n",
              "    <tr>\n",
              "      <th>2013-10-05</th>\n",
              "      <td>121.33866</td>\n",
              "    </tr>\n",
              "  </tbody>\n",
              "</table>\n",
              "</div>"
            ],
            "text/plain": [
              "                price\n",
              "date                 \n",
              "2013-10-01  123.65499\n",
              "2013-10-02  125.45500\n",
              "2013-10-03  108.58483\n",
              "2013-10-04  118.67466\n",
              "2013-10-05  121.33866"
            ]
          },
          "metadata": {
            "tags": []
          },
          "execution_count": 8
        }
      ]
    },
    {
      "cell_type": "markdown",
      "metadata": {
        "id": "pWWeLOxi9Gv0"
      },
      "source": [
        "### Inspect our data"
      ]
    },
    {
      "cell_type": "code",
      "metadata": {
        "colab": {
          "base_uri": "https://localhost:8080/",
          "height": 495
        },
        "id": "anaRcKei6xRL",
        "outputId": "06ae8a84-e0c3-449d-fdca-c3ec662cfde3"
      },
      "source": [
        "df_bc.plot(figsize = (10,7))\n",
        "plt.title('Price of bitcoin from 1 Oct 2013 to 18 May 2021')"
      ],
      "execution_count": 9,
      "outputs": [
        {
          "output_type": "execute_result",
          "data": {
            "text/plain": [
              "Text(0.5, 1.0, 'Price of bitcoin from 1 Oct 2013 to 18 May 2021')"
            ]
          },
          "metadata": {
            "tags": []
          },
          "execution_count": 9
        },
        {
          "output_type": "display_data",
          "data": {
            "image/png": "[encoded data removed]",
            "text/plain": [
              "<Figure size 720x504 with 1 Axes>"
            ]
          },
          "metadata": {
            "tags": [],
            "needs_background": "light"
          }
        }
      ]
    },
    {
      "cell_type": "code",
      "metadata": {
        "colab": {
          "base_uri": "https://localhost:8080/"
        },
        "id": "P9x9Rprm8x6G",
        "outputId": "8b23af3f-626a-4719-b30c-e5d7e1eff31d"
      },
      "source": [
        "df_bc.info()"
      ],
      "execution_count": 10,
      "outputs": [
        {
          "output_type": "stream",
          "text": [
            "<class 'pandas.core.frame.DataFrame'>\n",
            "DatetimeIndex: 2787 entries, 2013-10-01 to 2021-05-18\n",
            "Data columns (total 1 columns):\n",
            " #   Column  Non-Null Count  Dtype  \n",
            "---  ------  --------------  -----  \n",
            " 0   price   2787 non-null   float64\n",
            "dtypes: float64(1)\n",
            "memory usage: 43.5 KB\n"
          ],
          "name": "stdout"
        }
      ]
    },
    {
      "cell_type": "markdown",
      "metadata": {
        "id": "XaM5C0ChTbN-"
      },
      "source": [
        "### Read Data with Python csv"
      ]
    },
    {
      "cell_type": "code",
      "metadata": {
        "id": "p7giR5HyTouX"
      },
      "source": [
        "timesteps = []\n",
        "btc_price = []\n",
        "with open('/content/BTC_USD_2013-10-01_2021-05-18-CoinDesk.csv', 'r') as f:\n",
        "  csv_reader = csv.reader(f, delimiter = ',')\n",
        "  next(csv_reader) #skip first line (header)\n",
        "  for line in csv_reader:\n",
        "    timesteps.append(datetime.strptime(line[1], '%Y-%m-%d'))\n",
        "    btc_price.append(float(line[2]))"
      ],
      "execution_count": 11,
      "outputs": []
    },
    {
      "cell_type": "code",
      "metadata": {
        "colab": {
          "base_uri": "https://localhost:8080/"
        },
        "id": "kw9jDI5XVBUm",
        "outputId": "02fc55f8-439f-4a0b-bedb-483c4ff9dae1"
      },
      "source": [
        "timesteps[:2], btc_price[:2]"
      ],
      "execution_count": 12,
      "outputs": [
        {
          "output_type": "execute_result",
          "data": {
            "text/plain": [
              "([datetime.datetime(2013, 10, 1, 0, 0), datetime.datetime(2013, 10, 2, 0, 0)],\n",
              " [123.65499, 125.455])"
            ]
          },
          "metadata": {
            "tags": []
          },
          "execution_count": 12
        }
      ]
    },
    {
      "cell_type": "code",
      "metadata": {
        "colab": {
          "base_uri": "https://localhost:8080/",
          "height": 302
        },
        "id": "LFXgEkmAVH5x",
        "outputId": "cf1e38ef-f9ce-4866-f101-ff318e758e7a"
      },
      "source": [
        "plt.plot(timesteps, btc_price)"
      ],
      "execution_count": 13,
      "outputs": [
        {
          "output_type": "execute_result",
          "data": {
            "text/plain": [
              "[<matplotlib.lines.Line2D at 0x7f5920200c10>]"
            ]
          },
          "metadata": {
            "tags": []
          },
          "execution_count": 13
        },
        {
          "output_type": "display_data",
          "data": {
            "image/png": "[encoded data removed]",
            "text/plain": [
              "<Figure size 432x288 with 1 Axes>"
            ]
          },
          "metadata": {
            "tags": [],
            "needs_background": "light"
          }
        }
      ]
    },
    {
      "cell_type": "markdown",
      "metadata": {
        "id": "hlHrcMyuY_tW"
      },
      "source": [
        "### Create test train data sets"
      ]
    },
    {
      "cell_type": "code",
      "metadata": {
        "id": "QtEFk0CVV9wP"
      },
      "source": [
        "train_length = int(0.8*len(timesteps))\n",
        "X_train, y_train = timesteps[:train_length], btc_price[:train_length]\n",
        "X_test, y_test = timesteps[train_length:], btc_price[train_length:]"
      ],
      "execution_count": 14,
      "outputs": []
    },
    {
      "cell_type": "code",
      "metadata": {
        "colab": {
          "base_uri": "https://localhost:8080/",
          "height": 448
        },
        "id": "l0sm8vc8aVHP",
        "outputId": "7bfe3ca9-3a7d-4eff-f1a6-dae0a59118f1"
      },
      "source": [
        "plt.figure(figsize=(10,7))\n",
        "plt.scatter(X_train, y_train, s = 5, label = 'Train data')\n",
        "plt.scatter(X_test, y_test, s = 5, label = 'Test data', c = 'green')\n",
        "plt.show()"
      ],
      "execution_count": 15,
      "outputs": [
        {
          "output_type": "display_data",
          "data": {
            "image/png": "[encoded data removed]",
            "text/plain": [
              "<Figure size 720x504 with 1 Axes>"
            ]
          },
          "metadata": {
            "tags": [],
            "needs_background": "light"
          }
        }
      ]
    },
    {
      "cell_type": "markdown",
      "metadata": {
        "id": "5UEHgx7BPLE9"
      },
      "source": [
        "### Helper function to plot time series"
      ]
    },
    {
      "cell_type": "code",
      "metadata": {
        "id": "7nO4Qcs5a8PA"
      },
      "source": [
        "# Create a function to plot time series data\n",
        "def plot_time_series(timesteps, values, format='.', start=0, end=None, label=None):\n",
        "  \"\"\"\n",
        "  Plots a timesteps (a series of points in time) against values (a series of values across timesteps).\n",
        "  \n",
        "  Parameters\n",
        "  ---------\n",
        "  timesteps : array of timesteps\n",
        "  values : array of values across time\n",
        "  format : style of plot, default \".\"\n",
        "  start : where to start the plot (setting a value will index from start of timesteps & values)\n",
        "  end : where to end the plot (setting a value will index from end of timesteps & values)\n",
        "  label : label to show on plot of values\n",
        "  \"\"\"\n",
        "  # Plot the series\n",
        "  plt.plot(timesteps[start:end], values[start:end], format, label=label)\n",
        "  plt.xlabel(\"Time\")\n",
        "  plt.ylabel(\"BTC Price\")\n",
        "  if label:\n",
        "    plt.legend(fontsize=14) # make label bigger\n",
        "  plt.grid(True)"
      ],
      "execution_count": 16,
      "outputs": []
    },
    {
      "cell_type": "code",
      "metadata": {
        "colab": {
          "base_uri": "https://localhost:8080/",
          "height": 462
        },
        "id": "lyAfXyH9RUjE",
        "outputId": "26c7f364-1565-4201-9e41-1005d02ff04a"
      },
      "source": [
        "# Try out our plotting function\n",
        "plt.figure(figsize=(10, 7))\n",
        "plot_time_series(timesteps=X_train, values=y_train, label=\"Train data\")\n",
        "plot_time_series(timesteps=X_test, values=y_test, label=\"Test data\")"
      ],
      "execution_count": 17,
      "outputs": [
        {
          "output_type": "display_data",
          "data": {
            "image/png": "[encoded data removed]",
            "text/plain": [
              "<Figure size 720x504 with 1 Axes>"
            ]
          },
          "metadata": {
            "tags": [],
            "needs_background": "light"
          }
        }
      ]
    },
    {
      "cell_type": "markdown",
      "metadata": {
        "id": "mylYUOGFRrlc"
      },
      "source": [
        "## Modelling Experiments\n",
        "\n",
        "horizon = number of timesteps to predict into future\n",
        "\n",
        "window = number of timesteps from past used to predict horizon\n",
        "\n",
        "For example, if we wanted to predict the price of Bitcoin for tomorrow (1 day in the future) using the previous week's worth of Bitcoin prices (7 days in the past), the horizon would be 1 and the window would be 7.\n",
        "\n",
        "We are going to do those modelling experiments:\n",
        "\n",
        "- 0 Naïve model (baseline)\n",
        "- 1\tDense model\thorizont 1 window 7\n",
        "- 2\tSame as 1\thorizont 1 window\t30\n",
        "- 3\tSame as 1\thorizont 7 window\t30\n",
        "- 4\tConv1D\thorizont 1\twindow 7\n",
        "- 5\tLSTM\thorizont 1\twindow 7\n",
        "- 6\tSame as 1 (but with multivariate data)\thorizont 1\twindow 7\tBlock reward size\n",
        "- 7\tN-BEATs Algorithm\thorizont 1\twindow 7\n",
        "- 8\tEnsemble (multiple models optimized on different loss functions)\thorizont 1\twindow 7\n",
        "- 9\tFuture prediction model (model to predict future values) horizont\t1 window\t7\n",
        "- 10\tSame as 1 (but with turkey 🦃 data introduced)\thorizont 1\twindow 7\t\n"
      ]
    },
    {
      "cell_type": "markdown",
      "metadata": {
        "id": "H_QYW14eUaCs"
      },
      "source": [
        "### 0 Model: Naive\n",
        "$$\\hat{y}_{t} = y_{t-1}$$"
      ]
    },
    {
      "cell_type": "code",
      "metadata": {
        "id": "kah0g7cHRVK1"
      },
      "source": [
        "naive_forecast = y_test[:-1]"
      ],
      "execution_count": 18,
      "outputs": []
    },
    {
      "cell_type": "markdown",
      "metadata": {
        "id": "BJSoZ_K8WMLj"
      },
      "source": [
        "#### Plot Naive forecast"
      ]
    },
    {
      "cell_type": "code",
      "metadata": {
        "colab": {
          "base_uri": "https://localhost:8080/",
          "height": 462
        },
        "id": "NrR9x9wPVy17",
        "outputId": "a5952154-846b-434e-a67c-ae69a5e99ed4"
      },
      "source": [
        "plt.figure(figsize=(10, 7))\n",
        "plot_time_series(timesteps=X_train, values=y_train, start = 1800, label=\"Train data\")\n",
        "plot_time_series(timesteps=X_test, values=y_test, label=\"Test data\")\n",
        "plot_time_series(timesteps=X_test[1:], values = naive_forecast, format = '-', label=\"Naive forecast\")"
      ],
      "execution_count": 19,
      "outputs": [
        {
          "output_type": "display_data",
          "data": {
            "image/png": "[encoded data removed]",
            "text/plain": [
              "<Figure size 720x504 with 1 Axes>"
            ]
          },
          "metadata": {
            "tags": [],
            "needs_background": "light"
          }
        }
      ]
    },
    {
      "cell_type": "markdown",
      "metadata": {
        "id": "5AK3FkKZXdZq"
      },
      "source": [
        "###Evaluating forecast model\n",
        "Scale-dependent errors: MAE tf.keras.metrics.mean_absolute_error(), RMSE tf.sqrt(tf.keras.metrics.mean_square_error())\n",
        "\n",
        "Percentage errors: MAPE tf.keras.metrics.mean_absolute_percentage_error(), sMAPE custom implementation\n",
        "\n",
        "Scaled errors: MASE See sktime's mase_loss() Less then 1 beats naive predition"
      ]
    },
    {
      "cell_type": "code",
      "metadata": {
        "id": "C2_dWJUA3t-3"
      },
      "source": [
        "# MASE implementation\n",
        "def mean_absolute_scaled_error(y_true, y_pred):\n",
        "    \"\"\"\n",
        "    Computes the MEAN-ABSOLUTE SCALED ERROR forcast error for univariate time series prediction.\n",
        "    \"\"\"\n",
        "    mae = tf.reduce_mean(tf.abs(y_true - y_pred))\n",
        "    mae_naive_no_season = tf.reduce_mean(tf.abs(y_true[1:] - y_true[:-1]))\n",
        "\n",
        "    return mae / mae_naive_no_season"
      ],
      "execution_count": 20,
      "outputs": []
    },
    {
      "cell_type": "code",
      "metadata": {
        "colab": {
          "base_uri": "https://localhost:8080/"
        },
        "id": "Cbi4WyiKWuua",
        "outputId": "484301e5-f9ad-4da2-d532-546aae39979a"
      },
      "source": [
        "mean_absolute_scaled_error(y_true = np.array(y_test[1:]), y_pred = np.array(naive_forecast)).numpy()"
      ],
      "execution_count": 21,
      "outputs": [
        {
          "output_type": "execute_result",
          "data": {
            "text/plain": [
              "0.9995699939182624"
            ]
          },
          "metadata": {
            "tags": []
          },
          "execution_count": 21
        }
      ]
    },
    {
      "cell_type": "markdown",
      "metadata": {
        "id": "MxH9fdYp9rwW"
      },
      "source": [
        "#### Function to save all results"
      ]
    },
    {
      "cell_type": "code",
      "metadata": {
        "id": "U3pzOvVS980j"
      },
      "source": [
        "df_results = pd.DataFrame(columns = ['model', 'MAE', 'RMSE', 'MAPE', 'MASE', 'last_day_pred', 'last_day_real'])"
      ],
      "execution_count": 22,
      "outputs": []
    },
    {
      "cell_type": "code",
      "metadata": {
        "id": "vrVvR1lm2bG_"
      },
      "source": [
        "def save_results(model_name, y_pred, y_true = y_test[1:]):\n",
        "  y_pred = np.array(y_pred)\n",
        "  y_true = np.array(y_true)\n",
        "  MAE = int(mean_absolute_error(y_true, y_pred).numpy())\n",
        "  RMSE = int(tf.sqrt(tf.keras.metrics.mean_squared_error(y_true, y_pred)).numpy())\n",
        "  MAPE = round(tf.keras.metrics.mean_absolute_percentage_error(y_true, y_pred).numpy(),2)\n",
        "  MASE = mean_absolute_scaled_error(y_true, y_pred).numpy()\n",
        "  # Account for different sized metrics (for longer horizons, reduce to single number)\n",
        "  last_day_pred = y_pred[-1]\n",
        "  df_results.loc[len(df_results)] = [model_name, MAE, RMSE, MAPE, MASE, last_day_pred, y_true[-1]]"
      ],
      "execution_count": 23,
      "outputs": []
    },
    {
      "cell_type": "code",
      "metadata": {
        "id": "cZMwbn_-_5Md"
      },
      "source": [
        "save_results('Base_naive', naive_forecast)"
      ],
      "execution_count": 24,
      "outputs": []
    },
    {
      "cell_type": "code",
      "metadata": {
        "colab": {
          "base_uri": "https://localhost:8080/",
          "height": 100
        },
        "id": "tw4ld1Y_ANBY",
        "outputId": "72f50e00-429c-434d-80eb-238de84e40ea"
      },
      "source": [
        "df_results"
      ],
      "execution_count": 25,
      "outputs": [
        {
          "output_type": "execute_result",
          "data": {
            "text/html": [
              "<div>\n",
              "<style scoped>\n",
              "    .dataframe tbody tr th:only-of-type {\n",
              "        vertical-align: middle;\n",
              "    }\n",
              "\n",
              "    .dataframe tbody tr th {\n",
              "        vertical-align: top;\n",
              "    }\n",
              "\n",
              "    .dataframe thead th {\n",
              "        text-align: right;\n",
              "    }\n",
              "</style>\n",
              "<table border=\"1\" class=\"dataframe\">\n",
              "  <thead>\n",
              "    <tr style=\"text-align: right;\">\n",
              "      <th></th>\n",
              "      <th>model</th>\n",
              "      <th>MAE</th>\n",
              "      <th>RMSE</th>\n",
              "      <th>MAPE</th>\n",
              "      <th>MASE</th>\n",
              "      <th>last_day_pred</th>\n",
              "      <th>last_day_real</th>\n",
              "    </tr>\n",
              "  </thead>\n",
              "  <tbody>\n",
              "    <tr>\n",
              "      <th>0</th>\n",
              "      <td>Base_naive</td>\n",
              "      <td>567</td>\n",
              "      <td>1071</td>\n",
              "      <td>2.52</td>\n",
              "      <td>0.99957</td>\n",
              "      <td>45604.615754</td>\n",
              "      <td>43144.471291</td>\n",
              "    </tr>\n",
              "  </tbody>\n",
              "</table>\n",
              "</div>"
            ],
            "text/plain": [
              "        model  MAE  RMSE  MAPE     MASE  last_day_pred  last_day_real\n",
              "0  Base_naive  567  1071  2.52  0.99957   45604.615754   43144.471291"
            ]
          },
          "metadata": {
            "tags": []
          },
          "execution_count": 25
        }
      ]
    },
    {
      "cell_type": "markdown",
      "metadata": {
        "id": "KTPDHK3sDvM7"
      },
      "source": [
        "### Other models to try\n",
        "Moving average\thttps://machinelearningmastery.com/moving-average-smoothing-for-time-series-forecasting-python/\n",
        "\n",
        "ARIMA (Autoregression Integrated Moving Average)\thttps://machinelearningmastery.com/arima-for-time-series-forecasting-with-python/\n",
        "\n",
        "sktime (Scikit-Learn for time series)\thttps://github.com/alan-turing-institute/sktime\n",
        "\n",
        "TensorFlow Decision Forests (random forest, gradient boosting trees)\thttps://www.tensorflow.org/decision_forests\n",
        "\n",
        "Facebook Kats (purpose-built forecasting and time series analysis library by Facebook)\thttps://github.com/facebookresearch/Kats\n",
        "\n",
        "LinkedIn Greykite (flexible, intuitive and fast forecasts)\thttps://github.com/linkedin/greykite\n"
      ]
    },
    {
      "cell_type": "markdown",
      "metadata": {
        "id": "DB_2yzHWFLaM"
      },
      "source": [
        "### Format Data: Windowing our data\n",
        "Windowing for one week:\n",
        "\n",
        "[0,1,2,3,4,5,6] -> [7]\n",
        "\n",
        "[1,2,3,4,5,6,7] -> [8]\n",
        "\n",
        "[2,3,4,5,6,7,8] -> [9]"
      ]
    },
    {
      "cell_type": "code",
      "metadata": {
        "colab": {
          "base_uri": "https://localhost:8080/"
        },
        "id": "RPKGLGNXAwWd",
        "outputId": "0210b374-fe4b-4442-e9e5-322729786f73"
      },
      "source": [
        "print(f'We want to use: {y_train[:7]} to predict {y_train[7]}')"
      ],
      "execution_count": 26,
      "outputs": [
        {
          "output_type": "stream",
          "text": [
            "We want to use: [123.65499, 125.455, 108.58483, 118.67466, 121.33866, 120.65533, 121.795] to predict 123.033\n"
          ],
          "name": "stdout"
        }
      ]
    },
    {
      "cell_type": "code",
      "metadata": {
        "id": "pvP_2W_CGECj"
      },
      "source": [
        "HORIZON = 1\n",
        "WINDOW_SIZE = 7"
      ],
      "execution_count": 27,
      "outputs": []
    },
    {
      "cell_type": "code",
      "metadata": {
        "id": "h_ZJNRgCHAlk"
      },
      "source": [
        "#Create the function to label windowed data\n",
        "def get_labeled_window(x, horizon = HORIZON):\n",
        "  \"\"\"Creates labels for windowed dataset.\n",
        "  input = [0,1,2,3,4,5,6,7] output = [0,1,2,3,4,5,6], [7]\n",
        "  \"\"\"\n",
        "  return x[:, :-horizon], x[:, -horizon:]"
      ],
      "execution_count": 28,
      "outputs": []
    },
    {
      "cell_type": "code",
      "metadata": {
        "id": "iiy8uwKgHKUO"
      },
      "source": [
        "test_window, test_labels = get_labeled_window(tf.expand_dims(tf.range(8), axis = 0))"
      ],
      "execution_count": 29,
      "outputs": []
    },
    {
      "cell_type": "code",
      "metadata": {
        "colab": {
          "base_uri": "https://localhost:8080/"
        },
        "id": "bHtNQqMlIbhO",
        "outputId": "16483e7b-94c8-4926-d4c5-c922a2320c66"
      },
      "source": [
        "test_window, test_labels"
      ],
      "execution_count": 30,
      "outputs": [
        {
          "output_type": "execute_result",
          "data": {
            "text/plain": [
              "(<tf.Tensor: shape=(1, 7), dtype=int32, numpy=array([[0, 1, 2, 3, 4, 5, 6]], dtype=int32)>,\n",
              " <tf.Tensor: shape=(1, 1), dtype=int32, numpy=array([[7]], dtype=int32)>)"
            ]
          },
          "metadata": {
            "tags": []
          },
          "execution_count": 30
        }
      ]
    },
    {
      "cell_type": "code",
      "metadata": {
        "id": "ImAcYGblIfJm"
      },
      "source": [
        "def make_windows(y, window_size = WINDOW_SIZE, horizon = HORIZON):\n",
        "  \"\"\"Turns 1D array into sD array of sequental labeled widows\"\"\"\n",
        "  y = np.array(y)\n",
        "  window_step = np.expand_dims(np.arange(window_size + horizon), axis = 0)\n",
        "  window_indexes = window_step + np.expand_dims(np.arange(len(y)-(window_size + horizon - 1)), axis=0).T\n",
        "  # print(f'Window indexes: {window_indexes}\\n Window shapes: {window_indexes.shape}')\n",
        "  windowed_array = y[window_indexes]\n",
        "  #get labeled windows\n",
        "  windows, labels = get_labeled_window(windowed_array, horizon = horizon)\n",
        "  return windows, labels"
      ],
      "execution_count": 31,
      "outputs": []
    },
    {
      "cell_type": "code",
      "metadata": {
        "colab": {
          "base_uri": "https://localhost:8080/"
        },
        "id": "8jsZlVHQrMjL",
        "outputId": "ef823b6a-c6a4-4352-ca7b-2564dd0cd18a"
      },
      "source": [
        "len(btc_price)"
      ],
      "execution_count": 32,
      "outputs": [
        {
          "output_type": "execute_result",
          "data": {
            "text/plain": [
              "2787"
            ]
          },
          "metadata": {
            "tags": []
          },
          "execution_count": 32
        }
      ]
    },
    {
      "cell_type": "code",
      "metadata": {
        "id": "PWyzUjZDrRCf"
      },
      "source": [
        "all_windows, all_labels = make_windows(btc_price)"
      ],
      "execution_count": 33,
      "outputs": []
    },
    {
      "cell_type": "code",
      "metadata": {
        "colab": {
          "base_uri": "https://localhost:8080/"
        },
        "id": "DXrzqgw1rgCQ",
        "outputId": "c673280e-8c77-4560-dd81-58504f7927b5"
      },
      "source": [
        "for i in range(3):\n",
        "  print(f'Window: {all_windows[i]} -> Horizon (label): {all_labels[i]}')"
      ],
      "execution_count": 34,
      "outputs": [
        {
          "output_type": "stream",
          "text": [
            "Window: [123.65499 125.455   108.58483 118.67466 121.33866 120.65533 121.795  ] -> Horizon (label): [123.033]\n",
            "Window: [125.455   108.58483 118.67466 121.33866 120.65533 121.795   123.033  ] -> Horizon (label): [124.049]\n",
            "Window: [108.58483 118.67466 121.33866 120.65533 121.795   123.033   124.049  ] -> Horizon (label): [125.96116]\n"
          ],
          "name": "stdout"
        }
      ]
    },
    {
      "cell_type": "code",
      "metadata": {
        "colab": {
          "base_uri": "https://localhost:8080/"
        },
        "id": "OXN0SS0sO1Zs",
        "outputId": "a91bcd6a-1a95-4673-e455-aa6db54ba7cc"
      },
      "source": [
        "all_windows.shape, all_labels.shape"
      ],
      "execution_count": 35,
      "outputs": [
        {
          "output_type": "execute_result",
          "data": {
            "text/plain": [
              "((2780, 7), (2780, 1))"
            ]
          },
          "metadata": {
            "tags": []
          },
          "execution_count": 35
        }
      ]
    },
    {
      "cell_type": "markdown",
      "metadata": {
        "id": "ddPRrEj2GGfq"
      },
      "source": [
        "#### Use tensorflow to create tf.ds\n",
        "Another way to do this using tf function\n",
        " tf.keras.preprocessing.timeseries_dataset_from_array()"
      ]
    },
    {
      "cell_type": "code",
      "metadata": {
        "id": "Ax4JZ6KiFFUN"
      },
      "source": [
        "test_split = 0.2\n",
        "split_size = int(len(btc_price) * (1-test_split))\n",
        "btc_price_train = np.array(btc_price, dtype = 'float32')[:split_size]\n",
        "btc_price_test = np.array(btc_price, dtype = 'float32')[split_size:]\n",
        "ds_train = tf.keras.preprocessing.timeseries_dataset_from_array(btc_price_train, \n",
        "                                                            targets = btc_price_train[WINDOW_SIZE:], #need to shift right, otherwise give first element\n",
        "                                                            sequence_length = WINDOW_SIZE, \n",
        "                                                            sequence_stride=HORIZON, \n",
        "                                                            sampling_rate=HORIZON,\n",
        "                                                           batch_size = 128)\n",
        "ds_test = tf.keras.preprocessing.timeseries_dataset_from_array(btc_price_test, \n",
        "                                                            targets = btc_price_test[WINDOW_SIZE:], #need to shift right, otherwise give first element\n",
        "                                                            sequence_length = WINDOW_SIZE, \n",
        "                                                            sequence_stride=HORIZON, \n",
        "                                                            sampling_rate=HORIZON,\n",
        "                                                           batch_size = 128)"
      ],
      "execution_count": 36,
      "outputs": []
    },
    {
      "cell_type": "code",
      "metadata": {
        "colab": {
          "base_uri": "https://localhost:8080/"
        },
        "id": "X-2oUBTiG77L",
        "outputId": "88502145-bc96-4fe0-dbae-ed06e6c7eacf"
      },
      "source": [
        "ds_train, len(ds_train), ds_test, len(ds_test)"
      ],
      "execution_count": 37,
      "outputs": [
        {
          "output_type": "execute_result",
          "data": {
            "text/plain": [
              "(<BatchDataset shapes: ((None, None), (None,)), types: (tf.float32, tf.float32)>,\n",
              " 18,\n",
              " <BatchDataset shapes: ((None, None), (None,)), types: (tf.float32, tf.float32)>,\n",
              " 5)"
            ]
          },
          "metadata": {
            "tags": []
          },
          "execution_count": 37
        }
      ]
    },
    {
      "cell_type": "code",
      "metadata": {
        "id": "ihI9RsA7xECB"
      },
      "source": [
        "#Print if batch_size = 1\n",
        "# for window, label in ds_train.take(3):\n",
        "#     print(tf.squeeze(window).numpy(), '->', label.numpy())"
      ],
      "execution_count": 38,
      "outputs": []
    },
    {
      "cell_type": "code",
      "metadata": {
        "colab": {
          "base_uri": "https://localhost:8080/"
        },
        "id": "srzFiFboJJqD",
        "outputId": "43689382-ecb6-4b70-e7f5-0064a02b8009"
      },
      "source": [
        "#Print if batch_size>1\n",
        "for batch_window, batch_label in ds_train.take(3):\n",
        "    for window, label in zip(tf.squeeze(batch_window).numpy(), batch_label.numpy()):\n",
        "      print(window, '->', label)"
      ],
      "execution_count": 39,
      "outputs": [
        {
          "output_type": "stream",
          "text": [
            "[123.65499 125.455   108.58483 118.67466 121.33866 120.65533 121.795  ] -> 123.033\n",
            "[125.455   108.58483 118.67466 121.33866 120.65533 121.795   123.033  ] -> 124.049\n",
            "[108.58483 118.67466 121.33866 120.65533 121.795   123.033   124.049  ] -> 125.96116\n",
            "[118.67466 121.33866 120.65533 121.795   123.033   124.049   125.96116] -> 125.27966\n",
            "[121.33866 120.65533 121.795   123.033   124.049   125.96116 125.27966] -> 125.9275\n",
            "[120.65533 121.795   123.033   124.049   125.96116 125.27966 125.9275 ] -> 126.38333\n",
            "[121.795   123.033   124.049   125.96116 125.27966 125.9275  126.38333] -> 135.24199\n",
            "[123.033   124.049   125.96116 125.27966 125.9275  126.38333 135.24199] -> 133.20332\n",
            "[124.049   125.96116 125.27966 125.9275  126.38333 135.24199 133.20332] -> 142.76334\n",
            "[125.96116 125.27966 125.9275  126.38333 135.24199 133.20332 142.76334] -> 137.92332\n",
            "[125.27966 125.9275  126.38333 135.24199 133.20332 142.76334 137.92332] -> 142.95166\n",
            "[125.9275  126.38333 135.24199 133.20332 142.76334 137.92332 142.95166] -> 152.55183\n",
            "[126.38333 135.24199 133.20332 142.76334 137.92332 142.95166 152.55183] -> 160.33884\n",
            "[135.24199 133.20332 142.76334 137.92332 142.95166 152.55183 160.33884] -> 164.31499\n",
            "[133.20332 142.76334 137.92332 142.95166 152.55183 160.33884 164.31499] -> 177.63333\n",
            "[142.76334 137.92332 142.95166 152.55183 160.33884 164.31499 177.63333] -> 188.29716\n",
            "[137.92332 142.95166 152.55183 160.33884 164.31499 177.63333 188.29716] -> 200.70166\n",
            "[142.95166 152.55183 160.33884 164.31499 177.63333 188.29716 200.70166] -> 180.355\n",
            "[152.55183 160.33884 164.31499 177.63333 188.29716 200.70166 180.355  ] -> 175.03166\n",
            "[160.33884 164.31499 177.63333 188.29716 200.70166 180.355   175.03166] -> 177.6965\n",
            "[164.31499 177.63333 188.29716 200.70166 180.355   175.03166 177.6965 ] -> 187.15984\n",
            "[177.63333 188.29716 200.70166 180.355   175.03166 177.6965  187.15984] -> 192.75665\n",
            "[188.29716 200.70166 180.355   175.03166 177.6965  187.15984 192.75665] -> 197.4\n",
            "[200.70166 180.355   175.03166 177.6965  187.15984 192.75665 197.4    ] -> 196.025\n",
            "[180.355   175.03166 177.6965  187.15984 192.75665 197.4     196.025  ] -> 198.04883\n",
            "[175.03166 177.6965  187.15984 192.75665 197.4     196.025   198.04883] -> 198.93233\n",
            "[177.6965  187.15984 192.75665 197.4     196.025   198.04883 198.93233] -> 200.543\n",
            "[187.15984 192.75665 197.4     196.025   198.04883 198.93233 200.543  ] -> 210.3075\n",
            "[192.75665 197.4     196.025   198.04883 198.93233 200.543   210.3075 ] -> 225.02\n",
            "[197.4     196.025   198.04883 198.93233 200.543   210.3075  225.02   ] -> 248.25333\n",
            "[196.025   198.04883 198.93233 200.543   210.3075  225.02    248.25333] -> 262.32666\n",
            "[198.04883 198.93233 200.543   210.3075  225.02    248.25333 262.32666] -> 294.487\n",
            "[198.93233 200.543   210.3075  225.02    248.25333 262.32666 294.487  ] -> 331.10324\n",
            "[200.543   210.3075  225.02    248.25333 262.32666 294.487   331.10324] -> 285.8875\n",
            "[210.3075  225.02    248.25333 262.32666 294.487   331.10324 285.8875 ] -> 304.97974\n",
            "[225.02    248.25333 262.32666 294.487   331.10324 285.8875  304.97974] -> 338.137\n",
            "[248.25333 262.32666 294.487   331.10324 285.8875  304.97974 338.137  ] -> 357.48\n",
            "[262.32666 294.487   331.10324 285.8875  304.97974 338.137   357.48   ] -> 402.954\n",
            "[294.487   331.10324 285.8875  304.97974 338.137   357.48    402.954  ] -> 409.10376\n",
            "[331.10324 285.8875  304.97974 338.137   357.48    402.954   409.10376] -> 420.2165\n",
            "[285.8875  304.97974 338.137   357.48    402.954   409.10376 420.2165 ] -> 437.29724\n",
            "[304.97974 338.137   357.48    402.954   409.10376 420.2165  437.29724] -> 510.6025\n",
            "[338.137   357.48    402.954   409.10376 420.2165  437.29724 510.6025 ] -> 693.65\n",
            "[357.48    402.954   409.10376 420.2165  437.29724 510.6025  693.65   ] -> 531.5425\n",
            "[402.954   409.10376 420.2165  437.29724 510.6025  693.65    531.5425 ] -> 574.716\n",
            "[409.10376 420.2165  437.29724 510.6025  693.65    531.5425  574.716  ] -> 681.33\n",
            "[420.2165  437.29724 510.6025  693.65    531.5425  574.716   681.33   ] -> 774.18\n",
            "[437.29724 510.6025  693.65    531.5425  574.716   681.33    774.18   ] -> 746.1937\n",
            "[510.6025 693.65   531.5425 574.716  681.33   774.18   746.1937] -> 768.8475\n",
            "[693.65   531.5425 574.716  681.33   774.18   746.1937 768.8475] -> 789.36475\n",
            "[531.5425  574.716   681.33    774.18    746.1937  768.8475  789.36475] -> 893.1815\n",
            "[574.716   681.33    774.18    746.1937  768.8475  789.36475 893.1815 ] -> 934.355\n",
            "[681.33    774.18    746.1937  768.8475  789.36475 893.1815  934.355  ] -> 1068.363\n",
            "[ 774.18     746.1937   768.8475   789.36475  893.1815   934.355\n",
            " 1068.363  ] -> 1154.9259\n",
            "[ 746.1937   768.8475   789.36475  893.1815   934.355   1068.363\n",
            " 1154.9259 ] -> 1099.5193\n",
            "[ 768.8475   789.36475  893.1815   934.355   1068.363   1154.9259\n",
            " 1099.5193 ] -> 1019.7897\n",
            "[ 789.36475  893.1815   934.355   1068.363   1154.9259  1099.5193\n",
            " 1019.7897 ] -> 1028.845\n",
            "[ 893.1815  934.355  1068.363  1154.9259 1099.5193 1019.7897 1028.845 ] -> 1071.2848\n",
            "[ 934.355  1068.363  1154.9259 1099.5193 1019.7897 1028.845  1071.2848] -> 1139.3308\n",
            "[1068.363  1154.9259 1099.5193 1019.7897 1028.845  1071.2848 1139.3308] -> 1004.61633\n",
            "[1154.9259  1099.5193  1019.7897  1028.845   1071.2848  1139.3308\n",
            " 1004.61633] -> 759.4304\n",
            "[1099.5193  1019.7897  1028.845   1071.2848  1139.3308  1004.61633\n",
            "  759.4304 ] -> 689.81\n",
            "[1019.7897  1028.845   1071.2848  1139.3308  1004.61633  759.4304\n",
            "  689.81   ] -> 841.83966\n",
            "[1028.845   1071.2848  1139.3308  1004.61633  759.4304   689.81\n",
            "  841.83966] -> 916.776\n",
            "[1071.2848  1139.3308  1004.61633  759.4304   689.81     841.83966\n",
            "  916.776  ] -> 967.42865\n",
            "[1139.3308  1004.61633  759.4304   689.81     841.83966  916.776\n",
            "  967.42865] -> 866.29004\n",
            "[1004.61633  759.4304   689.81     841.83966  916.776    967.42865\n",
            "  866.29004] -> 911.23206\n",
            "[759.4304  689.81    841.83966 916.776   967.42865 866.29004 911.23206] -> 889.81946\n",
            "[689.81    841.83966 916.776   967.42865 866.29004 911.23206 889.81946] -> 848.9975\n",
            "[841.83966 916.776   967.42865 866.29004 911.23206 889.81946 848.9975 ] -> 868.9532\n",
            "[916.776   967.42865 866.29004 911.23206 889.81946 848.9975  868.9532 ] -> 653.8048\n",
            "[967.42865 866.29004 911.23206 889.81946 848.9975  868.9532  653.8048 ] -> 654.0627\n",
            "[866.29004 911.23206 889.81946 848.9975  868.9532  653.8048  654.0627 ] -> 553.69165\n",
            "[911.23206 889.81946 848.9975  868.9532  653.8048  654.0627  553.69165] -> 693.05884\n",
            "[889.81946 848.9975  868.9532  653.8048  654.0627  553.69165 693.05884] -> 649.38965\n",
            "[848.9975  868.9532  653.8048  654.0627  553.69165 693.05884 649.38965] -> 595.9588\n",
            "[868.9532  653.8048  654.0627  553.69165 693.05884 649.38965 595.9588 ] -> 647.68317\n",
            "[653.8048  654.0627  553.69165 693.05884 649.38965 595.9588  647.68317] -> 671.5812\n",
            "[654.0627  553.69165 693.05884 649.38965 595.9588  647.68317 671.5812 ] -> 659.8433\n",
            "[553.69165 693.05884 649.38965 595.9588  647.68317 671.5812  659.8433 ] -> 702.00085\n",
            "[693.05884 649.38965 595.9588  647.68317 671.5812  659.8433  702.00085] -> 758.01013\n",
            "[649.38965 595.9588  647.68317 671.5812  659.8433  702.00085 758.01013] -> 734.01166\n",
            "[595.9588  647.68317 671.5812  659.8433  702.00085 758.01013 734.01166] -> 717.9262\n",
            "[647.68317 671.5812  659.8433  702.00085 758.01013 734.01166 717.9262 ] -> 752.8202\n",
            "[671.5812  659.8433  702.00085 758.01013 734.01166 717.9262  752.8202 ] -> 744.1725\n",
            "[659.8433  702.00085 758.01013 734.01166 717.9262  752.8202  744.1725 ] -> 768.40784\n",
            "[702.00085 758.01013 734.01166 717.9262  752.8202  744.1725  768.40784] -> 769.0985\n",
            "[758.01013 734.01166 717.9262  752.8202  744.1725  768.40784 769.0985 ] -> 804.02716\n",
            "[734.01166 717.9262  752.8202  744.1725  768.40784 769.0985  804.02716] -> 813.3175\n",
            "[717.9262  752.8202  744.1725  768.40784 769.0985  804.02716 813.3175 ] -> 871.11584\n",
            "[752.8202  744.1725  768.40784 769.0985  804.02716 813.3175  871.11584] -> 970.6508\n",
            "[744.1725  768.40784 769.0985  804.02716 813.3175  871.11584 970.6508 ] -> 962.4645\n",
            "[768.40784 769.0985  804.02716 813.3175  871.11584 970.6508  962.4645 ] -> 855.75934\n",
            "[769.0985  804.02716 813.3175  871.11584 970.6508  962.4645  855.75934] -> 860.8417\n",
            "[804.02716 813.3175  871.11584 970.6508  962.4645  855.75934 860.8417 ] -> 847.5325\n",
            "[813.3175  871.11584 970.6508  962.4645  855.75934 860.8417  847.5325 ] -> 892.26117\n",
            "[871.11584 970.6508  962.4645  855.75934 860.8417  847.5325  892.26117] -> 916.69666\n",
            "[970.6508  962.4645  855.75934 860.8417  847.5325  892.26117 916.69666] -> 873.27167\n",
            "[962.4645  855.75934 860.8417  847.5325  892.26117 916.69666 873.27167] -> 863.69885\n",
            "[855.75934 860.8417  847.5325  892.26117 916.69666 873.27167 863.69885] -> 853.25665\n",
            "[860.8417  847.5325  892.26117 916.69666 873.27167 863.69885 853.25665] -> 874.07416\n",
            "[847.5325  892.26117 916.69666 873.27167 863.69885 853.25665 874.07416] -> 842.1917\n",
            "[892.26117 916.69666 873.27167 863.69885 853.25665 874.07416 842.1917 ] -> 834.86664\n",
            "[916.69666 873.27167 863.69885 853.25665 874.07416 842.1917  834.86664] -> 838.42914\n",
            "[873.27167 863.69885 853.25665 874.07416 842.1917  834.86664 838.42914] -> 881.87585\n",
            "[863.69885 853.25665 874.07416 842.1917  834.86664 838.42914 881.87585] -> 873.2892\n",
            "[853.25665 874.07416 842.1917  834.86664 838.42914 881.87585 873.2892 ] -> 874.1327\n",
            "[874.07416 842.1917  834.86664 838.42914 881.87585 873.2892  874.1327 ] -> 864.56116\n",
            "[842.1917  834.86664 838.42914 881.87585 873.2892  874.1327  864.56116] -> 838.14996\n",
            "[834.86664 838.42914 881.87585 873.2892  874.1327  864.56116 838.14996] -> 834.57416\n",
            "[838.42914 881.87585 873.2892  874.1327  864.56116 838.14996 834.57416] -> 858.1264\n",
            "[881.87585 873.2892  874.1327  864.56116 838.14996 834.57416 858.1264 ] -> 887.0834\n",
            "[873.2892  874.1327  864.56116 838.14996 834.57416 858.1264  887.0834 ] -> 830.5313\n",
            "[874.1327  864.56116 838.14996 834.57416 858.1264  887.0834  830.5313 ] -> 832.89496\n",
            "[864.56116 838.14996 834.57416 858.1264  887.0834  830.5313  832.89496] -> 832.87396\n",
            "[838.14996 834.57416 858.1264  887.0834  830.5313  832.89496 832.87396] -> 841.48914\n",
            "[834.57416 858.1264  887.0834  830.5313  832.89496 832.87396 841.48914] -> 847.36383\n",
            "[858.1264  887.0834  830.5313  832.89496 832.87396 841.48914 847.36383] -> 854.7225\n",
            "[887.0834  830.5313  832.89496 832.87396 841.48914 847.36383 854.7225 ] -> 856.0336\n",
            "[830.5313  832.89496 832.87396 841.48914 847.36383 854.7225  856.0336 ] -> 847.707\n",
            "[832.89496 832.87396 841.48914 847.36383 854.7225  856.0336  847.707  ] -> 844.2883\n",
            "[832.87396 841.48914 847.36383 854.7225  856.0336  847.707   844.2883 ] -> 802.75336\n",
            "[841.48914 847.36383 854.7225  856.0336  847.707   844.2883  802.75336] -> 748.4356\n",
            "[847.36383 854.7225  856.0336  847.707   844.2883  802.75336 748.4356 ] -> 692.6691\n",
            "[854.7225  856.0336  847.707   844.2883  802.75336 748.4356  692.6691 ] -> 668.8646\n",
            "[856.0336  847.707   844.2883  802.75336 748.4356  692.6691  668.8646 ] -> 700.4484\n",
            "[847.707   844.2883  802.75336 748.4356  692.6691  668.8646  700.4484 ] -> 694.3125\n",
            "[844.2883  802.75336 748.4356  692.6691  668.8646  700.4484  694.3125 ] -> 665.7975\n",
            "[802.75336 748.4356  692.6691  668.8646  700.4484  694.3125  665.7975 ] -> 645.615\n",
            "[748.4356 692.6691 668.8646 700.4484 694.3125 665.7975 645.615 ] -> 578.4125\n",
            "[692.6691 668.8646 700.4484 694.3125 665.7975 645.615  578.4125] -> 641.91\n",
            "[668.8646 700.4484 694.3125 665.7975 645.615  578.4125 641.91  ] -> 656.2725\n",
            "[700.4484 694.3125 665.7975 645.615  578.4125 641.91   656.2725] -> 611.045\n",
            "[694.3125 665.7975 645.615  578.4125 641.91   656.2725 611.045 ] -> 634.99\n",
            "[665.7975 645.615  578.4125 641.91   656.2725 611.045  634.99  ] -> 618.79\n",
            "[645.615  578.4125 641.91   656.2725 611.045  634.99   618.79  ] -> 619.8425\n",
            "[578.4125 641.91   656.2725 611.045  634.99   618.79   619.8425] -> 545.7625\n",
            "[641.91   656.2725 611.045  634.99   618.79   619.8425 545.7625] -> 561.535\n",
            "[656.2725 611.045  634.99   618.79   619.8425 545.7625 561.535 ] -> 622.22\n",
            "[611.045  634.99   618.79   619.8425 545.7625 561.535  622.22  ] -> 572.7675\n",
            "[634.99   618.79   619.8425 545.7625 561.535  622.22   572.7675] -> 501.155\n",
            "[618.79   619.8425 545.7625 561.535  622.22   572.7675 501.155 ] -> 550.6025\n",
            "[619.8425 545.7625 561.535  622.22   572.7675 501.155  550.6025] -> 573.1025\n",
            "[545.7625 561.535  622.22   572.7675 501.155  550.6025 573.1025] -> 567.2925\n",
            "[561.535  622.22   572.7675 501.155  550.6025 573.1025 567.2925] -> 551.73\n",
            "[622.22   572.7675 501.155  550.6025 573.1025 567.2925 551.73  ] -> 560.195\n",
            "[572.7675 501.155  550.6025 573.1025 567.2925 551.73   560.195 ] -> 567.7\n",
            "[501.155  550.6025 573.1025 567.2925 551.73   560.195  567.7   ] -> 666.1475\n",
            "[550.6025 573.1025 567.2925 551.73   560.195  567.7    666.1475] -> 660.84\n",
            "[573.1025 567.2925 551.73   560.195  567.7    666.1475 660.84  ] -> 662.0225\n",
            "[567.2925 551.73   560.195  567.7    666.1475 660.84   662.0225] -> 651.285\n",
            "[551.73   560.195  567.7    666.1475 660.84   662.0225 651.285 ] -> 612.33\n",
            "[560.195  567.7    666.1475 660.84   662.0225 651.285  612.33  ] -> 611.1625\n",
            "[567.7    666.1475 660.84   662.0225 651.285  612.33   611.1625] -> 637.615\n",
            "[666.1475 660.84   662.0225 651.285  612.33   611.1625 637.615 ] -> 626.0\n",
            "[660.84   662.0225 651.285  612.33   611.1625 637.615  626.    ] -> 633.7475\n",
            "[662.0225 651.285  612.33   611.1625 637.615  626.     633.7475] -> 631.755\n",
            "[651.285  612.33   611.1625 637.615  626.     633.7475 631.755 ] -> 636.4141\n",
            "[612.33   611.1625 637.615  626.     633.7475 631.755  636.4141] -> 628.1875\n",
            "[611.1625 637.615  626.     633.7475 631.755  636.4141 628.1875] -> 632.9533\n",
            "[637.615  626.     633.7475 631.755  636.4141 628.1875 632.9533] -> 630.3483\n",
            "[626.     633.7475 631.755  636.4141 628.1875 632.9533 630.3483] -> 617.24335\n",
            "[633.7475  631.755   636.4141  628.1875  632.9533  630.3483  617.24335] -> 616.86664\n",
            "[631.755   636.4141  628.1875  632.9533  630.3483  617.24335 616.86664] -> 601.015\n",
            "[636.4141  628.1875  632.9533  630.3483  617.24335 616.86664 601.015  ] -> 581.3333\n",
            "[628.1875  632.9533  630.3483  617.24335 616.86664 601.015   581.3333 ] -> 570.3617\n",
            "[632.9533  630.3483  617.24335 616.86664 601.015   581.3333  570.3617 ] -> 562.9533\n",
            "[630.3483  617.24335 616.86664 601.015   581.3333  570.3617  562.9533 ] -> 557.16833\n",
            "[617.24335 616.86664 601.015   581.3333  570.3617  562.9533  557.16833] -> 573.35\n",
            "[616.86664 601.015   581.3333  570.3617  562.9533  557.16833 573.35   ] -> 572.49164\n",
            "[601.015   581.3333  570.3617  562.9533  557.16833 573.35    572.49164] -> 570.54834\n",
            "[581.3333  570.3617  562.9533  557.16833 573.35    572.49164 570.54834] -> 509.70667\n",
            "[570.3617  562.9533  557.16833 573.35    572.49164 570.54834 509.70667] -> 499.24997\n",
            "[562.9533  557.16833 573.35    572.49164 570.54834 509.70667 499.24997] -> 486.80844\n",
            "[557.16833 573.35    572.49164 570.54834 509.70667 499.24997 486.80844] -> 472.4783\n",
            "[573.35    572.49164 570.54834 509.70667 499.24997 486.80844 472.4783 ] -> 464.88\n",
            "[572.49164 570.54834 509.70667 499.24997 486.80844 472.4783  464.88   ] -> 480.1658\n",
            "[570.54834 509.70667 499.24997 486.80844 472.4783  464.88    480.1658 ] -> 427.87497\n",
            "[509.70667 499.24997 486.80844 472.4783  464.88    480.1658  427.87497] -> 432.99716\n",
            "[499.24997 486.80844 472.4783  464.88    480.1658  427.87497 432.99716] -> 453.8715\n",
            "[486.80844 472.4783  464.88    480.1658  427.87497 432.99716 453.8715 ] -> 462.445\n",
            "[472.4783  464.88    480.1658  427.87497 432.99716 453.8715  462.445  ] -> 456.46948\n",
            "[464.88    480.1658  427.87497 432.99716 453.8715  462.445   456.46948] -> 452.81\n",
            "[480.1658  427.87497 432.99716 453.8715  462.445   456.46948 452.81   ] -> 450.48083\n",
            "[427.87497 432.99716 453.8715  462.445   456.46948 452.81    450.48083] -> 426.98334\n",
            "[432.99716 453.8715  462.445   456.46948 452.81    450.48083 426.98334] -> 374.59167\n",
            "[453.8715  462.445   456.46948 452.81    450.48083 426.98334 374.59167] -> 438.24667\n",
            "[462.445   456.46948 452.81    450.48083 426.98334 374.59167 438.24667] -> 423.51566\n",
            "[456.46948 452.81    450.48083 426.98334 374.59167 438.24667 423.51566] -> 409.03165\n",
            "[452.81    450.48083 426.98334 374.59167 438.24667 423.51566 409.03165] -> 455.28317\n",
            "[450.48083 426.98334 374.59167 438.24667 423.51566 409.03165 455.28317] -> 517.0967\n",
            "[426.98334 374.59167 438.24667 423.51566 409.03165 455.28317 517.0967 ] -> 522.455\n",
            "[374.59167 438.24667 423.51566 409.03165 455.28317 517.0967  522.455  ] -> 490.8785\n",
            "[438.24667 423.51566 409.03165 455.28317 517.0967  522.455   490.8785 ] -> 469.38333\n",
            "[423.51566 409.03165 455.28317 517.0967  522.455   490.8785  469.38333] -> 507.80664\n",
            "[409.03165 455.28317 517.0967  522.455   490.8785  469.38333 507.80664] -> 505.09665\n",
            "[455.28317 517.0967  522.455   490.8785  469.38333 507.80664 505.09665] -> 497.65002\n",
            "[517.0967  522.455   490.8785  469.38333 507.80664 505.09665 497.65002] -> 487.84\n",
            "[522.455   490.8785  469.38333 507.80664 505.09665 497.65002 487.84   ] -> 487.11334\n",
            "[490.8785  469.38333 507.80664 505.09665 497.65002 487.84    487.11334] -> 469.08817\n",
            "[469.38333 507.80664 505.09665 497.65002 487.84    487.11334 469.08817] -> 448.77835\n",
            "[507.80664 505.09665 497.65002 487.84    487.11334 469.08817 448.77835] -> 452.1483\n",
            "[505.09665 497.65002 487.84    487.11334 469.08817 448.77835 452.1483 ] -> 426.78165\n",
            "[497.65002 487.84    487.11334 469.08817 448.77835 452.1483  426.78165] -> 432.60498\n",
            "[487.84    487.11334 469.08817 448.77835 452.1483  426.78165 432.60498] -> 444.8567\n",
            "[487.11334 469.08817 448.77835 452.1483  426.78165 432.60498 444.8567 ] -> 454.55667\n",
            "[469.08817 448.77835 452.1483  426.78165 432.60498 444.8567  454.55667] -> 453.59833\n",
            "[448.77835 452.1483  426.78165 432.60498 444.8567  454.55667 453.59833] -> 441.97833\n",
            "[452.1483  426.78165 432.60498 444.8567  454.55667 453.59833 441.97833] -> 438.29034\n",
            "[426.78165 432.60498 444.8567  454.55667 453.59833 441.97833 438.29034] -> 432.78748\n",
            "[432.60498 444.8567  454.55667 453.59833 441.97833 438.29034 432.78748] -> 418.61832\n",
            "[444.8567  454.55667 453.59833 441.97833 438.29034 432.78748 418.61832] -> 428.42593\n",
            "[454.55667 453.59833 441.97833 438.29034 432.78748 418.61832 428.42593] -> 442.57666\n",
            "[453.59833 441.97833 438.29034 432.78748 418.61832 428.42593 442.57666] -> 439.04\n",
            "[441.97833 438.29034 432.78748 418.61832 428.42593 442.57666 439.04   ] -> 449.04333\n",
            "[438.29034 432.78748 418.61832 428.42593 442.57666 439.04    449.04333] -> 449.74167\n",
            "[432.78748 418.61832 428.42593 442.57666 439.04    449.04333 449.74167] -> 434.27\n",
            "[418.61832 428.42593 442.57666 439.04    449.04333 449.74167 434.27   ] -> 437.0\n",
            "[428.42593 442.57666 439.04    449.04333 449.74167 434.27    437.     ] -> 438.88\n",
            "[442.57666 439.04    449.04333 449.74167 434.27    437.      438.88   ] -> 445.045\n",
            "[439.04    449.04333 449.74167 434.27    437.      438.88    445.045  ] -> 443.18\n",
            "[449.04333 449.74167 434.27    437.      438.88    445.045   443.18   ] -> 445.60666\n",
            "[449.74167 434.27    437.      438.88    445.045   443.18    445.60666] -> 445.15665\n",
            "[434.27    437.      438.88    445.045   443.18    445.60666 445.15665] -> 444.73834\n",
            "[437.      438.88    445.045   443.18    445.60666 445.15665 444.73834] -> 455.65332\n",
            "[438.88    445.045   443.18    445.60666 445.15665 444.73834 455.65332] -> 489.87\n",
            "[445.045   443.18    445.60666 445.15665 444.73834 455.65332 489.87   ] -> 490.18665\n",
            "[443.18    445.60666 445.15665 444.73834 455.65332 489.87    490.18665] -> 522.31\n",
            "[445.60666 445.15665 444.73834 455.65332 489.87    490.18665 522.31   ] -> 512.30835\n",
            "[445.15665 444.73834 455.65332 489.87    490.18665 522.31    512.30835] -> 533.93\n",
            "[444.73834 455.65332 489.87    490.18665 522.31    512.30835 533.93   ] -> 579.5933\n",
            "[455.65332 489.87    490.18665 522.31    512.30835 533.93    579.5933 ] -> 581.51\n",
            "[489.87    490.18665 522.31    512.30835 533.93    579.5933  581.51   ] -> 572.4483\n",
            "[490.18665 522.31    512.30835 533.93    579.5933  581.51    572.4483 ] -> 562.4\n",
            "[522.31    512.30835 533.93    579.5933  581.51    572.4483  562.4    ] -> 571.845\n",
            "[512.30835 533.93    579.5933  581.51    572.4483  562.4     571.845  ] -> 612.12665\n",
            "[533.93    579.5933  581.51    572.4483  562.4     571.845   612.12665] -> 638.1633\n",
            "[579.5933  581.51    572.4483  562.4     571.845   612.12665 638.1633 ] -> 634.98334\n",
            "[581.51    572.4483  562.4     571.845   612.12665 638.1633  634.98334] -> 660.24664\n",
            "[572.4483  562.4     571.845   612.12665 638.1633  634.98334 660.24664] -> 627.79834\n",
            "[562.4     571.845   612.12665 638.1633  634.98334 660.24664 627.79834] -> 642.89166\n",
            "[571.845   612.12665 638.1633  634.98334 660.24664 627.79834 642.89166] -> 652.5267\n",
            "[612.12665 638.1633  634.98334 660.24664 627.79834 642.89166 652.5267 ] -> 648.6017\n",
            "[638.1633  634.98334 660.24664 627.79834 642.89166 652.5267  648.6017 ] -> 652.5917\n",
            "[634.98334 660.24664 627.79834 642.89166 652.5267  648.6017  652.5917 ] -> 652.11\n",
            "[660.24664 627.79834 642.89166 652.5267  648.6017  652.5917  652.11   ] -> 644.085\n",
            "[627.79834 642.89166 652.5267  648.6017  652.5917  652.11    644.085  ] -> 642.00665\n",
            "[642.89166 652.5267  648.6017  652.5917  652.11    644.085   642.00665] -> 632.55\n",
            "[652.5267  648.6017  652.5917  652.11    644.085   642.00665 632.55   ] -> 585.48334\n",
            "[648.6017  652.5917  652.11    644.085   642.00665 632.55    585.48334] -> 588.5233\n",
            "[652.5917  652.11    644.085   642.00665 632.55    585.48334 588.5233 ] -> 570.2883\n",
            "[652.11    644.085   642.00665 632.55    585.48334 588.5233  570.2883 ] -> 589.06665\n",
            "[644.085   642.00665 632.55    585.48334 588.5233  570.2883  589.06665] -> 592.25665\n",
            "[642.00665 632.55    585.48334 588.5233  570.2883  589.06665 592.25665] -> 610.4133\n",
            "[632.55    585.48334 588.5233  570.2883  589.06665 592.25665 610.4133 ] -> 601.88666\n",
            "[585.48334 588.5233  570.2883  589.06665 592.25665 610.4133  601.88666] -> 594.0933\n",
            "[588.5233  570.2883  589.06665 592.25665 610.4133  601.88666 594.0933 ] -> 582.045\n",
            "[570.2883  589.06665 592.25665 610.4133  601.88666 594.0933  582.045  ] -> 599.57\n",
            "[589.06665 592.25665 610.4133  601.88666 594.0933  582.045   599.57   ] -> 592.405\n",
            "[592.25665 610.4133  601.88666 594.0933  582.045   599.57    592.405  ] -> 584.64166\n",
            "[610.4133  601.88666 594.0933  582.045   599.57    592.405   584.64166] -> 575.905\n",
            "[601.88666 594.0933  582.045   599.57    592.405   584.64166 575.905  ] -> 571.76666\n",
            "[594.0933  582.045   599.57    592.405   584.64166 575.905   571.76666] -> 582.43164\n",
            "[582.045   599.57    592.405   584.64166 575.905   571.76666 582.43164] -> 597.66833\n",
            "[599.57    592.405   584.64166 575.905   571.76666 582.43164 597.66833] -> 598.73334\n",
            "[592.405   584.64166 575.905   571.76666 582.43164 597.66833 598.73334] -> 597.5133\n",
            "[584.64166 575.905   571.76666 582.43164 597.66833 598.73334 597.5133 ] -> 647.1225\n",
            "[575.905   571.76666 582.43164 597.66833 598.73334 597.5133  647.1225 ] -> 637.85626\n",
            "[571.76666 582.43164 597.66833 598.73334 597.5133  647.1225  637.85626] -> 642.65125\n",
            "[582.43164 597.66833 598.73334 597.5133  647.1225  637.85626 642.65125] -> 643.95123\n",
            "[597.66833 598.73334 597.5133  647.1225  637.85626 642.65125 643.95123] -> 628.41626\n",
            "[598.73334 597.5133  647.1225  637.85626 642.65125 643.95123 628.41626] -> 631.03\n",
            "[597.5133  647.1225  637.85626 642.65125 643.95123 628.41626 631.03   ] -> 631.29877\n",
            "[647.1225  637.85626 642.65125 643.95123 628.41626 631.03    631.29877] -> 621.2425\n",
            "[637.85626 642.65125 643.95123 628.41626 631.03    631.29877 621.2425 ] -> 620.72\n",
            "[642.65125 643.95123 628.41626 631.03    631.29877 621.2425  620.72   ] -> 621.3075\n",
            "[643.95123 628.41626 631.03    631.29877 621.2425  620.72    621.3075 ] -> 616.83124\n",
            "[628.41626 631.03    631.29877 621.2425  620.72    621.3075  616.83124] -> 634.3575\n",
            "[631.03    631.29877 621.2425  620.72    621.3075  616.83124 634.3575 ] -> 627.69\n",
            "[631.29877 621.2425  620.72    621.3075  616.83124 634.3575  627.69   ] -> 621.425\n",
            "[621.2425  620.72    621.3075  616.83124 634.3575  627.69    621.425  ] -> 618.7388\n",
            "[620.72    621.3075  616.83124 634.3575  627.69    621.425   618.7388 ] -> 619.8075\n",
            "[621.3075  616.83124 634.3575  627.69    621.425   618.7388  619.8075 ] -> 614.6887\n",
            "[616.83124 634.3575  627.69    621.425   618.7388  619.8075  614.6887 ] -> 623.4975\n",
            "[634.3575 627.69   621.425  618.7388 619.8075 614.6887 623.4975] -> 623.9963\n",
            "[627.69   621.425  618.7388 619.8075 614.6887 623.4975 623.9963] -> 623.0062\n",
            "[621.425  618.7388 619.8075 614.6887 623.4975 623.9963 623.0062] -> 617.96124\n",
            "[618.7388  619.8075  614.6887  623.4975  623.9963  623.0062  617.96124] -> 622.1075\n",
            "[619.8075  614.6887  623.4975  623.9963  623.0062  617.96124 622.1075 ] -> 618.4475\n",
            "[614.6887  623.4975  623.9963  623.0062  617.96124 622.1075  618.4475 ] -> 617.6875\n",
            "[623.4975  623.9963  623.0062  617.96124 622.1075  618.4475  617.6875 ] -> 602.9313\n",
            "[623.9963  623.0062  617.96124 622.1075  618.4475  617.6875  602.9313 ] -> 597.585\n",
            "[623.0062  617.96124 622.1075  618.4475  617.6875  602.9313  597.585  ] -> 592.96375\n",
            "[617.96124 622.1075  618.4475  617.6875  602.9313  597.585   592.96375] -> 580.11\n",
            "[622.1075  618.4475  617.6875  602.9313  597.585   592.96375 580.11   ] -> 585.4487\n",
            "[618.4475  617.6875  602.9313  597.585   592.96375 580.11    585.4487 ] -> 580.5175\n",
            "[617.6875  602.9313  597.585   592.96375 580.11    585.4487  580.5175 ] -> 564.57\n",
            "[602.9313  597.585   592.96375 580.11    585.4487  580.5175  564.57   ] -> 583.39\n",
            "[597.585   592.96375 580.11    585.4487  580.5175  564.57    583.39   ] -> 593.8063\n",
            "[592.96375 580.11    585.4487  580.5175  564.57    583.39    593.8063 ] -> 581.52\n",
            "[580.11   585.4487 580.5175 564.57   583.39   593.8063 581.52  ] -> 585.8013\n",
            "[585.4487 580.5175 564.57   583.39   593.8063 581.52   585.8013] -> 582.33374\n",
            "[580.5175  564.57    583.39    593.8063  581.52    585.8013  582.33374] -> 582.52124\n",
            "[564.57    583.39    593.8063  581.52    585.8013  582.33374 582.52124] -> 583.6238\n",
            "[583.39    593.8063  581.52    585.8013  582.33374 582.52124 583.6238 ] -> 595.8088\n",
            "[593.8063  581.52    585.8013  582.33374 582.52124 583.6238  595.8088 ] -> 585.39624\n",
            "[581.52    585.8013  582.33374 582.52124 583.6238  595.8088  585.39624] -> 586.0588\n",
            "[585.8013  582.33374 582.52124 583.6238  595.8088  585.39624 586.0588 ] -> 588.7525\n",
            "[582.33374 582.52124 583.6238  595.8088  585.39624 586.0588  588.7525 ] -> 566.3162\n",
            "[582.52124 583.6238  595.8088  585.39624 586.0588  588.7525  566.3162 ] -> 565.5513\n",
            "[583.6238  595.8088  585.39624 586.0588  588.7525  566.3162  565.5513 ] -> 534.54\n",
            "[595.8088  585.39624 586.0588  588.7525  566.3162  565.5513  534.54   ] -> 511.4725\n",
            "[585.39624 586.0588  588.7525  566.3162  565.5513  534.54    511.4725 ] -> 487.56625\n",
            "[586.0588  588.7525  566.3162  565.5513  534.54    511.4725  487.56625] -> 516.6262\n",
            "[588.7525  566.3162  565.5513  534.54    511.4725  487.56625 516.6262 ] -> 489.4675\n",
            "[566.3162  565.5513  534.54    511.4725  487.56625 516.6262  489.4675 ] -> 455.91626\n",
            "[565.5513  534.54    511.4725  487.56625 516.6262  489.4675  455.91626] -> 472.91\n",
            "[534.54    511.4725  487.56625 516.6262  489.4675  455.91626 472.91   ] -> 519.015\n",
            "[511.4725  487.56625 516.6262  489.4675  455.91626 472.91    519.015  ] -> 508.12875\n",
            "[487.56625 516.6262  489.4675  455.91626 472.91    519.015   508.12875] -> 507.51\n",
            "[516.6262  489.4675  455.91626 472.91    519.015   508.12875 507.51   ] -> 501.63126\n",
            "[489.4675  455.91626 472.91    519.015   508.12875 507.51    501.63126] -> 503.32126\n",
            "[455.91626 472.91    519.015   508.12875 507.51    501.63126 503.32126] -> 504.62625\n",
            "[472.91    519.015   508.12875 507.51    501.63126 503.32126 504.62625] -> 513.39124\n",
            "[519.015   508.12875 507.51    501.63126 503.32126 504.62625 513.39124] -> 514.6238\n",
            "[508.12875 507.51    501.63126 503.32126 504.62625 513.39124 514.6238 ] -> 506.025\n",
            "[507.51    501.63126 503.32126 504.62625 513.39124 514.6238  506.025  ] -> 504.70624\n",
            "[501.63126 503.32126 504.62625 513.39124 514.6238  506.025   504.70624] -> 502.055\n",
            "[503.32126 504.62625 513.39124 514.6238  506.025   504.70624 502.055  ] -> 474.5425\n",
            "[504.62625 513.39124 514.6238  506.025   504.70624 502.055   474.5425 ] -> 477.98376\n",
            "[513.39124 514.6238  506.025   504.70624 502.055   474.5425  477.98376] -> 476.88376\n",
            "[514.6238  506.025   504.70624 502.055   474.5425  477.98376 476.88376] -> 475.65\n",
            "[506.025   504.70624 502.055   474.5425  477.98376 476.88376 475.65   ] -> 485.65125\n",
            "[504.70624 502.055   474.5425  477.98376 476.88376 475.65    485.65125] -> 480.9075\n",
            "[502.055   474.5425  477.98376 476.88376 475.65    485.65125 480.9075 ] -> 481.88376\n",
            "[474.5425  477.98376 476.88376 475.65    485.65125 480.9075  481.88376] -> 473.58624\n",
            "[477.98376 476.88376 475.65    485.65125 480.9075  481.88376 473.58624] -> 468.5775\n",
            "[476.88376 475.65    485.65125 480.9075  481.88376 473.58624 468.5775 ] -> 474.29126\n",
            "[475.65    485.65125 480.9075  481.88376 473.58624 468.5775  474.29126] -> 479.4175\n",
            "[485.65125 480.9075  481.88376 473.58624 468.5775  474.29126 479.4175 ] -> 473.6725\n",
            "[480.9075  481.88376 473.58624 468.5775  474.29126 479.4175  473.6725 ] -> 471.5325\n",
            "[481.88376 473.58624 468.5775  474.29126 479.4175  473.6725  471.5325 ] -> 475.37875\n",
            "[473.58624 468.5775  474.29126 479.4175  473.6725  471.5325  475.37875] -> 475.02124\n",
            "[468.5775  474.29126 479.4175  473.6725  471.5325  475.37875 475.02124] -> 471.08374\n",
            "[474.29126 479.4175  473.6725  471.5325  475.37875 475.02124 471.08374] -> 464.55374\n",
            "[479.4175  473.6725  471.5325  475.37875 475.02124 471.08374 464.55374] -> 449.95874\n",
            "[473.6725  471.5325  475.37875 475.02124 471.08374 464.55374 449.95874] -> 425.4475\n",
            "[471.5325  475.37875 475.02124 471.08374 464.55374 449.95874 425.4475 ] -> 410.08\n",
            "[475.37875 475.02124 471.08374 464.55374 449.95874 425.4475  410.08   ] -> 405.79626\n",
            "[475.02124 471.08374 464.55374 449.95874 425.4475  410.08    405.79626] -> 399.0975\n",
            "[471.08374 464.55374 449.95874 425.4475  410.08    405.79626 399.0975 ] -> 399.5025\n",
            "[464.55374 449.95874 425.4475  410.08    405.79626 399.0975  399.5025 ] -> 427.8125\n",
            "[449.95874 425.4475  410.08    405.79626 399.0975  399.5025  427.8125 ] -> 416.12\n",
            "[425.4475  410.08    405.79626 399.0975  399.5025  427.8125  416.12   ] -> 410.15\n",
            "[410.08    405.79626 399.0975  399.5025  427.8125  416.12    410.15   ] -> 403.4975\n",
            "[405.79626 399.0975  399.5025  427.8125  416.12    410.15    403.4975 ] -> 398.84\n",
            "[399.0975 399.5025 427.8125 416.12   410.15   403.4975 398.84  ] -> 377.97876\n",
            "[399.5025  427.8125  416.12    410.15    403.4975  398.84    377.97876] -> 376.08374\n",
            "[427.8125  416.12    410.15    403.4975  398.84    377.97876 376.08374] -> 387.94\n",
            "[416.12    410.15    403.4975  398.84    377.97876 376.08374 387.94   ] -> 381.7475\n",
            "[410.15    403.4975  398.84    377.97876 376.08374 387.94    381.7475 ] -> 372.0575\n",
            "[403.4975  398.84    377.97876 376.08374 387.94    381.7475  372.0575 ] -> 360.7525\n",
            "[398.84    377.97876 376.08374 387.94    381.7475  372.0575  360.7525 ] -> 335.98126\n",
            "[377.97876 376.08374 387.94    381.7475  372.0575  360.7525  335.98126] -> 308.07874\n",
            "[376.08374 387.94    381.7475  372.0575  360.7525  335.98126 308.07874] -> 337.23376\n",
            "[387.94    381.7475  372.0575  360.7525  335.98126 308.07874 337.23376] -> 326.2325\n",
            "[381.7475  372.0575  360.7525  335.98126 308.07874 337.23376 326.2325 ] -> 351.34625\n",
            "[372.0575  360.7525  335.98126 308.07874 337.23376 326.2325  351.34625] -> 368.59625\n",
            "[360.7525  335.98126 308.07874 337.23376 326.2325  351.34625 368.59625] -> 359.2025\n",
            "[335.98126 308.07874 337.23376 326.2325  351.34625 368.59625 359.2025 ] -> 356.99875\n",
            "[308.07874 337.23376 326.2325  351.34625 368.59625 359.2025  356.99875] -> 371.15625\n",
            "[337.23376 326.2325  351.34625 368.59625 359.2025  356.99875 371.15625] -> 392.7825\n",
            "[326.2325  351.34625 368.59625 359.2025  356.99875 371.15625 392.7825 ] -> 396.34625\n",
            "[351.34625 368.59625 359.2025  356.99875 371.15625 392.7825  396.34625] -> 392.56625\n",
            "[368.59625 359.2025  356.99875 371.15625 392.7825  396.34625 392.56625] -> 376.26874\n",
            "[359.2025  356.99875 371.15625 392.7825  396.34625 392.56625 376.26874] -> 378.675\n",
            "[356.99875 371.15625 392.7825  396.34625 392.56625 376.26874 378.675  ] -> 390.95874\n",
            "[371.15625 392.7825  396.34625 392.56625 376.26874 378.675   390.95874] -> 381.72375\n",
            "[392.7825  396.34625 392.56625 376.26874 378.675   390.95874 381.72375] -> 380.0575\n",
            "[396.34625 392.56625 376.26874 378.675   390.95874 381.72375 380.0575 ] -> 382.93875\n",
            "[392.56625 376.26874 378.675   390.95874 381.72375 380.0575  382.93875] -> 376.59\n",
            "[376.26874 378.675   390.95874 381.72375 380.0575  382.93875 376.59   ] -> 351.7825\n",
            "[378.675   390.95874 381.72375 380.0575  382.93875 376.59    351.7825 ] -> 353.6325\n",
            "[390.95874 381.72375 380.0575  382.93875 376.59    351.7825  353.6325 ] -> 345.1925\n"
          ],
          "name": "stdout"
        }
      ]
    },
    {
      "cell_type": "code",
      "metadata": {
        "colab": {
          "base_uri": "https://localhost:8080/"
        },
        "id": "pRSENrVWiLkm",
        "outputId": "b25ba480-bcc7-445b-e4bc-1fe7171a4a88"
      },
      "source": [
        "btc_price[:24]"
      ],
      "execution_count": 40,
      "outputs": [
        {
          "output_type": "execute_result",
          "data": {
            "text/plain": [
              "[123.65499,\n",
              " 125.455,\n",
              " 108.58483,\n",
              " 118.67466,\n",
              " 121.33866,\n",
              " 120.65533,\n",
              " 121.795,\n",
              " 123.033,\n",
              " 124.049,\n",
              " 125.96116,\n",
              " 125.27966,\n",
              " 125.9275,\n",
              " 126.38333,\n",
              " 135.24199,\n",
              " 133.20333,\n",
              " 142.76333,\n",
              " 137.92333,\n",
              " 142.95166,\n",
              " 152.55183,\n",
              " 160.33883,\n",
              " 164.31499,\n",
              " 177.63333,\n",
              " 188.29716,\n",
              " 200.70166]"
            ]
          },
          "metadata": {
            "tags": []
          },
          "execution_count": 40
        }
      ]
    },
    {
      "cell_type": "markdown",
      "metadata": {
        "id": "mIKcdNjZO_nm"
      },
      "source": [
        "#### Split data (all_windows and all_labels) to train and test sets"
      ]
    },
    {
      "cell_type": "code",
      "metadata": {
        "id": "Pf0KVFePLjou"
      },
      "source": [
        "# Make the train/test splits\n",
        "def make_train_test_splits(windows, labels, test_split=0.2):\n",
        "  \"\"\"\n",
        "  Splits matching pairs of windows and labels into train and test splits.\n",
        "  \"\"\"\n",
        "  split_size = int(len(windows) * (1-test_split)) # this will default to 80% train/20% test\n",
        "  train_windows = windows[:split_size]\n",
        "  train_labels = labels[:split_size]\n",
        "  test_windows = windows[split_size:]\n",
        "  test_labels = labels[split_size:]\n",
        "  return train_windows, test_windows, train_labels, test_labels"
      ],
      "execution_count": 41,
      "outputs": []
    },
    {
      "cell_type": "code",
      "metadata": {
        "id": "ab9FkVSiPYCS"
      },
      "source": [
        "train_windows, test_windows, train_labels, test_labels = make_train_test_splits(all_windows, all_labels, test_split=0.2)"
      ],
      "execution_count": 42,
      "outputs": []
    },
    {
      "cell_type": "code",
      "metadata": {
        "colab": {
          "base_uri": "https://localhost:8080/"
        },
        "id": "g-RPrwCDPg88",
        "outputId": "5094a0a8-2743-48ab-f729-9608b7a58923"
      },
      "source": [
        "len(train_windows), len(test_windows), len(train_labels), len(test_labels)"
      ],
      "execution_count": 43,
      "outputs": [
        {
          "output_type": "execute_result",
          "data": {
            "text/plain": [
              "(2224, 556, 2224, 556)"
            ]
          },
          "metadata": {
            "tags": []
          },
          "execution_count": 43
        }
      ]
    },
    {
      "cell_type": "code",
      "metadata": {
        "colab": {
          "base_uri": "https://localhost:8080/"
        },
        "id": "cT4IIGg2PoDD",
        "outputId": "af473a1c-4bb8-4452-bb4f-0f64af0e7b4b"
      },
      "source": [
        "train_windows.shape, train_labels.shape"
      ],
      "execution_count": 44,
      "outputs": [
        {
          "output_type": "execute_result",
          "data": {
            "text/plain": [
              "((2224, 7), (2224, 1))"
            ]
          },
          "metadata": {
            "tags": []
          },
          "execution_count": 44
        }
      ]
    },
    {
      "cell_type": "markdown",
      "metadata": {
        "id": "AS510knyR7ob"
      },
      "source": [
        "#### Create model checkpoint callback"
      ]
    },
    {
      "cell_type": "code",
      "metadata": {
        "id": "KgZ06b9APu5G"
      },
      "source": [
        "import os\n",
        "def checkpoint(model_name, save_path = 'time_series'):\n",
        "  return tf.keras.callbacks.ModelCheckpoint(filepath = os.path.join(save_path, model_name), \n",
        "                                            monitor='val_loss', verbose=0, \n",
        "                                            save_best_only=True)"
      ],
      "execution_count": 45,
      "outputs": []
    },
    {
      "cell_type": "markdown",
      "metadata": {
        "id": "vQLSWm1JTggZ"
      },
      "source": [
        "### 1 Model Dense\n",
        "- A single dense layer with 128 hidden units and ReLU (rectified linear unit) activation\n",
        "- An output layer with linear activation (or no activation)\n",
        "- Adam optimizer and MAE loss function\n",
        "- Batch size of 128\n",
        "- 100 epochs\n"
      ]
    },
    {
      "cell_type": "markdown",
      "metadata": {
        "id": "ZgpCAZa4o_Ww"
      },
      "source": [
        "#### Build and compile"
      ]
    },
    {
      "cell_type": "code",
      "metadata": {
        "id": "xQzwzzyObsmV"
      },
      "source": [
        "K.clear_session()"
      ],
      "execution_count": 46,
      "outputs": []
    },
    {
      "cell_type": "code",
      "metadata": {
        "id": "0egbeuIJxWeM"
      },
      "source": [
        "tf.random.set_seed(42)"
      ],
      "execution_count": 47,
      "outputs": []
    },
    {
      "cell_type": "code",
      "metadata": {
        "id": "NMX6OLAETGYp"
      },
      "source": [
        "model_1 = Sequential([Dense(128, activation='relu'),\n",
        "                      Dense(HORIZON, activation = 'linear')],\n",
        "                      name = 'Model_1_Dense')"
      ],
      "execution_count": 48,
      "outputs": []
    },
    {
      "cell_type": "code",
      "metadata": {
        "id": "sJp148zAUoG0"
      },
      "source": [
        "model_1.compile(optimizer='adam', loss = 'mae', metrics = 'mae')"
      ],
      "execution_count": 49,
      "outputs": []
    },
    {
      "cell_type": "markdown",
      "metadata": {
        "id": "Ch_0g-4DpDBT"
      },
      "source": [
        "#### Fit model and plot loss curves"
      ]
    },
    {
      "cell_type": "code",
      "metadata": {
        "colab": {
          "base_uri": "https://localhost:8080/"
        },
        "id": "b9LFu42YU0Kn",
        "outputId": "df21e9dd-3e72-4cce-ee2a-688fdfa78307"
      },
      "source": [
        "history_1 = model_1.fit(train_windows, train_labels, epochs = 100,\n",
        "                        verbose = 1,\n",
        "                        validation_data = (test_windows, test_labels),\n",
        "                        batch_size = 128,\n",
        "                        callbacks = checkpoint(model_1.name))"
      ],
      "execution_count": 50,
      "outputs": [
        {
          "output_type": "stream",
          "text": [
            "Epoch 1/100\n",
            "18/18 [==============================] - 3s 12ms/step - loss: 780.3455 - mae: 780.3455 - val_loss: 2279.6526 - val_mae: 2279.6526\n",
            "INFO:tensorflow:Assets written to: time_series/Model_1_Dense/assets\n",
            "Epoch 2/100\n",
            "18/18 [==============================] - 0s 6ms/step - loss: 247.6756 - mae: 247.6756 - val_loss: 1005.9991 - val_mae: 1005.9991\n",
            "INFO:tensorflow:Assets written to: time_series/Model_1_Dense/assets\n",
            "Epoch 3/100\n",
            "18/18 [==============================] - 0s 4ms/step - loss: 188.4116 - mae: 188.4116 - val_loss: 923.2862 - val_mae: 923.2862\n",
            "INFO:tensorflow:Assets written to: time_series/Model_1_Dense/assets\n",
            "Epoch 4/100\n",
            "18/18 [==============================] - 0s 5ms/step - loss: 169.4340 - mae: 169.4340 - val_loss: 900.5872 - val_mae: 900.5872\n",
            "INFO:tensorflow:Assets written to: time_series/Model_1_Dense/assets\n",
            "Epoch 5/100\n",
            "18/18 [==============================] - 0s 4ms/step - loss: 165.0895 - mae: 165.0895 - val_loss: 895.2238 - val_mae: 895.2238\n",
            "INFO:tensorflow:Assets written to: time_series/Model_1_Dense/assets\n",
            "Epoch 6/100\n",
            "18/18 [==============================] - 0s 4ms/step - loss: 158.5210 - mae: 158.5210 - val_loss: 855.1982 - val_mae: 855.1982\n",
            "INFO:tensorflow:Assets written to: time_series/Model_1_Dense/assets\n",
            "Epoch 7/100\n",
            "18/18 [==============================] - 0s 6ms/step - loss: 151.3566 - mae: 151.3566 - val_loss: 840.9168 - val_mae: 840.9168\n",
            "INFO:tensorflow:Assets written to: time_series/Model_1_Dense/assets\n",
            "Epoch 8/100\n",
            "18/18 [==============================] - 0s 4ms/step - loss: 145.2560 - mae: 145.2560 - val_loss: 803.5956 - val_mae: 803.5956\n",
            "INFO:tensorflow:Assets written to: time_series/Model_1_Dense/assets\n",
            "Epoch 9/100\n",
            "18/18 [==============================] - 0s 4ms/step - loss: 144.3546 - mae: 144.3546 - val_loss: 799.5455 - val_mae: 799.5455\n",
            "INFO:tensorflow:Assets written to: time_series/Model_1_Dense/assets\n",
            "Epoch 10/100\n",
            "18/18 [==============================] - 0s 4ms/step - loss: 141.2943 - mae: 141.2943 - val_loss: 763.5010 - val_mae: 763.5010\n",
            "INFO:tensorflow:Assets written to: time_series/Model_1_Dense/assets\n",
            "Epoch 11/100\n",
            "18/18 [==============================] - 0s 4ms/step - loss: 135.6595 - mae: 135.6595 - val_loss: 771.3357 - val_mae: 771.3357\n",
            "Epoch 12/100\n",
            "18/18 [==============================] - 0s 4ms/step - loss: 134.1700 - mae: 134.1700 - val_loss: 782.8079 - val_mae: 782.8079\n",
            "Epoch 13/100\n",
            "18/18 [==============================] - 0s 4ms/step - loss: 134.6015 - mae: 134.6015 - val_loss: 784.4449 - val_mae: 784.4449\n",
            "Epoch 14/100\n",
            "18/18 [==============================] - 0s 5ms/step - loss: 130.6127 - mae: 130.6127 - val_loss: 751.3234 - val_mae: 751.3234\n",
            "INFO:tensorflow:Assets written to: time_series/Model_1_Dense/assets\n",
            "Epoch 15/100\n",
            "18/18 [==============================] - 0s 4ms/step - loss: 128.8347 - mae: 128.8347 - val_loss: 696.5757 - val_mae: 696.5757\n",
            "INFO:tensorflow:Assets written to: time_series/Model_1_Dense/assets\n",
            "Epoch 16/100\n",
            "18/18 [==============================] - 0s 4ms/step - loss: 124.7739 - mae: 124.7739 - val_loss: 702.4698 - val_mae: 702.4698\n",
            "Epoch 17/100\n",
            "18/18 [==============================] - 0s 4ms/step - loss: 123.4474 - mae: 123.4474 - val_loss: 704.9241 - val_mae: 704.9241\n",
            "Epoch 18/100\n",
            "18/18 [==============================] - 0s 4ms/step - loss: 122.2105 - mae: 122.2105 - val_loss: 667.9725 - val_mae: 667.9725\n",
            "INFO:tensorflow:Assets written to: time_series/Model_1_Dense/assets\n",
            "Epoch 19/100\n",
            "18/18 [==============================] - 0s 4ms/step - loss: 121.7263 - mae: 121.7263 - val_loss: 718.8797 - val_mae: 718.8797\n",
            "Epoch 20/100\n",
            "18/18 [==============================] - 0s 4ms/step - loss: 119.2420 - mae: 119.2420 - val_loss: 657.0667 - val_mae: 657.0667\n",
            "INFO:tensorflow:Assets written to: time_series/Model_1_Dense/assets\n",
            "Epoch 21/100\n",
            "18/18 [==============================] - 0s 4ms/step - loss: 121.2275 - mae: 121.2275 - val_loss: 637.0330 - val_mae: 637.0330\n",
            "INFO:tensorflow:Assets written to: time_series/Model_1_Dense/assets\n",
            "Epoch 22/100\n",
            "18/18 [==============================] - 0s 5ms/step - loss: 119.9544 - mae: 119.9544 - val_loss: 671.2490 - val_mae: 671.2490\n",
            "Epoch 23/100\n",
            "18/18 [==============================] - 0s 4ms/step - loss: 121.9248 - mae: 121.9248 - val_loss: 633.3593 - val_mae: 633.3593\n",
            "INFO:tensorflow:Assets written to: time_series/Model_1_Dense/assets\n",
            "Epoch 24/100\n",
            "18/18 [==============================] - 0s 4ms/step - loss: 116.3666 - mae: 116.3666 - val_loss: 624.4852 - val_mae: 624.4852\n",
            "INFO:tensorflow:Assets written to: time_series/Model_1_Dense/assets\n",
            "Epoch 25/100\n",
            "18/18 [==============================] - 0s 5ms/step - loss: 114.6816 - mae: 114.6816 - val_loss: 619.7571 - val_mae: 619.7571\n",
            "INFO:tensorflow:Assets written to: time_series/Model_1_Dense/assets\n",
            "Epoch 26/100\n",
            "18/18 [==============================] - 0s 4ms/step - loss: 116.4455 - mae: 116.4455 - val_loss: 615.6364 - val_mae: 615.6364\n",
            "INFO:tensorflow:Assets written to: time_series/Model_1_Dense/assets\n",
            "Epoch 27/100\n",
            "18/18 [==============================] - 0s 4ms/step - loss: 116.5868 - mae: 116.5868 - val_loss: 615.9631 - val_mae: 615.9631\n",
            "Epoch 28/100\n",
            "18/18 [==============================] - 0s 4ms/step - loss: 113.4691 - mae: 113.4691 - val_loss: 608.0920 - val_mae: 608.0920\n",
            "INFO:tensorflow:Assets written to: time_series/Model_1_Dense/assets\n",
            "Epoch 29/100\n",
            "18/18 [==============================] - 0s 5ms/step - loss: 113.7598 - mae: 113.7598 - val_loss: 621.9306 - val_mae: 621.9306\n",
            "Epoch 30/100\n",
            "18/18 [==============================] - 0s 4ms/step - loss: 116.8613 - mae: 116.8613 - val_loss: 604.4056 - val_mae: 604.4056\n",
            "INFO:tensorflow:Assets written to: time_series/Model_1_Dense/assets\n",
            "Epoch 31/100\n",
            "18/18 [==============================] - 0s 4ms/step - loss: 111.9375 - mae: 111.9375 - val_loss: 609.3882 - val_mae: 609.3882\n",
            "Epoch 32/100\n",
            "18/18 [==============================] - 0s 5ms/step - loss: 112.4175 - mae: 112.4175 - val_loss: 603.0588 - val_mae: 603.0588\n",
            "INFO:tensorflow:Assets written to: time_series/Model_1_Dense/assets\n",
            "Epoch 33/100\n",
            "18/18 [==============================] - 0s 4ms/step - loss: 112.6697 - mae: 112.6697 - val_loss: 645.6975 - val_mae: 645.6975\n",
            "Epoch 34/100\n",
            "18/18 [==============================] - 0s 4ms/step - loss: 111.9867 - mae: 111.9867 - val_loss: 604.7632 - val_mae: 604.7632\n",
            "Epoch 35/100\n",
            "18/18 [==============================] - 0s 4ms/step - loss: 110.9451 - mae: 110.9451 - val_loss: 593.4648 - val_mae: 593.4648\n",
            "INFO:tensorflow:Assets written to: time_series/Model_1_Dense/assets\n",
            "Epoch 36/100\n",
            "18/18 [==============================] - 0s 4ms/step - loss: 114.4816 - mae: 114.4816 - val_loss: 608.0073 - val_mae: 608.0073\n",
            "Epoch 37/100\n",
            "18/18 [==============================] - 0s 5ms/step - loss: 110.2017 - mae: 110.2017 - val_loss: 597.2309 - val_mae: 597.2309\n",
            "Epoch 38/100\n",
            "18/18 [==============================] - 0s 5ms/step - loss: 112.2372 - mae: 112.2372 - val_loss: 637.9797 - val_mae: 637.9797\n",
            "Epoch 39/100\n",
            "18/18 [==============================] - 0s 4ms/step - loss: 115.1289 - mae: 115.1289 - val_loss: 587.4679 - val_mae: 587.4679\n",
            "INFO:tensorflow:Assets written to: time_series/Model_1_Dense/assets\n",
            "Epoch 40/100\n",
            "18/18 [==============================] - 0s 4ms/step - loss: 110.0854 - mae: 110.0854 - val_loss: 592.7117 - val_mae: 592.7117\n",
            "Epoch 41/100\n",
            "18/18 [==============================] - 0s 4ms/step - loss: 110.6343 - mae: 110.6343 - val_loss: 593.8997 - val_mae: 593.8997\n",
            "Epoch 42/100\n",
            "18/18 [==============================] - 0s 4ms/step - loss: 113.5762 - mae: 113.5762 - val_loss: 636.3674 - val_mae: 636.3674\n",
            "Epoch 43/100\n",
            "18/18 [==============================] - 0s 4ms/step - loss: 116.2286 - mae: 116.2286 - val_loss: 662.9264 - val_mae: 662.9264\n",
            "Epoch 44/100\n",
            "18/18 [==============================] - 0s 5ms/step - loss: 120.0192 - mae: 120.0192 - val_loss: 635.6360 - val_mae: 635.6360\n",
            "Epoch 45/100\n",
            "18/18 [==============================] - 0s 4ms/step - loss: 110.9675 - mae: 110.9675 - val_loss: 601.9926 - val_mae: 601.9926\n",
            "Epoch 46/100\n",
            "18/18 [==============================] - 0s 5ms/step - loss: 111.6012 - mae: 111.6012 - val_loss: 593.3531 - val_mae: 593.3531\n",
            "Epoch 47/100\n",
            "18/18 [==============================] - 0s 4ms/step - loss: 109.6161 - mae: 109.6161 - val_loss: 637.0014 - val_mae: 637.0014\n",
            "Epoch 48/100\n",
            "18/18 [==============================] - 0s 4ms/step - loss: 109.1368 - mae: 109.1368 - val_loss: 598.4199 - val_mae: 598.4199\n",
            "Epoch 49/100\n",
            "18/18 [==============================] - 0s 4ms/step - loss: 112.4355 - mae: 112.4355 - val_loss: 579.7040 - val_mae: 579.7040\n",
            "INFO:tensorflow:Assets written to: time_series/Model_1_Dense/assets\n",
            "Epoch 50/100\n",
            "18/18 [==============================] - 0s 5ms/step - loss: 110.2108 - mae: 110.2108 - val_loss: 639.2326 - val_mae: 639.2326\n",
            "Epoch 51/100\n",
            "18/18 [==============================] - 0s 4ms/step - loss: 111.0958 - mae: 111.0958 - val_loss: 597.3575 - val_mae: 597.3575\n",
            "Epoch 52/100\n",
            "18/18 [==============================] - 0s 4ms/step - loss: 110.7351 - mae: 110.7351 - val_loss: 580.7227 - val_mae: 580.7227\n",
            "Epoch 53/100\n",
            "18/18 [==============================] - 0s 4ms/step - loss: 111.1785 - mae: 111.1785 - val_loss: 648.3588 - val_mae: 648.3588\n",
            "Epoch 54/100\n",
            "18/18 [==============================] - 0s 5ms/step - loss: 114.0832 - mae: 114.0832 - val_loss: 593.2007 - val_mae: 593.2007\n",
            "Epoch 55/100\n",
            "18/18 [==============================] - 0s 5ms/step - loss: 110.4910 - mae: 110.4910 - val_loss: 579.5065 - val_mae: 579.5065\n",
            "INFO:tensorflow:Assets written to: time_series/Model_1_Dense/assets\n",
            "Epoch 56/100\n",
            "18/18 [==============================] - 0s 4ms/step - loss: 108.0489 - mae: 108.0489 - val_loss: 807.3851 - val_mae: 807.3851\n",
            "Epoch 57/100\n",
            "18/18 [==============================] - 0s 4ms/step - loss: 125.0614 - mae: 125.0614 - val_loss: 674.1654 - val_mae: 674.1654\n",
            "Epoch 58/100\n",
            "18/18 [==============================] - 0s 4ms/step - loss: 115.4340 - mae: 115.4340 - val_loss: 582.2698 - val_mae: 582.2698\n",
            "Epoch 59/100\n",
            "18/18 [==============================] - 0s 4ms/step - loss: 110.0881 - mae: 110.0881 - val_loss: 606.7637 - val_mae: 606.7637\n",
            "Epoch 60/100\n",
            "18/18 [==============================] - 0s 4ms/step - loss: 108.7156 - mae: 108.7156 - val_loss: 602.3102 - val_mae: 602.3102\n",
            "Epoch 61/100\n",
            "18/18 [==============================] - 0s 5ms/step - loss: 108.1525 - mae: 108.1525 - val_loss: 573.9990 - val_mae: 573.9990\n",
            "INFO:tensorflow:Assets written to: time_series/Model_1_Dense/assets\n",
            "Epoch 62/100\n",
            "18/18 [==============================] - 0s 5ms/step - loss: 107.3727 - mae: 107.3727 - val_loss: 581.7012 - val_mae: 581.7012\n",
            "Epoch 63/100\n",
            "18/18 [==============================] - 0s 4ms/step - loss: 110.7667 - mae: 110.7667 - val_loss: 637.5252 - val_mae: 637.5252\n",
            "Epoch 64/100\n",
            "18/18 [==============================] - 0s 4ms/step - loss: 110.1539 - mae: 110.1539 - val_loss: 586.6601 - val_mae: 586.6601\n",
            "Epoch 65/100\n",
            "18/18 [==============================] - 0s 5ms/step - loss: 108.2325 - mae: 108.2325 - val_loss: 573.5620 - val_mae: 573.5620\n",
            "INFO:tensorflow:Assets written to: time_series/Model_1_Dense/assets\n",
            "Epoch 66/100\n",
            "18/18 [==============================] - 0s 5ms/step - loss: 108.6825 - mae: 108.6825 - val_loss: 572.2206 - val_mae: 572.2206\n",
            "INFO:tensorflow:Assets written to: time_series/Model_1_Dense/assets\n",
            "Epoch 67/100\n",
            "18/18 [==============================] - 0s 4ms/step - loss: 106.6371 - mae: 106.6371 - val_loss: 646.6349 - val_mae: 646.6349\n",
            "Epoch 68/100\n",
            "18/18 [==============================] - 0s 4ms/step - loss: 114.1603 - mae: 114.1603 - val_loss: 681.8561 - val_mae: 681.8561\n",
            "Epoch 69/100\n",
            "18/18 [==============================] - 0s 5ms/step - loss: 124.5514 - mae: 124.5514 - val_loss: 655.9885 - val_mae: 655.9885\n",
            "Epoch 70/100\n",
            "18/18 [==============================] - 0s 5ms/step - loss: 125.0235 - mae: 125.0235 - val_loss: 601.0032 - val_mae: 601.0032\n",
            "Epoch 71/100\n",
            "18/18 [==============================] - 0s 4ms/step - loss: 110.3652 - mae: 110.3652 - val_loss: 595.3962 - val_mae: 595.3962\n",
            "Epoch 72/100\n",
            "18/18 [==============================] - 0s 4ms/step - loss: 107.9285 - mae: 107.9285 - val_loss: 573.7085 - val_mae: 573.7085\n",
            "Epoch 73/100\n",
            "18/18 [==============================] - 0s 4ms/step - loss: 109.5085 - mae: 109.5085 - val_loss: 580.4180 - val_mae: 580.4180\n",
            "Epoch 74/100\n",
            "18/18 [==============================] - 0s 4ms/step - loss: 108.7380 - mae: 108.7380 - val_loss: 576.1211 - val_mae: 576.1211\n",
            "Epoch 75/100\n",
            "18/18 [==============================] - 0s 4ms/step - loss: 107.9404 - mae: 107.9404 - val_loss: 591.1477 - val_mae: 591.1477\n",
            "Epoch 76/100\n",
            "18/18 [==============================] - 0s 5ms/step - loss: 109.4232 - mae: 109.4232 - val_loss: 597.8605 - val_mae: 597.8605\n",
            "Epoch 77/100\n",
            "18/18 [==============================] - 0s 4ms/step - loss: 107.5879 - mae: 107.5879 - val_loss: 571.9299 - val_mae: 571.9299\n",
            "INFO:tensorflow:Assets written to: time_series/Model_1_Dense/assets\n",
            "Epoch 78/100\n",
            "18/18 [==============================] - 0s 4ms/step - loss: 108.1598 - mae: 108.1598 - val_loss: 575.2383 - val_mae: 575.2383\n",
            "Epoch 79/100\n",
            "18/18 [==============================] - 0s 4ms/step - loss: 107.9175 - mae: 107.9175 - val_loss: 617.3071 - val_mae: 617.3071\n",
            "Epoch 80/100\n",
            "18/18 [==============================] - 0s 5ms/step - loss: 108.9510 - mae: 108.9510 - val_loss: 583.4847 - val_mae: 583.4847\n",
            "Epoch 81/100\n",
            "18/18 [==============================] - 0s 4ms/step - loss: 106.0505 - mae: 106.0505 - val_loss: 570.0802 - val_mae: 570.0802\n",
            "INFO:tensorflow:Assets written to: time_series/Model_1_Dense/assets\n",
            "Epoch 82/100\n",
            "18/18 [==============================] - 0s 4ms/step - loss: 115.6827 - mae: 115.6827 - val_loss: 575.7382 - val_mae: 575.7382\n",
            "Epoch 83/100\n",
            "18/18 [==============================] - 0s 4ms/step - loss: 110.9379 - mae: 110.9379 - val_loss: 659.6570 - val_mae: 659.6570\n",
            "Epoch 84/100\n",
            "18/18 [==============================] - 0s 5ms/step - loss: 111.4836 - mae: 111.4836 - val_loss: 570.1959 - val_mae: 570.1959\n",
            "Epoch 85/100\n",
            "18/18 [==============================] - 0s 5ms/step - loss: 107.5948 - mae: 107.5948 - val_loss: 601.5945 - val_mae: 601.5945\n",
            "Epoch 86/100\n",
            "18/18 [==============================] - 0s 5ms/step - loss: 108.9426 - mae: 108.9426 - val_loss: 592.8107 - val_mae: 592.8107\n",
            "Epoch 87/100\n",
            "18/18 [==============================] - 0s 5ms/step - loss: 105.7717 - mae: 105.7717 - val_loss: 603.6169 - val_mae: 603.6169\n",
            "Epoch 88/100\n",
            "18/18 [==============================] - 0s 4ms/step - loss: 107.9217 - mae: 107.9217 - val_loss: 569.0500 - val_mae: 569.0500\n",
            "INFO:tensorflow:Assets written to: time_series/Model_1_Dense/assets\n",
            "Epoch 89/100\n",
            "18/18 [==============================] - 0s 5ms/step - loss: 106.0344 - mae: 106.0344 - val_loss: 568.9512 - val_mae: 568.9512\n",
            "INFO:tensorflow:Assets written to: time_series/Model_1_Dense/assets\n",
            "Epoch 90/100\n",
            "18/18 [==============================] - 0s 4ms/step - loss: 105.4977 - mae: 105.4977 - val_loss: 581.7681 - val_mae: 581.7681\n",
            "Epoch 91/100\n",
            "18/18 [==============================] - 0s 4ms/step - loss: 108.8468 - mae: 108.8468 - val_loss: 573.6023 - val_mae: 573.6023\n",
            "Epoch 92/100\n",
            "18/18 [==============================] - 0s 4ms/step - loss: 110.8884 - mae: 110.8884 - val_loss: 576.8247 - val_mae: 576.8247\n",
            "Epoch 93/100\n",
            "18/18 [==============================] - 0s 4ms/step - loss: 113.8781 - mae: 113.8781 - val_loss: 608.3018 - val_mae: 608.3018\n",
            "Epoch 94/100\n",
            "18/18 [==============================] - 0s 4ms/step - loss: 110.5763 - mae: 110.5763 - val_loss: 601.6047 - val_mae: 601.6047\n",
            "Epoch 95/100\n",
            "18/18 [==============================] - 0s 6ms/step - loss: 106.5906 - mae: 106.5906 - val_loss: 570.3652 - val_mae: 570.3652\n",
            "Epoch 96/100\n",
            "18/18 [==============================] - 0s 4ms/step - loss: 116.9515 - mae: 116.9515 - val_loss: 615.2581 - val_mae: 615.2581\n",
            "Epoch 97/100\n",
            "18/18 [==============================] - 0s 5ms/step - loss: 108.0739 - mae: 108.0739 - val_loss: 580.3073 - val_mae: 580.3073\n",
            "Epoch 98/100\n",
            "18/18 [==============================] - 0s 5ms/step - loss: 108.7102 - mae: 108.7102 - val_loss: 586.6512 - val_mae: 586.6512\n",
            "Epoch 99/100\n",
            "18/18 [==============================] - 0s 5ms/step - loss: 109.0488 - mae: 109.0488 - val_loss: 570.0629 - val_mae: 570.0629\n",
            "Epoch 100/100\n",
            "18/18 [==============================] - 0s 4ms/step - loss: 106.1845 - mae: 106.1845 - val_loss: 585.9763 - val_mae: 585.9763\n"
          ],
          "name": "stdout"
        }
      ]
    },
    {
      "cell_type": "code",
      "metadata": {
        "id": "p1BNjIGXeDTa"
      },
      "source": [
        "def plot_loss_curves(history):\n",
        "    \"\"\"\n",
        "    Args: TensorFlow model history object\n",
        "    Returns: separate loss curves for training and validation metrics.\n",
        "    \"\"\"\n",
        "    train_loss = history.history['mae']\n",
        "    val_loss = history.history['val_mae']\n",
        "    epochs = range(len(history.history['mae']))\n",
        "\n",
        "    #Plot Loss\n",
        "    plt.plot(epochs, train_loss, label = 'Training Loss')\n",
        "    plt.plot(epochs, val_loss, label = 'Validation Loss')\n",
        "    plt.title('Loss')\n",
        "    plt.xlabel('epochs')\n",
        "    plt.legend()"
      ],
      "execution_count": 51,
      "outputs": []
    },
    {
      "cell_type": "code",
      "metadata": {
        "colab": {
          "base_uri": "https://localhost:8080/",
          "height": 315
        },
        "id": "-IL0OlrMdlri",
        "outputId": "a302e6fd-78a3-4d5e-a87c-11bd8396cd50"
      },
      "source": [
        "plot_loss_curves(history_1)"
      ],
      "execution_count": 52,
      "outputs": [
        {
          "output_type": "display_data",
          "data": {
            "image/png": "[encoded data removed]",
            "text/plain": [
              "<Figure size 432x288 with 1 Axes>"
            ]
          },
          "metadata": {
            "tags": [],
            "needs_background": "light"
          }
        }
      ]
    },
    {
      "cell_type": "markdown",
      "metadata": {
        "id": "oCQXVs2qmofO"
      },
      "source": [
        "#### 1_2 Model: same model with dataset"
      ]
    },
    {
      "cell_type": "code",
      "metadata": {
        "id": "XeoA-G4cxZ2-"
      },
      "source": [
        "tf.random.set_seed(42)"
      ],
      "execution_count": 53,
      "outputs": []
    },
    {
      "cell_type": "code",
      "metadata": {
        "id": "7kmbduKqcDPk"
      },
      "source": [
        "model_1_2 = Sequential([InputLayer(input_shape = (7,)),\n",
        "                        Dense(128, activation='relu'),\n",
        "                        Dense(HORIZON, activation = 'linear')],\n",
        "                        name = 'Model_1_2_Dense')"
      ],
      "execution_count": 54,
      "outputs": []
    },
    {
      "cell_type": "code",
      "metadata": {
        "id": "4jx-1d3EcDPl"
      },
      "source": [
        "model_1_2.compile(optimizer='adam', loss = 'mae', metrics = 'mae')"
      ],
      "execution_count": 55,
      "outputs": []
    },
    {
      "cell_type": "code",
      "metadata": {
        "colab": {
          "base_uri": "https://localhost:8080/"
        },
        "id": "6H55huZmVlr6",
        "outputId": "6f0578ea-fbf0-4a23-ce0d-50e4d1775a6e"
      },
      "source": [
        "history_1_2 = model_1_2.fit(ds_train, epochs = 100,\n",
        "                            validation_data = ds_test,\n",
        "                            # batch_size = 128, #It doesn't work here, we had to batch our data set when we created it. Very slow model\n",
        "                            callbacks = checkpoint(model_1_2.name))"
      ],
      "execution_count": 56,
      "outputs": [
        {
          "output_type": "stream",
          "text": [
            "Epoch 1/100\n",
            "18/18 [==============================] - 1s 35ms/step - loss: 308.7335 - mae: 308.7335 - val_loss: 1356.4836 - val_mae: 1356.4836\n",
            "INFO:tensorflow:Assets written to: time_series/Model_1_2_Dense/assets\n",
            "Epoch 2/100\n",
            "18/18 [==============================] - 1s 32ms/step - loss: 192.7413 - mae: 192.7413 - val_loss: 1015.8676 - val_mae: 1015.8676\n",
            "INFO:tensorflow:Assets written to: time_series/Model_1_2_Dense/assets\n",
            "Epoch 3/100\n",
            "18/18 [==============================] - 1s 31ms/step - loss: 220.3392 - mae: 220.3392 - val_loss: 913.5549 - val_mae: 913.5549\n",
            "INFO:tensorflow:Assets written to: time_series/Model_1_2_Dense/assets\n",
            "Epoch 4/100\n",
            "18/18 [==============================] - 1s 29ms/step - loss: 202.0932 - mae: 202.0932 - val_loss: 912.7422 - val_mae: 912.7422\n",
            "INFO:tensorflow:Assets written to: time_series/Model_1_2_Dense/assets\n",
            "Epoch 5/100\n",
            "18/18 [==============================] - 1s 32ms/step - loss: 177.8976 - mae: 177.8976 - val_loss: 867.8077 - val_mae: 867.8077\n",
            "INFO:tensorflow:Assets written to: time_series/Model_1_2_Dense/assets\n",
            "Epoch 6/100\n",
            "18/18 [==============================] - 1s 31ms/step - loss: 189.9713 - mae: 189.9713 - val_loss: 840.3298 - val_mae: 840.3298\n",
            "INFO:tensorflow:Assets written to: time_series/Model_1_2_Dense/assets\n",
            "Epoch 7/100\n",
            "18/18 [==============================] - 1s 31ms/step - loss: 192.7964 - mae: 192.7964 - val_loss: 834.9303 - val_mae: 834.9303\n",
            "INFO:tensorflow:Assets written to: time_series/Model_1_2_Dense/assets\n",
            "Epoch 8/100\n",
            "18/18 [==============================] - 1s 31ms/step - loss: 190.3268 - mae: 190.3268 - val_loss: 830.4561 - val_mae: 830.4561\n",
            "INFO:tensorflow:Assets written to: time_series/Model_1_2_Dense/assets\n",
            "Epoch 9/100\n",
            "18/18 [==============================] - 1s 30ms/step - loss: 186.7236 - mae: 186.7236 - val_loss: 818.8098 - val_mae: 818.8098\n",
            "INFO:tensorflow:Assets written to: time_series/Model_1_2_Dense/assets\n",
            "Epoch 10/100\n",
            "18/18 [==============================] - 1s 32ms/step - loss: 183.8573 - mae: 183.8573 - val_loss: 806.6332 - val_mae: 806.6332\n",
            "INFO:tensorflow:Assets written to: time_series/Model_1_2_Dense/assets\n",
            "Epoch 11/100\n",
            "18/18 [==============================] - 1s 31ms/step - loss: 185.4992 - mae: 185.4992 - val_loss: 807.8950 - val_mae: 807.8950\n",
            "Epoch 12/100\n",
            "18/18 [==============================] - 1s 31ms/step - loss: 187.6597 - mae: 187.6597 - val_loss: 830.9536 - val_mae: 830.9536\n",
            "Epoch 13/100\n",
            "18/18 [==============================] - 1s 32ms/step - loss: 171.0413 - mae: 171.0413 - val_loss: 783.0908 - val_mae: 783.0908\n",
            "INFO:tensorflow:Assets written to: time_series/Model_1_2_Dense/assets\n",
            "Epoch 14/100\n",
            "18/18 [==============================] - 1s 31ms/step - loss: 184.2416 - mae: 184.2416 - val_loss: 796.0128 - val_mae: 796.0128\n",
            "Epoch 15/100\n",
            "18/18 [==============================] - 1s 30ms/step - loss: 177.8333 - mae: 177.8333 - val_loss: 776.1385 - val_mae: 776.1385\n",
            "INFO:tensorflow:Assets written to: time_series/Model_1_2_Dense/assets\n",
            "Epoch 16/100\n",
            "18/18 [==============================] - 1s 30ms/step - loss: 182.6911 - mae: 182.6911 - val_loss: 807.1056 - val_mae: 807.1056\n",
            "Epoch 17/100\n",
            "18/18 [==============================] - 1s 31ms/step - loss: 166.2179 - mae: 166.2179 - val_loss: 757.7651 - val_mae: 757.7651\n",
            "INFO:tensorflow:Assets written to: time_series/Model_1_2_Dense/assets\n",
            "Epoch 18/100\n",
            "18/18 [==============================] - 1s 31ms/step - loss: 182.1657 - mae: 182.1657 - val_loss: 799.3874 - val_mae: 799.3874\n",
            "Epoch 19/100\n",
            "18/18 [==============================] - 1s 30ms/step - loss: 165.3680 - mae: 165.3680 - val_loss: 746.1098 - val_mae: 746.1098\n",
            "INFO:tensorflow:Assets written to: time_series/Model_1_2_Dense/assets\n",
            "Epoch 20/100\n",
            "18/18 [==============================] - 1s 30ms/step - loss: 181.3667 - mae: 181.3667 - val_loss: 797.5564 - val_mae: 797.5564\n",
            "Epoch 21/100\n",
            "18/18 [==============================] - 1s 31ms/step - loss: 163.3593 - mae: 163.3593 - val_loss: 735.0699 - val_mae: 735.0699\n",
            "INFO:tensorflow:Assets written to: time_series/Model_1_2_Dense/assets\n",
            "Epoch 22/100\n",
            "18/18 [==============================] - 1s 30ms/step - loss: 176.9449 - mae: 176.9449 - val_loss: 772.9556 - val_mae: 772.9556\n",
            "Epoch 23/100\n",
            "18/18 [==============================] - 1s 32ms/step - loss: 164.5482 - mae: 164.5482 - val_loss: 728.1183 - val_mae: 728.1183\n",
            "INFO:tensorflow:Assets written to: time_series/Model_1_2_Dense/assets\n",
            "Epoch 24/100\n",
            "18/18 [==============================] - 1s 33ms/step - loss: 175.7261 - mae: 175.7261 - val_loss: 771.7825 - val_mae: 771.7825\n",
            "Epoch 25/100\n",
            "18/18 [==============================] - 1s 32ms/step - loss: 163.1224 - mae: 163.1224 - val_loss: 722.0004 - val_mae: 722.0004\n",
            "INFO:tensorflow:Assets written to: time_series/Model_1_2_Dense/assets\n",
            "Epoch 26/100\n",
            "18/18 [==============================] - 1s 32ms/step - loss: 172.4900 - mae: 172.4900 - val_loss: 759.5789 - val_mae: 759.5790\n",
            "Epoch 27/100\n",
            "18/18 [==============================] - 1s 31ms/step - loss: 160.6282 - mae: 160.6282 - val_loss: 716.1789 - val_mae: 716.1789\n",
            "INFO:tensorflow:Assets written to: time_series/Model_1_2_Dense/assets\n",
            "Epoch 28/100\n",
            "18/18 [==============================] - 1s 33ms/step - loss: 164.3855 - mae: 164.3855 - val_loss: 721.5247 - val_mae: 721.5247\n",
            "Epoch 29/100\n",
            "18/18 [==============================] - 1s 31ms/step - loss: 166.8928 - mae: 166.8928 - val_loss: 730.1534 - val_mae: 730.1534\n",
            "Epoch 30/100\n",
            "18/18 [==============================] - 1s 31ms/step - loss: 165.8739 - mae: 165.8739 - val_loss: 738.8245 - val_mae: 738.8245\n",
            "Epoch 31/100\n",
            "18/18 [==============================] - 1s 32ms/step - loss: 159.5275 - mae: 159.5275 - val_loss: 709.7892 - val_mae: 709.7892\n",
            "INFO:tensorflow:Assets written to: time_series/Model_1_2_Dense/assets\n",
            "Epoch 32/100\n",
            "18/18 [==============================] - 1s 29ms/step - loss: 163.4407 - mae: 163.4407 - val_loss: 727.9839 - val_mae: 727.9839\n",
            "Epoch 33/100\n",
            "18/18 [==============================] - 1s 30ms/step - loss: 161.5126 - mae: 161.5126 - val_loss: 736.7754 - val_mae: 736.7754\n",
            "Epoch 34/100\n",
            "18/18 [==============================] - 1s 31ms/step - loss: 155.0622 - mae: 155.0622 - val_loss: 694.3014 - val_mae: 694.3014\n",
            "INFO:tensorflow:Assets written to: time_series/Model_1_2_Dense/assets\n",
            "Epoch 35/100\n",
            "18/18 [==============================] - 1s 30ms/step - loss: 161.1066 - mae: 161.1066 - val_loss: 713.9275 - val_mae: 713.9275\n",
            "Epoch 36/100\n",
            "18/18 [==============================] - 1s 32ms/step - loss: 164.5507 - mae: 164.5507 - val_loss: 748.0451 - val_mae: 748.0451\n",
            "Epoch 37/100\n",
            "18/18 [==============================] - 1s 30ms/step - loss: 155.8054 - mae: 155.8054 - val_loss: 703.2555 - val_mae: 703.2555\n",
            "Epoch 38/100\n",
            "18/18 [==============================] - 1s 32ms/step - loss: 153.0268 - mae: 153.0268 - val_loss: 684.3273 - val_mae: 684.3273\n",
            "INFO:tensorflow:Assets written to: time_series/Model_1_2_Dense/assets\n",
            "Epoch 39/100\n",
            "18/18 [==============================] - 1s 32ms/step - loss: 161.4284 - mae: 161.4284 - val_loss: 734.1721 - val_mae: 734.1721\n",
            "Epoch 40/100\n",
            "18/18 [==============================] - 1s 31ms/step - loss: 156.0478 - mae: 156.0478 - val_loss: 706.5611 - val_mae: 706.5611\n",
            "Epoch 41/100\n",
            "18/18 [==============================] - 1s 31ms/step - loss: 155.9219 - mae: 155.9219 - val_loss: 702.5298 - val_mae: 702.5298\n",
            "Epoch 42/100\n",
            "18/18 [==============================] - 1s 31ms/step - loss: 157.8516 - mae: 157.8516 - val_loss: 709.2233 - val_mae: 709.2233\n",
            "Epoch 43/100\n",
            "18/18 [==============================] - 1s 30ms/step - loss: 162.2351 - mae: 162.2351 - val_loss: 766.2623 - val_mae: 766.2623\n",
            "Epoch 44/100\n",
            "18/18 [==============================] - 1s 31ms/step - loss: 149.1861 - mae: 149.1861 - val_loss: 675.4711 - val_mae: 675.4711\n",
            "INFO:tensorflow:Assets written to: time_series/Model_1_2_Dense/assets\n",
            "Epoch 45/100\n",
            "18/18 [==============================] - 1s 32ms/step - loss: 156.4929 - mae: 156.4929 - val_loss: 706.6824 - val_mae: 706.6824\n",
            "Epoch 46/100\n",
            "18/18 [==============================] - 1s 30ms/step - loss: 156.1544 - mae: 156.1544 - val_loss: 707.4643 - val_mae: 707.4643\n",
            "Epoch 47/100\n",
            "18/18 [==============================] - 1s 30ms/step - loss: 155.9261 - mae: 155.9261 - val_loss: 710.6649 - val_mae: 710.6649\n",
            "Epoch 48/100\n",
            "18/18 [==============================] - 1s 31ms/step - loss: 154.0087 - mae: 154.0087 - val_loss: 704.2702 - val_mae: 704.2702\n",
            "Epoch 49/100\n",
            "18/18 [==============================] - 1s 31ms/step - loss: 151.1779 - mae: 151.1779 - val_loss: 687.6781 - val_mae: 687.6781\n",
            "Epoch 50/100\n",
            "18/18 [==============================] - 1s 31ms/step - loss: 155.1610 - mae: 155.1610 - val_loss: 707.2834 - val_mae: 707.2834\n",
            "Epoch 51/100\n",
            "18/18 [==============================] - 1s 30ms/step - loss: 155.1402 - mae: 155.1402 - val_loss: 706.2878 - val_mae: 706.2878\n",
            "Epoch 52/100\n",
            "18/18 [==============================] - 1s 30ms/step - loss: 155.0006 - mae: 155.0006 - val_loss: 712.8819 - val_mae: 712.8819\n",
            "Epoch 53/100\n",
            "18/18 [==============================] - 1s 31ms/step - loss: 152.8444 - mae: 152.8444 - val_loss: 709.8792 - val_mae: 709.8792\n",
            "Epoch 54/100\n",
            "18/18 [==============================] - 1s 30ms/step - loss: 148.0593 - mae: 148.0593 - val_loss: 673.3949 - val_mae: 673.3949\n",
            "INFO:tensorflow:Assets written to: time_series/Model_1_2_Dense/assets\n",
            "Epoch 55/100\n",
            "18/18 [==============================] - 1s 31ms/step - loss: 158.5412 - mae: 158.5412 - val_loss: 745.4641 - val_mae: 745.4641\n",
            "Epoch 56/100\n",
            "18/18 [==============================] - 1s 29ms/step - loss: 151.5156 - mae: 151.5156 - val_loss: 708.4508 - val_mae: 708.4508\n",
            "Epoch 57/100\n",
            "18/18 [==============================] - 1s 32ms/step - loss: 147.2172 - mae: 147.2172 - val_loss: 668.7624 - val_mae: 668.7624\n",
            "INFO:tensorflow:Assets written to: time_series/Model_1_2_Dense/assets\n",
            "Epoch 58/100\n",
            "18/18 [==============================] - 1s 31ms/step - loss: 159.2881 - mae: 159.2881 - val_loss: 764.8383 - val_mae: 764.8384\n",
            "Epoch 59/100\n",
            "18/18 [==============================] - 1s 30ms/step - loss: 144.9891 - mae: 144.9891 - val_loss: 677.2142 - val_mae: 677.2142\n",
            "Epoch 60/100\n",
            "18/18 [==============================] - 1s 32ms/step - loss: 149.4071 - mae: 149.4071 - val_loss: 682.1034 - val_mae: 682.1034\n",
            "Epoch 61/100\n",
            "18/18 [==============================] - 1s 31ms/step - loss: 154.1042 - mae: 154.1042 - val_loss: 721.6951 - val_mae: 721.6951\n",
            "Epoch 62/100\n",
            "18/18 [==============================] - 1s 32ms/step - loss: 149.6017 - mae: 149.6017 - val_loss: 699.1633 - val_mae: 699.1633\n",
            "Epoch 63/100\n",
            "18/18 [==============================] - 1s 32ms/step - loss: 148.1601 - mae: 148.1601 - val_loss: 684.7230 - val_mae: 684.7230\n",
            "Epoch 64/100\n",
            "18/18 [==============================] - 1s 31ms/step - loss: 152.3866 - mae: 152.3866 - val_loss: 723.5755 - val_mae: 723.5755\n",
            "Epoch 65/100\n",
            "18/18 [==============================] - 1s 30ms/step - loss: 147.5820 - mae: 147.5820 - val_loss: 692.6750 - val_mae: 692.6750\n",
            "Epoch 66/100\n",
            "18/18 [==============================] - 1s 30ms/step - loss: 147.6323 - mae: 147.6323 - val_loss: 674.9829 - val_mae: 674.9830\n",
            "Epoch 67/100\n",
            "18/18 [==============================] - 1s 33ms/step - loss: 153.7003 - mae: 153.7003 - val_loss: 732.0840 - val_mae: 732.0840\n",
            "Epoch 68/100\n",
            "18/18 [==============================] - 1s 31ms/step - loss: 146.3604 - mae: 146.3604 - val_loss: 685.3902 - val_mae: 685.3902\n",
            "Epoch 69/100\n",
            "18/18 [==============================] - 1s 31ms/step - loss: 150.0002 - mae: 150.0002 - val_loss: 714.4634 - val_mae: 714.4634\n",
            "Epoch 70/100\n",
            "18/18 [==============================] - 1s 31ms/step - loss: 144.8038 - mae: 144.8038 - val_loss: 677.3519 - val_mae: 677.3519\n",
            "Epoch 71/100\n",
            "18/18 [==============================] - 1s 31ms/step - loss: 150.6429 - mae: 150.6429 - val_loss: 716.2438 - val_mae: 716.2438\n",
            "Epoch 72/100\n",
            "18/18 [==============================] - 1s 32ms/step - loss: 147.6745 - mae: 147.6745 - val_loss: 692.7576 - val_mae: 692.7576\n",
            "Epoch 73/100\n",
            "18/18 [==============================] - 1s 32ms/step - loss: 147.7964 - mae: 147.7964 - val_loss: 695.7336 - val_mae: 695.7336\n",
            "Epoch 74/100\n",
            "18/18 [==============================] - 1s 32ms/step - loss: 147.7652 - mae: 147.7652 - val_loss: 703.0867 - val_mae: 703.0867\n",
            "Epoch 75/100\n",
            "18/18 [==============================] - 1s 33ms/step - loss: 146.2653 - mae: 146.2653 - val_loss: 692.7429 - val_mae: 692.7429\n",
            "Epoch 76/100\n",
            "18/18 [==============================] - 1s 32ms/step - loss: 147.2887 - mae: 147.2887 - val_loss: 697.9418 - val_mae: 697.9418\n",
            "Epoch 77/100\n",
            "18/18 [==============================] - 1s 32ms/step - loss: 147.1402 - mae: 147.1402 - val_loss: 697.3599 - val_mae: 697.3599\n",
            "Epoch 78/100\n",
            "18/18 [==============================] - 1s 33ms/step - loss: 148.4715 - mae: 148.4715 - val_loss: 716.9481 - val_mae: 716.9481\n",
            "Epoch 79/100\n",
            "18/18 [==============================] - 1s 31ms/step - loss: 143.8438 - mae: 143.8438 - val_loss: 689.3171 - val_mae: 689.3171\n",
            "Epoch 80/100\n",
            "18/18 [==============================] - 1s 32ms/step - loss: 146.2757 - mae: 146.2757 - val_loss: 700.9450 - val_mae: 700.9450\n",
            "Epoch 81/100\n",
            "18/18 [==============================] - 1s 31ms/step - loss: 145.9881 - mae: 145.9881 - val_loss: 703.3129 - val_mae: 703.3129\n",
            "Epoch 82/100\n",
            "18/18 [==============================] - 1s 31ms/step - loss: 146.0956 - mae: 146.0956 - val_loss: 719.5831 - val_mae: 719.5831\n",
            "Epoch 83/100\n",
            "18/18 [==============================] - 1s 32ms/step - loss: 142.4464 - mae: 142.4464 - val_loss: 693.7108 - val_mae: 693.7108\n",
            "Epoch 84/100\n",
            "18/18 [==============================] - 1s 32ms/step - loss: 145.1930 - mae: 145.1930 - val_loss: 715.5626 - val_mae: 715.5626\n",
            "Epoch 85/100\n",
            "18/18 [==============================] - 1s 31ms/step - loss: 144.4740 - mae: 144.4740 - val_loss: 717.9623 - val_mae: 717.9623\n",
            "Epoch 86/100\n",
            "18/18 [==============================] - 1s 31ms/step - loss: 142.4640 - mae: 142.4640 - val_loss: 709.9218 - val_mae: 709.9218\n",
            "Epoch 87/100\n",
            "18/18 [==============================] - 1s 33ms/step - loss: 141.8476 - mae: 141.8476 - val_loss: 711.8673 - val_mae: 711.8673\n",
            "Epoch 88/100\n",
            "18/18 [==============================] - 1s 32ms/step - loss: 141.4763 - mae: 141.4763 - val_loss: 702.6763 - val_mae: 702.6763\n",
            "Epoch 89/100\n",
            "18/18 [==============================] - 1s 33ms/step - loss: 142.3121 - mae: 142.3121 - val_loss: 720.8987 - val_mae: 720.8987\n",
            "Epoch 90/100\n",
            "18/18 [==============================] - 1s 32ms/step - loss: 140.4663 - mae: 140.4663 - val_loss: 711.7302 - val_mae: 711.7302\n",
            "Epoch 91/100\n",
            "18/18 [==============================] - 1s 31ms/step - loss: 139.5024 - mae: 139.5024 - val_loss: 701.1417 - val_mae: 701.1417\n",
            "Epoch 92/100\n",
            "18/18 [==============================] - 1s 32ms/step - loss: 140.2042 - mae: 140.2042 - val_loss: 692.6843 - val_mae: 692.6843\n",
            "Epoch 93/100\n",
            "18/18 [==============================] - 1s 31ms/step - loss: 144.2563 - mae: 144.2563 - val_loss: 732.8980 - val_mae: 732.8980\n",
            "Epoch 94/100\n",
            "18/18 [==============================] - 1s 32ms/step - loss: 140.2398 - mae: 140.2398 - val_loss: 709.1201 - val_mae: 709.1201\n",
            "Epoch 95/100\n",
            "18/18 [==============================] - 1s 32ms/step - loss: 139.3453 - mae: 139.3453 - val_loss: 700.1226 - val_mae: 700.1226\n",
            "Epoch 96/100\n",
            "18/18 [==============================] - 1s 33ms/step - loss: 140.3687 - mae: 140.3687 - val_loss: 696.4669 - val_mae: 696.4669\n",
            "Epoch 97/100\n",
            "18/18 [==============================] - 1s 31ms/step - loss: 141.0736 - mae: 141.0736 - val_loss: 694.1142 - val_mae: 694.1142\n",
            "Epoch 98/100\n",
            "18/18 [==============================] - 1s 34ms/step - loss: 141.6060 - mae: 141.6060 - val_loss: 699.6767 - val_mae: 699.6767\n",
            "Epoch 99/100\n",
            "18/18 [==============================] - 1s 31ms/step - loss: 141.4102 - mae: 141.4102 - val_loss: 704.2183 - val_mae: 704.2183\n",
            "Epoch 100/100\n",
            "18/18 [==============================] - 1s 32ms/step - loss: 140.8966 - mae: 140.8966 - val_loss: 719.0788 - val_mae: 719.0789\n"
          ],
          "name": "stdout"
        }
      ]
    },
    {
      "cell_type": "code",
      "metadata": {
        "colab": {
          "base_uri": "https://localhost:8080/",
          "height": 315
        },
        "id": "cyx0QYPcaQBB",
        "outputId": "ecd145ab-9e0c-4817-ecc5-ad0540bbab2f"
      },
      "source": [
        "plot_loss_curves(history_1_2)"
      ],
      "execution_count": 57,
      "outputs": [
        {
          "output_type": "display_data",
          "data": {
            "image/png": "[encoded data removed]",
            "text/plain": [
              "<Figure size 432x288 with 1 Axes>"
            ]
          },
          "metadata": {
            "tags": [],
            "needs_background": "light"
          }
        }
      ]
    },
    {
      "cell_type": "markdown",
      "metadata": {
        "id": "ihKRnbZ3o0n0"
      },
      "source": [
        "Why do I have this difference in results?"
      ]
    },
    {
      "cell_type": "markdown",
      "metadata": {
        "id": "kdY9x0PbpYWo"
      },
      "source": [
        "#### Evaluate model 1 and save results"
      ]
    },
    {
      "cell_type": "code",
      "metadata": {
        "id": "pOaRcr6FexDN"
      },
      "source": [
        "model_1_load = load_model('time_series/' + model_1.name)"
      ],
      "execution_count": 58,
      "outputs": []
    },
    {
      "cell_type": "code",
      "metadata": {
        "colab": {
          "base_uri": "https://localhost:8080/"
        },
        "id": "PG8N2ywlp1-V",
        "outputId": "1322c313-0973-4321-904d-44b644e5125d"
      },
      "source": [
        "model_1_load.evaluate(test_windows, test_labels)"
      ],
      "execution_count": 59,
      "outputs": [
        {
          "output_type": "stream",
          "text": [
            "18/18 [==============================] - 0s 2ms/step - loss: 568.9512 - mae: 568.9512\n"
          ],
          "name": "stdout"
        },
        {
          "output_type": "execute_result",
          "data": {
            "text/plain": [
              "[568.951171875, 568.951171875]"
            ]
          },
          "metadata": {
            "tags": []
          },
          "execution_count": 59
        }
      ]
    },
    {
      "cell_type": "markdown",
      "metadata": {
        "id": "GAQ3tGBxuwsc"
      },
      "source": [
        "#### Function to load best model, make predictions and save in df_results"
      ]
    },
    {
      "cell_type": "code",
      "metadata": {
        "id": "QoWjyO-JtTPm"
      },
      "source": [
        "#Function to load best model, make predictions and save in df_results\n",
        "def make_predictions(model, test_data = test_windows, test_labels = test_labels, X_test = X_test):\n",
        "  \"\"\"\n",
        "  Function to load best model, make predictions and save in df_results\n",
        "  Args: model, test_windows = test_windows, test_labels = test_labels, X_test = X_test\n",
        "  \"\"\"\n",
        "  loaded_model  = load_model('time_series/' + model.name)\n",
        "  pred = loaded_model.predict(test_data)\n",
        "  save_results(model.name, tf.squeeze(pred), tf.squeeze(test_labels))\n",
        "  #Plot\n",
        "  if pred.ndim>0:\n",
        "    pred = tf.squeeze(pred)\n",
        "  offset = 300\n",
        "  plt.figure(figsize=(10, 7))\n",
        "  # Account for the test_window offset and index into test_labels to ensure correct plotting\n",
        "  plot_time_series(timesteps = X_test[-len(test_data):], values=test_labels[:, 0], start=offset, label=\"Test_data\")\n",
        "  plot_time_series(timesteps=X_test[-len(test_data):], values=pred, start=offset, format=\"-\", label=model.name+ \" preds\")\n",
        "  return pred"
      ],
      "execution_count": 230,
      "outputs": []
    },
    {
      "cell_type": "code",
      "metadata": {
        "colab": {
          "base_uri": "https://localhost:8080/",
          "height": 462
        },
        "id": "vjwIfgOBqLFe",
        "outputId": "4450de2a-c80c-4f11-9bca-d43ec0b9ed1f"
      },
      "source": [
        "pred_1 = make_predictions(model_1)"
      ],
      "execution_count": 61,
      "outputs": [
        {
          "output_type": "display_data",
          "data": {
            "image/png": "[encoded data removed]",
            "text/plain": [
              "<Figure size 720x504 with 1 Axes>"
            ]
          },
          "metadata": {
            "tags": [],
            "needs_background": "light"
          }
        }
      ]
    },
    {
      "cell_type": "code",
      "metadata": {
        "colab": {
          "base_uri": "https://localhost:8080/",
          "height": 130
        },
        "id": "wVHf6Q44q7I8",
        "outputId": "e250b8ec-5e57-49b8-aa11-bb0bb33be09b"
      },
      "source": [
        "df_results"
      ],
      "execution_count": 62,
      "outputs": [
        {
          "output_type": "execute_result",
          "data": {
            "text/html": [
              "<div>\n",
              "<style scoped>\n",
              "    .dataframe tbody tr th:only-of-type {\n",
              "        vertical-align: middle;\n",
              "    }\n",
              "\n",
              "    .dataframe tbody tr th {\n",
              "        vertical-align: top;\n",
              "    }\n",
              "\n",
              "    .dataframe thead th {\n",
              "        text-align: right;\n",
              "    }\n",
              "</style>\n",
              "<table border=\"1\" class=\"dataframe\">\n",
              "  <thead>\n",
              "    <tr style=\"text-align: right;\">\n",
              "      <th></th>\n",
              "      <th>model</th>\n",
              "      <th>MAE</th>\n",
              "      <th>RMSE</th>\n",
              "      <th>MAPE</th>\n",
              "      <th>MASE</th>\n",
              "      <th>last_day_pred</th>\n",
              "      <th>last_day_real</th>\n",
              "    </tr>\n",
              "  </thead>\n",
              "  <tbody>\n",
              "    <tr>\n",
              "      <th>0</th>\n",
              "      <td>Base_naive</td>\n",
              "      <td>567</td>\n",
              "      <td>1071</td>\n",
              "      <td>2.52</td>\n",
              "      <td>0.99957</td>\n",
              "      <td>45604.615754</td>\n",
              "      <td>43144.471291</td>\n",
              "    </tr>\n",
              "    <tr>\n",
              "      <th>1</th>\n",
              "      <td>Model_1_Dense</td>\n",
              "      <td>568</td>\n",
              "      <td>1082</td>\n",
              "      <td>2.54</td>\n",
              "      <td>0.99949</td>\n",
              "      <td>45872.875000</td>\n",
              "      <td>43144.471291</td>\n",
              "    </tr>\n",
              "  </tbody>\n",
              "</table>\n",
              "</div>"
            ],
            "text/plain": [
              "           model  MAE  RMSE  MAPE     MASE  last_day_pred  last_day_real\n",
              "0     Base_naive  567  1071  2.52  0.99957   45604.615754   43144.471291\n",
              "1  Model_1_Dense  568  1082  2.54  0.99949   45872.875000   43144.471291"
            ]
          },
          "metadata": {
            "tags": []
          },
          "execution_count": 62
        }
      ]
    },
    {
      "cell_type": "markdown",
      "metadata": {
        "id": "gX9QCqshyTjG"
      },
      "source": [
        "#### Model_1_2 evaluate"
      ]
    },
    {
      "cell_type": "code",
      "metadata": {
        "colab": {
          "base_uri": "https://localhost:8080/",
          "height": 462
        },
        "id": "3m0pL0pgvnRd",
        "outputId": "2fec6fff-0361-42b4-acdf-55e8cfbcf346"
      },
      "source": [
        "pred_1_2 = make_predictions(model_1_2)"
      ],
      "execution_count": 63,
      "outputs": [
        {
          "output_type": "display_data",
          "data": {
            "image/png": "[encoded data removed]",
            "text/plain": [
              "<Figure size 720x504 with 1 Axes>"
            ]
          },
          "metadata": {
            "tags": [],
            "needs_background": "light"
          }
        }
      ]
    },
    {
      "cell_type": "code",
      "metadata": {
        "colab": {
          "base_uri": "https://localhost:8080/",
          "height": 160
        },
        "id": "7qkowyyd2CO7",
        "outputId": "9b2146c8-cabc-49d5-abc5-43d2130009a7"
      },
      "source": [
        "df_results"
      ],
      "execution_count": 64,
      "outputs": [
        {
          "output_type": "execute_result",
          "data": {
            "text/html": [
              "<div>\n",
              "<style scoped>\n",
              "    .dataframe tbody tr th:only-of-type {\n",
              "        vertical-align: middle;\n",
              "    }\n",
              "\n",
              "    .dataframe tbody tr th {\n",
              "        vertical-align: top;\n",
              "    }\n",
              "\n",
              "    .dataframe thead th {\n",
              "        text-align: right;\n",
              "    }\n",
              "</style>\n",
              "<table border=\"1\" class=\"dataframe\">\n",
              "  <thead>\n",
              "    <tr style=\"text-align: right;\">\n",
              "      <th></th>\n",
              "      <th>model</th>\n",
              "      <th>MAE</th>\n",
              "      <th>RMSE</th>\n",
              "      <th>MAPE</th>\n",
              "      <th>MASE</th>\n",
              "      <th>last_day_pred</th>\n",
              "      <th>last_day_real</th>\n",
              "    </tr>\n",
              "  </thead>\n",
              "  <tbody>\n",
              "    <tr>\n",
              "      <th>0</th>\n",
              "      <td>Base_naive</td>\n",
              "      <td>567</td>\n",
              "      <td>1071</td>\n",
              "      <td>2.52</td>\n",
              "      <td>0.999570</td>\n",
              "      <td>45604.615754</td>\n",
              "      <td>43144.471291</td>\n",
              "    </tr>\n",
              "    <tr>\n",
              "      <th>1</th>\n",
              "      <td>Model_1_Dense</td>\n",
              "      <td>568</td>\n",
              "      <td>1082</td>\n",
              "      <td>2.54</td>\n",
              "      <td>0.999490</td>\n",
              "      <td>45872.875000</td>\n",
              "      <td>43144.471291</td>\n",
              "    </tr>\n",
              "    <tr>\n",
              "      <th>2</th>\n",
              "      <td>Model_1_2_Dense</td>\n",
              "      <td>664</td>\n",
              "      <td>1232</td>\n",
              "      <td>3.06</td>\n",
              "      <td>1.167849</td>\n",
              "      <td>47401.125000</td>\n",
              "      <td>43144.471291</td>\n",
              "    </tr>\n",
              "  </tbody>\n",
              "</table>\n",
              "</div>"
            ],
            "text/plain": [
              "             model  MAE  RMSE  MAPE      MASE  last_day_pred  last_day_real\n",
              "0       Base_naive  567  1071  2.52  0.999570   45604.615754   43144.471291\n",
              "1    Model_1_Dense  568  1082  2.54  0.999490   45872.875000   43144.471291\n",
              "2  Model_1_2_Dense  664  1232  3.06  1.167849   47401.125000   43144.471291"
            ]
          },
          "metadata": {
            "tags": []
          },
          "execution_count": 64
        }
      ]
    },
    {
      "cell_type": "markdown",
      "metadata": {
        "id": "RMgaum4vzkFU"
      },
      "source": [
        "### 2 Model Dense Window 30 Horizon 1"
      ]
    },
    {
      "cell_type": "code",
      "metadata": {
        "id": "eb6gKR2izwqN"
      },
      "source": [
        "all_windows_30, all_labels_30 = make_windows(btc_price, window_size = 30)"
      ],
      "execution_count": 65,
      "outputs": []
    },
    {
      "cell_type": "code",
      "metadata": {
        "id": "OoJVqf7g0K6S"
      },
      "source": [
        "train_windows_30, test_windows_30, train_labels_30, test_labels_30 = make_train_test_splits(all_windows_30, all_labels_30, test_split=0.2)"
      ],
      "execution_count": 66,
      "outputs": []
    },
    {
      "cell_type": "code",
      "metadata": {
        "id": "w6QmrfosxmBj"
      },
      "source": [
        "tf.random.set_seed(42)"
      ],
      "execution_count": 67,
      "outputs": []
    },
    {
      "cell_type": "code",
      "metadata": {
        "id": "Am8r3JIP0g0V"
      },
      "source": [
        "model_2 = Sequential([Dense(128, activation = 'relu'),\n",
        "                      Dense(HORIZON, activation = 'linear')],\n",
        "                     name = 'Model_2_Dense_W30')"
      ],
      "execution_count": 68,
      "outputs": []
    },
    {
      "cell_type": "code",
      "metadata": {
        "id": "gcsnPSeR03-x"
      },
      "source": [
        "model_2.compile(optimizer = 'adam', loss = 'mae')"
      ],
      "execution_count": 69,
      "outputs": []
    },
    {
      "cell_type": "code",
      "metadata": {
        "colab": {
          "base_uri": "https://localhost:8080/"
        },
        "id": "awTcoMBr0-d4",
        "outputId": "66e03e88-2c36-4f61-eeee-8ce5d5addc95"
      },
      "source": [
        "history_2 = model_2.fit(train_windows_30, train_labels_30, epochs = 100,\n",
        "                        validation_data = (test_windows_30, test_labels_30),\n",
        "                        batch_size = 128,\n",
        "                        callbacks = checkpoint(model_2.name))"
      ],
      "execution_count": 70,
      "outputs": [
        {
          "output_type": "stream",
          "text": [
            "Epoch 1/100\n",
            "18/18 [==============================] - 1s 10ms/step - loss: 1097.0397 - val_loss: 3900.2532\n",
            "INFO:tensorflow:Assets written to: time_series/Model_2_Dense_W30/assets\n",
            "Epoch 2/100\n",
            "18/18 [==============================] - 0s 3ms/step - loss: 428.0732 - val_loss: 1587.0747\n",
            "INFO:tensorflow:Assets written to: time_series/Model_2_Dense_W30/assets\n",
            "Epoch 3/100\n",
            "18/18 [==============================] - 0s 4ms/step - loss: 279.7655 - val_loss: 1220.6887\n",
            "INFO:tensorflow:Assets written to: time_series/Model_2_Dense_W30/assets\n",
            "Epoch 4/100\n",
            "18/18 [==============================] - 0s 4ms/step - loss: 224.3637 - val_loss: 1160.1571\n",
            "INFO:tensorflow:Assets written to: time_series/Model_2_Dense_W30/assets\n",
            "Epoch 5/100\n",
            "18/18 [==============================] - 0s 4ms/step - loss: 187.9680 - val_loss: 1007.6487\n",
            "INFO:tensorflow:Assets written to: time_series/Model_2_Dense_W30/assets\n",
            "Epoch 6/100\n",
            "18/18 [==============================] - 0s 4ms/step - loss: 182.9174 - val_loss: 1019.5820\n",
            "Epoch 7/100\n",
            "18/18 [==============================] - 0s 4ms/step - loss: 187.7612 - val_loss: 1145.1761\n",
            "Epoch 8/100\n",
            "18/18 [==============================] - 0s 4ms/step - loss: 192.2202 - val_loss: 967.8075\n",
            "INFO:tensorflow:Assets written to: time_series/Model_2_Dense_W30/assets\n",
            "Epoch 9/100\n",
            "18/18 [==============================] - 0s 4ms/step - loss: 167.4042 - val_loss: 896.5219\n",
            "INFO:tensorflow:Assets written to: time_series/Model_2_Dense_W30/assets\n",
            "Epoch 10/100\n",
            "18/18 [==============================] - 0s 4ms/step - loss: 161.6689 - val_loss: 881.9177\n",
            "INFO:tensorflow:Assets written to: time_series/Model_2_Dense_W30/assets\n",
            "Epoch 11/100\n",
            "18/18 [==============================] - 0s 4ms/step - loss: 162.2630 - val_loss: 862.7012\n",
            "INFO:tensorflow:Assets written to: time_series/Model_2_Dense_W30/assets\n",
            "Epoch 12/100\n",
            "18/18 [==============================] - 0s 5ms/step - loss: 157.6156 - val_loss: 855.2241\n",
            "INFO:tensorflow:Assets written to: time_series/Model_2_Dense_W30/assets\n",
            "Epoch 13/100\n",
            "18/18 [==============================] - 0s 5ms/step - loss: 164.3571 - val_loss: 845.0384\n",
            "INFO:tensorflow:Assets written to: time_series/Model_2_Dense_W30/assets\n",
            "Epoch 14/100\n",
            "18/18 [==============================] - 0s 4ms/step - loss: 152.4233 - val_loss: 835.7408\n",
            "INFO:tensorflow:Assets written to: time_series/Model_2_Dense_W30/assets\n",
            "Epoch 15/100\n",
            "18/18 [==============================] - 0s 4ms/step - loss: 165.0978 - val_loss: 920.6229\n",
            "Epoch 16/100\n",
            "18/18 [==============================] - 0s 4ms/step - loss: 166.0639 - val_loss: 814.6470\n",
            "INFO:tensorflow:Assets written to: time_series/Model_2_Dense_W30/assets\n",
            "Epoch 17/100\n",
            "18/18 [==============================] - 0s 4ms/step - loss: 165.1734 - val_loss: 939.7379\n",
            "Epoch 18/100\n",
            "18/18 [==============================] - 0s 4ms/step - loss: 158.3086 - val_loss: 929.8376\n",
            "Epoch 19/100\n",
            "18/18 [==============================] - 0s 4ms/step - loss: 151.6603 - val_loss: 1071.7573\n",
            "Epoch 20/100\n",
            "18/18 [==============================] - 0s 4ms/step - loss: 155.9877 - val_loss: 906.9970\n",
            "Epoch 21/100\n",
            "18/18 [==============================] - 0s 3ms/step - loss: 150.9352 - val_loss: 1259.6173\n",
            "Epoch 22/100\n",
            "18/18 [==============================] - 0s 4ms/step - loss: 186.2315 - val_loss: 821.1553\n",
            "Epoch 23/100\n",
            "18/18 [==============================] - 0s 4ms/step - loss: 149.3855 - val_loss: 1061.1257\n",
            "Epoch 24/100\n",
            "18/18 [==============================] - 0s 4ms/step - loss: 161.7741 - val_loss: 794.9156\n",
            "INFO:tensorflow:Assets written to: time_series/Model_2_Dense_W30/assets\n",
            "Epoch 25/100\n",
            "18/18 [==============================] - 0s 4ms/step - loss: 147.8488 - val_loss: 1092.2115\n",
            "Epoch 26/100\n",
            "18/18 [==============================] - 0s 4ms/step - loss: 150.0337 - val_loss: 802.3946\n",
            "Epoch 27/100\n",
            "18/18 [==============================] - 0s 4ms/step - loss: 154.9932 - val_loss: 748.0328\n",
            "INFO:tensorflow:Assets written to: time_series/Model_2_Dense_W30/assets\n",
            "Epoch 28/100\n",
            "18/18 [==============================] - 0s 4ms/step - loss: 141.5400 - val_loss: 960.1345\n",
            "Epoch 29/100\n",
            "18/18 [==============================] - 0s 4ms/step - loss: 148.5069 - val_loss: 758.3334\n",
            "Epoch 30/100\n",
            "18/18 [==============================] - 0s 4ms/step - loss: 148.1240 - val_loss: 988.7430\n",
            "Epoch 31/100\n",
            "18/18 [==============================] - 0s 4ms/step - loss: 142.3973 - val_loss: 847.3666\n",
            "Epoch 32/100\n",
            "18/18 [==============================] - 0s 4ms/step - loss: 148.1294 - val_loss: 726.4917\n",
            "INFO:tensorflow:Assets written to: time_series/Model_2_Dense_W30/assets\n",
            "Epoch 33/100\n",
            "18/18 [==============================] - 0s 4ms/step - loss: 141.7309 - val_loss: 767.2224\n",
            "Epoch 34/100\n",
            "18/18 [==============================] - 0s 4ms/step - loss: 135.4458 - val_loss: 721.9363\n",
            "INFO:tensorflow:Assets written to: time_series/Model_2_Dense_W30/assets\n",
            "Epoch 35/100\n",
            "18/18 [==============================] - 0s 3ms/step - loss: 131.7837 - val_loss: 759.3366\n",
            "Epoch 36/100\n",
            "18/18 [==============================] - 0s 4ms/step - loss: 131.5018 - val_loss: 814.7707\n",
            "Epoch 37/100\n",
            "18/18 [==============================] - 0s 4ms/step - loss: 143.4647 - val_loss: 708.7814\n",
            "INFO:tensorflow:Assets written to: time_series/Model_2_Dense_W30/assets\n",
            "Epoch 38/100\n",
            "18/18 [==============================] - 0s 4ms/step - loss: 134.2238 - val_loss: 812.9041\n",
            "Epoch 39/100\n",
            "18/18 [==============================] - 0s 4ms/step - loss: 139.4755 - val_loss: 1291.5092\n",
            "Epoch 40/100\n",
            "18/18 [==============================] - 0s 4ms/step - loss: 215.3557 - val_loss: 996.4948\n",
            "Epoch 41/100\n",
            "18/18 [==============================] - 0s 4ms/step - loss: 172.6189 - val_loss: 869.1227\n",
            "Epoch 42/100\n",
            "18/18 [==============================] - 0s 4ms/step - loss: 129.6437 - val_loss: 793.7203\n",
            "Epoch 43/100\n",
            "18/18 [==============================] - 0s 5ms/step - loss: 139.1354 - val_loss: 730.5049\n",
            "Epoch 44/100\n",
            "18/18 [==============================] - 0s 4ms/step - loss: 132.4260 - val_loss: 734.9218\n",
            "Epoch 45/100\n",
            "18/18 [==============================] - 0s 4ms/step - loss: 128.6464 - val_loss: 688.6830\n",
            "INFO:tensorflow:Assets written to: time_series/Model_2_Dense_W30/assets\n",
            "Epoch 46/100\n",
            "18/18 [==============================] - 0s 4ms/step - loss: 134.8663 - val_loss: 712.8480\n",
            "Epoch 47/100\n",
            "18/18 [==============================] - 0s 3ms/step - loss: 134.8881 - val_loss: 1001.1470\n",
            "Epoch 48/100\n",
            "18/18 [==============================] - 0s 4ms/step - loss: 149.8149 - val_loss: 678.5961\n",
            "INFO:tensorflow:Assets written to: time_series/Model_2_Dense_W30/assets\n",
            "Epoch 49/100\n",
            "18/18 [==============================] - 0s 4ms/step - loss: 138.1983 - val_loss: 688.7947\n",
            "Epoch 50/100\n",
            "18/18 [==============================] - 0s 4ms/step - loss: 127.4246 - val_loss: 698.5790\n",
            "Epoch 51/100\n",
            "18/18 [==============================] - 0s 4ms/step - loss: 126.8267 - val_loss: 1004.7891\n",
            "Epoch 52/100\n",
            "18/18 [==============================] - 0s 4ms/step - loss: 143.1550 - val_loss: 777.9471\n",
            "Epoch 53/100\n",
            "18/18 [==============================] - 0s 4ms/step - loss: 139.6324 - val_loss: 980.4420\n",
            "Epoch 54/100\n",
            "18/18 [==============================] - 0s 4ms/step - loss: 141.3283 - val_loss: 1099.4164\n",
            "Epoch 55/100\n",
            "18/18 [==============================] - 0s 4ms/step - loss: 165.2998 - val_loss: 1035.2848\n",
            "Epoch 56/100\n",
            "18/18 [==============================] - 0s 4ms/step - loss: 165.2720 - val_loss: 708.2664\n",
            "Epoch 57/100\n",
            "18/18 [==============================] - 0s 4ms/step - loss: 134.2333 - val_loss: 654.6205\n",
            "INFO:tensorflow:Assets written to: time_series/Model_2_Dense_W30/assets\n",
            "Epoch 58/100\n",
            "18/18 [==============================] - 0s 4ms/step - loss: 126.7659 - val_loss: 924.2980\n",
            "Epoch 59/100\n",
            "18/18 [==============================] - 0s 4ms/step - loss: 178.5226 - val_loss: 685.5632\n",
            "Epoch 60/100\n",
            "18/18 [==============================] - 0s 5ms/step - loss: 146.9762 - val_loss: 817.1865\n",
            "Epoch 61/100\n",
            "18/18 [==============================] - 0s 5ms/step - loss: 132.8668 - val_loss: 718.5540\n",
            "Epoch 62/100\n",
            "18/18 [==============================] - 0s 4ms/step - loss: 127.7034 - val_loss: 882.0613\n",
            "Epoch 63/100\n",
            "18/18 [==============================] - 0s 4ms/step - loss: 135.9523 - val_loss: 735.1025\n",
            "Epoch 64/100\n",
            "18/18 [==============================] - 0s 4ms/step - loss: 119.2444 - val_loss: 809.7214\n",
            "Epoch 65/100\n",
            "18/18 [==============================] - 0s 4ms/step - loss: 139.0115 - val_loss: 712.7925\n",
            "Epoch 66/100\n",
            "18/18 [==============================] - 0s 3ms/step - loss: 123.5655 - val_loss: 689.6481\n",
            "Epoch 67/100\n",
            "18/18 [==============================] - 0s 4ms/step - loss: 126.1405 - val_loss: 638.6703\n",
            "INFO:tensorflow:Assets written to: time_series/Model_2_Dense_W30/assets\n",
            "Epoch 68/100\n",
            "18/18 [==============================] - 0s 5ms/step - loss: 125.1018 - val_loss: 842.7570\n",
            "Epoch 69/100\n",
            "18/18 [==============================] - 0s 5ms/step - loss: 122.4624 - val_loss: 816.4893\n",
            "Epoch 70/100\n",
            "18/18 [==============================] - 0s 4ms/step - loss: 125.3831 - val_loss: 750.1617\n",
            "Epoch 71/100\n",
            "18/18 [==============================] - 0s 4ms/step - loss: 128.9315 - val_loss: 639.5054\n",
            "Epoch 72/100\n",
            "18/18 [==============================] - 0s 4ms/step - loss: 122.8349 - val_loss: 637.9628\n",
            "INFO:tensorflow:Assets written to: time_series/Model_2_Dense_W30/assets\n",
            "Epoch 73/100\n",
            "18/18 [==============================] - 0s 4ms/step - loss: 131.2436 - val_loss: 642.0574\n",
            "Epoch 74/100\n",
            "18/18 [==============================] - 0s 4ms/step - loss: 125.7285 - val_loss: 724.9562\n",
            "Epoch 75/100\n",
            "18/18 [==============================] - 0s 4ms/step - loss: 148.5457 - val_loss: 667.4103\n",
            "Epoch 76/100\n",
            "18/18 [==============================] - 0s 4ms/step - loss: 150.0649 - val_loss: 679.4861\n",
            "Epoch 77/100\n",
            "18/18 [==============================] - 0s 4ms/step - loss: 139.2352 - val_loss: 694.9252\n",
            "Epoch 78/100\n",
            "18/18 [==============================] - 0s 4ms/step - loss: 138.3674 - val_loss: 663.6301\n",
            "Epoch 79/100\n",
            "18/18 [==============================] - 0s 4ms/step - loss: 136.8668 - val_loss: 801.0530\n",
            "Epoch 80/100\n",
            "18/18 [==============================] - 0s 4ms/step - loss: 123.3492 - val_loss: 617.8124\n",
            "INFO:tensorflow:Assets written to: time_series/Model_2_Dense_W30/assets\n",
            "Epoch 81/100\n",
            "18/18 [==============================] - 0s 5ms/step - loss: 115.4555 - val_loss: 617.0959\n",
            "INFO:tensorflow:Assets written to: time_series/Model_2_Dense_W30/assets\n",
            "Epoch 82/100\n",
            "18/18 [==============================] - 0s 4ms/step - loss: 115.3949 - val_loss: 716.4906\n",
            "Epoch 83/100\n",
            "18/18 [==============================] - 0s 4ms/step - loss: 126.6814 - val_loss: 648.0317\n",
            "Epoch 84/100\n",
            "18/18 [==============================] - 0s 4ms/step - loss: 125.4329 - val_loss: 897.0231\n",
            "Epoch 85/100\n",
            "18/18 [==============================] - 0s 4ms/step - loss: 125.9956 - val_loss: 658.2012\n",
            "Epoch 86/100\n",
            "18/18 [==============================] - 0s 5ms/step - loss: 127.9559 - val_loss: 625.5125\n",
            "Epoch 87/100\n",
            "18/18 [==============================] - 0s 4ms/step - loss: 123.9464 - val_loss: 636.8027\n",
            "Epoch 88/100\n",
            "18/18 [==============================] - 0s 4ms/step - loss: 116.9536 - val_loss: 612.2713\n",
            "INFO:tensorflow:Assets written to: time_series/Model_2_Dense_W30/assets\n",
            "Epoch 89/100\n",
            "18/18 [==============================] - 0s 5ms/step - loss: 115.7581 - val_loss: 771.3044\n",
            "Epoch 90/100\n",
            "18/18 [==============================] - 0s 4ms/step - loss: 128.8566 - val_loss: 754.5873\n",
            "Epoch 91/100\n",
            "18/18 [==============================] - 0s 4ms/step - loss: 125.1843 - val_loss: 627.8419\n",
            "Epoch 92/100\n",
            "18/18 [==============================] - 0s 4ms/step - loss: 114.9072 - val_loss: 875.4729\n",
            "Epoch 93/100\n",
            "18/18 [==============================] - 0s 4ms/step - loss: 145.7587 - val_loss: 1065.8536\n",
            "Epoch 94/100\n",
            "18/18 [==============================] - 0s 4ms/step - loss: 145.7710 - val_loss: 892.5436\n",
            "Epoch 95/100\n",
            "18/18 [==============================] - 0s 4ms/step - loss: 149.3682 - val_loss: 618.3419\n",
            "Epoch 96/100\n",
            "18/18 [==============================] - 0s 4ms/step - loss: 136.1315 - val_loss: 623.3118\n",
            "Epoch 97/100\n",
            "18/18 [==============================] - 0s 4ms/step - loss: 116.3441 - val_loss: 620.5096\n",
            "Epoch 98/100\n",
            "18/18 [==============================] - 0s 4ms/step - loss: 117.0240 - val_loss: 619.9182\n",
            "Epoch 99/100\n",
            "18/18 [==============================] - 0s 4ms/step - loss: 112.7964 - val_loss: 613.5791\n",
            "Epoch 100/100\n",
            "18/18 [==============================] - 0s 4ms/step - loss: 123.1099 - val_loss: 608.9614\n",
            "INFO:tensorflow:Assets written to: time_series/Model_2_Dense_W30/assets\n"
          ],
          "name": "stdout"
        }
      ]
    },
    {
      "cell_type": "code",
      "metadata": {
        "colab": {
          "base_uri": "https://localhost:8080/",
          "height": 462
        },
        "id": "VvsEvaZV2Z7y",
        "outputId": "d0b0c43d-c6fe-461d-efb5-9c68ead6d5f3"
      },
      "source": [
        "pred_2 = make_predictions(model_2, test_windows=test_windows_30, test_labels = test_labels_30)"
      ],
      "execution_count": 71,
      "outputs": [
        {
          "output_type": "display_data",
          "data": {
            "image/png": "[encoded data removed]",
            "text/plain": [
              "<Figure size 720x504 with 1 Axes>"
            ]
          },
          "metadata": {
            "tags": [],
            "needs_background": "light"
          }
        }
      ]
    },
    {
      "cell_type": "code",
      "metadata": {
        "colab": {
          "base_uri": "https://localhost:8080/",
          "height": 191
        },
        "id": "P8rLI1pk2pWM",
        "outputId": "df211e61-cca6-48a1-b1dc-f4517b9c85f7"
      },
      "source": [
        "df_results"
      ],
      "execution_count": 72,
      "outputs": [
        {
          "output_type": "execute_result",
          "data": {
            "text/html": [
              "<div>\n",
              "<style scoped>\n",
              "    .dataframe tbody tr th:only-of-type {\n",
              "        vertical-align: middle;\n",
              "    }\n",
              "\n",
              "    .dataframe tbody tr th {\n",
              "        vertical-align: top;\n",
              "    }\n",
              "\n",
              "    .dataframe thead th {\n",
              "        text-align: right;\n",
              "    }\n",
              "</style>\n",
              "<table border=\"1\" class=\"dataframe\">\n",
              "  <thead>\n",
              "    <tr style=\"text-align: right;\">\n",
              "      <th></th>\n",
              "      <th>model</th>\n",
              "      <th>MAE</th>\n",
              "      <th>RMSE</th>\n",
              "      <th>MAPE</th>\n",
              "      <th>MASE</th>\n",
              "      <th>last_day_pred</th>\n",
              "      <th>last_day_real</th>\n",
              "    </tr>\n",
              "  </thead>\n",
              "  <tbody>\n",
              "    <tr>\n",
              "      <th>0</th>\n",
              "      <td>Base_naive</td>\n",
              "      <td>567</td>\n",
              "      <td>1071</td>\n",
              "      <td>2.52</td>\n",
              "      <td>0.999570</td>\n",
              "      <td>45604.615754</td>\n",
              "      <td>43144.471291</td>\n",
              "    </tr>\n",
              "    <tr>\n",
              "      <th>1</th>\n",
              "      <td>Model_1_Dense</td>\n",
              "      <td>568</td>\n",
              "      <td>1082</td>\n",
              "      <td>2.54</td>\n",
              "      <td>0.999490</td>\n",
              "      <td>45872.875000</td>\n",
              "      <td>43144.471291</td>\n",
              "    </tr>\n",
              "    <tr>\n",
              "      <th>2</th>\n",
              "      <td>Model_1_2_Dense</td>\n",
              "      <td>664</td>\n",
              "      <td>1232</td>\n",
              "      <td>3.06</td>\n",
              "      <td>1.167849</td>\n",
              "      <td>47401.125000</td>\n",
              "      <td>43144.471291</td>\n",
              "    </tr>\n",
              "    <tr>\n",
              "      <th>3</th>\n",
              "      <td>Model_2_Dense_W30</td>\n",
              "      <td>608</td>\n",
              "      <td>1132</td>\n",
              "      <td>2.77</td>\n",
              "      <td>1.064470</td>\n",
              "      <td>47168.992188</td>\n",
              "      <td>43144.471291</td>\n",
              "    </tr>\n",
              "  </tbody>\n",
              "</table>\n",
              "</div>"
            ],
            "text/plain": [
              "               model  MAE  RMSE  MAPE      MASE  last_day_pred  last_day_real\n",
              "0         Base_naive  567  1071  2.52  0.999570   45604.615754   43144.471291\n",
              "1      Model_1_Dense  568  1082  2.54  0.999490   45872.875000   43144.471291\n",
              "2    Model_1_2_Dense  664  1232  3.06  1.167849   47401.125000   43144.471291\n",
              "3  Model_2_Dense_W30  608  1132  2.77  1.064470   47168.992188   43144.471291"
            ]
          },
          "metadata": {
            "tags": []
          },
          "execution_count": 72
        }
      ]
    },
    {
      "cell_type": "code",
      "metadata": {
        "id": "CvrfOKMD27zr"
      },
      "source": [
        ""
      ],
      "execution_count": 72,
      "outputs": []
    },
    {
      "cell_type": "markdown",
      "metadata": {
        "id": "NU88CI0IMXqq"
      },
      "source": [
        "### 3 Model Dense Window 30 Horizon 7"
      ]
    },
    {
      "cell_type": "code",
      "metadata": {
        "id": "bJqbzOb9MXBS"
      },
      "source": [
        "HORIZON = 7\n",
        "WINDOW_SIZE = 30"
      ],
      "execution_count": 73,
      "outputs": []
    },
    {
      "cell_type": "code",
      "metadata": {
        "id": "QA0jCwNhMjiZ"
      },
      "source": [
        "all_windows_30_7, all_labels_30_7 = make_windows(btc_price, window_size = WINDOW_SIZE, horizon = HORIZON)"
      ],
      "execution_count": 74,
      "outputs": []
    },
    {
      "cell_type": "code",
      "metadata": {
        "id": "y7YhjTSDNNyu"
      },
      "source": [
        "train_windows_30_7, test_windows_30_7, train_labels_30_7, test_labels_30_7 = make_train_test_splits(all_windows_30_7, all_labels_30_7, test_split=0.2)"
      ],
      "execution_count": 75,
      "outputs": []
    },
    {
      "cell_type": "code",
      "metadata": {
        "colab": {
          "base_uri": "https://localhost:8080/"
        },
        "id": "WcsOSIG8NbzH",
        "outputId": "c8ff14d5-0127-4b54-ab8d-51f0387f024b"
      },
      "source": [
        "train_windows_30_7.shape, train_labels_30_7.shape"
      ],
      "execution_count": 76,
      "outputs": [
        {
          "output_type": "execute_result",
          "data": {
            "text/plain": [
              "((2200, 30), (2200, 7))"
            ]
          },
          "metadata": {
            "tags": []
          },
          "execution_count": 76
        }
      ]
    },
    {
      "cell_type": "code",
      "metadata": {
        "id": "O7phfFNEPQQr"
      },
      "source": [
        "K.clear_session()"
      ],
      "execution_count": 77,
      "outputs": []
    },
    {
      "cell_type": "code",
      "metadata": {
        "id": "FS3ydSaRxpdZ"
      },
      "source": [
        "tf.random.set_seed(42)"
      ],
      "execution_count": 78,
      "outputs": []
    },
    {
      "cell_type": "code",
      "metadata": {
        "id": "TrlY2uNCNNyy"
      },
      "source": [
        "model_3 = Sequential([Dense(128, activation = 'relu'),\n",
        "                      Dense(HORIZON, activation = 'linear')],\n",
        "                     name = 'Model_3_Dense_W30_7')"
      ],
      "execution_count": 79,
      "outputs": []
    },
    {
      "cell_type": "code",
      "metadata": {
        "id": "GtYXC5C7NNyz"
      },
      "source": [
        "model_3.compile(optimizer = 'adam', loss = 'mae')"
      ],
      "execution_count": 80,
      "outputs": []
    },
    {
      "cell_type": "code",
      "metadata": {
        "colab": {
          "base_uri": "https://localhost:8080/"
        },
        "id": "taH-G9C0NNy0",
        "outputId": "4151a749-6dd9-43ac-9a9a-b8c601fa5c11"
      },
      "source": [
        "history_3 = model_3.fit(train_windows_30_7, train_labels_30_7, epochs = 100,\n",
        "                        validation_data = (test_windows_30_7, test_labels_30_7),\n",
        "                        batch_size = 128,\n",
        "                        # verbose = 0,\n",
        "                        callbacks = checkpoint(model_3.name))"
      ],
      "execution_count": 81,
      "outputs": [
        {
          "output_type": "stream",
          "text": [
            "Epoch 1/100\n",
            "18/18 [==============================] - 0s 10ms/step - loss: 1476.6752 - val_loss: 3088.5618\n",
            "INFO:tensorflow:Assets written to: time_series/Model_3_Dense_W30_7/assets\n",
            "Epoch 2/100\n",
            "18/18 [==============================] - 0s 4ms/step - loss: 552.8943 - val_loss: 2462.4548\n",
            "INFO:tensorflow:Assets written to: time_series/Model_3_Dense_W30_7/assets\n",
            "Epoch 3/100\n",
            "18/18 [==============================] - 0s 5ms/step - loss: 435.1979 - val_loss: 2283.1482\n",
            "INFO:tensorflow:Assets written to: time_series/Model_3_Dense_W30_7/assets\n",
            "Epoch 4/100\n",
            "18/18 [==============================] - 0s 4ms/step - loss: 391.9787 - val_loss: 1975.1218\n",
            "INFO:tensorflow:Assets written to: time_series/Model_3_Dense_W30_7/assets\n",
            "Epoch 5/100\n",
            "18/18 [==============================] - 0s 4ms/step - loss: 357.9485 - val_loss: 2000.1554\n",
            "Epoch 6/100\n",
            "18/18 [==============================] - 0s 3ms/step - loss: 332.6705 - val_loss: 1723.4183\n",
            "INFO:tensorflow:Assets written to: time_series/Model_3_Dense_W30_7/assets\n",
            "Epoch 7/100\n",
            "18/18 [==============================] - 0s 4ms/step - loss: 309.9903 - val_loss: 1591.9685\n",
            "INFO:tensorflow:Assets written to: time_series/Model_3_Dense_W30_7/assets\n",
            "Epoch 8/100\n",
            "18/18 [==============================] - 0s 4ms/step - loss: 302.4122 - val_loss: 1579.8518\n",
            "INFO:tensorflow:Assets written to: time_series/Model_3_Dense_W30_7/assets\n",
            "Epoch 9/100\n",
            "18/18 [==============================] - 0s 4ms/step - loss: 293.9170 - val_loss: 1602.9115\n",
            "Epoch 10/100\n",
            "18/18 [==============================] - 0s 4ms/step - loss: 291.5431 - val_loss: 1504.9115\n",
            "INFO:tensorflow:Assets written to: time_series/Model_3_Dense_W30_7/assets\n",
            "Epoch 11/100\n",
            "18/18 [==============================] - 0s 4ms/step - loss: 282.3861 - val_loss: 1474.9521\n",
            "INFO:tensorflow:Assets written to: time_series/Model_3_Dense_W30_7/assets\n",
            "Epoch 12/100\n",
            "18/18 [==============================] - 0s 4ms/step - loss: 276.0491 - val_loss: 1539.4846\n",
            "Epoch 13/100\n",
            "18/18 [==============================] - 0s 4ms/step - loss: 272.3232 - val_loss: 1459.5270\n",
            "INFO:tensorflow:Assets written to: time_series/Model_3_Dense_W30_7/assets\n",
            "Epoch 14/100\n",
            "18/18 [==============================] - 0s 4ms/step - loss: 270.6817 - val_loss: 1417.0792\n",
            "INFO:tensorflow:Assets written to: time_series/Model_3_Dense_W30_7/assets\n",
            "Epoch 15/100\n",
            "18/18 [==============================] - 0s 5ms/step - loss: 263.8875 - val_loss: 1541.0619\n",
            "Epoch 16/100\n",
            "18/18 [==============================] - 0s 5ms/step - loss: 265.9065 - val_loss: 1441.2793\n",
            "Epoch 17/100\n",
            "18/18 [==============================] - 0s 4ms/step - loss: 262.9132 - val_loss: 1505.8212\n",
            "Epoch 18/100\n",
            "18/18 [==============================] - 0s 4ms/step - loss: 260.1363 - val_loss: 1446.3213\n",
            "Epoch 19/100\n",
            "18/18 [==============================] - 0s 4ms/step - loss: 258.2223 - val_loss: 1522.3826\n",
            "Epoch 20/100\n",
            "18/18 [==============================] - 0s 4ms/step - loss: 263.9978 - val_loss: 1425.1411\n",
            "Epoch 21/100\n",
            "18/18 [==============================] - 0s 4ms/step - loss: 255.4174 - val_loss: 1460.1964\n",
            "Epoch 22/100\n",
            "18/18 [==============================] - 0s 4ms/step - loss: 255.3434 - val_loss: 1419.4120\n",
            "Epoch 23/100\n",
            "18/18 [==============================] - 0s 4ms/step - loss: 258.0463 - val_loss: 1384.9283\n",
            "INFO:tensorflow:Assets written to: time_series/Model_3_Dense_W30_7/assets\n",
            "Epoch 24/100\n",
            "18/18 [==============================] - 0s 4ms/step - loss: 269.2109 - val_loss: 1377.6123\n",
            "INFO:tensorflow:Assets written to: time_series/Model_3_Dense_W30_7/assets\n",
            "Epoch 25/100\n",
            "18/18 [==============================] - 0s 4ms/step - loss: 253.5239 - val_loss: 1452.3348\n",
            "Epoch 26/100\n",
            "18/18 [==============================] - 0s 4ms/step - loss: 252.1648 - val_loss: 1388.5122\n",
            "Epoch 27/100\n",
            "18/18 [==============================] - 0s 4ms/step - loss: 251.8276 - val_loss: 1451.5780\n",
            "Epoch 28/100\n",
            "18/18 [==============================] - 0s 4ms/step - loss: 247.8791 - val_loss: 1391.4442\n",
            "Epoch 29/100\n",
            "18/18 [==============================] - 0s 4ms/step - loss: 246.0225 - val_loss: 1382.1855\n",
            "Epoch 30/100\n",
            "18/18 [==============================] - 0s 4ms/step - loss: 248.2237 - val_loss: 1336.2773\n",
            "INFO:tensorflow:Assets written to: time_series/Model_3_Dense_W30_7/assets\n",
            "Epoch 31/100\n",
            "18/18 [==============================] - 0s 4ms/step - loss: 242.1411 - val_loss: 1334.8571\n",
            "INFO:tensorflow:Assets written to: time_series/Model_3_Dense_W30_7/assets\n",
            "Epoch 32/100\n",
            "18/18 [==============================] - 0s 4ms/step - loss: 245.8559 - val_loss: 1329.1195\n",
            "INFO:tensorflow:Assets written to: time_series/Model_3_Dense_W30_7/assets\n",
            "Epoch 33/100\n",
            "18/18 [==============================] - 0s 4ms/step - loss: 246.9277 - val_loss: 1372.8103\n",
            "Epoch 34/100\n",
            "18/18 [==============================] - 0s 4ms/step - loss: 244.2539 - val_loss: 1373.9777\n",
            "Epoch 35/100\n",
            "18/18 [==============================] - 0s 4ms/step - loss: 244.3824 - val_loss: 1349.5085\n",
            "Epoch 36/100\n",
            "18/18 [==============================] - 0s 4ms/step - loss: 241.3231 - val_loss: 1427.5964\n",
            "Epoch 37/100\n",
            "18/18 [==============================] - 0s 4ms/step - loss: 257.3803 - val_loss: 1363.9794\n",
            "Epoch 38/100\n",
            "18/18 [==============================] - 0s 4ms/step - loss: 240.1044 - val_loss: 1376.8528\n",
            "Epoch 39/100\n",
            "18/18 [==============================] - 0s 4ms/step - loss: 245.4610 - val_loss: 1412.0398\n",
            "Epoch 40/100\n",
            "18/18 [==============================] - 0s 4ms/step - loss: 239.6820 - val_loss: 1426.0732\n",
            "Epoch 41/100\n",
            "18/18 [==============================] - 0s 4ms/step - loss: 239.1188 - val_loss: 1442.6656\n",
            "Epoch 42/100\n",
            "18/18 [==============================] - 0s 3ms/step - loss: 246.8636 - val_loss: 1347.2452\n",
            "Epoch 43/100\n",
            "18/18 [==============================] - 0s 5ms/step - loss: 239.3242 - val_loss: 1365.7214\n",
            "Epoch 44/100\n",
            "18/18 [==============================] - 0s 4ms/step - loss: 250.1504 - val_loss: 1293.0474\n",
            "INFO:tensorflow:Assets written to: time_series/Model_3_Dense_W30_7/assets\n",
            "Epoch 45/100\n",
            "18/18 [==============================] - 0s 5ms/step - loss: 243.7763 - val_loss: 1505.8331\n",
            "Epoch 46/100\n",
            "18/18 [==============================] - 0s 5ms/step - loss: 241.1997 - val_loss: 1299.8014\n",
            "Epoch 47/100\n",
            "18/18 [==============================] - 0s 4ms/step - loss: 236.0368 - val_loss: 1339.0393\n",
            "Epoch 48/100\n",
            "18/18 [==============================] - 0s 3ms/step - loss: 235.2749 - val_loss: 1329.4688\n",
            "Epoch 49/100\n",
            "18/18 [==============================] - 0s 4ms/step - loss: 238.4083 - val_loss: 1326.4940\n",
            "Epoch 50/100\n",
            "18/18 [==============================] - 0s 4ms/step - loss: 236.0985 - val_loss: 1318.6082\n",
            "Epoch 51/100\n",
            "18/18 [==============================] - 0s 5ms/step - loss: 247.4354 - val_loss: 1389.7017\n",
            "Epoch 52/100\n",
            "18/18 [==============================] - 0s 4ms/step - loss: 233.8826 - val_loss: 1293.4276\n",
            "Epoch 53/100\n",
            "18/18 [==============================] - 0s 4ms/step - loss: 232.7012 - val_loss: 1284.7606\n",
            "INFO:tensorflow:Assets written to: time_series/Model_3_Dense_W30_7/assets\n",
            "Epoch 54/100\n",
            "18/18 [==============================] - 0s 5ms/step - loss: 235.9017 - val_loss: 1284.3805\n",
            "INFO:tensorflow:Assets written to: time_series/Model_3_Dense_W30_7/assets\n",
            "Epoch 55/100\n",
            "18/18 [==============================] - 0s 4ms/step - loss: 232.9452 - val_loss: 1312.6145\n",
            "Epoch 56/100\n",
            "18/18 [==============================] - 0s 4ms/step - loss: 231.0590 - val_loss: 1355.7412\n",
            "Epoch 57/100\n",
            "18/18 [==============================] - 0s 3ms/step - loss: 235.9913 - val_loss: 1363.5928\n",
            "Epoch 58/100\n",
            "18/18 [==============================] - 0s 4ms/step - loss: 231.6387 - val_loss: 1306.6422\n",
            "Epoch 59/100\n",
            "18/18 [==============================] - 0s 4ms/step - loss: 230.8834 - val_loss: 1288.3002\n",
            "Epoch 60/100\n",
            "18/18 [==============================] - 0s 4ms/step - loss: 230.1366 - val_loss: 1259.6018\n",
            "INFO:tensorflow:Assets written to: time_series/Model_3_Dense_W30_7/assets\n",
            "Epoch 61/100\n",
            "18/18 [==============================] - 0s 4ms/step - loss: 230.5381 - val_loss: 1406.2994\n",
            "Epoch 62/100\n",
            "18/18 [==============================] - 0s 4ms/step - loss: 231.8386 - val_loss: 1291.0714\n",
            "Epoch 63/100\n",
            "18/18 [==============================] - 0s 5ms/step - loss: 233.6788 - val_loss: 1368.6284\n",
            "Epoch 64/100\n",
            "18/18 [==============================] - 0s 5ms/step - loss: 232.2231 - val_loss: 1251.2312\n",
            "INFO:tensorflow:Assets written to: time_series/Model_3_Dense_W30_7/assets\n",
            "Epoch 65/100\n",
            "18/18 [==============================] - 0s 4ms/step - loss: 232.8093 - val_loss: 1346.9834\n",
            "Epoch 66/100\n",
            "18/18 [==============================] - 0s 4ms/step - loss: 231.5086 - val_loss: 1429.1592\n",
            "Epoch 67/100\n",
            "18/18 [==============================] - 0s 3ms/step - loss: 234.4316 - val_loss: 1291.2920\n",
            "Epoch 68/100\n",
            "18/18 [==============================] - 0s 4ms/step - loss: 228.4419 - val_loss: 1320.3303\n",
            "Epoch 69/100\n",
            "18/18 [==============================] - 0s 4ms/step - loss: 227.7240 - val_loss: 1519.1731\n",
            "Epoch 70/100\n",
            "18/18 [==============================] - 0s 5ms/step - loss: 233.6939 - val_loss: 1278.3643\n",
            "Epoch 71/100\n",
            "18/18 [==============================] - 0s 5ms/step - loss: 227.1845 - val_loss: 1261.8007\n",
            "Epoch 72/100\n",
            "18/18 [==============================] - 0s 4ms/step - loss: 229.9134 - val_loss: 1251.5464\n",
            "Epoch 73/100\n",
            "18/18 [==============================] - 0s 4ms/step - loss: 227.0498 - val_loss: 1270.7106\n",
            "Epoch 74/100\n",
            "18/18 [==============================] - 0s 5ms/step - loss: 230.8763 - val_loss: 1387.2860\n",
            "Epoch 75/100\n",
            "18/18 [==============================] - 0s 4ms/step - loss: 228.8457 - val_loss: 1356.4391\n",
            "Epoch 76/100\n",
            "18/18 [==============================] - 0s 4ms/step - loss: 228.9847 - val_loss: 1287.2343\n",
            "Epoch 77/100\n",
            "18/18 [==============================] - 0s 3ms/step - loss: 225.3240 - val_loss: 1237.5063\n",
            "INFO:tensorflow:Assets written to: time_series/Model_3_Dense_W30_7/assets\n",
            "Epoch 78/100\n",
            "18/18 [==============================] - 0s 4ms/step - loss: 229.2194 - val_loss: 1248.6914\n",
            "Epoch 79/100\n",
            "18/18 [==============================] - 0s 4ms/step - loss: 227.7465 - val_loss: 1286.5439\n",
            "Epoch 80/100\n",
            "18/18 [==============================] - 0s 4ms/step - loss: 225.9967 - val_loss: 1329.9924\n",
            "Epoch 81/100\n",
            "18/18 [==============================] - 0s 4ms/step - loss: 228.1217 - val_loss: 1262.6132\n",
            "Epoch 82/100\n",
            "18/18 [==============================] - 0s 4ms/step - loss: 225.3166 - val_loss: 1273.8385\n",
            "Epoch 83/100\n",
            "18/18 [==============================] - 0s 4ms/step - loss: 225.2265 - val_loss: 1279.3625\n",
            "Epoch 84/100\n",
            "18/18 [==============================] - 0s 4ms/step - loss: 224.9335 - val_loss: 1249.8485\n",
            "Epoch 85/100\n",
            "18/18 [==============================] - 0s 4ms/step - loss: 226.8255 - val_loss: 1248.8398\n",
            "Epoch 86/100\n",
            "18/18 [==============================] - 0s 5ms/step - loss: 224.7192 - val_loss: 1295.6713\n",
            "Epoch 87/100\n",
            "18/18 [==============================] - 0s 5ms/step - loss: 227.7314 - val_loss: 1312.5581\n",
            "Epoch 88/100\n",
            "18/18 [==============================] - 0s 4ms/step - loss: 226.0089 - val_loss: 1531.1243\n",
            "Epoch 89/100\n",
            "18/18 [==============================] - 0s 5ms/step - loss: 232.9868 - val_loss: 1280.1466\n",
            "Epoch 90/100\n",
            "18/18 [==============================] - 0s 5ms/step - loss: 231.8500 - val_loss: 1357.8198\n",
            "Epoch 91/100\n",
            "18/18 [==============================] - 0s 4ms/step - loss: 227.3205 - val_loss: 1253.0872\n",
            "Epoch 92/100\n",
            "18/18 [==============================] - 0s 6ms/step - loss: 225.8863 - val_loss: 1258.7296\n",
            "Epoch 93/100\n",
            "18/18 [==============================] - 0s 4ms/step - loss: 232.1322 - val_loss: 1319.8274\n",
            "Epoch 94/100\n",
            "18/18 [==============================] - 0s 5ms/step - loss: 226.2046 - val_loss: 1304.3440\n",
            "Epoch 95/100\n",
            "18/18 [==============================] - 0s 4ms/step - loss: 228.3865 - val_loss: 1276.3594\n",
            "Epoch 96/100\n",
            "18/18 [==============================] - 0s 4ms/step - loss: 230.3855 - val_loss: 1371.3052\n",
            "Epoch 97/100\n",
            "18/18 [==============================] - 0s 4ms/step - loss: 225.3062 - val_loss: 1248.2429\n",
            "Epoch 98/100\n",
            "18/18 [==============================] - 0s 5ms/step - loss: 225.6180 - val_loss: 1411.9194\n",
            "Epoch 99/100\n",
            "18/18 [==============================] - 0s 4ms/step - loss: 229.6835 - val_loss: 1246.1526\n",
            "Epoch 100/100\n",
            "18/18 [==============================] - 0s 4ms/step - loss: 223.0126 - val_loss: 1321.5201\n"
          ],
          "name": "stdout"
        }
      ]
    },
    {
      "cell_type": "code",
      "metadata": {
        "id": "ZFDJcBReOm_e"
      },
      "source": [
        "load_model_3 = load_model('time_series/Model_3_Dense_W30_7')"
      ],
      "execution_count": 82,
      "outputs": []
    },
    {
      "cell_type": "code",
      "metadata": {
        "colab": {
          "base_uri": "https://localhost:8080/"
        },
        "id": "td4_CyD_NtHn",
        "outputId": "4b4b2517-bf66-47b3-859d-d53229317a2d"
      },
      "source": [
        "load_model_3.evaluate(test_windows_30_7, test_labels_30_7)"
      ],
      "execution_count": 83,
      "outputs": [
        {
          "output_type": "stream",
          "text": [
            "18/18 [==============================] - 0s 2ms/step - loss: 1237.5065\n"
          ],
          "name": "stdout"
        },
        {
          "output_type": "execute_result",
          "data": {
            "text/plain": [
              "1237.5064697265625"
            ]
          },
          "metadata": {
            "tags": []
          },
          "execution_count": 83
        }
      ]
    },
    {
      "cell_type": "code",
      "metadata": {
        "colab": {
          "base_uri": "https://localhost:8080/"
        },
        "id": "fWyiTer6PrGV",
        "outputId": "77750091-3ea6-4f5f-f5af-c88dcb5b045e"
      },
      "source": [
        "model_3.evaluate(test_windows_30_7, test_labels_30_7)"
      ],
      "execution_count": 84,
      "outputs": [
        {
          "output_type": "stream",
          "text": [
            "18/18 [==============================] - 0s 2ms/step - loss: 1321.5201\n"
          ],
          "name": "stdout"
        },
        {
          "output_type": "execute_result",
          "data": {
            "text/plain": [
              "1321.5201416015625"
            ]
          },
          "metadata": {
            "tags": []
          },
          "execution_count": 84
        }
      ]
    },
    {
      "cell_type": "code",
      "metadata": {
        "id": "-9LMTfouN2Nx"
      },
      "source": [
        "pred_3 = load_model_3.predict(test_windows_30_7)"
      ],
      "execution_count": 85,
      "outputs": []
    },
    {
      "cell_type": "code",
      "metadata": {
        "colab": {
          "base_uri": "https://localhost:8080/"
        },
        "id": "Ezd28qrmODVU",
        "outputId": "8cb9f454-4806-492d-878e-9f5aa8703d10"
      },
      "source": [
        "pred_3[:3], pred_3.shape"
      ],
      "execution_count": 86,
      "outputs": [
        {
          "output_type": "execute_result",
          "data": {
            "text/plain": [
              "(array([[9004.693 , 9048.1   , 9425.088 , 9258.258 , 9495.798 , 9558.451 ,\n",
              "         9357.354 ],\n",
              "        [8735.507 , 8840.304 , 9247.793 , 8885.6   , 9097.188 , 9174.329 ,\n",
              "         9156.819 ],\n",
              "        [8672.509 , 8782.388 , 9123.8545, 8770.37  , 9007.13  , 9003.87  ,\n",
              "         9042.723 ]], dtype=float32), (551, 7))"
            ]
          },
          "metadata": {
            "tags": []
          },
          "execution_count": 86
        }
      ]
    },
    {
      "cell_type": "code",
      "metadata": {
        "colab": {
          "base_uri": "https://localhost:8080/"
        },
        "id": "7smIADFmOFqx",
        "outputId": "bfc0df75-56dc-40c8-8246-96fb1e846b31"
      },
      "source": [
        "# We can take mean value from prediction. I will try to take a first value to predict first day \n",
        "pred_3_first = pred_3[:,0]\n",
        "pred_3_first[:3], len(pred_3_first), len(test_labels)"
      ],
      "execution_count": 87,
      "outputs": [
        {
          "output_type": "execute_result",
          "data": {
            "text/plain": [
              "(array([9004.693, 8735.507, 8672.509], dtype=float32), 551, 556)"
            ]
          },
          "metadata": {
            "tags": []
          },
          "execution_count": 87
        }
      ]
    },
    {
      "cell_type": "code",
      "metadata": {
        "colab": {
          "base_uri": "https://localhost:8080/",
          "height": 462
        },
        "id": "SrrzSVCKQoWH",
        "outputId": "c0d81872-46da-433a-914d-c3ee7840d3b7"
      },
      "source": [
        "plt.figure(figsize=(10, 7))\n",
        "plot_time_series(timesteps=X_train, values=y_train, label=\"Train data\")\n",
        "plot_time_series(timesteps=X_test, values=y_test, label=\"Test data\")\n",
        "plot_time_series(timesteps=X_test[7:], values = pred_3_first, format = '-', label=\"Forecast\")"
      ],
      "execution_count": 88,
      "outputs": [
        {
          "output_type": "display_data",
          "data": {
            "image/png": "[encoded data removed]",
            "text/plain": [
              "<Figure size 720x504 with 1 Axes>"
            ]
          },
          "metadata": {
            "tags": [],
            "needs_background": "light"
          }
        }
      ]
    },
    {
      "cell_type": "code",
      "metadata": {
        "id": "7iNDBGy2UoSg"
      },
      "source": [
        "MAE = int(mean_absolute_error(y_test[7:], pred_3_first).numpy())\n",
        "RMSE = int(tf.sqrt(tf.keras.metrics.mean_squared_error(y_test[7:], pred_3_first)).numpy())\n",
        "MAPE = round(tf.keras.metrics.mean_absolute_percentage_error(y_test[7:], pred_3_first).numpy(),2)\n",
        "MASE = 0\n",
        "# mean_absolute_scaled_error(y_test[7:], pred_3_first).numpy()\n",
        "last_day_pred = pred_3_first[-1]\n",
        "df_results.loc[len(df_results)] = [model_3.name, MAE, RMSE, MAPE, MASE, last_day_pred, y_test[-1]]"
      ],
      "execution_count": 89,
      "outputs": []
    },
    {
      "cell_type": "code",
      "metadata": {
        "colab": {
          "base_uri": "https://localhost:8080/",
          "height": 221
        },
        "id": "BxibtGbtYPjv",
        "outputId": "05bcd96a-2514-44fb-d9f7-2c4c77589892"
      },
      "source": [
        "df_results"
      ],
      "execution_count": 90,
      "outputs": [
        {
          "output_type": "execute_result",
          "data": {
            "text/html": [
              "<div>\n",
              "<style scoped>\n",
              "    .dataframe tbody tr th:only-of-type {\n",
              "        vertical-align: middle;\n",
              "    }\n",
              "\n",
              "    .dataframe tbody tr th {\n",
              "        vertical-align: top;\n",
              "    }\n",
              "\n",
              "    .dataframe thead th {\n",
              "        text-align: right;\n",
              "    }\n",
              "</style>\n",
              "<table border=\"1\" class=\"dataframe\">\n",
              "  <thead>\n",
              "    <tr style=\"text-align: right;\">\n",
              "      <th></th>\n",
              "      <th>model</th>\n",
              "      <th>MAE</th>\n",
              "      <th>RMSE</th>\n",
              "      <th>MAPE</th>\n",
              "      <th>MASE</th>\n",
              "      <th>last_day_pred</th>\n",
              "      <th>last_day_real</th>\n",
              "    </tr>\n",
              "  </thead>\n",
              "  <tbody>\n",
              "    <tr>\n",
              "      <th>0</th>\n",
              "      <td>Base_naive</td>\n",
              "      <td>567</td>\n",
              "      <td>1071</td>\n",
              "      <td>2.52</td>\n",
              "      <td>0.999570</td>\n",
              "      <td>45604.615754</td>\n",
              "      <td>43144.471291</td>\n",
              "    </tr>\n",
              "    <tr>\n",
              "      <th>1</th>\n",
              "      <td>Model_1_Dense</td>\n",
              "      <td>568</td>\n",
              "      <td>1082</td>\n",
              "      <td>2.54</td>\n",
              "      <td>0.999490</td>\n",
              "      <td>45872.875000</td>\n",
              "      <td>43144.471291</td>\n",
              "    </tr>\n",
              "    <tr>\n",
              "      <th>2</th>\n",
              "      <td>Model_1_2_Dense</td>\n",
              "      <td>664</td>\n",
              "      <td>1232</td>\n",
              "      <td>3.06</td>\n",
              "      <td>1.167849</td>\n",
              "      <td>47401.125000</td>\n",
              "      <td>43144.471291</td>\n",
              "    </tr>\n",
              "    <tr>\n",
              "      <th>3</th>\n",
              "      <td>Model_2_Dense_W30</td>\n",
              "      <td>608</td>\n",
              "      <td>1132</td>\n",
              "      <td>2.77</td>\n",
              "      <td>1.064470</td>\n",
              "      <td>47168.992188</td>\n",
              "      <td>43144.471291</td>\n",
              "    </tr>\n",
              "    <tr>\n",
              "      <th>4</th>\n",
              "      <td>Model_3_Dense_W30_7</td>\n",
              "      <td>1788</td>\n",
              "      <td>3128</td>\n",
              "      <td>7.81</td>\n",
              "      <td>0.000000</td>\n",
              "      <td>55739.140625</td>\n",
              "      <td>43144.471291</td>\n",
              "    </tr>\n",
              "  </tbody>\n",
              "</table>\n",
              "</div>"
            ],
            "text/plain": [
              "                 model   MAE  RMSE  ...      MASE  last_day_pred  last_day_real\n",
              "0           Base_naive   567  1071  ...  0.999570   45604.615754   43144.471291\n",
              "1        Model_1_Dense   568  1082  ...  0.999490   45872.875000   43144.471291\n",
              "2      Model_1_2_Dense   664  1232  ...  1.167849   47401.125000   43144.471291\n",
              "3    Model_2_Dense_W30   608  1132  ...  1.064470   47168.992188   43144.471291\n",
              "4  Model_3_Dense_W30_7  1788  3128  ...  0.000000   55739.140625   43144.471291\n",
              "\n",
              "[5 rows x 7 columns]"
            ]
          },
          "metadata": {
            "tags": []
          },
          "execution_count": 90
        }
      ]
    },
    {
      "cell_type": "markdown",
      "metadata": {
        "id": "ZYZPTGfnc168"
      },
      "source": [
        "### 4 Model Conv1D\n",
        "Window size 7, horizon 1\n",
        "\n",
        "The Conv1D layer in TensorFlow takes an input of: (batch_size, timesteps, input_dim).\n"
      ]
    },
    {
      "cell_type": "code",
      "metadata": {
        "id": "xTwE58QzeSUe"
      },
      "source": [
        "HORIZON = 1\n",
        "WINDOW_SIZE = 7"
      ],
      "execution_count": 91,
      "outputs": []
    },
    {
      "cell_type": "code",
      "metadata": {
        "id": "KIkeaFjAZ1JL",
        "colab": {
          "base_uri": "https://localhost:8080/"
        },
        "outputId": "82d35a4e-e279-432f-8207-dda05435db50"
      },
      "source": [
        "train_windows.shape, test_windows.shape"
      ],
      "execution_count": 92,
      "outputs": [
        {
          "output_type": "execute_result",
          "data": {
            "text/plain": [
              "((2224, 7), (556, 7))"
            ]
          },
          "metadata": {
            "tags": []
          },
          "execution_count": 92
        }
      ]
    },
    {
      "cell_type": "code",
      "metadata": {
        "id": "9Dm8Z2GVdSYq"
      },
      "source": [
        "expand_dim_layer = Lambda(lambda x: tf.expand_dims(x, axis = 1))"
      ],
      "execution_count": 93,
      "outputs": []
    },
    {
      "cell_type": "code",
      "metadata": {
        "colab": {
          "base_uri": "https://localhost:8080/"
        },
        "id": "rOjjxsgYfU7T",
        "outputId": "455900f1-d094-43de-c7d1-fa425cf5837c"
      },
      "source": [
        "x = train_windows[0]\n",
        "print(f'Original shape: {x.shape}')\n",
        "print(f'Expanded shape: {expand_dim_layer(x).shape}')"
      ],
      "execution_count": 94,
      "outputs": [
        {
          "output_type": "stream",
          "text": [
            "Original shape: (7,)\n",
            "Expanded shape: (7, 1)\n"
          ],
          "name": "stdout"
        }
      ]
    },
    {
      "cell_type": "code",
      "metadata": {
        "id": "y5AEgrAwxsvy"
      },
      "source": [
        "tf.random.set_seed(42)"
      ],
      "execution_count": 95,
      "outputs": []
    },
    {
      "cell_type": "code",
      "metadata": {
        "id": "hIz7vzsCfIYL"
      },
      "source": [
        "model_4 = Sequential([expand_dim_layer,\n",
        "                      Conv1D(128, 5, padding = 'same', activation='relu'),\n",
        "                      Dense(HORIZON, activation = 'linear')],\n",
        "                     name = 'Model_4_Conv1D')"
      ],
      "execution_count": 96,
      "outputs": []
    },
    {
      "cell_type": "code",
      "metadata": {
        "id": "Smscs_K4geUP"
      },
      "source": [
        "model_4.compile(optimizer = 'adam', loss = 'mae', metrics = 'mae')"
      ],
      "execution_count": 97,
      "outputs": []
    },
    {
      "cell_type": "code",
      "metadata": {
        "colab": {
          "base_uri": "https://localhost:8080/"
        },
        "id": "24sgGFFOgl68",
        "outputId": "e0a57b4b-f53c-4472-d543-42c430ad2e55"
      },
      "source": [
        "history_4 = model_4.fit(train_windows, train_labels, epochs = 100,\n",
        "                        validation_data = (test_windows, test_labels),\n",
        "                        batch_size = 128,\n",
        "                        callbacks = checkpoint(model_4.name))"
      ],
      "execution_count": 98,
      "outputs": [
        {
          "output_type": "stream",
          "text": [
            "Epoch 1/100\n",
            "18/18 [==============================] - 27s 15ms/step - loss: 1361.8899 - mae: 1361.8899 - val_loss: 1742.1061 - val_mae: 1742.1061\n",
            "INFO:tensorflow:Assets written to: time_series/Model_4_Conv1D/assets\n",
            "Epoch 2/100\n",
            "18/18 [==============================] - 0s 6ms/step - loss: 329.7471 - mae: 329.7471 - val_loss: 1775.2544 - val_mae: 1775.2544\n",
            "Epoch 3/100\n",
            "18/18 [==============================] - 0s 5ms/step - loss: 218.6768 - mae: 218.6768 - val_loss: 1245.6897 - val_mae: 1245.6897\n",
            "INFO:tensorflow:Assets written to: time_series/Model_4_Conv1D/assets\n",
            "Epoch 4/100\n",
            "18/18 [==============================] - 0s 5ms/step - loss: 196.2586 - mae: 196.2586 - val_loss: 1083.4241 - val_mae: 1083.4241\n",
            "INFO:tensorflow:Assets written to: time_series/Model_4_Conv1D/assets\n",
            "Epoch 5/100\n",
            "18/18 [==============================] - 0s 6ms/step - loss: 193.0522 - mae: 193.0522 - val_loss: 1083.0670 - val_mae: 1083.0670\n",
            "INFO:tensorflow:Assets written to: time_series/Model_4_Conv1D/assets\n",
            "Epoch 6/100\n",
            "18/18 [==============================] - 0s 5ms/step - loss: 187.9573 - mae: 187.9573 - val_loss: 1049.2720 - val_mae: 1049.2720\n",
            "INFO:tensorflow:Assets written to: time_series/Model_4_Conv1D/assets\n",
            "Epoch 7/100\n",
            "18/18 [==============================] - 0s 5ms/step - loss: 185.2008 - mae: 185.2008 - val_loss: 1017.3392 - val_mae: 1017.3392\n",
            "INFO:tensorflow:Assets written to: time_series/Model_4_Conv1D/assets\n",
            "Epoch 8/100\n",
            "18/18 [==============================] - 0s 5ms/step - loss: 179.6598 - mae: 179.6598 - val_loss: 1011.7412 - val_mae: 1011.7412\n",
            "INFO:tensorflow:Assets written to: time_series/Model_4_Conv1D/assets\n",
            "Epoch 9/100\n",
            "18/18 [==============================] - 0s 5ms/step - loss: 176.5107 - mae: 176.5107 - val_loss: 1013.2429 - val_mae: 1013.2429\n",
            "Epoch 10/100\n",
            "18/18 [==============================] - 0s 5ms/step - loss: 173.2594 - mae: 173.2594 - val_loss: 959.8703 - val_mae: 959.8703\n",
            "INFO:tensorflow:Assets written to: time_series/Model_4_Conv1D/assets\n",
            "Epoch 11/100\n",
            "18/18 [==============================] - 0s 5ms/step - loss: 168.7031 - mae: 168.7031 - val_loss: 935.0577 - val_mae: 935.0577\n",
            "INFO:tensorflow:Assets written to: time_series/Model_4_Conv1D/assets\n",
            "Epoch 12/100\n",
            "18/18 [==============================] - 0s 6ms/step - loss: 165.5805 - mae: 165.5805 - val_loss: 997.2972 - val_mae: 997.2972\n",
            "Epoch 13/100\n",
            "18/18 [==============================] - 0s 6ms/step - loss: 162.8115 - mae: 162.8115 - val_loss: 912.5749 - val_mae: 912.5749\n",
            "INFO:tensorflow:Assets written to: time_series/Model_4_Conv1D/assets\n",
            "Epoch 14/100\n",
            "18/18 [==============================] - 0s 6ms/step - loss: 157.8216 - mae: 157.8216 - val_loss: 895.5115 - val_mae: 895.5115\n",
            "INFO:tensorflow:Assets written to: time_series/Model_4_Conv1D/assets\n",
            "Epoch 15/100\n",
            "18/18 [==============================] - 0s 6ms/step - loss: 158.3052 - mae: 158.3052 - val_loss: 922.4465 - val_mae: 922.4465\n",
            "Epoch 16/100\n",
            "18/18 [==============================] - 0s 6ms/step - loss: 151.5147 - mae: 151.5147 - val_loss: 848.8173 - val_mae: 848.8173\n",
            "INFO:tensorflow:Assets written to: time_series/Model_4_Conv1D/assets\n",
            "Epoch 17/100\n",
            "18/18 [==============================] - 0s 5ms/step - loss: 146.8076 - mae: 146.8076 - val_loss: 873.1804 - val_mae: 873.1804\n",
            "Epoch 18/100\n",
            "18/18 [==============================] - 0s 5ms/step - loss: 144.8100 - mae: 144.8100 - val_loss: 817.4186 - val_mae: 817.4186\n",
            "INFO:tensorflow:Assets written to: time_series/Model_4_Conv1D/assets\n",
            "Epoch 19/100\n",
            "18/18 [==============================] - 0s 5ms/step - loss: 139.5468 - mae: 139.5468 - val_loss: 816.1409 - val_mae: 816.1409\n",
            "INFO:tensorflow:Assets written to: time_series/Model_4_Conv1D/assets\n",
            "Epoch 20/100\n",
            "18/18 [==============================] - 0s 6ms/step - loss: 139.6461 - mae: 139.6461 - val_loss: 766.1573 - val_mae: 766.1573\n",
            "INFO:tensorflow:Assets written to: time_series/Model_4_Conv1D/assets\n",
            "Epoch 21/100\n",
            "18/18 [==============================] - 0s 5ms/step - loss: 137.3137 - mae: 137.3137 - val_loss: 740.3567 - val_mae: 740.3567\n",
            "INFO:tensorflow:Assets written to: time_series/Model_4_Conv1D/assets\n",
            "Epoch 22/100\n",
            "18/18 [==============================] - 0s 6ms/step - loss: 133.9494 - mae: 133.9494 - val_loss: 727.2482 - val_mae: 727.2482\n",
            "INFO:tensorflow:Assets written to: time_series/Model_4_Conv1D/assets\n",
            "Epoch 23/100\n",
            "18/18 [==============================] - 0s 6ms/step - loss: 129.5551 - mae: 129.5551 - val_loss: 718.4427 - val_mae: 718.4427\n",
            "INFO:tensorflow:Assets written to: time_series/Model_4_Conv1D/assets\n",
            "Epoch 24/100\n",
            "18/18 [==============================] - 0s 5ms/step - loss: 130.2068 - mae: 130.2068 - val_loss: 702.7846 - val_mae: 702.7846\n",
            "INFO:tensorflow:Assets written to: time_series/Model_4_Conv1D/assets\n",
            "Epoch 25/100\n",
            "18/18 [==============================] - 0s 5ms/step - loss: 132.0067 - mae: 132.0067 - val_loss: 691.4208 - val_mae: 691.4208\n",
            "INFO:tensorflow:Assets written to: time_series/Model_4_Conv1D/assets\n",
            "Epoch 26/100\n",
            "18/18 [==============================] - 0s 6ms/step - loss: 129.3677 - mae: 129.3677 - val_loss: 726.6973 - val_mae: 726.6973\n",
            "Epoch 27/100\n",
            "18/18 [==============================] - 0s 5ms/step - loss: 126.3125 - mae: 126.3125 - val_loss: 677.9283 - val_mae: 677.9283\n",
            "INFO:tensorflow:Assets written to: time_series/Model_4_Conv1D/assets\n",
            "Epoch 28/100\n",
            "18/18 [==============================] - 0s 5ms/step - loss: 121.5743 - mae: 121.5743 - val_loss: 673.6828 - val_mae: 673.6828\n",
            "INFO:tensorflow:Assets written to: time_series/Model_4_Conv1D/assets\n",
            "Epoch 29/100\n",
            "18/18 [==============================] - 0s 6ms/step - loss: 120.1756 - mae: 120.1756 - val_loss: 659.5728 - val_mae: 659.5728\n",
            "INFO:tensorflow:Assets written to: time_series/Model_4_Conv1D/assets\n",
            "Epoch 30/100\n",
            "18/18 [==============================] - 0s 6ms/step - loss: 123.1872 - mae: 123.1872 - val_loss: 654.4705 - val_mae: 654.4705\n",
            "INFO:tensorflow:Assets written to: time_series/Model_4_Conv1D/assets\n",
            "Epoch 31/100\n",
            "18/18 [==============================] - 0s 6ms/step - loss: 119.0787 - mae: 119.0787 - val_loss: 730.7667 - val_mae: 730.7667\n",
            "Epoch 32/100\n",
            "18/18 [==============================] - 0s 6ms/step - loss: 124.7119 - mae: 124.7119 - val_loss: 675.5730 - val_mae: 675.5730\n",
            "Epoch 33/100\n",
            "18/18 [==============================] - 0s 6ms/step - loss: 117.3850 - mae: 117.3850 - val_loss: 685.7353 - val_mae: 685.7353\n",
            "Epoch 34/100\n",
            "18/18 [==============================] - 0s 6ms/step - loss: 119.5768 - mae: 119.5768 - val_loss: 635.1215 - val_mae: 635.1215\n",
            "INFO:tensorflow:Assets written to: time_series/Model_4_Conv1D/assets\n",
            "Epoch 35/100\n",
            "18/18 [==============================] - 0s 5ms/step - loss: 117.7791 - mae: 117.7791 - val_loss: 628.7010 - val_mae: 628.7010\n",
            "INFO:tensorflow:Assets written to: time_series/Model_4_Conv1D/assets\n",
            "Epoch 36/100\n",
            "18/18 [==============================] - 0s 7ms/step - loss: 122.0933 - mae: 122.0933 - val_loss: 684.0312 - val_mae: 684.0312\n",
            "Epoch 37/100\n",
            "18/18 [==============================] - 0s 5ms/step - loss: 120.3669 - mae: 120.3669 - val_loss: 618.9459 - val_mae: 618.9459\n",
            "INFO:tensorflow:Assets written to: time_series/Model_4_Conv1D/assets\n",
            "Epoch 38/100\n",
            "18/18 [==============================] - 0s 6ms/step - loss: 115.5902 - mae: 115.5902 - val_loss: 612.9244 - val_mae: 612.9244\n",
            "INFO:tensorflow:Assets written to: time_series/Model_4_Conv1D/assets\n",
            "Epoch 39/100\n",
            "18/18 [==============================] - 0s 6ms/step - loss: 114.3173 - mae: 114.3173 - val_loss: 611.1943 - val_mae: 611.1943\n",
            "INFO:tensorflow:Assets written to: time_series/Model_4_Conv1D/assets\n",
            "Epoch 40/100\n",
            "18/18 [==============================] - 0s 6ms/step - loss: 114.1610 - mae: 114.1610 - val_loss: 606.1628 - val_mae: 606.1628\n",
            "INFO:tensorflow:Assets written to: time_series/Model_4_Conv1D/assets\n",
            "Epoch 41/100\n",
            "18/18 [==============================] - 0s 6ms/step - loss: 116.2741 - mae: 116.2741 - val_loss: 657.2797 - val_mae: 657.2797\n",
            "Epoch 42/100\n",
            "18/18 [==============================] - 0s 6ms/step - loss: 119.8042 - mae: 119.8042 - val_loss: 601.3416 - val_mae: 601.3416\n",
            "INFO:tensorflow:Assets written to: time_series/Model_4_Conv1D/assets\n",
            "Epoch 43/100\n",
            "18/18 [==============================] - 0s 5ms/step - loss: 112.3640 - mae: 112.3640 - val_loss: 601.3249 - val_mae: 601.3249\n",
            "INFO:tensorflow:Assets written to: time_series/Model_4_Conv1D/assets\n",
            "Epoch 44/100\n",
            "18/18 [==============================] - 0s 6ms/step - loss: 113.1462 - mae: 113.1462 - val_loss: 614.6297 - val_mae: 614.6297\n",
            "Epoch 45/100\n",
            "18/18 [==============================] - 0s 5ms/step - loss: 113.7463 - mae: 113.7463 - val_loss: 600.1526 - val_mae: 600.1526\n",
            "INFO:tensorflow:Assets written to: time_series/Model_4_Conv1D/assets\n",
            "Epoch 46/100\n",
            "18/18 [==============================] - 0s 6ms/step - loss: 113.1522 - mae: 113.1522 - val_loss: 594.4062 - val_mae: 594.4062\n",
            "INFO:tensorflow:Assets written to: time_series/Model_4_Conv1D/assets\n",
            "Epoch 47/100\n",
            "18/18 [==============================] - 0s 5ms/step - loss: 118.3938 - mae: 118.3938 - val_loss: 750.8311 - val_mae: 750.8311\n",
            "Epoch 48/100\n",
            "18/18 [==============================] - 0s 6ms/step - loss: 116.8473 - mae: 116.8473 - val_loss: 655.1207 - val_mae: 655.1207\n",
            "Epoch 49/100\n",
            "18/18 [==============================] - 0s 5ms/step - loss: 116.6548 - mae: 116.6548 - val_loss: 590.4344 - val_mae: 590.4344\n",
            "INFO:tensorflow:Assets written to: time_series/Model_4_Conv1D/assets\n",
            "Epoch 50/100\n",
            "18/18 [==============================] - 0s 5ms/step - loss: 111.0181 - mae: 111.0181 - val_loss: 621.0759 - val_mae: 621.0759\n",
            "Epoch 51/100\n",
            "18/18 [==============================] - 0s 6ms/step - loss: 111.1499 - mae: 111.1499 - val_loss: 589.5855 - val_mae: 589.5855\n",
            "INFO:tensorflow:Assets written to: time_series/Model_4_Conv1D/assets\n",
            "Epoch 52/100\n",
            "18/18 [==============================] - 0s 5ms/step - loss: 112.1150 - mae: 112.1150 - val_loss: 613.5090 - val_mae: 613.5090\n",
            "Epoch 53/100\n",
            "18/18 [==============================] - 0s 5ms/step - loss: 114.1511 - mae: 114.1511 - val_loss: 602.4407 - val_mae: 602.4407\n",
            "Epoch 54/100\n",
            "18/18 [==============================] - 0s 6ms/step - loss: 114.3348 - mae: 114.3348 - val_loss: 639.8262 - val_mae: 639.8262\n",
            "Epoch 55/100\n",
            "18/18 [==============================] - 0s 5ms/step - loss: 112.5909 - mae: 112.5909 - val_loss: 597.3730 - val_mae: 597.3730\n",
            "Epoch 56/100\n",
            "18/18 [==============================] - 0s 5ms/step - loss: 110.2009 - mae: 110.2009 - val_loss: 772.9675 - val_mae: 772.9675\n",
            "Epoch 57/100\n",
            "18/18 [==============================] - 0s 6ms/step - loss: 127.4291 - mae: 127.4291 - val_loss: 732.7858 - val_mae: 732.7858\n",
            "Epoch 58/100\n",
            "18/18 [==============================] - 0s 6ms/step - loss: 122.2304 - mae: 122.2304 - val_loss: 668.3661 - val_mae: 668.3661\n",
            "Epoch 59/100\n",
            "18/18 [==============================] - 0s 6ms/step - loss: 110.1749 - mae: 110.1749 - val_loss: 606.6161 - val_mae: 606.6161\n",
            "Epoch 60/100\n",
            "18/18 [==============================] - 0s 5ms/step - loss: 112.4284 - mae: 112.4284 - val_loss: 624.6703 - val_mae: 624.6703\n",
            "Epoch 61/100\n",
            "18/18 [==============================] - 0s 5ms/step - loss: 111.6671 - mae: 111.6671 - val_loss: 589.1176 - val_mae: 589.1176\n",
            "INFO:tensorflow:Assets written to: time_series/Model_4_Conv1D/assets\n",
            "Epoch 62/100\n",
            "18/18 [==============================] - 0s 5ms/step - loss: 108.9214 - mae: 108.9214 - val_loss: 592.5905 - val_mae: 592.5905\n",
            "Epoch 63/100\n",
            "18/18 [==============================] - 0s 7ms/step - loss: 111.5041 - mae: 111.5041 - val_loss: 591.9017 - val_mae: 591.9017\n",
            "Epoch 64/100\n",
            "18/18 [==============================] - 0s 6ms/step - loss: 112.3343 - mae: 112.3343 - val_loss: 663.4549 - val_mae: 663.4549\n",
            "Epoch 65/100\n",
            "18/18 [==============================] - 0s 5ms/step - loss: 112.3023 - mae: 112.3023 - val_loss: 576.5623 - val_mae: 576.5623\n",
            "INFO:tensorflow:Assets written to: time_series/Model_4_Conv1D/assets\n",
            "Epoch 66/100\n",
            "18/18 [==============================] - 0s 5ms/step - loss: 109.9643 - mae: 109.9643 - val_loss: 578.0246 - val_mae: 578.0246\n",
            "Epoch 67/100\n",
            "18/18 [==============================] - 0s 6ms/step - loss: 107.6134 - mae: 107.6134 - val_loss: 614.4985 - val_mae: 614.4985\n",
            "Epoch 68/100\n",
            "18/18 [==============================] - 0s 5ms/step - loss: 114.8401 - mae: 114.8401 - val_loss: 716.0084 - val_mae: 716.0083\n",
            "Epoch 69/100\n",
            "18/18 [==============================] - 0s 5ms/step - loss: 126.4526 - mae: 126.4526 - val_loss: 662.0663 - val_mae: 662.0663\n",
            "Epoch 70/100\n",
            "18/18 [==============================] - 0s 6ms/step - loss: 120.9988 - mae: 120.9988 - val_loss: 584.4666 - val_mae: 584.4666\n",
            "Epoch 71/100\n",
            "18/18 [==============================] - 0s 5ms/step - loss: 111.4766 - mae: 111.4766 - val_loss: 600.7312 - val_mae: 600.7312\n",
            "Epoch 72/100\n",
            "18/18 [==============================] - 0s 5ms/step - loss: 110.0443 - mae: 110.0443 - val_loss: 584.3880 - val_mae: 584.3880\n",
            "Epoch 73/100\n",
            "18/18 [==============================] - 0s 5ms/step - loss: 108.7326 - mae: 108.7326 - val_loss: 578.5385 - val_mae: 578.5385\n",
            "Epoch 74/100\n",
            "18/18 [==============================] - 0s 6ms/step - loss: 109.1011 - mae: 109.1011 - val_loss: 573.3927 - val_mae: 573.3927\n",
            "INFO:tensorflow:Assets written to: time_series/Model_4_Conv1D/assets\n",
            "Epoch 75/100\n",
            "18/18 [==============================] - 0s 6ms/step - loss: 108.6310 - mae: 108.6310 - val_loss: 595.8918 - val_mae: 595.8918\n",
            "Epoch 76/100\n",
            "18/18 [==============================] - 0s 5ms/step - loss: 111.5355 - mae: 111.5355 - val_loss: 581.8502 - val_mae: 581.8502\n",
            "Epoch 77/100\n",
            "18/18 [==============================] - 0s 5ms/step - loss: 108.8381 - mae: 108.8381 - val_loss: 574.0556 - val_mae: 574.0556\n",
            "Epoch 78/100\n",
            "18/18 [==============================] - 0s 6ms/step - loss: 108.0393 - mae: 108.0393 - val_loss: 591.6331 - val_mae: 591.6331\n",
            "Epoch 79/100\n",
            "18/18 [==============================] - 0s 6ms/step - loss: 108.6431 - mae: 108.6431 - val_loss: 597.1441 - val_mae: 597.1441\n",
            "Epoch 80/100\n",
            "18/18 [==============================] - 0s 6ms/step - loss: 107.5069 - mae: 107.5069 - val_loss: 579.9067 - val_mae: 579.9067\n",
            "Epoch 81/100\n",
            "18/18 [==============================] - 0s 5ms/step - loss: 107.1384 - mae: 107.1384 - val_loss: 571.4350 - val_mae: 571.4350\n",
            "INFO:tensorflow:Assets written to: time_series/Model_4_Conv1D/assets\n",
            "Epoch 82/100\n",
            "18/18 [==============================] - 0s 6ms/step - loss: 114.4918 - mae: 114.4918 - val_loss: 570.8602 - val_mae: 570.8602\n",
            "INFO:tensorflow:Assets written to: time_series/Model_4_Conv1D/assets\n",
            "Epoch 83/100\n",
            "18/18 [==============================] - 0s 6ms/step - loss: 110.8604 - mae: 110.8604 - val_loss: 667.0032 - val_mae: 667.0032\n",
            "Epoch 84/100\n",
            "18/18 [==============================] - 0s 6ms/step - loss: 112.0241 - mae: 112.0241 - val_loss: 577.5347 - val_mae: 577.5347\n",
            "Epoch 85/100\n",
            "18/18 [==============================] - 0s 6ms/step - loss: 107.1389 - mae: 107.1389 - val_loss: 592.8363 - val_mae: 592.8363\n",
            "Epoch 86/100\n",
            "18/18 [==============================] - 0s 5ms/step - loss: 108.0836 - mae: 108.0836 - val_loss: 595.0799 - val_mae: 595.0799\n",
            "Epoch 87/100\n",
            "18/18 [==============================] - 0s 5ms/step - loss: 107.0574 - mae: 107.0574 - val_loss: 577.0997 - val_mae: 577.0997\n",
            "Epoch 88/100\n",
            "18/18 [==============================] - 0s 5ms/step - loss: 107.7223 - mae: 107.7223 - val_loss: 614.1775 - val_mae: 614.1775\n",
            "Epoch 89/100\n",
            "18/18 [==============================] - 0s 6ms/step - loss: 108.6842 - mae: 108.6842 - val_loss: 569.3512 - val_mae: 569.3512\n",
            "INFO:tensorflow:Assets written to: time_series/Model_4_Conv1D/assets\n",
            "Epoch 90/100\n",
            "18/18 [==============================] - 0s 5ms/step - loss: 106.1486 - mae: 106.1486 - val_loss: 595.5010 - val_mae: 595.5010\n",
            "Epoch 91/100\n",
            "18/18 [==============================] - 0s 5ms/step - loss: 112.0853 - mae: 112.0853 - val_loss: 613.5917 - val_mae: 613.5917\n",
            "Epoch 92/100\n",
            "18/18 [==============================] - 0s 5ms/step - loss: 109.2113 - mae: 109.2113 - val_loss: 569.6698 - val_mae: 569.6698\n",
            "Epoch 93/100\n",
            "18/18 [==============================] - 0s 5ms/step - loss: 112.2923 - mae: 112.2923 - val_loss: 618.6711 - val_mae: 618.6711\n",
            "Epoch 94/100\n",
            "18/18 [==============================] - 0s 6ms/step - loss: 109.7525 - mae: 109.7525 - val_loss: 586.1618 - val_mae: 586.1618\n",
            "Epoch 95/100\n",
            "18/18 [==============================] - 0s 6ms/step - loss: 106.6121 - mae: 106.6121 - val_loss: 567.5096 - val_mae: 567.5096\n",
            "INFO:tensorflow:Assets written to: time_series/Model_4_Conv1D/assets\n",
            "Epoch 96/100\n",
            "18/18 [==============================] - 0s 6ms/step - loss: 115.7416 - mae: 115.7416 - val_loss: 613.6312 - val_mae: 613.6312\n",
            "Epoch 97/100\n",
            "18/18 [==============================] - 0s 5ms/step - loss: 110.8686 - mae: 110.8686 - val_loss: 641.4435 - val_mae: 641.4435\n",
            "Epoch 98/100\n",
            "18/18 [==============================] - 0s 6ms/step - loss: 111.3932 - mae: 111.3932 - val_loss: 569.8342 - val_mae: 569.8342\n",
            "Epoch 99/100\n",
            "18/18 [==============================] - 0s 5ms/step - loss: 109.7000 - mae: 109.7000 - val_loss: 580.7158 - val_mae: 580.7158\n",
            "Epoch 100/100\n",
            "18/18 [==============================] - 0s 6ms/step - loss: 111.1327 - mae: 111.1327 - val_loss: 680.4474 - val_mae: 680.4474\n"
          ],
          "name": "stdout"
        }
      ]
    },
    {
      "cell_type": "code",
      "metadata": {
        "colab": {
          "base_uri": "https://localhost:8080/",
          "height": 315
        },
        "id": "1R6V-nNvhMsd",
        "outputId": "c49ae302-2b7f-4879-8270-d8ad22a7bcbf"
      },
      "source": [
        "plot_loss_curves(history_4)"
      ],
      "execution_count": 99,
      "outputs": [
        {
          "output_type": "display_data",
          "data": {
            "image/png": "[encoded data removed]",
            "text/plain": [
              "<Figure size 432x288 with 1 Axes>"
            ]
          },
          "metadata": {
            "tags": [],
            "needs_background": "light"
          }
        }
      ]
    },
    {
      "cell_type": "code",
      "metadata": {
        "colab": {
          "base_uri": "https://localhost:8080/",
          "height": 462
        },
        "id": "x886EV5TqupD",
        "outputId": "6c559196-dc84-4036-80c8-4f1a1fd17ca1"
      },
      "source": [
        "pred_4 = make_predictions(model_4, test_windows = test_windows, test_labels = test_labels)"
      ],
      "execution_count": 100,
      "outputs": [
        {
          "output_type": "display_data",
          "data": {
            "image/png": "[encoded data removed]",
            "text/plain": [
              "<Figure size 720x504 with 1 Axes>"
            ]
          },
          "metadata": {
            "tags": [],
            "needs_background": "light"
          }
        }
      ]
    },
    {
      "cell_type": "code",
      "metadata": {
        "colab": {
          "base_uri": "https://localhost:8080/",
          "height": 252
        },
        "id": "2hInese3q5Q4",
        "outputId": "aa2eb381-d39d-45e4-eb24-997a1a7eda40"
      },
      "source": [
        "df_results"
      ],
      "execution_count": 101,
      "outputs": [
        {
          "output_type": "execute_result",
          "data": {
            "text/html": [
              "<div>\n",
              "<style scoped>\n",
              "    .dataframe tbody tr th:only-of-type {\n",
              "        vertical-align: middle;\n",
              "    }\n",
              "\n",
              "    .dataframe tbody tr th {\n",
              "        vertical-align: top;\n",
              "    }\n",
              "\n",
              "    .dataframe thead th {\n",
              "        text-align: right;\n",
              "    }\n",
              "</style>\n",
              "<table border=\"1\" class=\"dataframe\">\n",
              "  <thead>\n",
              "    <tr style=\"text-align: right;\">\n",
              "      <th></th>\n",
              "      <th>model</th>\n",
              "      <th>MAE</th>\n",
              "      <th>RMSE</th>\n",
              "      <th>MAPE</th>\n",
              "      <th>MASE</th>\n",
              "      <th>last_day_pred</th>\n",
              "      <th>last_day_real</th>\n",
              "    </tr>\n",
              "  </thead>\n",
              "  <tbody>\n",
              "    <tr>\n",
              "      <th>0</th>\n",
              "      <td>Base_naive</td>\n",
              "      <td>567</td>\n",
              "      <td>1071</td>\n",
              "      <td>2.52</td>\n",
              "      <td>0.999570</td>\n",
              "      <td>45604.615754</td>\n",
              "      <td>43144.471291</td>\n",
              "    </tr>\n",
              "    <tr>\n",
              "      <th>1</th>\n",
              "      <td>Model_1_Dense</td>\n",
              "      <td>568</td>\n",
              "      <td>1082</td>\n",
              "      <td>2.54</td>\n",
              "      <td>0.999490</td>\n",
              "      <td>45872.875000</td>\n",
              "      <td>43144.471291</td>\n",
              "    </tr>\n",
              "    <tr>\n",
              "      <th>2</th>\n",
              "      <td>Model_1_2_Dense</td>\n",
              "      <td>664</td>\n",
              "      <td>1232</td>\n",
              "      <td>3.06</td>\n",
              "      <td>1.167849</td>\n",
              "      <td>47401.125000</td>\n",
              "      <td>43144.471291</td>\n",
              "    </tr>\n",
              "    <tr>\n",
              "      <th>3</th>\n",
              "      <td>Model_2_Dense_W30</td>\n",
              "      <td>608</td>\n",
              "      <td>1132</td>\n",
              "      <td>2.77</td>\n",
              "      <td>1.064470</td>\n",
              "      <td>47168.992188</td>\n",
              "      <td>43144.471291</td>\n",
              "    </tr>\n",
              "    <tr>\n",
              "      <th>4</th>\n",
              "      <td>Model_3_Dense_W30_7</td>\n",
              "      <td>1788</td>\n",
              "      <td>3128</td>\n",
              "      <td>7.81</td>\n",
              "      <td>0.000000</td>\n",
              "      <td>55739.140625</td>\n",
              "      <td>43144.471291</td>\n",
              "    </tr>\n",
              "    <tr>\n",
              "      <th>5</th>\n",
              "      <td>Model_4_Conv1D</td>\n",
              "      <td>567</td>\n",
              "      <td>1082</td>\n",
              "      <td>2.54</td>\n",
              "      <td>0.996957</td>\n",
              "      <td>46118.046875</td>\n",
              "      <td>43144.471291</td>\n",
              "    </tr>\n",
              "  </tbody>\n",
              "</table>\n",
              "</div>"
            ],
            "text/plain": [
              "                 model   MAE  RMSE  ...      MASE  last_day_pred  last_day_real\n",
              "0           Base_naive   567  1071  ...  0.999570   45604.615754   43144.471291\n",
              "1        Model_1_Dense   568  1082  ...  0.999490   45872.875000   43144.471291\n",
              "2      Model_1_2_Dense   664  1232  ...  1.167849   47401.125000   43144.471291\n",
              "3    Model_2_Dense_W30   608  1132  ...  1.064470   47168.992188   43144.471291\n",
              "4  Model_3_Dense_W30_7  1788  3128  ...  0.000000   55739.140625   43144.471291\n",
              "5       Model_4_Conv1D   567  1082  ...  0.996957   46118.046875   43144.471291\n",
              "\n",
              "[6 rows x 7 columns]"
            ]
          },
          "metadata": {
            "tags": []
          },
          "execution_count": 101
        }
      ]
    },
    {
      "cell_type": "markdown",
      "metadata": {
        "id": "t4yCWsfuvuRE"
      },
      "source": [
        "### 5 Model LSTM"
      ]
    },
    {
      "cell_type": "code",
      "metadata": {
        "id": "mMf75qzPxQOW"
      },
      "source": [
        "K.clear_session()\n",
        "tf.random.set_seed(42)"
      ],
      "execution_count": 102,
      "outputs": []
    },
    {
      "cell_type": "code",
      "metadata": {
        "colab": {
          "base_uri": "https://localhost:8080/"
        },
        "id": "NtZ8y4pJvwVZ",
        "outputId": "e3fe6033-e716-484e-cf4c-af6990277c3c"
      },
      "source": [
        "model_5 = Sequential([expand_dim_layer,\n",
        "                      LSTM(128, return_sequences = True, activation='relu'),\n",
        "                      LSTM(128, activation='relu'),\n",
        "                      Dense(128, activation='relu'),\n",
        "                      Dense(HORIZON, activation='linear')],\n",
        "                     name = 'Model_5_LSTM_DENSE')"
      ],
      "execution_count": 103,
      "outputs": [
        {
          "output_type": "stream",
          "text": [
            "WARNING:tensorflow:Layer lstm will not use cuDNN kernels since it doesn't meet the criteria. It will use a generic GPU kernel as fallback when running on GPU.\n",
            "WARNING:tensorflow:Layer lstm_1 will not use cuDNN kernels since it doesn't meet the criteria. It will use a generic GPU kernel as fallback when running on GPU.\n"
          ],
          "name": "stdout"
        }
      ]
    },
    {
      "cell_type": "code",
      "metadata": {
        "id": "TA5flC1TwmEv"
      },
      "source": [
        "model_5.compile(optimizer='adam', loss = 'mae', metrics = 'mae')"
      ],
      "execution_count": 104,
      "outputs": []
    },
    {
      "cell_type": "code",
      "metadata": {
        "colab": {
          "base_uri": "https://localhost:8080/"
        },
        "id": "iM4GTUZKwz8_",
        "outputId": "444109a2-3e0c-4422-efd3-7142ad4e5225"
      },
      "source": [
        "history_5 = model_5.fit(train_windows, train_labels, epochs = 100,\n",
        "                        validation_data = (test_windows, test_labels),\n",
        "                        batch_size = 128,\n",
        "                        callbacks = checkpoint(model_5.name))"
      ],
      "execution_count": 105,
      "outputs": [
        {
          "output_type": "stream",
          "text": [
            "Epoch 1/100\n",
            "18/18 [==============================] - 3s 36ms/step - loss: 2855.6489 - mae: 2855.6489 - val_loss: 13711.9121 - val_mae: 13711.9121\n",
            "INFO:tensorflow:Assets written to: time_series/Model_5_LSTM_DENSE/assets\n",
            "Epoch 2/100\n",
            "18/18 [==============================] - 0s 12ms/step - loss: 826.1332 - mae: 826.1332 - val_loss: 1609.4049 - val_mae: 1609.4049\n",
            "INFO:tensorflow:Assets written to: time_series/Model_5_LSTM_DENSE/assets\n",
            "Epoch 3/100\n",
            "18/18 [==============================] - 0s 13ms/step - loss: 240.9154 - mae: 240.9154 - val_loss: 1581.6028 - val_mae: 1581.6028\n",
            "INFO:tensorflow:Assets written to: time_series/Model_5_LSTM_DENSE/assets\n",
            "Epoch 4/100\n",
            "18/18 [==============================] - 0s 13ms/step - loss: 180.3869 - mae: 180.3869 - val_loss: 914.9314 - val_mae: 914.9314\n",
            "INFO:tensorflow:Assets written to: time_series/Model_5_LSTM_DENSE/assets\n",
            "Epoch 5/100\n",
            "18/18 [==============================] - 0s 14ms/step - loss: 166.5076 - mae: 166.5076 - val_loss: 906.2911 - val_mae: 906.2911\n",
            "INFO:tensorflow:Assets written to: time_series/Model_5_LSTM_DENSE/assets\n",
            "Epoch 6/100\n",
            "18/18 [==============================] - 0s 13ms/step - loss: 166.7663 - mae: 166.7663 - val_loss: 1091.7010 - val_mae: 1091.7010\n",
            "Epoch 7/100\n",
            "18/18 [==============================] - 0s 14ms/step - loss: 164.4860 - mae: 164.4860 - val_loss: 899.9294 - val_mae: 899.9294\n",
            "INFO:tensorflow:Assets written to: time_series/Model_5_LSTM_DENSE/assets\n",
            "Epoch 8/100\n",
            "18/18 [==============================] - 0s 14ms/step - loss: 159.4169 - mae: 159.4169 - val_loss: 876.7393 - val_mae: 876.7393\n",
            "INFO:tensorflow:Assets written to: time_series/Model_5_LSTM_DENSE/assets\n",
            "Epoch 9/100\n",
            "18/18 [==============================] - 0s 12ms/step - loss: 163.5781 - mae: 163.5781 - val_loss: 869.6395 - val_mae: 869.6395\n",
            "INFO:tensorflow:Assets written to: time_series/Model_5_LSTM_DENSE/assets\n",
            "Epoch 10/100\n",
            "18/18 [==============================] - 0s 12ms/step - loss: 161.5470 - mae: 161.5470 - val_loss: 827.9179 - val_mae: 827.9179\n",
            "INFO:tensorflow:Assets written to: time_series/Model_5_LSTM_DENSE/assets\n",
            "Epoch 11/100\n",
            "18/18 [==============================] - 0s 13ms/step - loss: 152.5325 - mae: 152.5325 - val_loss: 871.8523 - val_mae: 871.8523\n",
            "Epoch 12/100\n",
            "18/18 [==============================] - 0s 12ms/step - loss: 146.8232 - mae: 146.8232 - val_loss: 910.1939 - val_mae: 910.1939\n",
            "Epoch 13/100\n",
            "18/18 [==============================] - 0s 13ms/step - loss: 150.7698 - mae: 150.7698 - val_loss: 855.2191 - val_mae: 855.2191\n",
            "Epoch 14/100\n",
            "18/18 [==============================] - 0s 14ms/step - loss: 146.5918 - mae: 146.5918 - val_loss: 818.1053 - val_mae: 818.1053\n",
            "INFO:tensorflow:Assets written to: time_series/Model_5_LSTM_DENSE/assets\n",
            "Epoch 15/100\n",
            "18/18 [==============================] - 0s 14ms/step - loss: 151.8219 - mae: 151.8219 - val_loss: 774.7855 - val_mae: 774.7855\n",
            "INFO:tensorflow:Assets written to: time_series/Model_5_LSTM_DENSE/assets\n",
            "Epoch 16/100\n",
            "18/18 [==============================] - 0s 13ms/step - loss: 163.9682 - mae: 163.9682 - val_loss: 782.8620 - val_mae: 782.8620\n",
            "Epoch 17/100\n",
            "18/18 [==============================] - 0s 13ms/step - loss: 143.3506 - mae: 143.3506 - val_loss: 864.6166 - val_mae: 864.6166\n",
            "Epoch 18/100\n",
            "18/18 [==============================] - 0s 13ms/step - loss: 146.4454 - mae: 146.4454 - val_loss: 845.0540 - val_mae: 845.0540\n",
            "Epoch 19/100\n",
            "18/18 [==============================] - 0s 13ms/step - loss: 133.9696 - mae: 133.9696 - val_loss: 756.4352 - val_mae: 756.4352\n",
            "INFO:tensorflow:Assets written to: time_series/Model_5_LSTM_DENSE/assets\n",
            "Epoch 20/100\n",
            "18/18 [==============================] - 0s 14ms/step - loss: 132.0399 - mae: 132.0399 - val_loss: 733.6373 - val_mae: 733.6373\n",
            "INFO:tensorflow:Assets written to: time_series/Model_5_LSTM_DENSE/assets\n",
            "Epoch 21/100\n",
            "18/18 [==============================] - 0s 13ms/step - loss: 135.8685 - mae: 135.8685 - val_loss: 713.6368 - val_mae: 713.6368\n",
            "INFO:tensorflow:Assets written to: time_series/Model_5_LSTM_DENSE/assets\n",
            "Epoch 22/100\n",
            "18/18 [==============================] - 0s 13ms/step - loss: 132.9351 - mae: 132.9351 - val_loss: 731.7278 - val_mae: 731.7278\n",
            "Epoch 23/100\n",
            "18/18 [==============================] - 0s 13ms/step - loss: 135.8811 - mae: 135.8811 - val_loss: 696.0897 - val_mae: 696.0897\n",
            "INFO:tensorflow:Assets written to: time_series/Model_5_LSTM_DENSE/assets\n",
            "Epoch 24/100\n",
            "18/18 [==============================] - 0s 14ms/step - loss: 130.7151 - mae: 130.7151 - val_loss: 688.1058 - val_mae: 688.1058\n",
            "INFO:tensorflow:Assets written to: time_series/Model_5_LSTM_DENSE/assets\n",
            "Epoch 25/100\n",
            "18/18 [==============================] - 0s 14ms/step - loss: 126.2562 - mae: 126.2562 - val_loss: 678.3933 - val_mae: 678.3933\n",
            "INFO:tensorflow:Assets written to: time_series/Model_5_LSTM_DENSE/assets\n",
            "Epoch 26/100\n",
            "18/18 [==============================] - 0s 13ms/step - loss: 125.5222 - mae: 125.5222 - val_loss: 671.8729 - val_mae: 671.8729\n",
            "INFO:tensorflow:Assets written to: time_series/Model_5_LSTM_DENSE/assets\n",
            "Epoch 27/100\n",
            "18/18 [==============================] - 0s 14ms/step - loss: 126.0292 - mae: 126.0292 - val_loss: 740.5453 - val_mae: 740.5453\n",
            "Epoch 28/100\n",
            "18/18 [==============================] - 0s 13ms/step - loss: 126.0469 - mae: 126.0469 - val_loss: 663.0283 - val_mae: 663.0283\n",
            "INFO:tensorflow:Assets written to: time_series/Model_5_LSTM_DENSE/assets\n",
            "Epoch 29/100\n",
            "18/18 [==============================] - 0s 13ms/step - loss: 121.4203 - mae: 121.4203 - val_loss: 708.2979 - val_mae: 708.2979\n",
            "Epoch 30/100\n",
            "18/18 [==============================] - 0s 14ms/step - loss: 134.7986 - mae: 134.7986 - val_loss: 663.6981 - val_mae: 663.6981\n",
            "Epoch 31/100\n",
            "18/18 [==============================] - 0s 13ms/step - loss: 119.7505 - mae: 119.7505 - val_loss: 692.0348 - val_mae: 692.0348\n",
            "Epoch 32/100\n",
            "18/18 [==============================] - 0s 14ms/step - loss: 120.7031 - mae: 120.7031 - val_loss: 651.8958 - val_mae: 651.8958\n",
            "INFO:tensorflow:Assets written to: time_series/Model_5_LSTM_DENSE/assets\n",
            "Epoch 33/100\n",
            "18/18 [==============================] - 0s 13ms/step - loss: 120.3072 - mae: 120.3072 - val_loss: 682.9924 - val_mae: 682.9924\n",
            "Epoch 34/100\n",
            "18/18 [==============================] - 0s 13ms/step - loss: 122.1870 - mae: 122.1870 - val_loss: 641.6202 - val_mae: 641.6202\n",
            "INFO:tensorflow:Assets written to: time_series/Model_5_LSTM_DENSE/assets\n",
            "Epoch 35/100\n",
            "18/18 [==============================] - 0s 13ms/step - loss: 117.5086 - mae: 117.5086 - val_loss: 644.8738 - val_mae: 644.8738\n",
            "Epoch 36/100\n",
            "18/18 [==============================] - 0s 13ms/step - loss: 122.0327 - mae: 122.0327 - val_loss: 672.8141 - val_mae: 672.8141\n",
            "Epoch 37/100\n",
            "18/18 [==============================] - 0s 14ms/step - loss: 121.3672 - mae: 121.3672 - val_loss: 644.2245 - val_mae: 644.2245\n",
            "Epoch 38/100\n",
            "18/18 [==============================] - 0s 13ms/step - loss: 119.0334 - mae: 119.0334 - val_loss: 638.2355 - val_mae: 638.2355\n",
            "INFO:tensorflow:Assets written to: time_series/Model_5_LSTM_DENSE/assets\n",
            "Epoch 39/100\n",
            "18/18 [==============================] - 0s 14ms/step - loss: 117.5206 - mae: 117.5206 - val_loss: 632.8103 - val_mae: 632.8103\n",
            "INFO:tensorflow:Assets written to: time_series/Model_5_LSTM_DENSE/assets\n",
            "Epoch 40/100\n",
            "18/18 [==============================] - 0s 14ms/step - loss: 119.4245 - mae: 119.4245 - val_loss: 693.6377 - val_mae: 693.6377\n",
            "Epoch 41/100\n",
            "18/18 [==============================] - 0s 13ms/step - loss: 121.5404 - mae: 121.5404 - val_loss: 632.2627 - val_mae: 632.2627\n",
            "INFO:tensorflow:Assets written to: time_series/Model_5_LSTM_DENSE/assets\n",
            "Epoch 42/100\n",
            "18/18 [==============================] - 0s 13ms/step - loss: 117.9409 - mae: 117.9409 - val_loss: 672.8200 - val_mae: 672.8200\n",
            "Epoch 43/100\n",
            "18/18 [==============================] - 0s 12ms/step - loss: 117.6733 - mae: 117.6733 - val_loss: 621.4002 - val_mae: 621.4002\n",
            "INFO:tensorflow:Assets written to: time_series/Model_5_LSTM_DENSE/assets\n",
            "Epoch 44/100\n",
            "18/18 [==============================] - 0s 12ms/step - loss: 114.9560 - mae: 114.9560 - val_loss: 623.1832 - val_mae: 623.1832\n",
            "Epoch 45/100\n",
            "18/18 [==============================] - 0s 14ms/step - loss: 116.8349 - mae: 116.8349 - val_loss: 679.9052 - val_mae: 679.9052\n",
            "Epoch 46/100\n",
            "18/18 [==============================] - 0s 13ms/step - loss: 116.8275 - mae: 116.8275 - val_loss: 764.1190 - val_mae: 764.1190\n",
            "Epoch 47/100\n",
            "18/18 [==============================] - 0s 13ms/step - loss: 125.6138 - mae: 125.6138 - val_loss: 627.6723 - val_mae: 627.6723\n",
            "Epoch 48/100\n",
            "18/18 [==============================] - 0s 13ms/step - loss: 114.2876 - mae: 114.2876 - val_loss: 619.5772 - val_mae: 619.5772\n",
            "INFO:tensorflow:Assets written to: time_series/Model_5_LSTM_DENSE/assets\n",
            "Epoch 49/100\n",
            "18/18 [==============================] - 0s 13ms/step - loss: 117.2430 - mae: 117.2430 - val_loss: 661.3822 - val_mae: 661.3822\n",
            "Epoch 50/100\n",
            "18/18 [==============================] - 0s 13ms/step - loss: 117.2174 - mae: 117.2174 - val_loss: 625.2933 - val_mae: 625.2933\n",
            "Epoch 51/100\n",
            "18/18 [==============================] - 0s 13ms/step - loss: 113.3837 - mae: 113.3837 - val_loss: 608.1619 - val_mae: 608.1619\n",
            "INFO:tensorflow:Assets written to: time_series/Model_5_LSTM_DENSE/assets\n",
            "Epoch 52/100\n",
            "18/18 [==============================] - 0s 14ms/step - loss: 117.7601 - mae: 117.7601 - val_loss: 605.7785 - val_mae: 605.7785\n",
            "INFO:tensorflow:Assets written to: time_series/Model_5_LSTM_DENSE/assets\n",
            "Epoch 53/100\n",
            "18/18 [==============================] - 0s 13ms/step - loss: 122.3195 - mae: 122.3195 - val_loss: 613.1078 - val_mae: 613.1078\n",
            "Epoch 54/100\n",
            "18/18 [==============================] - 0s 13ms/step - loss: 113.8942 - mae: 113.8942 - val_loss: 607.9066 - val_mae: 607.9066\n",
            "Epoch 55/100\n",
            "18/18 [==============================] - 0s 13ms/step - loss: 125.8988 - mae: 125.8988 - val_loss: 666.9045 - val_mae: 666.9045\n",
            "Epoch 56/100\n",
            "18/18 [==============================] - 0s 12ms/step - loss: 128.3978 - mae: 128.3978 - val_loss: 1000.4223 - val_mae: 1000.4223\n",
            "Epoch 57/100\n",
            "18/18 [==============================] - 0s 13ms/step - loss: 155.2771 - mae: 155.2771 - val_loss: 785.8425 - val_mae: 785.8425\n",
            "Epoch 58/100\n",
            "18/18 [==============================] - 0s 13ms/step - loss: 124.1035 - mae: 124.1035 - val_loss: 674.1046 - val_mae: 674.1046\n",
            "Epoch 59/100\n",
            "18/18 [==============================] - 0s 13ms/step - loss: 116.0008 - mae: 116.0008 - val_loss: 645.4471 - val_mae: 645.4471\n",
            "Epoch 60/100\n",
            "18/18 [==============================] - 0s 12ms/step - loss: 119.1444 - mae: 119.1444 - val_loss: 649.6387 - val_mae: 649.6387\n",
            "Epoch 61/100\n",
            "18/18 [==============================] - 0s 13ms/step - loss: 111.6318 - mae: 111.6318 - val_loss: 605.4225 - val_mae: 605.4225\n",
            "INFO:tensorflow:Assets written to: time_series/Model_5_LSTM_DENSE/assets\n",
            "Epoch 62/100\n",
            "18/18 [==============================] - 0s 14ms/step - loss: 109.6768 - mae: 109.6768 - val_loss: 600.0278 - val_mae: 600.0278\n",
            "INFO:tensorflow:Assets written to: time_series/Model_5_LSTM_DENSE/assets\n",
            "Epoch 63/100\n",
            "18/18 [==============================] - 0s 13ms/step - loss: 111.0584 - mae: 111.0584 - val_loss: 610.2496 - val_mae: 610.2496\n",
            "Epoch 64/100\n",
            "18/18 [==============================] - 0s 13ms/step - loss: 110.6649 - mae: 110.6649 - val_loss: 674.6314 - val_mae: 674.6314\n",
            "Epoch 65/100\n",
            "18/18 [==============================] - 0s 14ms/step - loss: 115.3993 - mae: 115.3993 - val_loss: 593.3154 - val_mae: 593.3154\n",
            "INFO:tensorflow:Assets written to: time_series/Model_5_LSTM_DENSE/assets\n",
            "Epoch 66/100\n",
            "18/18 [==============================] - 0s 13ms/step - loss: 109.9056 - mae: 109.9056 - val_loss: 593.8091 - val_mae: 593.8091\n",
            "Epoch 67/100\n",
            "18/18 [==============================] - 0s 13ms/step - loss: 111.3520 - mae: 111.3520 - val_loss: 664.1830 - val_mae: 664.1830\n",
            "Epoch 68/100\n",
            "18/18 [==============================] - 0s 14ms/step - loss: 109.3271 - mae: 109.3271 - val_loss: 592.1198 - val_mae: 592.1198\n",
            "INFO:tensorflow:Assets written to: time_series/Model_5_LSTM_DENSE/assets\n",
            "Epoch 69/100\n",
            "18/18 [==============================] - 0s 14ms/step - loss: 112.7440 - mae: 112.7440 - val_loss: 661.1286 - val_mae: 661.1286\n",
            "Epoch 70/100\n",
            "18/18 [==============================] - 0s 13ms/step - loss: 119.0715 - mae: 119.0715 - val_loss: 601.1584 - val_mae: 601.1584\n",
            "Epoch 71/100\n",
            "18/18 [==============================] - 0s 13ms/step - loss: 112.6013 - mae: 112.6013 - val_loss: 601.7534 - val_mae: 601.7534\n",
            "Epoch 72/100\n",
            "18/18 [==============================] - 0s 14ms/step - loss: 124.1268 - mae: 124.1268 - val_loss: 685.7040 - val_mae: 685.7040\n",
            "Epoch 73/100\n",
            "18/18 [==============================] - 0s 14ms/step - loss: 112.9338 - mae: 112.9338 - val_loss: 617.1699 - val_mae: 617.1699\n",
            "Epoch 74/100\n",
            "18/18 [==============================] - 0s 14ms/step - loss: 117.1720 - mae: 117.1720 - val_loss: 604.4699 - val_mae: 604.4699\n",
            "Epoch 75/100\n",
            "18/18 [==============================] - 0s 14ms/step - loss: 115.0499 - mae: 115.0499 - val_loss: 605.4375 - val_mae: 605.4375\n",
            "Epoch 76/100\n",
            "18/18 [==============================] - 0s 13ms/step - loss: 119.3838 - mae: 119.3838 - val_loss: 625.7393 - val_mae: 625.7393\n",
            "Epoch 77/100\n",
            "18/18 [==============================] - 0s 14ms/step - loss: 117.1133 - mae: 117.1133 - val_loss: 588.7972 - val_mae: 588.7972\n",
            "INFO:tensorflow:Assets written to: time_series/Model_5_LSTM_DENSE/assets\n",
            "Epoch 78/100\n",
            "18/18 [==============================] - 0s 14ms/step - loss: 113.9502 - mae: 113.9502 - val_loss: 612.0799 - val_mae: 612.0799\n",
            "Epoch 79/100\n",
            "18/18 [==============================] - 0s 14ms/step - loss: 111.3343 - mae: 111.3343 - val_loss: 636.8912 - val_mae: 636.8912\n",
            "Epoch 80/100\n",
            "18/18 [==============================] - 0s 13ms/step - loss: 121.5195 - mae: 121.5195 - val_loss: 664.5167 - val_mae: 664.5167\n",
            "Epoch 81/100\n",
            "18/18 [==============================] - 0s 13ms/step - loss: 113.7676 - mae: 113.7676 - val_loss: 618.3750 - val_mae: 618.3750\n",
            "Epoch 82/100\n",
            "18/18 [==============================] - 0s 13ms/step - loss: 126.9194 - mae: 126.9194 - val_loss: 610.5418 - val_mae: 610.5418\n",
            "Epoch 83/100\n",
            "18/18 [==============================] - 0s 12ms/step - loss: 121.5286 - mae: 121.5286 - val_loss: 821.4841 - val_mae: 821.4841\n",
            "Epoch 84/100\n",
            "18/18 [==============================] - 0s 14ms/step - loss: 125.6481 - mae: 125.6481 - val_loss: 629.5494 - val_mae: 629.5494\n",
            "Epoch 85/100\n",
            "18/18 [==============================] - 0s 13ms/step - loss: 110.5952 - mae: 110.5952 - val_loss: 599.4894 - val_mae: 599.4894\n",
            "Epoch 86/100\n",
            "18/18 [==============================] - 0s 13ms/step - loss: 112.0533 - mae: 112.0533 - val_loss: 583.0203 - val_mae: 583.0203\n",
            "INFO:tensorflow:Assets written to: time_series/Model_5_LSTM_DENSE/assets\n",
            "Epoch 87/100\n",
            "18/18 [==============================] - 0s 14ms/step - loss: 108.4016 - mae: 108.4016 - val_loss: 623.6718 - val_mae: 623.6718\n",
            "Epoch 88/100\n",
            "18/18 [==============================] - 0s 13ms/step - loss: 110.6441 - mae: 110.6441 - val_loss: 626.1516 - val_mae: 626.1516\n",
            "Epoch 89/100\n",
            "18/18 [==============================] - 0s 12ms/step - loss: 110.1461 - mae: 110.1461 - val_loss: 670.3044 - val_mae: 670.3044\n",
            "Epoch 90/100\n",
            "18/18 [==============================] - 0s 14ms/step - loss: 112.7752 - mae: 112.7752 - val_loss: 582.8627 - val_mae: 582.8627\n",
            "INFO:tensorflow:Assets written to: time_series/Model_5_LSTM_DENSE/assets\n",
            "Epoch 91/100\n",
            "18/18 [==============================] - 0s 13ms/step - loss: 109.7954 - mae: 109.7954 - val_loss: 588.5728 - val_mae: 588.5728\n",
            "Epoch 92/100\n",
            "18/18 [==============================] - 0s 12ms/step - loss: 112.0695 - mae: 112.0695 - val_loss: 647.6968 - val_mae: 647.6968\n",
            "Epoch 93/100\n",
            "18/18 [==============================] - 0s 13ms/step - loss: 108.3754 - mae: 108.3754 - val_loss: 583.8263 - val_mae: 583.8263\n",
            "Epoch 94/100\n",
            "18/18 [==============================] - 0s 13ms/step - loss: 107.5670 - mae: 107.5670 - val_loss: 580.1735 - val_mae: 580.1735\n",
            "INFO:tensorflow:Assets written to: time_series/Model_5_LSTM_DENSE/assets\n",
            "Epoch 95/100\n",
            "18/18 [==============================] - 0s 14ms/step - loss: 106.4440 - mae: 106.4440 - val_loss: 589.6324 - val_mae: 589.6324\n",
            "Epoch 96/100\n",
            "18/18 [==============================] - 0s 13ms/step - loss: 109.2855 - mae: 109.2855 - val_loss: 589.7018 - val_mae: 589.7018\n",
            "Epoch 97/100\n",
            "18/18 [==============================] - 0s 13ms/step - loss: 109.3244 - mae: 109.3244 - val_loss: 581.0623 - val_mae: 581.0623\n",
            "Epoch 98/100\n",
            "18/18 [==============================] - 0s 13ms/step - loss: 109.4205 - mae: 109.4205 - val_loss: 587.8370 - val_mae: 587.8370\n",
            "Epoch 99/100\n",
            "18/18 [==============================] - 0s 13ms/step - loss: 115.1786 - mae: 115.1786 - val_loss: 621.8691 - val_mae: 621.8691\n",
            "Epoch 100/100\n",
            "18/18 [==============================] - 0s 13ms/step - loss: 123.6051 - mae: 123.6051 - val_loss: 580.2537 - val_mae: 580.2537\n"
          ],
          "name": "stdout"
        }
      ]
    },
    {
      "cell_type": "code",
      "metadata": {
        "colab": {
          "base_uri": "https://localhost:8080/",
          "height": 315
        },
        "id": "gYE5cOWHxxqS",
        "outputId": "aa0e6da1-15c8-4c7b-8dfb-fdcba7cfd840"
      },
      "source": [
        "plot_loss_curves(history_5)"
      ],
      "execution_count": 106,
      "outputs": [
        {
          "output_type": "display_data",
          "data": {
            "image/png": "[encoded data removed]",
            "text/plain": [
              "<Figure size 432x288 with 1 Axes>"
            ]
          },
          "metadata": {
            "tags": [],
            "needs_background": "light"
          }
        }
      ]
    },
    {
      "cell_type": "code",
      "metadata": {
        "colab": {
          "base_uri": "https://localhost:8080/",
          "height": 495
        },
        "id": "KAqoewl-397U",
        "outputId": "c78e1fff-2b74-432a-ac16-17890645bf52"
      },
      "source": [
        "pred_5 = make_predictions(model_5)"
      ],
      "execution_count": 107,
      "outputs": [
        {
          "output_type": "stream",
          "text": [
            "WARNING:tensorflow:Layer lstm will not use cuDNN kernels since it doesn't meet the criteria. It will use a generic GPU kernel as fallback when running on GPU.\n",
            "WARNING:tensorflow:Layer lstm_1 will not use cuDNN kernels since it doesn't meet the criteria. It will use a generic GPU kernel as fallback when running on GPU.\n"
          ],
          "name": "stdout"
        },
        {
          "output_type": "display_data",
          "data": {
            "image/png": "[encoded data removed]",
            "text/plain": [
              "<Figure size 720x504 with 1 Axes>"
            ]
          },
          "metadata": {
            "tags": [],
            "needs_background": "light"
          }
        }
      ]
    },
    {
      "cell_type": "code",
      "metadata": {
        "colab": {
          "base_uri": "https://localhost:8080/",
          "height": 282
        },
        "id": "oMuvceW14GTU",
        "outputId": "131447e3-d1e0-4b23-8f75-52816b502ddd"
      },
      "source": [
        "df_results"
      ],
      "execution_count": 108,
      "outputs": [
        {
          "output_type": "execute_result",
          "data": {
            "text/html": [
              "<div>\n",
              "<style scoped>\n",
              "    .dataframe tbody tr th:only-of-type {\n",
              "        vertical-align: middle;\n",
              "    }\n",
              "\n",
              "    .dataframe tbody tr th {\n",
              "        vertical-align: top;\n",
              "    }\n",
              "\n",
              "    .dataframe thead th {\n",
              "        text-align: right;\n",
              "    }\n",
              "</style>\n",
              "<table border=\"1\" class=\"dataframe\">\n",
              "  <thead>\n",
              "    <tr style=\"text-align: right;\">\n",
              "      <th></th>\n",
              "      <th>model</th>\n",
              "      <th>MAE</th>\n",
              "      <th>RMSE</th>\n",
              "      <th>MAPE</th>\n",
              "      <th>MASE</th>\n",
              "      <th>last_day_pred</th>\n",
              "      <th>last_day_real</th>\n",
              "    </tr>\n",
              "  </thead>\n",
              "  <tbody>\n",
              "    <tr>\n",
              "      <th>0</th>\n",
              "      <td>Base_naive</td>\n",
              "      <td>567</td>\n",
              "      <td>1071</td>\n",
              "      <td>2.52</td>\n",
              "      <td>0.999570</td>\n",
              "      <td>45604.615754</td>\n",
              "      <td>43144.471291</td>\n",
              "    </tr>\n",
              "    <tr>\n",
              "      <th>1</th>\n",
              "      <td>Model_1_Dense</td>\n",
              "      <td>568</td>\n",
              "      <td>1082</td>\n",
              "      <td>2.54</td>\n",
              "      <td>0.999490</td>\n",
              "      <td>45872.875000</td>\n",
              "      <td>43144.471291</td>\n",
              "    </tr>\n",
              "    <tr>\n",
              "      <th>2</th>\n",
              "      <td>Model_1_2_Dense</td>\n",
              "      <td>664</td>\n",
              "      <td>1232</td>\n",
              "      <td>3.06</td>\n",
              "      <td>1.167849</td>\n",
              "      <td>47401.125000</td>\n",
              "      <td>43144.471291</td>\n",
              "    </tr>\n",
              "    <tr>\n",
              "      <th>3</th>\n",
              "      <td>Model_2_Dense_W30</td>\n",
              "      <td>608</td>\n",
              "      <td>1132</td>\n",
              "      <td>2.77</td>\n",
              "      <td>1.064470</td>\n",
              "      <td>47168.992188</td>\n",
              "      <td>43144.471291</td>\n",
              "    </tr>\n",
              "    <tr>\n",
              "      <th>4</th>\n",
              "      <td>Model_3_Dense_W30_7</td>\n",
              "      <td>1788</td>\n",
              "      <td>3128</td>\n",
              "      <td>7.81</td>\n",
              "      <td>0.000000</td>\n",
              "      <td>55739.140625</td>\n",
              "      <td>43144.471291</td>\n",
              "    </tr>\n",
              "    <tr>\n",
              "      <th>5</th>\n",
              "      <td>Model_4_Conv1D</td>\n",
              "      <td>567</td>\n",
              "      <td>1082</td>\n",
              "      <td>2.54</td>\n",
              "      <td>0.996957</td>\n",
              "      <td>46118.046875</td>\n",
              "      <td>43144.471291</td>\n",
              "    </tr>\n",
              "    <tr>\n",
              "      <th>6</th>\n",
              "      <td>Model_5_LSTM_DENSE</td>\n",
              "      <td>580</td>\n",
              "      <td>1098</td>\n",
              "      <td>2.61</td>\n",
              "      <td>1.019204</td>\n",
              "      <td>46292.511719</td>\n",
              "      <td>43144.471291</td>\n",
              "    </tr>\n",
              "  </tbody>\n",
              "</table>\n",
              "</div>"
            ],
            "text/plain": [
              "                 model   MAE  RMSE  ...      MASE  last_day_pred  last_day_real\n",
              "0           Base_naive   567  1071  ...  0.999570   45604.615754   43144.471291\n",
              "1        Model_1_Dense   568  1082  ...  0.999490   45872.875000   43144.471291\n",
              "2      Model_1_2_Dense   664  1232  ...  1.167849   47401.125000   43144.471291\n",
              "3    Model_2_Dense_W30   608  1132  ...  1.064470   47168.992188   43144.471291\n",
              "4  Model_3_Dense_W30_7  1788  3128  ...  0.000000   55739.140625   43144.471291\n",
              "5       Model_4_Conv1D   567  1082  ...  0.996957   46118.046875   43144.471291\n",
              "6   Model_5_LSTM_DENSE   580  1098  ...  1.019204   46292.511719   43144.471291\n",
              "\n",
              "[7 rows x 7 columns]"
            ]
          },
          "metadata": {
            "tags": []
          },
          "execution_count": 108
        }
      ]
    },
    {
      "cell_type": "markdown",
      "metadata": {
        "id": "WSti9zCG4bJE"
      },
      "source": [
        "### Make a multivarial dataset\n",
        "\n",
        "What is the Bitcoin block reward size?\n",
        "\n",
        "The Bitcoin block reward size is the number of Bitcoin someone receives from mining a Bitcoin block.\n",
        "\n",
        "At its inception, the Bitcoin block reward size was 50.\n",
        "\n",
        "But every four years or so, the Bitcoin block reward halves.\n",
        "\n",
        "For example, the block reward size went from 50 (starting January 2009) to 25 on November 28 2012.\n",
        "\n"
      ]
    },
    {
      "cell_type": "code",
      "metadata": {
        "id": "bMHc7hUl4Jef"
      },
      "source": [
        "# Block reward values\n",
        "block_reward_1 = 50 # 3 January 2009 (2009-01-03) - this block reward isn't in our dataset (it starts from 01 October 2013)\n",
        "block_reward_2 = 25 # 28 November 2012 \n",
        "block_reward_3 = 12.5 # 9 July 2016\n",
        "block_reward_4 = 6.25 # 11 May 2020\n",
        "\n",
        "# Block reward dates (datetime form of the above date stamps)\n",
        "block_reward_2_datetime = np.datetime64(\"2012-11-28\")\n",
        "block_reward_3_datetime = np.datetime64(\"2016-07-09\")\n",
        "block_reward_4_datetime = np.datetime64(\"2020-05-11\")"
      ],
      "execution_count": 109,
      "outputs": []
    },
    {
      "cell_type": "code",
      "metadata": {
        "colab": {
          "base_uri": "https://localhost:8080/"
        },
        "id": "TqEikxEmCjow",
        "outputId": "34dce7cb-1ff9-46aa-94cd-af86d2da6a98"
      },
      "source": [
        "block_reward_4_datetime"
      ],
      "execution_count": 110,
      "outputs": [
        {
          "output_type": "execute_result",
          "data": {
            "text/plain": [
              "numpy.datetime64('2020-05-11')"
            ]
          },
          "metadata": {
            "tags": []
          },
          "execution_count": 110
        }
      ]
    },
    {
      "cell_type": "code",
      "metadata": {
        "id": "9FaM_2MM7DaA"
      },
      "source": [
        "df_bc['reward'] = [0.]*len(df_bc)"
      ],
      "execution_count": 111,
      "outputs": []
    },
    {
      "cell_type": "code",
      "metadata": {
        "colab": {
          "base_uri": "https://localhost:8080/",
          "height": 252
        },
        "id": "yRCdwyv5AshK",
        "outputId": "5eb83046-2483-40be-969d-d055a5812f0d"
      },
      "source": [
        "df_bc.head()"
      ],
      "execution_count": 112,
      "outputs": [
        {
          "output_type": "execute_result",
          "data": {
            "text/html": [
              "<div>\n",
              "<style scoped>\n",
              "    .dataframe tbody tr th:only-of-type {\n",
              "        vertical-align: middle;\n",
              "    }\n",
              "\n",
              "    .dataframe tbody tr th {\n",
              "        vertical-align: top;\n",
              "    }\n",
              "\n",
              "    .dataframe thead th {\n",
              "        text-align: right;\n",
              "    }\n",
              "</style>\n",
              "<table border=\"1\" class=\"dataframe\">\n",
              "  <thead>\n",
              "    <tr style=\"text-align: right;\">\n",
              "      <th></th>\n",
              "      <th>price</th>\n",
              "      <th>reward</th>\n",
              "    </tr>\n",
              "    <tr>\n",
              "      <th>date</th>\n",
              "      <th></th>\n",
              "      <th></th>\n",
              "    </tr>\n",
              "  </thead>\n",
              "  <tbody>\n",
              "    <tr>\n",
              "      <th>2013-10-01</th>\n",
              "      <td>123.65499</td>\n",
              "      <td>0.0</td>\n",
              "    </tr>\n",
              "    <tr>\n",
              "      <th>2013-10-02</th>\n",
              "      <td>125.45500</td>\n",
              "      <td>0.0</td>\n",
              "    </tr>\n",
              "    <tr>\n",
              "      <th>2013-10-03</th>\n",
              "      <td>108.58483</td>\n",
              "      <td>0.0</td>\n",
              "    </tr>\n",
              "    <tr>\n",
              "      <th>2013-10-04</th>\n",
              "      <td>118.67466</td>\n",
              "      <td>0.0</td>\n",
              "    </tr>\n",
              "    <tr>\n",
              "      <th>2013-10-05</th>\n",
              "      <td>121.33866</td>\n",
              "      <td>0.0</td>\n",
              "    </tr>\n",
              "  </tbody>\n",
              "</table>\n",
              "</div>"
            ],
            "text/plain": [
              "                price  reward\n",
              "date                         \n",
              "2013-10-01  123.65499     0.0\n",
              "2013-10-02  125.45500     0.0\n",
              "2013-10-03  108.58483     0.0\n",
              "2013-10-04  118.67466     0.0\n",
              "2013-10-05  121.33866     0.0"
            ]
          },
          "metadata": {
            "tags": []
          },
          "execution_count": 112
        }
      ]
    },
    {
      "cell_type": "code",
      "metadata": {
        "colab": {
          "base_uri": "https://localhost:8080/"
        },
        "id": "FwYKhWvMBP8P",
        "outputId": "01bf0543-01fb-4b38-8682-7e0e81248021"
      },
      "source": [
        "df_bc.info()"
      ],
      "execution_count": 113,
      "outputs": [
        {
          "output_type": "stream",
          "text": [
            "<class 'pandas.core.frame.DataFrame'>\n",
            "DatetimeIndex: 2787 entries, 2013-10-01 to 2021-05-18\n",
            "Data columns (total 2 columns):\n",
            " #   Column  Non-Null Count  Dtype  \n",
            "---  ------  --------------  -----  \n",
            " 0   price   2787 non-null   float64\n",
            " 1   reward  2787 non-null   float64\n",
            "dtypes: float64(2)\n",
            "memory usage: 65.3 KB\n"
          ],
          "name": "stdout"
        }
      ]
    },
    {
      "cell_type": "code",
      "metadata": {
        "colab": {
          "base_uri": "https://localhost:8080/"
        },
        "id": "xpwqN-XfB9-O",
        "outputId": "2edc27a1-5cd1-4efc-e17d-12f50403cede"
      },
      "source": [
        "# Get date indexes for when to add in different block dates\n",
        "block_reward_2_days = (block_reward_3_datetime - df_bc.index[0]).days\n",
        "block_reward_3_days = (block_reward_4_datetime - df_bc.index[0]).days\n",
        "block_reward_2_days, block_reward_3_days"
      ],
      "execution_count": 114,
      "outputs": [
        {
          "output_type": "execute_result",
          "data": {
            "text/plain": [
              "(1012, 2414)"
            ]
          },
          "metadata": {
            "tags": []
          },
          "execution_count": 114
        }
      ]
    },
    {
      "cell_type": "code",
      "metadata": {
        "colab": {
          "base_uri": "https://localhost:8080/",
          "height": 252
        },
        "id": "IBQXd64L6vsx",
        "outputId": "8d904118-9a8f-4189-80d9-2f31758a9b0e"
      },
      "source": [
        "# Set values of block_reward column (it's the last column hence -1 indexing on iloc)\n",
        "df_bc.iloc[:block_reward_2_days, -1] = block_reward_2\n",
        "df_bc.iloc[block_reward_2_days:block_reward_3_days, -1] = block_reward_3\n",
        "df_bc.iloc[block_reward_3_days:, -1] = block_reward_4\n",
        "df_bc.head()"
      ],
      "execution_count": 115,
      "outputs": [
        {
          "output_type": "execute_result",
          "data": {
            "text/html": [
              "<div>\n",
              "<style scoped>\n",
              "    .dataframe tbody tr th:only-of-type {\n",
              "        vertical-align: middle;\n",
              "    }\n",
              "\n",
              "    .dataframe tbody tr th {\n",
              "        vertical-align: top;\n",
              "    }\n",
              "\n",
              "    .dataframe thead th {\n",
              "        text-align: right;\n",
              "    }\n",
              "</style>\n",
              "<table border=\"1\" class=\"dataframe\">\n",
              "  <thead>\n",
              "    <tr style=\"text-align: right;\">\n",
              "      <th></th>\n",
              "      <th>price</th>\n",
              "      <th>reward</th>\n",
              "    </tr>\n",
              "    <tr>\n",
              "      <th>date</th>\n",
              "      <th></th>\n",
              "      <th></th>\n",
              "    </tr>\n",
              "  </thead>\n",
              "  <tbody>\n",
              "    <tr>\n",
              "      <th>2013-10-01</th>\n",
              "      <td>123.65499</td>\n",
              "      <td>25.0</td>\n",
              "    </tr>\n",
              "    <tr>\n",
              "      <th>2013-10-02</th>\n",
              "      <td>125.45500</td>\n",
              "      <td>25.0</td>\n",
              "    </tr>\n",
              "    <tr>\n",
              "      <th>2013-10-03</th>\n",
              "      <td>108.58483</td>\n",
              "      <td>25.0</td>\n",
              "    </tr>\n",
              "    <tr>\n",
              "      <th>2013-10-04</th>\n",
              "      <td>118.67466</td>\n",
              "      <td>25.0</td>\n",
              "    </tr>\n",
              "    <tr>\n",
              "      <th>2013-10-05</th>\n",
              "      <td>121.33866</td>\n",
              "      <td>25.0</td>\n",
              "    </tr>\n",
              "  </tbody>\n",
              "</table>\n",
              "</div>"
            ],
            "text/plain": [
              "                price  reward\n",
              "date                         \n",
              "2013-10-01  123.65499    25.0\n",
              "2013-10-02  125.45500    25.0\n",
              "2013-10-03  108.58483    25.0\n",
              "2013-10-04  118.67466    25.0\n",
              "2013-10-05  121.33866    25.0"
            ]
          },
          "metadata": {
            "tags": []
          },
          "execution_count": 115
        }
      ]
    },
    {
      "cell_type": "code",
      "metadata": {
        "colab": {
          "base_uri": "https://localhost:8080/"
        },
        "id": "bKv2c7Uo7QIB",
        "outputId": "9b0f95dc-65ca-45ac-c52a-110f315ba494"
      },
      "source": [
        "df_bc.reward.unique()"
      ],
      "execution_count": 116,
      "outputs": [
        {
          "output_type": "execute_result",
          "data": {
            "text/plain": [
              "array([25.  , 12.5 ,  6.25])"
            ]
          },
          "metadata": {
            "tags": []
          },
          "execution_count": 116
        }
      ]
    },
    {
      "cell_type": "markdown",
      "metadata": {
        "id": "hAxORm7CeseQ"
      },
      "source": [
        "#### Plot new feature"
      ]
    },
    {
      "cell_type": "code",
      "metadata": {
        "id": "xaoJn3HIeqsu"
      },
      "source": [
        "from sklearn.preprocessing import minmax_scale"
      ],
      "execution_count": 117,
      "outputs": []
    },
    {
      "cell_type": "code",
      "metadata": {
        "id": "L0dD0WYye2kl"
      },
      "source": [
        "df_scaled = df_bc.copy()\n",
        "df_scaled.price = minmax_scale(df_scaled.price)\n",
        "df_scaled.reward = minmax_scale(df_scaled.reward)"
      ],
      "execution_count": 207,
      "outputs": []
    },
    {
      "cell_type": "code",
      "metadata": {
        "colab": {
          "base_uri": "https://localhost:8080/",
          "height": 252
        },
        "id": "t2ITDkcpfiaK",
        "outputId": "8f40bd9b-a0c0-4fae-f88f-3528ad66e4db"
      },
      "source": [
        "df_scaled.head()"
      ],
      "execution_count": 208,
      "outputs": [
        {
          "output_type": "execute_result",
          "data": {
            "text/html": [
              "<div>\n",
              "<style scoped>\n",
              "    .dataframe tbody tr th:only-of-type {\n",
              "        vertical-align: middle;\n",
              "    }\n",
              "\n",
              "    .dataframe tbody tr th {\n",
              "        vertical-align: top;\n",
              "    }\n",
              "\n",
              "    .dataframe thead th {\n",
              "        text-align: right;\n",
              "    }\n",
              "</style>\n",
              "<table border=\"1\" class=\"dataframe\">\n",
              "  <thead>\n",
              "    <tr style=\"text-align: right;\">\n",
              "      <th></th>\n",
              "      <th>price</th>\n",
              "      <th>reward</th>\n",
              "    </tr>\n",
              "    <tr>\n",
              "      <th>date</th>\n",
              "      <th></th>\n",
              "      <th></th>\n",
              "    </tr>\n",
              "  </thead>\n",
              "  <tbody>\n",
              "    <tr>\n",
              "      <th>2013-10-01</th>\n",
              "      <td>0.000238</td>\n",
              "      <td>1.0</td>\n",
              "    </tr>\n",
              "    <tr>\n",
              "      <th>2013-10-02</th>\n",
              "      <td>0.000267</td>\n",
              "      <td>1.0</td>\n",
              "    </tr>\n",
              "    <tr>\n",
              "      <th>2013-10-03</th>\n",
              "      <td>0.000000</td>\n",
              "      <td>1.0</td>\n",
              "    </tr>\n",
              "    <tr>\n",
              "      <th>2013-10-04</th>\n",
              "      <td>0.000160</td>\n",
              "      <td>1.0</td>\n",
              "    </tr>\n",
              "    <tr>\n",
              "      <th>2013-10-05</th>\n",
              "      <td>0.000202</td>\n",
              "      <td>1.0</td>\n",
              "    </tr>\n",
              "  </tbody>\n",
              "</table>\n",
              "</div>"
            ],
            "text/plain": [
              "               price  reward\n",
              "date                        \n",
              "2013-10-01  0.000238     1.0\n",
              "2013-10-02  0.000267     1.0\n",
              "2013-10-03  0.000000     1.0\n",
              "2013-10-04  0.000160     1.0\n",
              "2013-10-05  0.000202     1.0"
            ]
          },
          "metadata": {
            "tags": []
          },
          "execution_count": 208
        }
      ]
    },
    {
      "cell_type": "code",
      "metadata": {
        "colab": {
          "base_uri": "https://localhost:8080/",
          "height": 479
        },
        "id": "EzBCTSfrfwmr",
        "outputId": "810b973f-6071-4958-c7d4-4afb9b08167c"
      },
      "source": [
        "df_scaled.plot(figsize = (10,7))"
      ],
      "execution_count": 209,
      "outputs": [
        {
          "output_type": "execute_result",
          "data": {
            "text/plain": [
              "<matplotlib.axes._subplots.AxesSubplot at 0x7f58d6c21f90>"
            ]
          },
          "metadata": {
            "tags": []
          },
          "execution_count": 209
        },
        {
          "output_type": "display_data",
          "data": {
            "image/png": "[encoded data removed]",
            "text/plain": [
              "<Figure size 720x504 with 1 Axes>"
            ]
          },
          "metadata": {
            "tags": [],
            "needs_background": "light"
          }
        }
      ]
    },
    {
      "cell_type": "code",
      "metadata": {
        "id": "t74xFee7os_D"
      },
      "source": [
        "df_scaled = df_bc.copy() #First i used scaled data, then i read about data leak, as i scaled all dataset at once. I switched back to unscaled data, but didnt change name\n",
        "df_scaled[7] = df_scaled.price.shift()"
      ],
      "execution_count": 210,
      "outputs": []
    },
    {
      "cell_type": "code",
      "metadata": {
        "id": "iXvMLXZzo_Jq"
      },
      "source": [
        "for i in range(WINDOW_SIZE - 1, 0, -1):\n",
        "  df_scaled[i] = df_scaled[i+1].shift()"
      ],
      "execution_count": 211,
      "outputs": []
    },
    {
      "cell_type": "code",
      "metadata": {
        "colab": {
          "base_uri": "https://localhost:8080/",
          "height": 405
        },
        "id": "PkqsJT-AosZx",
        "outputId": "edac12dc-6598-4f54-935f-55975fc2045c"
      },
      "source": [
        "df_scaled.head(10)"
      ],
      "execution_count": 212,
      "outputs": [
        {
          "output_type": "execute_result",
          "data": {
            "text/html": [
              "<div>\n",
              "<style scoped>\n",
              "    .dataframe tbody tr th:only-of-type {\n",
              "        vertical-align: middle;\n",
              "    }\n",
              "\n",
              "    .dataframe tbody tr th {\n",
              "        vertical-align: top;\n",
              "    }\n",
              "\n",
              "    .dataframe thead th {\n",
              "        text-align: right;\n",
              "    }\n",
              "</style>\n",
              "<table border=\"1\" class=\"dataframe\">\n",
              "  <thead>\n",
              "    <tr style=\"text-align: right;\">\n",
              "      <th></th>\n",
              "      <th>price</th>\n",
              "      <th>reward</th>\n",
              "      <th>7</th>\n",
              "      <th>6</th>\n",
              "      <th>5</th>\n",
              "      <th>4</th>\n",
              "      <th>3</th>\n",
              "      <th>2</th>\n",
              "      <th>1</th>\n",
              "    </tr>\n",
              "    <tr>\n",
              "      <th>date</th>\n",
              "      <th></th>\n",
              "      <th></th>\n",
              "      <th></th>\n",
              "      <th></th>\n",
              "      <th></th>\n",
              "      <th></th>\n",
              "      <th></th>\n",
              "      <th></th>\n",
              "      <th></th>\n",
              "    </tr>\n",
              "  </thead>\n",
              "  <tbody>\n",
              "    <tr>\n",
              "      <th>2013-10-01</th>\n",
              "      <td>123.65499</td>\n",
              "      <td>25.0</td>\n",
              "      <td>NaN</td>\n",
              "      <td>NaN</td>\n",
              "      <td>NaN</td>\n",
              "      <td>NaN</td>\n",
              "      <td>NaN</td>\n",
              "      <td>NaN</td>\n",
              "      <td>NaN</td>\n",
              "    </tr>\n",
              "    <tr>\n",
              "      <th>2013-10-02</th>\n",
              "      <td>125.45500</td>\n",
              "      <td>25.0</td>\n",
              "      <td>123.65499</td>\n",
              "      <td>NaN</td>\n",
              "      <td>NaN</td>\n",
              "      <td>NaN</td>\n",
              "      <td>NaN</td>\n",
              "      <td>NaN</td>\n",
              "      <td>NaN</td>\n",
              "    </tr>\n",
              "    <tr>\n",
              "      <th>2013-10-03</th>\n",
              "      <td>108.58483</td>\n",
              "      <td>25.0</td>\n",
              "      <td>125.45500</td>\n",
              "      <td>123.65499</td>\n",
              "      <td>NaN</td>\n",
              "      <td>NaN</td>\n",
              "      <td>NaN</td>\n",
              "      <td>NaN</td>\n",
              "      <td>NaN</td>\n",
              "    </tr>\n",
              "    <tr>\n",
              "      <th>2013-10-04</th>\n",
              "      <td>118.67466</td>\n",
              "      <td>25.0</td>\n",
              "      <td>108.58483</td>\n",
              "      <td>125.45500</td>\n",
              "      <td>123.65499</td>\n",
              "      <td>NaN</td>\n",
              "      <td>NaN</td>\n",
              "      <td>NaN</td>\n",
              "      <td>NaN</td>\n",
              "    </tr>\n",
              "    <tr>\n",
              "      <th>2013-10-05</th>\n",
              "      <td>121.33866</td>\n",
              "      <td>25.0</td>\n",
              "      <td>118.67466</td>\n",
              "      <td>108.58483</td>\n",
              "      <td>125.45500</td>\n",
              "      <td>123.65499</td>\n",
              "      <td>NaN</td>\n",
              "      <td>NaN</td>\n",
              "      <td>NaN</td>\n",
              "    </tr>\n",
              "    <tr>\n",
              "      <th>2013-10-06</th>\n",
              "      <td>120.65533</td>\n",
              "      <td>25.0</td>\n",
              "      <td>121.33866</td>\n",
              "      <td>118.67466</td>\n",
              "      <td>108.58483</td>\n",
              "      <td>125.45500</td>\n",
              "      <td>123.65499</td>\n",
              "      <td>NaN</td>\n",
              "      <td>NaN</td>\n",
              "    </tr>\n",
              "    <tr>\n",
              "      <th>2013-10-07</th>\n",
              "      <td>121.79500</td>\n",
              "      <td>25.0</td>\n",
              "      <td>120.65533</td>\n",
              "      <td>121.33866</td>\n",
              "      <td>118.67466</td>\n",
              "      <td>108.58483</td>\n",
              "      <td>125.45500</td>\n",
              "      <td>123.65499</td>\n",
              "      <td>NaN</td>\n",
              "    </tr>\n",
              "    <tr>\n",
              "      <th>2013-10-08</th>\n",
              "      <td>123.03300</td>\n",
              "      <td>25.0</td>\n",
              "      <td>121.79500</td>\n",
              "      <td>120.65533</td>\n",
              "      <td>121.33866</td>\n",
              "      <td>118.67466</td>\n",
              "      <td>108.58483</td>\n",
              "      <td>125.45500</td>\n",
              "      <td>123.65499</td>\n",
              "    </tr>\n",
              "    <tr>\n",
              "      <th>2013-10-09</th>\n",
              "      <td>124.04900</td>\n",
              "      <td>25.0</td>\n",
              "      <td>123.03300</td>\n",
              "      <td>121.79500</td>\n",
              "      <td>120.65533</td>\n",
              "      <td>121.33866</td>\n",
              "      <td>118.67466</td>\n",
              "      <td>108.58483</td>\n",
              "      <td>125.45500</td>\n",
              "    </tr>\n",
              "    <tr>\n",
              "      <th>2013-10-10</th>\n",
              "      <td>125.96116</td>\n",
              "      <td>25.0</td>\n",
              "      <td>124.04900</td>\n",
              "      <td>123.03300</td>\n",
              "      <td>121.79500</td>\n",
              "      <td>120.65533</td>\n",
              "      <td>121.33866</td>\n",
              "      <td>118.67466</td>\n",
              "      <td>108.58483</td>\n",
              "    </tr>\n",
              "  </tbody>\n",
              "</table>\n",
              "</div>"
            ],
            "text/plain": [
              "                price  reward          7  ...          3          2          1\n",
              "date                                      ...                                 \n",
              "2013-10-01  123.65499    25.0        NaN  ...        NaN        NaN        NaN\n",
              "2013-10-02  125.45500    25.0  123.65499  ...        NaN        NaN        NaN\n",
              "2013-10-03  108.58483    25.0  125.45500  ...        NaN        NaN        NaN\n",
              "2013-10-04  118.67466    25.0  108.58483  ...        NaN        NaN        NaN\n",
              "2013-10-05  121.33866    25.0  118.67466  ...        NaN        NaN        NaN\n",
              "2013-10-06  120.65533    25.0  121.33866  ...  123.65499        NaN        NaN\n",
              "2013-10-07  121.79500    25.0  120.65533  ...  125.45500  123.65499        NaN\n",
              "2013-10-08  123.03300    25.0  121.79500  ...  108.58483  125.45500  123.65499\n",
              "2013-10-09  124.04900    25.0  123.03300  ...  118.67466  108.58483  125.45500\n",
              "2013-10-10  125.96116    25.0  124.04900  ...  121.33866  118.67466  108.58483\n",
              "\n",
              "[10 rows x 9 columns]"
            ]
          },
          "metadata": {
            "tags": []
          },
          "execution_count": 212
        }
      ]
    },
    {
      "cell_type": "code",
      "metadata": {
        "id": "U3F0M_oaosUP"
      },
      "source": [
        "df_scaled.dropna(inplace=True)"
      ],
      "execution_count": 213,
      "outputs": []
    },
    {
      "cell_type": "code",
      "metadata": {
        "id": "zkaks5y3ro-Y"
      },
      "source": [
        "df_scaled = df_scaled[[1,2,3,4,5,6,7,'reward','price']]"
      ],
      "execution_count": 214,
      "outputs": []
    },
    {
      "cell_type": "code",
      "metadata": {
        "colab": {
          "base_uri": "https://localhost:8080/",
          "height": 252
        },
        "id": "klVEKeydorwI",
        "outputId": "00b5dd7d-05af-466c-9a8f-a7c277b6697b"
      },
      "source": [
        "df_scaled.head()"
      ],
      "execution_count": 215,
      "outputs": [
        {
          "output_type": "execute_result",
          "data": {
            "text/html": [
              "<div>\n",
              "<style scoped>\n",
              "    .dataframe tbody tr th:only-of-type {\n",
              "        vertical-align: middle;\n",
              "    }\n",
              "\n",
              "    .dataframe tbody tr th {\n",
              "        vertical-align: top;\n",
              "    }\n",
              "\n",
              "    .dataframe thead th {\n",
              "        text-align: right;\n",
              "    }\n",
              "</style>\n",
              "<table border=\"1\" class=\"dataframe\">\n",
              "  <thead>\n",
              "    <tr style=\"text-align: right;\">\n",
              "      <th></th>\n",
              "      <th>1</th>\n",
              "      <th>2</th>\n",
              "      <th>3</th>\n",
              "      <th>4</th>\n",
              "      <th>5</th>\n",
              "      <th>6</th>\n",
              "      <th>7</th>\n",
              "      <th>reward</th>\n",
              "      <th>price</th>\n",
              "    </tr>\n",
              "    <tr>\n",
              "      <th>date</th>\n",
              "      <th></th>\n",
              "      <th></th>\n",
              "      <th></th>\n",
              "      <th></th>\n",
              "      <th></th>\n",
              "      <th></th>\n",
              "      <th></th>\n",
              "      <th></th>\n",
              "      <th></th>\n",
              "    </tr>\n",
              "  </thead>\n",
              "  <tbody>\n",
              "    <tr>\n",
              "      <th>2013-10-08</th>\n",
              "      <td>123.65499</td>\n",
              "      <td>125.45500</td>\n",
              "      <td>108.58483</td>\n",
              "      <td>118.67466</td>\n",
              "      <td>121.33866</td>\n",
              "      <td>120.65533</td>\n",
              "      <td>121.79500</td>\n",
              "      <td>25.0</td>\n",
              "      <td>123.03300</td>\n",
              "    </tr>\n",
              "    <tr>\n",
              "      <th>2013-10-09</th>\n",
              "      <td>125.45500</td>\n",
              "      <td>108.58483</td>\n",
              "      <td>118.67466</td>\n",
              "      <td>121.33866</td>\n",
              "      <td>120.65533</td>\n",
              "      <td>121.79500</td>\n",
              "      <td>123.03300</td>\n",
              "      <td>25.0</td>\n",
              "      <td>124.04900</td>\n",
              "    </tr>\n",
              "    <tr>\n",
              "      <th>2013-10-10</th>\n",
              "      <td>108.58483</td>\n",
              "      <td>118.67466</td>\n",
              "      <td>121.33866</td>\n",
              "      <td>120.65533</td>\n",
              "      <td>121.79500</td>\n",
              "      <td>123.03300</td>\n",
              "      <td>124.04900</td>\n",
              "      <td>25.0</td>\n",
              "      <td>125.96116</td>\n",
              "    </tr>\n",
              "    <tr>\n",
              "      <th>2013-10-11</th>\n",
              "      <td>118.67466</td>\n",
              "      <td>121.33866</td>\n",
              "      <td>120.65533</td>\n",
              "      <td>121.79500</td>\n",
              "      <td>123.03300</td>\n",
              "      <td>124.04900</td>\n",
              "      <td>125.96116</td>\n",
              "      <td>25.0</td>\n",
              "      <td>125.27966</td>\n",
              "    </tr>\n",
              "    <tr>\n",
              "      <th>2013-10-12</th>\n",
              "      <td>121.33866</td>\n",
              "      <td>120.65533</td>\n",
              "      <td>121.79500</td>\n",
              "      <td>123.03300</td>\n",
              "      <td>124.04900</td>\n",
              "      <td>125.96116</td>\n",
              "      <td>125.27966</td>\n",
              "      <td>25.0</td>\n",
              "      <td>125.92750</td>\n",
              "    </tr>\n",
              "  </tbody>\n",
              "</table>\n",
              "</div>"
            ],
            "text/plain": [
              "                    1          2          3  ...          7  reward      price\n",
              "date                                         ...                              \n",
              "2013-10-08  123.65499  125.45500  108.58483  ...  121.79500    25.0  123.03300\n",
              "2013-10-09  125.45500  108.58483  118.67466  ...  123.03300    25.0  124.04900\n",
              "2013-10-10  108.58483  118.67466  121.33866  ...  124.04900    25.0  125.96116\n",
              "2013-10-11  118.67466  121.33866  120.65533  ...  125.96116    25.0  125.27966\n",
              "2013-10-12  121.33866  120.65533  121.79500  ...  125.27966    25.0  125.92750\n",
              "\n",
              "[5 rows x 9 columns]"
            ]
          },
          "metadata": {
            "tags": []
          },
          "execution_count": 215
        }
      ]
    },
    {
      "cell_type": "code",
      "metadata": {
        "colab": {
          "base_uri": "https://localhost:8080/"
        },
        "id": "Q0gtrE4-sfvX",
        "outputId": "029ff8a7-1be6-49bd-e757-fe6bc8679e62"
      },
      "source": [
        "df_scaled.columns"
      ],
      "execution_count": 216,
      "outputs": [
        {
          "output_type": "execute_result",
          "data": {
            "text/plain": [
              "Index([1, 2, 3, 4, 5, 6, 7, 'reward', 'price'], dtype='object')"
            ]
          },
          "metadata": {
            "tags": []
          },
          "execution_count": 216
        }
      ]
    },
    {
      "cell_type": "code",
      "metadata": {
        "colab": {
          "base_uri": "https://localhost:8080/"
        },
        "id": "aqn9aoxL9lbq",
        "outputId": "61e01277-9474-407a-c7fd-9dcfa5f61f81"
      },
      "source": [
        "WINDOW_SIZE = 7\n",
        "HORIZON = 1\n",
        "test_split = 0.2\n",
        "split_size = int(len(df_scaled) * (1-test_split))\n",
        "\n",
        "scaled_train = np.array(df_scaled[[1, 2, 3, 4, 5, 6, 7, 'reward']], dtype = 'float32')[:split_size]\n",
        "scaled_test = np.array(df_scaled[[1, 2, 3, 4, 5, 6, 7, 'reward']], dtype = 'float32')[split_size:]\n",
        "scaled_labels_train = np.array(df_scaled['price'], dtype = 'float32')[:split_size]\n",
        "scaled_labels_test = np.array(df_scaled['price'], dtype = 'float32')[split_size:]\n",
        "\n",
        "scaled_test[:5]\n"
      ],
      "execution_count": 217,
      "outputs": [
        {
          "output_type": "execute_result",
          "data": {
            "text/plain": [
              "array([[9290.896, 9202.415, 9369.628, 9326.6  , 9335.752, 9226.485,\n",
              "        8794.358,   12.5  ],\n",
              "       [9202.415, 9369.628, 9326.6  , 9335.752, 9226.485, 8794.358,\n",
              "        8798.042,   12.5  ],\n",
              "       [9369.628, 9326.6  , 9335.752, 9226.485, 8794.358, 8798.042,\n",
              "        9081.187,   12.5  ],\n",
              "       [9326.6  , 9335.752, 9226.485, 8794.358, 8798.042, 9081.187,\n",
              "        8711.534,   12.5  ],\n",
              "       [9335.752, 9226.485, 8794.358, 8798.042, 9081.187, 8711.534,\n",
              "        8760.893,   12.5  ]], dtype=float32)"
            ]
          },
          "metadata": {
            "tags": []
          },
          "execution_count": 217
        }
      ]
    },
    {
      "cell_type": "code",
      "metadata": {
        "colab": {
          "base_uri": "https://localhost:8080/"
        },
        "id": "xggy9aXhtE34",
        "outputId": "877d1f28-7951-4022-8d44-05eb475e6726"
      },
      "source": [
        "scaled_labels_test[:5]"
      ],
      "execution_count": 218,
      "outputs": [
        {
          "output_type": "execute_result",
          "data": {
            "text/plain": [
              "array([8798.042 , 9081.187 , 8711.534 , 8760.893 , 8749.5205],\n",
              "      dtype=float32)"
            ]
          },
          "metadata": {
            "tags": []
          },
          "execution_count": 218
        }
      ]
    },
    {
      "cell_type": "markdown",
      "metadata": {
        "id": "QBazVxk815yv"
      },
      "source": [
        "### 6 Model, same as 1 but with multivarial dataset"
      ]
    },
    {
      "cell_type": "code",
      "metadata": {
        "id": "ZKEjwEm2lBfc"
      },
      "source": [
        "tf.random.set_seed(42)"
      ],
      "execution_count": 241,
      "outputs": []
    },
    {
      "cell_type": "code",
      "metadata": {
        "id": "lLatEdNylBfn"
      },
      "source": [
        "model_6 = Sequential([Dense(128, activation='relu'),\n",
        "                        Dense(1, activation = 'linear')],\n",
        "                        name = 'Model_6_Dense')"
      ],
      "execution_count": 242,
      "outputs": []
    },
    {
      "cell_type": "code",
      "metadata": {
        "id": "LpCHIsSmlBfq"
      },
      "source": [
        "model_6.compile(optimizer='adam', loss = 'mae', metrics = 'mae')"
      ],
      "execution_count": 243,
      "outputs": []
    },
    {
      "cell_type": "code",
      "metadata": {
        "colab": {
          "base_uri": "https://localhost:8080/"
        },
        "id": "jemYIe4RlBfq",
        "outputId": "fbcbc1b9-0c16-48a0-ddb7-50f32df2de4f"
      },
      "source": [
        "history_6 = model_6.fit(scaled_train, scaled_labels_train,\n",
        "                            epochs = 100,\n",
        "                            validation_data = (scaled_test, scaled_labels_test),\n",
        "                            batch_size = 128, \n",
        "                            callbacks = checkpoint(model_6.name))"
      ],
      "execution_count": 244,
      "outputs": [
        {
          "output_type": "stream",
          "text": [
            "Epoch 1/100\n",
            "18/18 [==============================] - 1s 11ms/step - loss: 782.1838 - mae: 782.1838 - val_loss: 2252.1772 - val_mae: 2252.1772\n",
            "INFO:tensorflow:Assets written to: time_series/Model_6_Dense/assets\n",
            "Epoch 2/100\n",
            "18/18 [==============================] - 0s 4ms/step - loss: 244.8972 - mae: 244.8972 - val_loss: 1007.1198 - val_mae: 1007.1198\n",
            "INFO:tensorflow:Assets written to: time_series/Model_6_Dense/assets\n",
            "Epoch 3/100\n",
            "18/18 [==============================] - 0s 4ms/step - loss: 186.3308 - mae: 186.3308 - val_loss: 946.3458 - val_mae: 946.3458\n",
            "INFO:tensorflow:Assets written to: time_series/Model_6_Dense/assets\n",
            "Epoch 4/100\n",
            "18/18 [==============================] - 0s 5ms/step - loss: 166.3975 - mae: 166.3975 - val_loss: 897.3853 - val_mae: 897.3853\n",
            "INFO:tensorflow:Assets written to: time_series/Model_6_Dense/assets\n",
            "Epoch 5/100\n",
            "18/18 [==============================] - 0s 4ms/step - loss: 158.6442 - mae: 158.6442 - val_loss: 850.9041 - val_mae: 850.9041\n",
            "INFO:tensorflow:Assets written to: time_series/Model_6_Dense/assets\n",
            "Epoch 6/100\n",
            "18/18 [==============================] - 0s 6ms/step - loss: 158.6492 - mae: 158.6492 - val_loss: 832.5609 - val_mae: 832.5609\n",
            "INFO:tensorflow:Assets written to: time_series/Model_6_Dense/assets\n",
            "Epoch 7/100\n",
            "18/18 [==============================] - 0s 4ms/step - loss: 149.6960 - mae: 149.6960 - val_loss: 808.7494 - val_mae: 808.7494\n",
            "INFO:tensorflow:Assets written to: time_series/Model_6_Dense/assets\n",
            "Epoch 8/100\n",
            "18/18 [==============================] - 0s 4ms/step - loss: 143.4930 - mae: 143.4930 - val_loss: 787.8422 - val_mae: 787.8422\n",
            "INFO:tensorflow:Assets written to: time_series/Model_6_Dense/assets\n",
            "Epoch 9/100\n",
            "18/18 [==============================] - 0s 4ms/step - loss: 143.4281 - mae: 143.4281 - val_loss: 785.0843 - val_mae: 785.0843\n",
            "INFO:tensorflow:Assets written to: time_series/Model_6_Dense/assets\n",
            "Epoch 10/100\n",
            "18/18 [==============================] - 0s 4ms/step - loss: 140.0326 - mae: 140.0326 - val_loss: 754.2736 - val_mae: 754.2736\n",
            "INFO:tensorflow:Assets written to: time_series/Model_6_Dense/assets\n",
            "Epoch 11/100\n",
            "18/18 [==============================] - 0s 5ms/step - loss: 134.6317 - mae: 134.6317 - val_loss: 766.1763 - val_mae: 766.1763\n",
            "Epoch 12/100\n",
            "18/18 [==============================] - 0s 4ms/step - loss: 134.3277 - mae: 134.3277 - val_loss: 813.7473 - val_mae: 813.7473\n",
            "Epoch 13/100\n",
            "18/18 [==============================] - 0s 4ms/step - loss: 135.0812 - mae: 135.0812 - val_loss: 782.2501 - val_mae: 782.2501\n",
            "Epoch 14/100\n",
            "18/18 [==============================] - 0s 5ms/step - loss: 130.3900 - mae: 130.3900 - val_loss: 750.6075 - val_mae: 750.6075\n",
            "INFO:tensorflow:Assets written to: time_series/Model_6_Dense/assets\n",
            "Epoch 15/100\n",
            "18/18 [==============================] - 0s 5ms/step - loss: 129.3244 - mae: 129.3244 - val_loss: 703.0916 - val_mae: 703.0916\n",
            "INFO:tensorflow:Assets written to: time_series/Model_6_Dense/assets\n",
            "Epoch 16/100\n",
            "18/18 [==============================] - 0s 4ms/step - loss: 125.3169 - mae: 125.3169 - val_loss: 703.1990 - val_mae: 703.1990\n",
            "Epoch 17/100\n",
            "18/18 [==============================] - 0s 4ms/step - loss: 124.0945 - mae: 124.0945 - val_loss: 697.9453 - val_mae: 697.9453\n",
            "INFO:tensorflow:Assets written to: time_series/Model_6_Dense/assets\n",
            "Epoch 18/100\n",
            "18/18 [==============================] - 0s 4ms/step - loss: 122.9523 - mae: 122.9523 - val_loss: 676.4882 - val_mae: 676.4882\n",
            "INFO:tensorflow:Assets written to: time_series/Model_6_Dense/assets\n",
            "Epoch 19/100\n",
            "18/18 [==============================] - 0s 4ms/step - loss: 122.1875 - mae: 122.1875 - val_loss: 700.9327 - val_mae: 700.9327\n",
            "Epoch 20/100\n",
            "18/18 [==============================] - 0s 4ms/step - loss: 119.8395 - mae: 119.8395 - val_loss: 673.5868 - val_mae: 673.5868\n",
            "INFO:tensorflow:Assets written to: time_series/Model_6_Dense/assets\n",
            "Epoch 21/100\n",
            "18/18 [==============================] - 0s 4ms/step - loss: 122.8753 - mae: 122.8753 - val_loss: 640.4089 - val_mae: 640.4089\n",
            "INFO:tensorflow:Assets written to: time_series/Model_6_Dense/assets\n",
            "Epoch 22/100\n",
            "18/18 [==============================] - 0s 5ms/step - loss: 120.4467 - mae: 120.4467 - val_loss: 678.7386 - val_mae: 678.7386\n",
            "Epoch 23/100\n",
            "18/18 [==============================] - 0s 5ms/step - loss: 122.8498 - mae: 122.8498 - val_loss: 670.8619 - val_mae: 670.8619\n",
            "Epoch 24/100\n",
            "18/18 [==============================] - 0s 4ms/step - loss: 117.8804 - mae: 117.8804 - val_loss: 625.3572 - val_mae: 625.3572\n",
            "INFO:tensorflow:Assets written to: time_series/Model_6_Dense/assets\n",
            "Epoch 25/100\n",
            "18/18 [==============================] - 0s 5ms/step - loss: 115.3353 - mae: 115.3353 - val_loss: 624.1467 - val_mae: 624.1467\n",
            "INFO:tensorflow:Assets written to: time_series/Model_6_Dense/assets\n",
            "Epoch 26/100\n",
            "18/18 [==============================] - 0s 4ms/step - loss: 116.7802 - mae: 116.7802 - val_loss: 616.8048 - val_mae: 616.8048\n",
            "INFO:tensorflow:Assets written to: time_series/Model_6_Dense/assets\n",
            "Epoch 27/100\n",
            "18/18 [==============================] - 0s 4ms/step - loss: 116.1537 - mae: 116.1537 - val_loss: 613.4576 - val_mae: 613.4576\n",
            "INFO:tensorflow:Assets written to: time_series/Model_6_Dense/assets\n",
            "Epoch 28/100\n",
            "18/18 [==============================] - 0s 4ms/step - loss: 113.5782 - mae: 113.5782 - val_loss: 616.3217 - val_mae: 616.3217\n",
            "Epoch 29/100\n",
            "18/18 [==============================] - 0s 4ms/step - loss: 113.7508 - mae: 113.7508 - val_loss: 607.5260 - val_mae: 607.5260\n",
            "INFO:tensorflow:Assets written to: time_series/Model_6_Dense/assets\n",
            "Epoch 30/100\n",
            "18/18 [==============================] - 0s 4ms/step - loss: 116.2241 - mae: 116.2241 - val_loss: 609.0756 - val_mae: 609.0756\n",
            "Epoch 31/100\n",
            "18/18 [==============================] - 0s 4ms/step - loss: 116.8487 - mae: 116.8487 - val_loss: 678.1112 - val_mae: 678.1112\n",
            "Epoch 32/100\n",
            "18/18 [==============================] - 0s 5ms/step - loss: 115.6089 - mae: 115.6089 - val_loss: 600.9519 - val_mae: 600.9519\n",
            "INFO:tensorflow:Assets written to: time_series/Model_6_Dense/assets\n",
            "Epoch 33/100\n",
            "18/18 [==============================] - 0s 4ms/step - loss: 113.2305 - mae: 113.2305 - val_loss: 667.2198 - val_mae: 667.2198\n",
            "Epoch 34/100\n",
            "18/18 [==============================] - 0s 5ms/step - loss: 114.4900 - mae: 114.4900 - val_loss: 604.4902 - val_mae: 604.4902\n",
            "Epoch 35/100\n",
            "18/18 [==============================] - 0s 4ms/step - loss: 112.5636 - mae: 112.5636 - val_loss: 613.0394 - val_mae: 613.0394\n",
            "Epoch 36/100\n",
            "18/18 [==============================] - 0s 5ms/step - loss: 122.4759 - mae: 122.4759 - val_loss: 640.6149 - val_mae: 640.6149\n",
            "Epoch 37/100\n",
            "18/18 [==============================] - 0s 4ms/step - loss: 115.2408 - mae: 115.2408 - val_loss: 607.3928 - val_mae: 607.3928\n",
            "Epoch 38/100\n",
            "18/18 [==============================] - 0s 4ms/step - loss: 111.8549 - mae: 111.8549 - val_loss: 590.2731 - val_mae: 590.2731\n",
            "INFO:tensorflow:Assets written to: time_series/Model_6_Dense/assets\n",
            "Epoch 39/100\n",
            "18/18 [==============================] - 0s 4ms/step - loss: 112.3729 - mae: 112.3729 - val_loss: 623.8931 - val_mae: 623.8931\n",
            "Epoch 40/100\n",
            "18/18 [==============================] - 0s 5ms/step - loss: 111.0733 - mae: 111.0733 - val_loss: 590.8589 - val_mae: 590.8589\n",
            "Epoch 41/100\n",
            "18/18 [==============================] - 0s 4ms/step - loss: 110.3044 - mae: 110.3044 - val_loss: 604.5463 - val_mae: 604.5463\n",
            "Epoch 42/100\n",
            "18/18 [==============================] - 0s 4ms/step - loss: 113.7954 - mae: 113.7954 - val_loss: 605.6981 - val_mae: 605.6981\n",
            "Epoch 43/100\n",
            "18/18 [==============================] - 0s 5ms/step - loss: 113.8825 - mae: 113.8825 - val_loss: 653.3162 - val_mae: 653.3162\n",
            "Epoch 44/100\n",
            "18/18 [==============================] - 0s 4ms/step - loss: 120.1646 - mae: 120.1646 - val_loss: 630.0477 - val_mae: 630.0477\n",
            "Epoch 45/100\n",
            "18/18 [==============================] - 0s 5ms/step - loss: 110.6978 - mae: 110.6978 - val_loss: 600.1945 - val_mae: 600.1945\n",
            "Epoch 46/100\n",
            "18/18 [==============================] - 0s 5ms/step - loss: 111.7002 - mae: 111.7002 - val_loss: 606.5314 - val_mae: 606.5314\n",
            "Epoch 47/100\n",
            "18/18 [==============================] - 0s 5ms/step - loss: 110.4887 - mae: 110.4887 - val_loss: 650.5497 - val_mae: 650.5497\n",
            "Epoch 48/100\n",
            "18/18 [==============================] - 0s 4ms/step - loss: 109.9680 - mae: 109.9680 - val_loss: 593.3034 - val_mae: 593.3034\n",
            "Epoch 49/100\n",
            "18/18 [==============================] - 0s 4ms/step - loss: 111.3002 - mae: 111.3002 - val_loss: 601.7651 - val_mae: 601.7651\n",
            "Epoch 50/100\n",
            "18/18 [==============================] - 0s 4ms/step - loss: 113.3566 - mae: 113.3566 - val_loss: 609.7532 - val_mae: 609.7532\n",
            "Epoch 51/100\n",
            "18/18 [==============================] - 0s 4ms/step - loss: 110.0278 - mae: 110.0278 - val_loss: 591.3693 - val_mae: 591.3693\n",
            "Epoch 52/100\n",
            "18/18 [==============================] - 0s 4ms/step - loss: 111.8094 - mae: 111.8094 - val_loss: 605.6517 - val_mae: 605.6517\n",
            "Epoch 53/100\n",
            "18/18 [==============================] - 0s 5ms/step - loss: 112.9787 - mae: 112.9787 - val_loss: 583.5687 - val_mae: 583.5687\n",
            "INFO:tensorflow:Assets written to: time_series/Model_6_Dense/assets\n",
            "Epoch 54/100\n",
            "18/18 [==============================] - 0s 4ms/step - loss: 111.2438 - mae: 111.2438 - val_loss: 596.1592 - val_mae: 596.1592\n",
            "Epoch 55/100\n",
            "18/18 [==============================] - 0s 4ms/step - loss: 109.8401 - mae: 109.8401 - val_loss: 589.9583 - val_mae: 589.9583\n",
            "Epoch 56/100\n",
            "18/18 [==============================] - 0s 4ms/step - loss: 108.2892 - mae: 108.2892 - val_loss: 759.5542 - val_mae: 759.5542\n",
            "Epoch 57/100\n",
            "18/18 [==============================] - 0s 5ms/step - loss: 121.4216 - mae: 121.4216 - val_loss: 667.7201 - val_mae: 667.7201\n",
            "Epoch 58/100\n",
            "18/18 [==============================] - 0s 4ms/step - loss: 116.2376 - mae: 116.2376 - val_loss: 599.7281 - val_mae: 599.7281\n",
            "Epoch 59/100\n",
            "18/18 [==============================] - 0s 5ms/step - loss: 110.6363 - mae: 110.6363 - val_loss: 580.9113 - val_mae: 580.9113\n",
            "INFO:tensorflow:Assets written to: time_series/Model_6_Dense/assets\n",
            "Epoch 60/100\n",
            "18/18 [==============================] - 0s 5ms/step - loss: 108.0490 - mae: 108.0490 - val_loss: 592.2242 - val_mae: 592.2242\n",
            "Epoch 61/100\n",
            "18/18 [==============================] - 0s 5ms/step - loss: 107.8819 - mae: 107.8819 - val_loss: 578.9371 - val_mae: 578.9371\n",
            "INFO:tensorflow:Assets written to: time_series/Model_6_Dense/assets\n",
            "Epoch 62/100\n",
            "18/18 [==============================] - 0s 4ms/step - loss: 108.5354 - mae: 108.5354 - val_loss: 577.9764 - val_mae: 577.9764\n",
            "INFO:tensorflow:Assets written to: time_series/Model_6_Dense/assets\n",
            "Epoch 63/100\n",
            "18/18 [==============================] - 0s 4ms/step - loss: 109.9857 - mae: 109.9857 - val_loss: 643.5363 - val_mae: 643.5363\n",
            "Epoch 64/100\n",
            "18/18 [==============================] - 0s 5ms/step - loss: 110.5237 - mae: 110.5237 - val_loss: 593.1132 - val_mae: 593.1132\n",
            "Epoch 65/100\n",
            "18/18 [==============================] - 0s 5ms/step - loss: 108.2812 - mae: 108.2812 - val_loss: 574.6279 - val_mae: 574.6279\n",
            "INFO:tensorflow:Assets written to: time_series/Model_6_Dense/assets\n",
            "Epoch 66/100\n",
            "18/18 [==============================] - 0s 4ms/step - loss: 107.3924 - mae: 107.3924 - val_loss: 572.7130 - val_mae: 572.7130\n",
            "INFO:tensorflow:Assets written to: time_series/Model_6_Dense/assets\n",
            "Epoch 67/100\n",
            "18/18 [==============================] - 0s 5ms/step - loss: 107.1467 - mae: 107.1467 - val_loss: 638.0551 - val_mae: 638.0551\n",
            "Epoch 68/100\n",
            "18/18 [==============================] - 0s 4ms/step - loss: 115.2931 - mae: 115.2931 - val_loss: 705.9954 - val_mae: 705.9954\n",
            "Epoch 69/100\n",
            "18/18 [==============================] - 0s 4ms/step - loss: 128.2325 - mae: 128.2325 - val_loss: 679.7923 - val_mae: 679.7923\n",
            "Epoch 70/100\n",
            "18/18 [==============================] - 0s 4ms/step - loss: 122.9468 - mae: 122.9468 - val_loss: 581.2146 - val_mae: 581.2146\n",
            "Epoch 71/100\n",
            "18/18 [==============================] - 0s 4ms/step - loss: 111.4571 - mae: 111.4571 - val_loss: 598.8046 - val_mae: 598.8046\n",
            "Epoch 72/100\n",
            "18/18 [==============================] - 0s 6ms/step - loss: 107.8010 - mae: 107.8010 - val_loss: 573.2765 - val_mae: 573.2765\n",
            "Epoch 73/100\n",
            "18/18 [==============================] - 0s 4ms/step - loss: 111.2233 - mae: 111.2233 - val_loss: 616.2047 - val_mae: 616.2047\n",
            "Epoch 74/100\n",
            "18/18 [==============================] - 0s 5ms/step - loss: 107.6992 - mae: 107.6992 - val_loss: 570.5560 - val_mae: 570.5560\n",
            "INFO:tensorflow:Assets written to: time_series/Model_6_Dense/assets\n",
            "Epoch 75/100\n",
            "18/18 [==============================] - 0s 4ms/step - loss: 108.5293 - mae: 108.5293 - val_loss: 592.0032 - val_mae: 592.0032\n",
            "Epoch 76/100\n",
            "18/18 [==============================] - 0s 5ms/step - loss: 110.9755 - mae: 110.9755 - val_loss: 586.6850 - val_mae: 586.6850\n",
            "Epoch 77/100\n",
            "18/18 [==============================] - 0s 4ms/step - loss: 109.4613 - mae: 109.4613 - val_loss: 594.7574 - val_mae: 594.7574\n",
            "Epoch 78/100\n",
            "18/18 [==============================] - 0s 5ms/step - loss: 107.6830 - mae: 107.6830 - val_loss: 570.2120 - val_mae: 570.2120\n",
            "INFO:tensorflow:Assets written to: time_series/Model_6_Dense/assets\n",
            "Epoch 79/100\n",
            "18/18 [==============================] - 0s 4ms/step - loss: 106.5506 - mae: 106.5506 - val_loss: 623.4283 - val_mae: 623.4283\n",
            "Epoch 80/100\n",
            "18/18 [==============================] - 0s 4ms/step - loss: 109.0944 - mae: 109.0944 - val_loss: 580.4072 - val_mae: 580.4072\n",
            "Epoch 81/100\n",
            "18/18 [==============================] - 0s 4ms/step - loss: 106.3890 - mae: 106.3890 - val_loss: 572.0209 - val_mae: 572.0209\n",
            "Epoch 82/100\n",
            "18/18 [==============================] - 0s 5ms/step - loss: 115.2477 - mae: 115.2477 - val_loss: 569.1525 - val_mae: 569.1525\n",
            "INFO:tensorflow:Assets written to: time_series/Model_6_Dense/assets\n",
            "Epoch 83/100\n",
            "18/18 [==============================] - 0s 4ms/step - loss: 112.1338 - mae: 112.1338 - val_loss: 660.5377 - val_mae: 660.5377\n",
            "Epoch 84/100\n",
            "18/18 [==============================] - 0s 5ms/step - loss: 111.7065 - mae: 111.7065 - val_loss: 573.6850 - val_mae: 573.6850\n",
            "Epoch 85/100\n",
            "18/18 [==============================] - 0s 4ms/step - loss: 107.6026 - mae: 107.6026 - val_loss: 594.4557 - val_mae: 594.4557\n",
            "Epoch 86/100\n",
            "18/18 [==============================] - 0s 5ms/step - loss: 109.1078 - mae: 109.1078 - val_loss: 601.1610 - val_mae: 601.1610\n",
            "Epoch 87/100\n",
            "18/18 [==============================] - 0s 5ms/step - loss: 106.4258 - mae: 106.4258 - val_loss: 589.2863 - val_mae: 589.2863\n",
            "Epoch 88/100\n",
            "18/18 [==============================] - 0s 6ms/step - loss: 107.0333 - mae: 107.0333 - val_loss: 570.2203 - val_mae: 570.2203\n",
            "Epoch 89/100\n",
            "18/18 [==============================] - 0s 4ms/step - loss: 105.9762 - mae: 105.9762 - val_loss: 568.9181 - val_mae: 568.9181\n",
            "INFO:tensorflow:Assets written to: time_series/Model_6_Dense/assets\n",
            "Epoch 90/100\n",
            "18/18 [==============================] - 0s 4ms/step - loss: 105.4522 - mae: 105.4522 - val_loss: 600.0436 - val_mae: 600.0436\n",
            "Epoch 91/100\n",
            "18/18 [==============================] - 0s 4ms/step - loss: 108.6869 - mae: 108.6869 - val_loss: 568.0302 - val_mae: 568.0302\n",
            "INFO:tensorflow:Assets written to: time_series/Model_6_Dense/assets\n",
            "Epoch 92/100\n",
            "18/18 [==============================] - 0s 4ms/step - loss: 111.1742 - mae: 111.1742 - val_loss: 572.3706 - val_mae: 572.3706\n",
            "Epoch 93/100\n",
            "18/18 [==============================] - 0s 4ms/step - loss: 113.1148 - mae: 113.1148 - val_loss: 580.3463 - val_mae: 580.3463\n",
            "Epoch 94/100\n",
            "18/18 [==============================] - 0s 4ms/step - loss: 108.8910 - mae: 108.8910 - val_loss: 575.2593 - val_mae: 575.2593\n",
            "Epoch 95/100\n",
            "18/18 [==============================] - 0s 5ms/step - loss: 105.4659 - mae: 105.4659 - val_loss: 567.4933 - val_mae: 567.4933\n",
            "INFO:tensorflow:Assets written to: time_series/Model_6_Dense/assets\n",
            "Epoch 96/100\n",
            "18/18 [==============================] - 0s 4ms/step - loss: 107.0818 - mae: 107.0818 - val_loss: 592.2193 - val_mae: 592.2193\n",
            "Epoch 97/100\n",
            "18/18 [==============================] - 0s 5ms/step - loss: 107.0360 - mae: 107.0360 - val_loss: 595.3468 - val_mae: 595.3468\n",
            "Epoch 98/100\n",
            "18/18 [==============================] - 0s 4ms/step - loss: 107.4840 - mae: 107.4840 - val_loss: 570.5105 - val_mae: 570.5105\n",
            "Epoch 99/100\n",
            "18/18 [==============================] - 0s 5ms/step - loss: 106.8087 - mae: 106.8087 - val_loss: 567.3470 - val_mae: 567.3470\n",
            "INFO:tensorflow:Assets written to: time_series/Model_6_Dense/assets\n",
            "Epoch 100/100\n",
            "18/18 [==============================] - 0s 4ms/step - loss: 110.4765 - mae: 110.4765 - val_loss: 618.1379 - val_mae: 618.1379\n"
          ],
          "name": "stdout"
        }
      ]
    },
    {
      "cell_type": "code",
      "metadata": {
        "colab": {
          "base_uri": "https://localhost:8080/",
          "height": 315
        },
        "id": "0GTdDYxglBfs",
        "outputId": "f3765f58-47df-4f23-d566-76d187c26758"
      },
      "source": [
        "plot_loss_curves(history_6)"
      ],
      "execution_count": 245,
      "outputs": [
        {
          "output_type": "display_data",
          "data": {
            "image/png": "[encoded data removed]",
            "text/plain": [
              "<Figure size 432x288 with 1 Axes>"
            ]
          },
          "metadata": {
            "tags": [],
            "needs_background": "light"
          }
        }
      ]
    },
    {
      "cell_type": "code",
      "metadata": {
        "id": "tH-BdAq5zpJC"
      },
      "source": [
        "loaded_model  = load_model('time_series/' + model_6.name)\n",
        "\n",
        "pred = loaded_model.predict(scaled_test)"
      ],
      "execution_count": 246,
      "outputs": []
    },
    {
      "cell_type": "code",
      "metadata": {
        "id": "XsrcjWWozxhj"
      },
      "source": [
        "save_results(model_6.name, tf.squeeze(pred), tf.squeeze(scaled_labels_test))"
      ],
      "execution_count": 247,
      "outputs": []
    },
    {
      "cell_type": "code",
      "metadata": {
        "colab": {
          "base_uri": "https://localhost:8080/",
          "height": 374
        },
        "id": "WZAUs5RZ0Ar_",
        "outputId": "a02bf46e-9d36-4a8b-cfd8-0bcd4ba3a3bd"
      },
      "source": [
        "df_results"
      ],
      "execution_count": 248,
      "outputs": [
        {
          "output_type": "execute_result",
          "data": {
            "text/html": [
              "<div>\n",
              "<style scoped>\n",
              "    .dataframe tbody tr th:only-of-type {\n",
              "        vertical-align: middle;\n",
              "    }\n",
              "\n",
              "    .dataframe tbody tr th {\n",
              "        vertical-align: top;\n",
              "    }\n",
              "\n",
              "    .dataframe thead th {\n",
              "        text-align: right;\n",
              "    }\n",
              "</style>\n",
              "<table border=\"1\" class=\"dataframe\">\n",
              "  <thead>\n",
              "    <tr style=\"text-align: right;\">\n",
              "      <th></th>\n",
              "      <th>model</th>\n",
              "      <th>MAE</th>\n",
              "      <th>RMSE</th>\n",
              "      <th>MAPE</th>\n",
              "      <th>MASE</th>\n",
              "      <th>last_day_pred</th>\n",
              "      <th>last_day_real</th>\n",
              "    </tr>\n",
              "  </thead>\n",
              "  <tbody>\n",
              "    <tr>\n",
              "      <th>0</th>\n",
              "      <td>Base_naive</td>\n",
              "      <td>567</td>\n",
              "      <td>1071</td>\n",
              "      <td>2.52</td>\n",
              "      <td>0.999570</td>\n",
              "      <td>45604.615754</td>\n",
              "      <td>43144.471291</td>\n",
              "    </tr>\n",
              "    <tr>\n",
              "      <th>1</th>\n",
              "      <td>Model_1_Dense</td>\n",
              "      <td>568</td>\n",
              "      <td>1082</td>\n",
              "      <td>2.54</td>\n",
              "      <td>0.999490</td>\n",
              "      <td>45872.875000</td>\n",
              "      <td>43144.471291</td>\n",
              "    </tr>\n",
              "    <tr>\n",
              "      <th>2</th>\n",
              "      <td>Model_1_2_Dense</td>\n",
              "      <td>664</td>\n",
              "      <td>1232</td>\n",
              "      <td>3.06</td>\n",
              "      <td>1.167849</td>\n",
              "      <td>47401.125000</td>\n",
              "      <td>43144.471291</td>\n",
              "    </tr>\n",
              "    <tr>\n",
              "      <th>3</th>\n",
              "      <td>Model_2_Dense_W30</td>\n",
              "      <td>608</td>\n",
              "      <td>1132</td>\n",
              "      <td>2.77</td>\n",
              "      <td>1.064470</td>\n",
              "      <td>47168.992188</td>\n",
              "      <td>43144.471291</td>\n",
              "    </tr>\n",
              "    <tr>\n",
              "      <th>4</th>\n",
              "      <td>Model_3_Dense_W30_7</td>\n",
              "      <td>1788</td>\n",
              "      <td>3128</td>\n",
              "      <td>7.81</td>\n",
              "      <td>0.000000</td>\n",
              "      <td>55739.140625</td>\n",
              "      <td>43144.471291</td>\n",
              "    </tr>\n",
              "    <tr>\n",
              "      <th>5</th>\n",
              "      <td>Model_4_Conv1D</td>\n",
              "      <td>567</td>\n",
              "      <td>1082</td>\n",
              "      <td>2.54</td>\n",
              "      <td>0.996957</td>\n",
              "      <td>46118.046875</td>\n",
              "      <td>43144.471291</td>\n",
              "    </tr>\n",
              "    <tr>\n",
              "      <th>6</th>\n",
              "      <td>Model_5_LSTM_DENSE</td>\n",
              "      <td>580</td>\n",
              "      <td>1098</td>\n",
              "      <td>2.61</td>\n",
              "      <td>1.019204</td>\n",
              "      <td>46292.511719</td>\n",
              "      <td>43144.471291</td>\n",
              "    </tr>\n",
              "    <tr>\n",
              "      <th>7</th>\n",
              "      <td>Model_1_3_Dense</td>\n",
              "      <td>567</td>\n",
              "      <td>1081</td>\n",
              "      <td>2.53</td>\n",
              "      <td>0.996671</td>\n",
              "      <td>45936.589844</td>\n",
              "      <td>43144.472656</td>\n",
              "    </tr>\n",
              "    <tr>\n",
              "      <th>8</th>\n",
              "      <td>Model_1_3_Dense</td>\n",
              "      <td>567</td>\n",
              "      <td>1081</td>\n",
              "      <td>2.53</td>\n",
              "      <td>0.996671</td>\n",
              "      <td>45936.589844</td>\n",
              "      <td>43144.472656</td>\n",
              "    </tr>\n",
              "    <tr>\n",
              "      <th>9</th>\n",
              "      <td>Model_6_Dense</td>\n",
              "      <td>567</td>\n",
              "      <td>1081</td>\n",
              "      <td>2.53</td>\n",
              "      <td>0.996671</td>\n",
              "      <td>45936.589844</td>\n",
              "      <td>43144.472656</td>\n",
              "    </tr>\n",
              "  </tbody>\n",
              "</table>\n",
              "</div>"
            ],
            "text/plain": [
              "                 model   MAE  RMSE  ...      MASE  last_day_pred  last_day_real\n",
              "0           Base_naive   567  1071  ...  0.999570   45604.615754   43144.471291\n",
              "1        Model_1_Dense   568  1082  ...  0.999490   45872.875000   43144.471291\n",
              "2      Model_1_2_Dense   664  1232  ...  1.167849   47401.125000   43144.471291\n",
              "3    Model_2_Dense_W30   608  1132  ...  1.064470   47168.992188   43144.471291\n",
              "4  Model_3_Dense_W30_7  1788  3128  ...  0.000000   55739.140625   43144.471291\n",
              "5       Model_4_Conv1D   567  1082  ...  0.996957   46118.046875   43144.471291\n",
              "6   Model_5_LSTM_DENSE   580  1098  ...  1.019204   46292.511719   43144.471291\n",
              "7      Model_1_3_Dense   567  1081  ...  0.996671   45936.589844   43144.472656\n",
              "8      Model_1_3_Dense   567  1081  ...  0.996671   45936.589844   43144.472656\n",
              "9        Model_6_Dense   567  1081  ...  0.996671   45936.589844   43144.472656\n",
              "\n",
              "[10 rows x 7 columns]"
            ]
          },
          "metadata": {
            "tags": []
          },
          "execution_count": 248
        }
      ]
    },
    {
      "cell_type": "code",
      "metadata": {
        "id": "APbdfh8F06_x"
      },
      "source": [
        ""
      ],
      "execution_count": null,
      "outputs": []
    }
  ]
}